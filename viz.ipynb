{
 "cells": [
  {
   "cell_type": "code",
   "execution_count": 61,
   "metadata": {},
   "outputs": [
    {
     "data": {
      "text/html": [
       "<div>\n",
       "<style scoped>\n",
       "    .dataframe tbody tr th:only-of-type {\n",
       "        vertical-align: middle;\n",
       "    }\n",
       "\n",
       "    .dataframe tbody tr th {\n",
       "        vertical-align: top;\n",
       "    }\n",
       "\n",
       "    .dataframe thead th {\n",
       "        text-align: right;\n",
       "    }\n",
       "</style>\n",
       "<table border=\"1\" class=\"dataframe\">\n",
       "  <thead>\n",
       "    <tr style=\"text-align: right;\">\n",
       "      <th></th>\n",
       "      <th>win_pct</th>\n",
       "      <th>place</th>\n",
       "      <th>sport</th>\n",
       "      <th>team_name</th>\n",
       "      <th>area</th>\n",
       "      <th>year</th>\n",
       "      <th>n_teams</th>\n",
       "    </tr>\n",
       "  </thead>\n",
       "  <tbody>\n",
       "    <tr>\n",
       "      <th>0</th>\n",
       "      <td>0.00</td>\n",
       "      <td>Columbus</td>\n",
       "      <td>NFL</td>\n",
       "      <td>Columbus Tigers</td>\n",
       "      <td>Ohio</td>\n",
       "      <td>1922</td>\n",
       "      <td>1</td>\n",
       "    </tr>\n",
       "    <tr>\n",
       "      <th>1</th>\n",
       "      <td>0.00</td>\n",
       "      <td>Evansville</td>\n",
       "      <td>NFL</td>\n",
       "      <td>Evansville Crimson Giants</td>\n",
       "      <td>Chicago</td>\n",
       "      <td>1922</td>\n",
       "      <td>1</td>\n",
       "    </tr>\n",
       "    <tr>\n",
       "      <th>2</th>\n",
       "      <td>0.00</td>\n",
       "      <td>Hammond</td>\n",
       "      <td>NFL</td>\n",
       "      <td>Hammond Pros</td>\n",
       "      <td>Ohio</td>\n",
       "      <td>1922</td>\n",
       "      <td>1</td>\n",
       "    </tr>\n",
       "    <tr>\n",
       "      <th>3</th>\n",
       "      <td>0.00</td>\n",
       "      <td>Rochester</td>\n",
       "      <td>NFL</td>\n",
       "      <td>Rochester Jeffersons</td>\n",
       "      <td>New York</td>\n",
       "      <td>1922</td>\n",
       "      <td>1</td>\n",
       "    </tr>\n",
       "    <tr>\n",
       "      <th>4</th>\n",
       "      <td>0.25</td>\n",
       "      <td>Louisville</td>\n",
       "      <td>NFL</td>\n",
       "      <td>Louisville Colonels</td>\n",
       "      <td>Louisville</td>\n",
       "      <td>1922</td>\n",
       "      <td>1</td>\n",
       "    </tr>\n",
       "  </tbody>\n",
       "</table>\n",
       "</div>"
      ],
      "text/plain": [
       "   win_pct       place sport                  team_name        area  year  \\\n",
       "0     0.00    Columbus   NFL            Columbus Tigers        Ohio  1922   \n",
       "1     0.00  Evansville   NFL  Evansville Crimson Giants     Chicago  1922   \n",
       "2     0.00     Hammond   NFL               Hammond Pros        Ohio  1922   \n",
       "3     0.00   Rochester   NFL       Rochester Jeffersons    New York  1922   \n",
       "4     0.25  Louisville   NFL        Louisville Colonels  Louisville  1922   \n",
       "\n",
       "   n_teams  \n",
       "0        1  \n",
       "1        1  \n",
       "2        1  \n",
       "3        1  \n",
       "4        1  "
      ]
     },
     "execution_count": 61,
     "metadata": {},
     "output_type": "execute_result"
    }
   ],
   "source": [
    "import pandas as pd\n",
    "import numpy as np\n",
    "import matplotlib.pyplot as plt\n",
    "from constants import city_list, nba_teams\n",
    "import preprocessing\n",
    "import plotly.express as px \n",
    "import plotly.graph_objects as go\n",
    "import plotly.io as pio\n",
    "pio.templates.default = \"plotly_dark\"\n",
    "output_dir = \"/Users/joeschlessinger/Documents/jschless.github.io/_includes/assets/conservationofwins\"\n",
    "import os\n",
    "df = preprocessing.preprocess()\n",
    "df = df.query('year < 2021')\n",
    "df.head()"
   ]
  },
  {
   "cell_type": "markdown",
   "metadata": {},
   "source": [
    "## Chicago Case Study"
   ]
  },
  {
   "cell_type": "code",
   "execution_count": 62,
   "metadata": {},
   "outputs": [
    {
     "data": {
      "application/vnd.plotly.v1+json": {
       "config": {
        "plotlyServerURL": "https://plot.ly"
       },
       "data": [
        {
         "hovertemplate": "<br><b>Year</b>: %{x}<br><b>Winning Pct.</b>: %{y:.2f}<br>%{text}<extra></extra>",
         "text": [
          "Chicago White Sox: 0.402<br>Chicago Cubs: 0.418<br>",
          "Evansville Crimson Giants: 0.0<br>Rock Island Independents: 0.667<br>Kenosha Maroons: 0.714<br>Chicago Bears: 0.75<br>Chicago White Sox: 0.5<br>Chicago Cubs: 0.519<br>",
          "Rock Island Independents: 0.4<br>Kenosha Maroons: 0.5<br>Chicago Bears: 0.818<br>Chicago White Sox: 0.448<br>Chicago Cubs: 0.538<br>",
          "Kenosha Maroons: 0.0<br>Rock Island Independents: 0.714<br>Chicago Bears: 0.857<br>Chicago White Sox: 0.431<br>Chicago Cubs: 0.529<br>",
          "Rock Island Independents: 0.625<br>Chicago Bears: 0.818<br>Chicago White Sox: 0.512<br>Chicago Cubs: 0.441<br>",
          "Chicago Bears: 1.0<br>Chicago White Sox: 0.529<br>Chicago Cubs: 0.532<br>",
          "Chicago Bears: 0.778<br>Chicago White Sox: 0.457<br>Chicago Cubs: 0.555<br>",
          "Chicago Bears: 0.583<br>Chicago White Sox: 0.467<br>Chicago Cubs: 0.590<br>",
          "Chicago Bears: 0.4<br>Chicago White Sox: 0.388<br>Chicago Cubs: 0.644<br>",
          "Chicago Bears: 0.556<br>Chicago White Sox: 0.402<br>Chicago Cubs: 0.584<br>",
          "Chicago Bears: 0.667<br>Chicago White Sox: 0.366<br>Chicago Cubs: 0.545<br>",
          "Chicago Bears: 0.875<br>Chicago White Sox: 0.324<br>Chicago Cubs: 0.584<br>",
          "Chicago Bears: 0.833<br>Chicago White Sox: 0.446<br>Chicago Cubs: 0.558<br>",
          "Chicago Bears: 1.0<br>Chicago White Sox: 0.348<br>Chicago Cubs: 0.569<br>",
          "Chicago Bears: 0.6<br>Chicago White Sox: 0.486<br>Chicago Cubs: 0.649<br>",
          "Chicago Bears: 0.75<br>Chicago White Sox: 0.536<br>Chicago Cubs: 0.564<br>",
          "Chicago Bears: 0.9<br>Chicago White Sox: 0.558<br>Chicago Cubs: 0.603<br>",
          "Chicago Bears: 0.545<br>Chicago White Sox: 0.439<br>Chicago Cubs: 0.585<br>",
          "Chicago Bears: 0.727<br>Chicago White Sox: 0.551<br>Chicago Cubs: 0.545<br>",
          "Chicago Bears: 0.727<br>Chicago White Sox: 0.532<br>Chicago Cubs: 0.487<br>",
          "Chicago Bears: 0.909<br>Chicago White Sox: 0.5<br>Chicago Cubs: 0.454<br>",
          "Chicago Bears: 1.0<br>Chicago White Sox: 0.445<br>Chicago Cubs: 0.441<br>",
          "Chicago Bears: 0.889<br>Chicago White Sox: 0.532<br>Chicago Cubs: 0.483<br>",
          "Chicago Bears: 0.667<br>Chicago White Sox: 0.461<br>Chicago Cubs: 0.487<br>",
          "Chicago Bears: 0.3<br>Chicago White Sox: 0.476<br>Chicago Cubs: 0.636<br>",
          "Chicago Hornets: 0.0<br>Chicago Bears: 0.8<br>Chicago White Sox: 0.480<br>Chicago Cubs: 0.535<br>",
          "Chicago Hornets: 0.0<br>Chicago Bears: 0.667<br>Chicago White Sox: 0.454<br>Chicago Cubs: 0.448<br>",
          "Chicago Hornets: 0.0<br>Chicago Bears: 0.833<br>Chicago White Sox: 0.335<br>Chicago Cubs: 0.415<br>",
          "Chicago Hornets: 0.0<br>Chicago Bears: 0.75<br>Chicago White Sox: 0.409<br>Chicago Cubs: 0.396<br>",
          "Chicago Bears: 0.75<br>Chicago White Sox: 0.389<br>Chicago Cubs: 0.418<br>Chicago Blackhawks: 0.314<br>",
          "Chicago Bears: 0.583<br>Chicago White Sox: 0.525<br>Chicago Cubs: 0.402<br>Chicago Blackhawks: 0.185<br>",
          "Chicago Bears: 0.417<br>Chicago White Sox: 0.525<br>Chicago Cubs: 0.5<br>Chicago Blackhawks: 0.242<br>",
          "Chicago Bears: 0.273<br>Chicago White Sox: 0.577<br>Chicago Cubs: 0.422<br>Chicago Blackhawks: 0.385<br>",
          "Chicago Bears: 0.667<br>Chicago White Sox: 0.610<br>Chicago Cubs: 0.415<br>Chicago Blackhawks: 0.171<br>",
          "Chicago Bears: 0.667<br>Chicago White Sox: 0.590<br>Chicago Cubs: 0.470<br>Chicago Blackhawks: 0.185<br>",
          "Chicago Bears: 0.818<br>Chicago White Sox: 0.551<br>Chicago Cubs: 0.389<br>Chicago Blackhawks: 0.271<br>",
          "Chicago Bears: 0.417<br>Chicago White Sox: 0.584<br>Chicago Cubs: 0.402<br>Chicago Blackhawks: 0.228<br>",
          "Chicago Bears: 0.667<br>Chicago White Sox: 0.532<br>Chicago Cubs: 0.467<br>Chicago Blackhawks: 0.342<br>",
          "Chicago Bears: 0.667<br>Chicago White Sox: 0.610<br>Chicago Cubs: 0.480<br>Chicago Blackhawks: 0.4<br>",
          "Chicago Bears: 0.455<br>Chicago White Sox: 0.564<br>Chicago Cubs: 0.389<br>Chicago Blackhawks: 0.4<br>",
          "Chicago Bears: 0.571<br>Chicago White Sox: 0.530<br>Chicago Cubs: 0.415<br>Chicago Packers: 0.225<br>Chicago Blackhawks: 0.414<br>",
          "Chicago Bears: 0.643<br>Chicago White Sox: 0.524<br>Chicago Cubs: 0.364<br>Chicago Zephyrs: 0.313<br>Chicago Blackhawks: 0.442<br>",
          "Chicago Bears: 0.917<br>Chicago White Sox: 0.580<br>Chicago Cubs: 0.506<br>Chicago Blackhawks: 0.457<br>",
          "Chicago Bears: 0.357<br>Chicago White Sox: 0.604<br>Chicago Cubs: 0.469<br>Chicago Blackhawks: 0.514<br>",
          "Chicago Bears: 0.643<br>Chicago White Sox: 0.586<br>Chicago Cubs: 0.444<br>Chicago Blackhawks: 0.485<br>",
          "Chicago Bears: 0.417<br>Chicago White Sox: 0.512<br>Chicago Cubs: 0.364<br>Chicago Bulls: 0.407<br>Chicago Blackhawks: 0.528<br>",
          "Chicago Bears: 0.538<br>Chicago White Sox: 0.549<br>Chicago Cubs: 0.540<br>Chicago Bulls: 0.354<br>Chicago Blackhawks: 0.585<br>",
          "Chicago Bears: 0.5<br>Chicago White Sox: 0.413<br>Chicago Cubs: 0.518<br>Chicago Bulls: 0.402<br>Chicago Blackhawks: 0.432<br>",
          "Chicago Bears: 0.071<br>Chicago White Sox: 0.419<br>Chicago Cubs: 0.567<br>Chicago Bulls: 0.476<br>Chicago Blackhawks: 0.447<br>",
          "Chicago Bears: 0.429<br>Chicago White Sox: 0.345<br>Chicago Cubs: 0.518<br>Chicago Bulls: 0.622<br>Chicago Blackhawks: 0.592<br>",
          "Chicago Bears: 0.429<br>Chicago White Sox: 0.487<br>Chicago Cubs: 0.512<br>Chicago Bulls: 0.695<br>Chicago Blackhawks: 0.628<br>",
          "Chicago Bears: 0.321<br>Chicago White Sox: 0.564<br>Chicago Cubs: 0.548<br>Chicago Bulls: 0.622<br>Chicago Blackhawks: 0.589<br>",
          "Chicago Bears: 0.214<br>Chicago White Sox: 0.475<br>Chicago Cubs: 0.478<br>Chicago Bulls: 0.659<br>Chicago Blackhawks: 0.538<br>",
          "Chicago Bears: 0.286<br>Chicago White Sox: 0.5<br>Chicago Cubs: 0.407<br>Chicago Bulls: 0.573<br>Chicago Blackhawks: 0.525<br>",
          "Chicago Bears: 0.286<br>Chicago White Sox: 0.465<br>Chicago Cubs: 0.462<br>Chicago Bulls: 0.293<br>Chicago Blackhawks: 0.462<br>",
          "Chicago Bears: 0.5<br>Chicago White Sox: 0.397<br>Chicago Cubs: 0.462<br>Chicago Bulls: 0.537<br>Chicago Blackhawks: 0.4<br>",
          "Chicago Bears: 0.643<br>Chicago White Sox: 0.555<br>Chicago Cubs: 0.5<br>Chicago Bulls: 0.488<br>Chicago Blackhawks: 0.325<br>",
          "Chicago Bears: 0.438<br>Chicago White Sox: 0.440<br>Chicago Cubs: 0.487<br>Chicago Bulls: 0.378<br>Chicago Blackhawks: 0.4<br>",
          "Chicago Bears: 0.625<br>Chicago White Sox: 0.456<br>Chicago Cubs: 0.493<br>Chicago Bulls: 0.366<br>Chicago Blackhawks: 0.362<br>",
          "Chicago Bears: 0.438<br>Chicago White Sox: 0.437<br>Chicago Cubs: 0.395<br>Chicago Bulls: 0.549<br>Chicago Blackhawks: 0.425<br>",
          "Chicago Bears: 0.375<br>Chicago White Sox: 0.509<br>Chicago Cubs: 0.368<br>Chicago Bulls: 0.415<br>Chicago Blackhawks: 0.387<br>",
          "Chicago Bears: 0.333<br>Chicago White Sox: 0.537<br>Chicago Cubs: 0.450<br>Chicago Bulls: 0.341<br>Chicago Blackhawks: 0.375<br>",
          "Chicago Bears: 0.5<br>Chicago White Sox: 0.611<br>Chicago Cubs: 0.438<br>Chicago Bulls: 0.329<br>Chicago Blackhawks: 0.587<br>",
          "Chicago Bears: 0.625<br>Chicago White Sox: 0.456<br>Chicago Cubs: 0.596<br>Chicago Bulls: 0.463<br>Chicago Blackhawks: 0.375<br>",
          "Chicago Bears: 0.938<br>Chicago White Sox: 0.524<br>Chicago Cubs: 0.478<br>Chicago Bulls: 0.366<br>Chicago Blackhawks: 0.475<br>",
          "Chicago Bears: 0.875<br>Chicago White Sox: 0.444<br>Chicago Cubs: 0.437<br>Chicago Bulls: 0.488<br>Chicago Blackhawks: 0.487<br>",
          "Chicago Bears: 0.733<br>Chicago White Sox: 0.475<br>Chicago Cubs: 0.472<br>Chicago Bulls: 0.61<br>Chicago Blackhawks: 0.362<br>",
          "Chicago Bears: 0.75<br>Chicago White Sox: 0.440<br>Chicago Cubs: 0.475<br>Chicago Bulls: 0.573<br>Chicago Blackhawks: 0.375<br>",
          "Chicago Bears: 0.375<br>Chicago White Sox: 0.428<br>Chicago Cubs: 0.574<br>Chicago Bulls: 0.671<br>Chicago Blackhawks: 0.337<br>",
          "Chicago Bears: 0.688<br>Chicago White Sox: 0.580<br>Chicago Cubs: 0.475<br>Chicago Bulls: 0.744<br>Chicago Blackhawks: 0.512<br>",
          "Chicago Bears: 0.688<br>Chicago White Sox: 0.537<br>Chicago Cubs: 0.481<br>Chicago Bulls: 0.817<br>Chicago Blackhawks: 0.612<br>",
          "Chicago Bears: 0.313<br>Chicago White Sox: 0.530<br>Chicago Cubs: 0.481<br>Chicago Bulls: 0.695<br>Chicago Blackhawks: 0.45<br>",
          "Chicago Bears: 0.438<br>Chicago White Sox: 0.580<br>Chicago Cubs: 0.518<br>Chicago Bulls: 0.671<br>Chicago Blackhawks: 0.559<br>",
          "Chicago Bears: 0.563<br>Chicago White Sox: 0.592<br>Chicago Cubs: 0.433<br>Chicago Bulls: 0.573<br>Chicago Blackhawks: 0.464<br>",
          "Chicago Bears: 0.563<br>Chicago White Sox: 0.472<br>Chicago Cubs: 0.506<br>Chicago Bulls: 0.878<br>Chicago Blackhawks: 0.5<br>",
          "Chicago Bears: 0.438<br>Chicago White Sox: 0.524<br>Chicago Cubs: 0.469<br>Chicago Bulls: 0.841<br>Chicago Blackhawks: 0.487<br>",
          "Chicago Bears: 0.25<br>Chicago White Sox: 0.496<br>Chicago Cubs: 0.419<br>Chicago Bulls: 0.756<br>Chicago Blackhawks: 0.414<br>",
          "Chicago Bears: 0.25<br>Chicago White Sox: 0.493<br>Chicago Cubs: 0.552<br>Chicago Bulls: 0.26<br>Chicago Blackhawks: 0.365<br>",
          "Chicago Bears: 0.375<br>Chicago White Sox: 0.465<br>Chicago Cubs: 0.413<br>Chicago Bulls: 0.207<br>Chicago Blackhawks: 0.353<br>",
          "Chicago Bears: 0.313<br>Chicago White Sox: 0.586<br>Chicago Cubs: 0.401<br>Chicago Bulls: 0.183<br>Chicago Blackhawks: 0.402<br>",
          "Chicago Bears: 0.813<br>Chicago White Sox: 0.512<br>Chicago Cubs: 0.543<br>Chicago Bulls: 0.256<br>Chicago Blackhawks: 0.353<br>",
          "Chicago Bears: 0.25<br>Chicago White Sox: 0.5<br>Chicago Cubs: 0.413<br>Chicago Bulls: 0.366<br>Chicago Blackhawks: 0.5<br>",
          "Chicago Bears: 0.438<br>Chicago White Sox: 0.530<br>Chicago Cubs: 0.543<br>Chicago Bulls: 0.28<br>Chicago Blackhawks: 0.365<br>",
          "Chicago Bears: 0.313<br>Chicago White Sox: 0.512<br>Chicago Cubs: 0.549<br>Chicago Bulls: 0.573<br>Chicago Blackhawks: 0.243<br>",
          "Chicago Bears: 0.688<br>Chicago White Sox: 0.611<br>Chicago Cubs: 0.487<br>Chicago Bulls: 0.5<br>",
          "Chicago Bears: 0.813<br>Chicago White Sox: 0.555<br>Chicago Cubs: 0.407<br>Chicago Bulls: 0.598<br>Chicago Blackhawks: 0.317<br>",
          "Chicago Bears: 0.438<br>Chicago White Sox: 0.444<br>Chicago Cubs: 0.524<br>Chicago Bulls: 0.402<br>Chicago Blackhawks: 0.378<br>",
          "Chicago Bears: 0.563<br>Chicago White Sox: 0.546<br>Chicago Cubs: 0.602<br>Chicago Bulls: 0.5<br>Chicago Blackhawks: 0.487<br>",
          "Chicago Bears: 0.438<br>Chicago White Sox: 0.487<br>Chicago Cubs: 0.515<br>Chicago Bulls: 0.5<br>Chicago Blackhawks: 0.560<br>",
          "Chicago Bears: 0.688<br>Chicago White Sox: 0.543<br>Chicago Cubs: 0.462<br>Chicago Bulls: 0.756<br>Chicago Blackhawks: 0.634<br>",
          "Chicago Bears: 0.5<br>Chicago White Sox: 0.487<br>Chicago Cubs: 0.438<br>Chicago Bulls: 0.758<br>Chicago Blackhawks: 0.536<br>",
          "Chicago Bears: 0.625<br>Chicago White Sox: 0.524<br>Chicago Cubs: 0.376<br>Chicago Bulls: 0.549<br>Chicago Blackhawks: 0.548<br>",
          "Chicago Bears: 0.5<br>Chicago White Sox: 0.388<br>Chicago Cubs: 0.407<br>Chicago Bulls: 0.585<br>Chicago Blackhawks: 0.75<br>",
          "Chicago Bears: 0.313<br>Chicago White Sox: 0.450<br>Chicago Cubs: 0.450<br>Chicago Bulls: 0.61<br>Chicago Blackhawks: 0.560<br>",
          "Chicago Bears: 0.375<br>Chicago White Sox: 0.469<br>Chicago Cubs: 0.598<br>Chicago Bulls: 0.512<br>Chicago Blackhawks: 0.585<br>",
          "Chicago Bears: 0.188<br>Chicago White Sox: 0.481<br>Chicago Cubs: 0.639<br>Chicago Bulls: 0.477<br>Chicago Blackhawks: 0.573<br>",
          "Chicago Bears: 0.313<br>Chicago White Sox: 0.413<br>Chicago Cubs: 0.567<br>Chicago Blackhawks: 0.609<br>",
          "Chicago Bears: 0.75<br>Chicago White Sox: 0.382<br>Chicago Cubs: 0.582<br>Chicago Blackhawks: 0.402<br>",
          "Chicago Bears: 0.5<br>Chicago White Sox: 0.447<br>Chicago Cubs: 0.518<br>Chicago Blackhawks: 0.439<br>",
          "Chicago Bears: 0.5<br>Chicago White Sox: 0.583<br>Chicago Cubs: 0.566<br>Chicago Blackhawks: 0.457<br>"
         ],
         "type": "scatter",
         "x": [
          1921,
          1922,
          1923,
          1924,
          1925,
          1926,
          1927,
          1928,
          1929,
          1930,
          1931,
          1932,
          1933,
          1934,
          1935,
          1936,
          1937,
          1938,
          1939,
          1940,
          1941,
          1942,
          1943,
          1944,
          1945,
          1946,
          1947,
          1948,
          1949,
          1950,
          1951,
          1952,
          1953,
          1954,
          1955,
          1956,
          1957,
          1958,
          1959,
          1960,
          1961,
          1962,
          1963,
          1964,
          1965,
          1966,
          1967,
          1968,
          1969,
          1970,
          1971,
          1972,
          1973,
          1974,
          1975,
          1976,
          1977,
          1978,
          1979,
          1980,
          1981,
          1982,
          1983,
          1984,
          1985,
          1986,
          1987,
          1988,
          1989,
          1990,
          1991,
          1992,
          1993,
          1994,
          1995,
          1996,
          1997,
          1998,
          1999,
          2000,
          2001,
          2002,
          2003,
          2004,
          2005,
          2006,
          2007,
          2008,
          2009,
          2010,
          2011,
          2012,
          2013,
          2014,
          2015,
          2016,
          2017,
          2018,
          2019,
          2020
         ],
         "y": [
          0.41044902809608697,
          0.5250800865800865,
          0.5410025974025974,
          0.5063568627450981,
          0.5993863636363637,
          0.687293099057805,
          0.5970239651416122,
          0.5471471861471862,
          0.4776315789473684,
          0.5143376623376623,
          0.5261558724499901,
          0.5946396318912875,
          0.6127027417027416,
          0.6394068781224584,
          0.5787309182046024,
          0.6171196353315559,
          0.6874458874458874,
          0.5232385016595543,
          0.6081341991341991,
          0.5821601731601732,
          0.6211818181818182,
          0.6291681291681291,
          0.6350425543954955,
          0.5383506493506494,
          0.47095790115924346,
          0.4541167982344453,
          0.39239935064935066,
          0.39602768284347234,
          0.3887987012987013,
          0.4680491893727188,
          0.42432142857142857,
          0.4214577922077922,
          0.41467857142857145,
          0.4661006493506494,
          0.4785529029793736,
          0.5077467532467532,
          0.4081461038961039,
          0.5024642857142857,
          0.5394772727272727,
          0.45238636363636364,
          0.4313468654801988,
          0.45754920634920637,
          0.6151406525573192,
          0.4863399470899471,
          0.5398946208112875,
          0.44582292768959436,
          0.5134939345142244,
          0.4533062395729062,
          0.39640454840805717,
          0.5014605588044184,
          0.5504410256410257,
          0.5292131502905696,
          0.4730062100004129,
          0.4584096866096866,
          0.39406029445594665,
          0.4594956981826547,
          0.5023111111111112,
          0.4289296219615061,
          0.46071543209876537,
          0.44891234567901234,
          0.4111732002198205,
          0.40733086419753084,
          0.4931765432098766,
          0.5032126830764512,
          0.5563904455179818,
          0.5464888888888889,
          0.5305716662832605,
          0.5228604861590369,
          0.4772291005291005,
          0.600011111111111,
          0.6271574074074074,
          0.4940691358024691,
          0.5534578483245151,
          0.5253668773704172,
          0.5840333333333334,
          0.5521264077085215,
          0.4674563285398209,
          0.38436561165884325,
          0.3630154585631432,
          0.37721866907557966,
          0.4956428184281843,
          0.4059160493827161,
          0.4315855465221318,
          0.4383261668172237,
          0.5716913580246914,
          0.538207226738934,
          0.43743691659138817,
          0.539860324007424,
          0.5004315762108622,
          0.6168638361939175,
          0.544102258355917,
          0.5248030111412225,
          0.5262592592592592,
          0.47704203553146646,
          0.5080534176452876,
          0.4718807531967659,
          0.47605939476061426,
          0.5294942899156326,
          0.4761869694266301,
          0.5267857142857143
         ]
        }
       ],
       "layout": {
        "shapes": [
         {
          "line": {
           "color": "white",
           "dash": "dash",
           "width": 1
          },
          "type": "line",
          "x0": 0,
          "x1": 1,
          "xref": "x domain",
          "y0": 0.5,
          "y1": 0.5,
          "yref": "y"
         }
        ],
        "template": {
         "data": {
          "bar": [
           {
            "error_x": {
             "color": "#f2f5fa"
            },
            "error_y": {
             "color": "#f2f5fa"
            },
            "marker": {
             "line": {
              "color": "rgb(17,17,17)",
              "width": 0.5
             },
             "pattern": {
              "fillmode": "overlay",
              "size": 10,
              "solidity": 0.2
             }
            },
            "type": "bar"
           }
          ],
          "barpolar": [
           {
            "marker": {
             "line": {
              "color": "rgb(17,17,17)",
              "width": 0.5
             },
             "pattern": {
              "fillmode": "overlay",
              "size": 10,
              "solidity": 0.2
             }
            },
            "type": "barpolar"
           }
          ],
          "carpet": [
           {
            "aaxis": {
             "endlinecolor": "#A2B1C6",
             "gridcolor": "#506784",
             "linecolor": "#506784",
             "minorgridcolor": "#506784",
             "startlinecolor": "#A2B1C6"
            },
            "baxis": {
             "endlinecolor": "#A2B1C6",
             "gridcolor": "#506784",
             "linecolor": "#506784",
             "minorgridcolor": "#506784",
             "startlinecolor": "#A2B1C6"
            },
            "type": "carpet"
           }
          ],
          "choropleth": [
           {
            "colorbar": {
             "outlinewidth": 0,
             "ticks": ""
            },
            "type": "choropleth"
           }
          ],
          "contour": [
           {
            "colorbar": {
             "outlinewidth": 0,
             "ticks": ""
            },
            "colorscale": [
             [
              0,
              "#0d0887"
             ],
             [
              0.1111111111111111,
              "#46039f"
             ],
             [
              0.2222222222222222,
              "#7201a8"
             ],
             [
              0.3333333333333333,
              "#9c179e"
             ],
             [
              0.4444444444444444,
              "#bd3786"
             ],
             [
              0.5555555555555556,
              "#d8576b"
             ],
             [
              0.6666666666666666,
              "#ed7953"
             ],
             [
              0.7777777777777778,
              "#fb9f3a"
             ],
             [
              0.8888888888888888,
              "#fdca26"
             ],
             [
              1,
              "#f0f921"
             ]
            ],
            "type": "contour"
           }
          ],
          "contourcarpet": [
           {
            "colorbar": {
             "outlinewidth": 0,
             "ticks": ""
            },
            "type": "contourcarpet"
           }
          ],
          "heatmap": [
           {
            "colorbar": {
             "outlinewidth": 0,
             "ticks": ""
            },
            "colorscale": [
             [
              0,
              "#0d0887"
             ],
             [
              0.1111111111111111,
              "#46039f"
             ],
             [
              0.2222222222222222,
              "#7201a8"
             ],
             [
              0.3333333333333333,
              "#9c179e"
             ],
             [
              0.4444444444444444,
              "#bd3786"
             ],
             [
              0.5555555555555556,
              "#d8576b"
             ],
             [
              0.6666666666666666,
              "#ed7953"
             ],
             [
              0.7777777777777778,
              "#fb9f3a"
             ],
             [
              0.8888888888888888,
              "#fdca26"
             ],
             [
              1,
              "#f0f921"
             ]
            ],
            "type": "heatmap"
           }
          ],
          "heatmapgl": [
           {
            "colorbar": {
             "outlinewidth": 0,
             "ticks": ""
            },
            "colorscale": [
             [
              0,
              "#0d0887"
             ],
             [
              0.1111111111111111,
              "#46039f"
             ],
             [
              0.2222222222222222,
              "#7201a8"
             ],
             [
              0.3333333333333333,
              "#9c179e"
             ],
             [
              0.4444444444444444,
              "#bd3786"
             ],
             [
              0.5555555555555556,
              "#d8576b"
             ],
             [
              0.6666666666666666,
              "#ed7953"
             ],
             [
              0.7777777777777778,
              "#fb9f3a"
             ],
             [
              0.8888888888888888,
              "#fdca26"
             ],
             [
              1,
              "#f0f921"
             ]
            ],
            "type": "heatmapgl"
           }
          ],
          "histogram": [
           {
            "marker": {
             "pattern": {
              "fillmode": "overlay",
              "size": 10,
              "solidity": 0.2
             }
            },
            "type": "histogram"
           }
          ],
          "histogram2d": [
           {
            "colorbar": {
             "outlinewidth": 0,
             "ticks": ""
            },
            "colorscale": [
             [
              0,
              "#0d0887"
             ],
             [
              0.1111111111111111,
              "#46039f"
             ],
             [
              0.2222222222222222,
              "#7201a8"
             ],
             [
              0.3333333333333333,
              "#9c179e"
             ],
             [
              0.4444444444444444,
              "#bd3786"
             ],
             [
              0.5555555555555556,
              "#d8576b"
             ],
             [
              0.6666666666666666,
              "#ed7953"
             ],
             [
              0.7777777777777778,
              "#fb9f3a"
             ],
             [
              0.8888888888888888,
              "#fdca26"
             ],
             [
              1,
              "#f0f921"
             ]
            ],
            "type": "histogram2d"
           }
          ],
          "histogram2dcontour": [
           {
            "colorbar": {
             "outlinewidth": 0,
             "ticks": ""
            },
            "colorscale": [
             [
              0,
              "#0d0887"
             ],
             [
              0.1111111111111111,
              "#46039f"
             ],
             [
              0.2222222222222222,
              "#7201a8"
             ],
             [
              0.3333333333333333,
              "#9c179e"
             ],
             [
              0.4444444444444444,
              "#bd3786"
             ],
             [
              0.5555555555555556,
              "#d8576b"
             ],
             [
              0.6666666666666666,
              "#ed7953"
             ],
             [
              0.7777777777777778,
              "#fb9f3a"
             ],
             [
              0.8888888888888888,
              "#fdca26"
             ],
             [
              1,
              "#f0f921"
             ]
            ],
            "type": "histogram2dcontour"
           }
          ],
          "mesh3d": [
           {
            "colorbar": {
             "outlinewidth": 0,
             "ticks": ""
            },
            "type": "mesh3d"
           }
          ],
          "parcoords": [
           {
            "line": {
             "colorbar": {
              "outlinewidth": 0,
              "ticks": ""
             }
            },
            "type": "parcoords"
           }
          ],
          "pie": [
           {
            "automargin": true,
            "type": "pie"
           }
          ],
          "scatter": [
           {
            "marker": {
             "line": {
              "color": "#283442"
             }
            },
            "type": "scatter"
           }
          ],
          "scatter3d": [
           {
            "line": {
             "colorbar": {
              "outlinewidth": 0,
              "ticks": ""
             }
            },
            "marker": {
             "colorbar": {
              "outlinewidth": 0,
              "ticks": ""
             }
            },
            "type": "scatter3d"
           }
          ],
          "scattercarpet": [
           {
            "marker": {
             "colorbar": {
              "outlinewidth": 0,
              "ticks": ""
             }
            },
            "type": "scattercarpet"
           }
          ],
          "scattergeo": [
           {
            "marker": {
             "colorbar": {
              "outlinewidth": 0,
              "ticks": ""
             }
            },
            "type": "scattergeo"
           }
          ],
          "scattergl": [
           {
            "marker": {
             "line": {
              "color": "#283442"
             }
            },
            "type": "scattergl"
           }
          ],
          "scattermapbox": [
           {
            "marker": {
             "colorbar": {
              "outlinewidth": 0,
              "ticks": ""
             }
            },
            "type": "scattermapbox"
           }
          ],
          "scatterpolar": [
           {
            "marker": {
             "colorbar": {
              "outlinewidth": 0,
              "ticks": ""
             }
            },
            "type": "scatterpolar"
           }
          ],
          "scatterpolargl": [
           {
            "marker": {
             "colorbar": {
              "outlinewidth": 0,
              "ticks": ""
             }
            },
            "type": "scatterpolargl"
           }
          ],
          "scatterternary": [
           {
            "marker": {
             "colorbar": {
              "outlinewidth": 0,
              "ticks": ""
             }
            },
            "type": "scatterternary"
           }
          ],
          "surface": [
           {
            "colorbar": {
             "outlinewidth": 0,
             "ticks": ""
            },
            "colorscale": [
             [
              0,
              "#0d0887"
             ],
             [
              0.1111111111111111,
              "#46039f"
             ],
             [
              0.2222222222222222,
              "#7201a8"
             ],
             [
              0.3333333333333333,
              "#9c179e"
             ],
             [
              0.4444444444444444,
              "#bd3786"
             ],
             [
              0.5555555555555556,
              "#d8576b"
             ],
             [
              0.6666666666666666,
              "#ed7953"
             ],
             [
              0.7777777777777778,
              "#fb9f3a"
             ],
             [
              0.8888888888888888,
              "#fdca26"
             ],
             [
              1,
              "#f0f921"
             ]
            ],
            "type": "surface"
           }
          ],
          "table": [
           {
            "cells": {
             "fill": {
              "color": "#506784"
             },
             "line": {
              "color": "rgb(17,17,17)"
             }
            },
            "header": {
             "fill": {
              "color": "#2a3f5f"
             },
             "line": {
              "color": "rgb(17,17,17)"
             }
            },
            "type": "table"
           }
          ]
         },
         "layout": {
          "annotationdefaults": {
           "arrowcolor": "#f2f5fa",
           "arrowhead": 0,
           "arrowwidth": 1
          },
          "autotypenumbers": "strict",
          "coloraxis": {
           "colorbar": {
            "outlinewidth": 0,
            "ticks": ""
           }
          },
          "colorscale": {
           "diverging": [
            [
             0,
             "#8e0152"
            ],
            [
             0.1,
             "#c51b7d"
            ],
            [
             0.2,
             "#de77ae"
            ],
            [
             0.3,
             "#f1b6da"
            ],
            [
             0.4,
             "#fde0ef"
            ],
            [
             0.5,
             "#f7f7f7"
            ],
            [
             0.6,
             "#e6f5d0"
            ],
            [
             0.7,
             "#b8e186"
            ],
            [
             0.8,
             "#7fbc41"
            ],
            [
             0.9,
             "#4d9221"
            ],
            [
             1,
             "#276419"
            ]
           ],
           "sequential": [
            [
             0,
             "#0d0887"
            ],
            [
             0.1111111111111111,
             "#46039f"
            ],
            [
             0.2222222222222222,
             "#7201a8"
            ],
            [
             0.3333333333333333,
             "#9c179e"
            ],
            [
             0.4444444444444444,
             "#bd3786"
            ],
            [
             0.5555555555555556,
             "#d8576b"
            ],
            [
             0.6666666666666666,
             "#ed7953"
            ],
            [
             0.7777777777777778,
             "#fb9f3a"
            ],
            [
             0.8888888888888888,
             "#fdca26"
            ],
            [
             1,
             "#f0f921"
            ]
           ],
           "sequentialminus": [
            [
             0,
             "#0d0887"
            ],
            [
             0.1111111111111111,
             "#46039f"
            ],
            [
             0.2222222222222222,
             "#7201a8"
            ],
            [
             0.3333333333333333,
             "#9c179e"
            ],
            [
             0.4444444444444444,
             "#bd3786"
            ],
            [
             0.5555555555555556,
             "#d8576b"
            ],
            [
             0.6666666666666666,
             "#ed7953"
            ],
            [
             0.7777777777777778,
             "#fb9f3a"
            ],
            [
             0.8888888888888888,
             "#fdca26"
            ],
            [
             1,
             "#f0f921"
            ]
           ]
          },
          "colorway": [
           "#636efa",
           "#EF553B",
           "#00cc96",
           "#ab63fa",
           "#FFA15A",
           "#19d3f3",
           "#FF6692",
           "#B6E880",
           "#FF97FF",
           "#FECB52"
          ],
          "font": {
           "color": "#f2f5fa"
          },
          "geo": {
           "bgcolor": "rgb(17,17,17)",
           "lakecolor": "rgb(17,17,17)",
           "landcolor": "rgb(17,17,17)",
           "showlakes": true,
           "showland": true,
           "subunitcolor": "#506784"
          },
          "hoverlabel": {
           "align": "left"
          },
          "hovermode": "closest",
          "mapbox": {
           "style": "dark"
          },
          "paper_bgcolor": "rgb(17,17,17)",
          "plot_bgcolor": "rgb(17,17,17)",
          "polar": {
           "angularaxis": {
            "gridcolor": "#506784",
            "linecolor": "#506784",
            "ticks": ""
           },
           "bgcolor": "rgb(17,17,17)",
           "radialaxis": {
            "gridcolor": "#506784",
            "linecolor": "#506784",
            "ticks": ""
           }
          },
          "scene": {
           "xaxis": {
            "backgroundcolor": "rgb(17,17,17)",
            "gridcolor": "#506784",
            "gridwidth": 2,
            "linecolor": "#506784",
            "showbackground": true,
            "ticks": "",
            "zerolinecolor": "#C8D4E3"
           },
           "yaxis": {
            "backgroundcolor": "rgb(17,17,17)",
            "gridcolor": "#506784",
            "gridwidth": 2,
            "linecolor": "#506784",
            "showbackground": true,
            "ticks": "",
            "zerolinecolor": "#C8D4E3"
           },
           "zaxis": {
            "backgroundcolor": "rgb(17,17,17)",
            "gridcolor": "#506784",
            "gridwidth": 2,
            "linecolor": "#506784",
            "showbackground": true,
            "ticks": "",
            "zerolinecolor": "#C8D4E3"
           }
          },
          "shapedefaults": {
           "line": {
            "color": "#f2f5fa"
           }
          },
          "sliderdefaults": {
           "bgcolor": "#C8D4E3",
           "bordercolor": "rgb(17,17,17)",
           "borderwidth": 1,
           "tickwidth": 0
          },
          "ternary": {
           "aaxis": {
            "gridcolor": "#506784",
            "linecolor": "#506784",
            "ticks": ""
           },
           "baxis": {
            "gridcolor": "#506784",
            "linecolor": "#506784",
            "ticks": ""
           },
           "bgcolor": "rgb(17,17,17)",
           "caxis": {
            "gridcolor": "#506784",
            "linecolor": "#506784",
            "ticks": ""
           }
          },
          "title": {
           "x": 0.05
          },
          "updatemenudefaults": {
           "bgcolor": "#506784",
           "borderwidth": 0
          },
          "xaxis": {
           "automargin": true,
           "gridcolor": "#283442",
           "linecolor": "#506784",
           "ticks": "",
           "title": {
            "standoff": 15
           },
           "zerolinecolor": "#283442",
           "zerolinewidth": 2
          },
          "yaxis": {
           "automargin": true,
           "gridcolor": "#283442",
           "linecolor": "#506784",
           "ticks": "",
           "title": {
            "standoff": 15
           },
           "zerolinecolor": "#283442",
           "zerolinewidth": 2
          }
         }
        },
        "title": {
         "text": "Average Winning Percentage for Chicago Sports Teams"
        },
        "xaxis": {
         "title": {
          "text": "Year"
         }
        },
        "yaxis": {
         "title": {
          "text": "Winning Percentage"
         }
        }
       }
      }
     },
     "metadata": {},
     "output_type": "display_data"
    }
   ],
   "source": [
    "sports = set([\"nfl\", \"mlb\", \"nba\"])\n",
    "city = \"Chicago\"\n",
    "chicago = df.query(f\"area == '{city}' and year > 1920\").groupby(\"year\").win_pct.mean().reset_index()\n",
    "def temp(df):\n",
    "    acc = \"\"\n",
    "    for i, row in df.iterrows():\n",
    "        acc += row.team_name + \": \" + str(row.win_pct)[:5] + \"<br>\"\n",
    "    return acc\n",
    "\n",
    "blah = chicago.merge(df.query(\"area == 'Chicago'\").groupby([\"year\"]).apply(temp).reset_index(), on=\"year\")\n",
    "\n",
    "fig = go.Figure(go.Scatter(\n",
    "    x = blah.year.tolist(),\n",
    "    y = blah.win_pct.tolist(),\n",
    "    text= blah[0].tolist(),\n",
    "    hovertemplate =\n",
    "    '<br><b>Year</b>: %{x}<br>'+\n",
    "    '<b>Winning Pct.</b>: %{y:.2f}<br>'+\n",
    "    '%{text}' +\n",
    "    '<extra></extra>'\n",
    "    ))\n",
    "fig.update_layout(\n",
    "    title=\"Average Winning Percentage for Chicago Sports Teams\",\n",
    "    xaxis_title=\"Year\",\n",
    "    yaxis_title=\"Winning Percentage\",\n",
    ")\n",
    "fig.add_hline(y=.5, line_width=1, line_dash=\"dash\", line_color=\"white\")\n",
    "fig.write_html(os.path.join(output_dir,\"chicago_avg.html\"))\n",
    "fig.show()"
   ]
  },
  {
   "cell_type": "code",
   "execution_count": 21,
   "metadata": {},
   "outputs": [
    {
     "name": "stdout",
     "output_type": "stream",
     "text": [
      "Total Seasons: year       80\n",
      "win_pct    80\n",
      "dtype: int64\n",
      "Seasons with winning percentage above .500: year       36\n",
      "win_pct    36\n",
      "dtype: int64\n"
     ]
    }
   ],
   "source": [
    "print(f\"Total Seasons:\", chicago.query(\"year > 1940\").count())\n",
    "print(f\"Seasons with winning percentage above .500:\", chicago.query(\"year > 1940 and win_pct >= .5\").count())"
   ]
  },
  {
   "attachments": {},
   "cell_type": "markdown",
   "metadata": {},
   "source": [
    "## Visualizing Multiple Cities Together"
   ]
  },
  {
   "cell_type": "code",
   "execution_count": 63,
   "metadata": {},
   "outputs": [
    {
     "name": "stdout",
     "output_type": "stream",
     "text": [
      "Chicago 0.507\n",
      "New York 0.506\n",
      "Boston 0.513\n",
      "Los Angeles 0.500\n",
      "Atlanta 0.478\n"
     ]
    },
    {
     "data": {
      "application/vnd.plotly.v1+json": {
       "config": {
        "plotlyServerURL": "https://plot.ly"
       },
       "data": [
        {
         "hovertemplate": "<br><b>Year</b>: %{x}<br><b>Winning Pct.</b>: %{y:.2f}<br>%{text}<extra></extra>",
         "mode": "lines",
         "name": "Chicago (0.507)",
         "text": [
          "Chicago White Sox: 0.402<br>Chicago Cubs: 0.418<br>",
          "Chicago Bears: 0.75<br>Chicago White Sox: 0.5<br>Chicago Cubs: 0.519<br>",
          "Chicago Bears: 0.818<br>Chicago White Sox: 0.448<br>Chicago Cubs: 0.538<br>",
          "Chicago Bears: 0.857<br>Chicago White Sox: 0.431<br>Chicago Cubs: 0.529<br>",
          "Chicago Bears: 0.818<br>Chicago White Sox: 0.512<br>Chicago Cubs: 0.441<br>",
          "Chicago Bears: 1.0<br>Chicago White Sox: 0.529<br>Chicago Cubs: 0.532<br>",
          "Chicago Bears: 0.778<br>Chicago White Sox: 0.457<br>Chicago Cubs: 0.555<br>",
          "Chicago Bears: 0.583<br>Chicago White Sox: 0.467<br>Chicago Cubs: 0.590<br>",
          "Chicago Bears: 0.4<br>Chicago White Sox: 0.388<br>Chicago Cubs: 0.644<br>",
          "Chicago Bears: 0.556<br>Chicago White Sox: 0.402<br>Chicago Cubs: 0.584<br>",
          "Chicago Bears: 0.667<br>Chicago White Sox: 0.366<br>Chicago Cubs: 0.545<br>",
          "Chicago Bears: 0.875<br>Chicago White Sox: 0.324<br>Chicago Cubs: 0.584<br>",
          "Chicago Bears: 0.833<br>Chicago White Sox: 0.446<br>Chicago Cubs: 0.558<br>",
          "Chicago Bears: 1.0<br>Chicago White Sox: 0.348<br>Chicago Cubs: 0.569<br>",
          "Chicago Bears: 0.6<br>Chicago White Sox: 0.486<br>Chicago Cubs: 0.649<br>",
          "Chicago Bears: 0.75<br>Chicago White Sox: 0.536<br>Chicago Cubs: 0.564<br>",
          "Chicago Bears: 0.9<br>Chicago White Sox: 0.558<br>Chicago Cubs: 0.603<br>",
          "Chicago Bears: 0.545<br>Chicago White Sox: 0.439<br>Chicago Cubs: 0.585<br>",
          "Chicago Bears: 0.727<br>Chicago White Sox: 0.551<br>Chicago Cubs: 0.545<br>",
          "Chicago Bears: 0.727<br>Chicago White Sox: 0.532<br>Chicago Cubs: 0.487<br>",
          "Chicago Bears: 0.909<br>Chicago White Sox: 0.5<br>Chicago Cubs: 0.454<br>",
          "Chicago Bears: 1.0<br>Chicago White Sox: 0.445<br>Chicago Cubs: 0.441<br>",
          "Chicago Bears: 0.889<br>Chicago White Sox: 0.532<br>Chicago Cubs: 0.483<br>",
          "Chicago Bears: 0.667<br>Chicago White Sox: 0.461<br>Chicago Cubs: 0.487<br>",
          "Chicago Bears: 0.3<br>Chicago White Sox: 0.476<br>Chicago Cubs: 0.636<br>",
          "Chicago Hornets: 0.0<br>Chicago Bears: 0.8<br>Chicago White Sox: 0.480<br>Chicago Cubs: 0.535<br>",
          "Chicago Hornets: 0.0<br>Chicago Bears: 0.667<br>Chicago White Sox: 0.454<br>Chicago Cubs: 0.448<br>",
          "Chicago Hornets: 0.0<br>Chicago Bears: 0.833<br>Chicago White Sox: 0.335<br>Chicago Cubs: 0.415<br>",
          "Chicago Hornets: 0.0<br>Chicago Bears: 0.75<br>Chicago White Sox: 0.409<br>Chicago Cubs: 0.396<br>",
          "Chicago Bears: 0.75<br>Chicago White Sox: 0.389<br>Chicago Cubs: 0.418<br>Chicago Blackhawks: 0.314<br>",
          "Chicago Bears: 0.583<br>Chicago White Sox: 0.525<br>Chicago Cubs: 0.402<br>Chicago Blackhawks: 0.185<br>",
          "Chicago Bears: 0.417<br>Chicago White Sox: 0.525<br>Chicago Cubs: 0.5<br>Chicago Blackhawks: 0.242<br>",
          "Chicago Bears: 0.273<br>Chicago White Sox: 0.577<br>Chicago Cubs: 0.422<br>Chicago Blackhawks: 0.385<br>",
          "Chicago Bears: 0.667<br>Chicago White Sox: 0.610<br>Chicago Cubs: 0.415<br>Chicago Blackhawks: 0.171<br>",
          "Chicago Bears: 0.667<br>Chicago White Sox: 0.590<br>Chicago Cubs: 0.470<br>Chicago Blackhawks: 0.185<br>",
          "Chicago Bears: 0.818<br>Chicago White Sox: 0.551<br>Chicago Cubs: 0.389<br>Chicago Blackhawks: 0.271<br>",
          "Chicago Bears: 0.417<br>Chicago White Sox: 0.584<br>Chicago Cubs: 0.402<br>Chicago Blackhawks: 0.228<br>",
          "Chicago Bears: 0.667<br>Chicago White Sox: 0.532<br>Chicago Cubs: 0.467<br>Chicago Blackhawks: 0.342<br>",
          "Chicago Bears: 0.667<br>Chicago White Sox: 0.610<br>Chicago Cubs: 0.480<br>Chicago Blackhawks: 0.4<br>",
          "Chicago Bears: 0.455<br>Chicago White Sox: 0.564<br>Chicago Cubs: 0.389<br>Chicago Blackhawks: 0.4<br>",
          "Chicago Bears: 0.571<br>Chicago White Sox: 0.530<br>Chicago Cubs: 0.415<br>Chicago Packers: 0.225<br>Chicago Blackhawks: 0.414<br>",
          "Chicago Bears: 0.643<br>Chicago White Sox: 0.524<br>Chicago Cubs: 0.364<br>Chicago Zephyrs: 0.313<br>Chicago Blackhawks: 0.442<br>",
          "Chicago Bears: 0.917<br>Chicago White Sox: 0.580<br>Chicago Cubs: 0.506<br>Chicago Blackhawks: 0.457<br>",
          "Chicago Bears: 0.357<br>Chicago White Sox: 0.604<br>Chicago Cubs: 0.469<br>Chicago Blackhawks: 0.514<br>",
          "Chicago Bears: 0.643<br>Chicago White Sox: 0.586<br>Chicago Cubs: 0.444<br>Chicago Blackhawks: 0.485<br>",
          "Chicago Bears: 0.417<br>Chicago White Sox: 0.512<br>Chicago Cubs: 0.364<br>Chicago Bulls: 0.407<br>Chicago Blackhawks: 0.528<br>",
          "Chicago Bears: 0.538<br>Chicago White Sox: 0.549<br>Chicago Cubs: 0.540<br>Chicago Bulls: 0.354<br>Chicago Blackhawks: 0.585<br>",
          "Chicago Bears: 0.5<br>Chicago White Sox: 0.413<br>Chicago Cubs: 0.518<br>Chicago Bulls: 0.402<br>Chicago Blackhawks: 0.432<br>",
          "Chicago Bears: 0.071<br>Chicago White Sox: 0.419<br>Chicago Cubs: 0.567<br>Chicago Bulls: 0.476<br>Chicago Blackhawks: 0.447<br>",
          "Chicago Bears: 0.429<br>Chicago White Sox: 0.345<br>Chicago Cubs: 0.518<br>Chicago Bulls: 0.622<br>Chicago Blackhawks: 0.592<br>",
          "Chicago Bears: 0.429<br>Chicago White Sox: 0.487<br>Chicago Cubs: 0.512<br>Chicago Bulls: 0.695<br>Chicago Blackhawks: 0.628<br>",
          "Chicago Bears: 0.321<br>Chicago White Sox: 0.564<br>Chicago Cubs: 0.548<br>Chicago Bulls: 0.622<br>Chicago Blackhawks: 0.589<br>",
          "Chicago Bears: 0.214<br>Chicago White Sox: 0.475<br>Chicago Cubs: 0.478<br>Chicago Bulls: 0.659<br>Chicago Blackhawks: 0.538<br>",
          "Chicago Bears: 0.286<br>Chicago White Sox: 0.5<br>Chicago Cubs: 0.407<br>Chicago Bulls: 0.573<br>Chicago Blackhawks: 0.525<br>",
          "Chicago Bears: 0.286<br>Chicago White Sox: 0.465<br>Chicago Cubs: 0.462<br>Chicago Bulls: 0.293<br>Chicago Blackhawks: 0.462<br>",
          "Chicago Bears: 0.5<br>Chicago White Sox: 0.397<br>Chicago Cubs: 0.462<br>Chicago Bulls: 0.537<br>Chicago Blackhawks: 0.4<br>",
          "Chicago Bears: 0.643<br>Chicago White Sox: 0.555<br>Chicago Cubs: 0.5<br>Chicago Bulls: 0.488<br>Chicago Blackhawks: 0.325<br>",
          "Chicago Bears: 0.438<br>Chicago White Sox: 0.440<br>Chicago Cubs: 0.487<br>Chicago Bulls: 0.378<br>Chicago Blackhawks: 0.4<br>",
          "Chicago Bears: 0.625<br>Chicago White Sox: 0.456<br>Chicago Cubs: 0.493<br>Chicago Bulls: 0.366<br>Chicago Blackhawks: 0.362<br>",
          "Chicago Bears: 0.438<br>Chicago White Sox: 0.437<br>Chicago Cubs: 0.395<br>Chicago Bulls: 0.549<br>Chicago Blackhawks: 0.425<br>",
          "Chicago Bears: 0.375<br>Chicago White Sox: 0.509<br>Chicago Cubs: 0.368<br>Chicago Bulls: 0.415<br>Chicago Blackhawks: 0.387<br>",
          "Chicago Bears: 0.333<br>Chicago White Sox: 0.537<br>Chicago Cubs: 0.450<br>Chicago Bulls: 0.341<br>Chicago Blackhawks: 0.375<br>",
          "Chicago Bears: 0.5<br>Chicago White Sox: 0.611<br>Chicago Cubs: 0.438<br>Chicago Bulls: 0.329<br>Chicago Blackhawks: 0.587<br>",
          "Chicago Bears: 0.625<br>Chicago White Sox: 0.456<br>Chicago Cubs: 0.596<br>Chicago Bulls: 0.463<br>Chicago Blackhawks: 0.375<br>",
          "Chicago Bears: 0.938<br>Chicago White Sox: 0.524<br>Chicago Cubs: 0.478<br>Chicago Bulls: 0.366<br>Chicago Blackhawks: 0.475<br>",
          "Chicago Bears: 0.875<br>Chicago White Sox: 0.444<br>Chicago Cubs: 0.437<br>Chicago Bulls: 0.488<br>Chicago Blackhawks: 0.487<br>",
          "Chicago Bears: 0.733<br>Chicago White Sox: 0.475<br>Chicago Cubs: 0.472<br>Chicago Bulls: 0.61<br>Chicago Blackhawks: 0.362<br>",
          "Chicago Bears: 0.75<br>Chicago White Sox: 0.440<br>Chicago Cubs: 0.475<br>Chicago Bulls: 0.573<br>Chicago Blackhawks: 0.375<br>",
          "Chicago Bears: 0.375<br>Chicago White Sox: 0.428<br>Chicago Cubs: 0.574<br>Chicago Bulls: 0.671<br>Chicago Blackhawks: 0.337<br>",
          "Chicago Bears: 0.688<br>Chicago White Sox: 0.580<br>Chicago Cubs: 0.475<br>Chicago Bulls: 0.744<br>Chicago Blackhawks: 0.512<br>",
          "Chicago Bears: 0.688<br>Chicago White Sox: 0.537<br>Chicago Cubs: 0.481<br>Chicago Bulls: 0.817<br>Chicago Blackhawks: 0.612<br>",
          "Chicago Bears: 0.313<br>Chicago White Sox: 0.530<br>Chicago Cubs: 0.481<br>Chicago Bulls: 0.695<br>Chicago Blackhawks: 0.45<br>",
          "Chicago Bears: 0.438<br>Chicago White Sox: 0.580<br>Chicago Cubs: 0.518<br>Chicago Bulls: 0.671<br>Chicago Blackhawks: 0.559<br>",
          "Chicago Bears: 0.563<br>Chicago White Sox: 0.592<br>Chicago Cubs: 0.433<br>Chicago Bulls: 0.573<br>Chicago Blackhawks: 0.464<br>",
          "Chicago Bears: 0.563<br>Chicago White Sox: 0.472<br>Chicago Cubs: 0.506<br>Chicago Bulls: 0.878<br>Chicago Blackhawks: 0.5<br>",
          "Chicago Bears: 0.438<br>Chicago White Sox: 0.524<br>Chicago Cubs: 0.469<br>Chicago Bulls: 0.841<br>Chicago Blackhawks: 0.487<br>",
          "Chicago Bears: 0.25<br>Chicago White Sox: 0.496<br>Chicago Cubs: 0.419<br>Chicago Bulls: 0.756<br>Chicago Blackhawks: 0.414<br>",
          "Chicago Bears: 0.25<br>Chicago White Sox: 0.493<br>Chicago Cubs: 0.552<br>Chicago Bulls: 0.26<br>Chicago Blackhawks: 0.365<br>",
          "Chicago Bears: 0.375<br>Chicago White Sox: 0.465<br>Chicago Cubs: 0.413<br>Chicago Bulls: 0.207<br>Chicago Blackhawks: 0.353<br>",
          "Chicago Bears: 0.313<br>Chicago White Sox: 0.586<br>Chicago Cubs: 0.401<br>Chicago Bulls: 0.183<br>Chicago Blackhawks: 0.402<br>",
          "Chicago Bears: 0.813<br>Chicago White Sox: 0.512<br>Chicago Cubs: 0.543<br>Chicago Bulls: 0.256<br>Chicago Blackhawks: 0.353<br>",
          "Chicago Bears: 0.25<br>Chicago White Sox: 0.5<br>Chicago Cubs: 0.413<br>Chicago Bulls: 0.366<br>Chicago Blackhawks: 0.5<br>",
          "Chicago Bears: 0.438<br>Chicago White Sox: 0.530<br>Chicago Cubs: 0.543<br>Chicago Bulls: 0.28<br>Chicago Blackhawks: 0.365<br>",
          "Chicago Bears: 0.313<br>Chicago White Sox: 0.512<br>Chicago Cubs: 0.549<br>Chicago Bulls: 0.573<br>Chicago Blackhawks: 0.243<br>",
          "Chicago Bears: 0.688<br>Chicago White Sox: 0.611<br>Chicago Cubs: 0.487<br>Chicago Bulls: 0.5<br>",
          "Chicago Bears: 0.813<br>Chicago White Sox: 0.555<br>Chicago Cubs: 0.407<br>Chicago Bulls: 0.598<br>Chicago Blackhawks: 0.317<br>",
          "Chicago Bears: 0.438<br>Chicago White Sox: 0.444<br>Chicago Cubs: 0.524<br>Chicago Bulls: 0.402<br>Chicago Blackhawks: 0.378<br>",
          "Chicago Bears: 0.563<br>Chicago White Sox: 0.546<br>Chicago Cubs: 0.602<br>Chicago Bulls: 0.5<br>Chicago Blackhawks: 0.487<br>",
          "Chicago Bears: 0.438<br>Chicago White Sox: 0.487<br>Chicago Cubs: 0.515<br>Chicago Bulls: 0.5<br>Chicago Blackhawks: 0.560<br>",
          "Chicago Bears: 0.688<br>Chicago White Sox: 0.543<br>Chicago Cubs: 0.462<br>Chicago Bulls: 0.756<br>Chicago Blackhawks: 0.634<br>",
          "Chicago Bears: 0.5<br>Chicago White Sox: 0.487<br>Chicago Cubs: 0.438<br>Chicago Bulls: 0.758<br>Chicago Blackhawks: 0.536<br>",
          "Chicago Bears: 0.625<br>Chicago White Sox: 0.524<br>Chicago Cubs: 0.376<br>Chicago Bulls: 0.549<br>Chicago Blackhawks: 0.548<br>",
          "Chicago Bears: 0.5<br>Chicago White Sox: 0.388<br>Chicago Cubs: 0.407<br>Chicago Bulls: 0.585<br>Chicago Blackhawks: 0.75<br>",
          "Chicago Bears: 0.313<br>Chicago White Sox: 0.450<br>Chicago Cubs: 0.450<br>Chicago Bulls: 0.61<br>Chicago Blackhawks: 0.560<br>",
          "Chicago Bears: 0.375<br>Chicago White Sox: 0.469<br>Chicago Cubs: 0.598<br>Chicago Bulls: 0.512<br>Chicago Blackhawks: 0.585<br>",
          "Chicago Bears: 0.188<br>Chicago White Sox: 0.481<br>Chicago Cubs: 0.639<br>Chicago Bulls: 0.477<br>Chicago Blackhawks: 0.573<br>",
          "Chicago Bears: 0.313<br>Chicago White Sox: 0.413<br>Chicago Cubs: 0.567<br>Chicago Blackhawks: 0.609<br>",
          "Chicago Bears: 0.75<br>Chicago White Sox: 0.382<br>Chicago Cubs: 0.582<br>Chicago Blackhawks: 0.402<br>",
          "Chicago Bears: 0.5<br>Chicago White Sox: 0.447<br>Chicago Cubs: 0.518<br>Chicago Blackhawks: 0.439<br>",
          "Chicago Bears: 0.5<br>Chicago White Sox: 0.583<br>Chicago Cubs: 0.566<br>Chicago Blackhawks: 0.457<br>"
         ],
         "type": "scatter",
         "x": [
          1921,
          1922,
          1923,
          1924,
          1925,
          1926,
          1927,
          1928,
          1929,
          1930,
          1931,
          1932,
          1933,
          1934,
          1935,
          1936,
          1937,
          1938,
          1939,
          1940,
          1941,
          1942,
          1943,
          1944,
          1945,
          1946,
          1947,
          1948,
          1949,
          1950,
          1951,
          1952,
          1953,
          1954,
          1955,
          1956,
          1957,
          1958,
          1959,
          1960,
          1961,
          1962,
          1963,
          1964,
          1965,
          1966,
          1967,
          1968,
          1969,
          1970,
          1971,
          1972,
          1973,
          1974,
          1975,
          1976,
          1977,
          1978,
          1979,
          1980,
          1981,
          1982,
          1983,
          1984,
          1985,
          1986,
          1987,
          1988,
          1989,
          1990,
          1991,
          1992,
          1993,
          1994,
          1995,
          1996,
          1997,
          1998,
          1999,
          2000,
          2001,
          2002,
          2003,
          2004,
          2005,
          2006,
          2007,
          2008,
          2009,
          2010,
          2011,
          2012,
          2013,
          2014,
          2015,
          2016,
          2017,
          2018,
          2019,
          2020
         ],
         "y": [
          0.41044902809608697,
          0.5898268398268398,
          0.6016709956709957,
          0.6059281045751633,
          0.5908484848484848,
          0.687293099057805,
          0.5970239651416122,
          0.5471471861471862,
          0.4776315789473684,
          0.5143376623376623,
          0.5261558724499901,
          0.5946396318912875,
          0.6127027417027416,
          0.6394068781224584,
          0.5787309182046024,
          0.6171196353315559,
          0.6874458874458874,
          0.5232385016595543,
          0.6081341991341991,
          0.5821601731601732,
          0.6211818181818182,
          0.6291681291681291,
          0.6350425543954955,
          0.5383506493506494,
          0.47095790115924346,
          0.4541167982344453,
          0.39239935064935066,
          0.39602768284347234,
          0.3887987012987013,
          0.4680491893727188,
          0.42432142857142857,
          0.4214577922077922,
          0.41467857142857145,
          0.4661006493506494,
          0.4785529029793736,
          0.5077467532467532,
          0.4081461038961039,
          0.5024642857142857,
          0.5394772727272727,
          0.45238636363636364,
          0.4313468654801988,
          0.45754920634920637,
          0.6151406525573192,
          0.4863399470899471,
          0.5398946208112875,
          0.44582292768959436,
          0.5134939345142244,
          0.4533062395729062,
          0.39640454840805717,
          0.5014605588044184,
          0.5504410256410257,
          0.5292131502905696,
          0.4730062100004129,
          0.4584096866096866,
          0.39406029445594665,
          0.4594956981826547,
          0.5023111111111112,
          0.4289296219615061,
          0.46071543209876537,
          0.44891234567901234,
          0.4111732002198205,
          0.40733086419753084,
          0.4931765432098766,
          0.5032126830764512,
          0.5563904455179818,
          0.5464888888888889,
          0.5305716662832605,
          0.5228604861590369,
          0.4772291005291005,
          0.600011111111111,
          0.6271574074074074,
          0.4940691358024691,
          0.5534578483245151,
          0.5253668773704172,
          0.5840333333333334,
          0.5521264077085215,
          0.4674563285398209,
          0.38436561165884325,
          0.3630154585631432,
          0.37721866907557966,
          0.4956428184281843,
          0.4059160493827161,
          0.4315855465221318,
          0.4383261668172237,
          0.5716913580246914,
          0.538207226738934,
          0.43743691659138817,
          0.539860324007424,
          0.5004315762108622,
          0.6168638361939175,
          0.544102258355917,
          0.5248030111412225,
          0.5262592592592592,
          0.47704203553146646,
          0.5080534176452876,
          0.4718807531967659,
          0.47605939476061426,
          0.5294942899156326,
          0.4761869694266301,
          0.5267857142857143
         ]
        },
        {
         "hovertemplate": "<br><b>Year</b>: %{x}<br><b>Winning Pct.</b>: %{y:.2f}<br>%{text}<extra></extra>",
         "mode": "lines",
         "name": "New York (0.506)",
         "text": [
          "New York Giants: 0.614<br>New York Yankees: 0.640<br>",
          "New York Giants: 0.603<br>New York Yankees: 0.610<br>",
          "New York Giants: 0.620<br>New York Yankees: 0.644<br>",
          "New York Giants: 0.607<br>New York Yankees: 0.585<br>",
          "New York Giants: 0.636<br>New York Giants: 0.565<br>New York Yankees: 0.448<br>",
          "New York Giants: 0.636<br>New York Giants: 0.490<br>New York Yankees: 0.590<br>",
          "New York Giants: 0.889<br>New York Giants: 0.597<br>New York Yankees: 0.714<br>",
          "New York Giants: 0.364<br>New York Giants: 0.603<br>New York Yankees: 0.655<br>",
          "New York Giants: 0.889<br>New York Giants: 0.556<br>New York Yankees: 0.571<br>",
          "New York Yankees: 0.714<br>New York Giants: 0.833<br>New York Giants: 0.564<br>New York Yankees: 0.558<br>",
          "New York Yankees: 0.143<br>New York Giants: 0.5<br>New York Giants: 0.572<br>New York Yankees: 0.614<br>",
          "New York Yankees: 0.25<br>New York Giants: 0.4<br>New York Giants: 0.467<br>New York Yankees: 0.694<br>",
          "New York Yankees: 0.556<br>New York Giants: 0.786<br>New York Giants: 0.598<br>New York Yankees: 0.606<br>",
          "New York Yankees: 0.364<br>New York Giants: 0.615<br>New York Giants: 0.607<br>New York Yankees: 0.610<br>",
          "New York Yankees: 0.455<br>New York Giants: 0.75<br>New York Giants: 0.594<br>New York Yankees: 0.597<br>",
          "New York Yankees: 0.273<br>New York Giants: 0.455<br>New York Giants: 0.597<br>New York Yankees: 0.666<br>",
          "New York Yankees: 0.3<br>New York Giants: 0.667<br>New York Giants: 0.625<br>New York Yankees: 0.662<br>",
          "New York Yankees: 0.5<br>New York Giants: 0.8<br>New York Giants: 0.553<br>New York Yankees: 0.651<br>",
          "New York Yankees: 0.4<br>New York Giants: 0.9<br>New York Giants: 0.509<br>New York Yankees: 0.701<br>",
          "New York Giants: 0.6<br>New York Yankees: 0.727<br>New York Giants: 0.473<br>New York Yankees: 0.571<br>",
          "New York Yankees: 0.636<br>New York Giants: 0.727<br>New York Giants: 0.483<br>New York Yankees: 0.655<br>",
          "New York Yankees: 0.273<br>New York Giants: 0.5<br>New York Giants: 0.559<br>New York Yankees: 0.668<br>",
          "New York Yankees: 0.2<br>New York Giants: 0.667<br>New York Giants: 0.359<br>New York Yankees: 0.636<br>",
          "New York Yankees: 0.0<br>New York Giants: 0.889<br>New York Giants: 0.435<br>New York Yankees: 0.538<br>",
          "New York Giants: 0.333<br>New York Giants: 0.513<br>New York Yankees: 0.532<br>",
          "New York Yankees: 0.0<br>New York Giants: 0.7<br>New York Giants: 0.396<br>New York Yankees: 0.564<br>New York Knicks: 0.55<br>",
          "New York Yankees: 0.0<br>New York Giants: 0.2<br>New York Giants: 0.525<br>New York Yankees: 0.629<br>New York Knicks: 0.542<br>",
          "New York Yankees: 0.0<br>New York Giants: 0.333<br>New York Giants: 0.506<br>New York Yankees: 0.610<br>New York Knicks: 0.533<br>",
          "New York Yankees: 0.0<br>New York Giants: 0.5<br>New York Giants: 0.474<br>New York Yankees: 0.629<br>New York Knicks: 0.588<br>",
          "New York Giants: 0.833<br>New York Giants: 0.558<br>New York Yankees: 0.636<br>New York Knicks: 0.545<br>New York Rangers: 0.4<br>",
          "New York Giants: 0.818<br>New York Giants: 0.624<br>New York Yankees: 0.636<br>New York Knicks: 0.561<br>New York Rangers: 0.285<br>",
          "New York Giants: 0.583<br>New York Giants: 0.597<br>New York Yankees: 0.616<br>New York Knicks: 0.671<br>New York Rangers: 0.328<br>",
          "New York Giants: 0.25<br>New York Giants: 0.454<br>New York Yankees: 0.655<br>New York Knicks: 0.611<br>New York Rangers: 0.242<br>",
          "New York Giants: 0.583<br>New York Giants: 0.629<br>New York Yankees: 0.668<br>New York Knicks: 0.528<br>New York Rangers: 0.414<br>",
          "New York Giants: 0.545<br>New York Giants: 0.519<br>New York Yankees: 0.623<br>New York Knicks: 0.486<br>New York Rangers: 0.242<br>",
          "New York Giants: 0.727<br>New York Giants: 0.435<br>New York Yankees: 0.629<br>New York Knicks: 0.5<br>New York Rangers: 0.457<br>",
          "New York Giants: 0.583<br>New York Giants: 0.448<br>New York Yankees: 0.636<br>New York Knicks: 0.486<br>New York Rangers: 0.371<br>",
          "New York Giants: 0.75<br>New York Yankees: 0.597<br>New York Knicks: 0.556<br>New York Rangers: 0.457<br>",
          "New York Giants: 0.833<br>New York Yankees: 0.512<br>New York Knicks: 0.36<br>New York Rangers: 0.371<br>",
          "New York Giants: 0.6<br>New York Yankees: 0.629<br>New York Knicks: 0.266<br>New York Rangers: 0.242<br>",
          "New York Giants: 0.769<br>New York Yankees: 0.672<br>New York Knicks: 0.363<br>New York Rangers: 0.314<br>",
          "New York Giants: 0.857<br>New York Yankees: 0.592<br>New York Mets: 0.25<br>New York Knicks: 0.263<br>New York Rangers: 0.371<br>",
          "New York Jets: 0.385<br>New York Giants: 0.786<br>New York Yankees: 0.645<br>New York Mets: 0.314<br>New York Knicks: 0.275<br>New York Rangers: 0.314<br>",
          "New York Giants: 0.167<br>New York Jets: 0.385<br>New York Yankees: 0.611<br>New York Mets: 0.327<br>New York Knicks: 0.388<br>New York Rangers: 0.314<br>",
          "New York Jets: 0.385<br>New York Giants: 0.5<br>New York Yankees: 0.475<br>New York Mets: 0.308<br>New York Knicks: 0.375<br>New York Rangers: 0.285<br>",
          "New York Giants: 0.077<br>New York Jets: 0.5<br>New York Yankees: 0.440<br>New York Mets: 0.409<br>New York Knicks: 0.444<br>New York Rangers: 0.257<br>",
          "New York Giants: 0.5<br>New York Jets: 0.615<br>New York Yankees: 0.444<br>New York Mets: 0.376<br>New York Knicks: 0.524<br>New York Rangers: 0.428<br>",
          "New York Giants: 0.5<br>New York Jets: 0.786<br>New York Yankees: 0.512<br>New York Mets: 0.450<br>New York Knicks: 0.659<br>New York Rangers: 0.527<br>",
          "New York Giants: 0.429<br>New York Jets: 0.714<br>New York Yankees: 0.496<br>New York Mets: 0.617<br>New York Knicks: 0.732<br>New York Rangers: 0.539<br>",
          "New York Jets: 0.286<br>New York Giants: 0.643<br>New York Yankees: 0.574<br>New York Mets: 0.512<br>New York Knicks: 0.634<br>New York Rangers: 0.5<br>",
          "New York Giants: 0.286<br>New York Jets: 0.429<br>New York Yankees: 0.506<br>New York Mets: 0.512<br>New York Knicks: 0.585<br>New York Rangers: 0.628<br>",
          "New York Jets: 0.5<br>New York Giants: 0.571<br>New York Yankees: 0.509<br>New York Mets: 0.532<br>New York Knicks: 0.695<br>New York Rangers: 0.615<br>",
          "New York Giants: 0.179<br>New York Jets: 0.286<br>New York Yankees: 0.493<br>New York Mets: 0.509<br>New York Knicks: 0.598<br>New York Rangers: 0.602<br>New York Islanders: 0.153<br>",
          "New York Giants: 0.143<br>New York Jets: 0.5<br>New York Yankees: 0.549<br>New York Mets: 0.438<br>New York Knicks: 0.488<br>New York Rangers: 0.512<br>New York Islanders: 0.243<br>",
          "New York Jets: 0.214<br>New York Giants: 0.357<br>New York Yankees: 0.518<br>New York Mets: 0.506<br>New York Knicks: 0.463<br>New York Rangers: 0.462<br>New York Islanders: 0.412<br>",
          "New York Giants: 0.214<br>New York Jets: 0.214<br>New York Yankees: 0.610<br>New York Mets: 0.530<br>New York Knicks: 0.488<br>New York Islanders: 0.525<br>New York Rangers: 0.362<br>",
          "New York Jets: 0.214<br>New York Giants: 0.357<br>New York Yankees: 0.617<br>New York Mets: 0.395<br>New York Knicks: 0.524<br>New York Islanders: 0.587<br>New York Rangers: 0.362<br>",
          "New York Giants: 0.375<br>New York Jets: 0.5<br>New York Yankees: 0.613<br>New York Mets: 0.407<br>New York Knicks: 0.378<br>New York Islanders: 0.6<br>New York Rangers: 0.375<br>",
          "New York Giants: 0.375<br>New York Jets: 0.5<br>New York Yankees: 0.556<br>New York Mets: 0.388<br>New York Knicks: 0.476<br>New York Islanders: 0.637<br>New York Rangers: 0.5<br>",
          "New York Giants: 0.25<br>New York Jets: 0.25<br>New York Yankees: 0.635<br>New York Mets: 0.413<br>New York Knicks: 0.61<br>New York Islanders: 0.487<br>New York Rangers: 0.475<br>",
          "New York Giants: 0.563<br>New York Jets: 0.656<br>New York Yankees: 0.551<br>New York Mets: 0.398<br>New York Knicks: 0.402<br>New York Islanders: 0.6<br>New York Rangers: 0.375<br>",
          "New York Giants: 0.444<br>New York Jets: 0.667<br>New York Yankees: 0.487<br>New York Mets: 0.401<br>New York Knicks: 0.537<br>New York Islanders: 0.675<br>New York Rangers: 0.487<br>",
          "New York Giants: 0.219<br>New York Jets: 0.438<br>New York Yankees: 0.561<br>New York Mets: 0.419<br>New York Knicks: 0.573<br>New York Islanders: 0.525<br>New York Rangers: 0.437<br>",
          "New York Jets: 0.438<br>New York Giants: 0.563<br>New York Yankees: 0.537<br>New York Mets: 0.555<br>New York Knicks: 0.293<br>New York Islanders: 0.625<br>New York Rangers: 0.525<br>",
          "New York Giants: 0.625<br>New York Jets: 0.688<br>New York Yankees: 0.602<br>New York Mets: 0.604<br>New York Knicks: 0.28<br>New York Islanders: 0.5<br>New York Rangers: 0.325<br>",
          "New York Jets: 0.625<br>New York Giants: 0.875<br>New York Yankees: 0.555<br>New York Mets: 0.666<br>New York Knicks: 0.293<br>New York Islanders: 0.487<br>New York Rangers: 0.45<br>",
          "New York Giants: 0.4<br>New York Jets: 0.4<br>New York Yankees: 0.549<br>New York Mets: 0.567<br>New York Knicks: 0.463<br>New York Islanders: 0.437<br>New York Rangers: 0.425<br>",
          "New York Jets: 0.531<br>New York Giants: 0.625<br>New York Yankees: 0.527<br>New York Mets: 0.625<br>New York Knicks: 0.634<br>New York Islanders: 0.487<br>New York Rangers: 0.45<br>",
          "New York Jets: 0.25<br>New York Giants: 0.75<br>New York Yankees: 0.459<br>New York Mets: 0.537<br>New York Knicks: 0.549<br>New York Rangers: 0.462<br>New York Islanders: 0.35<br>",
          "New York Jets: 0.375<br>New York Giants: 0.813<br>New York Yankees: 0.413<br>New York Mets: 0.561<br>New York Knicks: 0.476<br>New York Rangers: 0.45<br>New York Islanders: 0.387<br>",
          "New York Giants: 0.5<br>New York Jets: 0.5<br>New York Yankees: 0.438<br>New York Mets: 0.478<br>New York Knicks: 0.622<br>New York Rangers: 0.45<br>New York Islanders: 0.312<br>",
          "New York Jets: 0.25<br>New York Giants: 0.375<br>New York Yankees: 0.469<br>New York Mets: 0.444<br>New York Knicks: 0.732<br>New York Rangers: 0.625<br>New York Islanders: 0.425<br>",
          "New York Jets: 0.5<br>New York Giants: 0.688<br>New York Yankees: 0.543<br>New York Mets: 0.364<br>New York Knicks: 0.695<br>New York Islanders: 0.476<br>New York Rangers: 0.404<br>",
          "New York Jets: 0.375<br>New York Giants: 0.563<br>New York Yankees: 0.619<br>New York Mets: 0.486<br>New York Knicks: 0.671<br>New York Rangers: 0.619<br>New York Islanders: 0.428<br>",
          "New York Jets: 0.188<br>New York Giants: 0.313<br>New York Yankees: 0.548<br>New York Mets: 0.479<br>New York Knicks: 0.573<br>New York Rangers: 0.458<br>New York Islanders: 0.312<br>",
          "New York Jets: 0.063<br>New York Giants: 0.375<br>New York Yankees: 0.567<br>New York Mets: 0.438<br>New York Knicks: 0.695<br>New York Rangers: 0.5<br>New York Islanders: 0.268<br>",
          "New York Jets: 0.563<br>New York Giants: 0.656<br>New York Yankees: 0.592<br>New York Mets: 0.543<br>New York Knicks: 0.524<br>New York Rangers: 0.463<br>New York Islanders: 0.353<br>",
          "New York Giants: 0.5<br>New York Jets: 0.75<br>New York Yankees: 0.703<br>New York Mets: 0.543<br>New York Knicks: 0.54<br>New York Islanders: 0.365<br>New York Rangers: 0.304<br>",
          "New York Giants: 0.438<br>New York Jets: 0.5<br>New York Yankees: 0.604<br>New York Mets: 0.595<br>New York Knicks: 0.61<br>New York Rangers: 0.402<br>New York Islanders: 0.292<br>",
          "New York Jets: 0.563<br>New York Giants: 0.75<br>New York Yankees: 0.540<br>New York Mets: 0.580<br>New York Knicks: 0.39<br>New York Knicks: 0.585<br>New York Rangers: 0.353<br>New York Islanders: 0.292<br>",
          "New York Giants: 0.438<br>New York Jets: 0.625<br>New York Yankees: 0.593<br>New York Mets: 0.506<br>New York Knicks: 0.422<br>New York Knicks: 0.366<br>New York Rangers: 0.402<br>New York Islanders: 0.256<br>",
          "New York Jets: 0.563<br>New York Giants: 0.625<br>New York Yankees: 0.639<br>New York Mets: 0.465<br>New York Knicks: 0.451<br>New York Islanders: 0.512<br>New York Rangers: 0.439<br>",
          "New York Giants: 0.25<br>New York Jets: 0.375<br>New York Yankees: 0.623<br>New York Mets: 0.409<br>New York Knicks: 0.476<br>New York Islanders: 0.426<br>New York Rangers: 0.390<br>",
          "New York Giants: 0.375<br>New York Jets: 0.625<br>New York Yankees: 0.623<br>New York Mets: 0.438<br>New York Knicks: 0.402<br>New York Islanders: 0.463<br>New York Rangers: 0.329<br>",
          "New York Jets: 0.25<br>New York Giants: 0.688<br>New York Yankees: 0.586<br>New York Mets: 0.512<br>New York Knicks: 0.28<br>",
          "New York Giants: 0.5<br>New York Jets: 0.625<br>New York Yankees: 0.598<br>New York Mets: 0.598<br>New York Knicks: 0.402<br>New York Rangers: 0.536<br>New York Islanders: 0.439<br>",
          "New York Jets: 0.25<br>New York Giants: 0.625<br>New York Yankees: 0.580<br>New York Mets: 0.543<br>New York Knicks: 0.28<br>New York Rangers: 0.512<br>New York Islanders: 0.487<br>",
          "New York Jets: 0.563<br>New York Giants: 0.75<br>New York Yankees: 0.549<br>New York Mets: 0.549<br>New York Knicks: 0.39<br>New York Rangers: 0.512<br>New York Islanders: 0.426<br>",
          "New York Giants: 0.5<br>New York Jets: 0.563<br>New York Yankees: 0.635<br>New York Mets: 0.432<br>New York Knicks: 0.354<br>New York Rangers: 0.524<br>New York Islanders: 0.317<br>",
          "New York Giants: 0.625<br>New York Jets: 0.688<br>New York Yankees: 0.586<br>New York Mets: 0.487<br>New York Knicks: 0.512<br>New York Rangers: 0.463<br>New York Islanders: 0.414<br>",
          "New York Jets: 0.5<br>New York Giants: 0.563<br>New York Yankees: 0.598<br>New York Mets: 0.475<br>New York Knicks: 0.545<br>New York Rangers: 0.536<br>New York Islanders: 0.365<br>",
          "New York Jets: 0.375<br>New York Giants: 0.563<br>New York Yankees: 0.586<br>New York Mets: 0.456<br>New York Knicks: 0.659<br>New York Rangers: 0.621<br>New York Islanders: 0.414<br>",
          "New York Giants: 0.438<br>New York Jets: 0.5<br>New York Yankees: 0.524<br>New York Mets: 0.456<br>New York Knicks: 0.451<br>New York Rangers: 0.541<br>New York Islanders: 0.5<br>",
          "New York Jets: 0.25<br>New York Giants: 0.375<br>New York Yankees: 0.518<br>New York Mets: 0.487<br>New York Knicks: 0.207<br>New York Rangers: 0.548<br>New York Islanders: 0.414<br>",
          "New York Giants: 0.375<br>New York Jets: 0.625<br>New York Yankees: 0.537<br>New York Mets: 0.555<br>New York Rangers: 0.646<br>New York Islanders: 0.573<br>",
          "New York Jets: 0.313<br>New York Giants: 0.688<br>New York Yankees: 0.518<br>New York Mets: 0.537<br>New York Rangers: 0.560<br>New York Islanders: 0.548<br>",
          "New York Giants: 0.188<br>New York Jets: 0.313<br>New York Yankees: 0.561<br>New York Mets: 0.432<br>New York Rangers: 0.585<br>New York Islanders: 0.5<br>",
          "New York Jets: 0.25<br>New York Giants: 0.313<br>New York Yankees: 0.617<br>New York Mets: 0.475<br>New York Islanders: 0.426<br>New York Rangers: 0.414<br>",
          "New York Giants: 0.25<br>New York Jets: 0.438<br>New York Yankees: 0.635<br>New York Mets: 0.530<br>New York Islanders: 0.585<br>New York Rangers: 0.390<br>",
          "New York Jets: 0.125<br>New York Giants: 0.375<br>New York Yankees: 0.55<br>New York Mets: 0.433<br>New York Islanders: 0.514<br>New York Rangers: 0.528<br>"
         ],
         "type": "scatter",
         "x": [
          1921,
          1922,
          1923,
          1924,
          1925,
          1926,
          1927,
          1928,
          1929,
          1930,
          1931,
          1932,
          1933,
          1934,
          1935,
          1936,
          1937,
          1938,
          1939,
          1940,
          1941,
          1942,
          1943,
          1944,
          1945,
          1946,
          1947,
          1948,
          1949,
          1950,
          1951,
          1952,
          1953,
          1954,
          1955,
          1956,
          1957,
          1958,
          1959,
          1960,
          1961,
          1962,
          1963,
          1964,
          1965,
          1966,
          1967,
          1968,
          1969,
          1970,
          1971,
          1972,
          1973,
          1974,
          1975,
          1976,
          1977,
          1978,
          1979,
          1980,
          1981,
          1982,
          1983,
          1984,
          1985,
          1986,
          1987,
          1988,
          1989,
          1990,
          1991,
          1992,
          1993,
          1994,
          1995,
          1996,
          1997,
          1998,
          1999,
          2000,
          2001,
          2002,
          2003,
          2004,
          2005,
          2006,
          2007,
          2008,
          2009,
          2010,
          2011,
          2012,
          2013,
          2014,
          2015,
          2016,
          2017,
          2018,
          2019,
          2020
         ],
         "y": [
          0.6274509803921569,
          0.6071428571428572,
          0.6328259373925009,
          0.5966847265221877,
          0.5499471405787195,
          0.572325105358218,
          0.7335627705627705,
          0.5412467532467532,
          0.6722399873856828,
          0.6675941558441558,
          0.457436876504988,
          0.4530844155844156,
          0.6368377192982456,
          0.549308186911128,
          0.599271669517919,
          0.498017316017316,
          0.5635844155844156,
          0.6261622807017544,
          0.6279801324503311,
          0.5930281954887218,
          0.6256260716407775,
          0.5002604237867396,
          0.4657101901366607,
          0.4657564935064935,
          0.45968421052631586,
          0.4422077922077922,
          0.37956883116883117,
          0.39657662337662336,
          0.4383792207792208,
          0.594561038961039,
          0.5850563487467946,
          0.5593714285714285,
          0.442806347295089,
          0.5647974025974026,
          0.4833428571428572,
          0.5498155844155844,
          0.5049688311688312,
          0.5901363636363637,
          0.5193538961038962,
          0.43468181818181817,
          0.5297813051146385,
          0.46680423280423283,
          0.45351054366996396,
          0.3654262198706643,
          0.3882774838330394,
          0.3547220529447765,
          0.48142651381540275,
          0.5724983316649984,
          0.5881086741276164,
          0.52490329218107,
          0.49112060778727445,
          0.5705188861317894,
          0.4032220267272027,
          0.41072351105684435,
          0.4191318342151676,
          0.4206324415160893,
          0.4367636684303351,
          0.46412919141753495,
          0.4905198412698413,
          0.44598324514991183,
          0.5064943030837232,
          0.5284841269841271,
          0.45342592592592595,
          0.5052275132275132,
          0.5179175348078039,
          0.5646746031746032,
          0.4632548500881834,
          0.5543500443655723,
          0.4797377666042263,
          0.49668694885361553,
          0.47157606778621275,
          0.47436860670194003,
          0.524479969765684,
          0.5375448196977907,
          0.41037301587301583,
          0.41535221749042883,
          0.5279822342667871,
          0.529663612509141,
          0.4918788924806182,
          0.5068701309752918,
          0.45118242810900333,
          0.5279727963295604,
          0.42163826415056027,
          0.46520161741299954,
          0.4633530864197531,
          0.5285915171850132,
          0.46835097001763665,
          0.5343985460489525,
          0.4751949498860068,
          0.5395889792231255,
          0.5120732997806169,
          0.5252564631995525,
          0.48744973544973547,
          0.40022678195035916,
          0.5520174646190906,
          0.5277186088527551,
          0.43003216902539393,
          0.41617600120445647,
          0.4717127371273713,
          0.4211017740429505
         ]
        },
        {
         "hovertemplate": "<br><b>Year</b>: %{x}<br><b>Winning Pct.</b>: %{y:.2f}<br>%{text}<extra></extra>",
         "mode": "lines",
         "name": "Boston (0.513)",
         "text": [
          "Boston Red Sox: 0.487<br>Boston Braves: 0.516<br>",
          "Boston Red Sox: 0.396<br>Boston Braves: 0.346<br>",
          "Boston Red Sox: 0.401<br>Boston Braves: 0.350<br>",
          "Boston Red Sox: 0.435<br>Boston Braves: 0.346<br>",
          "Boston Bulldogs: 0.833<br>Boston Red Sox: 0.309<br>Boston Braves: 0.457<br>",
          "Boston Bulldogs: 0.909<br>Boston Red Sox: 0.300<br>Boston Braves: 0.434<br>",
          "Boston Bulldogs: 0.417<br>Boston Red Sox: 0.331<br>Boston Braves: 0.389<br>",
          "Boston Bulldogs: 0.2<br>Boston Red Sox: 0.372<br>Boston Braves: 0.326<br>",
          "Boston Bulldogs: 0.5<br>Boston Red Sox: 0.376<br>Boston Braves: 0.363<br>",
          "Boston Red Sox: 0.337<br>Boston Braves: 0.454<br>",
          "Boston Red Sox: 0.407<br>Boston Braves: 0.415<br>",
          "Boston Red Sox: 0.279<br>Boston Braves: 0.5<br>",
          "Boston Red Sox: 0.422<br>Boston Braves: 0.538<br>",
          "Boston Red Sox: 0.5<br>Boston Braves: 0.516<br>",
          "Boston Red Sox: 0.509<br>Boston Braves: 0.248<br>",
          "Boston Red Sox: 0.480<br>Boston Bees: 0.461<br>",
          "Boston Red Sox: 0.526<br>Boston Bees: 0.519<br>",
          "Boston Red Sox: 0.590<br>Boston Bees: 0.506<br>",
          "Boston Red Sox: 0.589<br>Boston Bees: 0.417<br>",
          "Boston Red Sox: 0.532<br>Boston Bees: 0.427<br>",
          "Boston Red Sox: 0.545<br>Boston Braves: 0.402<br>",
          "Boston Red Sox: 0.611<br>Boston Braves: 0.398<br>",
          "Boston Red Sox: 0.447<br>Boston Braves: 0.444<br>",
          "Boston Red Sox: 0.5<br>Boston Braves: 0.422<br>",
          "Boston Red Sox: 0.461<br>Boston Braves: 0.440<br>",
          "Boston Red Sox: 0.675<br>Boston Braves: 0.529<br>Boston Celtics: 0.367<br>",
          "Boston Red Sox: 0.538<br>Boston Braves: 0.558<br>Boston Celtics: 0.417<br>",
          "Boston Red Sox: 0.619<br>Boston Braves: 0.594<br>Boston Celtics: 0.417<br>",
          "Boston Red Sox: 0.623<br>Boston Braves: 0.487<br>Boston Celtics: 0.324<br>",
          "Boston Red Sox: 0.610<br>Boston Braves: 0.538<br>Boston Celtics: 0.565<br>Boston Bruins: 0.314<br>",
          "Boston Red Sox: 0.564<br>Boston Braves: 0.493<br>Boston Celtics: 0.591<br>Boston Bruins: 0.314<br>",
          "Boston Red Sox: 0.493<br>Boston Braves: 0.418<br>Boston Celtics: 0.648<br>Boston Bruins: 0.357<br>",
          "Boston Red Sox: 0.549<br>Boston Celtics: 0.583<br>Boston Bruins: 0.4<br>",
          "Boston Red Sox: 0.448<br>Boston Celtics: 0.5<br>Boston Bruins: 0.457<br>",
          "Boston Red Sox: 0.545<br>Boston Celtics: 0.542<br>Boston Bruins: 0.328<br>",
          "Boston Red Sox: 0.545<br>Boston Celtics: 0.611<br>Boston Bruins: 0.328<br>",
          "Boston Red Sox: 0.532<br>Boston Celtics: 0.681<br>Boston Bruins: 0.485<br>",
          "Boston Red Sox: 0.512<br>Boston Celtics: 0.722<br>Boston Bruins: 0.385<br>",
          "Boston Red Sox: 0.487<br>Boston Celtics: 0.787<br>Boston Bruins: 0.457<br>",
          "Boston Red Sox: 0.422<br>Boston Celtics: 0.722<br>Boston Bruins: 0.4<br>",
          "Boston Red Sox: 0.469<br>Boston Celtics: 0.75<br>Boston Bruins: 0.214<br>",
          "Boston Red Sox: 0.475<br>Boston Celtics: 0.725<br>Boston Bruins: 0.214<br>",
          "Boston Red Sox: 0.472<br>Boston Celtics: 0.738<br>Boston Bruins: 0.2<br>",
          "Boston Red Sox: 0.444<br>Boston Celtics: 0.775<br>Boston Bruins: 0.257<br>",
          "Boston Red Sox: 0.382<br>Boston Celtics: 0.675<br>Boston Bruins: 0.3<br>",
          "Boston Red Sox: 0.444<br>Boston Celtics: 0.741<br>Boston Bruins: 0.3<br>",
          "Boston Red Sox: 0.567<br>Boston Celtics: 0.659<br>Boston Bruins: 0.242<br>",
          "Boston Red Sox: 0.530<br>Boston Celtics: 0.585<br>Boston Bruins: 0.5<br>",
          "Boston Red Sox: 0.537<br>Boston Celtics: 0.415<br>Boston Bruins: 0.552<br>",
          "Boston Red Sox: 0.537<br>Boston Celtics: 0.537<br>Boston Bruins: 0.526<br>",
          "Boston Red Sox: 0.524<br>Boston Celtics: 0.683<br>Boston Bruins: 0.730<br>",
          "Boston Red Sox: 0.548<br>Boston Celtics: 0.829<br>Boston Bruins: 0.692<br>",
          "Boston Red Sox: 0.549<br>Boston Celtics: 0.683<br>Boston Bruins: 0.653<br>",
          "Boston Red Sox: 0.518<br>Boston Celtics: 0.732<br>Boston Bruins: 0.666<br>",
          "Boston Red Sox: 0.593<br>Boston Celtics: 0.659<br>Boston Bruins: 0.5<br>",
          "Boston Red Sox: 0.512<br>Boston Celtics: 0.537<br>Boston Bruins: 0.6<br>",
          "Boston Red Sox: 0.602<br>Boston Celtics: 0.39<br>Boston Bruins: 0.612<br>",
          "Boston Red Sox: 0.607<br>Boston Celtics: 0.354<br>Boston Bruins: 0.637<br>",
          "Boston Red Sox: 0.568<br>Boston Celtics: 0.744<br>Boston Bruins: 0.537<br>",
          "Boston Red Sox: 0.518<br>Boston Celtics: 0.756<br>Boston Bruins: 0.575<br>",
          "Boston Red Sox: 0.546<br>Boston Celtics: 0.768<br>Boston Bruins: 0.462<br>",
          "Boston Red Sox: 0.549<br>Boston Celtics: 0.683<br>Boston Bruins: 0.537<br>",
          "Boston Red Sox: 0.481<br>Boston Celtics: 0.756<br>Boston Bruins: 0.625<br>",
          "Boston Red Sox: 0.530<br>Boston Celtics: 0.768<br>Boston Bruins: 0.612<br>",
          "Boston Red Sox: 0.5<br>Boston Celtics: 0.817<br>Boston Bruins: 0.45<br>",
          "Boston Red Sox: 0.590<br>Boston Celtics: 0.72<br>Boston Bruins: 0.462<br>",
          "Boston Red Sox: 0.481<br>Boston Celtics: 0.695<br>Boston Bruins: 0.487<br>",
          "Boston Red Sox: 0.549<br>Boston Celtics: 0.512<br>Boston Bruins: 0.55<br>",
          "Boston Red Sox: 0.512<br>Boston Celtics: 0.634<br>Boston Bruins: 0.462<br>",
          "Boston Red Sox: 0.543<br>Boston Celtics: 0.683<br>Boston Bruins: 0.575<br>",
          "Boston Red Sox: 0.518<br>Boston Celtics: 0.622<br>Boston Bruins: 0.55<br>",
          "Boston Red Sox: 0.450<br>Boston Celtics: 0.585<br>Boston Bruins: 0.45<br>",
          "Boston Red Sox: 0.493<br>Boston Celtics: 0.39<br>Boston Bruins: 0.607<br>",
          "Boston Red Sox: 0.469<br>Boston Celtics: 0.427<br>Boston Bruins: 0.5<br>",
          "Boston Red Sox: 0.597<br>Boston Celtics: 0.402<br>Boston Bruins: 0.562<br>",
          "Boston Red Sox: 0.524<br>Boston Celtics: 0.183<br>Boston Bruins: 0.487<br>",
          "Boston Red Sox: 0.481<br>Boston Celtics: 0.439<br>Boston Bruins: 0.317<br>",
          "Boston Red Sox: 0.567<br>Boston Celtics: 0.38<br>Boston Bruins: 0.475<br>",
          "Boston Red Sox: 0.580<br>Boston Celtics: 0.427<br>Boston Bruins: 0.475<br>",
          "Boston Red Sox: 0.524<br>Boston Celtics: 0.439<br>Boston Bruins: 0.292<br>",
          "Boston Red Sox: 0.509<br>Boston Celtics: 0.598<br>Boston Bruins: 0.439<br>",
          "Boston Red Sox: 0.574<br>Boston Celtics: 0.537<br>Boston Bruins: 0.524<br>",
          "Boston Red Sox: 0.586<br>Boston Celtics: 0.439<br>Boston Bruins: 0.439<br>",
          "Boston Red Sox: 0.604<br>Boston Celtics: 0.549<br>Boston Bruins: 0.5<br>",
          "Boston Red Sox: 0.586<br>Boston Celtics: 0.402<br>",
          "Boston Red Sox: 0.530<br>Boston Celtics: 0.293<br>Boston Bruins: 0.353<br>",
          "Boston Red Sox: 0.592<br>Boston Celtics: 0.805<br>Boston Bruins: 0.426<br>",
          "Boston Red Sox: 0.586<br>Boston Celtics: 0.756<br>Boston Bruins: 0.5<br>",
          "Boston Red Sox: 0.586<br>Boston Celtics: 0.61<br>Boston Bruins: 0.646<br>",
          "Boston Red Sox: 0.549<br>Boston Celtics: 0.683<br>Boston Bruins: 0.475<br>",
          "Boston Red Sox: 0.555<br>Boston Celtics: 0.591<br>Boston Bruins: 0.560<br>",
          "Boston Red Sox: 0.425<br>Boston Celtics: 0.506<br>Boston Bruins: 0.597<br>",
          "Boston Red Sox: 0.598<br>Boston Celtics: 0.305<br>Boston Bruins: 0.583<br>",
          "Boston Red Sox: 0.438<br>Boston Celtics: 0.488<br>Boston Bruins: 0.658<br>",
          "Boston Red Sox: 0.481<br>Boston Celtics: 0.585<br>Boston Bruins: 0.5<br>",
          "Boston Red Sox: 0.574<br>Boston Celtics: 0.625<br>Boston Bruins: 0.512<br>",
          "Boston Red Sox: 0.574<br>Boston Bruins: 0.536<br>",
          "Boston Red Sox: 0.666<br>Boston Bruins: 0.609<br>",
          "Boston Red Sox: 0.518<br>Boston Bruins: 0.597<br>",
          "Boston Red Sox: 0.4<br>Boston Bruins: 0.628<br>"
         ],
         "type": "scatter",
         "x": [
          1921,
          1922,
          1923,
          1924,
          1925,
          1926,
          1927,
          1928,
          1929,
          1930,
          1931,
          1932,
          1933,
          1934,
          1935,
          1936,
          1937,
          1938,
          1939,
          1940,
          1941,
          1942,
          1943,
          1944,
          1945,
          1946,
          1947,
          1948,
          1949,
          1950,
          1951,
          1952,
          1953,
          1954,
          1955,
          1956,
          1957,
          1958,
          1959,
          1960,
          1961,
          1962,
          1963,
          1964,
          1965,
          1966,
          1967,
          1968,
          1969,
          1970,
          1971,
          1972,
          1973,
          1974,
          1975,
          1976,
          1977,
          1978,
          1979,
          1980,
          1981,
          1982,
          1983,
          1984,
          1985,
          1986,
          1987,
          1988,
          1989,
          1990,
          1991,
          1992,
          1993,
          1994,
          1995,
          1996,
          1997,
          1998,
          1999,
          2000,
          2001,
          2002,
          2003,
          2004,
          2005,
          2006,
          2007,
          2008,
          2009,
          2010,
          2011,
          2012,
          2013,
          2014,
          2015,
          2016,
          2017,
          2018,
          2019,
          2020
         ],
         "y": [
          0.5016764281470164,
          0.37125456243103305,
          0.3759825700615175,
          0.3907350819115525,
          0.5332422887283569,
          0.5479547070290104,
          0.37925974025974024,
          0.29978213507625273,
          0.4134199134199134,
          0.39610389610389607,
          0.4117395762132604,
          0.38961038961038963,
          0.4808899154536739,
          0.5082781456953642,
          0.3790849673202614,
          0.47077922077922074,
          0.5230263157894737,
          0.5485914871070293,
          0.5033112582781457,
          0.48004955570745045,
          0.474025974025974,
          0.5052453769559032,
          0.44590643274853803,
          0.461038961038961,
          0.45091421736158577,
          0.5239121466768526,
          0.5048008658008658,
          0.5437086935132476,
          0.4781298701298701,
          0.5071590909090908,
          0.4909318181818182,
          0.47923750106103047,
          0.5106732026143791,
          0.46839826839826837,
          0.472008658008658,
          0.49500865800865795,
          0.5663939393939393,
          0.5402337662337663,
          0.577051948051948,
          0.5146926406926408,
          0.4778071722516167,
          0.47142857142857136,
          0.4700165631469979,
          0.49219576719576724,
          0.45257201646090534,
          0.4951481481481481,
          0.48991945914168133,
          0.5386213991769547,
          0.5015562053281352,
          0.5334509421702404,
          0.646153529597974,
          0.6898982630272953,
          0.6287429566318455,
          0.6390617283950617,
          0.58425,
          0.5497818930041153,
          0.5349948240165632,
          0.5329539877300613,
          0.61675,
          0.6165833333333334,
          0.5922654320987655,
          0.5899609053497943,
          0.6208271604938271,
          0.6371213991769548,
          0.589,
          0.5908540372670807,
          0.5546604938271604,
          0.5371275720164609,
          0.5362818930041152,
          0.6004032921810699,
          0.5635061728395062,
          0.4952057613168724,
          0.49699000587889475,
          0.46552173913043476,
          0.5205740740740741,
          0.3984987453578239,
          0.41251821740439626,
          0.47450366355515405,
          0.49428555655926926,
          0.4187914282846532,
          0.5154470534767459,
          0.5451547726588377,
          0.48814804777677406,
          0.5513127572016461,
          0.4942098765432099,
          0.3925075780387433,
          0.6081406202950919,
          0.6141399176954733,
          0.6142537388336846,
          0.5693308240489813,
          0.5691770551038844,
          0.5098289671785606,
          0.4956995884773663,
          0.5282693967680417,
          0.5221604938271605,
          0.5704230653417645,
          0.5553297199638663,
          0.6382113821138211,
          0.5580397470641373,
          0.5142857142857142
         ]
        },
        {
         "hovertemplate": "<br><b>Year</b>: %{x}<br><b>Winning Pct.</b>: %{y:.2f}<br>%{text}<extra></extra>",
         "mode": "lines",
         "name": "Los Angeles (0.500)",
         "text": [
          "Los Angeles Buccaneers: 0.75<br>",
          "Los Angeles Rams: 0.091<br>",
          "Los Angeles Rams: 0.364<br>",
          "Los Angeles Rams: 0.5<br>",
          "Los Angeles Rams: 0.4<br>",
          "Los Angeles Rams: 0.182<br>",
          "Los Angeles Rams: 0.455<br>",
          "Los Angeles Rams: 0.4<br>",
          "Los Angeles Rams: 0.9<br>",
          "Los Angeles Dons: 0.0<br>Los Angeles Rams: 0.6<br>",
          "Los Angeles Dons: 0.0<br>Los Angeles Rams: 0.5<br>",
          "Los Angeles Dons: 0.0<br>Los Angeles Rams: 0.545<br>Los Angeles Lakers: 0.733<br>",
          "Los Angeles Dons: 0.0<br>Los Angeles Rams: 0.8<br>Los Angeles Lakers: 0.75<br>",
          "Los Angeles Rams: 0.75<br>Los Angeles Lakers: 0.647<br>",
          "Los Angeles Rams: 0.667<br>Los Angeles Lakers: 0.606<br>",
          "Los Angeles Rams: 0.75<br>Los Angeles Lakers: 0.686<br>",
          "Los Angeles Rams: 0.727<br>Los Angeles Lakers: 0.639<br>",
          "Los Angeles Rams: 0.545<br>Los Angeles Lakers: 0.556<br>",
          "Los Angeles Rams: 0.727<br>Los Angeles Lakers: 0.458<br>",
          "Los Angeles Rams: 0.333<br>Los Angeles Lakers: 0.472<br>",
          "Los Angeles Rams: 0.5<br>Los Angeles Lakers: 0.264<br>",
          "Los Angeles Rams: 0.667<br>Los Angeles Dodgers: 0.461<br>Los Angeles Lakers: 0.458<br>",
          "Los Angeles Rams: 0.167<br>Los Angeles Dodgers: 0.564<br>Los Angeles Lakers: 0.333<br>",
          "Los Angeles Rams: 0.364<br>Los Angeles Chargers: 0.714<br>Los Angeles Dodgers: 0.532<br>Los Angeles Lakers: 0.456<br>",
          "Los Angeles Rams: 0.286<br>Los Angeles Chargers: 0.857<br>Los Angeles Angels: 0.434<br>Los Angeles Dodgers: 0.577<br>Los Angeles Lakers: 0.675<br>",
          "Los Angeles Rams: 0.077<br>Los Angeles Chargers: 0.286<br>Los Angeles Angels: 0.530<br>Los Angeles Dodgers: 0.618<br>Los Angeles Lakers: 0.663<br>",
          "Los Angeles Rams: 0.357<br>Los Angeles Chargers: 0.786<br>Los Angeles Angels: 0.434<br>Los Angeles Dodgers: 0.611<br>Los Angeles Lakers: 0.525<br>",
          "Los Angeles Rams: 0.417<br>Los Angeles Chargers: 0.615<br>Los Angeles Angels: 0.506<br>Los Angeles Dodgers: 0.493<br>Los Angeles Lakers: 0.613<br>",
          "Los Angeles Rams: 0.286<br>Los Angeles Chargers: 0.818<br>Los Angeles Dodgers: 0.598<br>Los Angeles Lakers: 0.563<br>",
          "Los Angeles Chargers: 0.538<br>Los Angeles Rams: 0.571<br>Los Angeles Dodgers: 0.586<br>Los Angeles Lakers: 0.444<br>",
          "Los Angeles Chargers: 0.615<br>Los Angeles Rams: 0.917<br>Los Angeles Dodgers: 0.450<br>Los Angeles Lakers: 0.634<br>",
          "Los Angeles Chargers: 0.643<br>Los Angeles Rams: 0.769<br>Los Angeles Dodgers: 0.469<br>Los Angeles Lakers: 0.671<br>Los Angeles Kings: 0.418<br>",
          "Los Angeles Chargers: 0.571<br>Los Angeles Rams: 0.786<br>Los Angeles Dodgers: 0.524<br>Los Angeles Lakers: 0.561<br>Los Angeles Kings: 0.315<br>",
          "Los Angeles Chargers: 0.455<br>Los Angeles Rams: 0.692<br>Los Angeles Dodgers: 0.540<br>Los Angeles Lakers: 0.585<br>Los Angeles Kings: 0.184<br>",
          "Los Angeles Chargers: 0.429<br>Los Angeles Rams: 0.615<br>Los Angeles Dodgers: 0.549<br>Los Angeles Lakers: 0.841<br>Los Angeles Kings: 0.320<br>",
          "Los Angeles Chargers: 0.321<br>Los Angeles Rams: 0.464<br>Los Angeles Dodgers: 0.548<br>Los Angeles Lakers: 0.732<br>Los Angeles Kings: 0.256<br>",
          "Los Angeles Chargers: 0.179<br>Los Angeles Rams: 0.857<br>Los Angeles Dodgers: 0.590<br>Los Angeles Lakers: 0.573<br>Los Angeles Kings: 0.397<br>",
          "Los Angeles Chargers: 0.357<br>Los Angeles Rams: 0.714<br>Los Angeles Dodgers: 0.629<br>Los Angeles Lakers: 0.366<br>Los Angeles Kings: 0.423<br>",
          "Los Angeles Chargers: 0.143<br>Los Angeles Rams: 0.857<br>Los Angeles Dodgers: 0.543<br>Los Angeles Lakers: 0.488<br>Los Angeles Kings: 0.525<br>",
          "Los Angeles Chargers: 0.429<br>Los Angeles Rams: 0.75<br>Los Angeles Dodgers: 0.567<br>Los Angeles Lakers: 0.646<br>Los Angeles Kings: 0.475<br>",
          "Los Angeles Chargers: 0.5<br>Los Angeles Rams: 0.714<br>Los Angeles Dodgers: 0.604<br>Los Angeles Lakers: 0.549<br>Los Angeles Kings: 0.425<br>",
          "Los Angeles Chargers: 0.563<br>Los Angeles Rams: 0.75<br>Los Angeles Dodgers: 0.586<br>Los Angeles Clippers: 0.524<br>Los Angeles Lakers: 0.573<br>Los Angeles Kings: 0.387<br>",
          "Los Angeles Rams: 0.563<br>Los Angeles Chargers: 0.75<br>Los Angeles Dodgers: 0.487<br>Los Angeles Clippers: 0.427<br>Los Angeles Lakers: 0.732<br>Los Angeles Kings: 0.425<br>",
          "Los Angeles Chargers: 0.688<br>Los Angeles Rams: 0.688<br>Los Angeles Dodgers: 0.564<br>Los Angeles Clippers: 0.439<br>Los Angeles Lakers: 0.659<br>Los Angeles Kings: 0.375<br>",
          "Los Angeles Rams: 0.375<br>Los Angeles Chargers: 0.625<br>Los Angeles Dodgers: 0.572<br>Los Angeles Clippers: 0.207<br>Los Angeles Lakers: 0.695<br>Los Angeles Kings: 0.537<br>",
          "Los Angeles Rams: 0.222<br>Los Angeles Chargers: 0.667<br>Los Angeles Dodgers: 0.543<br>Los Angeles Clippers: 0.305<br>Los Angeles Lakers: 0.707<br>Los Angeles Kings: 0.3<br>",
          "Los Angeles Chargers: 0.375<br>Los Angeles Rams: 0.563<br>Los Angeles Dodgers: 0.561<br>Los Angeles Clippers: 0.366<br>Los Angeles Lakers: 0.659<br>Los Angeles Kings: 0.337<br>",
          "Los Angeles Chargers: 0.438<br>Los Angeles Rams: 0.625<br>Los Angeles Dodgers: 0.487<br>Los Angeles Clippers: 0.378<br>Los Angeles Lakers: 0.756<br>Los Angeles Kings: 0.287<br>",
          "Los Angeles Chargers: 0.5<br>Los Angeles Rams: 0.688<br>Los Angeles Dodgers: 0.586<br>Los Angeles Clippers: 0.39<br>Los Angeles Lakers: 0.756<br>Los Angeles Kings: 0.425<br>",
          "Los Angeles Chargers: 0.25<br>Los Angeles Rams: 0.625<br>Los Angeles Dodgers: 0.450<br>Los Angeles Clippers: 0.146<br>Los Angeles Lakers: 0.793<br>Los Angeles Kings: 0.287<br>",
          "Los Angeles Rams: 0.4<br>Los Angeles Chargers: 0.533<br>Los Angeles Dodgers: 0.450<br>Los Angeles Clippers: 0.207<br>Los Angeles Lakers: 0.756<br>Los Angeles Kings: 0.387<br>",
          "Los Angeles Chargers: 0.375<br>Los Angeles Rams: 0.625<br>Los Angeles Dodgers: 0.583<br>Los Angeles Clippers: 0.256<br>Los Angeles Lakers: 0.695<br>Los Angeles Kings: 0.375<br>",
          "Los Angeles Chargers: 0.375<br>Los Angeles Rams: 0.688<br>Los Angeles Dodgers: 0.481<br>Los Angeles Clippers: 0.366<br>Los Angeles Lakers: 0.768<br>Los Angeles Kings: 0.525<br>",
          "Los Angeles Rams: 0.313<br>Los Angeles Chargers: 0.375<br>Los Angeles Dodgers: 0.530<br>Los Angeles Clippers: 0.378<br>Los Angeles Lakers: 0.707<br>Los Angeles Kings: 0.425<br>",
          "Los Angeles Rams: 0.188<br>Los Angeles Chargers: 0.25<br>Los Angeles Dodgers: 0.574<br>Los Angeles Clippers: 0.549<br>Los Angeles Lakers: 0.524<br>Los Angeles Kings: 0.575<br>",
          "Los Angeles Rams: 0.375<br>Los Angeles Chargers: 0.688<br>Los Angeles Dodgers: 0.388<br>Los Angeles Clippers: 0.5<br>Los Angeles Lakers: 0.476<br>Los Angeles Kings: 0.437<br>",
          "Los Angeles Rams: 0.313<br>Los Angeles Chargers: 0.5<br>Los Angeles Dodgers: 0.5<br>Los Angeles Clippers: 0.329<br>Los Angeles Lakers: 0.402<br>Los Angeles Kings: 0.464<br>",
          "Los Angeles Rams: 0.25<br>Los Angeles Chargers: 0.688<br>Los Angeles Dodgers: 0.508<br>Los Angeles Clippers: 0.207<br>Los Angeles Lakers: 0.585<br>Los Angeles Kings: 0.321<br>",
          "Los Angeles Rams: 0.438<br>Los Angeles Chargers: 0.563<br>Los Angeles Dodgers: 0.541<br>Los Angeles Clippers: 0.354<br>Los Angeles Lakers: 0.646<br>Los Angeles Kings: 0.333<br>",
          "Los Angeles Rams: 0.375<br>Los Angeles Chargers: 0.5<br>Los Angeles Dodgers: 0.555<br>Los Angeles Clippers: 0.439<br>Los Angeles Lakers: 0.683<br>Los Angeles Kings: 0.292<br>",
          "Los Angeles Chargers: 0.25<br>Los Angeles Rams: 0.313<br>Los Angeles Dodgers: 0.543<br>Los Angeles Clippers: 0.207<br>Los Angeles Lakers: 0.744<br>Los Angeles Kings: 0.341<br>",
          "Los Angeles Rams: 0.25<br>Los Angeles Chargers: 0.313<br>Los Angeles Dodgers: 0.512<br>Los Angeles Clippers: 0.18<br>Los Angeles Lakers: 0.62<br>Los Angeles Kings: 0.463<br>",
          "Los Angeles Chargers: 0.5<br>Los Angeles Rams: 0.813<br>Los Angeles Dodgers: 0.475<br>Los Angeles Clippers: 0.183<br>Los Angeles Lakers: 0.817<br>Los Angeles Kings: 0.390<br>",
          "Los Angeles Chargers: 0.063<br>Los Angeles Rams: 0.625<br>Los Angeles Dodgers: 0.530<br>Los Angeles Clippers: 0.378<br>Los Angeles Lakers: 0.683<br>Los Angeles Kings: 0.475<br>",
          "Los Angeles Chargers: 0.313<br>Los Angeles Rams: 0.875<br>Los Angeles Dodgers: 0.530<br>Los Angeles Clippers: 0.476<br>Los Angeles Lakers: 0.707<br>Los Angeles Kings: 0.463<br>",
          "Los Angeles Rams: 0.438<br>Los Angeles Chargers: 0.5<br>Los Angeles Dodgers: 0.567<br>Los Angeles Clippers: 0.329<br>Los Angeles Lakers: 0.61<br>Los Angeles Kings: 0.487<br>",
          "Los Angeles Chargers: 0.25<br>Los Angeles Rams: 0.75<br>Los Angeles Dodgers: 0.524<br>Los Angeles Clippers: 0.341<br>Los Angeles Lakers: 0.683<br>Los Angeles Kings: 0.402<br>",
          "Los Angeles Rams: 0.5<br>Los Angeles Chargers: 0.75<br>Los Angeles Dodgers: 0.574<br>Los Angeles Clippers: 0.451<br>Los Angeles Lakers: 0.415<br>Los Angeles Kings: 0.341<br>",
          "Los Angeles Rams: 0.375<br>Los Angeles Chargers: 0.563<br>Los Angeles Angels of Anaheim: 0.586<br>Los Angeles Dodgers: 0.438<br>Los Angeles Clippers: 0.573<br>Los Angeles Lakers: 0.549<br>",
          "Los Angeles Rams: 0.5<br>Los Angeles Chargers: 0.875<br>Los Angeles Angels of Anaheim: 0.549<br>Los Angeles Dodgers: 0.543<br>Los Angeles Clippers: 0.488<br>Los Angeles Lakers: 0.512<br>Los Angeles Kings: 0.512<br>",
          "Los Angeles Rams: 0.188<br>Los Angeles Chargers: 0.688<br>Los Angeles Angels of Anaheim: 0.580<br>Los Angeles Dodgers: 0.506<br>Los Angeles Clippers: 0.28<br>Los Angeles Lakers: 0.695<br>Los Angeles Kings: 0.329<br>",
          "Los Angeles Rams: 0.125<br>Los Angeles Chargers: 0.5<br>Los Angeles Angels of Anaheim: 0.617<br>Los Angeles Dodgers: 0.518<br>Los Angeles Clippers: 0.232<br>Los Angeles Lakers: 0.793<br>Los Angeles Kings: 0.390<br>",
          "Los Angeles Rams: 0.063<br>Los Angeles Chargers: 0.813<br>Los Angeles Angels of Anaheim: 0.598<br>Los Angeles Dodgers: 0.586<br>Los Angeles Clippers: 0.354<br>Los Angeles Lakers: 0.695<br>Los Angeles Kings: 0.414<br>",
          "Los Angeles Rams: 0.438<br>Los Angeles Chargers: 0.563<br>Los Angeles Angels of Anaheim: 0.493<br>Los Angeles Dodgers: 0.493<br>Los Angeles Clippers: 0.39<br>Los Angeles Lakers: 0.695<br>Los Angeles Kings: 0.560<br>",
          "Los Angeles Rams: 0.125<br>Los Angeles Chargers: 0.5<br>Los Angeles Angels of Anaheim: 0.530<br>Los Angeles Dodgers: 0.509<br>Los Angeles Clippers: 0.606<br>Los Angeles Lakers: 0.621<br>Los Angeles Kings: 0.560<br>",
          "Los Angeles Chargers: 0.438<br>Los Angeles Rams: 0.469<br>Los Angeles Angels of Anaheim: 0.549<br>Los Angeles Dodgers: 0.530<br>Los Angeles Clippers: 0.683<br>Los Angeles Lakers: 0.549<br>Los Angeles Kings: 0.487<br>",
          "Los Angeles Rams: 0.438<br>Los Angeles Chargers: 0.563<br>Los Angeles Angels of Anaheim: 0.481<br>Los Angeles Dodgers: 0.567<br>Los Angeles Clippers: 0.695<br>Los Angeles Lakers: 0.329<br>Los Angeles Kings: 0.562<br>",
          "Los Angeles Rams: 0.375<br>Los Angeles Chargers: 0.563<br>Los Angeles Angels of Anaheim: 0.604<br>Los Angeles Dodgers: 0.580<br>Los Angeles Clippers: 0.683<br>Los Angeles Lakers: 0.256<br>Los Angeles Kings: 0.560<br>",
          "Los Angeles Chargers: 0.25<br>Los Angeles Rams: 0.438<br>Los Angeles Angels of Anaheim: 0.524<br>Los Angeles Dodgers: 0.567<br>Los Angeles Clippers: 0.646<br>Los Angeles Lakers: 0.207<br>Los Angeles Kings: 0.487<br>",
          "Los Angeles Rams: 0.25<br>Los Angeles Chargers: 0.313<br>Los Angeles Angels of Anaheim: 0.456<br>Los Angeles Dodgers: 0.561<br>Los Angeles Clippers: 0.644<br>Los Angeles Lakers: 0.333<br>Los Angeles Kings: 0.585<br>",
          "Los Angeles Chargers: 0.563<br>Los Angeles Rams: 0.688<br>Los Angeles Angels of Anaheim: 0.493<br>Los Angeles Dodgers: 0.641<br>Los Angeles Kings: 0.475<br>",
          "Los Angeles Chargers: 0.75<br>Los Angeles Rams: 0.813<br>Los Angeles Angels of Anaheim: 0.493<br>Los Angeles Dodgers: 0.564<br>Los Angeles Kings: 0.548<br>",
          "Los Angeles Chargers: 0.313<br>Los Angeles Rams: 0.563<br>Los Angeles Angels of Anaheim: 0.444<br>Los Angeles Dodgers: 0.654<br>Los Angeles Kings: 0.378<br>",
          "Los Angeles Chargers: 0.438<br>Los Angeles Rams: 0.625<br>Los Angeles Angels of Anaheim: 0.433<br>Los Angeles Dodgers: 0.716<br>Los Angeles Kings: 0.414<br>"
         ],
         "type": "scatter",
         "x": [
          1926,
          1937,
          1938,
          1939,
          1940,
          1941,
          1942,
          1944,
          1945,
          1946,
          1947,
          1948,
          1949,
          1950,
          1951,
          1952,
          1953,
          1954,
          1955,
          1956,
          1957,
          1958,
          1959,
          1960,
          1961,
          1962,
          1963,
          1964,
          1965,
          1966,
          1967,
          1968,
          1969,
          1970,
          1971,
          1972,
          1973,
          1974,
          1975,
          1976,
          1977,
          1978,
          1979,
          1980,
          1981,
          1982,
          1983,
          1984,
          1985,
          1986,
          1987,
          1988,
          1989,
          1990,
          1991,
          1992,
          1993,
          1994,
          1995,
          1996,
          1997,
          1998,
          1999,
          2000,
          2001,
          2002,
          2003,
          2004,
          2005,
          2006,
          2007,
          2008,
          2009,
          2010,
          2011,
          2012,
          2013,
          2014,
          2015,
          2016,
          2017,
          2018,
          2019,
          2020
         ],
         "y": [
          0.75,
          0.091,
          0.364,
          0.5,
          0.4,
          0.182,
          0.455,
          0.4,
          0.9,
          0.3,
          0.25,
          0.426,
          0.5166666666666667,
          0.6985,
          0.6365000000000001,
          0.718,
          0.683,
          0.5505,
          0.5925,
          0.40249999999999997,
          0.382,
          0.5286796536796537,
          0.3547008547008547,
          0.5166168831168831,
          0.566140937323546,
          0.43500920314253644,
          0.5427787439613526,
          0.529,
          0.5664413580246913,
          0.5348549382716049,
          0.6541543209876544,
          0.5942109442776109,
          0.5516961663417803,
          0.49131663942464854,
          0.5509791073124407,
          0.46435947063689,
          0.5192996018474278,
          0.4979413105413105,
          0.511241975308642,
          0.5735802469135802,
          0.5585876543209877,
          0.5639866255144033,
          0.5641090534979424,
          0.568902862985685,
          0.5020378787878788,
          0.45736831275720163,
          0.47703806584362135,
          0.4953590534979424,
          0.5575699588477366,
          0.4253528806584362,
          0.4556862139917695,
          0.48497515527950313,
          0.533875,
          0.45481069958847736,
          0.4433456790123456,
          0.47756481481481483,
          0.41804761904761906,
          0.4267000835421888,
          0.47933333333333333,
          0.47420641373080397,
          0.3997788818628927,
          0.3897933855264479,
          0.5297587574023889,
          0.4592456589380709,
          0.5608798052795343,
          0.4887843521027803,
          0.49185506373582255,
          0.5052562481180367,
          0.5141152263374485,
          0.5685411020776875,
          0.46666972082419234,
          0.45372091022497524,
          0.5035456187895212,
          0.5192328472491073,
          0.4933080824961853,
          0.5295788273755754,
          0.5195546737213403,
          0.5175943992773261,
          0.445913924377339,
          0.44912633888243647,
          0.5724824450466727,
          0.6340049652425631,
          0.470562842517314,
          0.5254571428571428
         ]
        },
        {
         "hovertemplate": "<br><b>Year</b>: %{x}<br><b>Winning Pct.</b>: %{y:.2f}<br>%{text}<extra></extra>",
         "mode": "lines",
         "name": "Atlanta (0.478)",
         "text": [
          "Atlanta Blackhawks: 0.453<br>",
          "Atlanta Blackhawks: 0.368<br>",
          "Atlanta Hawks: 0.258<br>",
          "Atlanta Hawks: 0.38<br>",
          "Atlanta Hawks: 0.292<br>",
          "Atlanta Hawks: 0.361<br>",
          "Atlanta Hawks: 0.458<br>",
          "Atlanta Hawks: 0.472<br>",
          "Atlanta Hawks: 0.569<br>",
          "Atlanta Hawks: 0.681<br>",
          "Atlanta Hawks: 0.613<br>",
          "Atlanta Hawks: 0.646<br>",
          "Atlanta Hawks: 0.363<br>",
          "Atlanta Hawks: 0.6<br>",
          "Atlanta Hawks: 0.575<br>",
          "Atlanta Hawks: 0.563<br>",
          "Atlanta Hawks: 0.45<br>",
          "Atlanta Falcons: 0.214<br>Atlanta Braves: 0.524<br>Atlanta Hawks: 0.481<br>",
          "Atlanta Falcons: 0.077<br>Atlanta Braves: 0.475<br>Atlanta Hawks: 0.683<br>",
          "Atlanta Falcons: 0.143<br>Atlanta Braves: 0.5<br>Atlanta Hawks: 0.585<br>",
          "Atlanta Falcons: 0.429<br>Atlanta Braves: 0.574<br>Atlanta Hawks: 0.585<br>",
          "Atlanta Falcons: 0.333<br>Atlanta Braves: 0.469<br>Atlanta Hawks: 0.439<br>",
          "Atlanta Falcons: 0.538<br>Atlanta Braves: 0.506<br>Atlanta Hawks: 0.439<br>",
          "Atlanta Falcons: 0.5<br>Atlanta Braves: 0.454<br>Atlanta Hawks: 0.561<br>",
          "Atlanta Falcons: 0.643<br>Atlanta Braves: 0.472<br>Atlanta Hawks: 0.427<br>Atlanta Flames: 0.320<br>",
          "Atlanta Falcons: 0.214<br>Atlanta Braves: 0.543<br>Atlanta Hawks: 0.378<br>Atlanta Flames: 0.384<br>",
          "Atlanta Falcons: 0.286<br>Atlanta Braves: 0.416<br>Atlanta Hawks: 0.354<br>Atlanta Flames: 0.425<br>",
          "Atlanta Falcons: 0.286<br>Atlanta Braves: 0.432<br>Atlanta Hawks: 0.378<br>Atlanta Flames: 0.437<br>",
          "Atlanta Falcons: 0.5<br>Atlanta Braves: 0.376<br>Atlanta Hawks: 0.5<br>Atlanta Flames: 0.425<br>",
          "Atlanta Falcons: 0.563<br>Atlanta Braves: 0.425<br>Atlanta Hawks: 0.561<br>Atlanta Flames: 0.425<br>",
          "Atlanta Falcons: 0.375<br>Atlanta Braves: 0.412<br>Atlanta Hawks: 0.61<br>Atlanta Flames: 0.512<br>",
          "Atlanta Falcons: 0.75<br>Atlanta Braves: 0.503<br>Atlanta Hawks: 0.378<br>Atlanta Flames: 0.437<br>",
          "Atlanta Falcons: 0.438<br>Atlanta Braves: 0.471<br>Atlanta Hawks: 0.512<br>",
          "Atlanta Falcons: 0.556<br>Atlanta Braves: 0.549<br>Atlanta Hawks: 0.524<br>",
          "Atlanta Falcons: 0.438<br>Atlanta Braves: 0.543<br>Atlanta Hawks: 0.488<br>",
          "Atlanta Falcons: 0.25<br>Atlanta Braves: 0.493<br>Atlanta Hawks: 0.415<br>",
          "Atlanta Falcons: 0.25<br>Atlanta Braves: 0.407<br>Atlanta Hawks: 0.61<br>",
          "Atlanta Falcons: 0.469<br>Atlanta Braves: 0.447<br>Atlanta Hawks: 0.695<br>",
          "Atlanta Falcons: 0.2<br>Atlanta Braves: 0.428<br>Atlanta Hawks: 0.61<br>",
          "Atlanta Falcons: 0.313<br>Atlanta Braves: 0.337<br>Atlanta Hawks: 0.634<br>",
          "Atlanta Falcons: 0.188<br>Atlanta Braves: 0.393<br>Atlanta Hawks: 0.5<br>",
          "Atlanta Falcons: 0.313<br>Atlanta Braves: 0.401<br>Atlanta Hawks: 0.524<br>",
          "Atlanta Falcons: 0.625<br>Atlanta Braves: 0.580<br>Atlanta Hawks: 0.463<br>",
          "Atlanta Falcons: 0.375<br>Atlanta Braves: 0.604<br>Atlanta Hawks: 0.524<br>",
          "Atlanta Falcons: 0.375<br>Atlanta Braves: 0.641<br>Atlanta Hawks: 0.695<br>",
          "Atlanta Falcons: 0.438<br>Atlanta Braves: 0.596<br>Atlanta Hawks: 0.512<br>",
          "Atlanta Falcons: 0.563<br>Atlanta Braves: 0.625<br>Atlanta Hawks: 0.561<br>",
          "Atlanta Falcons: 0.188<br>Atlanta Braves: 0.592<br>Atlanta Hawks: 0.683<br>",
          "Atlanta Falcons: 0.438<br>Atlanta Braves: 0.623<br>Atlanta Hawks: 0.61<br>",
          "Atlanta Falcons: 0.875<br>Atlanta Braves: 0.654<br>Atlanta Hawks: 0.62<br>",
          "Atlanta Falcons: 0.313<br>Atlanta Braves: 0.635<br>Atlanta Hawks: 0.341<br>",
          "Atlanta Falcons: 0.25<br>Atlanta Braves: 0.586<br>Atlanta Hawks: 0.305<br>Atlanta Thrashers: 0.170<br>",
          "Atlanta Falcons: 0.438<br>Atlanta Braves: 0.543<br>Atlanta Hawks: 0.402<br>Atlanta Thrashers: 0.280<br>",
          "Atlanta Falcons: 0.594<br>Atlanta Braves: 0.631<br>Atlanta Hawks: 0.427<br>Atlanta Thrashers: 0.231<br>",
          "Atlanta Falcons: 0.313<br>Atlanta Braves: 0.623<br>Atlanta Hawks: 0.341<br>Atlanta Thrashers: 0.378<br>",
          "Atlanta Falcons: 0.688<br>Atlanta Braves: 0.592<br>Atlanta Hawks: 0.159<br>Atlanta Thrashers: 0.402<br>",
          "Atlanta Falcons: 0.5<br>Atlanta Braves: 0.555<br>Atlanta Hawks: 0.317<br>",
          "Atlanta Falcons: 0.438<br>Atlanta Braves: 0.487<br>Atlanta Hawks: 0.366<br>Atlanta Thrashers: 0.5<br>",
          "Atlanta Falcons: 0.25<br>Atlanta Braves: 0.518<br>Atlanta Hawks: 0.451<br>Atlanta Thrashers: 0.524<br>",
          "Atlanta Falcons: 0.688<br>Atlanta Braves: 0.444<br>Atlanta Hawks: 0.573<br>Atlanta Thrashers: 0.414<br>",
          "Atlanta Falcons: 0.563<br>Atlanta Braves: 0.530<br>Atlanta Hawks: 0.646<br>Atlanta Thrashers: 0.426<br>",
          "Atlanta Falcons: 0.813<br>Atlanta Braves: 0.561<br>Atlanta Hawks: 0.537<br>Atlanta Thrashers: 0.426<br>",
          "Atlanta Falcons: 0.625<br>Atlanta Braves: 0.549<br>Atlanta Hawks: 0.606<br>Atlanta Thrashers: 0.414<br>",
          "Atlanta Falcons: 0.813<br>Atlanta Braves: 0.580<br>Atlanta Hawks: 0.537<br>",
          "Atlanta Falcons: 0.25<br>Atlanta Braves: 0.592<br>Atlanta Hawks: 0.463<br>",
          "Atlanta Falcons: 0.375<br>Atlanta Braves: 0.487<br>Atlanta Hawks: 0.732<br>",
          "Atlanta Falcons: 0.5<br>Atlanta Braves: 0.413<br>Atlanta Hawks: 0.585<br>",
          "Atlanta Falcons: 0.688<br>Atlanta Braves: 0.422<br>Atlanta Hawks: 0.575<br>",
          "Atlanta Falcons: 0.625<br>Atlanta Braves: 0.444<br>",
          "Atlanta Falcons: 0.438<br>Atlanta Braves: 0.555<br>",
          "Atlanta Falcons: 0.438<br>Atlanta Braves: 0.598<br>",
          "Atlanta Falcons: 0.25<br>Atlanta Braves: 0.583<br>"
         ],
         "type": "scatter",
         "x": [
          1949,
          1950,
          1951,
          1952,
          1953,
          1954,
          1955,
          1956,
          1957,
          1958,
          1959,
          1960,
          1961,
          1962,
          1963,
          1964,
          1965,
          1966,
          1967,
          1968,
          1969,
          1970,
          1971,
          1972,
          1973,
          1974,
          1975,
          1976,
          1977,
          1978,
          1979,
          1980,
          1981,
          1982,
          1983,
          1984,
          1985,
          1986,
          1987,
          1988,
          1989,
          1990,
          1991,
          1992,
          1993,
          1994,
          1995,
          1996,
          1997,
          1998,
          1999,
          2000,
          2001,
          2002,
          2003,
          2004,
          2005,
          2006,
          2007,
          2008,
          2009,
          2010,
          2011,
          2012,
          2013,
          2014,
          2015,
          2016,
          2017,
          2018,
          2019,
          2020
         ],
         "y": [
          0.453,
          0.368,
          0.258,
          0.38,
          0.292,
          0.361,
          0.458,
          0.472,
          0.569,
          0.681,
          0.613,
          0.646,
          0.363,
          0.6,
          0.575,
          0.563,
          0.45,
          0.40656378600823045,
          0.4117695473251029,
          0.4093333333333333,
          0.5293580246913581,
          0.41371193415637864,
          0.49439094650205767,
          0.5051818181818182,
          0.4656406274884536,
          0.3799563152896486,
          0.37028726708074533,
          0.38339969135802465,
          0.4503858024691358,
          0.4937314814814815,
          0.4775,
          0.517151397515528,
          0.4738993710691824,
          0.5431275720164609,
          0.4897366255144033,
          0.38627572016460904,
          0.4224691358024691,
          0.5370683229813664,
          0.4128571428571428,
          0.42816666666666664,
          0.3605833333333333,
          0.41274485596707816,
          0.556082304526749,
          0.5013127572016461,
          0.5706584362139918,
          0.5154970760233918,
          0.5830000000000001,
          0.4878641975308642,
          0.5571522633744855,
          0.716440329218107,
          0.42993415637860083,
          0.32803786510087324,
          0.41592442035531463,
          0.4709893292682927,
          0.4138763926528154,
          0.4605079042457091,
          0.4575185185185185,
          0.4479135802469136,
          0.4359771906052394,
          0.5300196476964769,
          0.5416733664558868,
          0.5846394158386028,
          0.5487542155977115,
          0.6434156378600823,
          0.43519753086419755,
          0.5315514403292181,
          0.4995267489711934,
          0.5617867494824016,
          0.5347222222222222,
          0.49677777777777776,
          0.5183827160493827,
          0.4166666666666667
         ]
        }
       ],
       "layout": {
        "legend": {
         "title": {
          "text": "City (Lifetime Winning Pct.)"
         }
        },
        "shapes": [
         {
          "line": {
           "color": "white",
           "dash": "dash",
           "width": 1
          },
          "type": "line",
          "x0": 0,
          "x1": 1,
          "xref": "x domain",
          "y0": 0.5,
          "y1": 0.5,
          "yref": "y"
         }
        ],
        "template": {
         "data": {
          "bar": [
           {
            "error_x": {
             "color": "#f2f5fa"
            },
            "error_y": {
             "color": "#f2f5fa"
            },
            "marker": {
             "line": {
              "color": "rgb(17,17,17)",
              "width": 0.5
             },
             "pattern": {
              "fillmode": "overlay",
              "size": 10,
              "solidity": 0.2
             }
            },
            "type": "bar"
           }
          ],
          "barpolar": [
           {
            "marker": {
             "line": {
              "color": "rgb(17,17,17)",
              "width": 0.5
             },
             "pattern": {
              "fillmode": "overlay",
              "size": 10,
              "solidity": 0.2
             }
            },
            "type": "barpolar"
           }
          ],
          "carpet": [
           {
            "aaxis": {
             "endlinecolor": "#A2B1C6",
             "gridcolor": "#506784",
             "linecolor": "#506784",
             "minorgridcolor": "#506784",
             "startlinecolor": "#A2B1C6"
            },
            "baxis": {
             "endlinecolor": "#A2B1C6",
             "gridcolor": "#506784",
             "linecolor": "#506784",
             "minorgridcolor": "#506784",
             "startlinecolor": "#A2B1C6"
            },
            "type": "carpet"
           }
          ],
          "choropleth": [
           {
            "colorbar": {
             "outlinewidth": 0,
             "ticks": ""
            },
            "type": "choropleth"
           }
          ],
          "contour": [
           {
            "colorbar": {
             "outlinewidth": 0,
             "ticks": ""
            },
            "colorscale": [
             [
              0,
              "#0d0887"
             ],
             [
              0.1111111111111111,
              "#46039f"
             ],
             [
              0.2222222222222222,
              "#7201a8"
             ],
             [
              0.3333333333333333,
              "#9c179e"
             ],
             [
              0.4444444444444444,
              "#bd3786"
             ],
             [
              0.5555555555555556,
              "#d8576b"
             ],
             [
              0.6666666666666666,
              "#ed7953"
             ],
             [
              0.7777777777777778,
              "#fb9f3a"
             ],
             [
              0.8888888888888888,
              "#fdca26"
             ],
             [
              1,
              "#f0f921"
             ]
            ],
            "type": "contour"
           }
          ],
          "contourcarpet": [
           {
            "colorbar": {
             "outlinewidth": 0,
             "ticks": ""
            },
            "type": "contourcarpet"
           }
          ],
          "heatmap": [
           {
            "colorbar": {
             "outlinewidth": 0,
             "ticks": ""
            },
            "colorscale": [
             [
              0,
              "#0d0887"
             ],
             [
              0.1111111111111111,
              "#46039f"
             ],
             [
              0.2222222222222222,
              "#7201a8"
             ],
             [
              0.3333333333333333,
              "#9c179e"
             ],
             [
              0.4444444444444444,
              "#bd3786"
             ],
             [
              0.5555555555555556,
              "#d8576b"
             ],
             [
              0.6666666666666666,
              "#ed7953"
             ],
             [
              0.7777777777777778,
              "#fb9f3a"
             ],
             [
              0.8888888888888888,
              "#fdca26"
             ],
             [
              1,
              "#f0f921"
             ]
            ],
            "type": "heatmap"
           }
          ],
          "heatmapgl": [
           {
            "colorbar": {
             "outlinewidth": 0,
             "ticks": ""
            },
            "colorscale": [
             [
              0,
              "#0d0887"
             ],
             [
              0.1111111111111111,
              "#46039f"
             ],
             [
              0.2222222222222222,
              "#7201a8"
             ],
             [
              0.3333333333333333,
              "#9c179e"
             ],
             [
              0.4444444444444444,
              "#bd3786"
             ],
             [
              0.5555555555555556,
              "#d8576b"
             ],
             [
              0.6666666666666666,
              "#ed7953"
             ],
             [
              0.7777777777777778,
              "#fb9f3a"
             ],
             [
              0.8888888888888888,
              "#fdca26"
             ],
             [
              1,
              "#f0f921"
             ]
            ],
            "type": "heatmapgl"
           }
          ],
          "histogram": [
           {
            "marker": {
             "pattern": {
              "fillmode": "overlay",
              "size": 10,
              "solidity": 0.2
             }
            },
            "type": "histogram"
           }
          ],
          "histogram2d": [
           {
            "colorbar": {
             "outlinewidth": 0,
             "ticks": ""
            },
            "colorscale": [
             [
              0,
              "#0d0887"
             ],
             [
              0.1111111111111111,
              "#46039f"
             ],
             [
              0.2222222222222222,
              "#7201a8"
             ],
             [
              0.3333333333333333,
              "#9c179e"
             ],
             [
              0.4444444444444444,
              "#bd3786"
             ],
             [
              0.5555555555555556,
              "#d8576b"
             ],
             [
              0.6666666666666666,
              "#ed7953"
             ],
             [
              0.7777777777777778,
              "#fb9f3a"
             ],
             [
              0.8888888888888888,
              "#fdca26"
             ],
             [
              1,
              "#f0f921"
             ]
            ],
            "type": "histogram2d"
           }
          ],
          "histogram2dcontour": [
           {
            "colorbar": {
             "outlinewidth": 0,
             "ticks": ""
            },
            "colorscale": [
             [
              0,
              "#0d0887"
             ],
             [
              0.1111111111111111,
              "#46039f"
             ],
             [
              0.2222222222222222,
              "#7201a8"
             ],
             [
              0.3333333333333333,
              "#9c179e"
             ],
             [
              0.4444444444444444,
              "#bd3786"
             ],
             [
              0.5555555555555556,
              "#d8576b"
             ],
             [
              0.6666666666666666,
              "#ed7953"
             ],
             [
              0.7777777777777778,
              "#fb9f3a"
             ],
             [
              0.8888888888888888,
              "#fdca26"
             ],
             [
              1,
              "#f0f921"
             ]
            ],
            "type": "histogram2dcontour"
           }
          ],
          "mesh3d": [
           {
            "colorbar": {
             "outlinewidth": 0,
             "ticks": ""
            },
            "type": "mesh3d"
           }
          ],
          "parcoords": [
           {
            "line": {
             "colorbar": {
              "outlinewidth": 0,
              "ticks": ""
             }
            },
            "type": "parcoords"
           }
          ],
          "pie": [
           {
            "automargin": true,
            "type": "pie"
           }
          ],
          "scatter": [
           {
            "marker": {
             "line": {
              "color": "#283442"
             }
            },
            "type": "scatter"
           }
          ],
          "scatter3d": [
           {
            "line": {
             "colorbar": {
              "outlinewidth": 0,
              "ticks": ""
             }
            },
            "marker": {
             "colorbar": {
              "outlinewidth": 0,
              "ticks": ""
             }
            },
            "type": "scatter3d"
           }
          ],
          "scattercarpet": [
           {
            "marker": {
             "colorbar": {
              "outlinewidth": 0,
              "ticks": ""
             }
            },
            "type": "scattercarpet"
           }
          ],
          "scattergeo": [
           {
            "marker": {
             "colorbar": {
              "outlinewidth": 0,
              "ticks": ""
             }
            },
            "type": "scattergeo"
           }
          ],
          "scattergl": [
           {
            "marker": {
             "line": {
              "color": "#283442"
             }
            },
            "type": "scattergl"
           }
          ],
          "scattermapbox": [
           {
            "marker": {
             "colorbar": {
              "outlinewidth": 0,
              "ticks": ""
             }
            },
            "type": "scattermapbox"
           }
          ],
          "scatterpolar": [
           {
            "marker": {
             "colorbar": {
              "outlinewidth": 0,
              "ticks": ""
             }
            },
            "type": "scatterpolar"
           }
          ],
          "scatterpolargl": [
           {
            "marker": {
             "colorbar": {
              "outlinewidth": 0,
              "ticks": ""
             }
            },
            "type": "scatterpolargl"
           }
          ],
          "scatterternary": [
           {
            "marker": {
             "colorbar": {
              "outlinewidth": 0,
              "ticks": ""
             }
            },
            "type": "scatterternary"
           }
          ],
          "surface": [
           {
            "colorbar": {
             "outlinewidth": 0,
             "ticks": ""
            },
            "colorscale": [
             [
              0,
              "#0d0887"
             ],
             [
              0.1111111111111111,
              "#46039f"
             ],
             [
              0.2222222222222222,
              "#7201a8"
             ],
             [
              0.3333333333333333,
              "#9c179e"
             ],
             [
              0.4444444444444444,
              "#bd3786"
             ],
             [
              0.5555555555555556,
              "#d8576b"
             ],
             [
              0.6666666666666666,
              "#ed7953"
             ],
             [
              0.7777777777777778,
              "#fb9f3a"
             ],
             [
              0.8888888888888888,
              "#fdca26"
             ],
             [
              1,
              "#f0f921"
             ]
            ],
            "type": "surface"
           }
          ],
          "table": [
           {
            "cells": {
             "fill": {
              "color": "#506784"
             },
             "line": {
              "color": "rgb(17,17,17)"
             }
            },
            "header": {
             "fill": {
              "color": "#2a3f5f"
             },
             "line": {
              "color": "rgb(17,17,17)"
             }
            },
            "type": "table"
           }
          ]
         },
         "layout": {
          "annotationdefaults": {
           "arrowcolor": "#f2f5fa",
           "arrowhead": 0,
           "arrowwidth": 1
          },
          "autotypenumbers": "strict",
          "coloraxis": {
           "colorbar": {
            "outlinewidth": 0,
            "ticks": ""
           }
          },
          "colorscale": {
           "diverging": [
            [
             0,
             "#8e0152"
            ],
            [
             0.1,
             "#c51b7d"
            ],
            [
             0.2,
             "#de77ae"
            ],
            [
             0.3,
             "#f1b6da"
            ],
            [
             0.4,
             "#fde0ef"
            ],
            [
             0.5,
             "#f7f7f7"
            ],
            [
             0.6,
             "#e6f5d0"
            ],
            [
             0.7,
             "#b8e186"
            ],
            [
             0.8,
             "#7fbc41"
            ],
            [
             0.9,
             "#4d9221"
            ],
            [
             1,
             "#276419"
            ]
           ],
           "sequential": [
            [
             0,
             "#0d0887"
            ],
            [
             0.1111111111111111,
             "#46039f"
            ],
            [
             0.2222222222222222,
             "#7201a8"
            ],
            [
             0.3333333333333333,
             "#9c179e"
            ],
            [
             0.4444444444444444,
             "#bd3786"
            ],
            [
             0.5555555555555556,
             "#d8576b"
            ],
            [
             0.6666666666666666,
             "#ed7953"
            ],
            [
             0.7777777777777778,
             "#fb9f3a"
            ],
            [
             0.8888888888888888,
             "#fdca26"
            ],
            [
             1,
             "#f0f921"
            ]
           ],
           "sequentialminus": [
            [
             0,
             "#0d0887"
            ],
            [
             0.1111111111111111,
             "#46039f"
            ],
            [
             0.2222222222222222,
             "#7201a8"
            ],
            [
             0.3333333333333333,
             "#9c179e"
            ],
            [
             0.4444444444444444,
             "#bd3786"
            ],
            [
             0.5555555555555556,
             "#d8576b"
            ],
            [
             0.6666666666666666,
             "#ed7953"
            ],
            [
             0.7777777777777778,
             "#fb9f3a"
            ],
            [
             0.8888888888888888,
             "#fdca26"
            ],
            [
             1,
             "#f0f921"
            ]
           ]
          },
          "colorway": [
           "#636efa",
           "#EF553B",
           "#00cc96",
           "#ab63fa",
           "#FFA15A",
           "#19d3f3",
           "#FF6692",
           "#B6E880",
           "#FF97FF",
           "#FECB52"
          ],
          "font": {
           "color": "#f2f5fa"
          },
          "geo": {
           "bgcolor": "rgb(17,17,17)",
           "lakecolor": "rgb(17,17,17)",
           "landcolor": "rgb(17,17,17)",
           "showlakes": true,
           "showland": true,
           "subunitcolor": "#506784"
          },
          "hoverlabel": {
           "align": "left"
          },
          "hovermode": "closest",
          "mapbox": {
           "style": "dark"
          },
          "paper_bgcolor": "rgb(17,17,17)",
          "plot_bgcolor": "rgb(17,17,17)",
          "polar": {
           "angularaxis": {
            "gridcolor": "#506784",
            "linecolor": "#506784",
            "ticks": ""
           },
           "bgcolor": "rgb(17,17,17)",
           "radialaxis": {
            "gridcolor": "#506784",
            "linecolor": "#506784",
            "ticks": ""
           }
          },
          "scene": {
           "xaxis": {
            "backgroundcolor": "rgb(17,17,17)",
            "gridcolor": "#506784",
            "gridwidth": 2,
            "linecolor": "#506784",
            "showbackground": true,
            "ticks": "",
            "zerolinecolor": "#C8D4E3"
           },
           "yaxis": {
            "backgroundcolor": "rgb(17,17,17)",
            "gridcolor": "#506784",
            "gridwidth": 2,
            "linecolor": "#506784",
            "showbackground": true,
            "ticks": "",
            "zerolinecolor": "#C8D4E3"
           },
           "zaxis": {
            "backgroundcolor": "rgb(17,17,17)",
            "gridcolor": "#506784",
            "gridwidth": 2,
            "linecolor": "#506784",
            "showbackground": true,
            "ticks": "",
            "zerolinecolor": "#C8D4E3"
           }
          },
          "shapedefaults": {
           "line": {
            "color": "#f2f5fa"
           }
          },
          "sliderdefaults": {
           "bgcolor": "#C8D4E3",
           "bordercolor": "rgb(17,17,17)",
           "borderwidth": 1,
           "tickwidth": 0
          },
          "ternary": {
           "aaxis": {
            "gridcolor": "#506784",
            "linecolor": "#506784",
            "ticks": ""
           },
           "baxis": {
            "gridcolor": "#506784",
            "linecolor": "#506784",
            "ticks": ""
           },
           "bgcolor": "rgb(17,17,17)",
           "caxis": {
            "gridcolor": "#506784",
            "linecolor": "#506784",
            "ticks": ""
           }
          },
          "title": {
           "x": 0.05
          },
          "updatemenudefaults": {
           "bgcolor": "#506784",
           "borderwidth": 0
          },
          "xaxis": {
           "automargin": true,
           "gridcolor": "#283442",
           "linecolor": "#506784",
           "ticks": "",
           "title": {
            "standoff": 15
           },
           "zerolinecolor": "#283442",
           "zerolinewidth": 2
          },
          "yaxis": {
           "automargin": true,
           "gridcolor": "#283442",
           "linecolor": "#506784",
           "ticks": "",
           "title": {
            "standoff": 15
           },
           "zerolinecolor": "#283442",
           "zerolinewidth": 2
          }
         }
        },
        "title": {
         "text": "Winning Percentage by City Over Time"
        },
        "xaxis": {
         "title": {
          "text": "Year"
         }
        },
        "yaxis": {
         "title": {
          "text": "Winning Percentage"
         }
        }
       }
      }
     },
     "metadata": {},
     "output_type": "display_data"
    }
   ],
   "source": [
    "def temp(df):\n",
    "    return \"\".join([row.team_name + \": \" + str(row.win_pct)[:5] + \"<br>\" for i, row in df.iterrows()])\n",
    "temp_df = df.query('year > 1920').groupby([\"year\", \"place\"]).win_pct.mean().reset_index()\n",
    "temp_df = temp_df.merge(df.groupby([\"year\", \"place\"]).apply(temp).reset_index(), on=[\"year\", \"place\"]).rename(columns={0: \"teams\"})\n",
    "cities = [\"Chicago\", \"New York\", \"Boston\", \"Los Angeles\", \"Atlanta\"]\n",
    "fig = go.Figure()\n",
    "for city in cities:\n",
    "    temp = temp_df.query(f\"place == '{city}'\")\n",
    "    win_pct = str(temp.win_pct.mean())[:5]\n",
    "    print(city, win_pct)\n",
    "    fig.add_trace(\n",
    "        go.Scatter(x=temp.year.tolist(), \n",
    "        y=temp.win_pct.tolist(),\n",
    "        text=temp.teams.tolist(),\n",
    "        mode=\"lines\",\n",
    "        hovertemplate =\n",
    "        '<br><b>Year</b>: %{x}<br>'+\n",
    "        '<b>Winning Pct.</b>: %{y:.2f}<br>'+\n",
    "        '%{text}' +\n",
    "        '<extra></extra>',\n",
    "        name=city + f\" ({win_pct})\"))\n",
    "fig.add_hline(y=.5, line_width=1, line_dash=\"dash\", line_color=\"white\")\n",
    "fig.update_layout(\n",
    "    title= \"Winning Percentage by City Over Time\",\n",
    "    xaxis_title=\"Year\",\n",
    "    yaxis_title=\"Winning Percentage\",\n",
    "    legend_title_text=\"City (Lifetime Winning Pct.)\"\n",
    ")\n",
    "fig.write_html(os.path.join(output_dir,\"city_avg.html\"))\n",
    "fig.show()\n"
   ]
  },
  {
   "attachments": {},
   "cell_type": "markdown",
   "metadata": {},
   "source": [
    "## Breakdown By Sport"
   ]
  },
  {
   "cell_type": "code",
   "execution_count": 43,
   "metadata": {},
   "outputs": [
    {
     "name": "stdout",
     "output_type": "stream",
     "text": [
      "average winning percentage for Chicago Bears 0.576\n",
      "average winning percentage for Chicago Blackhawks 0.441\n",
      "average winning percentage for Chicago Bulls 0.520\n",
      "average winning percentage for Chicago Cubs 0.507\n",
      "average winning percentage for Chicago White Sox 0.502\n"
     ]
    },
    {
     "data": {
      "application/vnd.plotly.v1+json": {
       "config": {
        "plotlyServerURL": "https://plot.ly"
       },
       "data": [
        {
         "mode": "lines",
         "name": "Chicago Bears (0.576)",
         "type": "scatter",
         "x": [
          1922,
          1923,
          1924,
          1925,
          1926,
          1927,
          1928,
          1929,
          1930,
          1931,
          1932,
          1933,
          1934,
          1935,
          1936,
          1937,
          1938,
          1939,
          1940,
          1941,
          1942,
          1943,
          1944,
          1945,
          1946,
          1947,
          1948,
          1949,
          1950,
          1951,
          1952,
          1953,
          1954,
          1955,
          1956,
          1957,
          1958,
          1959,
          1960,
          1961,
          1962,
          1963,
          1964,
          1965,
          1966,
          1967,
          1968,
          1969,
          1970,
          1971,
          1972,
          1973,
          1974,
          1975,
          1976,
          1977,
          1978,
          1979,
          1980,
          1981,
          1982,
          1983,
          1984,
          1985,
          1986,
          1987,
          1988,
          1989,
          1990,
          1991,
          1992,
          1993,
          1994,
          1995,
          1996,
          1997,
          1998,
          1999,
          2000,
          2001,
          2002,
          2003,
          2004,
          2005,
          2006,
          2007,
          2008,
          2009,
          2010,
          2011,
          2012,
          2013,
          2014,
          2015,
          2016,
          2017,
          2018,
          2019,
          2020
         ],
         "y": [
          0.75,
          0.818,
          0.857,
          0.818,
          1,
          0.778,
          0.583,
          0.4,
          0.556,
          0.667,
          0.875,
          0.833,
          1,
          0.6,
          0.75,
          0.9,
          0.545,
          0.727,
          0.727,
          0.909,
          1,
          0.889,
          0.667,
          0.3,
          0.8,
          0.667,
          0.833,
          0.75,
          0.75,
          0.583,
          0.417,
          0.273,
          0.667,
          0.667,
          0.818,
          0.417,
          0.667,
          0.667,
          0.455,
          0.571,
          0.643,
          0.917,
          0.357,
          0.643,
          0.417,
          0.538,
          0.5,
          0.071,
          0.429,
          0.429,
          0.321,
          0.214,
          0.286,
          0.286,
          0.5,
          0.643,
          0.438,
          0.625,
          0.438,
          0.375,
          0.333,
          0.5,
          0.625,
          0.938,
          0.875,
          0.733,
          0.75,
          0.375,
          0.688,
          0.688,
          0.313,
          0.438,
          0.563,
          0.563,
          0.438,
          0.25,
          0.25,
          0.375,
          0.313,
          0.813,
          0.25,
          0.438,
          0.313,
          0.688,
          0.813,
          0.438,
          0.563,
          0.438,
          0.688,
          0.5,
          0.625,
          0.5,
          0.313,
          0.375,
          0.188,
          0.313,
          0.75,
          0.5,
          0.5
         ]
        },
        {
         "mode": "lines",
         "name": "Chicago Blackhawks (0.441)",
         "type": "scatter",
         "x": [
          1950,
          1951,
          1952,
          1953,
          1954,
          1955,
          1956,
          1957,
          1958,
          1959,
          1960,
          1961,
          1962,
          1963,
          1964,
          1965,
          1966,
          1967,
          1968,
          1969,
          1970,
          1971,
          1972,
          1973,
          1974,
          1975,
          1976,
          1977,
          1978,
          1979,
          1980,
          1981,
          1982,
          1983,
          1984,
          1985,
          1986,
          1987,
          1988,
          1989,
          1990,
          1991,
          1992,
          1993,
          1994,
          1995,
          1996,
          1997,
          1998,
          1999,
          2000,
          2001,
          2002,
          2003,
          2004,
          2006,
          2007,
          2008,
          2009,
          2010,
          2011,
          2012,
          2013,
          2014,
          2015,
          2016,
          2017,
          2018,
          2019,
          2020
         ],
         "y": [
          0.3142857142857143,
          0.18571428571428572,
          0.24285714285714285,
          0.38571428571428573,
          0.17142857142857143,
          0.18571428571428572,
          0.2714285714285714,
          0.22857142857142856,
          0.34285714285714286,
          0.4,
          0.4,
          0.4142857142857143,
          0.44285714285714284,
          0.45714285714285713,
          0.5142857142857142,
          0.4857142857142857,
          0.5285714285714286,
          0.5857142857142857,
          0.43243243243243246,
          0.4473684210526316,
          0.5921052631578947,
          0.6282051282051282,
          0.5897435897435898,
          0.5384615384615384,
          0.5256410256410257,
          0.4625,
          0.4,
          0.325,
          0.4,
          0.3625,
          0.425,
          0.3875,
          0.375,
          0.5875,
          0.375,
          0.475,
          0.4875,
          0.3625,
          0.375,
          0.3375,
          0.5125,
          0.6125,
          0.45,
          0.5595238095238095,
          0.4642857142857143,
          0.5,
          0.4878048780487805,
          0.4146341463414634,
          0.36585365853658536,
          0.35365853658536583,
          0.4024390243902439,
          0.35365853658536583,
          0.5,
          0.36585365853658536,
          0.24390243902439024,
          0.3170731707317073,
          0.3780487804878049,
          0.4878048780487805,
          0.5609756097560976,
          0.6341463414634146,
          0.5365853658536586,
          0.5487804878048781,
          0.75,
          0.5609756097560976,
          0.5853658536585366,
          0.573170731707317,
          0.6097560975609756,
          0.4024390243902439,
          0.43902439024390244,
          0.45714285714285713
         ]
        },
        {
         "mode": "lines",
         "name": "Chicago Bulls (0.520)",
         "type": "scatter",
         "x": [
          1966,
          1967,
          1968,
          1969,
          1970,
          1971,
          1972,
          1973,
          1974,
          1975,
          1976,
          1977,
          1978,
          1979,
          1980,
          1981,
          1982,
          1983,
          1984,
          1985,
          1986,
          1987,
          1988,
          1989,
          1990,
          1991,
          1992,
          1993,
          1994,
          1995,
          1996,
          1997,
          1998,
          1999,
          2000,
          2001,
          2002,
          2003,
          2004,
          2005,
          2006,
          2007,
          2008,
          2009,
          2010,
          2011,
          2012,
          2013,
          2014,
          2015,
          2016
         ],
         "y": [
          0.407,
          0.354,
          0.402,
          0.476,
          0.622,
          0.695,
          0.622,
          0.659,
          0.573,
          0.293,
          0.537,
          0.488,
          0.378,
          0.366,
          0.549,
          0.415,
          0.341,
          0.329,
          0.463,
          0.366,
          0.488,
          0.61,
          0.573,
          0.671,
          0.744,
          0.817,
          0.695,
          0.671,
          0.573,
          0.878,
          0.841,
          0.756,
          0.26,
          0.207,
          0.183,
          0.256,
          0.366,
          0.28,
          0.573,
          0.5,
          0.598,
          0.402,
          0.5,
          0.5,
          0.756,
          0.758,
          0.549,
          0.585,
          0.61,
          0.512,
          0.477
         ]
        },
        {
         "mode": "lines",
         "name": "Chicago Cubs (0.507)",
         "type": "scatter",
         "x": [
          1903,
          1904,
          1905,
          1906,
          1907,
          1908,
          1909,
          1910,
          1911,
          1912,
          1913,
          1914,
          1915,
          1916,
          1917,
          1918,
          1919,
          1920,
          1921,
          1922,
          1923,
          1924,
          1925,
          1926,
          1927,
          1928,
          1929,
          1930,
          1931,
          1932,
          1933,
          1934,
          1935,
          1936,
          1937,
          1938,
          1939,
          1940,
          1941,
          1942,
          1943,
          1944,
          1945,
          1946,
          1947,
          1948,
          1949,
          1950,
          1951,
          1952,
          1953,
          1954,
          1955,
          1956,
          1957,
          1958,
          1959,
          1960,
          1961,
          1962,
          1963,
          1964,
          1965,
          1966,
          1967,
          1968,
          1969,
          1970,
          1971,
          1972,
          1973,
          1974,
          1975,
          1976,
          1977,
          1978,
          1979,
          1980,
          1981,
          1982,
          1983,
          1984,
          1985,
          1986,
          1987,
          1988,
          1989,
          1990,
          1991,
          1992,
          1993,
          1994,
          1995,
          1996,
          1997,
          1998,
          1999,
          2000,
          2001,
          2002,
          2003,
          2004,
          2005,
          2006,
          2007,
          2008,
          2009,
          2010,
          2011,
          2012,
          2013,
          2014,
          2015,
          2016,
          2017,
          2018,
          2019,
          2020
         ],
         "y": [
          0.5942028985507246,
          0.6078431372549019,
          0.6013071895424836,
          0.7631578947368421,
          0.7039473684210527,
          0.6428571428571429,
          0.6797385620915033,
          0.6753246753246753,
          0.5974025974025974,
          0.6066666666666667,
          0.5751633986928104,
          0.5064935064935064,
          0.477124183006536,
          0.43790849673202614,
          0.4805194805194805,
          0.6511627906976745,
          0.5357142857142857,
          0.487012987012987,
          0.41830065359477125,
          0.5194805194805194,
          0.538961038961039,
          0.5294117647058824,
          0.44155844155844154,
          0.5324675324675324,
          0.5555555555555556,
          0.5909090909090909,
          0.6447368421052632,
          0.5844155844155844,
          0.5454545454545454,
          0.5844155844155844,
          0.5584415584415584,
          0.5695364238410596,
          0.6493506493506493,
          0.564935064935065,
          0.6038961038961039,
          0.5855263157894737,
          0.5454545454545454,
          0.487012987012987,
          0.45454545454545453,
          0.44155844155844154,
          0.48366013071895425,
          0.487012987012987,
          0.6363636363636364,
          0.5359477124183006,
          0.44805194805194803,
          0.4155844155844156,
          0.3961038961038961,
          0.41830065359477125,
          0.4025974025974026,
          0.5,
          0.42207792207792205,
          0.4155844155844156,
          0.47058823529411764,
          0.38961038961038963,
          0.4025974025974026,
          0.4675324675324675,
          0.4805194805194805,
          0.38961038961038963,
          0.4155844155844156,
          0.36419753086419754,
          0.5061728395061729,
          0.4691358024691358,
          0.4444444444444444,
          0.36419753086419754,
          0.5403726708074534,
          0.5185185185185185,
          0.5679012345679012,
          0.5185185185185185,
          0.5123456790123457,
          0.5483870967741935,
          0.4782608695652174,
          0.4074074074074074,
          0.46296296296296297,
          0.46296296296296297,
          0.5,
          0.4876543209876543,
          0.49382716049382713,
          0.3950617283950617,
          0.36893203883495146,
          0.4506172839506173,
          0.4382716049382716,
          0.5962732919254659,
          0.4782608695652174,
          0.4375,
          0.4720496894409938,
          0.47530864197530864,
          0.5740740740740741,
          0.47530864197530864,
          0.48125,
          0.48148148148148145,
          0.5185185185185185,
          0.4336283185840708,
          0.5069444444444444,
          0.4691358024691358,
          0.41975308641975306,
          0.5521472392638037,
          0.41358024691358025,
          0.4012345679012346,
          0.5432098765432098,
          0.41358024691358025,
          0.5432098765432098,
          0.5493827160493827,
          0.4876543209876543,
          0.4074074074074074,
          0.5246913580246914,
          0.6024844720496895,
          0.515527950310559,
          0.46296296296296297,
          0.4382716049382716,
          0.3765432098765432,
          0.4074074074074074,
          0.4506172839506173,
          0.5987654320987654,
          0.639751552795031,
          0.5679012345679012,
          0.5828220858895705,
          0.5185185185185185,
          0.5666666666666667
         ]
        },
        {
         "mode": "lines",
         "name": "Chicago White Sox (0.502)",
         "type": "scatter",
         "x": [
          1901,
          1902,
          1903,
          1904,
          1905,
          1906,
          1907,
          1908,
          1909,
          1910,
          1911,
          1912,
          1913,
          1914,
          1915,
          1916,
          1917,
          1918,
          1919,
          1920,
          1921,
          1922,
          1923,
          1924,
          1925,
          1926,
          1927,
          1928,
          1929,
          1930,
          1931,
          1932,
          1933,
          1934,
          1935,
          1936,
          1937,
          1938,
          1939,
          1940,
          1941,
          1942,
          1943,
          1944,
          1945,
          1946,
          1947,
          1948,
          1949,
          1950,
          1951,
          1952,
          1953,
          1954,
          1955,
          1956,
          1957,
          1958,
          1959,
          1960,
          1961,
          1962,
          1963,
          1964,
          1965,
          1966,
          1967,
          1968,
          1969,
          1970,
          1971,
          1972,
          1973,
          1974,
          1975,
          1976,
          1977,
          1978,
          1979,
          1980,
          1981,
          1982,
          1983,
          1984,
          1985,
          1986,
          1987,
          1988,
          1989,
          1990,
          1991,
          1992,
          1993,
          1994,
          1995,
          1996,
          1997,
          1998,
          1999,
          2000,
          2001,
          2002,
          2003,
          2004,
          2005,
          2006,
          2007,
          2008,
          2009,
          2010,
          2011,
          2012,
          2013,
          2014,
          2015,
          2016,
          2017,
          2018,
          2019,
          2020
         ],
         "y": [
          0.6102941176470589,
          0.5522388059701493,
          0.43795620437956206,
          0.577922077922078,
          0.6052631578947368,
          0.6158940397350994,
          0.5761589403973509,
          0.5789473684210527,
          0.5131578947368421,
          0.4444444444444444,
          0.5099337748344371,
          0.5064935064935064,
          0.5131578947368421,
          0.45454545454545453,
          0.6038961038961039,
          0.577922077922078,
          0.6493506493506493,
          0.4596774193548387,
          0.6285714285714286,
          0.6233766233766234,
          0.4025974025974026,
          0.5,
          0.44805194805194803,
          0.43137254901960786,
          0.512987012987013,
          0.5294117647058824,
          0.45751633986928103,
          0.4675324675324675,
          0.3881578947368421,
          0.4025974025974026,
          0.3660130718954248,
          0.32450331125827814,
          0.44666666666666666,
          0.34868421052631576,
          0.4868421052631579,
          0.5364238410596026,
          0.5584415584415584,
          0.4391891891891892,
          0.551948051948052,
          0.5324675324675324,
          0.5,
          0.44594594594594594,
          0.5324675324675324,
          0.461038961038961,
          0.47651006711409394,
          0.4805194805194805,
          0.45454545454545453,
          0.3355263157894737,
          0.4090909090909091,
          0.38961038961038963,
          0.525974025974026,
          0.525974025974026,
          0.577922077922078,
          0.6103896103896104,
          0.5909090909090909,
          0.551948051948052,
          0.5844155844155844,
          0.5324675324675324,
          0.6103896103896104,
          0.564935064935065,
          0.5308641975308642,
          0.5246913580246914,
          0.5802469135802469,
          0.6049382716049383,
          0.5864197530864198,
          0.5123456790123457,
          0.5493827160493827,
          0.41358024691358025,
          0.41975308641975306,
          0.345679012345679,
          0.4876543209876543,
          0.564935064935065,
          0.47530864197530864,
          0.5,
          0.4658385093167702,
          0.39751552795031053,
          0.5555555555555556,
          0.4409937888198758,
          0.45625,
          0.4375,
          0.5094339622641509,
          0.5370370370370371,
          0.6111111111111112,
          0.4567901234567901,
          0.5246913580246914,
          0.4444444444444444,
          0.47530864197530864,
          0.4409937888198758,
          0.42857142857142855,
          0.5802469135802469,
          0.5370370370370371,
          0.5308641975308642,
          0.5802469135802469,
          0.5929203539823009,
          0.4722222222222222,
          0.5246913580246914,
          0.4968944099378882,
          0.49382716049382713,
          0.4658385093167702,
          0.5864197530864198,
          0.5123456790123457,
          0.5,
          0.5308641975308642,
          0.5123456790123457,
          0.6111111111111112,
          0.5555555555555556,
          0.4444444444444444,
          0.5460122699386503,
          0.4876543209876543,
          0.5432098765432098,
          0.4876543209876543,
          0.5246913580246914,
          0.3888888888888889,
          0.4506172839506173,
          0.4691358024691358,
          0.48148148148148145,
          0.41358024691358025,
          0.38271604938271603,
          0.4472049689440994,
          0.5833333333333334
         ]
        }
       ],
       "layout": {
        "legend": {
         "title": {
          "text": "Team (Lifetime Winning Pct.)"
         }
        },
        "shapes": [
         {
          "line": {
           "color": "white",
           "dash": "dash",
           "width": 1
          },
          "type": "line",
          "x0": 0,
          "x1": 1,
          "xref": "x domain",
          "y0": 0.5,
          "y1": 0.5,
          "yref": "y"
         }
        ],
        "template": {
         "data": {
          "bar": [
           {
            "error_x": {
             "color": "#f2f5fa"
            },
            "error_y": {
             "color": "#f2f5fa"
            },
            "marker": {
             "line": {
              "color": "rgb(17,17,17)",
              "width": 0.5
             },
             "pattern": {
              "fillmode": "overlay",
              "size": 10,
              "solidity": 0.2
             }
            },
            "type": "bar"
           }
          ],
          "barpolar": [
           {
            "marker": {
             "line": {
              "color": "rgb(17,17,17)",
              "width": 0.5
             },
             "pattern": {
              "fillmode": "overlay",
              "size": 10,
              "solidity": 0.2
             }
            },
            "type": "barpolar"
           }
          ],
          "carpet": [
           {
            "aaxis": {
             "endlinecolor": "#A2B1C6",
             "gridcolor": "#506784",
             "linecolor": "#506784",
             "minorgridcolor": "#506784",
             "startlinecolor": "#A2B1C6"
            },
            "baxis": {
             "endlinecolor": "#A2B1C6",
             "gridcolor": "#506784",
             "linecolor": "#506784",
             "minorgridcolor": "#506784",
             "startlinecolor": "#A2B1C6"
            },
            "type": "carpet"
           }
          ],
          "choropleth": [
           {
            "colorbar": {
             "outlinewidth": 0,
             "ticks": ""
            },
            "type": "choropleth"
           }
          ],
          "contour": [
           {
            "colorbar": {
             "outlinewidth": 0,
             "ticks": ""
            },
            "colorscale": [
             [
              0,
              "#0d0887"
             ],
             [
              0.1111111111111111,
              "#46039f"
             ],
             [
              0.2222222222222222,
              "#7201a8"
             ],
             [
              0.3333333333333333,
              "#9c179e"
             ],
             [
              0.4444444444444444,
              "#bd3786"
             ],
             [
              0.5555555555555556,
              "#d8576b"
             ],
             [
              0.6666666666666666,
              "#ed7953"
             ],
             [
              0.7777777777777778,
              "#fb9f3a"
             ],
             [
              0.8888888888888888,
              "#fdca26"
             ],
             [
              1,
              "#f0f921"
             ]
            ],
            "type": "contour"
           }
          ],
          "contourcarpet": [
           {
            "colorbar": {
             "outlinewidth": 0,
             "ticks": ""
            },
            "type": "contourcarpet"
           }
          ],
          "heatmap": [
           {
            "colorbar": {
             "outlinewidth": 0,
             "ticks": ""
            },
            "colorscale": [
             [
              0,
              "#0d0887"
             ],
             [
              0.1111111111111111,
              "#46039f"
             ],
             [
              0.2222222222222222,
              "#7201a8"
             ],
             [
              0.3333333333333333,
              "#9c179e"
             ],
             [
              0.4444444444444444,
              "#bd3786"
             ],
             [
              0.5555555555555556,
              "#d8576b"
             ],
             [
              0.6666666666666666,
              "#ed7953"
             ],
             [
              0.7777777777777778,
              "#fb9f3a"
             ],
             [
              0.8888888888888888,
              "#fdca26"
             ],
             [
              1,
              "#f0f921"
             ]
            ],
            "type": "heatmap"
           }
          ],
          "heatmapgl": [
           {
            "colorbar": {
             "outlinewidth": 0,
             "ticks": ""
            },
            "colorscale": [
             [
              0,
              "#0d0887"
             ],
             [
              0.1111111111111111,
              "#46039f"
             ],
             [
              0.2222222222222222,
              "#7201a8"
             ],
             [
              0.3333333333333333,
              "#9c179e"
             ],
             [
              0.4444444444444444,
              "#bd3786"
             ],
             [
              0.5555555555555556,
              "#d8576b"
             ],
             [
              0.6666666666666666,
              "#ed7953"
             ],
             [
              0.7777777777777778,
              "#fb9f3a"
             ],
             [
              0.8888888888888888,
              "#fdca26"
             ],
             [
              1,
              "#f0f921"
             ]
            ],
            "type": "heatmapgl"
           }
          ],
          "histogram": [
           {
            "marker": {
             "pattern": {
              "fillmode": "overlay",
              "size": 10,
              "solidity": 0.2
             }
            },
            "type": "histogram"
           }
          ],
          "histogram2d": [
           {
            "colorbar": {
             "outlinewidth": 0,
             "ticks": ""
            },
            "colorscale": [
             [
              0,
              "#0d0887"
             ],
             [
              0.1111111111111111,
              "#46039f"
             ],
             [
              0.2222222222222222,
              "#7201a8"
             ],
             [
              0.3333333333333333,
              "#9c179e"
             ],
             [
              0.4444444444444444,
              "#bd3786"
             ],
             [
              0.5555555555555556,
              "#d8576b"
             ],
             [
              0.6666666666666666,
              "#ed7953"
             ],
             [
              0.7777777777777778,
              "#fb9f3a"
             ],
             [
              0.8888888888888888,
              "#fdca26"
             ],
             [
              1,
              "#f0f921"
             ]
            ],
            "type": "histogram2d"
           }
          ],
          "histogram2dcontour": [
           {
            "colorbar": {
             "outlinewidth": 0,
             "ticks": ""
            },
            "colorscale": [
             [
              0,
              "#0d0887"
             ],
             [
              0.1111111111111111,
              "#46039f"
             ],
             [
              0.2222222222222222,
              "#7201a8"
             ],
             [
              0.3333333333333333,
              "#9c179e"
             ],
             [
              0.4444444444444444,
              "#bd3786"
             ],
             [
              0.5555555555555556,
              "#d8576b"
             ],
             [
              0.6666666666666666,
              "#ed7953"
             ],
             [
              0.7777777777777778,
              "#fb9f3a"
             ],
             [
              0.8888888888888888,
              "#fdca26"
             ],
             [
              1,
              "#f0f921"
             ]
            ],
            "type": "histogram2dcontour"
           }
          ],
          "mesh3d": [
           {
            "colorbar": {
             "outlinewidth": 0,
             "ticks": ""
            },
            "type": "mesh3d"
           }
          ],
          "parcoords": [
           {
            "line": {
             "colorbar": {
              "outlinewidth": 0,
              "ticks": ""
             }
            },
            "type": "parcoords"
           }
          ],
          "pie": [
           {
            "automargin": true,
            "type": "pie"
           }
          ],
          "scatter": [
           {
            "marker": {
             "line": {
              "color": "#283442"
             }
            },
            "type": "scatter"
           }
          ],
          "scatter3d": [
           {
            "line": {
             "colorbar": {
              "outlinewidth": 0,
              "ticks": ""
             }
            },
            "marker": {
             "colorbar": {
              "outlinewidth": 0,
              "ticks": ""
             }
            },
            "type": "scatter3d"
           }
          ],
          "scattercarpet": [
           {
            "marker": {
             "colorbar": {
              "outlinewidth": 0,
              "ticks": ""
             }
            },
            "type": "scattercarpet"
           }
          ],
          "scattergeo": [
           {
            "marker": {
             "colorbar": {
              "outlinewidth": 0,
              "ticks": ""
             }
            },
            "type": "scattergeo"
           }
          ],
          "scattergl": [
           {
            "marker": {
             "line": {
              "color": "#283442"
             }
            },
            "type": "scattergl"
           }
          ],
          "scattermapbox": [
           {
            "marker": {
             "colorbar": {
              "outlinewidth": 0,
              "ticks": ""
             }
            },
            "type": "scattermapbox"
           }
          ],
          "scatterpolar": [
           {
            "marker": {
             "colorbar": {
              "outlinewidth": 0,
              "ticks": ""
             }
            },
            "type": "scatterpolar"
           }
          ],
          "scatterpolargl": [
           {
            "marker": {
             "colorbar": {
              "outlinewidth": 0,
              "ticks": ""
             }
            },
            "type": "scatterpolargl"
           }
          ],
          "scatterternary": [
           {
            "marker": {
             "colorbar": {
              "outlinewidth": 0,
              "ticks": ""
             }
            },
            "type": "scatterternary"
           }
          ],
          "surface": [
           {
            "colorbar": {
             "outlinewidth": 0,
             "ticks": ""
            },
            "colorscale": [
             [
              0,
              "#0d0887"
             ],
             [
              0.1111111111111111,
              "#46039f"
             ],
             [
              0.2222222222222222,
              "#7201a8"
             ],
             [
              0.3333333333333333,
              "#9c179e"
             ],
             [
              0.4444444444444444,
              "#bd3786"
             ],
             [
              0.5555555555555556,
              "#d8576b"
             ],
             [
              0.6666666666666666,
              "#ed7953"
             ],
             [
              0.7777777777777778,
              "#fb9f3a"
             ],
             [
              0.8888888888888888,
              "#fdca26"
             ],
             [
              1,
              "#f0f921"
             ]
            ],
            "type": "surface"
           }
          ],
          "table": [
           {
            "cells": {
             "fill": {
              "color": "#506784"
             },
             "line": {
              "color": "rgb(17,17,17)"
             }
            },
            "header": {
             "fill": {
              "color": "#2a3f5f"
             },
             "line": {
              "color": "rgb(17,17,17)"
             }
            },
            "type": "table"
           }
          ]
         },
         "layout": {
          "annotationdefaults": {
           "arrowcolor": "#f2f5fa",
           "arrowhead": 0,
           "arrowwidth": 1
          },
          "autotypenumbers": "strict",
          "coloraxis": {
           "colorbar": {
            "outlinewidth": 0,
            "ticks": ""
           }
          },
          "colorscale": {
           "diverging": [
            [
             0,
             "#8e0152"
            ],
            [
             0.1,
             "#c51b7d"
            ],
            [
             0.2,
             "#de77ae"
            ],
            [
             0.3,
             "#f1b6da"
            ],
            [
             0.4,
             "#fde0ef"
            ],
            [
             0.5,
             "#f7f7f7"
            ],
            [
             0.6,
             "#e6f5d0"
            ],
            [
             0.7,
             "#b8e186"
            ],
            [
             0.8,
             "#7fbc41"
            ],
            [
             0.9,
             "#4d9221"
            ],
            [
             1,
             "#276419"
            ]
           ],
           "sequential": [
            [
             0,
             "#0d0887"
            ],
            [
             0.1111111111111111,
             "#46039f"
            ],
            [
             0.2222222222222222,
             "#7201a8"
            ],
            [
             0.3333333333333333,
             "#9c179e"
            ],
            [
             0.4444444444444444,
             "#bd3786"
            ],
            [
             0.5555555555555556,
             "#d8576b"
            ],
            [
             0.6666666666666666,
             "#ed7953"
            ],
            [
             0.7777777777777778,
             "#fb9f3a"
            ],
            [
             0.8888888888888888,
             "#fdca26"
            ],
            [
             1,
             "#f0f921"
            ]
           ],
           "sequentialminus": [
            [
             0,
             "#0d0887"
            ],
            [
             0.1111111111111111,
             "#46039f"
            ],
            [
             0.2222222222222222,
             "#7201a8"
            ],
            [
             0.3333333333333333,
             "#9c179e"
            ],
            [
             0.4444444444444444,
             "#bd3786"
            ],
            [
             0.5555555555555556,
             "#d8576b"
            ],
            [
             0.6666666666666666,
             "#ed7953"
            ],
            [
             0.7777777777777778,
             "#fb9f3a"
            ],
            [
             0.8888888888888888,
             "#fdca26"
            ],
            [
             1,
             "#f0f921"
            ]
           ]
          },
          "colorway": [
           "#636efa",
           "#EF553B",
           "#00cc96",
           "#ab63fa",
           "#FFA15A",
           "#19d3f3",
           "#FF6692",
           "#B6E880",
           "#FF97FF",
           "#FECB52"
          ],
          "font": {
           "color": "#f2f5fa"
          },
          "geo": {
           "bgcolor": "rgb(17,17,17)",
           "lakecolor": "rgb(17,17,17)",
           "landcolor": "rgb(17,17,17)",
           "showlakes": true,
           "showland": true,
           "subunitcolor": "#506784"
          },
          "hoverlabel": {
           "align": "left"
          },
          "hovermode": "closest",
          "mapbox": {
           "style": "dark"
          },
          "paper_bgcolor": "rgb(17,17,17)",
          "plot_bgcolor": "rgb(17,17,17)",
          "polar": {
           "angularaxis": {
            "gridcolor": "#506784",
            "linecolor": "#506784",
            "ticks": ""
           },
           "bgcolor": "rgb(17,17,17)",
           "radialaxis": {
            "gridcolor": "#506784",
            "linecolor": "#506784",
            "ticks": ""
           }
          },
          "scene": {
           "xaxis": {
            "backgroundcolor": "rgb(17,17,17)",
            "gridcolor": "#506784",
            "gridwidth": 2,
            "linecolor": "#506784",
            "showbackground": true,
            "ticks": "",
            "zerolinecolor": "#C8D4E3"
           },
           "yaxis": {
            "backgroundcolor": "rgb(17,17,17)",
            "gridcolor": "#506784",
            "gridwidth": 2,
            "linecolor": "#506784",
            "showbackground": true,
            "ticks": "",
            "zerolinecolor": "#C8D4E3"
           },
           "zaxis": {
            "backgroundcolor": "rgb(17,17,17)",
            "gridcolor": "#506784",
            "gridwidth": 2,
            "linecolor": "#506784",
            "showbackground": true,
            "ticks": "",
            "zerolinecolor": "#C8D4E3"
           }
          },
          "shapedefaults": {
           "line": {
            "color": "#f2f5fa"
           }
          },
          "sliderdefaults": {
           "bgcolor": "#C8D4E3",
           "bordercolor": "rgb(17,17,17)",
           "borderwidth": 1,
           "tickwidth": 0
          },
          "ternary": {
           "aaxis": {
            "gridcolor": "#506784",
            "linecolor": "#506784",
            "ticks": ""
           },
           "baxis": {
            "gridcolor": "#506784",
            "linecolor": "#506784",
            "ticks": ""
           },
           "bgcolor": "rgb(17,17,17)",
           "caxis": {
            "gridcolor": "#506784",
            "linecolor": "#506784",
            "ticks": ""
           }
          },
          "title": {
           "x": 0.05
          },
          "updatemenudefaults": {
           "bgcolor": "#506784",
           "borderwidth": 0
          },
          "xaxis": {
           "automargin": true,
           "gridcolor": "#283442",
           "linecolor": "#506784",
           "ticks": "",
           "title": {
            "standoff": 15
           },
           "zerolinecolor": "#283442",
           "zerolinewidth": 2
          },
          "yaxis": {
           "automargin": true,
           "gridcolor": "#283442",
           "linecolor": "#506784",
           "ticks": "",
           "title": {
            "standoff": 15
           },
           "zerolinecolor": "#283442",
           "zerolinewidth": 2
          }
         }
        },
        "title": {
         "text": "Winning Percentage of Chicago Teams Over Time"
        },
        "xaxis": {
         "title": {
          "text": "Year"
         }
        },
        "yaxis": {
         "title": {
          "text": "Winning Percentage"
         }
        }
       }
      }
     },
     "metadata": {},
     "output_type": "display_data"
    }
   ],
   "source": [
    "city = \"Chicago\"\n",
    "temp = df.query(f\"area == '{city}'\").groupby([\"team_name\", \"year\"]).win_pct.mean().reset_index()\n",
    "teams = ['Chicago Bears', 'Chicago Blackhawks',\n",
    "       'Chicago Bulls', 'Chicago Cubs','Chicago White Sox']\n",
    "fig = go.Figure()\n",
    "for t in teams: \n",
    "    win_pct = str(temp.query(f\"team_name == '{t}'\").win_pct.mean())[:5]\n",
    "    fig.add_trace(go.Scatter(x=temp.query(f\"team_name == '{t}'\").year.tolist(), \n",
    "    y=temp.query(f\"team_name == '{t}'\").win_pct.tolist(),\n",
    "                        mode='lines',\n",
    "                        name=t+ f\" ({win_pct})\"))\n",
    "    \n",
    "    print(\"average winning percentage for\", t, win_pct)\n",
    "\n",
    "fig.update_layout(\n",
    "    title= \"Winning Percentage of Chicago Teams Over Time\",\n",
    "    xaxis_title=\"Year\",\n",
    "    yaxis_title=\"Winning Percentage\",\n",
    "    legend_title_text=\"Team (Lifetime Winning Pct.)\"\n",
    ")\n",
    "fig.add_hline(y=.5, line_width=1, line_dash=\"dash\", line_color=\"white\")\n",
    "\n",
    "fig.write_html(os.path.join(output_dir,\"chicago_by_sport.html\"))\n",
    "fig.show()\n"
   ]
  },
  {
   "attachments": {},
   "cell_type": "markdown",
   "metadata": {},
   "source": [
    "### Exploring Cities with 3 + teams "
   ]
  },
  {
   "cell_type": "code",
   "execution_count": 65,
   "metadata": {},
   "outputs": [],
   "source": [
    "teams_per_place = df.groupby([\"year\", \"place\"]).team_name.count()\n",
    "teams_3 = teams_per_place[teams_per_place > 2].index\n",
    "def temp(df):\n",
    "    acc = \"\"\n",
    "    for i, row in df.iterrows():\n",
    "        acc += row.team_name + \": \" + str(row.win_pct)[:5] + \"<br>\"\n",
    "    return acc\n",
    "teams = df.groupby([\"year\", \"place\"]).apply(temp)"
   ]
  },
  {
   "cell_type": "code",
   "execution_count": 66,
   "metadata": {},
   "outputs": [
    {
     "data": {
      "text/html": [
       "<div>\n",
       "<style scoped>\n",
       "    .dataframe tbody tr th:only-of-type {\n",
       "        vertical-align: middle;\n",
       "    }\n",
       "\n",
       "    .dataframe tbody tr th {\n",
       "        vertical-align: top;\n",
       "    }\n",
       "\n",
       "    .dataframe thead th {\n",
       "        text-align: right;\n",
       "    }\n",
       "</style>\n",
       "<table border=\"1\" class=\"dataframe\">\n",
       "  <thead>\n",
       "    <tr style=\"text-align: right;\">\n",
       "      <th></th>\n",
       "      <th>year</th>\n",
       "      <th>place</th>\n",
       "      <th>win_pct</th>\n",
       "      <th>teams</th>\n",
       "    </tr>\n",
       "  </thead>\n",
       "  <tbody>\n",
       "    <tr>\n",
       "      <th>0</th>\n",
       "      <td>1922</td>\n",
       "      <td>Chicago</td>\n",
       "      <td>0.589827</td>\n",
       "      <td>Chicago Bears: 0.75&lt;br&gt;Chicago White Sox: 0.5&lt;...</td>\n",
       "    </tr>\n",
       "    <tr>\n",
       "      <th>1</th>\n",
       "      <td>1923</td>\n",
       "      <td>Chicago</td>\n",
       "      <td>0.601671</td>\n",
       "      <td>Chicago Bears: 0.818&lt;br&gt;Chicago White Sox: 0.4...</td>\n",
       "    </tr>\n",
       "    <tr>\n",
       "      <th>2</th>\n",
       "      <td>1923</td>\n",
       "      <td>St. Louis</td>\n",
       "      <td>0.401061</td>\n",
       "      <td>St. Louis All-Stars: 0.2&lt;br&gt;St. Louis Browns: ...</td>\n",
       "    </tr>\n",
       "    <tr>\n",
       "      <th>3</th>\n",
       "      <td>1924</td>\n",
       "      <td>Chicago</td>\n",
       "      <td>0.605928</td>\n",
       "      <td>Chicago Bears: 0.857&lt;br&gt;Chicago White Sox: 0.4...</td>\n",
       "    </tr>\n",
       "    <tr>\n",
       "      <th>4</th>\n",
       "      <td>1925</td>\n",
       "      <td>Boston</td>\n",
       "      <td>0.533242</td>\n",
       "      <td>Boston Bulldogs: 0.833&lt;br&gt;Boston Red Sox: 0.30...</td>\n",
       "    </tr>\n",
       "    <tr>\n",
       "      <th>...</th>\n",
       "      <td>...</td>\n",
       "      <td>...</td>\n",
       "      <td>...</td>\n",
       "      <td>...</td>\n",
       "    </tr>\n",
       "    <tr>\n",
       "      <th>872</th>\n",
       "      <td>2020</td>\n",
       "      <td>Minnesota</td>\n",
       "      <td>0.515082</td>\n",
       "      <td>Minnesota Vikings: 0.438&lt;br&gt;Minnesota Twins: 0...</td>\n",
       "    </tr>\n",
       "    <tr>\n",
       "      <th>873</th>\n",
       "      <td>2020</td>\n",
       "      <td>New York</td>\n",
       "      <td>0.421102</td>\n",
       "      <td>New York Jets: 0.125&lt;br&gt;New York Giants: 0.375...</td>\n",
       "    </tr>\n",
       "    <tr>\n",
       "      <th>874</th>\n",
       "      <td>2020</td>\n",
       "      <td>Philadelphia</td>\n",
       "      <td>0.447290</td>\n",
       "      <td>Philadelphia Eagles: 0.281&lt;br&gt;Philadelphia Phi...</td>\n",
       "    </tr>\n",
       "    <tr>\n",
       "      <th>875</th>\n",
       "      <td>2020</td>\n",
       "      <td>Pittsburgh</td>\n",
       "      <td>0.548792</td>\n",
       "      <td>Pittsburgh Steelers: 0.75&lt;br&gt;Pittsburgh Pirate...</td>\n",
       "    </tr>\n",
       "    <tr>\n",
       "      <th>876</th>\n",
       "      <td>2020</td>\n",
       "      <td>Tampa Bay</td>\n",
       "      <td>0.656317</td>\n",
       "      <td>Tampa Bay Buccaneers: 0.688&lt;br&gt;Tampa Bay Rays:...</td>\n",
       "    </tr>\n",
       "  </tbody>\n",
       "</table>\n",
       "<p>877 rows × 4 columns</p>\n",
       "</div>"
      ],
      "text/plain": [
       "     year         place   win_pct  \\\n",
       "0    1922       Chicago  0.589827   \n",
       "1    1923       Chicago  0.601671   \n",
       "2    1923     St. Louis  0.401061   \n",
       "3    1924       Chicago  0.605928   \n",
       "4    1925        Boston  0.533242   \n",
       "..    ...           ...       ...   \n",
       "872  2020     Minnesota  0.515082   \n",
       "873  2020      New York  0.421102   \n",
       "874  2020  Philadelphia  0.447290   \n",
       "875  2020    Pittsburgh  0.548792   \n",
       "876  2020     Tampa Bay  0.656317   \n",
       "\n",
       "                                                 teams  \n",
       "0    Chicago Bears: 0.75<br>Chicago White Sox: 0.5<...  \n",
       "1    Chicago Bears: 0.818<br>Chicago White Sox: 0.4...  \n",
       "2    St. Louis All-Stars: 0.2<br>St. Louis Browns: ...  \n",
       "3    Chicago Bears: 0.857<br>Chicago White Sox: 0.4...  \n",
       "4    Boston Bulldogs: 0.833<br>Boston Red Sox: 0.30...  \n",
       "..                                                 ...  \n",
       "872  Minnesota Vikings: 0.438<br>Minnesota Twins: 0...  \n",
       "873  New York Jets: 0.125<br>New York Giants: 0.375...  \n",
       "874  Philadelphia Eagles: 0.281<br>Philadelphia Phi...  \n",
       "875  Pittsburgh Steelers: 0.75<br>Pittsburgh Pirate...  \n",
       "876  Tampa Bay Buccaneers: 0.688<br>Tampa Bay Rays:...  \n",
       "\n",
       "[877 rows x 4 columns]"
      ]
     },
     "execution_count": 66,
     "metadata": {},
     "output_type": "execute_result"
    }
   ],
   "source": [
    "temp = df.groupby([\"year\", \"place\"]).win_pct.mean()[teams_3].reset_index()\n",
    "temp = temp.set_index([\"year\", \"place\"])\n",
    "temp['teams'] = teams\n",
    "temp = temp.reset_index()\n",
    "temp\n",
    "#temp[temp.year > 1950].sort_values(\"win_pct\").head(30)"
   ]
  },
  {
   "cell_type": "code",
   "execution_count": 68,
   "metadata": {},
   "outputs": [
    {
     "data": {
      "application/vnd.plotly.v1+json": {
       "config": {
        "plotlyServerURL": "https://plot.ly"
       },
       "data": [
        {
         "hovertemplate": "<br><b>Year</b>: %{x}<br><b>Winning Pct.</b>: %{y:.2f}<br>%{text}<extra></extra>",
         "mode": "markers",
         "text": [
          "Chicago Bears: 0.75<br>Chicago White Sox: 0.5<br>Chicago Cubs: 0.519<br>",
          "Chicago Bears: 0.818<br>Chicago White Sox: 0.448<br>Chicago Cubs: 0.538<br>",
          "St. Louis All-Stars: 0.2<br>St. Louis Browns: 0.486<br>St. Louis Cardinals: 0.516<br>",
          "Chicago Bears: 0.857<br>Chicago White Sox: 0.431<br>Chicago Cubs: 0.529<br>",
          "Boston Bulldogs: 0.833<br>Boston Red Sox: 0.309<br>Boston Braves: 0.457<br>",
          "Chicago Bears: 0.818<br>Chicago White Sox: 0.512<br>Chicago Cubs: 0.441<br>",
          "New York Giants: 0.636<br>New York Giants: 0.565<br>New York Yankees: 0.448<br>",
          "Boston Bulldogs: 0.909<br>Boston Red Sox: 0.300<br>Boston Braves: 0.434<br>",
          "Chicago Bears: 1.0<br>Chicago White Sox: 0.529<br>Chicago Cubs: 0.532<br>",
          "New York Giants: 0.636<br>New York Giants: 0.490<br>New York Yankees: 0.590<br>",
          "Boston Bulldogs: 0.417<br>Boston Red Sox: 0.331<br>Boston Braves: 0.389<br>",
          "Chicago Bears: 0.778<br>Chicago White Sox: 0.457<br>Chicago Cubs: 0.555<br>",
          "New York Giants: 0.889<br>New York Giants: 0.597<br>New York Yankees: 0.714<br>",
          "Boston Bulldogs: 0.2<br>Boston Red Sox: 0.372<br>Boston Braves: 0.326<br>",
          "Chicago Bears: 0.583<br>Chicago White Sox: 0.467<br>Chicago Cubs: 0.590<br>",
          "New York Giants: 0.364<br>New York Giants: 0.603<br>New York Yankees: 0.655<br>",
          "Boston Bulldogs: 0.5<br>Boston Red Sox: 0.376<br>Boston Braves: 0.363<br>",
          "Chicago Bears: 0.4<br>Chicago White Sox: 0.388<br>Chicago Cubs: 0.644<br>",
          "New York Giants: 0.889<br>New York Giants: 0.556<br>New York Yankees: 0.571<br>",
          "Chicago Bears: 0.556<br>Chicago White Sox: 0.402<br>Chicago Cubs: 0.584<br>",
          "New York Yankees: 0.714<br>New York Giants: 0.833<br>New York Giants: 0.564<br>New York Yankees: 0.558<br>",
          "Chicago Bears: 0.667<br>Chicago White Sox: 0.366<br>Chicago Cubs: 0.545<br>",
          "New York Yankees: 0.143<br>New York Giants: 0.5<br>New York Giants: 0.572<br>New York Yankees: 0.614<br>",
          "Chicago Bears: 0.875<br>Chicago White Sox: 0.324<br>Chicago Cubs: 0.584<br>",
          "New York Yankees: 0.25<br>New York Giants: 0.4<br>New York Giants: 0.467<br>New York Yankees: 0.694<br>",
          "Chicago Bears: 0.833<br>Chicago White Sox: 0.446<br>Chicago Cubs: 0.558<br>",
          "New York Yankees: 0.556<br>New York Giants: 0.786<br>New York Giants: 0.598<br>New York Yankees: 0.606<br>",
          "Philadelphia Eagles: 0.375<br>Philadelphia Athletics: 0.523<br>Philadelphia Phillies: 0.394<br>",
          "Chicago Bears: 1.0<br>Chicago White Sox: 0.348<br>Chicago Cubs: 0.569<br>",
          "New York Yankees: 0.364<br>New York Giants: 0.615<br>New York Giants: 0.607<br>New York Yankees: 0.610<br>",
          "Philadelphia Eagles: 0.364<br>Philadelphia Athletics: 0.453<br>Philadelphia Phillies: 0.375<br>",
          "St. Louis Gunners: 0.333<br>St. Louis Browns: 0.440<br>St. Louis Cardinals: 0.620<br>",
          "Chicago Bears: 0.6<br>Chicago White Sox: 0.486<br>Chicago Cubs: 0.649<br>",
          "New York Yankees: 0.455<br>New York Giants: 0.75<br>New York Giants: 0.594<br>New York Yankees: 0.597<br>",
          "Philadelphia Eagles: 0.182<br>Philadelphia Athletics: 0.389<br>Philadelphia Phillies: 0.418<br>",
          "Chicago Bears: 0.75<br>Chicago White Sox: 0.536<br>Chicago Cubs: 0.564<br>",
          "New York Yankees: 0.273<br>New York Giants: 0.455<br>New York Giants: 0.597<br>New York Yankees: 0.666<br>",
          "Philadelphia Eagles: 0.083<br>Philadelphia Athletics: 0.346<br>Philadelphia Phillies: 0.350<br>",
          "Chicago Bears: 0.9<br>Chicago White Sox: 0.558<br>Chicago Cubs: 0.603<br>",
          "New York Yankees: 0.3<br>New York Giants: 0.667<br>New York Giants: 0.625<br>New York Yankees: 0.662<br>",
          "Philadelphia Eagles: 0.2<br>Philadelphia Athletics: 0.357<br>Philadelphia Phillies: 0.398<br>",
          "Chicago Bears: 0.545<br>Chicago White Sox: 0.439<br>Chicago Cubs: 0.585<br>",
          "New York Yankees: 0.5<br>New York Giants: 0.8<br>New York Giants: 0.553<br>New York Yankees: 0.651<br>",
          "Philadelphia Eagles: 0.455<br>Philadelphia Athletics: 0.348<br>Philadelphia Phillies: 0.3<br>",
          "Chicago Bears: 0.727<br>Chicago White Sox: 0.551<br>Chicago Cubs: 0.545<br>",
          "New York Yankees: 0.4<br>New York Giants: 0.9<br>New York Giants: 0.509<br>New York Yankees: 0.701<br>",
          "Philadelphia Eagles: 0.1<br>Philadelphia Athletics: 0.361<br>Philadelphia Phillies: 0.298<br>",
          "Chicago Bears: 0.727<br>Chicago White Sox: 0.532<br>Chicago Cubs: 0.487<br>",
          "New York Giants: 0.6<br>New York Yankees: 0.727<br>New York Giants: 0.473<br>New York Yankees: 0.571<br>",
          "Philadelphia Eagles: 0.091<br>Philadelphia Athletics: 0.350<br>Philadelphia Phillies: 0.326<br>",
          "Chicago Bears: 0.909<br>Chicago White Sox: 0.5<br>Chicago Cubs: 0.454<br>",
          "New York Yankees: 0.636<br>New York Giants: 0.727<br>New York Giants: 0.483<br>New York Yankees: 0.655<br>",
          "Philadelphia Eagles: 0.2<br>Philadelphia Athletics: 0.415<br>Philadelphia Phillies: 0.279<br>",
          "Chicago Bears: 1.0<br>Chicago White Sox: 0.445<br>Chicago Cubs: 0.441<br>",
          "New York Yankees: 0.273<br>New York Giants: 0.5<br>New York Giants: 0.559<br>New York Yankees: 0.668<br>",
          "Philadelphia Eagles: 0.182<br>Philadelphia Athletics: 0.357<br>Philadelphia Phillies: 0.278<br>",
          "Chicago Bears: 0.889<br>Chicago White Sox: 0.532<br>Chicago Cubs: 0.483<br>",
          "New York Yankees: 0.2<br>New York Giants: 0.667<br>New York Giants: 0.359<br>New York Yankees: 0.636<br>",
          "Chicago Bears: 0.667<br>Chicago White Sox: 0.461<br>Chicago Cubs: 0.487<br>",
          "New York Yankees: 0.0<br>New York Giants: 0.889<br>New York Giants: 0.435<br>New York Yankees: 0.538<br>",
          "Philadelphia Eagles: 0.875<br>Philadelphia Athletics: 0.467<br>Philadelphia Blue Jays: 0.398<br>",
          "Chicago Bears: 0.3<br>Chicago White Sox: 0.476<br>Chicago Cubs: 0.636<br>",
          "New York Giants: 0.333<br>New York Giants: 0.513<br>New York Yankees: 0.532<br>",
          "Philadelphia Eagles: 0.7<br>Philadelphia Athletics: 0.346<br>Philadelphia Phillies: 0.298<br>",
          "Boston Red Sox: 0.675<br>Boston Braves: 0.529<br>Boston Celtics: 0.367<br>",
          "Chicago Hornets: 0.0<br>Chicago Bears: 0.8<br>Chicago White Sox: 0.480<br>Chicago Cubs: 0.535<br>",
          "New York Yankees: 0.0<br>New York Giants: 0.7<br>New York Giants: 0.396<br>New York Yankees: 0.564<br>New York Knicks: 0.55<br>",
          "Philadelphia Eagles: 0.545<br>Philadelphia Athletics: 0.318<br>Philadelphia Phillies: 0.448<br>",
          "Boston Red Sox: 0.538<br>Boston Braves: 0.558<br>Boston Celtics: 0.417<br>",
          "Chicago Hornets: 0.0<br>Chicago Bears: 0.667<br>Chicago White Sox: 0.454<br>Chicago Cubs: 0.448<br>",
          "New York Yankees: 0.0<br>New York Giants: 0.2<br>New York Giants: 0.525<br>New York Yankees: 0.629<br>New York Knicks: 0.542<br>",
          "Philadelphia Eagles: 0.667<br>Philadelphia Athletics: 0.506<br>Philadelphia Phillies: 0.402<br>",
          "Boston Red Sox: 0.619<br>Boston Braves: 0.594<br>Boston Celtics: 0.417<br>",
          "Chicago Hornets: 0.0<br>Chicago Bears: 0.833<br>Chicago White Sox: 0.335<br>Chicago Cubs: 0.415<br>",
          "Detroit Lions: 0.167<br>Detroit Tigers: 0.506<br>Detroit Pistons: 0.367<br>",
          "Los Angeles Dons: 0.0<br>Los Angeles Rams: 0.545<br>Los Angeles Lakers: 0.733<br>",
          "New York Yankees: 0.0<br>New York Giants: 0.333<br>New York Giants: 0.506<br>New York Yankees: 0.610<br>New York Knicks: 0.533<br>",
          "Philadelphia Eagles: 0.818<br>Philadelphia Athletics: 0.545<br>Philadelphia Phillies: 0.428<br>",
          "Boston Red Sox: 0.623<br>Boston Braves: 0.487<br>Boston Celtics: 0.324<br>",
          "Chicago Hornets: 0.0<br>Chicago Bears: 0.75<br>Chicago White Sox: 0.409<br>Chicago Cubs: 0.396<br>",
          "Detroit Lions: 0.333<br>Detroit Tigers: 0.564<br>Detroit Pistons: 0.588<br>",
          "Los Angeles Dons: 0.0<br>Los Angeles Rams: 0.8<br>Los Angeles Lakers: 0.75<br>",
          "New York Yankees: 0.0<br>New York Giants: 0.5<br>New York Giants: 0.474<br>New York Yankees: 0.629<br>New York Knicks: 0.588<br>",
          "Philadelphia Eagles: 0.917<br>Philadelphia Athletics: 0.525<br>Philadelphia Phillies: 0.525<br>",
          "Boston Red Sox: 0.610<br>Boston Braves: 0.538<br>Boston Celtics: 0.565<br>Boston Bruins: 0.314<br>",
          "Chicago Bears: 0.75<br>Chicago White Sox: 0.389<br>Chicago Cubs: 0.418<br>Chicago Blackhawks: 0.314<br>",
          "Detroit Lions: 0.5<br>Detroit Tigers: 0.616<br>Detroit Pistons: 0.471<br>Detroit Red Wings: 0.528<br>",
          "New York Giants: 0.833<br>New York Giants: 0.558<br>New York Yankees: 0.636<br>New York Knicks: 0.545<br>New York Rangers: 0.4<br>",
          "Philadelphia Eagles: 0.5<br>Philadelphia Athletics: 0.337<br>Philadelphia Phillies: 0.590<br>",
          "Boston Red Sox: 0.564<br>Boston Braves: 0.493<br>Boston Celtics: 0.591<br>Boston Bruins: 0.314<br>",
          "Chicago Bears: 0.583<br>Chicago White Sox: 0.525<br>Chicago Cubs: 0.402<br>Chicago Blackhawks: 0.185<br>",
          "Detroit Lions: 0.636<br>Detroit Tigers: 0.474<br>Detroit Pistons: 0.439<br>Detroit Red Wings: 0.628<br>",
          "New York Giants: 0.818<br>New York Giants: 0.624<br>New York Yankees: 0.636<br>New York Knicks: 0.561<br>New York Rangers: 0.285<br>",
          "Philadelphia Eagles: 0.333<br>Philadelphia Athletics: 0.454<br>Philadelphia Phillies: 0.474<br>",
          "Boston Red Sox: 0.493<br>Boston Braves: 0.418<br>Boston Celtics: 0.648<br>Boston Bruins: 0.357<br>",
          "Chicago Bears: 0.417<br>Chicago White Sox: 0.525<br>Chicago Cubs: 0.5<br>Chicago Blackhawks: 0.242<br>",
          "Detroit Lions: 0.75<br>Detroit Tigers: 0.324<br>Detroit Pistons: 0.522<br>Detroit Red Wings: 0.628<br>",
          "New York Giants: 0.583<br>New York Giants: 0.597<br>New York Yankees: 0.616<br>New York Knicks: 0.671<br>New York Rangers: 0.328<br>",
          "Philadelphia Eagles: 0.583<br>Philadelphia Athletics: 0.512<br>Philadelphia Phillies: 0.564<br>",
          "Boston Red Sox: 0.549<br>Boston Celtics: 0.583<br>Boston Bruins: 0.4<br>",
          "Chicago Bears: 0.273<br>Chicago White Sox: 0.577<br>Chicago Cubs: 0.422<br>Chicago Blackhawks: 0.385<br>",
          "Detroit Lions: 0.833<br>Detroit Tigers: 0.389<br>Detroit Pistons: 0.556<br>Detroit Red Wings: 0.514<br>",
          "New York Giants: 0.25<br>New York Giants: 0.454<br>New York Yankees: 0.655<br>New York Knicks: 0.611<br>New York Rangers: 0.242<br>",
          "Philadelphia Eagles: 0.636<br>Philadelphia Athletics: 0.383<br>Philadelphia Phillies: 0.538<br>",
          "Boston Red Sox: 0.448<br>Boston Celtics: 0.5<br>Boston Bruins: 0.457<br>",
          "Chicago Bears: 0.667<br>Chicago White Sox: 0.610<br>Chicago Cubs: 0.415<br>Chicago Blackhawks: 0.171<br>",
          "Detroit Lions: 0.818<br>Detroit Tigers: 0.441<br>Detroit Pistons: 0.597<br>Detroit Red Wings: 0.528<br>",
          "New York Giants: 0.583<br>New York Giants: 0.629<br>New York Yankees: 0.668<br>New York Knicks: 0.528<br>New York Rangers: 0.414<br>",
          "Philadelphia Eagles: 0.636<br>Philadelphia Athletics: 0.331<br>Philadelphia Phillies: 0.487<br>",
          "Boston Red Sox: 0.545<br>Boston Celtics: 0.542<br>Boston Bruins: 0.328<br>",
          "Chicago Bears: 0.667<br>Chicago White Sox: 0.590<br>Chicago Cubs: 0.470<br>Chicago Blackhawks: 0.185<br>",
          "Detroit Lions: 0.25<br>Detroit Tigers: 0.512<br>Detroit Pistons: 0.514<br>Detroit Red Wings: 0.6<br>",
          "New York Giants: 0.545<br>New York Giants: 0.519<br>New York Yankees: 0.623<br>New York Knicks: 0.486<br>New York Rangers: 0.242<br>",
          "Boston Red Sox: 0.545<br>Boston Celtics: 0.611<br>Boston Bruins: 0.328<br>",
          "Chicago Bears: 0.818<br>Chicago White Sox: 0.551<br>Chicago Cubs: 0.389<br>Chicago Blackhawks: 0.271<br>",
          "Detroit Lions: 0.75<br>Detroit Tigers: 0.532<br>Detroit Pistons: 0.472<br>Detroit Red Wings: 0.428<br>",
          "New York Giants: 0.727<br>New York Giants: 0.435<br>New York Yankees: 0.629<br>New York Knicks: 0.5<br>New York Rangers: 0.457<br>",
          "Boston Red Sox: 0.532<br>Boston Celtics: 0.681<br>Boston Bruins: 0.485<br>",
          "Chicago Bears: 0.417<br>Chicago White Sox: 0.584<br>Chicago Cubs: 0.402<br>Chicago Blackhawks: 0.228<br>",
          "Detroit Lions: 0.667<br>Detroit Tigers: 0.506<br>Detroit Pistons: 0.458<br>Detroit Red Wings: 0.542<br>",
          "New York Giants: 0.583<br>New York Giants: 0.448<br>New York Yankees: 0.636<br>New York Knicks: 0.486<br>New York Rangers: 0.371<br>",
          "Boston Red Sox: 0.512<br>Boston Celtics: 0.722<br>Boston Bruins: 0.385<br>",
          "Chicago Bears: 0.667<br>Chicago White Sox: 0.532<br>Chicago Cubs: 0.467<br>Chicago Blackhawks: 0.342<br>",
          "Detroit Lions: 0.364<br>Detroit Tigers: 0.5<br>Detroit Pistons: 0.389<br>Detroit Red Wings: 0.414<br>",
          "Los Angeles Rams: 0.667<br>Los Angeles Dodgers: 0.461<br>Los Angeles Lakers: 0.458<br>",
          "New York Giants: 0.75<br>New York Yankees: 0.597<br>New York Knicks: 0.556<br>New York Rangers: 0.457<br>",
          "Boston Red Sox: 0.487<br>Boston Celtics: 0.787<br>Boston Bruins: 0.457<br>",
          "Chicago Bears: 0.667<br>Chicago White Sox: 0.610<br>Chicago Cubs: 0.480<br>Chicago Blackhawks: 0.4<br>",
          "Detroit Lions: 0.273<br>Detroit Tigers: 0.493<br>Detroit Pistons: 0.4<br>Detroit Red Wings: 0.357<br>",
          "Los Angeles Rams: 0.167<br>Los Angeles Dodgers: 0.564<br>Los Angeles Lakers: 0.333<br>",
          "New York Giants: 0.833<br>New York Yankees: 0.512<br>New York Knicks: 0.36<br>New York Rangers: 0.371<br>",
          "Boston Red Sox: 0.422<br>Boston Celtics: 0.722<br>Boston Bruins: 0.4<br>",
          "Chicago Bears: 0.455<br>Chicago White Sox: 0.564<br>Chicago Cubs: 0.389<br>Chicago Blackhawks: 0.4<br>",
          "Detroit Lions: 0.583<br>Detroit Tigers: 0.461<br>Detroit Pistons: 0.43<br>Detroit Red Wings: 0.371<br>",
          "Los Angeles Rams: 0.364<br>Los Angeles Chargers: 0.714<br>Los Angeles Dodgers: 0.532<br>Los Angeles Lakers: 0.456<br>",
          "New York Giants: 0.6<br>New York Yankees: 0.629<br>New York Knicks: 0.266<br>New York Rangers: 0.242<br>",
          "Tennessee Titans: 0.5<br>Tennessee Titans: 0.571<br>Tennessee Titans: 0.714<br>",
          "Boston Red Sox: 0.469<br>Boston Celtics: 0.75<br>Boston Bruins: 0.214<br>",
          "Chicago Bears: 0.571<br>Chicago White Sox: 0.530<br>Chicago Cubs: 0.415<br>Chicago Packers: 0.225<br>Chicago Blackhawks: 0.414<br>",
          "Detroit Lions: 0.615<br>Detroit Tigers: 0.623<br>Detroit Pistons: 0.463<br>Detroit Red Wings: 0.357<br>",
          "Los Angeles Rams: 0.286<br>Los Angeles Chargers: 0.857<br>Los Angeles Angels: 0.434<br>Los Angeles Dodgers: 0.577<br>Los Angeles Lakers: 0.675<br>",
          "New York Giants: 0.769<br>New York Yankees: 0.672<br>New York Knicks: 0.363<br>New York Rangers: 0.314<br>",
          "Tennessee Titans: 0.429<br>Tennessee Titans: 0.5<br>Tennessee Titans: 0.769<br>",
          "Boston Red Sox: 0.475<br>Boston Celtics: 0.725<br>Boston Bruins: 0.214<br>",
          "Chicago Bears: 0.643<br>Chicago White Sox: 0.524<br>Chicago Cubs: 0.364<br>Chicago Zephyrs: 0.313<br>Chicago Blackhawks: 0.442<br>",
          "Detroit Lions: 0.786<br>Detroit Tigers: 0.527<br>Detroit Pistons: 0.425<br>Detroit Red Wings: 0.328<br>",
          "Los Angeles Rams: 0.077<br>Los Angeles Chargers: 0.286<br>Los Angeles Angels: 0.530<br>Los Angeles Dodgers: 0.618<br>Los Angeles Lakers: 0.663<br>",
          "New York Giants: 0.857<br>New York Yankees: 0.592<br>New York Mets: 0.25<br>New York Knicks: 0.263<br>New York Rangers: 0.371<br>",
          "Tennessee Titans: 0.357<br>Tennessee Titans: 0.786<br>Tennessee Titans: 0.786<br>",
          "Boston Red Sox: 0.472<br>Boston Celtics: 0.738<br>Boston Bruins: 0.2<br>",
          "Chicago Bears: 0.917<br>Chicago White Sox: 0.580<br>Chicago Cubs: 0.506<br>Chicago Blackhawks: 0.457<br>",
          "Detroit Lions: 0.385<br>Detroit Tigers: 0.487<br>Detroit Pistons: 0.288<br>Detroit Red Wings: 0.457<br>",
          "Los Angeles Rams: 0.357<br>Los Angeles Chargers: 0.786<br>Los Angeles Angels: 0.434<br>Los Angeles Dodgers: 0.611<br>Los Angeles Lakers: 0.525<br>",
          "New York Jets: 0.385<br>New York Giants: 0.786<br>New York Yankees: 0.645<br>New York Mets: 0.314<br>New York Knicks: 0.275<br>New York Rangers: 0.314<br>",
          "Philadelphia Eagles: 0.167<br>Philadelphia Phillies: 0.537<br>Philadelphia 76ers: 0.425<br>",
          "Washington Commanders: 0.214<br>Washington Senators: 0.345<br>Washington Bullets: 0.388<br>",
          "Boston Red Sox: 0.444<br>Boston Celtics: 0.775<br>Boston Bruins: 0.257<br>",
          "Chicago Bears: 0.357<br>Chicago White Sox: 0.604<br>Chicago Cubs: 0.469<br>Chicago Blackhawks: 0.514<br>",
          "Detroit Lions: 0.583<br>Detroit Tigers: 0.524<br>Detroit Pistons: 0.388<br>Detroit Red Wings: 0.428<br>",
          "Los Angeles Rams: 0.417<br>Los Angeles Chargers: 0.615<br>Los Angeles Angels: 0.506<br>Los Angeles Dodgers: 0.493<br>Los Angeles Lakers: 0.613<br>",
          "New York Giants: 0.167<br>New York Jets: 0.385<br>New York Yankees: 0.611<br>New York Mets: 0.327<br>New York Knicks: 0.388<br>New York Rangers: 0.314<br>",
          "Philadelphia Eagles: 0.429<br>Philadelphia Phillies: 0.567<br>Philadelphia 76ers: 0.5<br>",
          "Washington Commanders: 0.429<br>Washington Senators: 0.382<br>Washington Bullets: 0.463<br>",
          "Boston Red Sox: 0.382<br>Boston Celtics: 0.675<br>Boston Bruins: 0.3<br>",
          "Chicago Bears: 0.643<br>Chicago White Sox: 0.586<br>Chicago Cubs: 0.444<br>Chicago Blackhawks: 0.485<br>",
          "Detroit Lions: 0.462<br>Detroit Tigers: 0.549<br>Detroit Pistons: 0.275<br>Detroit Red Wings: 0.571<br>",
          "Los Angeles Rams: 0.286<br>Los Angeles Chargers: 0.818<br>Los Angeles Dodgers: 0.598<br>Los Angeles Lakers: 0.563<br>",
          "New York Jets: 0.385<br>New York Giants: 0.5<br>New York Yankees: 0.475<br>New York Mets: 0.308<br>New York Knicks: 0.375<br>New York Rangers: 0.285<br>",
          "Philadelphia Eagles: 0.357<br>Philadelphia Phillies: 0.527<br>Philadelphia 76ers: 0.688<br>",
          "Washington Commanders: 0.429<br>Washington Senators: 0.432<br>Washington Bullets: 0.475<br>",
          "Atlanta Falcons: 0.214<br>Atlanta Braves: 0.524<br>Atlanta Hawks: 0.481<br>",
          "Boston Red Sox: 0.444<br>Boston Celtics: 0.741<br>Boston Bruins: 0.3<br>",
          "Chicago Bears: 0.417<br>Chicago White Sox: 0.512<br>Chicago Cubs: 0.364<br>Chicago Bulls: 0.407<br>Chicago Blackhawks: 0.528<br>",
          "Detroit Lions: 0.308<br>Detroit Tigers: 0.543<br>Detroit Pistons: 0.37<br>Detroit Red Wings: 0.442<br>",
          "Los Angeles Chargers: 0.538<br>Los Angeles Rams: 0.571<br>Los Angeles Dodgers: 0.586<br>Los Angeles Lakers: 0.444<br>",
          "New York Giants: 0.077<br>New York Jets: 0.5<br>New York Yankees: 0.440<br>New York Mets: 0.409<br>New York Knicks: 0.444<br>New York Rangers: 0.257<br>",
          "Philadelphia Eagles: 0.643<br>Philadelphia Phillies: 0.537<br>Philadelphia 76ers: 0.84<br>",
          "Washington Commanders: 0.5<br>Washington Senators: 0.446<br>Washington Bullets: 0.247<br>",
          "Atlanta Falcons: 0.077<br>Atlanta Braves: 0.475<br>Atlanta Hawks: 0.683<br>",
          "Boston Red Sox: 0.567<br>Boston Celtics: 0.659<br>Boston Bruins: 0.242<br>",
          "Chicago Bears: 0.538<br>Chicago White Sox: 0.549<br>Chicago Cubs: 0.540<br>Chicago Bulls: 0.354<br>Chicago Blackhawks: 0.585<br>",
          "Detroit Lions: 0.417<br>Detroit Tigers: 0.561<br>Detroit Pistons: 0.488<br>Detroit Red Wings: 0.385<br>",
          "Los Angeles Chargers: 0.615<br>Los Angeles Rams: 0.917<br>Los Angeles Dodgers: 0.450<br>Los Angeles Lakers: 0.634<br>",
          "New York Giants: 0.5<br>New York Jets: 0.615<br>New York Yankees: 0.444<br>New York Mets: 0.376<br>New York Knicks: 0.524<br>New York Rangers: 0.428<br>",
          "Philadelphia Eagles: 0.462<br>Philadelphia Phillies: 0.506<br>Philadelphia 76ers: 0.756<br>",
          "Washington Commanders: 0.455<br>Washington Senators: 0.472<br>Washington Bullets: 0.439<br>",
          "Atlanta Falcons: 0.143<br>Atlanta Braves: 0.5<br>Atlanta Hawks: 0.585<br>",
          "Boston Red Sox: 0.530<br>Boston Celtics: 0.585<br>Boston Bruins: 0.5<br>",
          "Chicago Bears: 0.5<br>Chicago White Sox: 0.413<br>Chicago Cubs: 0.518<br>Chicago Bulls: 0.402<br>Chicago Blackhawks: 0.432<br>",
          "Detroit Lions: 0.333<br>Detroit Tigers: 0.635<br>Detroit Pistons: 0.39<br>Detroit Red Wings: 0.364<br>",
          "Los Angeles Chargers: 0.643<br>Los Angeles Rams: 0.769<br>Los Angeles Dodgers: 0.469<br>Los Angeles Lakers: 0.671<br>Los Angeles Kings: 0.418<br>",
          "Minnesota Vikings: 0.571<br>Minnesota Twins: 0.487<br>Minnesota North Stars: 0.364<br>",
          "New York Giants: 0.5<br>New York Jets: 0.786<br>New York Yankees: 0.512<br>New York Mets: 0.450<br>New York Knicks: 0.659<br>New York Rangers: 0.527<br>",
          "Philadelphia Eagles: 0.143<br>Philadelphia Phillies: 0.469<br>Philadelphia 76ers: 0.671<br>Philadelphia Flyers: 0.418<br>",
          "Pittsburgh Steelers: 0.154<br>Pittsburgh Pirates: 0.493<br>Pittsburgh Penguins: 0.364<br>",
          "Washington Commanders: 0.357<br>Washington Senators: 0.403<br>Washington Bullets: 0.695<br>",
          "Atlanta Falcons: 0.429<br>Atlanta Braves: 0.574<br>Atlanta Hawks: 0.585<br>",
          "Boston Red Sox: 0.537<br>Boston Celtics: 0.415<br>Boston Bruins: 0.552<br>",
          "Chicago Bears: 0.071<br>Chicago White Sox: 0.419<br>Chicago Cubs: 0.567<br>Chicago Bulls: 0.476<br>Chicago Blackhawks: 0.447<br>",
          "Detroit Lions: 0.692<br>Detroit Tigers: 0.555<br>Detroit Pistons: 0.378<br>Detroit Red Wings: 0.434<br>",
          "Los Angeles Chargers: 0.571<br>Los Angeles Rams: 0.786<br>Los Angeles Dodgers: 0.524<br>Los Angeles Lakers: 0.561<br>Los Angeles Kings: 0.315<br>",
          "Minnesota Vikings: 0.857<br>Minnesota Twins: 0.598<br>Minnesota North Stars: 0.236<br>",
          "New York Giants: 0.429<br>New York Jets: 0.714<br>New York Yankees: 0.496<br>New York Mets: 0.617<br>New York Knicks: 0.732<br>New York Rangers: 0.539<br>",
          "Philadelphia Eagles: 0.308<br>Philadelphia Phillies: 0.388<br>Philadelphia 76ers: 0.512<br>Philadelphia Flyers: 0.263<br>",
          "Pittsburgh Steelers: 0.071<br>Pittsburgh Pirates: 0.543<br>Pittsburgh Penguins: 0.263<br>",
          "Washington Commanders: 0.583<br>Washington Senators: 0.530<br>Washington Bullets: 0.61<br>",
          "Atlanta Falcons: 0.333<br>Atlanta Braves: 0.469<br>Atlanta Hawks: 0.439<br>",
          "Boston Red Sox: 0.537<br>Boston Celtics: 0.537<br>Boston Bruins: 0.526<br>",
          "Chicago Bears: 0.429<br>Chicago White Sox: 0.345<br>Chicago Cubs: 0.518<br>Chicago Bulls: 0.622<br>Chicago Blackhawks: 0.592<br>",
          "Cleveland Browns: 0.5<br>Cleveland Indians: 0.469<br>Cleveland Cavaliers: 0.183<br>",
          "Detroit Lions: 0.714<br>Detroit Tigers: 0.487<br>Detroit Pistons: 0.549<br>Detroit Red Wings: 0.526<br>",
          "Los Angeles Chargers: 0.455<br>Los Angeles Rams: 0.692<br>Los Angeles Dodgers: 0.540<br>Los Angeles Lakers: 0.585<br>Los Angeles Kings: 0.184<br>",
          "Minnesota Vikings: 0.857<br>Minnesota Twins: 0.604<br>Minnesota North Stars: 0.25<br>",
          "New York Jets: 0.286<br>New York Giants: 0.643<br>New York Yankees: 0.574<br>New York Mets: 0.512<br>New York Knicks: 0.634<br>New York Rangers: 0.5<br>",
          "Philadelphia Eagles: 0.231<br>Philadelphia Phillies: 0.453<br>Philadelphia 76ers: 0.573<br>Philadelphia Flyers: 0.223<br>",
          "Pittsburgh Steelers: 0.357<br>Pittsburgh Pirates: 0.549<br>Pittsburgh Penguins: 0.342<br>",
          "Washington Commanders: 0.429<br>Washington Senators: 0.432<br>Washington Bullets: 0.512<br>",
          "Atlanta Falcons: 0.538<br>Atlanta Braves: 0.506<br>Atlanta Hawks: 0.439<br>",
          "Boston Red Sox: 0.524<br>Boston Celtics: 0.683<br>Boston Bruins: 0.730<br>",
          "Buffalo Bills: 0.071<br>Buffalo Braves: 0.268<br>Buffalo Sabres: 0.307<br>",
          "Chicago Bears: 0.429<br>Chicago White Sox: 0.487<br>Chicago Cubs: 0.512<br>Chicago Bulls: 0.695<br>Chicago Blackhawks: 0.628<br>",
          "Cleveland Browns: 0.643<br>Cleveland Indians: 0.370<br>Cleveland Cavaliers: 0.28<br>",
          "Detroit Lions: 0.538<br>Detroit Tigers: 0.561<br>Detroit Pistons: 0.317<br>Detroit Red Wings: 0.282<br>",
          "Los Angeles Chargers: 0.429<br>Los Angeles Rams: 0.615<br>Los Angeles Dodgers: 0.549<br>Los Angeles Lakers: 0.841<br>Los Angeles Kings: 0.320<br>",
          "Minnesota Vikings: 0.786<br>Minnesota Twins: 0.462<br>Minnesota North Stars: 0.358<br>",
          "New York Giants: 0.286<br>New York Jets: 0.429<br>New York Yankees: 0.506<br>New York Mets: 0.512<br>New York Knicks: 0.585<br>New York Rangers: 0.628<br>",
          "Philadelphia Eagles: 0.462<br>Philadelphia Phillies: 0.413<br>Philadelphia 76ers: 0.366<br>Philadelphia Flyers: 0.358<br>",
          "Pittsburgh Steelers: 0.429<br>Pittsburgh Pirates: 0.598<br>Pittsburgh Penguins: 0.269<br>",
          "Washington Commanders: 0.692<br>Washington Senators: 0.396<br>Washington Bullets: 0.463<br>",
          "Atlanta Falcons: 0.5<br>Atlanta Braves: 0.454<br>Atlanta Hawks: 0.561<br>",
          "Boston Red Sox: 0.548<br>Boston Celtics: 0.829<br>Boston Bruins: 0.692<br>",
          "Buffalo Bills: 0.321<br>Buffalo Braves: 0.256<br>Buffalo Sabres: 0.205<br>",
          "Chicago Bears: 0.321<br>Chicago White Sox: 0.564<br>Chicago Cubs: 0.548<br>Chicago Bulls: 0.622<br>Chicago Blackhawks: 0.589<br>",
          "Cleveland Browns: 0.714<br>Cleveland Indians: 0.461<br>Cleveland Cavaliers: 0.39<br>",
          "Detroit Lions: 0.607<br>Detroit Tigers: 0.551<br>Detroit Pistons: 0.488<br>Detroit Red Wings: 0.423<br>",
          "Los Angeles Chargers: 0.321<br>Los Angeles Rams: 0.464<br>Los Angeles Dodgers: 0.548<br>Los Angeles Lakers: 0.732<br>Los Angeles Kings: 0.256<br>",
          "Minnesota Vikings: 0.5<br>Minnesota Twins: 0.5<br>Minnesota North Stars: 0.474<br>",
          "New York Jets: 0.5<br>New York Giants: 0.571<br>New York Yankees: 0.509<br>New York Mets: 0.532<br>New York Knicks: 0.695<br>New York Rangers: 0.615<br>",
          "Philadelphia Eagles: 0.179<br>Philadelphia Phillies: 0.378<br>Philadelphia 76ers: 0.11<br>Philadelphia Flyers: 0.333<br>",
          "Pittsburgh Steelers: 0.786<br>Pittsburgh Pirates: 0.619<br>Pittsburgh Penguins: 0.333<br>",
          "Atlanta Falcons: 0.643<br>Atlanta Braves: 0.472<br>Atlanta Hawks: 0.427<br>Atlanta Flames: 0.320<br>",
          "Boston Red Sox: 0.549<br>Boston Celtics: 0.683<br>Boston Bruins: 0.653<br>",
          "Buffalo Bills: 0.643<br>Buffalo Braves: 0.512<br>Buffalo Sabres: 0.474<br>",
          "Chicago Bears: 0.214<br>Chicago White Sox: 0.475<br>Chicago Cubs: 0.478<br>Chicago Bulls: 0.659<br>Chicago Blackhawks: 0.538<br>",
          "Cleveland Browns: 0.571<br>Cleveland Indians: 0.438<br>Cleveland Cavaliers: 0.354<br>",
          "Detroit Lions: 0.464<br>Detroit Tigers: 0.524<br>Detroit Pistons: 0.634<br>Detroit Red Wings: 0.474<br>",
          "Los Angeles Chargers: 0.179<br>Los Angeles Rams: 0.857<br>Los Angeles Dodgers: 0.590<br>Los Angeles Lakers: 0.573<br>Los Angeles Kings: 0.397<br>",
          "Minnesota Vikings: 0.857<br>Minnesota Twins: 0.5<br>Minnesota North Stars: 0.474<br>",
          "New York Giants: 0.179<br>New York Jets: 0.286<br>New York Yankees: 0.493<br>New York Mets: 0.509<br>New York Knicks: 0.598<br>New York Rangers: 0.602<br>New York Islanders: 0.153<br>",
          "Philadelphia Eagles: 0.393<br>Philadelphia Phillies: 0.438<br>Philadelphia 76ers: 0.305<br>Philadelphia Flyers: 0.474<br>",
          "Pittsburgh Steelers: 0.714<br>Pittsburgh Pirates: 0.493<br>Pittsburgh Penguins: 0.410<br>",
          "Atlanta Falcons: 0.214<br>Atlanta Braves: 0.543<br>Atlanta Hawks: 0.378<br>Atlanta Flames: 0.384<br>",
          "Boston Red Sox: 0.518<br>Boston Celtics: 0.732<br>Boston Bruins: 0.666<br>",
          "Buffalo Bills: 0.643<br>Buffalo Braves: 0.598<br>Buffalo Sabres: 0.410<br>",
          "Chicago Bears: 0.286<br>Chicago White Sox: 0.5<br>Chicago Cubs: 0.407<br>Chicago Bulls: 0.573<br>Chicago Blackhawks: 0.525<br>",
          "Cleveland Browns: 0.286<br>Cleveland Indians: 0.475<br>Cleveland Cavaliers: 0.488<br>",
          "Detroit Lions: 0.5<br>Detroit Tigers: 0.444<br>Detroit Pistons: 0.488<br>Detroit Red Wings: 0.371<br>",
          "Los Angeles Chargers: 0.357<br>Los Angeles Rams: 0.714<br>Los Angeles Dodgers: 0.629<br>Los Angeles Lakers: 0.366<br>Los Angeles Kings: 0.423<br>",
          "Minnesota Vikings: 0.714<br>Minnesota Twins: 0.506<br>Minnesota North Stars: 0.294<br>",
          "New York Giants: 0.143<br>New York Jets: 0.5<br>New York Yankees: 0.549<br>New York Mets: 0.438<br>New York Knicks: 0.488<br>New York Rangers: 0.512<br>New York Islanders: 0.243<br>",
          "Philadelphia Eagles: 0.5<br>Philadelphia Phillies: 0.493<br>Philadelphia 76ers: 0.415<br>Philadelphia Flyers: 0.641<br>",
          "Pittsburgh Steelers: 0.75<br>Pittsburgh Pirates: 0.543<br>Pittsburgh Penguins: 0.358<br>",
          "Atlanta Falcons: 0.286<br>Atlanta Braves: 0.416<br>Atlanta Hawks: 0.354<br>Atlanta Flames: 0.425<br>",
          "Boston Red Sox: 0.593<br>Boston Celtics: 0.659<br>Boston Bruins: 0.5<br>",
          "Buffalo Bills: 0.571<br>Buffalo Braves: 0.561<br>Buffalo Sabres: 0.612<br>",
          "Chicago Bears: 0.286<br>Chicago White Sox: 0.465<br>Chicago Cubs: 0.462<br>Chicago Bulls: 0.293<br>Chicago Blackhawks: 0.462<br>",
          "Cleveland Browns: 0.214<br>Cleveland Indians: 0.496<br>Cleveland Cavaliers: 0.598<br>",
          "Detroit Lions: 0.5<br>Detroit Tigers: 0.358<br>Detroit Pistons: 0.439<br>Detroit Red Wings: 0.287<br>",
          "Kansas City Chiefs: 0.357<br>Kansas City Royals: 0.561<br>Kansas City Scouts: 0.187<br>",
          "Los Angeles Chargers: 0.143<br>Los Angeles Rams: 0.857<br>Los Angeles Dodgers: 0.543<br>Los Angeles Lakers: 0.488<br>Los Angeles Kings: 0.525<br>",
          "Minnesota Vikings: 0.857<br>Minnesota Twins: 0.477<br>Minnesota North Stars: 0.287<br>",
          "New York Jets: 0.214<br>New York Giants: 0.357<br>New York Yankees: 0.518<br>New York Mets: 0.506<br>New York Knicks: 0.463<br>New York Rangers: 0.462<br>New York Islanders: 0.412<br>",
          "Philadelphia Eagles: 0.286<br>Philadelphia Phillies: 0.530<br>Philadelphia 76ers: 0.561<br>Philadelphia Flyers: 0.637<br>",
          "Pittsburgh Steelers: 0.857<br>Pittsburgh Pirates: 0.571<br>Pittsburgh Penguins: 0.462<br>",
          "Washington Commanders: 0.571<br>Washington Bullets: 0.585<br>Washington Capitals: 0.1<br>",
          "Atlanta Falcons: 0.286<br>Atlanta Braves: 0.432<br>Atlanta Hawks: 0.378<br>Atlanta Flames: 0.437<br>",
          "Boston Red Sox: 0.512<br>Boston Celtics: 0.537<br>Boston Bruins: 0.6<br>",
          "Buffalo Bills: 0.143<br>Buffalo Braves: 0.366<br>Buffalo Sabres: 0.575<br>",
          "Chicago Bears: 0.5<br>Chicago White Sox: 0.397<br>Chicago Cubs: 0.462<br>Chicago Bulls: 0.537<br>Chicago Blackhawks: 0.4<br>",
          "Cleveland Browns: 0.643<br>Cleveland Indians: 0.509<br>Cleveland Cavaliers: 0.524<br>",
          "Detroit Lions: 0.429<br>Detroit Tigers: 0.459<br>Detroit Pistons: 0.537<br>Detroit Red Wings: 0.325<br>",
          "Kansas City Chiefs: 0.357<br>Kansas City Royals: 0.555<br>Kansas City Scouts: 0.15<br>",
          "Los Angeles Chargers: 0.429<br>Los Angeles Rams: 0.75<br>Los Angeles Dodgers: 0.567<br>Los Angeles Lakers: 0.646<br>Los Angeles Kings: 0.475<br>",
          "Minnesota Vikings: 0.821<br>Minnesota Twins: 0.524<br>Minnesota North Stars: 0.25<br>",
          "New York Giants: 0.214<br>New York Jets: 0.214<br>New York Yankees: 0.610<br>New York Mets: 0.530<br>New York Knicks: 0.488<br>New York Islanders: 0.525<br>New York Rangers: 0.362<br>",
          "Philadelphia Eagles: 0.286<br>Philadelphia Phillies: 0.623<br>Philadelphia 76ers: 0.61<br>Philadelphia Flyers: 0.637<br>",
          "Pittsburgh Steelers: 0.714<br>Pittsburgh Pirates: 0.567<br>Pittsburgh Penguins: 0.437<br>",
          "Washington Commanders: 0.714<br>Washington Bullets: 0.585<br>Washington Capitals: 0.137<br>",
          "Atlanta Falcons: 0.5<br>Atlanta Braves: 0.376<br>Atlanta Hawks: 0.5<br>Atlanta Flames: 0.425<br>",
          "Boston Red Sox: 0.602<br>Boston Celtics: 0.39<br>Boston Bruins: 0.612<br>",
          "Buffalo Bills: 0.214<br>Buffalo Braves: 0.329<br>Buffalo Sabres: 0.6<br>",
          "Chicago Bears: 0.643<br>Chicago White Sox: 0.555<br>Chicago Cubs: 0.5<br>Chicago Bulls: 0.488<br>Chicago Blackhawks: 0.325<br>",
          "Cleveland Browns: 0.429<br>Cleveland Indians: 0.440<br>Cleveland Cavaliers: 0.524<br>Cleveland Barons: 0.312<br>",
          "Detroit Lions: 0.429<br>Detroit Tigers: 0.456<br>Detroit Pistons: 0.463<br>Detroit Red Wings: 0.2<br>",
          "Los Angeles Chargers: 0.5<br>Los Angeles Rams: 0.714<br>Los Angeles Dodgers: 0.604<br>Los Angeles Lakers: 0.549<br>Los Angeles Kings: 0.425<br>",
          "Minnesota Vikings: 0.643<br>Minnesota Twins: 0.521<br>Minnesota North Stars: 0.287<br>",
          "New York Jets: 0.214<br>New York Giants: 0.357<br>New York Yankees: 0.617<br>New York Mets: 0.395<br>New York Knicks: 0.524<br>New York Islanders: 0.587<br>New York Rangers: 0.362<br>",
          "Philadelphia Eagles: 0.357<br>Philadelphia Phillies: 0.623<br>Philadelphia 76ers: 0.671<br>Philadelphia Flyers: 0.6<br>",
          "Pittsburgh Steelers: 0.643<br>Pittsburgh Pirates: 0.592<br>Pittsburgh Penguins: 0.425<br>",
          "Seattle Seahawks: 0.357<br>Seattle Mariners: 0.395<br>Seattle Supersonics: 0.573<br>",
          "Washington Commanders: 0.643<br>Washington Bullets: 0.537<br>Washington Capitals: 0.3<br>",
          "Atlanta Falcons: 0.563<br>Atlanta Braves: 0.425<br>Atlanta Hawks: 0.561<br>Atlanta Flames: 0.425<br>",
          "Boston Red Sox: 0.607<br>Boston Celtics: 0.354<br>Boston Bruins: 0.637<br>",
          "Chicago Bears: 0.438<br>Chicago White Sox: 0.440<br>Chicago Cubs: 0.487<br>Chicago Bulls: 0.378<br>Chicago Blackhawks: 0.4<br>",
          "Cleveland Browns: 0.5<br>Cleveland Indians: 0.433<br>Cleveland Cavaliers: 0.366<br>Cleveland Barons: 0.275<br>",
          "Detroit Lions: 0.438<br>Detroit Tigers: 0.530<br>Detroit Pistons: 0.366<br>Detroit Red Wings: 0.4<br>",
          "Los Angeles Chargers: 0.563<br>Los Angeles Rams: 0.75<br>Los Angeles Dodgers: 0.586<br>Los Angeles Clippers: 0.524<br>Los Angeles Lakers: 0.573<br>Los Angeles Kings: 0.387<br>",
          "Minnesota Vikings: 0.531<br>Minnesota Twins: 0.450<br>Minnesota North Stars: 0.225<br>",
          "New York Giants: 0.375<br>New York Jets: 0.5<br>New York Yankees: 0.613<br>New York Mets: 0.407<br>New York Knicks: 0.378<br>New York Islanders: 0.6<br>New York Rangers: 0.375<br>",
          "Philadelphia Eagles: 0.563<br>Philadelphia Phillies: 0.555<br>Philadelphia 76ers: 0.573<br>Philadelphia Flyers: 0.562<br>",
          "Pittsburgh Steelers: 0.875<br>Pittsburgh Pirates: 0.546<br>Pittsburgh Penguins: 0.312<br>",
          "Seattle Seahawks: 0.563<br>Seattle Mariners: 0.35<br>Seattle Supersonics: 0.634<br>",
          "Washington Commanders: 0.5<br>Washington Bullets: 0.659<br>Washington Capitals: 0.212<br>",
          "Atlanta Falcons: 0.375<br>Atlanta Braves: 0.412<br>Atlanta Hawks: 0.61<br>Atlanta Flames: 0.512<br>",
          "Boston Red Sox: 0.568<br>Boston Celtics: 0.744<br>Boston Bruins: 0.537<br>",
          "Chicago Bears: 0.625<br>Chicago White Sox: 0.456<br>Chicago Cubs: 0.493<br>Chicago Bulls: 0.366<br>Chicago Blackhawks: 0.362<br>",
          "Cleveland Browns: 0.563<br>Cleveland Indians: 0.503<br>Cleveland Cavaliers: 0.451<br>",
          "Detroit Lions: 0.125<br>Detroit Tigers: 0.527<br>Detroit Pistons: 0.195<br>Detroit Red Wings: 0.287<br>",
          "Los Angeles Rams: 0.563<br>Los Angeles Chargers: 0.75<br>Los Angeles Dodgers: 0.487<br>Los Angeles Clippers: 0.427<br>Los Angeles Lakers: 0.732<br>Los Angeles Kings: 0.425<br>",
          "Minnesota Vikings: 0.438<br>Minnesota Twins: 0.506<br>Minnesota North Stars: 0.35<br>",
          "New York Giants: 0.375<br>New York Jets: 0.5<br>New York Yankees: 0.556<br>New York Mets: 0.388<br>New York Knicks: 0.476<br>New York Islanders: 0.637<br>New York Rangers: 0.5<br>",
          "Philadelphia Eagles: 0.688<br>Philadelphia Phillies: 0.518<br>Philadelphia 76ers: 0.72<br>Philadelphia Flyers: 0.5<br>",
          "Pittsburgh Steelers: 0.75<br>Pittsburgh Pirates: 0.604<br>Pittsburgh Penguins: 0.45<br>",
          "Seattle Seahawks: 0.563<br>Seattle Mariners: 0.413<br>Seattle Supersonics: 0.683<br>",
          "Washington Commanders: 0.625<br>Washington Bullets: 0.476<br>Washington Capitals: 0.3<br>",
          "Atlanta Falcons: 0.75<br>Atlanta Braves: 0.503<br>Atlanta Hawks: 0.378<br>Atlanta Flames: 0.437<br>",
          "Boston Red Sox: 0.518<br>Boston Celtics: 0.756<br>Boston Bruins: 0.575<br>",
          "Chicago Bears: 0.438<br>Chicago White Sox: 0.437<br>Chicago Cubs: 0.395<br>Chicago Bulls: 0.549<br>Chicago Blackhawks: 0.425<br>",
          "Cleveland Browns: 0.688<br>Cleveland Indians: 0.493<br>Cleveland Cavaliers: 0.341<br>",
          "Detroit Lions: 0.563<br>Detroit Tigers: 0.518<br>Detroit Pistons: 0.256<br>Detroit Red Wings: 0.325<br>",
          "Los Angeles Chargers: 0.688<br>Los Angeles Rams: 0.688<br>Los Angeles Dodgers: 0.564<br>Los Angeles Clippers: 0.439<br>Los Angeles Lakers: 0.659<br>Los Angeles Kings: 0.375<br>",
          "Minnesota Vikings: 0.563<br>Minnesota Twins: 0.478<br>Minnesota North Stars: 0.45<br>",
          "New York Giants: 0.25<br>New York Jets: 0.25<br>New York Yankees: 0.635<br>New York Mets: 0.413<br>New York Knicks: 0.61<br>New York Islanders: 0.487<br>New York Rangers: 0.475<br>",
          "Philadelphia Eagles: 0.75<br>Philadelphia Phillies: 0.561<br>Philadelphia 76ers: 0.756<br>Philadelphia Flyers: 0.6<br>",
          "Pittsburgh Steelers: 0.563<br>Pittsburgh Pirates: 0.512<br>Pittsburgh Penguins: 0.375<br>",
          "Seattle Seahawks: 0.25<br>Seattle Mariners: 0.364<br>Seattle Supersonics: 0.415<br>",
          "Washington Commanders: 0.375<br>Washington Bullets: 0.476<br>Washington Capitals: 0.337<br>",
          "Atlanta Falcons: 0.438<br>Atlanta Braves: 0.471<br>Atlanta Hawks: 0.512<br>",
          "Boston Red Sox: 0.546<br>Boston Celtics: 0.768<br>Boston Bruins: 0.462<br>",
          "Chicago Bears: 0.375<br>Chicago White Sox: 0.509<br>Chicago Cubs: 0.368<br>Chicago Bulls: 0.415<br>Chicago Blackhawks: 0.387<br>",
          "Cleveland Browns: 0.313<br>Cleveland Indians: 0.504<br>Cleveland Cavaliers: 0.183<br>",
          "Detroit Lions: 0.5<br>Detroit Tigers: 0.550<br>Detroit Pistons: 0.476<br>Detroit Red Wings: 0.237<br>",
          "Los Angeles Rams: 0.375<br>Los Angeles Chargers: 0.625<br>Los Angeles Dodgers: 0.572<br>Los Angeles Clippers: 0.207<br>Los Angeles Lakers: 0.695<br>Los Angeles Kings: 0.537<br>",
          "Minnesota Vikings: 0.438<br>Minnesota Twins: 0.376<br>Minnesota North Stars: 0.437<br>",
          "New York Giants: 0.563<br>New York Jets: 0.656<br>New York Yankees: 0.551<br>New York Mets: 0.398<br>New York Knicks: 0.402<br>New York Islanders: 0.6<br>New York Rangers: 0.375<br>",
          "Philadelphia Eagles: 0.625<br>Philadelphia Phillies: 0.551<br>Philadelphia 76ers: 0.707<br>Philadelphia Flyers: 0.512<br>",
          "Pittsburgh Steelers: 0.5<br>Pittsburgh Pirates: 0.450<br>Pittsburgh Penguins: 0.375<br>",
          "Seattle Seahawks: 0.375<br>Seattle Mariners: 0.403<br>Seattle Supersonics: 0.634<br>",
          "Washington Commanders: 0.5<br>Washington Bullets: 0.524<br>Washington Capitals: 0.325<br>",
          "Atlanta Falcons: 0.556<br>Atlanta Braves: 0.549<br>Atlanta Hawks: 0.524<br>",
          "Boston Red Sox: 0.549<br>Boston Celtics: 0.683<br>Boston Bruins: 0.537<br>",
          "Chicago Bears: 0.333<br>Chicago White Sox: 0.537<br>Chicago Cubs: 0.450<br>Chicago Bulls: 0.341<br>Chicago Blackhawks: 0.375<br>",
          "Cleveland Browns: 0.444<br>Cleveland Indians: 0.481<br>Cleveland Cavaliers: 0.28<br>",
          "Detroit Lions: 0.444<br>Detroit Tigers: 0.512<br>Detroit Pistons: 0.451<br>Detroit Red Wings: 0.262<br>",
          "Los Angeles Rams: 0.222<br>Los Angeles Chargers: 0.667<br>Los Angeles Dodgers: 0.543<br>Los Angeles Clippers: 0.305<br>Los Angeles Lakers: 0.707<br>Los Angeles Kings: 0.3<br>",
          "Minnesota Vikings: 0.556<br>Minnesota Twins: 0.370<br>Minnesota North Stars: 0.462<br>",
          "New York Giants: 0.444<br>New York Jets: 0.667<br>New York Yankees: 0.487<br>New York Mets: 0.401<br>New York Knicks: 0.537<br>New York Islanders: 0.675<br>New York Rangers: 0.487<br>",
          "Philadelphia Eagles: 0.333<br>Philadelphia Phillies: 0.549<br>Philadelphia 76ers: 0.793<br>Philadelphia Flyers: 0.475<br>",
          "Pittsburgh Steelers: 0.667<br>Pittsburgh Pirates: 0.518<br>Pittsburgh Penguins: 0.387<br>",
          "Seattle Seahawks: 0.444<br>Seattle Mariners: 0.469<br>Seattle Supersonics: 0.585<br>",
          "Washington Commanders: 0.889<br>Washington Bullets: 0.512<br>Washington Capitals: 0.325<br>",
          "Atlanta Falcons: 0.438<br>Atlanta Braves: 0.543<br>Atlanta Hawks: 0.488<br>",
          "Boston Red Sox: 0.481<br>Boston Celtics: 0.756<br>Boston Bruins: 0.625<br>",
          "Chicago Bears: 0.5<br>Chicago White Sox: 0.611<br>Chicago Cubs: 0.438<br>Chicago Bulls: 0.329<br>Chicago Blackhawks: 0.587<br>",
          "Cleveland Browns: 0.563<br>Cleveland Indians: 0.432<br>Cleveland Cavaliers: 0.341<br>",
          "Detroit Lions: 0.563<br>Detroit Tigers: 0.567<br>Detroit Pistons: 0.598<br>Detroit Red Wings: 0.262<br>",
          "Los Angeles Chargers: 0.375<br>Los Angeles Rams: 0.563<br>Los Angeles Dodgers: 0.561<br>Los Angeles Clippers: 0.366<br>Los Angeles Lakers: 0.659<br>Los Angeles Kings: 0.337<br>",
          "Minnesota Vikings: 0.5<br>Minnesota Twins: 0.432<br>Minnesota North Stars: 0.5<br>",
          "New York Giants: 0.219<br>New York Jets: 0.438<br>New York Yankees: 0.561<br>New York Mets: 0.419<br>New York Knicks: 0.573<br>New York Islanders: 0.525<br>New York Rangers: 0.437<br>",
          "Philadelphia Eagles: 0.313<br>Philadelphia Phillies: 0.555<br>Philadelphia 76ers: 0.634<br>Philadelphia Flyers: 0.612<br>",
          "Pittsburgh Steelers: 0.625<br>Pittsburgh Pirates: 0.518<br>Pittsburgh Penguins: 0.225<br>",
          "Seattle Seahawks: 0.563<br>Seattle Mariners: 0.370<br>Seattle Supersonics: 0.512<br>",
          "Washington Commanders: 0.875<br>Washington Bullets: 0.427<br>Washington Capitals: 0.487<br>",
          "Atlanta Falcons: 0.25<br>Atlanta Braves: 0.493<br>Atlanta Hawks: 0.415<br>",
          "Boston Red Sox: 0.530<br>Boston Celtics: 0.768<br>Boston Bruins: 0.612<br>",
          "Chicago Bears: 0.625<br>Chicago White Sox: 0.456<br>Chicago Cubs: 0.596<br>Chicago Bulls: 0.463<br>Chicago Blackhawks: 0.375<br>",
          "Cleveland Browns: 0.313<br>Cleveland Indians: 0.462<br>Cleveland Cavaliers: 0.439<br>",
          "Detroit Lions: 0.281<br>Detroit Tigers: 0.641<br>Detroit Pistons: 0.561<br>Detroit Red Wings: 0.387<br>",
          "Los Angeles Chargers: 0.438<br>Los Angeles Rams: 0.625<br>Los Angeles Dodgers: 0.487<br>Los Angeles Clippers: 0.378<br>Los Angeles Lakers: 0.756<br>Los Angeles Kings: 0.287<br>",
          "Minnesota Vikings: 0.188<br>Minnesota Twins: 0.5<br>Minnesota North Stars: 0.487<br>",
          "New York Jets: 0.438<br>New York Giants: 0.563<br>New York Yankees: 0.537<br>New York Mets: 0.555<br>New York Knicks: 0.293<br>New York Islanders: 0.625<br>New York Rangers: 0.525<br>",
          "Philadelphia Eagles: 0.406<br>Philadelphia Phillies: 0.5<br>Philadelphia 76ers: 0.707<br>Philadelphia Flyers: 0.55<br>",
          "Pittsburgh Steelers: 0.563<br>Pittsburgh Pirates: 0.462<br>Pittsburgh Penguins: 0.2<br>",
          "Seattle Seahawks: 0.75<br>Seattle Mariners: 0.456<br>Seattle Supersonics: 0.378<br>",
          "Washington Commanders: 0.688<br>Washington Bullets: 0.488<br>Washington Capitals: 0.6<br>",
          "Atlanta Falcons: 0.25<br>Atlanta Braves: 0.407<br>Atlanta Hawks: 0.61<br>",
          "Boston Red Sox: 0.5<br>Boston Celtics: 0.817<br>Boston Bruins: 0.45<br>",
          "Chicago Bears: 0.938<br>Chicago White Sox: 0.524<br>Chicago Cubs: 0.478<br>Chicago Bulls: 0.366<br>Chicago Blackhawks: 0.475<br>",
          "Cleveland Browns: 0.5<br>Cleveland Indians: 0.370<br>Cleveland Cavaliers: 0.354<br>",
          "Detroit Lions: 0.438<br>Detroit Tigers: 0.521<br>Detroit Pistons: 0.561<br>Detroit Red Wings: 0.337<br>",
          "Los Angeles Chargers: 0.5<br>Los Angeles Rams: 0.688<br>Los Angeles Dodgers: 0.586<br>Los Angeles Clippers: 0.39<br>Los Angeles Lakers: 0.756<br>Los Angeles Kings: 0.425<br>",
          "Minnesota Vikings: 0.438<br>Minnesota Twins: 0.475<br>Minnesota North Stars: 0.312<br>",
          "New York Giants: 0.625<br>New York Jets: 0.688<br>New York Yankees: 0.602<br>New York Mets: 0.604<br>New York Knicks: 0.28<br>New York Islanders: 0.5<br>New York Rangers: 0.325<br>",
          "Philadelphia Eagles: 0.438<br>Philadelphia Phillies: 0.462<br>Philadelphia 76ers: 0.659<br>Philadelphia Flyers: 0.662<br>",
          "Pittsburgh Steelers: 0.438<br>Pittsburgh Pirates: 0.354<br>Pittsburgh Penguins: 0.3<br>",
          "Seattle Seahawks: 0.5<br>Seattle Mariners: 0.456<br>Seattle Supersonics: 0.378<br>",
          "Washington Commanders: 0.625<br>Washington Bullets: 0.476<br>Washington Capitals: 0.575<br>",
          "Atlanta Falcons: 0.469<br>Atlanta Braves: 0.447<br>Atlanta Hawks: 0.695<br>",
          "Boston Red Sox: 0.590<br>Boston Celtics: 0.72<br>Boston Bruins: 0.462<br>",
          "Chicago Bears: 0.875<br>Chicago White Sox: 0.444<br>Chicago Cubs: 0.437<br>Chicago Bulls: 0.488<br>Chicago Blackhawks: 0.487<br>",
          "Cleveland Browns: 0.75<br>Cleveland Indians: 0.518<br>Cleveland Cavaliers: 0.378<br>",
          "Detroit Lions: 0.313<br>Detroit Tigers: 0.537<br>Detroit Pistons: 0.634<br>Detroit Red Wings: 0.212<br>",
          "Los Angeles Chargers: 0.25<br>Los Angeles Rams: 0.625<br>Los Angeles Dodgers: 0.450<br>Los Angeles Clippers: 0.146<br>Los Angeles Lakers: 0.793<br>Los Angeles Kings: 0.287<br>",
          "Minnesota Vikings: 0.563<br>Minnesota Twins: 0.438<br>Minnesota North Stars: 0.475<br>",
          "New York Jets: 0.625<br>New York Giants: 0.875<br>New York Yankees: 0.555<br>New York Mets: 0.666<br>New York Knicks: 0.293<br>New York Islanders: 0.487<br>New York Rangers: 0.45<br>",
          "Philadelphia Eagles: 0.344<br>Philadelphia Phillies: 0.534<br>Philadelphia 76ers: 0.549<br>Philadelphia Flyers: 0.662<br>",
          "Pittsburgh Steelers: 0.375<br>Pittsburgh Pirates: 0.395<br>Pittsburgh Penguins: 0.425<br>",
          "Seattle Seahawks: 0.625<br>Seattle Mariners: 0.413<br>Seattle Supersonics: 0.476<br>",
          "Washington Commanders: 0.75<br>Washington Bullets: 0.512<br>Washington Capitals: 0.625<br>",
          "Atlanta Falcons: 0.2<br>Atlanta Braves: 0.428<br>Atlanta Hawks: 0.61<br>",
          "Boston Red Sox: 0.481<br>Boston Celtics: 0.695<br>Boston Bruins: 0.487<br>",
          "Chicago Bears: 0.733<br>Chicago White Sox: 0.475<br>Chicago Cubs: 0.472<br>Chicago Bulls: 0.61<br>Chicago Blackhawks: 0.362<br>",
          "Cleveland Browns: 0.667<br>Cleveland Indians: 0.376<br>Cleveland Cavaliers: 0.512<br>",
          "Detroit Lions: 0.267<br>Detroit Tigers: 0.604<br>Detroit Pistons: 0.659<br>Detroit Red Wings: 0.425<br>",
          "Los Angeles Rams: 0.4<br>Los Angeles Chargers: 0.533<br>Los Angeles Dodgers: 0.450<br>Los Angeles Clippers: 0.207<br>Los Angeles Lakers: 0.756<br>Los Angeles Kings: 0.387<br>",
          "Minnesota Vikings: 0.533<br>Minnesota Twins: 0.524<br>Minnesota North Stars: 0.375<br>",
          "New York Giants: 0.4<br>New York Jets: 0.4<br>New York Yankees: 0.549<br>New York Mets: 0.567<br>New York Knicks: 0.463<br>New York Islanders: 0.437<br>New York Rangers: 0.425<br>",
          "Philadelphia Eagles: 0.467<br>Philadelphia Phillies: 0.493<br>Philadelphia 76ers: 0.439<br>Philadelphia Flyers: 0.575<br>",
          "Pittsburgh Steelers: 0.533<br>Pittsburgh Pirates: 0.493<br>Pittsburgh Penguins: 0.375<br>",
          "Seattle Seahawks: 0.6<br>Seattle Mariners: 0.481<br>Seattle Supersonics: 0.537<br>",
          "Washington Commanders: 0.733<br>Washington Bullets: 0.463<br>Washington Capitals: 0.475<br>",
          "Atlanta Falcons: 0.313<br>Atlanta Braves: 0.337<br>Atlanta Hawks: 0.634<br>",
          "Boston Red Sox: 0.549<br>Boston Celtics: 0.512<br>Boston Bruins: 0.55<br>",
          "Chicago Bears: 0.75<br>Chicago White Sox: 0.440<br>Chicago Cubs: 0.475<br>Chicago Bulls: 0.573<br>Chicago Blackhawks: 0.375<br>",
          "Cleveland Browns: 0.625<br>Cleveland Indians: 0.481<br>Cleveland Cavaliers: 0.695<br>",
          "Detroit Lions: 0.25<br>Detroit Tigers: 0.543<br>Detroit Pistons: 0.768<br>Detroit Red Wings: 0.512<br>",
          "Los Angeles Chargers: 0.375<br>Los Angeles Rams: 0.625<br>Los Angeles Dodgers: 0.583<br>Los Angeles Clippers: 0.256<br>Los Angeles Lakers: 0.695<br>Los Angeles Kings: 0.375<br>",
          "Minnesota Vikings: 0.688<br>Minnesota Twins: 0.561<br>Minnesota North Stars: 0.237<br>",
          "New York Jets: 0.531<br>New York Giants: 0.625<br>New York Yankees: 0.527<br>New York Mets: 0.625<br>New York Knicks: 0.634<br>New York Islanders: 0.487<br>New York Rangers: 0.45<br>",
          "Philadelphia Eagles: 0.625<br>Philadelphia Phillies: 0.403<br>Philadelphia 76ers: 0.561<br>Philadelphia Flyers: 0.475<br>",
          "Pittsburgh Steelers: 0.313<br>Pittsburgh Pirates: 0.531<br>Pittsburgh Penguins: 0.45<br>",
          "Seattle Seahawks: 0.563<br>Seattle Mariners: 0.422<br>Seattle Supersonics: 0.573<br>",
          "Washington Commanders: 0.438<br>Washington Bullets: 0.488<br>Washington Capitals: 0.475<br>",
          "Atlanta Falcons: 0.188<br>Atlanta Braves: 0.393<br>Atlanta Hawks: 0.5<br>",
          "Boston Red Sox: 0.512<br>Boston Celtics: 0.634<br>Boston Bruins: 0.462<br>",
          "Chicago Bears: 0.375<br>Chicago White Sox: 0.428<br>Chicago Cubs: 0.574<br>Chicago Bulls: 0.671<br>Chicago Blackhawks: 0.337<br>",
          "Cleveland Browns: 0.594<br>Cleveland Indians: 0.450<br>Cleveland Cavaliers: 0.512<br>",
          "Detroit Lions: 0.438<br>Detroit Tigers: 0.364<br>Detroit Pistons: 0.72<br>Detroit Red Wings: 0.425<br>",
          "Los Angeles Chargers: 0.375<br>Los Angeles Rams: 0.688<br>Los Angeles Dodgers: 0.481<br>Los Angeles Clippers: 0.366<br>Los Angeles Lakers: 0.768<br>Los Angeles Kings: 0.525<br>",
          "Minnesota Vikings: 0.625<br>Minnesota Twins: 0.493<br>Minnesota Timberwolves: 0.268<br>Minnesota North Stars: 0.337<br>",
          "New York Jets: 0.25<br>New York Giants: 0.75<br>New York Yankees: 0.459<br>New York Mets: 0.537<br>New York Knicks: 0.549<br>New York Rangers: 0.462<br>New York Islanders: 0.35<br>",
          "Philadelphia Eagles: 0.688<br>Philadelphia Phillies: 0.413<br>Philadelphia 76ers: 0.646<br>Philadelphia Flyers: 0.45<br>",
          "Pittsburgh Steelers: 0.563<br>Pittsburgh Pirates: 0.456<br>Pittsburgh Penguins: 0.5<br>",
          "Seattle Seahawks: 0.438<br>Seattle Mariners: 0.450<br>Seattle Supersonics: 0.5<br>",
          "Washington Commanders: 0.625<br>Washington Bullets: 0.378<br>Washington Capitals: 0.512<br>",
          "Atlanta Falcons: 0.313<br>Atlanta Braves: 0.401<br>Atlanta Hawks: 0.524<br>",
          "Boston Red Sox: 0.543<br>Boston Celtics: 0.683<br>Boston Bruins: 0.575<br>",
          "Chicago Bears: 0.688<br>Chicago White Sox: 0.580<br>Chicago Cubs: 0.475<br>Chicago Bulls: 0.744<br>Chicago Blackhawks: 0.512<br>",
          "Cleveland Browns: 0.188<br>Cleveland Indians: 0.475<br>Cleveland Cavaliers: 0.402<br>",
          "Detroit Lions: 0.375<br>Detroit Tigers: 0.487<br>Detroit Pistons: 0.61<br>Detroit Red Wings: 0.35<br>",
          "Los Angeles Rams: 0.313<br>Los Angeles Chargers: 0.375<br>Los Angeles Dodgers: 0.530<br>Los Angeles Clippers: 0.378<br>Los Angeles Lakers: 0.707<br>Los Angeles Kings: 0.425<br>",
          "Minnesota Vikings: 0.375<br>Minnesota Twins: 0.456<br>Minnesota Timberwolves: 0.354<br>Minnesota North Stars: 0.45<br>",
          "New York Jets: 0.375<br>New York Giants: 0.813<br>New York Yankees: 0.413<br>New York Mets: 0.561<br>New York Knicks: 0.476<br>New York Rangers: 0.45<br>New York Islanders: 0.387<br>",
          "Philadelphia Eagles: 0.625<br>Philadelphia Phillies: 0.475<br>Philadelphia 76ers: 0.537<br>Philadelphia Flyers: 0.375<br>",
          "Pittsburgh Steelers: 0.563<br>Pittsburgh Pirates: 0.586<br>Pittsburgh Penguins: 0.4<br>",
          "Seattle Seahawks: 0.563<br>Seattle Mariners: 0.475<br>Seattle Supersonics: 0.5<br>",
          "Washington Commanders: 0.625<br>Washington Bullets: 0.366<br>Washington Capitals: 0.45<br>",
          "Atlanta Falcons: 0.625<br>Atlanta Braves: 0.580<br>Atlanta Hawks: 0.463<br>",
          "Boston Red Sox: 0.518<br>Boston Celtics: 0.622<br>Boston Bruins: 0.55<br>",
          "Chicago Bears: 0.688<br>Chicago White Sox: 0.537<br>Chicago Cubs: 0.481<br>Chicago Bulls: 0.817<br>Chicago Blackhawks: 0.612<br>",
          "Cleveland Browns: 0.375<br>Cleveland Indians: 0.351<br>Cleveland Cavaliers: 0.695<br>",
          "Detroit Lions: 0.75<br>Detroit Tigers: 0.518<br>Detroit Pistons: 0.585<br>Detroit Red Wings: 0.425<br>",
          "Los Angeles Rams: 0.188<br>Los Angeles Chargers: 0.25<br>Los Angeles Dodgers: 0.574<br>Los Angeles Clippers: 0.549<br>Los Angeles Lakers: 0.524<br>Los Angeles Kings: 0.575<br>",
          "Minnesota Vikings: 0.5<br>Minnesota Twins: 0.586<br>Minnesota Timberwolves: 0.183<br>Minnesota North Stars: 0.337<br>",
          "New York Giants: 0.5<br>New York Jets: 0.5<br>New York Yankees: 0.438<br>New York Mets: 0.478<br>New York Knicks: 0.622<br>New York Rangers: 0.45<br>New York Islanders: 0.312<br>",
          "Philadelphia Eagles: 0.625<br>Philadelphia Phillies: 0.481<br>Philadelphia 76ers: 0.427<br>Philadelphia Flyers: 0.412<br>",
          "Pittsburgh Steelers: 0.438<br>Pittsburgh Pirates: 0.604<br>Pittsburgh Penguins: 0.512<br>",
          "Seattle Seahawks: 0.438<br>Seattle Mariners: 0.512<br>Seattle Supersonics: 0.573<br>",
          "Washington Commanders: 0.875<br>Washington Bullets: 0.305<br>Washington Capitals: 0.462<br>",
          "Atlanta Falcons: 0.375<br>Atlanta Braves: 0.604<br>Atlanta Hawks: 0.524<br>",
          "Boston Red Sox: 0.450<br>Boston Celtics: 0.585<br>Boston Bruins: 0.45<br>",
          "Chicago Bears: 0.313<br>Chicago White Sox: 0.530<br>Chicago Cubs: 0.481<br>Chicago Bulls: 0.695<br>Chicago Blackhawks: 0.45<br>",
          "Cleveland Browns: 0.438<br>Cleveland Indians: 0.469<br>Cleveland Cavaliers: 0.659<br>",
          "Detroit Lions: 0.313<br>Detroit Tigers: 0.462<br>Detroit Pistons: 0.488<br>Detroit Red Wings: 0.537<br>",
          "Los Angeles Rams: 0.375<br>Los Angeles Chargers: 0.688<br>Los Angeles Dodgers: 0.388<br>Los Angeles Clippers: 0.5<br>Los Angeles Lakers: 0.476<br>Los Angeles Kings: 0.437<br>",
          "Minnesota Vikings: 0.688<br>Minnesota Twins: 0.555<br>Minnesota Timberwolves: 0.232<br>Minnesota North Stars: 0.4<br>",
          "New York Jets: 0.25<br>New York Giants: 0.375<br>New York Yankees: 0.469<br>New York Mets: 0.444<br>New York Knicks: 0.732<br>New York Rangers: 0.625<br>New York Islanders: 0.425<br>",
          "Philadelphia Eagles: 0.688<br>Philadelphia Phillies: 0.432<br>Philadelphia 76ers: 0.317<br>Philadelphia Flyers: 0.4<br>",
          "Pittsburgh Steelers: 0.688<br>Pittsburgh Pirates: 0.592<br>Pittsburgh Penguins: 0.487<br>",
          "Seattle Seahawks: 0.125<br>Seattle Mariners: 0.395<br>Seattle Supersonics: 0.671<br>",
          "Washington Commanders: 0.563<br>Washington Bullets: 0.268<br>Washington Capitals: 0.562<br>",
          "Atlanta Falcons: 0.375<br>Atlanta Braves: 0.641<br>Atlanta Hawks: 0.695<br>",
          "Boston Red Sox: 0.493<br>Boston Celtics: 0.39<br>Boston Bruins: 0.607<br>",
          "Chicago Bears: 0.438<br>Chicago White Sox: 0.580<br>Chicago Cubs: 0.518<br>Chicago Bulls: 0.671<br>Chicago Blackhawks: 0.559<br>",
          "Cleveland Browns: 0.438<br>Cleveland Indians: 0.469<br>Cleveland Cavaliers: 0.573<br>",
          "Detroit Lions: 0.625<br>Detroit Tigers: 0.524<br>Detroit Pistons: 0.244<br>Detroit Red Wings: 0.559<br>",
          "Los Angeles Rams: 0.313<br>Los Angeles Chargers: 0.5<br>Los Angeles Dodgers: 0.5<br>Los Angeles Clippers: 0.329<br>Los Angeles Lakers: 0.402<br>Los Angeles Kings: 0.464<br>",
          "Minnesota Vikings: 0.563<br>Minnesota Twins: 0.438<br>Minnesota Timberwolves: 0.244<br>Minnesota North Stars: 0.428<br>",
          "New York Jets: 0.5<br>New York Giants: 0.688<br>New York Yankees: 0.543<br>New York Mets: 0.364<br>New York Knicks: 0.695<br>New York Islanders: 0.476<br>New York Rangers: 0.404<br>",
          "Philadelphia Eagles: 0.5<br>Philadelphia Phillies: 0.598<br>Philadelphia 76ers: 0.305<br>Philadelphia Flyers: 0.428<br>",
          "Pittsburgh Steelers: 0.563<br>Pittsburgh Pirates: 0.462<br>Pittsburgh Penguins: 0.666<br>",
          "Seattle Seahawks: 0.375<br>Seattle Mariners: 0.506<br>Seattle Supersonics: 0.768<br>",
          "Washington Commanders: 0.25<br>Washington Bullets: 0.293<br>Washington Capitals: 0.511<br>",
          "Atlanta Falcons: 0.438<br>Atlanta Braves: 0.596<br>Atlanta Hawks: 0.512<br>",
          "Boston Red Sox: 0.469<br>Boston Celtics: 0.427<br>Boston Bruins: 0.5<br>",
          "Chicago Bears: 0.563<br>Chicago White Sox: 0.592<br>Chicago Cubs: 0.433<br>Chicago Bulls: 0.573<br>Chicago Blackhawks: 0.464<br>",
          "Cleveland Browns: 0.688<br>Cleveland Indians: 0.584<br>Cleveland Cavaliers: 0.524<br>",
          "Dallas Cowboys: 0.75<br>Dallas Mavericks: 0.439<br>Dallas Stars: 0.5<br>",
          "Detroit Lions: 0.563<br>Detroit Tigers: 0.460<br>Detroit Pistons: 0.341<br>Detroit Red Wings: 0.547<br>",
          "Los Angeles Rams: 0.25<br>Los Angeles Chargers: 0.688<br>Los Angeles Dodgers: 0.508<br>Los Angeles Clippers: 0.207<br>Los Angeles Lakers: 0.585<br>Los Angeles Kings: 0.321<br>",
          "Minnesota Vikings: 0.625<br>Minnesota Twins: 0.469<br>Minnesota Timberwolves: 0.256<br>",
          "New York Jets: 0.375<br>New York Giants: 0.563<br>New York Yankees: 0.619<br>New York Mets: 0.486<br>New York Knicks: 0.671<br>New York Rangers: 0.619<br>New York Islanders: 0.428<br>",
          "Philadelphia Eagles: 0.438<br>Philadelphia Phillies: 0.469<br>Philadelphia 76ers: 0.293<br>Philadelphia Flyers: 0.416<br>",
          "Pittsburgh Steelers: 0.75<br>Pittsburgh Pirates: 0.464<br>Pittsburgh Penguins: 0.523<br>",
          "Seattle Seahawks: 0.375<br>Seattle Mariners: 0.437<br>Seattle Supersonics: 0.695<br>",
          "Washington Commanders: 0.188<br>Washington Bullets: 0.256<br>Washington Capitals: 0.464<br>",
          "Atlanta Falcons: 0.563<br>Atlanta Braves: 0.625<br>Atlanta Hawks: 0.561<br>",
          "Boston Red Sox: 0.597<br>Boston Celtics: 0.402<br>Boston Bruins: 0.562<br>",
          "Chicago Bears: 0.563<br>Chicago White Sox: 0.472<br>Chicago Cubs: 0.506<br>Chicago Bulls: 0.878<br>Chicago Blackhawks: 0.5<br>",
          "Cleveland Browns: 0.313<br>Cleveland Indians: 0.694<br>Cleveland Cavaliers: 0.573<br>",
          "Dallas Cowboys: 0.75<br>Dallas Mavericks: 0.317<br>Dallas Stars: 0.354<br>",
          "Detroit Lions: 0.625<br>Detroit Tigers: 0.416<br>Detroit Pistons: 0.561<br>Detroit Red Wings: 0.687<br>",
          "Los Angeles Rams: 0.438<br>Los Angeles Chargers: 0.563<br>Los Angeles Dodgers: 0.541<br>Los Angeles Clippers: 0.354<br>Los Angeles Lakers: 0.646<br>Los Angeles Kings: 0.333<br>",
          "Minnesota Vikings: 0.5<br>Minnesota Twins: 0.388<br>Minnesota Timberwolves: 0.317<br>",
          "New York Jets: 0.188<br>New York Giants: 0.313<br>New York Yankees: 0.548<br>New York Mets: 0.479<br>New York Knicks: 0.573<br>New York Rangers: 0.458<br>New York Islanders: 0.312<br>",
          "Philadelphia Eagles: 0.625<br>Philadelphia Phillies: 0.479<br>Philadelphia 76ers: 0.22<br>Philadelphia Flyers: 0.583<br>",
          "Pittsburgh Steelers: 0.688<br>Pittsburgh Pirates: 0.402<br>Pittsburgh Penguins: 0.604<br>",
          "Seattle Seahawks: 0.5<br>Seattle Mariners: 0.544<br>Seattle Supersonics: 0.78<br>",
          "Toronto Blue Jays: 0.388<br>Toronto Raptors: 0.256<br>Toronto Maple Leafs: 0.437<br>",
          "Washington Commanders: 0.375<br>Washington Bullets: 0.476<br>Washington Capitals: 0.458<br>",
          "Atlanta Falcons: 0.188<br>Atlanta Braves: 0.592<br>Atlanta Hawks: 0.683<br>",
          "Boston Red Sox: 0.524<br>Boston Celtics: 0.183<br>Boston Bruins: 0.487<br>",
          "Chicago Bears: 0.438<br>Chicago White Sox: 0.524<br>Chicago Cubs: 0.469<br>Chicago Bulls: 0.841<br>Chicago Blackhawks: 0.487<br>",
          "Dallas Cowboys: 0.625<br>Dallas Mavericks: 0.293<br>Dallas Stars: 0.317<br>",
          "Detroit Lions: 0.313<br>Detroit Tigers: 0.327<br>Detroit Pistons: 0.659<br>Detroit Red Wings: 0.756<br>",
          "Los Angeles Rams: 0.375<br>Los Angeles Chargers: 0.5<br>Los Angeles Dodgers: 0.555<br>Los Angeles Clippers: 0.439<br>Los Angeles Lakers: 0.683<br>Los Angeles Kings: 0.292<br>",
          "Minnesota Vikings: 0.563<br>Minnesota Twins: 0.481<br>Minnesota Timberwolves: 0.488<br>",
          "New York Jets: 0.063<br>New York Giants: 0.375<br>New York Yankees: 0.567<br>New York Mets: 0.438<br>New York Knicks: 0.695<br>New York Rangers: 0.5<br>New York Islanders: 0.268<br>",
          "Philadelphia Eagles: 0.625<br>Philadelphia Phillies: 0.413<br>Philadelphia 76ers: 0.268<br>Philadelphia Flyers: 0.548<br>",
          "Pittsburgh Steelers: 0.625<br>Pittsburgh Pirates: 0.450<br>Pittsburgh Penguins: 0.597<br>",
          "Seattle Seahawks: 0.438<br>Seattle Mariners: 0.527<br>Seattle Supersonics: 0.695<br>",
          "Toronto Blue Jays: 0.456<br>Toronto Raptors: 0.366<br>Toronto Maple Leafs: 0.414<br>",
          "Washington Commanders: 0.563<br>Washington Bullets: 0.537<br>Washington Capitals: 0.475<br>",
          "Atlanta Falcons: 0.438<br>Atlanta Braves: 0.623<br>Atlanta Hawks: 0.61<br>",
          "Boston Red Sox: 0.481<br>Boston Celtics: 0.439<br>Boston Bruins: 0.317<br>",
          "Chicago Bears: 0.25<br>Chicago White Sox: 0.496<br>Chicago Cubs: 0.419<br>Chicago Bulls: 0.756<br>Chicago Blackhawks: 0.414<br>",
          "Dallas Cowboys: 0.375<br>Dallas Mavericks: 0.244<br>Dallas Stars: 0.585<br>",
          "Detroit Lions: 0.563<br>Detroit Tigers: 0.487<br>Detroit Pistons: 0.451<br>Detroit Red Wings: 0.463<br>",
          "Los Angeles Chargers: 0.25<br>Los Angeles Rams: 0.313<br>Los Angeles Dodgers: 0.543<br>Los Angeles Clippers: 0.207<br>Los Angeles Lakers: 0.744<br>Los Angeles Kings: 0.341<br>",
          "Minnesota Vikings: 0.563<br>Minnesota Twins: 0.419<br>Minnesota Timberwolves: 0.549<br>",
          "New York Jets: 0.563<br>New York Giants: 0.656<br>New York Yankees: 0.592<br>New York Mets: 0.543<br>New York Knicks: 0.524<br>New York Rangers: 0.463<br>New York Islanders: 0.353<br>",
          "Philadelphia Eagles: 0.406<br>Philadelphia Phillies: 0.419<br>Philadelphia 76ers: 0.378<br>Philadelphia Flyers: 0.548<br>",
          "Pittsburgh Steelers: 0.688<br>Pittsburgh Pirates: 0.487<br>Pittsburgh Penguins: 0.463<br>",
          "Seattle Seahawks: 0.5<br>Seattle Mariners: 0.555<br>Seattle Supersonics: 0.744<br>",
          "Toronto Blue Jays: 0.469<br>Toronto Raptors: 0.195<br>Toronto Maple Leafs: 0.365<br>",
          "Washington Commanders: 0.531<br>Washington Wizards: 0.512<br>Washington Capitals: 0.402<br>",
          "Atlanta Falcons: 0.875<br>Atlanta Braves: 0.654<br>Atlanta Hawks: 0.62<br>",
          "Boston Red Sox: 0.567<br>Boston Celtics: 0.38<br>Boston Bruins: 0.475<br>",
          "Chicago Bears: 0.25<br>Chicago White Sox: 0.493<br>Chicago Cubs: 0.552<br>Chicago Bulls: 0.26<br>Chicago Blackhawks: 0.365<br>",
          "Dallas Cowboys: 0.625<br>Dallas Mavericks: 0.38<br>Dallas Stars: 0.597<br>",
          "Detroit Lions: 0.313<br>Detroit Tigers: 0.401<br>Detroit Pistons: 0.58<br>Detroit Red Wings: 0.536<br>",
          "Los Angeles Rams: 0.25<br>Los Angeles Chargers: 0.313<br>Los Angeles Dodgers: 0.512<br>Los Angeles Clippers: 0.18<br>Los Angeles Lakers: 0.62<br>Los Angeles Kings: 0.463<br>",
          "Minnesota Vikings: 0.938<br>Minnesota Twins: 0.432<br>Minnesota Timberwolves: 0.5<br>",
          "New York Giants: 0.5<br>New York Jets: 0.75<br>New York Yankees: 0.703<br>New York Mets: 0.543<br>New York Knicks: 0.54<br>New York Islanders: 0.365<br>New York Rangers: 0.304<br>",
          "Philadelphia Eagles: 0.188<br>Philadelphia Phillies: 0.462<br>Philadelphia 76ers: 0.56<br>Philadelphia Flyers: 0.512<br>",
          "Pittsburgh Steelers: 0.438<br>Pittsburgh Pirates: 0.425<br>Pittsburgh Penguins: 0.487<br>",
          "Seattle Seahawks: 0.5<br>Seattle Mariners: 0.472<br>Seattle Supersonics: 0.5<br>",
          "Tampa Bay Buccaneers: 0.5<br>Tampa Bay Devil Rays: 0.388<br>Tampa Bay Lightning: 0.207<br>",
          "Toronto Blue Jays: 0.543<br>Toronto Raptors: 0.46<br>Toronto Maple Leafs: 0.365<br>",
          "Washington Commanders: 0.375<br>Washington Wizards: 0.36<br>Washington Capitals: 0.487<br>",
          "Atlanta Falcons: 0.313<br>Atlanta Braves: 0.635<br>Atlanta Hawks: 0.341<br>",
          "Boston Red Sox: 0.580<br>Boston Celtics: 0.427<br>Boston Bruins: 0.475<br>",
          "Chicago Bears: 0.375<br>Chicago White Sox: 0.465<br>Chicago Cubs: 0.413<br>Chicago Bulls: 0.207<br>Chicago Blackhawks: 0.353<br>",
          "Cleveland Browns: 0.125<br>Cleveland Indians: 0.598<br>Cleveland Cavaliers: 0.39<br>",
          "Dallas Cowboys: 0.5<br>Dallas Mavericks: 0.488<br>Dallas Stars: 0.621<br>",
          "Detroit Lions: 0.5<br>Detroit Tigers: 0.428<br>Detroit Pistons: 0.512<br>Detroit Red Wings: 0.524<br>",
          "Los Angeles Chargers: 0.5<br>Los Angeles Rams: 0.813<br>Los Angeles Dodgers: 0.475<br>Los Angeles Clippers: 0.183<br>Los Angeles Lakers: 0.817<br>Los Angeles Kings: 0.390<br>",
          "Minnesota Vikings: 0.625<br>Minnesota Twins: 0.393<br>Minnesota Timberwolves: 0.61<br>",
          "New York Giants: 0.438<br>New York Jets: 0.5<br>New York Yankees: 0.604<br>New York Mets: 0.595<br>New York Knicks: 0.61<br>New York Rangers: 0.402<br>New York Islanders: 0.292<br>",
          "Philadelphia Eagles: 0.313<br>Philadelphia Phillies: 0.475<br>Philadelphia 76ers: 0.598<br>Philadelphia Flyers: 0.451<br>",
          "Pittsburgh Steelers: 0.375<br>Pittsburgh Pirates: 0.484<br>Pittsburgh Penguins: 0.463<br>",
          "Seattle Seahawks: 0.563<br>Seattle Mariners: 0.487<br>Seattle Supersonics: 0.549<br>",
          "Tampa Bay Buccaneers: 0.688<br>Tampa Bay Devil Rays: 0.425<br>Tampa Bay Lightning: 0.231<br>",
          "Toronto Blue Jays: 0.518<br>Toronto Raptors: 0.549<br>Toronto Maple Leafs: 0.548<br>",
          "Washington Commanders: 0.625<br>Washington Wizards: 0.354<br>Washington Capitals: 0.378<br>",
          "Atlanta Falcons: 0.25<br>Atlanta Braves: 0.586<br>Atlanta Hawks: 0.305<br>Atlanta Thrashers: 0.170<br>",
          "Boston Red Sox: 0.524<br>Boston Celtics: 0.439<br>Boston Bruins: 0.292<br>",
          "Chicago Bears: 0.313<br>Chicago White Sox: 0.586<br>Chicago Cubs: 0.401<br>Chicago Bulls: 0.183<br>Chicago Blackhawks: 0.402<br>",
          "Cleveland Browns: 0.188<br>Cleveland Indians: 0.555<br>Cleveland Cavaliers: 0.366<br>",
          "Dallas Cowboys: 0.313<br>Dallas Mavericks: 0.646<br>Dallas Stars: 0.524<br>",
          "Detroit Lions: 0.563<br>Detroit Tigers: 0.487<br>Detroit Pistons: 0.39<br>Detroit Red Wings: 0.585<br>",
          "Los Angeles Chargers: 0.063<br>Los Angeles Rams: 0.625<br>Los Angeles Dodgers: 0.530<br>Los Angeles Clippers: 0.378<br>Los Angeles Lakers: 0.683<br>Los Angeles Kings: 0.475<br>",
          "Minnesota Vikings: 0.688<br>Minnesota Twins: 0.425<br>Minnesota Timberwolves: 0.573<br>",
          "New York Jets: 0.563<br>New York Giants: 0.75<br>New York Yankees: 0.540<br>New York Mets: 0.580<br>New York Knicks: 0.39<br>New York Knicks: 0.585<br>New York Rangers: 0.353<br>New York Islanders: 0.292<br>",
          "Philadelphia Eagles: 0.688<br>Philadelphia Phillies: 0.401<br>Philadelphia 76ers: 0.683<br>Philadelphia Flyers: 0.548<br>",
          "Pittsburgh Steelers: 0.563<br>Pittsburgh Pirates: 0.425<br>Pittsburgh Penguins: 0.451<br>",
          "Seattle Seahawks: 0.375<br>Seattle Mariners: 0.561<br>Seattle Supersonics: 0.537<br>",
          "Tampa Bay Buccaneers: 0.625<br>Tampa Bay Devil Rays: 0.428<br>Tampa Bay Lightning: 0.231<br>",
          "Toronto Blue Jays: 0.512<br>Toronto Raptors: 0.573<br>Toronto Maple Leafs: 0.548<br>",
          "Washington Commanders: 0.5<br>Washington Wizards: 0.232<br>Washington Capitals: 0.536<br>",
          "Atlanta Falcons: 0.438<br>Atlanta Braves: 0.543<br>Atlanta Hawks: 0.402<br>Atlanta Thrashers: 0.280<br>",
          "Boston Red Sox: 0.509<br>Boston Celtics: 0.598<br>Boston Bruins: 0.439<br>",
          "Chicago Bears: 0.813<br>Chicago White Sox: 0.512<br>Chicago Cubs: 0.543<br>Chicago Bulls: 0.256<br>Chicago Blackhawks: 0.353<br>",
          "Cleveland Browns: 0.438<br>Cleveland Indians: 0.561<br>Cleveland Cavaliers: 0.354<br>",
          "Dallas Cowboys: 0.313<br>Dallas Mavericks: 0.695<br>Dallas Stars: 0.585<br>",
          "Detroit Lions: 0.125<br>Detroit Tigers: 0.407<br>Detroit Pistons: 0.61<br>Detroit Red Wings: 0.597<br>",
          "Los Angeles Chargers: 0.313<br>Los Angeles Rams: 0.875<br>Los Angeles Dodgers: 0.530<br>Los Angeles Clippers: 0.476<br>Los Angeles Lakers: 0.707<br>Los Angeles Kings: 0.463<br>",
          "Minnesota Vikings: 0.313<br>Minnesota Twins: 0.524<br>Minnesota Timberwolves: 0.61<br>Minnesota Wild: 0.304<br>",
          "New York Giants: 0.438<br>New York Jets: 0.625<br>New York Yankees: 0.593<br>New York Mets: 0.506<br>New York Knicks: 0.422<br>New York Knicks: 0.366<br>New York Rangers: 0.402<br>New York Islanders: 0.256<br>",
          "Philadelphia Eagles: 0.688<br>Philadelphia Phillies: 0.530<br>Philadelphia 76ers: 0.524<br>Philadelphia Flyers: 0.524<br>",
          "Pittsburgh Steelers: 0.813<br>Pittsburgh Pirates: 0.382<br>Pittsburgh Penguins: 0.512<br>",
          "Seattle Seahawks: 0.563<br>Seattle Mariners: 0.716<br>Seattle Supersonics: 0.549<br>",
          "Tampa Bay Buccaneers: 0.563<br>Tampa Bay Devil Rays: 0.382<br>Tampa Bay Lightning: 0.292<br>",
          "Toronto Blue Jays: 0.493<br>Toronto Raptors: 0.512<br>Toronto Maple Leafs: 0.451<br>",
          "Washington Commanders: 0.5<br>Washington Wizards: 0.451<br>Washington Capitals: 0.5<br>",
          "Atlanta Falcons: 0.594<br>Atlanta Braves: 0.631<br>Atlanta Hawks: 0.427<br>Atlanta Thrashers: 0.231<br>",
          "Boston Red Sox: 0.574<br>Boston Celtics: 0.537<br>Boston Bruins: 0.524<br>",
          "Chicago Bears: 0.25<br>Chicago White Sox: 0.5<br>Chicago Cubs: 0.413<br>Chicago Bulls: 0.366<br>Chicago Blackhawks: 0.5<br>",
          "Cleveland Browns: 0.563<br>Cleveland Indians: 0.456<br>Cleveland Cavaliers: 0.207<br>",
          "Dallas Cowboys: 0.313<br>Dallas Mavericks: 0.732<br>Dallas Stars: 0.439<br>",
          "Detroit Lions: 0.188<br>Detroit Tigers: 0.341<br>Detroit Pistons: 0.61<br>Detroit Red Wings: 0.621<br>",
          "Houston Texans: 0.25<br>Houston Astros: 0.518<br>Houston Rockets: 0.524<br>",
          "Los Angeles Rams: 0.438<br>Los Angeles Chargers: 0.5<br>Los Angeles Dodgers: 0.567<br>Los Angeles Clippers: 0.329<br>Los Angeles Lakers: 0.61<br>Los Angeles Kings: 0.487<br>",
          "Minnesota Vikings: 0.375<br>Minnesota Twins: 0.583<br>Minnesota Timberwolves: 0.622<br>Minnesota Wild: 0.317<br>",
          "New York Jets: 0.563<br>New York Giants: 0.625<br>New York Yankees: 0.639<br>New York Mets: 0.465<br>New York Knicks: 0.451<br>New York Islanders: 0.512<br>New York Rangers: 0.439<br>",
          "Philadelphia Eagles: 0.75<br>Philadelphia Phillies: 0.496<br>Philadelphia 76ers: 0.585<br>Philadelphia Flyers: 0.512<br>",
          "Pittsburgh Steelers: 0.656<br>Pittsburgh Pirates: 0.447<br>Pittsburgh Penguins: 0.341<br>",
          "Seattle Seahawks: 0.438<br>Seattle Mariners: 0.574<br>Seattle Supersonics: 0.488<br>",
          "Tampa Bay Buccaneers: 0.75<br>Tampa Bay Devil Rays: 0.341<br>Tampa Bay Lightning: 0.329<br>",
          "Toronto Blue Jays: 0.481<br>Toronto Raptors: 0.293<br>Toronto Maple Leafs: 0.524<br>",
          "Washington Commanders: 0.438<br>Washington Wizards: 0.451<br>Washington Capitals: 0.439<br>",
          "Atlanta Falcons: 0.313<br>Atlanta Braves: 0.623<br>Atlanta Hawks: 0.341<br>Atlanta Thrashers: 0.378<br>",
          "Boston Red Sox: 0.586<br>Boston Celtics: 0.439<br>Boston Bruins: 0.439<br>",
          "Chicago Bears: 0.438<br>Chicago White Sox: 0.530<br>Chicago Cubs: 0.543<br>Chicago Bulls: 0.28<br>Chicago Blackhawks: 0.365<br>",
          "Cleveland Browns: 0.313<br>Cleveland Indians: 0.419<br>Cleveland Cavaliers: 0.427<br>",
          "Dallas Cowboys: 0.625<br>Dallas Mavericks: 0.634<br>Dallas Stars: 0.560<br>",
          "Detroit Lions: 0.313<br>Detroit Tigers: 0.265<br>Detroit Pistons: 0.659<br>Detroit Red Wings: 0.585<br>",
          "Houston Texans: 0.313<br>Houston Astros: 0.537<br>Houston Rockets: 0.549<br>",
          "Los Angeles Chargers: 0.25<br>Los Angeles Rams: 0.75<br>Los Angeles Dodgers: 0.524<br>Los Angeles Clippers: 0.341<br>Los Angeles Lakers: 0.683<br>Los Angeles Kings: 0.402<br>",
          "Minnesota Vikings: 0.563<br>Minnesota Twins: 0.555<br>Minnesota Timberwolves: 0.707<br>Minnesota Wild: 0.512<br>",
          "New York Giants: 0.25<br>New York Jets: 0.375<br>New York Yankees: 0.623<br>New York Mets: 0.409<br>New York Knicks: 0.476<br>New York Islanders: 0.426<br>New York Rangers: 0.390<br>",
          "Philadelphia Eagles: 0.75<br>Philadelphia Phillies: 0.530<br>Philadelphia 76ers: 0.402<br>Philadelphia Flyers: 0.548<br>",
          "Pittsburgh Steelers: 0.375<br>Pittsburgh Pirates: 0.462<br>Pittsburgh Penguins: 0.329<br>",
          "Seattle Seahawks: 0.625<br>Seattle Mariners: 0.574<br>Seattle Supersonics: 0.451<br>",
          "Tampa Bay Buccaneers: 0.438<br>Tampa Bay Devil Rays: 0.388<br>Tampa Bay Lightning: 0.439<br>",
          "Toronto Blue Jays: 0.530<br>Toronto Raptors: 0.402<br>Toronto Maple Leafs: 0.536<br>",
          "Washington Commanders: 0.313<br>Washington Wizards: 0.305<br>Washington Capitals: 0.475<br>",
          "Atlanta Falcons: 0.688<br>Atlanta Braves: 0.592<br>Atlanta Hawks: 0.159<br>Atlanta Thrashers: 0.402<br>",
          "Boston Red Sox: 0.604<br>Boston Celtics: 0.549<br>Boston Bruins: 0.5<br>",
          "Chicago Bears: 0.313<br>Chicago White Sox: 0.512<br>Chicago Cubs: 0.549<br>Chicago Bulls: 0.573<br>Chicago Blackhawks: 0.243<br>",
          "Cleveland Browns: 0.25<br>Cleveland Indians: 0.493<br>Cleveland Cavaliers: 0.512<br>",
          "Dallas Cowboys: 0.375<br>Dallas Mavericks: 0.707<br>Dallas Stars: 0.5<br>",
          "Detroit Lions: 0.375<br>Detroit Tigers: 0.444<br>Detroit Pistons: 0.659<br>Detroit Red Wings: 0.585<br>",
          "Houston Texans: 0.438<br>Houston Astros: 0.567<br>Houston Rockets: 0.622<br>",
          "Los Angeles Rams: 0.5<br>Los Angeles Chargers: 0.75<br>Los Angeles Dodgers: 0.574<br>Los Angeles Clippers: 0.451<br>Los Angeles Lakers: 0.415<br>Los Angeles Kings: 0.341<br>",
          "Minnesota Vikings: 0.5<br>Minnesota Twins: 0.567<br>Minnesota Timberwolves: 0.537<br>Minnesota Wild: 0.365<br>",
          "New York Giants: 0.375<br>New York Jets: 0.625<br>New York Yankees: 0.623<br>New York Mets: 0.438<br>New York Knicks: 0.402<br>New York Islanders: 0.463<br>New York Rangers: 0.329<br>",
          "Philadelphia Eagles: 0.813<br>Philadelphia Phillies: 0.530<br>Philadelphia 76ers: 0.524<br>Philadelphia Flyers: 0.487<br>",
          "Pittsburgh Steelers: 0.938<br>Pittsburgh Pirates: 0.447<br>Pittsburgh Penguins: 0.280<br>",
          "Seattle Seahawks: 0.563<br>Seattle Mariners: 0.388<br>Seattle Supersonics: 0.634<br>",
          "Tampa Bay Buccaneers: 0.313<br>Tampa Bay Devil Rays: 0.434<br>Tampa Bay Lightning: 0.560<br>",
          "Toronto Blue Jays: 0.416<br>Toronto Raptors: 0.402<br>Toronto Maple Leafs: 0.548<br>",
          "Washington Commanders: 0.375<br>Washington Wizards: 0.549<br>Washington Capitals: 0.280<br>",
          "Atlanta Falcons: 0.5<br>Atlanta Braves: 0.555<br>Atlanta Hawks: 0.317<br>",
          "Chicago Bears: 0.688<br>Chicago White Sox: 0.611<br>Chicago Cubs: 0.487<br>Chicago Bulls: 0.5<br>",
          "Cleveland Browns: 0.375<br>Cleveland Indians: 0.574<br>Cleveland Cavaliers: 0.61<br>",
          "Detroit Lions: 0.313<br>Detroit Tigers: 0.438<br>Detroit Pistons: 0.78<br>",
          "Houston Texans: 0.125<br>Houston Astros: 0.549<br>Houston Rockets: 0.415<br>",
          "Los Angeles Rams: 0.375<br>Los Angeles Chargers: 0.563<br>Los Angeles Angels of Anaheim: 0.586<br>Los Angeles Dodgers: 0.438<br>Los Angeles Clippers: 0.573<br>Los Angeles Lakers: 0.549<br>",
          "Minnesota Vikings: 0.563<br>Minnesota Twins: 0.512<br>Minnesota Timberwolves: 0.402<br>",
          "New York Jets: 0.25<br>New York Giants: 0.688<br>New York Yankees: 0.586<br>New York Mets: 0.512<br>New York Knicks: 0.28<br>",
          "Philadelphia Eagles: 0.375<br>Philadelphia Phillies: 0.543<br>Philadelphia 76ers: 0.463<br>",
          "Seattle Seahawks: 0.813<br>Seattle Mariners: 0.425<br>Seattle Supersonics: 0.427<br>",
          "Washington Commanders: 0.625<br>Washington Nationals: 0.5<br>Washington Wizards: 0.512<br>",
          "Atlanta Falcons: 0.438<br>Atlanta Braves: 0.487<br>Atlanta Hawks: 0.366<br>Atlanta Thrashers: 0.5<br>",
          "Boston Red Sox: 0.530<br>Boston Celtics: 0.293<br>Boston Bruins: 0.353<br>",
          "Chicago Bears: 0.813<br>Chicago White Sox: 0.555<br>Chicago Cubs: 0.407<br>Chicago Bulls: 0.598<br>Chicago Blackhawks: 0.317<br>",
          "Cleveland Browns: 0.25<br>Cleveland Indians: 0.481<br>Cleveland Cavaliers: 0.61<br>",
          "Dallas Cowboys: 0.563<br>Dallas Mavericks: 0.817<br>Dallas Stars: 0.646<br>",
          "Detroit Lions: 0.188<br>Detroit Tigers: 0.586<br>Detroit Pistons: 0.646<br>Detroit Red Wings: 0.707<br>",
          "Houston Texans: 0.375<br>Houston Astros: 0.506<br>Houston Rockets: 0.634<br>",
          "Los Angeles Rams: 0.5<br>Los Angeles Chargers: 0.875<br>Los Angeles Angels of Anaheim: 0.549<br>Los Angeles Dodgers: 0.543<br>Los Angeles Clippers: 0.488<br>Los Angeles Lakers: 0.512<br>Los Angeles Kings: 0.512<br>",
          "Minnesota Vikings: 0.375<br>Minnesota Twins: 0.592<br>Minnesota Timberwolves: 0.39<br>Minnesota Wild: 0.463<br>",
          "New York Giants: 0.5<br>New York Jets: 0.625<br>New York Yankees: 0.598<br>New York Mets: 0.598<br>New York Knicks: 0.402<br>New York Rangers: 0.536<br>New York Islanders: 0.439<br>",
          "Philadelphia Eagles: 0.625<br>Philadelphia Phillies: 0.524<br>Philadelphia 76ers: 0.427<br>Philadelphia Flyers: 0.548<br>",
          "Pittsburgh Steelers: 0.5<br>Pittsburgh Pirates: 0.413<br>Pittsburgh Penguins: 0.268<br>",
          "Seattle Seahawks: 0.563<br>Seattle Mariners: 0.481<br>Seattle Supersonics: 0.378<br>",
          "Tampa Bay Buccaneers: 0.25<br>Tampa Bay Devil Rays: 0.376<br>Tampa Bay Lightning: 0.524<br>",
          "Toronto Blue Jays: 0.537<br>Toronto Raptors: 0.573<br>Toronto Maple Leafs: 0.5<br>",
          "Washington Commanders: 0.313<br>Washington Nationals: 0.438<br>Washington Wizards: 0.5<br>Washington Capitals: 0.353<br>",
          "Atlanta Falcons: 0.25<br>Atlanta Braves: 0.518<br>Atlanta Hawks: 0.451<br>Atlanta Thrashers: 0.524<br>",
          "Boston Red Sox: 0.592<br>Boston Celtics: 0.805<br>Boston Bruins: 0.426<br>",
          "Chicago Bears: 0.438<br>Chicago White Sox: 0.444<br>Chicago Cubs: 0.524<br>Chicago Bulls: 0.402<br>Chicago Blackhawks: 0.378<br>",
          "Cleveland Browns: 0.625<br>Cleveland Indians: 0.592<br>Cleveland Cavaliers: 0.549<br>",
          "Dallas Cowboys: 0.813<br>Dallas Mavericks: 0.622<br>Dallas Stars: 0.609<br>",
          "Detroit Lions: 0.438<br>Detroit Tigers: 0.543<br>Detroit Pistons: 0.72<br>Detroit Red Wings: 0.609<br>",
          "Houston Texans: 0.5<br>Houston Astros: 0.450<br>Houston Rockets: 0.671<br>",
          "Los Angeles Rams: 0.188<br>Los Angeles Chargers: 0.688<br>Los Angeles Angels of Anaheim: 0.580<br>Los Angeles Dodgers: 0.506<br>Los Angeles Clippers: 0.28<br>Los Angeles Lakers: 0.695<br>Los Angeles Kings: 0.329<br>",
          "Minnesota Vikings: 0.5<br>Minnesota Twins: 0.487<br>Minnesota Timberwolves: 0.268<br>Minnesota Wild: 0.585<br>",
          "New York Jets: 0.25<br>New York Giants: 0.625<br>New York Yankees: 0.580<br>New York Mets: 0.543<br>New York Knicks: 0.28<br>New York Rangers: 0.512<br>New York Islanders: 0.487<br>",
          "Philadelphia Eagles: 0.5<br>Philadelphia Phillies: 0.549<br>Philadelphia 76ers: 0.488<br>Philadelphia Flyers: 0.268<br>",
          "Pittsburgh Steelers: 0.625<br>Pittsburgh Pirates: 0.419<br>Pittsburgh Penguins: 0.573<br>",
          "Seattle Seahawks: 0.625<br>Seattle Mariners: 0.543<br>Seattle Supersonics: 0.244<br>",
          "Tampa Bay Buccaneers: 0.563<br>Tampa Bay Devil Rays: 0.407<br>Tampa Bay Lightning: 0.536<br>",
          "Toronto Blue Jays: 0.512<br>Toronto Raptors: 0.5<br>Toronto Maple Leafs: 0.487<br>",
          "Washington Commanders: 0.563<br>Washington Nationals: 0.450<br>Washington Wizards: 0.524<br>Washington Capitals: 0.341<br>",
          "Atlanta Falcons: 0.688<br>Atlanta Braves: 0.444<br>Atlanta Hawks: 0.573<br>Atlanta Thrashers: 0.414<br>",
          "Boston Red Sox: 0.586<br>Boston Celtics: 0.756<br>Boston Bruins: 0.5<br>",
          "Chicago Bears: 0.563<br>Chicago White Sox: 0.546<br>Chicago Cubs: 0.602<br>Chicago Bulls: 0.5<br>Chicago Blackhawks: 0.487<br>",
          "Cleveland Browns: 0.25<br>Cleveland Indians: 0.5<br>Cleveland Cavaliers: 0.805<br>",
          "Dallas Cowboys: 0.563<br>Dallas Mavericks: 0.61<br>Dallas Stars: 0.548<br>",
          "Detroit Lions: 0.0<br>Detroit Tigers: 0.456<br>Detroit Pistons: 0.476<br>Detroit Red Wings: 0.658<br>",
          "Houston Texans: 0.5<br>Houston Astros: 0.534<br>Houston Rockets: 0.646<br>",
          "Los Angeles Rams: 0.125<br>Los Angeles Chargers: 0.5<br>Los Angeles Angels of Anaheim: 0.617<br>Los Angeles Dodgers: 0.518<br>Los Angeles Clippers: 0.232<br>Los Angeles Lakers: 0.793<br>Los Angeles Kings: 0.390<br>",
          "Minnesota Vikings: 0.625<br>Minnesota Twins: 0.539<br>Minnesota Timberwolves: 0.293<br>Minnesota Wild: 0.536<br>",
          "New York Jets: 0.563<br>New York Giants: 0.75<br>New York Yankees: 0.549<br>New York Mets: 0.549<br>New York Knicks: 0.39<br>New York Rangers: 0.512<br>New York Islanders: 0.426<br>",
          "Philadelphia Eagles: 0.594<br>Philadelphia Phillies: 0.567<br>Philadelphia 76ers: 0.5<br>Philadelphia Flyers: 0.512<br>",
          "Pittsburgh Steelers: 0.75<br>Pittsburgh Pirates: 0.413<br>Pittsburgh Penguins: 0.573<br>",
          "Tampa Bay Buccaneers: 0.563<br>Tampa Bay Rays: 0.598<br>Tampa Bay Lightning: 0.378<br>",
          "Toronto Blue Jays: 0.530<br>Toronto Raptors: 0.402<br>Toronto Maple Leafs: 0.439<br>",
          "Washington Commanders: 0.5<br>Washington Nationals: 0.366<br>Washington Wizards: 0.232<br>Washington Capitals: 0.524<br>",
          "Atlanta Falcons: 0.563<br>Atlanta Braves: 0.530<br>Atlanta Hawks: 0.646<br>Atlanta Thrashers: 0.426<br>",
          "Boston Red Sox: 0.586<br>Boston Celtics: 0.61<br>Boston Bruins: 0.646<br>",
          "Chicago Bears: 0.438<br>Chicago White Sox: 0.487<br>Chicago Cubs: 0.515<br>Chicago Bulls: 0.5<br>Chicago Blackhawks: 0.560<br>",
          "Cleveland Browns: 0.313<br>Cleveland Indians: 0.401<br>Cleveland Cavaliers: 0.744<br>",
          "Dallas Cowboys: 0.688<br>Dallas Mavericks: 0.671<br>Dallas Stars: 0.439<br>",
          "Detroit Lions: 0.125<br>Detroit Tigers: 0.527<br>Detroit Pistons: 0.329<br>Detroit Red Wings: 0.621<br>",
          "Houston Texans: 0.563<br>Houston Astros: 0.456<br>Houston Rockets: 0.512<br>",
          "Los Angeles Rams: 0.063<br>Los Angeles Chargers: 0.813<br>Los Angeles Angels of Anaheim: 0.598<br>Los Angeles Dodgers: 0.586<br>Los Angeles Clippers: 0.354<br>Los Angeles Lakers: 0.695<br>Los Angeles Kings: 0.414<br>",
          "Minnesota Vikings: 0.75<br>Minnesota Twins: 0.533<br>Minnesota Timberwolves: 0.183<br>Minnesota Wild: 0.487<br>",
          "New York Giants: 0.5<br>New York Jets: 0.563<br>New York Yankees: 0.635<br>New York Mets: 0.432<br>New York Knicks: 0.354<br>New York Rangers: 0.524<br>New York Islanders: 0.317<br>",
          "Philadelphia Eagles: 0.688<br>Philadelphia Phillies: 0.574<br>Philadelphia 76ers: 0.329<br>Philadelphia Flyers: 0.536<br>",
          "Pittsburgh Steelers: 0.563<br>Pittsburgh Pirates: 0.385<br>Pittsburgh Penguins: 0.548<br>",
          "Tampa Bay Buccaneers: 0.188<br>Tampa Bay Rays: 0.518<br>Tampa Bay Lightning: 0.292<br>",
          "Toronto Blue Jays: 0.462<br>Toronto Raptors: 0.488<br>Toronto Maple Leafs: 0.414<br>",
          "Washington Commanders: 0.25<br>Washington Nationals: 0.364<br>Washington Wizards: 0.317<br>Washington Capitals: 0.609<br>",
          "Atlanta Falcons: 0.813<br>Atlanta Braves: 0.561<br>Atlanta Hawks: 0.537<br>Atlanta Thrashers: 0.426<br>",
          "Boston Red Sox: 0.549<br>Boston Celtics: 0.683<br>Boston Bruins: 0.475<br>",
          "Chicago Bears: 0.688<br>Chicago White Sox: 0.543<br>Chicago Cubs: 0.462<br>Chicago Bulls: 0.756<br>Chicago Blackhawks: 0.634<br>",
          "Cleveland Browns: 0.313<br>Cleveland Indians: 0.425<br>Cleveland Cavaliers: 0.232<br>",
          "Dallas Cowboys: 0.375<br>Dallas Mavericks: 0.695<br>Dallas Stars: 0.451<br>",
          "Detroit Lions: 0.375<br>Detroit Tigers: 0.5<br>Detroit Pistons: 0.366<br>Detroit Red Wings: 0.536<br>",
          "Houston Texans: 0.375<br>Houston Astros: 0.469<br>Houston Rockets: 0.524<br>",
          "Los Angeles Rams: 0.438<br>Los Angeles Chargers: 0.563<br>Los Angeles Angels of Anaheim: 0.493<br>Los Angeles Dodgers: 0.493<br>Los Angeles Clippers: 0.39<br>Los Angeles Lakers: 0.695<br>Los Angeles Kings: 0.560<br>",
          "Minnesota Vikings: 0.375<br>Minnesota Twins: 0.580<br>Minnesota Timberwolves: 0.207<br>Minnesota Wild: 0.463<br>",
          "New York Giants: 0.625<br>New York Jets: 0.688<br>New York Yankees: 0.586<br>New York Mets: 0.487<br>New York Knicks: 0.512<br>New York Rangers: 0.463<br>New York Islanders: 0.414<br>",
          "Philadelphia Eagles: 0.625<br>Philadelphia Phillies: 0.598<br>Philadelphia 76ers: 0.5<br>Philadelphia Flyers: 0.5<br>",
          "Pittsburgh Steelers: 0.75<br>Pittsburgh Pirates: 0.351<br>Pittsburgh Penguins: 0.573<br>",
          "Tampa Bay Buccaneers: 0.625<br>Tampa Bay Rays: 0.592<br>Tampa Bay Lightning: 0.414<br>",
          "Toronto Blue Jays: 0.524<br>Toronto Raptors: 0.268<br>Toronto Maple Leafs: 0.365<br>",
          "Washington Commanders: 0.375<br>Washington Nationals: 0.425<br>Washington Wizards: 0.28<br>Washington Capitals: 0.658<br>",
          "Atlanta Falcons: 0.625<br>Atlanta Braves: 0.549<br>Atlanta Hawks: 0.606<br>Atlanta Thrashers: 0.414<br>",
          "Boston Red Sox: 0.555<br>Boston Celtics: 0.591<br>Boston Bruins: 0.560<br>",
          "Chicago Bears: 0.5<br>Chicago White Sox: 0.487<br>Chicago Cubs: 0.438<br>Chicago Bulls: 0.758<br>Chicago Blackhawks: 0.536<br>",
          "Cleveland Browns: 0.25<br>Cleveland Indians: 0.493<br>Cleveland Cavaliers: 0.318<br>",
          "Dallas Cowboys: 0.5<br>Dallas Mavericks: 0.545<br>Dallas Stars: 0.512<br>",
          "Detroit Lions: 0.625<br>Detroit Tigers: 0.586<br>Detroit Pistons: 0.379<br>Detroit Red Wings: 0.573<br>",
          "Houston Texans: 0.625<br>Houston Astros: 0.345<br>Houston Rockets: 0.515<br>",
          "Los Angeles Rams: 0.125<br>Los Angeles Chargers: 0.5<br>Los Angeles Angels of Anaheim: 0.530<br>Los Angeles Dodgers: 0.509<br>Los Angeles Clippers: 0.606<br>Los Angeles Lakers: 0.621<br>Los Angeles Kings: 0.560<br>",
          "Minnesota Vikings: 0.188<br>Minnesota Twins: 0.388<br>Minnesota Timberwolves: 0.394<br>Minnesota Wild: 0.475<br>",
          "New York Jets: 0.5<br>New York Giants: 0.563<br>New York Yankees: 0.598<br>New York Mets: 0.475<br>New York Knicks: 0.545<br>New York Rangers: 0.536<br>New York Islanders: 0.365<br>",
          "Philadelphia Eagles: 0.5<br>Philadelphia Phillies: 0.629<br>Philadelphia 76ers: 0.53<br>Philadelphia Flyers: 0.573<br>",
          "Pittsburgh Steelers: 0.75<br>Pittsburgh Pirates: 0.444<br>Pittsburgh Penguins: 0.597<br>",
          "Tampa Bay Buccaneers: 0.25<br>Tampa Bay Rays: 0.561<br>Tampa Bay Lightning: 0.560<br>",
          "Toronto Blue Jays: 0.5<br>Toronto Raptors: 0.348<br>Toronto Maple Leafs: 0.451<br>",
          "Washington Commanders: 0.313<br>Washington Nationals: 0.496<br>Washington Wizards: 0.303<br>Washington Capitals: 0.585<br>",
          "Atlanta Falcons: 0.813<br>Atlanta Braves: 0.580<br>Atlanta Hawks: 0.537<br>",
          "Boston Red Sox: 0.425<br>Boston Celtics: 0.506<br>Boston Bruins: 0.597<br>",
          "Chicago Bears: 0.625<br>Chicago White Sox: 0.524<br>Chicago Cubs: 0.376<br>Chicago Bulls: 0.549<br>Chicago Blackhawks: 0.548<br>",
          "Cleveland Browns: 0.313<br>Cleveland Indians: 0.419<br>Cleveland Cavaliers: 0.293<br>",
          "Dallas Cowboys: 0.5<br>Dallas Mavericks: 0.5<br>Dallas Stars: 0.512<br>",
          "Detroit Lions: 0.25<br>Detroit Tigers: 0.543<br>Detroit Pistons: 0.354<br>Detroit Red Wings: 0.585<br>",
          "Houston Texans: 0.75<br>Houston Astros: 0.339<br>Houston Rockets: 0.549<br>",
          "Los Angeles Chargers: 0.438<br>Los Angeles Rams: 0.469<br>Los Angeles Angels of Anaheim: 0.549<br>Los Angeles Dodgers: 0.530<br>Los Angeles Clippers: 0.683<br>Los Angeles Lakers: 0.549<br>Los Angeles Kings: 0.487<br>",
          "Miami Dolphins: 0.438<br>Miami Marlins: 0.425<br>Miami Heat: 0.805<br>",
          "Minnesota Vikings: 0.625<br>Minnesota Twins: 0.407<br>Minnesota Timberwolves: 0.378<br>Minnesota Wild: 0.426<br>",
          "New York Jets: 0.375<br>New York Giants: 0.563<br>New York Yankees: 0.586<br>New York Mets: 0.456<br>New York Knicks: 0.659<br>New York Rangers: 0.621<br>New York Islanders: 0.414<br>",
          "Philadelphia Eagles: 0.25<br>Philadelphia Phillies: 0.5<br>Philadelphia 76ers: 0.415<br>Philadelphia Flyers: 0.573<br>",
          "Pittsburgh Steelers: 0.5<br>Pittsburgh Pirates: 0.487<br>Pittsburgh Penguins: 0.621<br>",
          "Tampa Bay Buccaneers: 0.438<br>Tampa Bay Rays: 0.555<br>Tampa Bay Lightning: 0.463<br>",
          "Toronto Blue Jays: 0.450<br>Toronto Raptors: 0.415<br>Toronto Maple Leafs: 0.426<br>",
          "Washington Commanders: 0.625<br>Washington Nationals: 0.604<br>Washington Wizards: 0.354<br>Washington Capitals: 0.512<br>",
          "Atlanta Falcons: 0.25<br>Atlanta Braves: 0.592<br>Atlanta Hawks: 0.463<br>",
          "Boston Red Sox: 0.598<br>Boston Celtics: 0.305<br>Boston Bruins: 0.583<br>",
          "Chicago Bears: 0.5<br>Chicago White Sox: 0.388<br>Chicago Cubs: 0.407<br>Chicago Bulls: 0.585<br>Chicago Blackhawks: 0.75<br>",
          "Cleveland Browns: 0.25<br>Cleveland Indians: 0.567<br>Cleveland Cavaliers: 0.402<br>",
          "Dallas Cowboys: 0.5<br>Dallas Mavericks: 0.598<br>Dallas Stars: 0.458<br>",
          "Detroit Lions: 0.438<br>Detroit Tigers: 0.574<br>Detroit Pistons: 0.354<br>Detroit Red Wings: 0.5<br>",
          "Houston Texans: 0.125<br>Houston Astros: 0.314<br>Houston Rockets: 0.659<br>",
          "Los Angeles Rams: 0.438<br>Los Angeles Chargers: 0.563<br>Los Angeles Angels of Anaheim: 0.481<br>Los Angeles Dodgers: 0.567<br>Los Angeles Clippers: 0.695<br>Los Angeles Lakers: 0.329<br>Los Angeles Kings: 0.562<br>",
          "Miami Dolphins: 0.5<br>Miami Marlins: 0.382<br>Miami Heat: 0.659<br>",
          "Minnesota Vikings: 0.344<br>Minnesota Twins: 0.407<br>Minnesota Timberwolves: 0.488<br>Minnesota Wild: 0.541<br>",
          "New York Giants: 0.438<br>New York Jets: 0.5<br>New York Yankees: 0.524<br>New York Mets: 0.456<br>New York Knicks: 0.451<br>New York Rangers: 0.541<br>New York Islanders: 0.5<br>",
          "Philadelphia Eagles: 0.625<br>Philadelphia Phillies: 0.450<br>Philadelphia 76ers: 0.232<br>Philadelphia Flyers: 0.479<br>",
          "Pittsburgh Steelers: 0.5<br>Pittsburgh Pirates: 0.580<br>Pittsburgh Penguins: 0.75<br>",
          "Tampa Bay Buccaneers: 0.25<br>Tampa Bay Rays: 0.564<br>Tampa Bay Lightning: 0.375<br>",
          "Toronto Blue Jays: 0.456<br>Toronto Raptors: 0.585<br>Toronto Maple Leafs: 0.541<br>",
          "Washington Commanders: 0.188<br>Washington Nationals: 0.530<br>Washington Wizards: 0.537<br>Washington Capitals: 0.562<br>",
          "Atlanta Falcons: 0.375<br>Atlanta Braves: 0.487<br>Atlanta Hawks: 0.732<br>",
          "Boston Red Sox: 0.438<br>Boston Celtics: 0.488<br>Boston Bruins: 0.658<br>",
          "Chicago Bears: 0.313<br>Chicago White Sox: 0.450<br>Chicago Cubs: 0.450<br>Chicago Bulls: 0.61<br>Chicago Blackhawks: 0.560<br>",
          "Cleveland Browns: 0.438<br>Cleveland Indians: 0.524<br>Cleveland Cavaliers: 0.646<br>",
          "Dallas Cowboys: 0.75<br>Dallas Mavericks: 0.61<br>Dallas Stars: 0.487<br>",
          "Detroit Lions: 0.688<br>Detroit Tigers: 0.555<br>Detroit Pistons: 0.39<br>Detroit Red Wings: 0.475<br>",
          "Houston Texans: 0.563<br>Houston Astros: 0.432<br>Houston Rockets: 0.683<br>",
          "Los Angeles Rams: 0.375<br>Los Angeles Chargers: 0.563<br>Los Angeles Angels of Anaheim: 0.604<br>Los Angeles Dodgers: 0.580<br>Los Angeles Clippers: 0.683<br>Los Angeles Lakers: 0.256<br>Los Angeles Kings: 0.560<br>",
          "Miami Dolphins: 0.5<br>Miami Marlins: 0.475<br>Miami Heat: 0.451<br>",
          "Minnesota Vikings: 0.438<br>Minnesota Twins: 0.432<br>Minnesota Timberwolves: 0.195<br>Minnesota Wild: 0.524<br>",
          "New York Jets: 0.25<br>New York Giants: 0.375<br>New York Yankees: 0.518<br>New York Mets: 0.487<br>New York Knicks: 0.207<br>New York Rangers: 0.548<br>New York Islanders: 0.414<br>",
          "Philadelphia Eagles: 0.625<br>Philadelphia Phillies: 0.450<br>Philadelphia 76ers: 0.22<br>Philadelphia Flyers: 0.512<br>",
          "Pittsburgh Steelers: 0.688<br>Pittsburgh Pirates: 0.543<br>Pittsburgh Penguins: 0.621<br>",
          "Tampa Bay Buccaneers: 0.125<br>Tampa Bay Rays: 0.475<br>Tampa Bay Lightning: 0.560<br>",
          "Toronto Blue Jays: 0.512<br>Toronto Raptors: 0.598<br>Toronto Maple Leafs: 0.463<br>",
          "Washington Commanders: 0.25<br>Washington Nationals: 0.592<br>Washington Wizards: 0.561<br>Washington Capitals: 0.463<br>",
          "Arizona Cardinals: 0.813<br>Arizona Diamondbacks: 0.487<br>Arizona Coyotes: 0.292<br>",
          "Atlanta Falcons: 0.5<br>Atlanta Braves: 0.413<br>Atlanta Hawks: 0.585<br>",
          "Boston Red Sox: 0.481<br>Boston Celtics: 0.585<br>Boston Bruins: 0.5<br>",
          "Chicago Bears: 0.375<br>Chicago White Sox: 0.469<br>Chicago Cubs: 0.598<br>Chicago Bulls: 0.512<br>Chicago Blackhawks: 0.585<br>",
          "Cleveland Browns: 0.188<br>Cleveland Indians: 0.503<br>Cleveland Cavaliers: 0.695<br>",
          "Dallas Cowboys: 0.25<br>Dallas Mavericks: 0.512<br>Dallas Stars: 0.5<br>",
          "Detroit Lions: 0.438<br>Detroit Tigers: 0.459<br>Detroit Pistons: 0.537<br>Detroit Red Wings: 0.524<br>",
          "Houston Texans: 0.563<br>Houston Astros: 0.530<br>Houston Rockets: 0.5<br>",
          "Los Angeles Chargers: 0.25<br>Los Angeles Rams: 0.438<br>Los Angeles Angels of Anaheim: 0.524<br>Los Angeles Dodgers: 0.567<br>Los Angeles Clippers: 0.646<br>Los Angeles Lakers: 0.207<br>Los Angeles Kings: 0.487<br>",
          "Miami Dolphins: 0.375<br>Miami Marlins: 0.438<br>Miami Heat: 0.585<br>",
          "Minnesota Vikings: 0.688<br>Minnesota Twins: 0.512<br>Minnesota Timberwolves: 0.354<br>Minnesota Wild: 0.560<br>",
          "New York Giants: 0.375<br>New York Jets: 0.625<br>New York Yankees: 0.537<br>New York Mets: 0.555<br>New York Rangers: 0.646<br>New York Islanders: 0.573<br>",
          "Philadelphia Eagles: 0.438<br>Philadelphia Phillies: 0.388<br>Philadelphia 76ers: 0.122<br>Philadelphia Flyers: 0.402<br>",
          "Pittsburgh Steelers: 0.625<br>Pittsburgh Pirates: 0.604<br>Pittsburgh Penguins: 0.524<br>",
          "Tampa Bay Buccaneers: 0.375<br>Tampa Bay Rays: 0.493<br>Tampa Bay Lightning: 0.609<br>",
          "Toronto Blue Jays: 0.574<br>Toronto Raptors: 0.683<br>Toronto Maple Leafs: 0.365<br>",
          "Washington Commanders: 0.563<br>Washington Nationals: 0.512<br>Washington Wizards: 0.5<br>Washington Capitals: 0.548<br>",
          "Arizona Cardinals: 0.469<br>Arizona Diamondbacks: 0.425<br>Arizona Coyotes: 0.426<br>",
          "Atlanta Falcons: 0.688<br>Atlanta Braves: 0.422<br>Atlanta Hawks: 0.575<br>",
          "Boston Red Sox: 0.574<br>Boston Celtics: 0.625<br>Boston Bruins: 0.512<br>",
          "Chicago Bears: 0.188<br>Chicago White Sox: 0.481<br>Chicago Cubs: 0.639<br>Chicago Bulls: 0.477<br>Chicago Blackhawks: 0.573<br>",
          "Cleveland Browns: 0.063<br>Cleveland Indians: 0.583<br>Cleveland Cavaliers: 0.714<br>",
          "Dallas Cowboys: 0.813<br>Dallas Mavericks: 0.341<br>Dallas Stars: 0.609<br>",
          "Detroit Lions: 0.563<br>Detroit Tigers: 0.534<br>Detroit Pistons: 0.467<br>Detroit Red Wings: 0.5<br>",
          "Houston Texans: 0.563<br>Houston Astros: 0.518<br>Houston Rockets: 0.723<br>",
          "Los Angeles Rams: 0.25<br>Los Angeles Chargers: 0.313<br>Los Angeles Angels of Anaheim: 0.456<br>Los Angeles Dodgers: 0.561<br>Los Angeles Clippers: 0.644<br>Los Angeles Lakers: 0.333<br>Los Angeles Kings: 0.585<br>",
          "Miami Dolphins: 0.625<br>Miami Marlins: 0.490<br>Miami Heat: 0.318<br>",
          "Minnesota Vikings: 0.5<br>Minnesota Twins: 0.364<br>Minnesota Timberwolves: 0.364<br>Minnesota Wild: 0.463<br>",
          "New York Jets: 0.313<br>New York Giants: 0.688<br>New York Yankees: 0.518<br>New York Mets: 0.537<br>New York Rangers: 0.560<br>New York Islanders: 0.548<br>",
          "Philadelphia Eagles: 0.438<br>Philadelphia Phillies: 0.438<br>Philadelphia 76ers: 0.357<br>Philadelphia Flyers: 0.5<br>",
          "Pittsburgh Steelers: 0.688<br>Pittsburgh Pirates: 0.484<br>Pittsburgh Penguins: 0.585<br>",
          "Tampa Bay Buccaneers: 0.563<br>Tampa Bay Rays: 0.419<br>Tampa Bay Lightning: 0.560<br>",
          "Toronto Blue Jays: 0.549<br>Toronto Raptors: 0.636<br>Toronto Maple Leafs: 0.353<br>",
          "Washington Commanders: 0.531<br>Washington Nationals: 0.586<br>Washington Wizards: 0.535<br>Washington Capitals: 0.682<br>",
          "Arizona Cardinals: 0.5<br>Arizona Diamondbacks: 0.574<br>Arizona Coyotes: 0.365<br>",
          "Chicago Bears: 0.313<br>Chicago White Sox: 0.413<br>Chicago Cubs: 0.567<br>Chicago Blackhawks: 0.609<br>",
          "Detroit Lions: 0.563<br>Detroit Tigers: 0.395<br>Detroit Red Wings: 0.402<br>",
          "Los Angeles Chargers: 0.563<br>Los Angeles Rams: 0.688<br>Los Angeles Angels of Anaheim: 0.493<br>Los Angeles Dodgers: 0.641<br>Los Angeles Kings: 0.475<br>",
          "Minnesota Vikings: 0.813<br>Minnesota Twins: 0.524<br>Minnesota Wild: 0.597<br>",
          "New York Giants: 0.188<br>New York Jets: 0.313<br>New York Yankees: 0.561<br>New York Mets: 0.432<br>New York Rangers: 0.585<br>New York Islanders: 0.5<br>",
          "Philadelphia Eagles: 0.813<br>Philadelphia Phillies: 0.407<br>Philadelphia Flyers: 0.475<br>",
          "Pittsburgh Steelers: 0.813<br>Pittsburgh Pirates: 0.462<br>Pittsburgh Penguins: 0.609<br>",
          "Tampa Bay Buccaneers: 0.313<br>Tampa Bay Rays: 0.493<br>Tampa Bay Lightning: 0.512<br>",
          "Washington Commanders: 0.438<br>Washington Nationals: 0.598<br>Washington Capitals: 0.670<br>",
          "Arizona Cardinals: 0.188<br>Arizona Diamondbacks: 0.506<br>Arizona Coyotes: 0.353<br>",
          "Chicago Bears: 0.75<br>Chicago White Sox: 0.382<br>Chicago Cubs: 0.582<br>Chicago Blackhawks: 0.402<br>",
          "Detroit Lions: 0.375<br>Detroit Tigers: 0.395<br>Detroit Red Wings: 0.365<br>",
          "Los Angeles Chargers: 0.75<br>Los Angeles Rams: 0.813<br>Los Angeles Angels of Anaheim: 0.493<br>Los Angeles Dodgers: 0.564<br>Los Angeles Kings: 0.548<br>",
          "Minnesota Vikings: 0.531<br>Minnesota Twins: 0.481<br>Minnesota Wild: 0.548<br>",
          "New York Jets: 0.25<br>New York Giants: 0.313<br>New York Yankees: 0.617<br>New York Mets: 0.475<br>New York Islanders: 0.426<br>New York Rangers: 0.414<br>",
          "Philadelphia Eagles: 0.563<br>Philadelphia Phillies: 0.493<br>Philadelphia Flyers: 0.512<br>",
          "Pittsburgh Steelers: 0.594<br>Pittsburgh Pirates: 0.509<br>Pittsburgh Penguins: 0.573<br>",
          "Tampa Bay Buccaneers: 0.313<br>Tampa Bay Rays: 0.555<br>Tampa Bay Lightning: 0.658<br>",
          "Washington Commanders: 0.438<br>Washington Nationals: 0.506<br>Washington Capitals: 0.597<br>",
          "Arizona Cardinals: 0.344<br>Arizona Diamondbacks: 0.524<br>Arizona Coyotes: 0.475<br>",
          "Chicago Bears: 0.5<br>Chicago White Sox: 0.447<br>Chicago Cubs: 0.518<br>Chicago Blackhawks: 0.439<br>",
          "Detroit Lions: 0.219<br>Detroit Tigers: 0.291<br>Detroit Red Wings: 0.390<br>",
          "Los Angeles Chargers: 0.313<br>Los Angeles Rams: 0.563<br>Los Angeles Angels of Anaheim: 0.444<br>Los Angeles Dodgers: 0.654<br>Los Angeles Kings: 0.378<br>",
          "Minnesota Vikings: 0.625<br>Minnesota Twins: 0.623<br>Minnesota Wild: 0.451<br>",
          "New York Giants: 0.25<br>New York Jets: 0.438<br>New York Yankees: 0.635<br>New York Mets: 0.530<br>New York Islanders: 0.585<br>New York Rangers: 0.390<br>",
          "Philadelphia Eagles: 0.563<br>Philadelphia Phillies: 0.5<br>Philadelphia Flyers: 0.451<br>",
          "Pittsburgh Steelers: 0.5<br>Pittsburgh Pirates: 0.425<br>Pittsburgh Penguins: 0.536<br>",
          "Tampa Bay Buccaneers: 0.438<br>Tampa Bay Rays: 0.592<br>Tampa Bay Lightning: 0.756<br>",
          "Washington Commanders: 0.188<br>Washington Nationals: 0.574<br>Washington Capitals: 0.585<br>",
          "Arizona Cardinals: 0.5<br>Arizona Diamondbacks: 0.416<br>Arizona Coyotes: 0.471<br>",
          "Chicago Bears: 0.5<br>Chicago White Sox: 0.583<br>Chicago Cubs: 0.566<br>Chicago Blackhawks: 0.457<br>",
          "Detroit Lions: 0.313<br>Detroit Tigers: 0.396<br>Detroit Red Wings: 0.239<br>",
          "Los Angeles Chargers: 0.438<br>Los Angeles Rams: 0.625<br>Los Angeles Angels of Anaheim: 0.433<br>Los Angeles Dodgers: 0.716<br>Los Angeles Kings: 0.414<br>",
          "Minnesota Vikings: 0.438<br>Minnesota Twins: 0.6<br>Minnesota Wild: 0.507<br>",
          "New York Jets: 0.125<br>New York Giants: 0.375<br>New York Yankees: 0.55<br>New York Mets: 0.433<br>New York Islanders: 0.514<br>New York Rangers: 0.528<br>",
          "Philadelphia Eagles: 0.281<br>Philadelphia Phillies: 0.466<br>Philadelphia Flyers: 0.594<br>",
          "Pittsburgh Steelers: 0.75<br>Pittsburgh Pirates: 0.316<br>Pittsburgh Penguins: 0.579<br>",
          "Tampa Bay Buccaneers: 0.688<br>Tampa Bay Rays: 0.666<br>Tampa Bay Lightning: 0.614<br>"
         ],
         "type": "scatter",
         "x": [
          1922,
          1923,
          1923,
          1924,
          1925,
          1925,
          1925,
          1926,
          1926,
          1926,
          1927,
          1927,
          1927,
          1928,
          1928,
          1928,
          1929,
          1929,
          1929,
          1930,
          1930,
          1931,
          1931,
          1932,
          1932,
          1933,
          1933,
          1933,
          1934,
          1934,
          1934,
          1934,
          1935,
          1935,
          1935,
          1936,
          1936,
          1936,
          1937,
          1937,
          1937,
          1938,
          1938,
          1938,
          1939,
          1939,
          1939,
          1940,
          1940,
          1940,
          1941,
          1941,
          1941,
          1942,
          1942,
          1942,
          1943,
          1943,
          1944,
          1944,
          1944,
          1945,
          1945,
          1945,
          1946,
          1946,
          1946,
          1946,
          1947,
          1947,
          1947,
          1947,
          1948,
          1948,
          1948,
          1948,
          1948,
          1948,
          1949,
          1949,
          1949,
          1949,
          1949,
          1949,
          1950,
          1950,
          1950,
          1950,
          1950,
          1951,
          1951,
          1951,
          1951,
          1951,
          1952,
          1952,
          1952,
          1952,
          1952,
          1953,
          1953,
          1953,
          1953,
          1953,
          1954,
          1954,
          1954,
          1954,
          1954,
          1955,
          1955,
          1955,
          1955,
          1956,
          1956,
          1956,
          1956,
          1957,
          1957,
          1957,
          1957,
          1958,
          1958,
          1958,
          1958,
          1958,
          1959,
          1959,
          1959,
          1959,
          1959,
          1960,
          1960,
          1960,
          1960,
          1960,
          1960,
          1961,
          1961,
          1961,
          1961,
          1961,
          1961,
          1962,
          1962,
          1962,
          1962,
          1962,
          1962,
          1963,
          1963,
          1963,
          1963,
          1963,
          1963,
          1963,
          1964,
          1964,
          1964,
          1964,
          1964,
          1964,
          1964,
          1965,
          1965,
          1965,
          1965,
          1965,
          1965,
          1965,
          1966,
          1966,
          1966,
          1966,
          1966,
          1966,
          1966,
          1966,
          1967,
          1967,
          1967,
          1967,
          1967,
          1967,
          1967,
          1967,
          1968,
          1968,
          1968,
          1968,
          1968,
          1968,
          1968,
          1968,
          1968,
          1968,
          1969,
          1969,
          1969,
          1969,
          1969,
          1969,
          1969,
          1969,
          1969,
          1969,
          1970,
          1970,
          1970,
          1970,
          1970,
          1970,
          1970,
          1970,
          1970,
          1970,
          1970,
          1971,
          1971,
          1971,
          1971,
          1971,
          1971,
          1971,
          1971,
          1971,
          1971,
          1971,
          1971,
          1972,
          1972,
          1972,
          1972,
          1972,
          1972,
          1972,
          1972,
          1972,
          1972,
          1972,
          1973,
          1973,
          1973,
          1973,
          1973,
          1973,
          1973,
          1973,
          1973,
          1973,
          1973,
          1974,
          1974,
          1974,
          1974,
          1974,
          1974,
          1974,
          1974,
          1974,
          1974,
          1974,
          1975,
          1975,
          1975,
          1975,
          1975,
          1975,
          1975,
          1975,
          1975,
          1975,
          1975,
          1975,
          1975,
          1976,
          1976,
          1976,
          1976,
          1976,
          1976,
          1976,
          1976,
          1976,
          1976,
          1976,
          1976,
          1976,
          1977,
          1977,
          1977,
          1977,
          1977,
          1977,
          1977,
          1977,
          1977,
          1977,
          1977,
          1977,
          1977,
          1978,
          1978,
          1978,
          1978,
          1978,
          1978,
          1978,
          1978,
          1978,
          1978,
          1978,
          1978,
          1979,
          1979,
          1979,
          1979,
          1979,
          1979,
          1979,
          1979,
          1979,
          1979,
          1979,
          1979,
          1980,
          1980,
          1980,
          1980,
          1980,
          1980,
          1980,
          1980,
          1980,
          1980,
          1980,
          1980,
          1981,
          1981,
          1981,
          1981,
          1981,
          1981,
          1981,
          1981,
          1981,
          1981,
          1981,
          1981,
          1982,
          1982,
          1982,
          1982,
          1982,
          1982,
          1982,
          1982,
          1982,
          1982,
          1982,
          1982,
          1983,
          1983,
          1983,
          1983,
          1983,
          1983,
          1983,
          1983,
          1983,
          1983,
          1983,
          1983,
          1984,
          1984,
          1984,
          1984,
          1984,
          1984,
          1984,
          1984,
          1984,
          1984,
          1984,
          1984,
          1985,
          1985,
          1985,
          1985,
          1985,
          1985,
          1985,
          1985,
          1985,
          1985,
          1985,
          1985,
          1986,
          1986,
          1986,
          1986,
          1986,
          1986,
          1986,
          1986,
          1986,
          1986,
          1986,
          1986,
          1987,
          1987,
          1987,
          1987,
          1987,
          1987,
          1987,
          1987,
          1987,
          1987,
          1987,
          1987,
          1988,
          1988,
          1988,
          1988,
          1988,
          1988,
          1988,
          1988,
          1988,
          1988,
          1988,
          1988,
          1989,
          1989,
          1989,
          1989,
          1989,
          1989,
          1989,
          1989,
          1989,
          1989,
          1989,
          1989,
          1990,
          1990,
          1990,
          1990,
          1990,
          1990,
          1990,
          1990,
          1990,
          1990,
          1990,
          1990,
          1991,
          1991,
          1991,
          1991,
          1991,
          1991,
          1991,
          1991,
          1991,
          1991,
          1991,
          1991,
          1992,
          1992,
          1992,
          1992,
          1992,
          1992,
          1992,
          1992,
          1992,
          1992,
          1992,
          1992,
          1993,
          1993,
          1993,
          1993,
          1993,
          1993,
          1993,
          1993,
          1993,
          1993,
          1993,
          1993,
          1994,
          1994,
          1994,
          1994,
          1994,
          1994,
          1994,
          1994,
          1994,
          1994,
          1994,
          1994,
          1994,
          1995,
          1995,
          1995,
          1995,
          1995,
          1995,
          1995,
          1995,
          1995,
          1995,
          1995,
          1995,
          1995,
          1995,
          1996,
          1996,
          1996,
          1996,
          1996,
          1996,
          1996,
          1996,
          1996,
          1996,
          1996,
          1996,
          1996,
          1997,
          1997,
          1997,
          1997,
          1997,
          1997,
          1997,
          1997,
          1997,
          1997,
          1997,
          1997,
          1997,
          1998,
          1998,
          1998,
          1998,
          1998,
          1998,
          1998,
          1998,
          1998,
          1998,
          1998,
          1998,
          1998,
          1998,
          1999,
          1999,
          1999,
          1999,
          1999,
          1999,
          1999,
          1999,
          1999,
          1999,
          1999,
          1999,
          1999,
          1999,
          1999,
          2000,
          2000,
          2000,
          2000,
          2000,
          2000,
          2000,
          2000,
          2000,
          2000,
          2000,
          2000,
          2000,
          2000,
          2000,
          2001,
          2001,
          2001,
          2001,
          2001,
          2001,
          2001,
          2001,
          2001,
          2001,
          2001,
          2001,
          2001,
          2001,
          2001,
          2002,
          2002,
          2002,
          2002,
          2002,
          2002,
          2002,
          2002,
          2002,
          2002,
          2002,
          2002,
          2002,
          2002,
          2002,
          2002,
          2003,
          2003,
          2003,
          2003,
          2003,
          2003,
          2003,
          2003,
          2003,
          2003,
          2003,
          2003,
          2003,
          2003,
          2003,
          2003,
          2004,
          2004,
          2004,
          2004,
          2004,
          2004,
          2004,
          2004,
          2004,
          2004,
          2004,
          2004,
          2004,
          2004,
          2004,
          2004,
          2005,
          2005,
          2005,
          2005,
          2005,
          2005,
          2005,
          2005,
          2005,
          2005,
          2005,
          2006,
          2006,
          2006,
          2006,
          2006,
          2006,
          2006,
          2006,
          2006,
          2006,
          2006,
          2006,
          2006,
          2006,
          2006,
          2006,
          2007,
          2007,
          2007,
          2007,
          2007,
          2007,
          2007,
          2007,
          2007,
          2007,
          2007,
          2007,
          2007,
          2007,
          2007,
          2007,
          2008,
          2008,
          2008,
          2008,
          2008,
          2008,
          2008,
          2008,
          2008,
          2008,
          2008,
          2008,
          2008,
          2008,
          2008,
          2009,
          2009,
          2009,
          2009,
          2009,
          2009,
          2009,
          2009,
          2009,
          2009,
          2009,
          2009,
          2009,
          2009,
          2009,
          2010,
          2010,
          2010,
          2010,
          2010,
          2010,
          2010,
          2010,
          2010,
          2010,
          2010,
          2010,
          2010,
          2010,
          2010,
          2011,
          2011,
          2011,
          2011,
          2011,
          2011,
          2011,
          2011,
          2011,
          2011,
          2011,
          2011,
          2011,
          2011,
          2011,
          2012,
          2012,
          2012,
          2012,
          2012,
          2012,
          2012,
          2012,
          2012,
          2012,
          2012,
          2012,
          2012,
          2012,
          2012,
          2012,
          2013,
          2013,
          2013,
          2013,
          2013,
          2013,
          2013,
          2013,
          2013,
          2013,
          2013,
          2013,
          2013,
          2013,
          2013,
          2013,
          2014,
          2014,
          2014,
          2014,
          2014,
          2014,
          2014,
          2014,
          2014,
          2014,
          2014,
          2014,
          2014,
          2014,
          2014,
          2014,
          2015,
          2015,
          2015,
          2015,
          2015,
          2015,
          2015,
          2015,
          2015,
          2015,
          2015,
          2015,
          2015,
          2015,
          2015,
          2015,
          2015,
          2016,
          2016,
          2016,
          2016,
          2016,
          2016,
          2016,
          2016,
          2016,
          2016,
          2016,
          2016,
          2016,
          2016,
          2016,
          2016,
          2016,
          2017,
          2017,
          2017,
          2017,
          2017,
          2017,
          2017,
          2017,
          2017,
          2017,
          2018,
          2018,
          2018,
          2018,
          2018,
          2018,
          2018,
          2018,
          2018,
          2018,
          2019,
          2019,
          2019,
          2019,
          2019,
          2019,
          2019,
          2019,
          2019,
          2019,
          2020,
          2020,
          2020,
          2020,
          2020,
          2020,
          2020,
          2020,
          2020
         ],
         "y": [
          0.5898268398268398,
          0.6016709956709957,
          0.4010606581814013,
          0.6059281045751633,
          0.5332422887283569,
          0.5908484848484848,
          0.5499471405787195,
          0.5479547070290104,
          0.687293099057805,
          0.572325105358218,
          0.37925974025974024,
          0.5970239651416122,
          0.7335627705627705,
          0.29978213507625273,
          0.5471471861471862,
          0.5412467532467532,
          0.4134199134199134,
          0.4776315789473684,
          0.6722399873856828,
          0.5143376623376623,
          0.6675941558441558,
          0.5261558724499901,
          0.457436876504988,
          0.5946396318912875,
          0.4530844155844156,
          0.6127027417027416,
          0.6368377192982456,
          0.430971883350761,
          0.6394068781224584,
          0.549308186911128,
          0.39772408650261,
          0.46490150212131637,
          0.5787309182046024,
          0.599271669517919,
          0.32985413285373805,
          0.6171196353315559,
          0.498017316017316,
          0.26001819313584024,
          0.6874458874458874,
          0.5635844155844156,
          0.31876956816575047,
          0.5232385016595543,
          0.6261622807017544,
          0.3678947368421053,
          0.6081341991341991,
          0.6279801324503311,
          0.2532851167654235,
          0.5821601731601732,
          0.5930281954887218,
          0.25614891209008855,
          0.6211818181818182,
          0.6256260716407775,
          0.2982683982683983,
          0.6291681291681291,
          0.5002604237867396,
          0.27242951750236516,
          0.6350425543954955,
          0.4657101901366607,
          0.5383506493506494,
          0.4657564935064935,
          0.5804084259966613,
          0.47095790115924346,
          0.45968421052631586,
          0.44845598845598844,
          0.5239121466768526,
          0.4541167982344453,
          0.4422077922077922,
          0.4370779220779221,
          0.5048008658008658,
          0.39239935064935066,
          0.37956883116883117,
          0.5253636363636364,
          0.5437086935132476,
          0.39602768284347234,
          0.34683116883116877,
          0.426,
          0.39657662337662336,
          0.5973419913419913,
          0.4781298701298701,
          0.3887987012987013,
          0.4953116883116883,
          0.5166666666666667,
          0.4383792207792208,
          0.6563160173160173,
          0.5071590909090908,
          0.4680491893727188,
          0.5291136363636364,
          0.594561038961039,
          0.4761904761904762,
          0.4909318181818182,
          0.42432142857142857,
          0.5443993506493506,
          0.5850563487467946,
          0.4205238095238095,
          0.47923750106103047,
          0.4214577922077922,
          0.5563116883116883,
          0.5593714285714285,
          0.5536406926406926,
          0.5106732026143791,
          0.41467857142857145,
          0.573224025974026,
          0.442806347295089,
          0.5193593073593074,
          0.46839826839826837,
          0.4661006493506494,
          0.5962824675324675,
          0.5647974025974026,
          0.48472727272727273,
          0.472008658008658,
          0.4785529029793736,
          0.46924675324675325,
          0.4833428571428572,
          0.49500865800865795,
          0.5077467532467532,
          0.5457597402597403,
          0.5498155844155844,
          0.5663939393939393,
          0.4081461038961039,
          0.5435876623376623,
          0.5049688311688312,
          0.5402337662337663,
          0.5024642857142857,
          0.41682142857142856,
          0.5286796536796537,
          0.5901363636363637,
          0.577051948051948,
          0.5394772727272727,
          0.3809123376623377,
          0.3547008547008547,
          0.5193538961038962,
          0.5146926406926408,
          0.45238636363636364,
          0.4613668831168831,
          0.5166168831168831,
          0.43468181818181817,
          0.595,
          0.4778071722516167,
          0.4313468654801988,
          0.5146499118165785,
          0.566140937323546,
          0.5297813051146385,
          0.566,
          0.47142857142857136,
          0.45754920634920637,
          0.5168804347826087,
          0.43500920314253644,
          0.46680423280423283,
          0.643,
          0.4700165631469979,
          0.6151406525573192,
          0.40444929453262785,
          0.5427787439613526,
          0.45351054366996396,
          0.37634567901234567,
          0.3158930041152263,
          0.49219576719576724,
          0.4863399470899471,
          0.48106569664903,
          0.529,
          0.3654262198706643,
          0.4989670781893005,
          0.4249053497942387,
          0.45257201646090534,
          0.5398946208112875,
          0.46445282186948855,
          0.5664413580246913,
          0.3882774838330394,
          0.5243167701863354,
          0.44536625514403294,
          0.40656378600823045,
          0.4951481481481481,
          0.44582292768959436,
          0.41601675485008816,
          0.5348549382716049,
          0.3547220529447765,
          0.6733456790123457,
          0.39784696016771487,
          0.4117695473251029,
          0.48991945914168133,
          0.5134939345142244,
          0.46311067019400354,
          0.6541543209876544,
          0.48142651381540275,
          0.574724279835391,
          0.4553498964803313,
          0.4093333333333333,
          0.5386213991769547,
          0.4533062395729062,
          0.43091683350016685,
          0.5942109442776109,
          0.47450639528417304,
          0.5724983316649984,
          0.4255136803470137,
          0.3375640084528973,
          0.4852422360248447,
          0.5293580246913581,
          0.5015562053281352,
          0.39640454840805717,
          0.5149415204678363,
          0.5516961663417803,
          0.5642025124539745,
          0.5881086741276164,
          0.36801169590643273,
          0.2924559237600173,
          0.5746213991769548,
          0.41371193415637864,
          0.5334509421702404,
          0.5014605588044184,
          0.3840452674897119,
          0.5692425276153347,
          0.49131663942464854,
          0.5706460905349794,
          0.52490329218107,
          0.3702750898986597,
          0.4161626597357591,
          0.45769958847736625,
          0.49439094650205767,
          0.646153529597974,
          0.21556410256410255,
          0.5504410256410257,
          0.4311234567901234,
          0.42469491927825265,
          0.5509791073124407,
          0.5358247863247864,
          0.49112060778727445,
          0.4001386514719848,
          0.4323320671098449,
          0.5170754716981132,
          0.5051818181818182,
          0.6898982630272953,
          0.2607094017094017,
          0.5292131502905696,
          0.5218461538461538,
          0.5173397435897436,
          0.46435947063689,
          0.4914529914529915,
          0.5705188861317894,
          0.25013461538461534,
          0.579562724014337,
          0.4656406274884536,
          0.6287429566318455,
          0.5431196581196581,
          0.4730062100004129,
          0.4544238683127572,
          0.5242625830959164,
          0.5192996018474278,
          0.6104529914529914,
          0.4032220267272027,
          0.4026576448243115,
          0.5393611902500791,
          0.3799563152896486,
          0.6390617283950617,
          0.5504188034188034,
          0.4584096866096866,
          0.4164362139917695,
          0.45105982905982905,
          0.4979413105413105,
          0.5050148781259892,
          0.41072351105684435,
          0.512463200379867,
          0.5507280785058563,
          0.37028726708074533,
          0.58425,
          0.5815,
          0.39406029445594665,
          0.43628511530398323,
          0.3962476415094339,
          0.3687427983539095,
          0.511241975308642,
          0.5408291404612159,
          0.4191318342151676,
          0.5038410493827161,
          0.6303095238095238,
          0.4186666666666667,
          0.38339969135802465,
          0.5497818930041153,
          0.36133333333333334,
          0.4594956981826547,
          0.558811320754717,
          0.4376568322981366,
          0.35418518518518516,
          0.5735802469135802,
          0.5318971193415637,
          0.4206324415160893,
          0.5392391975308641,
          0.573133744855967,
          0.4788333333333333,
          0.4503858024691358,
          0.5349948240165632,
          0.38099999999999995,
          0.5023111111111112,
          0.4266234472049689,
          0.3871975308641975,
          0.5585876543209877,
          0.4840797101449275,
          0.4367636684303351,
          0.5628641975308641,
          0.5535308641975308,
          0.44168724279835386,
          0.49333333333333335,
          0.4937314814814815,
          0.5329539877300613,
          0.4289296219615061,
          0.3937405660377359,
          0.433716049382716,
          0.5639866255144033,
          0.4022057613168724,
          0.46412919141753495,
          0.5635138888888889,
          0.5780279503105591,
          0.5156666666666666,
          0.45716666666666667,
          0.4775,
          0.61675,
          0.46071543209876537,
          0.5057018633540372,
          0.28386257763975153,
          0.5641090534979424,
          0.43139094650205756,
          0.4905198412698413,
          0.6066296296296296,
          0.6016460905349794,
          0.5531934156378601,
          0.467,
          0.517151397515528,
          0.6165833333333334,
          0.44891234567901234,
          0.5075833333333334,
          0.4156296296296296,
          0.568902862985685,
          0.4970869565217391,
          0.44598324514991183,
          0.6669320987654321,
          0.4834485596707819,
          0.34306584362139914,
          0.3961666666666666,
          0.4738993710691824,
          0.5922654320987655,
          0.4111732002198205,
          0.3336181229773463,
          0.4409896788990826,
          0.5020378787878788,
          0.4172155963302752,
          0.5064943030837232,
          0.5989754672897196,
          0.44199346405228757,
          0.47088990825688076,
          0.44966666666666666,
          0.5431275720164609,
          0.5899609053497943,
          0.40733086419753084,
          0.4018271604938272,
          0.4174614197530864,
          0.45736831275720163,
          0.4629567901234568,
          0.5284841269841271,
          0.5375956790123457,
          0.5243395061728395,
          0.49937860082304525,
          0.5753333333333334,
          0.4897366255144033,
          0.6208271604938271,
          0.4931765432098766,
          0.44536625514403294,
          0.49785030864197527,
          0.47703806584362135,
          0.4773662551440329,
          0.45342592592592595,
          0.5287638888888889,
          0.4561728395061728,
          0.4817901234567901,
          0.5964999999999999,
          0.38627572016460904,
          0.6371213991769548,
          0.5032126830764512,
          0.40498765432098766,
          0.4678688271604938,
          0.4953590534979424,
          0.3918333333333333,
          0.5052275132275132,
          0.5407500000000001,
          0.4086543209876543,
          0.5282633744855967,
          0.592,
          0.4224691358024691,
          0.589,
          0.5563904455179818,
          0.40812345679012346,
          0.4645597826086957,
          0.5575699588477366,
          0.40860288065843625,
          0.5179175348078039,
          0.5556157407407407,
          0.3640124223602485,
          0.44493004115226337,
          0.5586666666666666,
          0.5370683229813664,
          0.5908540372670807,
          0.5464888888888889,
          0.5488395061728395,
          0.42413425925925924,
          0.4253528806584362,
          0.49209053497942384,
          0.5646746031746032,
          0.5224153726708074,
          0.3983539094650206,
          0.5048600823045267,
          0.629,
          0.4128571428571428,
          0.5546604938271604,
          0.5305716662832605,
          0.5185144032921811,
          0.48898456790123457,
          0.4556862139917695,
          0.47756378600823046,
          0.4632548500881834,
          0.49370679012345675,
          0.467275720164609,
          0.5394938271604938,
          0.557,
          0.42816666666666664,
          0.5371275720164609,
          0.5228604861590369,
          0.6004938271604938,
          0.5184274691358024,
          0.48497515527950313,
          0.4957427983539095,
          0.5543500443655723,
          0.5161816770186336,
          0.4314166666666666,
          0.5194534161490684,
          0.467,
          0.3605833333333333,
          0.5362818930041152,
          0.4772291005291005,
          0.5188724279835392,
          0.4867993827160494,
          0.533875,
          0.4310817901234568,
          0.4797377666042263,
          0.549395061728395,
          0.5065967078189301,
          0.46287242798353906,
          0.5051666666666667,
          0.41274485596707816,
          0.6004032921810699,
          0.600011111111111,
          0.3551028806584362,
          0.45566358024691356,
          0.45481069958847736,
          0.40894753086419755,
          0.49668694885361553,
          0.5030771604938271,
          0.5164732510288066,
          0.5127695473251029,
          0.48033333333333333,
          0.556082304526749,
          0.5635061728395062,
          0.6271574074074074,
          0.47395061728395066,
          0.5696296296296296,
          0.4433456790123456,
          0.40172993827160497,
          0.47157606778621275,
          0.4864953703703704,
          0.5184794238683127,
          0.5077818930041152,
          0.5475,
          0.5013127572016461,
          0.4952057613168724,
          0.4940691358024691,
          0.5220452674897119,
          0.45036574074074076,
          0.47756481481481483,
          0.4688888888888889,
          0.47436860670194003,
          0.4592746913580247,
          0.5893641975308642,
          0.39702057613168723,
          0.46449999999999997,
          0.5706584362139918,
          0.49699000587889475,
          0.5534578483245151,
          0.49337860082304524,
          0.48830379188712525,
          0.41804761904761906,
          0.418460758377425,
          0.524479969765684,
          0.4580842151675485,
          0.5642098765432099,
          0.549724279835391,
          0.3516349206349206,
          0.5154970760233918,
          0.46552173913043476,
          0.5253668773704172,
          0.5986902654867257,
          0.5630000000000001,
          0.4781221532091097,
          0.4267000835421888,
          0.45000884955752213,
          0.5375448196977907,
          0.4043079710144928,
          0.5795739348370927,
          0.5025,
          0.3027619047619048,
          0.5830000000000001,
          0.5205740740740741,
          0.5840333333333334,
          0.5268148148148147,
          0.4737222222222222,
          0.5725416666666667,
          0.47933333333333333,
          0.401962962962963,
          0.41037301587301583,
          0.47687500000000005,
          0.5649814814814814,
          0.6082758620689656,
          0.3607962962962963,
          0.4364444444444444,
          0.4878641975308642,
          0.3984987453578239,
          0.5521264077085215,
          0.4116910569105691,
          0.5138145137006926,
          0.47420641373080397,
          0.5108271604938271,
          0.41535221749042883,
          0.4638401836796146,
          0.5577260865201245,
          0.5536501035196687,
          0.4124747565994178,
          0.5252032520325204,
          0.5571522633744855,
          0.41251821740439626,
          0.4674563285398209,
          0.40145528455284546,
          0.4912672387834989,
          0.3997788818628927,
          0.5105843621399176,
          0.5279822342667871,
          0.43813339355615777,
          0.5463563183779986,
          0.5998518518518519,
          0.3433298203352404,
          0.4818130081300813,
          0.716440329218107,
          0.47450366355515405,
          0.38436561165884325,
          0.5341869918699187,
          0.4577049834387233,
          0.3897933855264479,
          0.6233662551440329,
          0.529663612509141,
          0.43078952122854564,
          0.4505769346582355,
          0.4906832298136646,
          0.36540198735320684,
          0.4563545116932651,
          0.4076016260162601,
          0.42993415637860083,
          0.49428555655926926,
          0.3630154585631432,
          0.37125514403292187,
          0.536650406504065,
          0.4912404181184669,
          0.5297587574023889,
          0.5429166666666666,
          0.4918788924806182,
          0.4593820385426076,
          0.4409622279452608,
          0.5332181069958848,
          0.4485444143330322,
          0.5387663354411322,
          0.45234959349593495,
          0.32803786510087324,
          0.4187914282846532,
          0.37721866907557966,
          0.3698518518518519,
          0.4944634146341464,
          0.5065050436615477,
          0.4592456589380709,
          0.5623086419753086,
          0.5068701309752918,
          0.5802537639265282,
          0.4800484793736826,
          0.49124279835390955,
          0.4284262485481998,
          0.544708722272408,
          0.4228617886178862,
          0.41592442035531463,
          0.5154470534767459,
          0.4956428184281843,
          0.4512427983539095,
          0.5311219512195121,
          0.4349920957542909,
          0.5608798052795343,
          0.4381423517012948,
          0.45118242810900333,
          0.5668136103583258,
          0.5693037237779784,
          0.6093497942386831,
          0.4127996587373281,
          0.4856822242296497,
          0.4836666666666667,
          0.4709893292682927,
          0.5451547726588377,
          0.4059160493827161,
          0.40893004115226333,
          0.49467479674796744,
          0.4403915315861233,
          0.43083950617283956,
          0.4887843521027803,
          0.47448102560218147,
          0.5279727963295604,
          0.5860223829722769,
          0.4815561278594152,
          0.5000246913580247,
          0.4736277331717416,
          0.4329572417946402,
          0.44267479674796745,
          0.4138763926528154,
          0.48814804777677406,
          0.4315855465221318,
          0.38658436213991765,
          0.6066585365853658,
          0.45569948810599215,
          0.4663456790123457,
          0.49185506373582255,
          0.5844376693766937,
          0.42163826415056027,
          0.5579111713339355,
          0.38907708521529666,
          0.5500246913580247,
          0.4219710930442638,
          0.48981652112817425,
          0.3645365853658536,
          0.4605079042457091,
          0.5513127572016461,
          0.4383261668172237,
          0.41860905349794236,
          0.5273333333333333,
          0.5159525745257453,
          0.542633744855967,
          0.5052562481180367,
          0.4926887232761217,
          0.46520161741299954,
          0.5889172688949111,
          0.5552309246073827,
          0.5286296296296297,
          0.4362527394839166,
          0.4556431853759532,
          0.40149593495934965,
          0.4575185185185185,
          0.5716913580246914,
          0.5196913580246914,
          0.5104238683127572,
          0.3631275720164609,
          0.5141152263374485,
          0.4924485596707819,
          0.4633530864197531,
          0.46040329218106996,
          0.5553086419753086,
          0.5456666666666666,
          0.4479135802469136,
          0.3925075780387433,
          0.538207226738934,
          0.4471604938271605,
          0.6754471544715447,
          0.5319342065642878,
          0.5050576131687242,
          0.5685411020776875,
          0.45525180668473353,
          0.5285915171850132,
          0.5313679614573923,
          0.39395764328013655,
          0.47416049382716047,
          0.38364448459299405,
          0.536679012345679,
          0.40123253538090936,
          0.4359771906052394,
          0.6081406202950919,
          0.43743691659138817,
          0.5888641975308642,
          0.6815853658536586,
          0.5777414935260463,
          0.5405390946502058,
          0.46666972082419234,
          0.46025504366154774,
          0.46835097001763665,
          0.451418849744053,
          0.53930793937569,
          0.47073662551440326,
          0.5023309244203553,
          0.5000501856870421,
          0.4697701746461909,
          0.5300196476964769,
          0.6141399176954733,
          0.539860324007424,
          0.5183333333333334,
          0.5739268292682927,
          0.3978316772056609,
          0.5600538302277432,
          0.45372091022497524,
          0.49861566661678886,
          0.5343985460489525,
          0.5435240891297801,
          0.5789169928736324,
          0.5132714041955234,
          0.4572961959249222,
          0.40571246780790793,
          0.5416733664558868,
          0.6142537388336846,
          0.5004315762108622,
          0.4860781893004115,
          0.5993414634146341,
          0.4008896453688463,
          0.5105967078189301,
          0.5035456187895212,
          0.48863680233428103,
          0.4751949498860068,
          0.5319148599819332,
          0.4989578851689138,
          0.3330671484492622,
          0.4551990364348088,
          0.3852384071062933,
          0.5846394158386028,
          0.5693308240489813,
          0.6168638361939175,
          0.32364197530864197,
          0.5070731707317073,
          0.44439634146341467,
          0.4560452674897119,
          0.5192328472491073,
          0.40641538693164714,
          0.5395889792231255,
          0.5559413580246914,
          0.5583408611863896,
          0.5440755796446853,
          0.38618167218709226,
          0.4348656278229449,
          0.5487542155977115,
          0.5691770551038844,
          0.544102258355917,
          0.3539423868312757,
          0.5190650406504065,
          0.5408976211984342,
          0.49522633744855965,
          0.4933080824961853,
          0.36162466124661247,
          0.5120732997806169,
          0.5582000903342367,
          0.5973351400180668,
          0.457568001605942,
          0.4330731707317073,
          0.4245650658991062,
          0.6434156378600823,
          0.5098289671785606,
          0.5248030111412225,
          0.341917695473251,
          0.5040650406504065,
          0.4331439325504366,
          0.5461687242798354,
          0.5295788273755754,
          0.5563086419753086,
          0.4593091689250226,
          0.5252564631995525,
          0.43454268292682924,
          0.5365351801666165,
          0.4856567299006323,
          0.4308155174144334,
          0.5240333483890395,
          0.43519753086419755,
          0.4956995884773663,
          0.5262592592592592,
          0.4066337448559671,
          0.5187777777777778,
          0.4665185185185185,
          0.36627160493827166,
          0.5195546737213403,
          0.5139053497942386,
          0.4452685185185185,
          0.48744973544973547,
          0.446695987654321,
          0.6100823045267489,
          0.39647239263803674,
          0.5278189300411523,
          0.45459104938271605,
          0.5315514403292181,
          0.5282693967680417,
          0.47704203553146646,
          0.5362304526748971,
          0.6159349593495934,
          0.5272913279132792,
          0.5593662551440329,
          0.5175943992773261,
          0.47543621399176955,
          0.39737225233363443,
          0.40022678195035916,
          0.4519531014754592,
          0.6177203653518016,
          0.3870947505771354,
          0.5245867710528958,
          0.46675180668473354,
          0.5311124159389742,
          0.4995267489711934,
          0.5221604938271605,
          0.5080534176452876,
          0.4620351966873706,
          0.4206666666666667,
          0.4897543932737464,
          0.5312880658436213,
          0.445913924377339,
          0.4660905349794238,
          0.5288303221921108,
          0.5520174646190906,
          0.3378319783197832,
          0.5847761718357924,
          0.4928610860182676,
          0.5409759108702198,
          0.5310315417043059,
          0.44058506473953624,
          0.5617867494824016,
          0.5704230653417645,
          0.4718807531967659,
          0.45361697722567285,
          0.5879186991869919,
          0.5160403726708074,
          0.6015061728395061,
          0.44912633888243647,
          0.4778944099378882,
          0.4229030412526348,
          0.5277186088527551,
          0.4333179012345679,
          0.5859459677826592,
          0.5145762320586168,
          0.5130137508782495,
          0.5838366455886781,
          0.4799759108702198,
          0.47605939476061426,
          0.4535002509284352,
          0.5724824450466727,
          0.6450841112114825,
          0.43003216902539393,
          0.5653390545016561,
          0.6285730201746461,
          0.43967409414834885,
          0.5691657131386129,
          0.34927712536384625,
          0.5294942899156326,
          0.378638462310549,
          0.6340049652425631,
          0.5204206564287865,
          0.41617600120445647,
          0.5230074274816822,
          0.5588291672978841,
          0.5090307136404698,
          0.5139112717053096,
          0.4481003713740841,
          0.4761869694266301,
          0.30038978942584454,
          0.470562842517314,
          0.5665587674395263,
          0.4717127371273713,
          0.5047398373983739,
          0.4875037639265282,
          0.595563384522734,
          0.44914664257753684,
          0.46269841269841266,
          0.5267857142857143,
          0.3163294479520803,
          0.5254571428571428,
          0.5150821256038647,
          0.4211017740429505,
          0.44728985507246377,
          0.548792270531401,
          0.6563174603174603
         ]
        }
       ],
       "layout": {
        "shapes": [
         {
          "line": {
           "color": "white",
           "dash": "dash",
           "width": 0.5
          },
          "type": "line",
          "x0": 0,
          "x1": 1,
          "xref": "x domain",
          "y0": 0.5,
          "y1": 0.5,
          "yref": "y"
         }
        ],
        "template": {
         "data": {
          "bar": [
           {
            "error_x": {
             "color": "#f2f5fa"
            },
            "error_y": {
             "color": "#f2f5fa"
            },
            "marker": {
             "line": {
              "color": "rgb(17,17,17)",
              "width": 0.5
             },
             "pattern": {
              "fillmode": "overlay",
              "size": 10,
              "solidity": 0.2
             }
            },
            "type": "bar"
           }
          ],
          "barpolar": [
           {
            "marker": {
             "line": {
              "color": "rgb(17,17,17)",
              "width": 0.5
             },
             "pattern": {
              "fillmode": "overlay",
              "size": 10,
              "solidity": 0.2
             }
            },
            "type": "barpolar"
           }
          ],
          "carpet": [
           {
            "aaxis": {
             "endlinecolor": "#A2B1C6",
             "gridcolor": "#506784",
             "linecolor": "#506784",
             "minorgridcolor": "#506784",
             "startlinecolor": "#A2B1C6"
            },
            "baxis": {
             "endlinecolor": "#A2B1C6",
             "gridcolor": "#506784",
             "linecolor": "#506784",
             "minorgridcolor": "#506784",
             "startlinecolor": "#A2B1C6"
            },
            "type": "carpet"
           }
          ],
          "choropleth": [
           {
            "colorbar": {
             "outlinewidth": 0,
             "ticks": ""
            },
            "type": "choropleth"
           }
          ],
          "contour": [
           {
            "colorbar": {
             "outlinewidth": 0,
             "ticks": ""
            },
            "colorscale": [
             [
              0,
              "#0d0887"
             ],
             [
              0.1111111111111111,
              "#46039f"
             ],
             [
              0.2222222222222222,
              "#7201a8"
             ],
             [
              0.3333333333333333,
              "#9c179e"
             ],
             [
              0.4444444444444444,
              "#bd3786"
             ],
             [
              0.5555555555555556,
              "#d8576b"
             ],
             [
              0.6666666666666666,
              "#ed7953"
             ],
             [
              0.7777777777777778,
              "#fb9f3a"
             ],
             [
              0.8888888888888888,
              "#fdca26"
             ],
             [
              1,
              "#f0f921"
             ]
            ],
            "type": "contour"
           }
          ],
          "contourcarpet": [
           {
            "colorbar": {
             "outlinewidth": 0,
             "ticks": ""
            },
            "type": "contourcarpet"
           }
          ],
          "heatmap": [
           {
            "colorbar": {
             "outlinewidth": 0,
             "ticks": ""
            },
            "colorscale": [
             [
              0,
              "#0d0887"
             ],
             [
              0.1111111111111111,
              "#46039f"
             ],
             [
              0.2222222222222222,
              "#7201a8"
             ],
             [
              0.3333333333333333,
              "#9c179e"
             ],
             [
              0.4444444444444444,
              "#bd3786"
             ],
             [
              0.5555555555555556,
              "#d8576b"
             ],
             [
              0.6666666666666666,
              "#ed7953"
             ],
             [
              0.7777777777777778,
              "#fb9f3a"
             ],
             [
              0.8888888888888888,
              "#fdca26"
             ],
             [
              1,
              "#f0f921"
             ]
            ],
            "type": "heatmap"
           }
          ],
          "heatmapgl": [
           {
            "colorbar": {
             "outlinewidth": 0,
             "ticks": ""
            },
            "colorscale": [
             [
              0,
              "#0d0887"
             ],
             [
              0.1111111111111111,
              "#46039f"
             ],
             [
              0.2222222222222222,
              "#7201a8"
             ],
             [
              0.3333333333333333,
              "#9c179e"
             ],
             [
              0.4444444444444444,
              "#bd3786"
             ],
             [
              0.5555555555555556,
              "#d8576b"
             ],
             [
              0.6666666666666666,
              "#ed7953"
             ],
             [
              0.7777777777777778,
              "#fb9f3a"
             ],
             [
              0.8888888888888888,
              "#fdca26"
             ],
             [
              1,
              "#f0f921"
             ]
            ],
            "type": "heatmapgl"
           }
          ],
          "histogram": [
           {
            "marker": {
             "pattern": {
              "fillmode": "overlay",
              "size": 10,
              "solidity": 0.2
             }
            },
            "type": "histogram"
           }
          ],
          "histogram2d": [
           {
            "colorbar": {
             "outlinewidth": 0,
             "ticks": ""
            },
            "colorscale": [
             [
              0,
              "#0d0887"
             ],
             [
              0.1111111111111111,
              "#46039f"
             ],
             [
              0.2222222222222222,
              "#7201a8"
             ],
             [
              0.3333333333333333,
              "#9c179e"
             ],
             [
              0.4444444444444444,
              "#bd3786"
             ],
             [
              0.5555555555555556,
              "#d8576b"
             ],
             [
              0.6666666666666666,
              "#ed7953"
             ],
             [
              0.7777777777777778,
              "#fb9f3a"
             ],
             [
              0.8888888888888888,
              "#fdca26"
             ],
             [
              1,
              "#f0f921"
             ]
            ],
            "type": "histogram2d"
           }
          ],
          "histogram2dcontour": [
           {
            "colorbar": {
             "outlinewidth": 0,
             "ticks": ""
            },
            "colorscale": [
             [
              0,
              "#0d0887"
             ],
             [
              0.1111111111111111,
              "#46039f"
             ],
             [
              0.2222222222222222,
              "#7201a8"
             ],
             [
              0.3333333333333333,
              "#9c179e"
             ],
             [
              0.4444444444444444,
              "#bd3786"
             ],
             [
              0.5555555555555556,
              "#d8576b"
             ],
             [
              0.6666666666666666,
              "#ed7953"
             ],
             [
              0.7777777777777778,
              "#fb9f3a"
             ],
             [
              0.8888888888888888,
              "#fdca26"
             ],
             [
              1,
              "#f0f921"
             ]
            ],
            "type": "histogram2dcontour"
           }
          ],
          "mesh3d": [
           {
            "colorbar": {
             "outlinewidth": 0,
             "ticks": ""
            },
            "type": "mesh3d"
           }
          ],
          "parcoords": [
           {
            "line": {
             "colorbar": {
              "outlinewidth": 0,
              "ticks": ""
             }
            },
            "type": "parcoords"
           }
          ],
          "pie": [
           {
            "automargin": true,
            "type": "pie"
           }
          ],
          "scatter": [
           {
            "marker": {
             "line": {
              "color": "#283442"
             }
            },
            "type": "scatter"
           }
          ],
          "scatter3d": [
           {
            "line": {
             "colorbar": {
              "outlinewidth": 0,
              "ticks": ""
             }
            },
            "marker": {
             "colorbar": {
              "outlinewidth": 0,
              "ticks": ""
             }
            },
            "type": "scatter3d"
           }
          ],
          "scattercarpet": [
           {
            "marker": {
             "colorbar": {
              "outlinewidth": 0,
              "ticks": ""
             }
            },
            "type": "scattercarpet"
           }
          ],
          "scattergeo": [
           {
            "marker": {
             "colorbar": {
              "outlinewidth": 0,
              "ticks": ""
             }
            },
            "type": "scattergeo"
           }
          ],
          "scattergl": [
           {
            "marker": {
             "line": {
              "color": "#283442"
             }
            },
            "type": "scattergl"
           }
          ],
          "scattermapbox": [
           {
            "marker": {
             "colorbar": {
              "outlinewidth": 0,
              "ticks": ""
             }
            },
            "type": "scattermapbox"
           }
          ],
          "scatterpolar": [
           {
            "marker": {
             "colorbar": {
              "outlinewidth": 0,
              "ticks": ""
             }
            },
            "type": "scatterpolar"
           }
          ],
          "scatterpolargl": [
           {
            "marker": {
             "colorbar": {
              "outlinewidth": 0,
              "ticks": ""
             }
            },
            "type": "scatterpolargl"
           }
          ],
          "scatterternary": [
           {
            "marker": {
             "colorbar": {
              "outlinewidth": 0,
              "ticks": ""
             }
            },
            "type": "scatterternary"
           }
          ],
          "surface": [
           {
            "colorbar": {
             "outlinewidth": 0,
             "ticks": ""
            },
            "colorscale": [
             [
              0,
              "#0d0887"
             ],
             [
              0.1111111111111111,
              "#46039f"
             ],
             [
              0.2222222222222222,
              "#7201a8"
             ],
             [
              0.3333333333333333,
              "#9c179e"
             ],
             [
              0.4444444444444444,
              "#bd3786"
             ],
             [
              0.5555555555555556,
              "#d8576b"
             ],
             [
              0.6666666666666666,
              "#ed7953"
             ],
             [
              0.7777777777777778,
              "#fb9f3a"
             ],
             [
              0.8888888888888888,
              "#fdca26"
             ],
             [
              1,
              "#f0f921"
             ]
            ],
            "type": "surface"
           }
          ],
          "table": [
           {
            "cells": {
             "fill": {
              "color": "#506784"
             },
             "line": {
              "color": "rgb(17,17,17)"
             }
            },
            "header": {
             "fill": {
              "color": "#2a3f5f"
             },
             "line": {
              "color": "rgb(17,17,17)"
             }
            },
            "type": "table"
           }
          ]
         },
         "layout": {
          "annotationdefaults": {
           "arrowcolor": "#f2f5fa",
           "arrowhead": 0,
           "arrowwidth": 1
          },
          "autotypenumbers": "strict",
          "coloraxis": {
           "colorbar": {
            "outlinewidth": 0,
            "ticks": ""
           }
          },
          "colorscale": {
           "diverging": [
            [
             0,
             "#8e0152"
            ],
            [
             0.1,
             "#c51b7d"
            ],
            [
             0.2,
             "#de77ae"
            ],
            [
             0.3,
             "#f1b6da"
            ],
            [
             0.4,
             "#fde0ef"
            ],
            [
             0.5,
             "#f7f7f7"
            ],
            [
             0.6,
             "#e6f5d0"
            ],
            [
             0.7,
             "#b8e186"
            ],
            [
             0.8,
             "#7fbc41"
            ],
            [
             0.9,
             "#4d9221"
            ],
            [
             1,
             "#276419"
            ]
           ],
           "sequential": [
            [
             0,
             "#0d0887"
            ],
            [
             0.1111111111111111,
             "#46039f"
            ],
            [
             0.2222222222222222,
             "#7201a8"
            ],
            [
             0.3333333333333333,
             "#9c179e"
            ],
            [
             0.4444444444444444,
             "#bd3786"
            ],
            [
             0.5555555555555556,
             "#d8576b"
            ],
            [
             0.6666666666666666,
             "#ed7953"
            ],
            [
             0.7777777777777778,
             "#fb9f3a"
            ],
            [
             0.8888888888888888,
             "#fdca26"
            ],
            [
             1,
             "#f0f921"
            ]
           ],
           "sequentialminus": [
            [
             0,
             "#0d0887"
            ],
            [
             0.1111111111111111,
             "#46039f"
            ],
            [
             0.2222222222222222,
             "#7201a8"
            ],
            [
             0.3333333333333333,
             "#9c179e"
            ],
            [
             0.4444444444444444,
             "#bd3786"
            ],
            [
             0.5555555555555556,
             "#d8576b"
            ],
            [
             0.6666666666666666,
             "#ed7953"
            ],
            [
             0.7777777777777778,
             "#fb9f3a"
            ],
            [
             0.8888888888888888,
             "#fdca26"
            ],
            [
             1,
             "#f0f921"
            ]
           ]
          },
          "colorway": [
           "#636efa",
           "#EF553B",
           "#00cc96",
           "#ab63fa",
           "#FFA15A",
           "#19d3f3",
           "#FF6692",
           "#B6E880",
           "#FF97FF",
           "#FECB52"
          ],
          "font": {
           "color": "#f2f5fa"
          },
          "geo": {
           "bgcolor": "rgb(17,17,17)",
           "lakecolor": "rgb(17,17,17)",
           "landcolor": "rgb(17,17,17)",
           "showlakes": true,
           "showland": true,
           "subunitcolor": "#506784"
          },
          "hoverlabel": {
           "align": "left"
          },
          "hovermode": "closest",
          "mapbox": {
           "style": "dark"
          },
          "paper_bgcolor": "rgb(17,17,17)",
          "plot_bgcolor": "rgb(17,17,17)",
          "polar": {
           "angularaxis": {
            "gridcolor": "#506784",
            "linecolor": "#506784",
            "ticks": ""
           },
           "bgcolor": "rgb(17,17,17)",
           "radialaxis": {
            "gridcolor": "#506784",
            "linecolor": "#506784",
            "ticks": ""
           }
          },
          "scene": {
           "xaxis": {
            "backgroundcolor": "rgb(17,17,17)",
            "gridcolor": "#506784",
            "gridwidth": 2,
            "linecolor": "#506784",
            "showbackground": true,
            "ticks": "",
            "zerolinecolor": "#C8D4E3"
           },
           "yaxis": {
            "backgroundcolor": "rgb(17,17,17)",
            "gridcolor": "#506784",
            "gridwidth": 2,
            "linecolor": "#506784",
            "showbackground": true,
            "ticks": "",
            "zerolinecolor": "#C8D4E3"
           },
           "zaxis": {
            "backgroundcolor": "rgb(17,17,17)",
            "gridcolor": "#506784",
            "gridwidth": 2,
            "linecolor": "#506784",
            "showbackground": true,
            "ticks": "",
            "zerolinecolor": "#C8D4E3"
           }
          },
          "shapedefaults": {
           "line": {
            "color": "#f2f5fa"
           }
          },
          "sliderdefaults": {
           "bgcolor": "#C8D4E3",
           "bordercolor": "rgb(17,17,17)",
           "borderwidth": 1,
           "tickwidth": 0
          },
          "ternary": {
           "aaxis": {
            "gridcolor": "#506784",
            "linecolor": "#506784",
            "ticks": ""
           },
           "baxis": {
            "gridcolor": "#506784",
            "linecolor": "#506784",
            "ticks": ""
           },
           "bgcolor": "rgb(17,17,17)",
           "caxis": {
            "gridcolor": "#506784",
            "linecolor": "#506784",
            "ticks": ""
           }
          },
          "title": {
           "x": 0.05
          },
          "updatemenudefaults": {
           "bgcolor": "#506784",
           "borderwidth": 0
          },
          "xaxis": {
           "automargin": true,
           "gridcolor": "#283442",
           "linecolor": "#506784",
           "ticks": "",
           "title": {
            "standoff": 15
           },
           "zerolinecolor": "#283442",
           "zerolinewidth": 2
          },
          "yaxis": {
           "automargin": true,
           "gridcolor": "#283442",
           "linecolor": "#506784",
           "ticks": "",
           "title": {
            "standoff": 15
           },
           "zerolinecolor": "#283442",
           "zerolinewidth": 2
          }
         }
        },
        "title": {
         "text": "Average Winning Percentage for Sports Locales Over Time"
        },
        "xaxis": {
         "title": {
          "text": "Year"
         }
        },
        "yaxis": {
         "title": {
          "text": "Winning Percentage"
         }
        }
       }
      }
     },
     "metadata": {},
     "output_type": "display_data"
    }
   ],
   "source": [
    "blah = temp[temp.year>1950]\n",
    "fig = go.Figure(go.Scatter(\n",
    "    x = temp.year.tolist(),\n",
    "    y = temp.win_pct.tolist(),\n",
    "    text = temp.teams.tolist(),\n",
    "    mode=\"markers\",\n",
    "    hovertemplate =\n",
    "    '<br><b>Year</b>: %{x}<br>'+\n",
    "    '<b>Winning Pct.</b>: %{y:.2f}<br>'+\n",
    "    '%{text}' +\n",
    "    '<extra></extra>')\n",
    "    )\n",
    "fig.update_layout(\n",
    "    title=\"Average Winning Percentage for Sports Locales Over Time\",\n",
    "    xaxis_title=\"Year\",\n",
    "    yaxis_title=\"Winning Percentage\",\n",
    "    # legend_title=\"Legend Title\",\n",
    "    # font=dict(\n",
    "    #     family=\"Courier New, monospace\",\n",
    "    #     size=18,\n",
    "    #     color=\"RebeccaPurple\"\n",
    "    # )\n",
    ")\n",
    "fig.add_hline(y=.5, line_width=.5, line_dash=\"dash\", line_color=\"white\")\n",
    "fig.write_html(os.path.join(output_dir,\"season_scatter.html\"))\n",
    "fig.show()"
   ]
  },
  {
   "attachments": {},
   "cell_type": "markdown",
   "metadata": {},
   "source": [
    "Almost every season is in the .4-.6 range. The truly exceptional (and unexceptional)"
   ]
  },
  {
   "cell_type": "code",
   "execution_count": null,
   "metadata": {},
   "outputs": [],
   "source": []
  },
  {
   "cell_type": "code",
   "execution_count": 60,
   "metadata": {},
   "outputs": [
    {
     "name": "stdout",
     "output_type": "stream",
     "text": [
      "|   year | place        |   win_pct | teams                                                                                                      |\n",
      "|-------:|:-------------|----------:|:-----------------------------------------------------------------------------------------------------------|\n",
      "|   1927 | New York     |  0.733563 | New York Giants: 0.889<br>New York Giants: 0.597<br>New York Yankees: 0.714<br>                            |\n",
      "|   1998 | Atlanta      |  0.71644  | Atlanta Falcons: 0.875<br>Atlanta Braves: 0.654<br>Atlanta Hawks: 0.62<br>                                 |\n",
      "|   1972 | Boston       |  0.689898 | Boston Red Sox: 0.548<br>Boston Celtics: 0.829<br>Boston Bruins: 0.692<br>                                 |\n",
      "|   1937 | Chicago      |  0.687446 | Chicago Bears: 0.9<br>Chicago White Sox: 0.558<br>Chicago Cubs: 0.603<br>                                  |\n",
      "|   1926 | Chicago      |  0.687293 | Chicago Bears: 1.0<br>Chicago White Sox: 0.529<br>Chicago Cubs: 0.532<br>                                  |\n",
      "|   2007 | Dallas       |  0.681585 | Dallas Cowboys: 0.813<br>Dallas Mavericks: 0.622<br>Dallas Stars: 0.609<br>                                |\n",
      "|   2006 | Dallas       |  0.675447 | Dallas Cowboys: 0.563<br>Dallas Mavericks: 0.817<br>Dallas Stars: 0.646<br>                                |\n",
      "|   1966 | Philadelphia |  0.673346 | Philadelphia Eagles: 0.643<br>Philadelphia Phillies: 0.537<br>Philadelphia 76ers: 0.84<br>                 |\n",
      "|   1929 | New York     |  0.67224  | New York Giants: 0.889<br>New York Giants: 0.556<br>New York Yankees: 0.571<br>                            |\n",
      "|   1930 | New York     |  0.667594 | New York Yankees: 0.714<br>New York Giants: 0.833<br>New York Giants: 0.564<br>New York Yankees: 0.558<br> |\n"
     ]
    }
   ],
   "source": [
    "print(temp.sort_values('win_pct', ascending=False).head(10).to_markdown(index=False))"
   ]
  },
  {
   "cell_type": "code",
   "execution_count": 58,
   "metadata": {},
   "outputs": [
    {
     "name": "stdout",
     "output_type": "stream",
     "text": [
      "|   year | place        |   win_pct | teams                                                                                                                    |\n",
      "|-------:|:-------------|----------:|:-------------------------------------------------------------------------------------------------------------------------|\n",
      "|   1971 | Buffalo      |  0.215564 | Buffalo Bills: 0.071<br>Buffalo Braves: 0.268<br>Buffalo Sabres: 0.307<br>                                               |\n",
      "|   1972 | Philadelphia |  0.250135 | Philadelphia Eagles: 0.179<br>Philadelphia Phillies: 0.378<br>Philadelphia 76ers: 0.11<br>Philadelphia Flyers: 0.333<br> |\n",
      "|   1939 | Philadelphia |  0.253285 | Philadelphia Eagles: 0.1<br>Philadelphia Athletics: 0.361<br>Philadelphia Phillies: 0.298<br>                            |\n",
      "|   1940 | Philadelphia |  0.256149 | Philadelphia Eagles: 0.091<br>Philadelphia Athletics: 0.350<br>Philadelphia Phillies: 0.326<br>                          |\n",
      "|   1936 | Philadelphia |  0.260018 | Philadelphia Eagles: 0.083<br>Philadelphia Athletics: 0.346<br>Philadelphia Phillies: 0.350<br>                          |\n",
      "|   1972 | Buffalo      |  0.260709 | Buffalo Bills: 0.321<br>Buffalo Braves: 0.256<br>Buffalo Sabres: 0.205<br>                                               |\n",
      "|   1942 | Philadelphia |  0.27243  | Philadelphia Eagles: 0.182<br>Philadelphia Athletics: 0.357<br>Philadelphia Phillies: 0.278<br>                          |\n",
      "|   1979 | Detroit      |  0.283863 | Detroit Lions: 0.125<br>Detroit Tigers: 0.527<br>Detroit Pistons: 0.195<br>Detroit Red Wings: 0.287<br>                  |\n",
      "|   1969 | Pittsburgh   |  0.292456 | Pittsburgh Steelers: 0.071<br>Pittsburgh Pirates: 0.543<br>Pittsburgh Penguins: 0.263<br>                                |\n",
      "|   1941 | Philadelphia |  0.298268 | Philadelphia Eagles: 0.2<br>Philadelphia Athletics: 0.415<br>Philadelphia Phillies: 0.279<br>                            |\n"
     ]
    }
   ],
   "source": [
    "print(temp.sort_values('win_pct').head(10).to_markdown(index=False))"
   ]
  },
  {
   "attachments": {},
   "cell_type": "markdown",
   "metadata": {},
   "source": [
    "### Largest Improvements and Declines"
   ]
  },
  {
   "cell_type": "code",
   "execution_count": null,
   "metadata": {},
   "outputs": [],
   "source": []
  },
  {
   "attachments": {},
   "cell_type": "markdown",
   "metadata": {},
   "source": [
    "# Winning PCT"
   ]
  },
  {
   "cell_type": "code",
   "execution_count": 8,
   "metadata": {},
   "outputs": [
    {
     "name": "stdout",
     "output_type": "stream",
     "text": [
      "Mean win pct is 0.4883278372078791\n",
      "Std dev is 0.15160039855772944\n"
     ]
    }
   ],
   "source": [
    "fig = px.histogram(df, x=\"win_pct\", nbins=30)\n",
    "fig.update_layout(\n",
    "    title=\"Histogram of Winning Percentages\",\n",
    "    xaxis_title=\"Winning Percentage\",\n",
    "    yaxis_title=\"# Seasons\",\n",
    ")\n",
    "fig.write_image(os.path.join(output_dir,\"hist.jpeg\"))\n",
    "print(f\"Mean win pct is {df.win_pct.mean()}\")\n",
    "print(f\"Std dev is {df.win_pct.std()}\")"
   ]
  },
  {
   "attachments": {},
   "cell_type": "markdown",
   "metadata": {},
   "source": [
    "## Bokeh Deez Nuts"
   ]
  },
  {
   "cell_type": "code",
   "execution_count": 41,
   "metadata": {},
   "outputs": [],
   "source": [
    "from bokeh.layouts import column\n",
    "from bokeh.models import ColumnDataSource, CustomJS, Slider, MultiChoice\n",
    "from bokeh.plotting import figure, show\n",
    "\n",
    "x = [x*0.005 for x in range(0, 200)]\n",
    "y = x\n",
    "\n",
    "source = ColumnDataSource.from_df(df)\n",
    "\n",
    "plot = figure(width=400, height=400)\n",
    "\n",
    "plot.scatter('year', 'win_pct', source=source)\n",
    "\n",
    "options = df.place.unique().tolist()\n",
    "multi_choice = MultiChoice(value=[\"Chicago\"], options=options)\n",
    "\n",
    "callback = CustomJS(args=dict(source=source), code=\"\"\"\n",
    "    const places = cb_obj.value\n",
    "    console.log(source)\n",
    "    const new_data = source.filter(x => places.includes(x.place))\n",
    "    const x = new_data.year\n",
    "    const y = new_data.win_pct\n",
    "    source = { x, y }\n",
    "\"\"\")\n",
    "\n",
    "multi_choice.js_on_change(\"value\", callback)\n",
    "# slider = Slider(start=0.1, end=4, value=1, step=.1, title=\"power\")\n",
    "# slider.js_on_change('value', callback)\n",
    "\n",
    "layout = column(multi_choice, plot)\n",
    "show(layout)\n"
   ]
  },
  {
   "cell_type": "code",
   "execution_count": 42,
   "metadata": {},
   "outputs": [
    {
     "name": "stdout",
     "output_type": "stream",
     "text": [
      "{'index': array([   0,    1,    2, ..., 7422, 7423, 7424]), 'win_pct': array([0.        , 0.        , 0.        , ..., 0.32142857, 0.33928571,\n",
      "       0.30357143]), 'place': array(['Columbus', 'Evansville', 'Hammond', ..., 'Columbus', 'New Jersey',\n",
      "       'Anaheim'], dtype=object), 'sport': array(['NFL', 'NFL', 'NFL', ..., 'NHL', 'NHL', 'NHL'], dtype=object), 'team_name': array(['Columbus Tigers', 'Evansville Crimson Giants', 'Hammond Pros',\n",
      "       ..., 'Columbus Blue Jackets', 'New Jersey Devils', 'Anaheim Ducks'],\n",
      "      dtype=object), 'area': array(['Ohio', 'Chicago', 'Ohio', ..., 'Ohio', 'New York', 'Los Angeles'],\n",
      "      dtype=object), 'year': array([1922, 1922, 1922, ..., 2021, 2021, 2021]), 'n_teams': array([1, 1, 1, ..., 1, 1, 1])}\n"
     ]
    }
   ],
   "source": [
    "print(source)"
   ]
  },
  {
   "cell_type": "code",
   "execution_count": 36,
   "metadata": {},
   "outputs": [],
   "source": [
    "from bokeh.io import show\n",
    "from bokeh.models import CustomJS, MultiChoice\n",
    "\n",
    "OPTIONS = [\"foo\", \"bar\", \"baz\", \"quux\"]\n",
    "\n",
    "multi_choice = MultiChoice(value=[\"foo\", \"baz\"], options=OPTIONS)\n",
    "multi_choice.js_on_change(\"value\", CustomJS(code=\"\"\"\n",
    "    console.log('multi_choice: value=' + this.value, this.toString())\n",
    "\"\"\"))\n",
    "\n",
    "show(multi_choice)"
   ]
  },
  {
   "cell_type": "markdown",
   "metadata": {},
   "source": []
  }
 ],
 "metadata": {
  "kernelspec": {
   "display_name": "Python 3",
   "language": "python",
   "name": "python3"
  },
  "language_info": {
   "codemirror_mode": {
    "name": "ipython",
    "version": 3
   },
   "file_extension": ".py",
   "mimetype": "text/x-python",
   "name": "python",
   "nbconvert_exporter": "python",
   "pygments_lexer": "ipython3",
   "version": "3.11.0"
  },
  "orig_nbformat": 4,
  "vscode": {
   "interpreter": {
    "hash": "aee8b7b246df8f9039afb4144a1f6fd8d2ca17a180786b69acc140d282b71a49"
   }
  }
 },
 "nbformat": 4,
 "nbformat_minor": 2
}
