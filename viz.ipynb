{
 "cells": [
  {
   "cell_type": "code",
   "execution_count": 61,
   "metadata": {},
   "outputs": [
    {
     "data": {
      "text/html": [
       "<div>\n",
       "<style scoped>\n",
       "    .dataframe tbody tr th:only-of-type {\n",
       "        vertical-align: middle;\n",
       "    }\n",
       "\n",
       "    .dataframe tbody tr th {\n",
       "        vertical-align: top;\n",
       "    }\n",
       "\n",
       "    .dataframe thead th {\n",
       "        text-align: right;\n",
       "    }\n",
       "</style>\n",
       "<table border=\"1\" class=\"dataframe\">\n",
       "  <thead>\n",
       "    <tr style=\"text-align: right;\">\n",
       "      <th></th>\n",
       "      <th>win_pct</th>\n",
       "      <th>place</th>\n",
       "      <th>sport</th>\n",
       "      <th>team_name</th>\n",
       "      <th>area</th>\n",
       "      <th>year</th>\n",
       "      <th>n_teams</th>\n",
       "    </tr>\n",
       "  </thead>\n",
       "  <tbody>\n",
       "    <tr>\n",
       "      <th>0</th>\n",
       "      <td>0.00</td>\n",
       "      <td>Columbus</td>\n",
       "      <td>NFL</td>\n",
       "      <td>Columbus Tigers</td>\n",
       "      <td>Ohio</td>\n",
       "      <td>1922</td>\n",
       "      <td>1</td>\n",
       "    </tr>\n",
       "    <tr>\n",
       "      <th>1</th>\n",
       "      <td>0.00</td>\n",
       "      <td>Evansville</td>\n",
       "      <td>NFL</td>\n",
       "      <td>Evansville Crimson Giants</td>\n",
       "      <td>Chicago</td>\n",
       "      <td>1922</td>\n",
       "      <td>1</td>\n",
       "    </tr>\n",
       "    <tr>\n",
       "      <th>2</th>\n",
       "      <td>0.00</td>\n",
       "      <td>Hammond</td>\n",
       "      <td>NFL</td>\n",
       "      <td>Hammond Pros</td>\n",
       "      <td>Ohio</td>\n",
       "      <td>1922</td>\n",
       "      <td>1</td>\n",
       "    </tr>\n",
       "    <tr>\n",
       "      <th>3</th>\n",
       "      <td>0.00</td>\n",
       "      <td>Rochester</td>\n",
       "      <td>NFL</td>\n",
       "      <td>Rochester Jeffersons</td>\n",
       "      <td>New York</td>\n",
       "      <td>1922</td>\n",
       "      <td>1</td>\n",
       "    </tr>\n",
       "    <tr>\n",
       "      <th>4</th>\n",
       "      <td>0.25</td>\n",
       "      <td>Louisville</td>\n",
       "      <td>NFL</td>\n",
       "      <td>Louisville Colonels</td>\n",
       "      <td>Louisville</td>\n",
       "      <td>1922</td>\n",
       "      <td>1</td>\n",
       "    </tr>\n",
       "  </tbody>\n",
       "</table>\n",
       "</div>"
      ],
      "text/plain": [
       "   win_pct       place sport                  team_name        area  year  \\\n",
       "0     0.00    Columbus   NFL            Columbus Tigers        Ohio  1922   \n",
       "1     0.00  Evansville   NFL  Evansville Crimson Giants     Chicago  1922   \n",
       "2     0.00     Hammond   NFL               Hammond Pros        Ohio  1922   \n",
       "3     0.00   Rochester   NFL       Rochester Jeffersons    New York  1922   \n",
       "4     0.25  Louisville   NFL        Louisville Colonels  Louisville  1922   \n",
       "\n",
       "   n_teams  \n",
       "0        1  \n",
       "1        1  \n",
       "2        1  \n",
       "3        1  \n",
       "4        1  "
      ]
     },
     "execution_count": 61,
     "metadata": {},
     "output_type": "execute_result"
    }
   ],
   "source": [
    "import pandas as pd\n",
    "import numpy as np\n",
    "import matplotlib.pyplot as plt\n",
    "from constants import city_list, nba_teams\n",
    "import preprocessing\n",
    "import plotly.express as px \n",
    "import plotly.graph_objects as go\n",
    "import plotly.io as pio\n",
    "pio.templates.default = \"plotly_dark\"\n",
    "output_dir = \"/Users/joeschlessinger/Documents/jschless.github.io/_includes/assets/conservationofwins\"\n",
    "import os\n",
    "df = preprocessing.preprocess()\n",
    "df = df.query('year < 2021')\n",
    "df.head()"
   ]
  },
  {
   "cell_type": "markdown",
   "metadata": {},
   "source": [
    "## Chicago Case Study"
   ]
  },
  {
   "cell_type": "code",
   "execution_count": 96,
   "metadata": {},
   "outputs": [
    {
     "data": {
      "application/vnd.plotly.v1+json": {
       "config": {
        "plotlyServerURL": "https://plot.ly"
       },
       "data": [
        {
         "hovertemplate": "<br><b>Year</b>: %{x}<br><b>Winning Pct.</b>: %{y:.2f}<br>%{text}<extra></extra>",
         "text": [
          "Chicago White Sox: 0.402<br>Chicago Cubs: 0.418<br>",
          "Evansville Crimson Giants: 0.0<br>Rock Island Independents: 0.667<br>Kenosha Maroons: 0.714<br>Chicago Bears: 0.75<br>Chicago White Sox: 0.5<br>Chicago Cubs: 0.519<br>",
          "Rock Island Independents: 0.4<br>Kenosha Maroons: 0.5<br>Chicago Bears: 0.818<br>Chicago White Sox: 0.448<br>Chicago Cubs: 0.538<br>",
          "Kenosha Maroons: 0.0<br>Rock Island Independents: 0.714<br>Chicago Bears: 0.857<br>Chicago White Sox: 0.431<br>Chicago Cubs: 0.529<br>",
          "Rock Island Independents: 0.625<br>Chicago Bears: 0.818<br>Chicago White Sox: 0.512<br>Chicago Cubs: 0.441<br>",
          "Chicago Bears: 1.0<br>Chicago White Sox: 0.529<br>Chicago Cubs: 0.532<br>",
          "Chicago Bears: 0.778<br>Chicago White Sox: 0.457<br>Chicago Cubs: 0.555<br>",
          "Chicago Bears: 0.583<br>Chicago White Sox: 0.467<br>Chicago Cubs: 0.590<br>",
          "Chicago Bears: 0.4<br>Chicago White Sox: 0.388<br>Chicago Cubs: 0.644<br>",
          "Chicago Bears: 0.556<br>Chicago White Sox: 0.402<br>Chicago Cubs: 0.584<br>",
          "Chicago Bears: 0.667<br>Chicago White Sox: 0.366<br>Chicago Cubs: 0.545<br>",
          "Chicago Bears: 0.875<br>Chicago White Sox: 0.324<br>Chicago Cubs: 0.584<br>",
          "Chicago Bears: 0.833<br>Chicago White Sox: 0.446<br>Chicago Cubs: 0.558<br>",
          "Chicago Bears: 1.0<br>Chicago White Sox: 0.348<br>Chicago Cubs: 0.569<br>",
          "Chicago Bears: 0.6<br>Chicago White Sox: 0.486<br>Chicago Cubs: 0.649<br>",
          "Chicago Bears: 0.75<br>Chicago White Sox: 0.536<br>Chicago Cubs: 0.564<br>",
          "Chicago Bears: 0.9<br>Chicago White Sox: 0.558<br>Chicago Cubs: 0.603<br>",
          "Chicago Bears: 0.545<br>Chicago White Sox: 0.439<br>Chicago Cubs: 0.585<br>",
          "Chicago Bears: 0.727<br>Chicago White Sox: 0.551<br>Chicago Cubs: 0.545<br>",
          "Chicago Bears: 0.727<br>Chicago White Sox: 0.532<br>Chicago Cubs: 0.487<br>",
          "Chicago Bears: 0.909<br>Chicago White Sox: 0.5<br>Chicago Cubs: 0.454<br>",
          "Chicago Bears: 1.0<br>Chicago White Sox: 0.445<br>Chicago Cubs: 0.441<br>",
          "Chicago Bears: 0.889<br>Chicago White Sox: 0.532<br>Chicago Cubs: 0.483<br>",
          "Chicago Bears: 0.667<br>Chicago White Sox: 0.461<br>Chicago Cubs: 0.487<br>",
          "Chicago Bears: 0.3<br>Chicago White Sox: 0.476<br>Chicago Cubs: 0.636<br>",
          "Chicago Hornets: 0.0<br>Chicago Bears: 0.8<br>Chicago White Sox: 0.480<br>Chicago Cubs: 0.535<br>",
          "Chicago Hornets: 0.0<br>Chicago Bears: 0.667<br>Chicago White Sox: 0.454<br>Chicago Cubs: 0.448<br>",
          "Chicago Hornets: 0.0<br>Chicago Bears: 0.833<br>Chicago White Sox: 0.335<br>Chicago Cubs: 0.415<br>",
          "Chicago Hornets: 0.0<br>Chicago Bears: 0.75<br>Chicago White Sox: 0.409<br>Chicago Cubs: 0.396<br>",
          "Chicago Bears: 0.75<br>Chicago White Sox: 0.389<br>Chicago Cubs: 0.418<br>Chicago Blackhawks: 0.314<br>",
          "Chicago Bears: 0.583<br>Chicago White Sox: 0.525<br>Chicago Cubs: 0.402<br>Chicago Blackhawks: 0.185<br>",
          "Chicago Bears: 0.417<br>Chicago White Sox: 0.525<br>Chicago Cubs: 0.5<br>Chicago Blackhawks: 0.242<br>",
          "Chicago Bears: 0.273<br>Chicago White Sox: 0.577<br>Chicago Cubs: 0.422<br>Chicago Blackhawks: 0.385<br>",
          "Chicago Bears: 0.667<br>Chicago White Sox: 0.610<br>Chicago Cubs: 0.415<br>Chicago Blackhawks: 0.171<br>",
          "Chicago Bears: 0.667<br>Chicago White Sox: 0.590<br>Chicago Cubs: 0.470<br>Chicago Blackhawks: 0.185<br>",
          "Chicago Bears: 0.818<br>Chicago White Sox: 0.551<br>Chicago Cubs: 0.389<br>Chicago Blackhawks: 0.271<br>",
          "Chicago Bears: 0.417<br>Chicago White Sox: 0.584<br>Chicago Cubs: 0.402<br>Chicago Blackhawks: 0.228<br>",
          "Chicago Bears: 0.667<br>Chicago White Sox: 0.532<br>Chicago Cubs: 0.467<br>Chicago Blackhawks: 0.342<br>",
          "Chicago Bears: 0.667<br>Chicago White Sox: 0.610<br>Chicago Cubs: 0.480<br>Chicago Blackhawks: 0.4<br>",
          "Chicago Bears: 0.455<br>Chicago White Sox: 0.564<br>Chicago Cubs: 0.389<br>Chicago Blackhawks: 0.4<br>",
          "Chicago Bears: 0.571<br>Chicago White Sox: 0.530<br>Chicago Cubs: 0.415<br>Chicago Packers: 0.225<br>Chicago Blackhawks: 0.414<br>",
          "Chicago Bears: 0.643<br>Chicago White Sox: 0.524<br>Chicago Cubs: 0.364<br>Chicago Zephyrs: 0.313<br>Chicago Blackhawks: 0.442<br>",
          "Chicago Bears: 0.917<br>Chicago White Sox: 0.580<br>Chicago Cubs: 0.506<br>Chicago Blackhawks: 0.457<br>",
          "Chicago Bears: 0.357<br>Chicago White Sox: 0.604<br>Chicago Cubs: 0.469<br>Chicago Blackhawks: 0.514<br>",
          "Chicago Bears: 0.643<br>Chicago White Sox: 0.586<br>Chicago Cubs: 0.444<br>Chicago Blackhawks: 0.485<br>",
          "Chicago Bears: 0.417<br>Chicago White Sox: 0.512<br>Chicago Cubs: 0.364<br>Chicago Bulls: 0.407<br>Chicago Blackhawks: 0.528<br>",
          "Chicago Bears: 0.538<br>Chicago White Sox: 0.549<br>Chicago Cubs: 0.540<br>Chicago Bulls: 0.354<br>Chicago Blackhawks: 0.585<br>",
          "Chicago Bears: 0.5<br>Chicago White Sox: 0.413<br>Chicago Cubs: 0.518<br>Chicago Bulls: 0.402<br>Chicago Blackhawks: 0.432<br>",
          "Chicago Bears: 0.071<br>Chicago White Sox: 0.419<br>Chicago Cubs: 0.567<br>Chicago Bulls: 0.476<br>Chicago Blackhawks: 0.447<br>",
          "Chicago Bears: 0.429<br>Chicago White Sox: 0.345<br>Chicago Cubs: 0.518<br>Chicago Bulls: 0.622<br>Chicago Blackhawks: 0.592<br>",
          "Chicago Bears: 0.429<br>Chicago White Sox: 0.487<br>Chicago Cubs: 0.512<br>Chicago Bulls: 0.695<br>Chicago Blackhawks: 0.628<br>",
          "Chicago Bears: 0.321<br>Chicago White Sox: 0.564<br>Chicago Cubs: 0.548<br>Chicago Bulls: 0.622<br>Chicago Blackhawks: 0.589<br>",
          "Chicago Bears: 0.214<br>Chicago White Sox: 0.475<br>Chicago Cubs: 0.478<br>Chicago Bulls: 0.659<br>Chicago Blackhawks: 0.538<br>",
          "Chicago Bears: 0.286<br>Chicago White Sox: 0.5<br>Chicago Cubs: 0.407<br>Chicago Bulls: 0.573<br>Chicago Blackhawks: 0.525<br>",
          "Chicago Bears: 0.286<br>Chicago White Sox: 0.465<br>Chicago Cubs: 0.462<br>Chicago Bulls: 0.293<br>Chicago Blackhawks: 0.462<br>",
          "Chicago Bears: 0.5<br>Chicago White Sox: 0.397<br>Chicago Cubs: 0.462<br>Chicago Bulls: 0.537<br>Chicago Blackhawks: 0.4<br>",
          "Chicago Bears: 0.643<br>Chicago White Sox: 0.555<br>Chicago Cubs: 0.5<br>Chicago Bulls: 0.488<br>Chicago Blackhawks: 0.325<br>",
          "Chicago Bears: 0.438<br>Chicago White Sox: 0.440<br>Chicago Cubs: 0.487<br>Chicago Bulls: 0.378<br>Chicago Blackhawks: 0.4<br>",
          "Chicago Bears: 0.625<br>Chicago White Sox: 0.456<br>Chicago Cubs: 0.493<br>Chicago Bulls: 0.366<br>Chicago Blackhawks: 0.362<br>",
          "Chicago Bears: 0.438<br>Chicago White Sox: 0.437<br>Chicago Cubs: 0.395<br>Chicago Bulls: 0.549<br>Chicago Blackhawks: 0.425<br>",
          "Chicago Bears: 0.375<br>Chicago White Sox: 0.509<br>Chicago Cubs: 0.368<br>Chicago Bulls: 0.415<br>Chicago Blackhawks: 0.387<br>",
          "Chicago Bears: 0.333<br>Chicago White Sox: 0.537<br>Chicago Cubs: 0.450<br>Chicago Bulls: 0.341<br>Chicago Blackhawks: 0.375<br>",
          "Chicago Bears: 0.5<br>Chicago White Sox: 0.611<br>Chicago Cubs: 0.438<br>Chicago Bulls: 0.329<br>Chicago Blackhawks: 0.587<br>",
          "Chicago Bears: 0.625<br>Chicago White Sox: 0.456<br>Chicago Cubs: 0.596<br>Chicago Bulls: 0.463<br>Chicago Blackhawks: 0.375<br>",
          "Chicago Bears: 0.938<br>Chicago White Sox: 0.524<br>Chicago Cubs: 0.478<br>Chicago Bulls: 0.366<br>Chicago Blackhawks: 0.475<br>",
          "Chicago Bears: 0.875<br>Chicago White Sox: 0.444<br>Chicago Cubs: 0.437<br>Chicago Bulls: 0.488<br>Chicago Blackhawks: 0.487<br>",
          "Chicago Bears: 0.733<br>Chicago White Sox: 0.475<br>Chicago Cubs: 0.472<br>Chicago Bulls: 0.61<br>Chicago Blackhawks: 0.362<br>",
          "Chicago Bears: 0.75<br>Chicago White Sox: 0.440<br>Chicago Cubs: 0.475<br>Chicago Bulls: 0.573<br>Chicago Blackhawks: 0.375<br>",
          "Chicago Bears: 0.375<br>Chicago White Sox: 0.428<br>Chicago Cubs: 0.574<br>Chicago Bulls: 0.671<br>Chicago Blackhawks: 0.337<br>",
          "Chicago Bears: 0.688<br>Chicago White Sox: 0.580<br>Chicago Cubs: 0.475<br>Chicago Bulls: 0.744<br>Chicago Blackhawks: 0.512<br>",
          "Chicago Bears: 0.688<br>Chicago White Sox: 0.537<br>Chicago Cubs: 0.481<br>Chicago Bulls: 0.817<br>Chicago Blackhawks: 0.612<br>",
          "Chicago Bears: 0.313<br>Chicago White Sox: 0.530<br>Chicago Cubs: 0.481<br>Chicago Bulls: 0.695<br>Chicago Blackhawks: 0.45<br>",
          "Chicago Bears: 0.438<br>Chicago White Sox: 0.580<br>Chicago Cubs: 0.518<br>Chicago Bulls: 0.671<br>Chicago Blackhawks: 0.559<br>",
          "Chicago Bears: 0.563<br>Chicago White Sox: 0.592<br>Chicago Cubs: 0.433<br>Chicago Bulls: 0.573<br>Chicago Blackhawks: 0.464<br>",
          "Chicago Bears: 0.563<br>Chicago White Sox: 0.472<br>Chicago Cubs: 0.506<br>Chicago Bulls: 0.878<br>Chicago Blackhawks: 0.5<br>",
          "Chicago Bears: 0.438<br>Chicago White Sox: 0.524<br>Chicago Cubs: 0.469<br>Chicago Bulls: 0.841<br>Chicago Blackhawks: 0.487<br>",
          "Chicago Bears: 0.25<br>Chicago White Sox: 0.496<br>Chicago Cubs: 0.419<br>Chicago Bulls: 0.756<br>Chicago Blackhawks: 0.414<br>",
          "Chicago Bears: 0.25<br>Chicago White Sox: 0.493<br>Chicago Cubs: 0.552<br>Chicago Bulls: 0.26<br>Chicago Blackhawks: 0.365<br>",
          "Chicago Bears: 0.375<br>Chicago White Sox: 0.465<br>Chicago Cubs: 0.413<br>Chicago Bulls: 0.207<br>Chicago Blackhawks: 0.353<br>",
          "Chicago Bears: 0.313<br>Chicago White Sox: 0.586<br>Chicago Cubs: 0.401<br>Chicago Bulls: 0.183<br>Chicago Blackhawks: 0.402<br>",
          "Chicago Bears: 0.813<br>Chicago White Sox: 0.512<br>Chicago Cubs: 0.543<br>Chicago Bulls: 0.256<br>Chicago Blackhawks: 0.353<br>",
          "Chicago Bears: 0.25<br>Chicago White Sox: 0.5<br>Chicago Cubs: 0.413<br>Chicago Bulls: 0.366<br>Chicago Blackhawks: 0.5<br>",
          "Chicago Bears: 0.438<br>Chicago White Sox: 0.530<br>Chicago Cubs: 0.543<br>Chicago Bulls: 0.28<br>Chicago Blackhawks: 0.365<br>",
          "Chicago Bears: 0.313<br>Chicago White Sox: 0.512<br>Chicago Cubs: 0.549<br>Chicago Bulls: 0.573<br>Chicago Blackhawks: 0.243<br>",
          "Chicago Bears: 0.688<br>Chicago White Sox: 0.611<br>Chicago Cubs: 0.487<br>Chicago Bulls: 0.5<br>",
          "Chicago Bears: 0.813<br>Chicago White Sox: 0.555<br>Chicago Cubs: 0.407<br>Chicago Bulls: 0.598<br>Chicago Blackhawks: 0.317<br>",
          "Chicago Bears: 0.438<br>Chicago White Sox: 0.444<br>Chicago Cubs: 0.524<br>Chicago Bulls: 0.402<br>Chicago Blackhawks: 0.378<br>",
          "Chicago Bears: 0.563<br>Chicago White Sox: 0.546<br>Chicago Cubs: 0.602<br>Chicago Bulls: 0.5<br>Chicago Blackhawks: 0.487<br>",
          "Chicago Bears: 0.438<br>Chicago White Sox: 0.487<br>Chicago Cubs: 0.515<br>Chicago Bulls: 0.5<br>Chicago Blackhawks: 0.560<br>",
          "Chicago Bears: 0.688<br>Chicago White Sox: 0.543<br>Chicago Cubs: 0.462<br>Chicago Bulls: 0.756<br>Chicago Blackhawks: 0.634<br>",
          "Chicago Bears: 0.5<br>Chicago White Sox: 0.487<br>Chicago Cubs: 0.438<br>Chicago Bulls: 0.758<br>Chicago Blackhawks: 0.536<br>",
          "Chicago Bears: 0.625<br>Chicago White Sox: 0.524<br>Chicago Cubs: 0.376<br>Chicago Bulls: 0.549<br>Chicago Blackhawks: 0.548<br>",
          "Chicago Bears: 0.5<br>Chicago White Sox: 0.388<br>Chicago Cubs: 0.407<br>Chicago Bulls: 0.585<br>Chicago Blackhawks: 0.75<br>",
          "Chicago Bears: 0.313<br>Chicago White Sox: 0.450<br>Chicago Cubs: 0.450<br>Chicago Bulls: 0.61<br>Chicago Blackhawks: 0.560<br>",
          "Chicago Bears: 0.375<br>Chicago White Sox: 0.469<br>Chicago Cubs: 0.598<br>Chicago Bulls: 0.512<br>Chicago Blackhawks: 0.585<br>",
          "Chicago Bears: 0.188<br>Chicago White Sox: 0.481<br>Chicago Cubs: 0.639<br>Chicago Bulls: 0.477<br>Chicago Blackhawks: 0.573<br>",
          "Chicago Bears: 0.313<br>Chicago White Sox: 0.413<br>Chicago Cubs: 0.567<br>Chicago Blackhawks: 0.609<br>",
          "Chicago Bears: 0.75<br>Chicago White Sox: 0.382<br>Chicago Cubs: 0.582<br>Chicago Blackhawks: 0.402<br>",
          "Chicago Bears: 0.5<br>Chicago White Sox: 0.447<br>Chicago Cubs: 0.518<br>Chicago Blackhawks: 0.439<br>",
          "Chicago Bears: 0.5<br>Chicago White Sox: 0.583<br>Chicago Cubs: 0.566<br>Chicago Blackhawks: 0.457<br>"
         ],
         "type": "scatter",
         "x": [
          1921,
          1922,
          1923,
          1924,
          1925,
          1926,
          1927,
          1928,
          1929,
          1930,
          1931,
          1932,
          1933,
          1934,
          1935,
          1936,
          1937,
          1938,
          1939,
          1940,
          1941,
          1942,
          1943,
          1944,
          1945,
          1946,
          1947,
          1948,
          1949,
          1950,
          1951,
          1952,
          1953,
          1954,
          1955,
          1956,
          1957,
          1958,
          1959,
          1960,
          1961,
          1962,
          1963,
          1964,
          1965,
          1966,
          1967,
          1968,
          1969,
          1970,
          1971,
          1972,
          1973,
          1974,
          1975,
          1976,
          1977,
          1978,
          1979,
          1980,
          1981,
          1982,
          1983,
          1984,
          1985,
          1986,
          1987,
          1988,
          1989,
          1990,
          1991,
          1992,
          1993,
          1994,
          1995,
          1996,
          1997,
          1998,
          1999,
          2000,
          2001,
          2002,
          2003,
          2004,
          2005,
          2006,
          2007,
          2008,
          2009,
          2010,
          2011,
          2012,
          2013,
          2014,
          2015,
          2016,
          2017,
          2018,
          2019,
          2020
         ],
         "y": [
          0.41044902809608697,
          0.5250800865800865,
          0.5410025974025974,
          0.5063568627450981,
          0.5993863636363637,
          0.687293099057805,
          0.5970239651416122,
          0.5471471861471862,
          0.4776315789473684,
          0.5143376623376623,
          0.5261558724499901,
          0.5946396318912875,
          0.6127027417027416,
          0.6394068781224584,
          0.5787309182046024,
          0.6171196353315559,
          0.6874458874458874,
          0.5232385016595543,
          0.6081341991341991,
          0.5821601731601732,
          0.6211818181818182,
          0.6291681291681291,
          0.6350425543954955,
          0.5383506493506494,
          0.47095790115924346,
          0.4541167982344453,
          0.39239935064935066,
          0.39602768284347234,
          0.3887987012987013,
          0.4680491893727188,
          0.42432142857142857,
          0.4214577922077922,
          0.41467857142857145,
          0.4661006493506494,
          0.4785529029793736,
          0.5077467532467532,
          0.4081461038961039,
          0.5024642857142857,
          0.5394772727272727,
          0.45238636363636364,
          0.4313468654801988,
          0.45754920634920637,
          0.6151406525573192,
          0.4863399470899471,
          0.5398946208112875,
          0.44582292768959436,
          0.5134939345142244,
          0.4533062395729062,
          0.39640454840805717,
          0.5014605588044184,
          0.5504410256410257,
          0.5292131502905696,
          0.4730062100004129,
          0.4584096866096866,
          0.39406029445594665,
          0.4594956981826547,
          0.5023111111111112,
          0.4289296219615061,
          0.46071543209876537,
          0.44891234567901234,
          0.4111732002198205,
          0.40733086419753084,
          0.4931765432098766,
          0.5032126830764512,
          0.5563904455179818,
          0.5464888888888889,
          0.5305716662832605,
          0.5228604861590369,
          0.4772291005291005,
          0.600011111111111,
          0.6271574074074074,
          0.4940691358024691,
          0.5534578483245151,
          0.5253668773704172,
          0.5840333333333334,
          0.5521264077085215,
          0.4674563285398209,
          0.38436561165884325,
          0.3630154585631432,
          0.37721866907557966,
          0.4956428184281843,
          0.4059160493827161,
          0.4315855465221318,
          0.4383261668172237,
          0.5716913580246914,
          0.538207226738934,
          0.43743691659138817,
          0.539860324007424,
          0.5004315762108622,
          0.6168638361939175,
          0.544102258355917,
          0.5248030111412225,
          0.5262592592592592,
          0.47704203553146646,
          0.5080534176452876,
          0.4718807531967659,
          0.47605939476061426,
          0.5294942899156326,
          0.4761869694266301,
          0.5267857142857143
         ]
        }
       ],
       "layout": {
        "shapes": [
         {
          "line": {
           "color": "white",
           "dash": "dash",
           "width": 1
          },
          "type": "line",
          "x0": 0,
          "x1": 1,
          "xref": "x domain",
          "y0": 0.5,
          "y1": 0.5,
          "yref": "y"
         }
        ],
        "template": {
         "data": {
          "bar": [
           {
            "error_x": {
             "color": "#f2f5fa"
            },
            "error_y": {
             "color": "#f2f5fa"
            },
            "marker": {
             "line": {
              "color": "rgb(17,17,17)",
              "width": 0.5
             },
             "pattern": {
              "fillmode": "overlay",
              "size": 10,
              "solidity": 0.2
             }
            },
            "type": "bar"
           }
          ],
          "barpolar": [
           {
            "marker": {
             "line": {
              "color": "rgb(17,17,17)",
              "width": 0.5
             },
             "pattern": {
              "fillmode": "overlay",
              "size": 10,
              "solidity": 0.2
             }
            },
            "type": "barpolar"
           }
          ],
          "carpet": [
           {
            "aaxis": {
             "endlinecolor": "#A2B1C6",
             "gridcolor": "#506784",
             "linecolor": "#506784",
             "minorgridcolor": "#506784",
             "startlinecolor": "#A2B1C6"
            },
            "baxis": {
             "endlinecolor": "#A2B1C6",
             "gridcolor": "#506784",
             "linecolor": "#506784",
             "minorgridcolor": "#506784",
             "startlinecolor": "#A2B1C6"
            },
            "type": "carpet"
           }
          ],
          "choropleth": [
           {
            "colorbar": {
             "outlinewidth": 0,
             "ticks": ""
            },
            "type": "choropleth"
           }
          ],
          "contour": [
           {
            "colorbar": {
             "outlinewidth": 0,
             "ticks": ""
            },
            "colorscale": [
             [
              0,
              "#0d0887"
             ],
             [
              0.1111111111111111,
              "#46039f"
             ],
             [
              0.2222222222222222,
              "#7201a8"
             ],
             [
              0.3333333333333333,
              "#9c179e"
             ],
             [
              0.4444444444444444,
              "#bd3786"
             ],
             [
              0.5555555555555556,
              "#d8576b"
             ],
             [
              0.6666666666666666,
              "#ed7953"
             ],
             [
              0.7777777777777778,
              "#fb9f3a"
             ],
             [
              0.8888888888888888,
              "#fdca26"
             ],
             [
              1,
              "#f0f921"
             ]
            ],
            "type": "contour"
           }
          ],
          "contourcarpet": [
           {
            "colorbar": {
             "outlinewidth": 0,
             "ticks": ""
            },
            "type": "contourcarpet"
           }
          ],
          "heatmap": [
           {
            "colorbar": {
             "outlinewidth": 0,
             "ticks": ""
            },
            "colorscale": [
             [
              0,
              "#0d0887"
             ],
             [
              0.1111111111111111,
              "#46039f"
             ],
             [
              0.2222222222222222,
              "#7201a8"
             ],
             [
              0.3333333333333333,
              "#9c179e"
             ],
             [
              0.4444444444444444,
              "#bd3786"
             ],
             [
              0.5555555555555556,
              "#d8576b"
             ],
             [
              0.6666666666666666,
              "#ed7953"
             ],
             [
              0.7777777777777778,
              "#fb9f3a"
             ],
             [
              0.8888888888888888,
              "#fdca26"
             ],
             [
              1,
              "#f0f921"
             ]
            ],
            "type": "heatmap"
           }
          ],
          "heatmapgl": [
           {
            "colorbar": {
             "outlinewidth": 0,
             "ticks": ""
            },
            "colorscale": [
             [
              0,
              "#0d0887"
             ],
             [
              0.1111111111111111,
              "#46039f"
             ],
             [
              0.2222222222222222,
              "#7201a8"
             ],
             [
              0.3333333333333333,
              "#9c179e"
             ],
             [
              0.4444444444444444,
              "#bd3786"
             ],
             [
              0.5555555555555556,
              "#d8576b"
             ],
             [
              0.6666666666666666,
              "#ed7953"
             ],
             [
              0.7777777777777778,
              "#fb9f3a"
             ],
             [
              0.8888888888888888,
              "#fdca26"
             ],
             [
              1,
              "#f0f921"
             ]
            ],
            "type": "heatmapgl"
           }
          ],
          "histogram": [
           {
            "marker": {
             "pattern": {
              "fillmode": "overlay",
              "size": 10,
              "solidity": 0.2
             }
            },
            "type": "histogram"
           }
          ],
          "histogram2d": [
           {
            "colorbar": {
             "outlinewidth": 0,
             "ticks": ""
            },
            "colorscale": [
             [
              0,
              "#0d0887"
             ],
             [
              0.1111111111111111,
              "#46039f"
             ],
             [
              0.2222222222222222,
              "#7201a8"
             ],
             [
              0.3333333333333333,
              "#9c179e"
             ],
             [
              0.4444444444444444,
              "#bd3786"
             ],
             [
              0.5555555555555556,
              "#d8576b"
             ],
             [
              0.6666666666666666,
              "#ed7953"
             ],
             [
              0.7777777777777778,
              "#fb9f3a"
             ],
             [
              0.8888888888888888,
              "#fdca26"
             ],
             [
              1,
              "#f0f921"
             ]
            ],
            "type": "histogram2d"
           }
          ],
          "histogram2dcontour": [
           {
            "colorbar": {
             "outlinewidth": 0,
             "ticks": ""
            },
            "colorscale": [
             [
              0,
              "#0d0887"
             ],
             [
              0.1111111111111111,
              "#46039f"
             ],
             [
              0.2222222222222222,
              "#7201a8"
             ],
             [
              0.3333333333333333,
              "#9c179e"
             ],
             [
              0.4444444444444444,
              "#bd3786"
             ],
             [
              0.5555555555555556,
              "#d8576b"
             ],
             [
              0.6666666666666666,
              "#ed7953"
             ],
             [
              0.7777777777777778,
              "#fb9f3a"
             ],
             [
              0.8888888888888888,
              "#fdca26"
             ],
             [
              1,
              "#f0f921"
             ]
            ],
            "type": "histogram2dcontour"
           }
          ],
          "mesh3d": [
           {
            "colorbar": {
             "outlinewidth": 0,
             "ticks": ""
            },
            "type": "mesh3d"
           }
          ],
          "parcoords": [
           {
            "line": {
             "colorbar": {
              "outlinewidth": 0,
              "ticks": ""
             }
            },
            "type": "parcoords"
           }
          ],
          "pie": [
           {
            "automargin": true,
            "type": "pie"
           }
          ],
          "scatter": [
           {
            "marker": {
             "line": {
              "color": "#283442"
             }
            },
            "type": "scatter"
           }
          ],
          "scatter3d": [
           {
            "line": {
             "colorbar": {
              "outlinewidth": 0,
              "ticks": ""
             }
            },
            "marker": {
             "colorbar": {
              "outlinewidth": 0,
              "ticks": ""
             }
            },
            "type": "scatter3d"
           }
          ],
          "scattercarpet": [
           {
            "marker": {
             "colorbar": {
              "outlinewidth": 0,
              "ticks": ""
             }
            },
            "type": "scattercarpet"
           }
          ],
          "scattergeo": [
           {
            "marker": {
             "colorbar": {
              "outlinewidth": 0,
              "ticks": ""
             }
            },
            "type": "scattergeo"
           }
          ],
          "scattergl": [
           {
            "marker": {
             "line": {
              "color": "#283442"
             }
            },
            "type": "scattergl"
           }
          ],
          "scattermapbox": [
           {
            "marker": {
             "colorbar": {
              "outlinewidth": 0,
              "ticks": ""
             }
            },
            "type": "scattermapbox"
           }
          ],
          "scatterpolar": [
           {
            "marker": {
             "colorbar": {
              "outlinewidth": 0,
              "ticks": ""
             }
            },
            "type": "scatterpolar"
           }
          ],
          "scatterpolargl": [
           {
            "marker": {
             "colorbar": {
              "outlinewidth": 0,
              "ticks": ""
             }
            },
            "type": "scatterpolargl"
           }
          ],
          "scatterternary": [
           {
            "marker": {
             "colorbar": {
              "outlinewidth": 0,
              "ticks": ""
             }
            },
            "type": "scatterternary"
           }
          ],
          "surface": [
           {
            "colorbar": {
             "outlinewidth": 0,
             "ticks": ""
            },
            "colorscale": [
             [
              0,
              "#0d0887"
             ],
             [
              0.1111111111111111,
              "#46039f"
             ],
             [
              0.2222222222222222,
              "#7201a8"
             ],
             [
              0.3333333333333333,
              "#9c179e"
             ],
             [
              0.4444444444444444,
              "#bd3786"
             ],
             [
              0.5555555555555556,
              "#d8576b"
             ],
             [
              0.6666666666666666,
              "#ed7953"
             ],
             [
              0.7777777777777778,
              "#fb9f3a"
             ],
             [
              0.8888888888888888,
              "#fdca26"
             ],
             [
              1,
              "#f0f921"
             ]
            ],
            "type": "surface"
           }
          ],
          "table": [
           {
            "cells": {
             "fill": {
              "color": "#506784"
             },
             "line": {
              "color": "rgb(17,17,17)"
             }
            },
            "header": {
             "fill": {
              "color": "#2a3f5f"
             },
             "line": {
              "color": "rgb(17,17,17)"
             }
            },
            "type": "table"
           }
          ]
         },
         "layout": {
          "annotationdefaults": {
           "arrowcolor": "#f2f5fa",
           "arrowhead": 0,
           "arrowwidth": 1
          },
          "autotypenumbers": "strict",
          "coloraxis": {
           "colorbar": {
            "outlinewidth": 0,
            "ticks": ""
           }
          },
          "colorscale": {
           "diverging": [
            [
             0,
             "#8e0152"
            ],
            [
             0.1,
             "#c51b7d"
            ],
            [
             0.2,
             "#de77ae"
            ],
            [
             0.3,
             "#f1b6da"
            ],
            [
             0.4,
             "#fde0ef"
            ],
            [
             0.5,
             "#f7f7f7"
            ],
            [
             0.6,
             "#e6f5d0"
            ],
            [
             0.7,
             "#b8e186"
            ],
            [
             0.8,
             "#7fbc41"
            ],
            [
             0.9,
             "#4d9221"
            ],
            [
             1,
             "#276419"
            ]
           ],
           "sequential": [
            [
             0,
             "#0d0887"
            ],
            [
             0.1111111111111111,
             "#46039f"
            ],
            [
             0.2222222222222222,
             "#7201a8"
            ],
            [
             0.3333333333333333,
             "#9c179e"
            ],
            [
             0.4444444444444444,
             "#bd3786"
            ],
            [
             0.5555555555555556,
             "#d8576b"
            ],
            [
             0.6666666666666666,
             "#ed7953"
            ],
            [
             0.7777777777777778,
             "#fb9f3a"
            ],
            [
             0.8888888888888888,
             "#fdca26"
            ],
            [
             1,
             "#f0f921"
            ]
           ],
           "sequentialminus": [
            [
             0,
             "#0d0887"
            ],
            [
             0.1111111111111111,
             "#46039f"
            ],
            [
             0.2222222222222222,
             "#7201a8"
            ],
            [
             0.3333333333333333,
             "#9c179e"
            ],
            [
             0.4444444444444444,
             "#bd3786"
            ],
            [
             0.5555555555555556,
             "#d8576b"
            ],
            [
             0.6666666666666666,
             "#ed7953"
            ],
            [
             0.7777777777777778,
             "#fb9f3a"
            ],
            [
             0.8888888888888888,
             "#fdca26"
            ],
            [
             1,
             "#f0f921"
            ]
           ]
          },
          "colorway": [
           "#636efa",
           "#EF553B",
           "#00cc96",
           "#ab63fa",
           "#FFA15A",
           "#19d3f3",
           "#FF6692",
           "#B6E880",
           "#FF97FF",
           "#FECB52"
          ],
          "font": {
           "color": "#f2f5fa"
          },
          "geo": {
           "bgcolor": "rgb(17,17,17)",
           "lakecolor": "rgb(17,17,17)",
           "landcolor": "rgb(17,17,17)",
           "showlakes": true,
           "showland": true,
           "subunitcolor": "#506784"
          },
          "hoverlabel": {
           "align": "left"
          },
          "hovermode": "closest",
          "mapbox": {
           "style": "dark"
          },
          "paper_bgcolor": "rgb(17,17,17)",
          "plot_bgcolor": "rgb(17,17,17)",
          "polar": {
           "angularaxis": {
            "gridcolor": "#506784",
            "linecolor": "#506784",
            "ticks": ""
           },
           "bgcolor": "rgb(17,17,17)",
           "radialaxis": {
            "gridcolor": "#506784",
            "linecolor": "#506784",
            "ticks": ""
           }
          },
          "scene": {
           "xaxis": {
            "backgroundcolor": "rgb(17,17,17)",
            "gridcolor": "#506784",
            "gridwidth": 2,
            "linecolor": "#506784",
            "showbackground": true,
            "ticks": "",
            "zerolinecolor": "#C8D4E3"
           },
           "yaxis": {
            "backgroundcolor": "rgb(17,17,17)",
            "gridcolor": "#506784",
            "gridwidth": 2,
            "linecolor": "#506784",
            "showbackground": true,
            "ticks": "",
            "zerolinecolor": "#C8D4E3"
           },
           "zaxis": {
            "backgroundcolor": "rgb(17,17,17)",
            "gridcolor": "#506784",
            "gridwidth": 2,
            "linecolor": "#506784",
            "showbackground": true,
            "ticks": "",
            "zerolinecolor": "#C8D4E3"
           }
          },
          "shapedefaults": {
           "line": {
            "color": "#f2f5fa"
           }
          },
          "sliderdefaults": {
           "bgcolor": "#C8D4E3",
           "bordercolor": "rgb(17,17,17)",
           "borderwidth": 1,
           "tickwidth": 0
          },
          "ternary": {
           "aaxis": {
            "gridcolor": "#506784",
            "linecolor": "#506784",
            "ticks": ""
           },
           "baxis": {
            "gridcolor": "#506784",
            "linecolor": "#506784",
            "ticks": ""
           },
           "bgcolor": "rgb(17,17,17)",
           "caxis": {
            "gridcolor": "#506784",
            "linecolor": "#506784",
            "ticks": ""
           }
          },
          "title": {
           "x": 0.05
          },
          "updatemenudefaults": {
           "bgcolor": "#506784",
           "borderwidth": 0
          },
          "xaxis": {
           "automargin": true,
           "gridcolor": "#283442",
           "linecolor": "#506784",
           "ticks": "",
           "title": {
            "standoff": 15
           },
           "zerolinecolor": "#283442",
           "zerolinewidth": 2
          },
          "yaxis": {
           "automargin": true,
           "gridcolor": "#283442",
           "linecolor": "#506784",
           "ticks": "",
           "title": {
            "standoff": 15
           },
           "zerolinecolor": "#283442",
           "zerolinewidth": 2
          }
         }
        },
        "title": {
         "text": "Average Winning Percentage for Chicago Sports Teams"
        },
        "xaxis": {
         "title": {
          "text": "Year"
         }
        },
        "yaxis": {
         "title": {
          "text": "Winning Percentage"
         }
        }
       }
      }
     },
     "metadata": {},
     "output_type": "display_data"
    }
   ],
   "source": [
    "sports = set([\"nfl\", \"mlb\", \"nba\"])\n",
    "city = \"Chicago\"\n",
    "chicago = df.query(f\"area == '{city}' and year > 1920\").groupby(\"year\").win_pct.mean().reset_index()\n",
    "def temp(df):\n",
    "    acc = \"\"\n",
    "    for i, row in df.iterrows():\n",
    "        acc += row.team_name + \": \" + str(row.win_pct)[:5] + \"<br>\"\n",
    "    return acc\n",
    "\n",
    "blah = chicago.merge(df.query(\"area == 'Chicago'\").groupby([\"year\"]).apply(temp).reset_index(), on=\"year\")\n",
    "\n",
    "fig = go.Figure(go.Scatter(\n",
    "    x = blah.year.tolist(),\n",
    "    y = blah.win_pct.tolist(),\n",
    "    text= blah[0].tolist(),\n",
    "    hovertemplate =\n",
    "    '<br><b>Year</b>: %{x}<br>'+\n",
    "    '<b>Winning Pct.</b>: %{y:.2f}<br>'+\n",
    "    '%{text}' +\n",
    "    '<extra></extra>'\n",
    "    ))\n",
    "fig.update_layout(\n",
    "    title=\"Average Winning Percentage for Chicago Sports Teams\",\n",
    "    xaxis_title=\"Year\",\n",
    "    yaxis_title=\"Winning Percentage\",\n",
    ")\n",
    "fig.add_hline(y=.5, line_width=1, line_dash=\"dash\", line_color=\"white\")\n",
    "fig.write_html(os.path.join(output_dir,\"chicago_avg.html\"))\n",
    "fig.show()"
   ]
  },
  {
   "cell_type": "code",
   "execution_count": 97,
   "metadata": {},
   "outputs": [
    {
     "name": "stdout",
     "output_type": "stream",
     "text": [
      "Total Seasons: year       80\n",
      "win_pct    80\n",
      "dtype: int64\n",
      "Seasons with winning percentage above .500: year       36\n",
      "win_pct    36\n",
      "dtype: int64\n"
     ]
    }
   ],
   "source": [
    "print(f\"Total Seasons:\", chicago.query(\"year > 1940\").count())\n",
    "print(f\"Seasons with winning percentage above .500:\", chicago.query(\"year > 1940 and win_pct >= .5\").count())"
   ]
  },
  {
   "attachments": {},
   "cell_type": "markdown",
   "metadata": {},
   "source": [
    "## Visualizing Multiple Cities Together"
   ]
  },
  {
   "cell_type": "code",
   "execution_count": 129,
   "metadata": {},
   "outputs": [
    {
     "name": "stdout",
     "output_type": "stream",
     "text": [
      "Chicago 0.505\n",
      "New York 0.490\n",
      "Boston 0.516\n",
      "Los Angeles 0.499\n",
      "Atlanta 0.478\n",
      "Cleveland 0.503\n",
      "Philadelphia 0.473\n",
      "Detroit 0.486\n",
      "Minnesota 0.454\n"
     ]
    },
    {
     "data": {
      "application/vnd.plotly.v1+json": {
       "config": {
        "plotlyServerURL": "https://plot.ly"
       },
       "data": [
        {
         "hovertemplate": "<br><b>Year</b>: %{x}<br><b>Winning Pct.</b>: %{y:.2f}<br>%{text}<extra></extra>",
         "mode": "lines",
         "name": "Chicago (0.505)",
         "text": [
          "Chicago White Sox: 0.402<br>Chicago Cubs: 0.418<br>",
          "Evansville Crimson Giants: 0.0<br>Rock Island Independents: 0.667<br>Kenosha Maroons: 0.714<br>Chicago Bears: 0.75<br>Chicago White Sox: 0.5<br>Chicago Cubs: 0.519<br>",
          "Rock Island Independents: 0.4<br>Kenosha Maroons: 0.5<br>Chicago Bears: 0.818<br>Chicago White Sox: 0.448<br>Chicago Cubs: 0.538<br>",
          "Kenosha Maroons: 0.0<br>Rock Island Independents: 0.714<br>Chicago Bears: 0.857<br>Chicago White Sox: 0.431<br>Chicago Cubs: 0.529<br>",
          "Rock Island Independents: 0.625<br>Chicago Bears: 0.818<br>Chicago White Sox: 0.512<br>Chicago Cubs: 0.441<br>",
          "Chicago Bears: 1.0<br>Chicago White Sox: 0.529<br>Chicago Cubs: 0.532<br>",
          "Chicago Bears: 0.778<br>Chicago White Sox: 0.457<br>Chicago Cubs: 0.555<br>",
          "Chicago Bears: 0.583<br>Chicago White Sox: 0.467<br>Chicago Cubs: 0.590<br>",
          "Chicago Bears: 0.4<br>Chicago White Sox: 0.388<br>Chicago Cubs: 0.644<br>",
          "Chicago Bears: 0.556<br>Chicago White Sox: 0.402<br>Chicago Cubs: 0.584<br>",
          "Chicago Bears: 0.667<br>Chicago White Sox: 0.366<br>Chicago Cubs: 0.545<br>",
          "Chicago Bears: 0.875<br>Chicago White Sox: 0.324<br>Chicago Cubs: 0.584<br>",
          "Chicago Bears: 0.833<br>Chicago White Sox: 0.446<br>Chicago Cubs: 0.558<br>",
          "Chicago Bears: 1.0<br>Chicago White Sox: 0.348<br>Chicago Cubs: 0.569<br>",
          "Chicago Bears: 0.6<br>Chicago White Sox: 0.486<br>Chicago Cubs: 0.649<br>",
          "Chicago Bears: 0.75<br>Chicago White Sox: 0.536<br>Chicago Cubs: 0.564<br>",
          "Chicago Bears: 0.9<br>Chicago White Sox: 0.558<br>Chicago Cubs: 0.603<br>",
          "Chicago Bears: 0.545<br>Chicago White Sox: 0.439<br>Chicago Cubs: 0.585<br>",
          "Chicago Bears: 0.727<br>Chicago White Sox: 0.551<br>Chicago Cubs: 0.545<br>",
          "Chicago Bears: 0.727<br>Chicago White Sox: 0.532<br>Chicago Cubs: 0.487<br>",
          "Chicago Bears: 0.909<br>Chicago White Sox: 0.5<br>Chicago Cubs: 0.454<br>",
          "Chicago Bears: 1.0<br>Chicago White Sox: 0.445<br>Chicago Cubs: 0.441<br>",
          "Chicago Bears: 0.889<br>Chicago White Sox: 0.532<br>Chicago Cubs: 0.483<br>",
          "Chicago Bears: 0.667<br>Chicago White Sox: 0.461<br>Chicago Cubs: 0.487<br>",
          "Chicago Bears: 0.3<br>Chicago White Sox: 0.476<br>Chicago Cubs: 0.636<br>",
          "Chicago Hornets: 0.0<br>Chicago Bears: 0.8<br>Chicago White Sox: 0.480<br>Chicago Cubs: 0.535<br>",
          "Chicago Hornets: 0.0<br>Chicago Bears: 0.667<br>Chicago White Sox: 0.454<br>Chicago Cubs: 0.448<br>",
          "Chicago Hornets: 0.0<br>Chicago Bears: 0.833<br>Chicago White Sox: 0.335<br>Chicago Cubs: 0.415<br>",
          "Chicago Hornets: 0.0<br>Chicago Bears: 0.75<br>Chicago White Sox: 0.409<br>Chicago Cubs: 0.396<br>",
          "Chicago Bears: 0.75<br>Chicago White Sox: 0.389<br>Chicago Cubs: 0.418<br>Chicago Blackhawks: 0.314<br>",
          "Chicago Bears: 0.583<br>Chicago White Sox: 0.525<br>Chicago Cubs: 0.402<br>Chicago Blackhawks: 0.185<br>",
          "Chicago Bears: 0.417<br>Chicago White Sox: 0.525<br>Chicago Cubs: 0.5<br>Chicago Blackhawks: 0.242<br>",
          "Chicago Bears: 0.273<br>Chicago White Sox: 0.577<br>Chicago Cubs: 0.422<br>Chicago Blackhawks: 0.385<br>",
          "Chicago Bears: 0.667<br>Chicago White Sox: 0.610<br>Chicago Cubs: 0.415<br>Chicago Blackhawks: 0.171<br>",
          "Chicago Bears: 0.667<br>Chicago White Sox: 0.590<br>Chicago Cubs: 0.470<br>Chicago Blackhawks: 0.185<br>",
          "Chicago Bears: 0.818<br>Chicago White Sox: 0.551<br>Chicago Cubs: 0.389<br>Chicago Blackhawks: 0.271<br>",
          "Chicago Bears: 0.417<br>Chicago White Sox: 0.584<br>Chicago Cubs: 0.402<br>Chicago Blackhawks: 0.228<br>",
          "Chicago Bears: 0.667<br>Chicago White Sox: 0.532<br>Chicago Cubs: 0.467<br>Chicago Blackhawks: 0.342<br>",
          "Chicago Bears: 0.667<br>Chicago White Sox: 0.610<br>Chicago Cubs: 0.480<br>Chicago Blackhawks: 0.4<br>",
          "Chicago Bears: 0.455<br>Chicago White Sox: 0.564<br>Chicago Cubs: 0.389<br>Chicago Blackhawks: 0.4<br>",
          "Chicago Bears: 0.571<br>Chicago White Sox: 0.530<br>Chicago Cubs: 0.415<br>Chicago Packers: 0.225<br>Chicago Blackhawks: 0.414<br>",
          "Chicago Bears: 0.643<br>Chicago White Sox: 0.524<br>Chicago Cubs: 0.364<br>Chicago Zephyrs: 0.313<br>Chicago Blackhawks: 0.442<br>",
          "Chicago Bears: 0.917<br>Chicago White Sox: 0.580<br>Chicago Cubs: 0.506<br>Chicago Blackhawks: 0.457<br>",
          "Chicago Bears: 0.357<br>Chicago White Sox: 0.604<br>Chicago Cubs: 0.469<br>Chicago Blackhawks: 0.514<br>",
          "Chicago Bears: 0.643<br>Chicago White Sox: 0.586<br>Chicago Cubs: 0.444<br>Chicago Blackhawks: 0.485<br>",
          "Chicago Bears: 0.417<br>Chicago White Sox: 0.512<br>Chicago Cubs: 0.364<br>Chicago Bulls: 0.407<br>Chicago Blackhawks: 0.528<br>",
          "Chicago Bears: 0.538<br>Chicago White Sox: 0.549<br>Chicago Cubs: 0.540<br>Chicago Bulls: 0.354<br>Chicago Blackhawks: 0.585<br>",
          "Chicago Bears: 0.5<br>Chicago White Sox: 0.413<br>Chicago Cubs: 0.518<br>Chicago Bulls: 0.402<br>Chicago Blackhawks: 0.432<br>",
          "Chicago Bears: 0.071<br>Chicago White Sox: 0.419<br>Chicago Cubs: 0.567<br>Chicago Bulls: 0.476<br>Chicago Blackhawks: 0.447<br>",
          "Chicago Bears: 0.429<br>Chicago White Sox: 0.345<br>Chicago Cubs: 0.518<br>Chicago Bulls: 0.622<br>Chicago Blackhawks: 0.592<br>",
          "Chicago Bears: 0.429<br>Chicago White Sox: 0.487<br>Chicago Cubs: 0.512<br>Chicago Bulls: 0.695<br>Chicago Blackhawks: 0.628<br>",
          "Chicago Bears: 0.321<br>Chicago White Sox: 0.564<br>Chicago Cubs: 0.548<br>Chicago Bulls: 0.622<br>Chicago Blackhawks: 0.589<br>",
          "Chicago Bears: 0.214<br>Chicago White Sox: 0.475<br>Chicago Cubs: 0.478<br>Chicago Bulls: 0.659<br>Chicago Blackhawks: 0.538<br>",
          "Chicago Bears: 0.286<br>Chicago White Sox: 0.5<br>Chicago Cubs: 0.407<br>Chicago Bulls: 0.573<br>Chicago Blackhawks: 0.525<br>",
          "Chicago Bears: 0.286<br>Chicago White Sox: 0.465<br>Chicago Cubs: 0.462<br>Chicago Bulls: 0.293<br>Chicago Blackhawks: 0.462<br>",
          "Chicago Bears: 0.5<br>Chicago White Sox: 0.397<br>Chicago Cubs: 0.462<br>Chicago Bulls: 0.537<br>Chicago Blackhawks: 0.4<br>",
          "Chicago Bears: 0.643<br>Chicago White Sox: 0.555<br>Chicago Cubs: 0.5<br>Chicago Bulls: 0.488<br>Chicago Blackhawks: 0.325<br>",
          "Chicago Bears: 0.438<br>Chicago White Sox: 0.440<br>Chicago Cubs: 0.487<br>Chicago Bulls: 0.378<br>Chicago Blackhawks: 0.4<br>",
          "Chicago Bears: 0.625<br>Chicago White Sox: 0.456<br>Chicago Cubs: 0.493<br>Chicago Bulls: 0.366<br>Chicago Blackhawks: 0.362<br>",
          "Chicago Bears: 0.438<br>Chicago White Sox: 0.437<br>Chicago Cubs: 0.395<br>Chicago Bulls: 0.549<br>Chicago Blackhawks: 0.425<br>",
          "Chicago Bears: 0.375<br>Chicago White Sox: 0.509<br>Chicago Cubs: 0.368<br>Chicago Bulls: 0.415<br>Chicago Blackhawks: 0.387<br>",
          "Chicago Bears: 0.333<br>Chicago White Sox: 0.537<br>Chicago Cubs: 0.450<br>Chicago Bulls: 0.341<br>Chicago Blackhawks: 0.375<br>",
          "Chicago Bears: 0.5<br>Chicago White Sox: 0.611<br>Chicago Cubs: 0.438<br>Chicago Bulls: 0.329<br>Chicago Blackhawks: 0.587<br>",
          "Chicago Bears: 0.625<br>Chicago White Sox: 0.456<br>Chicago Cubs: 0.596<br>Chicago Bulls: 0.463<br>Chicago Blackhawks: 0.375<br>",
          "Chicago Bears: 0.938<br>Chicago White Sox: 0.524<br>Chicago Cubs: 0.478<br>Chicago Bulls: 0.366<br>Chicago Blackhawks: 0.475<br>",
          "Chicago Bears: 0.875<br>Chicago White Sox: 0.444<br>Chicago Cubs: 0.437<br>Chicago Bulls: 0.488<br>Chicago Blackhawks: 0.487<br>",
          "Chicago Bears: 0.733<br>Chicago White Sox: 0.475<br>Chicago Cubs: 0.472<br>Chicago Bulls: 0.61<br>Chicago Blackhawks: 0.362<br>",
          "Chicago Bears: 0.75<br>Chicago White Sox: 0.440<br>Chicago Cubs: 0.475<br>Chicago Bulls: 0.573<br>Chicago Blackhawks: 0.375<br>",
          "Chicago Bears: 0.375<br>Chicago White Sox: 0.428<br>Chicago Cubs: 0.574<br>Chicago Bulls: 0.671<br>Chicago Blackhawks: 0.337<br>",
          "Chicago Bears: 0.688<br>Chicago White Sox: 0.580<br>Chicago Cubs: 0.475<br>Chicago Bulls: 0.744<br>Chicago Blackhawks: 0.512<br>",
          "Chicago Bears: 0.688<br>Chicago White Sox: 0.537<br>Chicago Cubs: 0.481<br>Chicago Bulls: 0.817<br>Chicago Blackhawks: 0.612<br>",
          "Chicago Bears: 0.313<br>Chicago White Sox: 0.530<br>Chicago Cubs: 0.481<br>Chicago Bulls: 0.695<br>Chicago Blackhawks: 0.45<br>",
          "Chicago Bears: 0.438<br>Chicago White Sox: 0.580<br>Chicago Cubs: 0.518<br>Chicago Bulls: 0.671<br>Chicago Blackhawks: 0.559<br>",
          "Chicago Bears: 0.563<br>Chicago White Sox: 0.592<br>Chicago Cubs: 0.433<br>Chicago Bulls: 0.573<br>Chicago Blackhawks: 0.464<br>",
          "Chicago Bears: 0.563<br>Chicago White Sox: 0.472<br>Chicago Cubs: 0.506<br>Chicago Bulls: 0.878<br>Chicago Blackhawks: 0.5<br>",
          "Chicago Bears: 0.438<br>Chicago White Sox: 0.524<br>Chicago Cubs: 0.469<br>Chicago Bulls: 0.841<br>Chicago Blackhawks: 0.487<br>",
          "Chicago Bears: 0.25<br>Chicago White Sox: 0.496<br>Chicago Cubs: 0.419<br>Chicago Bulls: 0.756<br>Chicago Blackhawks: 0.414<br>",
          "Chicago Bears: 0.25<br>Chicago White Sox: 0.493<br>Chicago Cubs: 0.552<br>Chicago Bulls: 0.26<br>Chicago Blackhawks: 0.365<br>",
          "Chicago Bears: 0.375<br>Chicago White Sox: 0.465<br>Chicago Cubs: 0.413<br>Chicago Bulls: 0.207<br>Chicago Blackhawks: 0.353<br>",
          "Chicago Bears: 0.313<br>Chicago White Sox: 0.586<br>Chicago Cubs: 0.401<br>Chicago Bulls: 0.183<br>Chicago Blackhawks: 0.402<br>",
          "Chicago Bears: 0.813<br>Chicago White Sox: 0.512<br>Chicago Cubs: 0.543<br>Chicago Bulls: 0.256<br>Chicago Blackhawks: 0.353<br>",
          "Chicago Bears: 0.25<br>Chicago White Sox: 0.5<br>Chicago Cubs: 0.413<br>Chicago Bulls: 0.366<br>Chicago Blackhawks: 0.5<br>",
          "Chicago Bears: 0.438<br>Chicago White Sox: 0.530<br>Chicago Cubs: 0.543<br>Chicago Bulls: 0.28<br>Chicago Blackhawks: 0.365<br>",
          "Chicago Bears: 0.313<br>Chicago White Sox: 0.512<br>Chicago Cubs: 0.549<br>Chicago Bulls: 0.573<br>Chicago Blackhawks: 0.243<br>",
          "Chicago Bears: 0.688<br>Chicago White Sox: 0.611<br>Chicago Cubs: 0.487<br>Chicago Bulls: 0.5<br>",
          "Chicago Bears: 0.813<br>Chicago White Sox: 0.555<br>Chicago Cubs: 0.407<br>Chicago Bulls: 0.598<br>Chicago Blackhawks: 0.317<br>",
          "Chicago Bears: 0.438<br>Chicago White Sox: 0.444<br>Chicago Cubs: 0.524<br>Chicago Bulls: 0.402<br>Chicago Blackhawks: 0.378<br>",
          "Chicago Bears: 0.563<br>Chicago White Sox: 0.546<br>Chicago Cubs: 0.602<br>Chicago Bulls: 0.5<br>Chicago Blackhawks: 0.487<br>",
          "Chicago Bears: 0.438<br>Chicago White Sox: 0.487<br>Chicago Cubs: 0.515<br>Chicago Bulls: 0.5<br>Chicago Blackhawks: 0.560<br>",
          "Chicago Bears: 0.688<br>Chicago White Sox: 0.543<br>Chicago Cubs: 0.462<br>Chicago Bulls: 0.756<br>Chicago Blackhawks: 0.634<br>",
          "Chicago Bears: 0.5<br>Chicago White Sox: 0.487<br>Chicago Cubs: 0.438<br>Chicago Bulls: 0.758<br>Chicago Blackhawks: 0.536<br>",
          "Chicago Bears: 0.625<br>Chicago White Sox: 0.524<br>Chicago Cubs: 0.376<br>Chicago Bulls: 0.549<br>Chicago Blackhawks: 0.548<br>",
          "Chicago Bears: 0.5<br>Chicago White Sox: 0.388<br>Chicago Cubs: 0.407<br>Chicago Bulls: 0.585<br>Chicago Blackhawks: 0.75<br>",
          "Chicago Bears: 0.313<br>Chicago White Sox: 0.450<br>Chicago Cubs: 0.450<br>Chicago Bulls: 0.61<br>Chicago Blackhawks: 0.560<br>",
          "Chicago Bears: 0.375<br>Chicago White Sox: 0.469<br>Chicago Cubs: 0.598<br>Chicago Bulls: 0.512<br>Chicago Blackhawks: 0.585<br>",
          "Chicago Bears: 0.188<br>Chicago White Sox: 0.481<br>Chicago Cubs: 0.639<br>Chicago Bulls: 0.477<br>Chicago Blackhawks: 0.573<br>",
          "Chicago Bears: 0.313<br>Chicago White Sox: 0.413<br>Chicago Cubs: 0.567<br>Chicago Blackhawks: 0.609<br>",
          "Chicago Bears: 0.75<br>Chicago White Sox: 0.382<br>Chicago Cubs: 0.582<br>Chicago Blackhawks: 0.402<br>",
          "Chicago Bears: 0.5<br>Chicago White Sox: 0.447<br>Chicago Cubs: 0.518<br>Chicago Blackhawks: 0.439<br>",
          "Chicago Bears: 0.5<br>Chicago White Sox: 0.583<br>Chicago Cubs: 0.566<br>Chicago Blackhawks: 0.457<br>"
         ],
         "type": "scatter",
         "x": [
          1921,
          1922,
          1923,
          1924,
          1925,
          1926,
          1927,
          1928,
          1929,
          1930,
          1931,
          1932,
          1933,
          1934,
          1935,
          1936,
          1937,
          1938,
          1939,
          1940,
          1941,
          1942,
          1943,
          1944,
          1945,
          1946,
          1947,
          1948,
          1949,
          1950,
          1951,
          1952,
          1953,
          1954,
          1955,
          1956,
          1957,
          1958,
          1959,
          1960,
          1961,
          1962,
          1963,
          1964,
          1965,
          1966,
          1967,
          1968,
          1969,
          1970,
          1971,
          1972,
          1973,
          1974,
          1975,
          1976,
          1977,
          1978,
          1979,
          1980,
          1981,
          1982,
          1983,
          1984,
          1985,
          1986,
          1987,
          1988,
          1989,
          1990,
          1991,
          1992,
          1993,
          1994,
          1995,
          1996,
          1997,
          1998,
          1999,
          2000,
          2001,
          2002,
          2003,
          2004,
          2005,
          2006,
          2007,
          2008,
          2009,
          2010,
          2011,
          2012,
          2013,
          2014,
          2015,
          2016,
          2017,
          2018,
          2019,
          2020
         ],
         "y": [
          0.41044902809608697,
          0.5250800865800865,
          0.5410025974025974,
          0.5063568627450981,
          0.5993863636363637,
          0.687293099057805,
          0.5970239651416122,
          0.5471471861471862,
          0.4776315789473684,
          0.5143376623376623,
          0.5261558724499901,
          0.5946396318912875,
          0.6127027417027416,
          0.6394068781224584,
          0.5787309182046024,
          0.6171196353315559,
          0.6874458874458874,
          0.5232385016595543,
          0.6081341991341991,
          0.5821601731601732,
          0.6211818181818182,
          0.6291681291681291,
          0.6350425543954955,
          0.5383506493506494,
          0.47095790115924346,
          0.4541167982344453,
          0.39239935064935066,
          0.39602768284347234,
          0.3887987012987013,
          0.4680491893727188,
          0.42432142857142857,
          0.4214577922077922,
          0.41467857142857145,
          0.4661006493506494,
          0.4785529029793736,
          0.5077467532467532,
          0.4081461038961039,
          0.5024642857142857,
          0.5394772727272727,
          0.45238636363636364,
          0.4313468654801988,
          0.45754920634920637,
          0.6151406525573192,
          0.4863399470899471,
          0.5398946208112875,
          0.44582292768959436,
          0.5134939345142244,
          0.4533062395729062,
          0.39640454840805717,
          0.5014605588044184,
          0.5504410256410257,
          0.5292131502905696,
          0.4730062100004129,
          0.4584096866096866,
          0.39406029445594665,
          0.4594956981826547,
          0.5023111111111112,
          0.4289296219615061,
          0.46071543209876537,
          0.44891234567901234,
          0.4111732002198205,
          0.40733086419753084,
          0.4931765432098766,
          0.5032126830764512,
          0.5563904455179818,
          0.5464888888888889,
          0.5305716662832605,
          0.5228604861590369,
          0.4772291005291005,
          0.600011111111111,
          0.6271574074074074,
          0.4940691358024691,
          0.5534578483245151,
          0.5253668773704172,
          0.5840333333333334,
          0.5521264077085215,
          0.4674563285398209,
          0.38436561165884325,
          0.3630154585631432,
          0.37721866907557966,
          0.4956428184281843,
          0.4059160493827161,
          0.4315855465221318,
          0.4383261668172237,
          0.5716913580246914,
          0.538207226738934,
          0.43743691659138817,
          0.539860324007424,
          0.5004315762108622,
          0.6168638361939175,
          0.544102258355917,
          0.5248030111412225,
          0.5262592592592592,
          0.47704203553146646,
          0.5080534176452876,
          0.4718807531967659,
          0.47605939476061426,
          0.5294942899156326,
          0.4761869694266301,
          0.5267857142857143
         ]
        },
        {
         "hovertemplate": "<br><b>Year</b>: %{x}<br><b>Winning Pct.</b>: %{y:.2f}<br>%{text}<extra></extra>",
         "mode": "lines",
         "name": "New York (0.490)",
         "text": [
          "Brooklyn Robins: 0.506<br>New York Giants: 0.614<br>New York Yankees: 0.640<br>",
          "Rochester Jeffersons: 0.0<br>Brooklyn Robins: 0.493<br>New York Giants: 0.603<br>New York Yankees: 0.610<br>",
          "Rochester Jeffersons: 0.0<br>Newark Tornadoes: 0.571<br>Brooklyn Robins: 0.493<br>New York Giants: 0.620<br>New York Yankees: 0.644<br>",
          "Rochester Jeffersons: 0.0<br>Newark Tornadoes: 0.833<br>Brooklyn Robins: 0.597<br>New York Giants: 0.607<br>New York Yankees: 0.585<br>",
          "Newark Tornadoes: 0.0<br>Rochester Jeffersons: 0.0<br>New York Giants: 0.636<br>New York Giants: 0.565<br>New York Yankees: 0.448<br>Brooklyn Robins: 0.444<br>",
          "Staten Island Stapletons: 0.3<br>Newark Tornadoes: 0.6<br>New York Giants: 0.636<br>New York Giants: 0.490<br>New York Yankees: 0.590<br>Brooklyn Robins: 0.464<br>",
          "Newark Tornadoes: 0.167<br>Staten Island Stapletons: 0.636<br>New York Giants: 0.889<br>New York Giants: 0.597<br>New York Yankees: 0.714<br>Brooklyn Robins: 0.424<br>",
          "New York Giants: 0.364<br>New York Giants: 0.603<br>New York Yankees: 0.655<br>Staten Island Stapletons: 0.333<br>Brooklyn Robins: 0.503<br>",
          "Newark Tornadoes: 0.4<br>Staten Island Stapletons: 0.6<br>New York Giants: 0.889<br>New York Giants: 0.556<br>New York Yankees: 0.571<br>Brooklyn Robins: 0.457<br>",
          "Newark Tornadoes: 0.091<br>Staten Island Stapletons: 0.429<br>New York Yankees: 0.714<br>New York Giants: 0.833<br>New York Giants: 0.564<br>New York Yankees: 0.558<br>Brooklyn Robins: 0.558<br>",
          "New York Yankees: 0.143<br>New York Giants: 0.5<br>New York Giants: 0.572<br>New York Yankees: 0.614<br>Staten Island Stapletons: 0.4<br>Brooklyn Robins: 0.519<br>",
          "Staten Island Stapletons: 0.222<br>New York Yankees: 0.25<br>New York Giants: 0.4<br>New York Giants: 0.467<br>New York Yankees: 0.694<br>Brooklyn Dodgers: 0.525<br>",
          "New York Yankees: 0.556<br>New York Giants: 0.786<br>New York Giants: 0.598<br>New York Yankees: 0.606<br>Brooklyn Dodgers: 0.424<br>",
          "New York Yankees: 0.364<br>New York Giants: 0.615<br>New York Giants: 0.607<br>New York Yankees: 0.610<br>Brooklyn Dodgers: 0.467<br>",
          "New York Yankees: 0.455<br>New York Giants: 0.75<br>New York Giants: 0.594<br>New York Yankees: 0.597<br>Brooklyn Dodgers: 0.457<br>",
          "New York Yankees: 0.273<br>New York Giants: 0.455<br>New York Giants: 0.597<br>New York Yankees: 0.666<br>Brooklyn Dodgers: 0.435<br>",
          "New York Yankees: 0.3<br>New York Giants: 0.667<br>New York Giants: 0.625<br>New York Yankees: 0.662<br>Brooklyn Dodgers: 0.405<br>",
          "New York Yankees: 0.5<br>New York Giants: 0.8<br>New York Giants: 0.553<br>New York Yankees: 0.651<br>Brooklyn Dodgers: 0.463<br>",
          "New York Yankees: 0.4<br>New York Giants: 0.9<br>New York Giants: 0.509<br>New York Yankees: 0.701<br>Brooklyn Dodgers: 0.549<br>",
          "New York Giants: 0.6<br>New York Yankees: 0.727<br>New York Giants: 0.473<br>New York Yankees: 0.571<br>Brooklyn Dodgers: 0.575<br>",
          "New York Yankees: 0.636<br>New York Giants: 0.727<br>New York Giants: 0.483<br>New York Yankees: 0.655<br>Brooklyn Dodgers: 0.649<br>",
          "New York Yankees: 0.273<br>New York Giants: 0.5<br>New York Giants: 0.559<br>New York Yankees: 0.668<br>Brooklyn Dodgers: 0.675<br>",
          "New York Yankees: 0.2<br>New York Giants: 0.667<br>New York Giants: 0.359<br>New York Yankees: 0.636<br>Brooklyn Dodgers: 0.529<br>",
          "New York Yankees: 0.0<br>New York Giants: 0.889<br>New York Giants: 0.435<br>New York Yankees: 0.538<br>Brooklyn Dodgers: 0.409<br>",
          "New York Giants: 0.333<br>New York Giants: 0.513<br>New York Yankees: 0.532<br>Brooklyn Dodgers: 0.564<br>",
          "Brooklyn Dodgers: 0.0<br>Brooklyn Dodgers: 0.615<br>New York Yankees: 0.0<br>New York Giants: 0.7<br>New York Giants: 0.396<br>New York Yankees: 0.564<br>New York Knicks: 0.55<br>",
          "Brooklyn Dodgers: 0.0<br>Brooklyn Dodgers: 0.610<br>New York Yankees: 0.0<br>New York Giants: 0.2<br>New York Giants: 0.525<br>New York Yankees: 0.629<br>New York Knicks: 0.542<br>",
          "Brooklyn Dodgers: 0.0<br>Brooklyn Dodgers: 0.545<br>New York Yankees: 0.0<br>New York Giants: 0.333<br>New York Giants: 0.506<br>New York Yankees: 0.610<br>New York Knicks: 0.533<br>",
          "New York Yankees: 0.0<br>New York Giants: 0.5<br>New York Giants: 0.474<br>New York Yankees: 0.629<br>New York Knicks: 0.588<br>Brooklyn Dodgers: 0.629<br>Syracuse Nationals: 0.797<br>",
          "New York Giants: 0.833<br>New York Giants: 0.558<br>New York Yankees: 0.636<br>New York Knicks: 0.545<br>New York Rangers: 0.4<br>Brooklyn Dodgers: 0.577<br>Syracuse Nationals: 0.485<br>",
          "New York Giants: 0.818<br>New York Giants: 0.624<br>New York Yankees: 0.636<br>New York Knicks: 0.561<br>New York Rangers: 0.285<br>Brooklyn Dodgers: 0.617<br>Syracuse Nationals: 0.606<br>",
          "New York Giants: 0.583<br>New York Giants: 0.597<br>New York Yankees: 0.616<br>New York Knicks: 0.671<br>New York Rangers: 0.328<br>Brooklyn Dodgers: 0.627<br>Syracuse Nationals: 0.662<br>",
          "New York Giants: 0.25<br>New York Giants: 0.454<br>New York Yankees: 0.655<br>New York Knicks: 0.611<br>New York Rangers: 0.242<br>Brooklyn Dodgers: 0.681<br>Syracuse Nationals: 0.583<br>",
          "New York Giants: 0.583<br>New York Giants: 0.629<br>New York Yankees: 0.668<br>New York Knicks: 0.528<br>New York Rangers: 0.414<br>Brooklyn Dodgers: 0.597<br>Syracuse Nationals: 0.597<br>",
          "New York Giants: 0.545<br>New York Giants: 0.519<br>New York Yankees: 0.623<br>New York Knicks: 0.486<br>New York Rangers: 0.242<br>Brooklyn Dodgers: 0.640<br>Syracuse Nationals: 0.486<br>",
          "New York Giants: 0.727<br>New York Giants: 0.435<br>New York Yankees: 0.629<br>New York Knicks: 0.5<br>New York Rangers: 0.457<br>Brooklyn Dodgers: 0.603<br>Syracuse Nationals: 0.528<br>",
          "New York Giants: 0.583<br>New York Giants: 0.448<br>New York Yankees: 0.636<br>New York Knicks: 0.486<br>New York Rangers: 0.371<br>Brooklyn Dodgers: 0.545<br>Syracuse Nationals: 0.569<br>",
          "New York Giants: 0.75<br>New York Yankees: 0.597<br>New York Knicks: 0.556<br>New York Rangers: 0.457<br>Syracuse Nationals: 0.486<br>",
          "New York Giants: 0.833<br>New York Yankees: 0.512<br>New York Knicks: 0.36<br>New York Rangers: 0.371<br>Syracuse Nationals: 0.6<br>",
          "New York Giants: 0.6<br>New York Yankees: 0.629<br>New York Knicks: 0.266<br>New York Rangers: 0.242<br>Syracuse Nationals: 0.481<br>",
          "New York Giants: 0.769<br>New York Yankees: 0.672<br>New York Knicks: 0.363<br>New York Rangers: 0.314<br>Syracuse Nationals: 0.513<br>",
          "New York Giants: 0.857<br>New York Yankees: 0.592<br>New York Mets: 0.25<br>New York Knicks: 0.263<br>New York Rangers: 0.371<br>Syracuse Nationals: 0.6<br>",
          "New York Jets: 0.385<br>New York Giants: 0.786<br>New York Yankees: 0.645<br>New York Mets: 0.314<br>New York Knicks: 0.275<br>New York Rangers: 0.314<br>",
          "New York Giants: 0.167<br>New York Jets: 0.385<br>New York Yankees: 0.611<br>New York Mets: 0.327<br>New York Knicks: 0.388<br>New York Rangers: 0.314<br>",
          "New York Jets: 0.385<br>New York Giants: 0.5<br>New York Yankees: 0.475<br>New York Mets: 0.308<br>New York Knicks: 0.375<br>New York Rangers: 0.285<br>",
          "New York Giants: 0.077<br>New York Jets: 0.5<br>New York Yankees: 0.440<br>New York Mets: 0.409<br>New York Knicks: 0.444<br>New York Rangers: 0.257<br>",
          "New York Giants: 0.5<br>New York Jets: 0.615<br>New York Yankees: 0.444<br>New York Mets: 0.376<br>New York Knicks: 0.524<br>New York Rangers: 0.428<br>",
          "New York Giants: 0.5<br>New York Jets: 0.786<br>New York Yankees: 0.512<br>New York Mets: 0.450<br>New York Knicks: 0.659<br>New York Rangers: 0.527<br>",
          "New York Giants: 0.429<br>New York Jets: 0.714<br>New York Yankees: 0.496<br>New York Mets: 0.617<br>New York Knicks: 0.732<br>New York Rangers: 0.539<br>",
          "New York Jets: 0.286<br>New York Giants: 0.643<br>New York Yankees: 0.574<br>New York Mets: 0.512<br>New York Knicks: 0.634<br>New York Rangers: 0.5<br>",
          "New York Giants: 0.286<br>New York Jets: 0.429<br>New York Yankees: 0.506<br>New York Mets: 0.512<br>New York Knicks: 0.585<br>New York Rangers: 0.628<br>",
          "New York Jets: 0.5<br>New York Giants: 0.571<br>New York Yankees: 0.509<br>New York Mets: 0.532<br>New York Knicks: 0.695<br>New York Rangers: 0.615<br>",
          "New York Giants: 0.179<br>New York Jets: 0.286<br>New York Yankees: 0.493<br>New York Mets: 0.509<br>New York Knicks: 0.598<br>New York Rangers: 0.602<br>New York Islanders: 0.153<br>",
          "New York Giants: 0.143<br>New York Jets: 0.5<br>New York Yankees: 0.549<br>New York Mets: 0.438<br>New York Knicks: 0.488<br>New York Rangers: 0.512<br>New York Islanders: 0.243<br>",
          "New York Jets: 0.214<br>New York Giants: 0.357<br>New York Yankees: 0.518<br>New York Mets: 0.506<br>New York Knicks: 0.463<br>New York Rangers: 0.462<br>New York Islanders: 0.412<br>",
          "New York Giants: 0.214<br>New York Jets: 0.214<br>New York Yankees: 0.610<br>New York Mets: 0.530<br>New York Knicks: 0.488<br>New York Islanders: 0.525<br>New York Rangers: 0.362<br>Brooklyn Nets: 0.268<br>",
          "New York Jets: 0.214<br>New York Giants: 0.357<br>New York Yankees: 0.617<br>New York Mets: 0.395<br>New York Knicks: 0.524<br>New York Islanders: 0.587<br>New York Rangers: 0.362<br>Brooklyn Nets: 0.293<br>",
          "New York Giants: 0.375<br>New York Jets: 0.5<br>New York Yankees: 0.613<br>New York Mets: 0.407<br>New York Knicks: 0.378<br>New York Islanders: 0.6<br>New York Rangers: 0.375<br>Brooklyn Nets: 0.451<br>",
          "New York Giants: 0.375<br>New York Jets: 0.5<br>New York Yankees: 0.556<br>New York Mets: 0.388<br>New York Knicks: 0.476<br>New York Islanders: 0.637<br>New York Rangers: 0.5<br>Brooklyn Nets: 0.415<br>",
          "New York Giants: 0.25<br>New York Jets: 0.25<br>New York Yankees: 0.635<br>New York Mets: 0.413<br>New York Knicks: 0.61<br>New York Islanders: 0.487<br>New York Rangers: 0.475<br>Brooklyn Nets: 0.293<br>",
          "New York Giants: 0.563<br>New York Jets: 0.656<br>New York Yankees: 0.551<br>New York Mets: 0.398<br>New York Knicks: 0.402<br>New York Islanders: 0.6<br>New York Rangers: 0.375<br>Brooklyn Nets: 0.537<br>",
          "New York Giants: 0.444<br>New York Jets: 0.667<br>New York Yankees: 0.487<br>New York Mets: 0.401<br>New York Knicks: 0.537<br>New York Islanders: 0.675<br>New York Rangers: 0.487<br>Brooklyn Nets: 0.598<br>",
          "New York Giants: 0.219<br>New York Jets: 0.438<br>New York Yankees: 0.561<br>New York Mets: 0.419<br>New York Knicks: 0.573<br>New York Islanders: 0.525<br>New York Rangers: 0.437<br>Brooklyn Nets: 0.549<br>New Jersey Devils: 0.212<br>",
          "New York Jets: 0.438<br>New York Giants: 0.563<br>New York Yankees: 0.537<br>New York Mets: 0.555<br>New York Knicks: 0.293<br>New York Islanders: 0.625<br>New York Rangers: 0.525<br>Brooklyn Nets: 0.512<br>New Jersey Devils: 0.212<br>",
          "New York Giants: 0.625<br>New York Jets: 0.688<br>New York Yankees: 0.602<br>New York Mets: 0.604<br>New York Knicks: 0.28<br>New York Islanders: 0.5<br>New York Rangers: 0.325<br>Brooklyn Nets: 0.476<br>New Jersey Devils: 0.275<br>",
          "New York Jets: 0.625<br>New York Giants: 0.875<br>New York Yankees: 0.555<br>New York Mets: 0.666<br>New York Knicks: 0.293<br>New York Islanders: 0.487<br>New York Rangers: 0.45<br>Brooklyn Nets: 0.293<br>New Jersey Devils: 0.35<br>",
          "New York Giants: 0.4<br>New York Jets: 0.4<br>New York Yankees: 0.549<br>New York Mets: 0.567<br>New York Knicks: 0.463<br>New York Islanders: 0.437<br>New York Rangers: 0.425<br>Brooklyn Nets: 0.232<br>New Jersey Devils: 0.362<br>",
          "New York Jets: 0.531<br>New York Giants: 0.625<br>New York Yankees: 0.527<br>New York Mets: 0.625<br>New York Knicks: 0.634<br>New York Islanders: 0.487<br>New York Rangers: 0.45<br>Brooklyn Nets: 0.317<br>New Jersey Devils: 0.475<br>",
          "New York Jets: 0.25<br>New York Giants: 0.75<br>New York Yankees: 0.459<br>New York Mets: 0.537<br>New York Knicks: 0.549<br>New York Rangers: 0.462<br>New York Islanders: 0.35<br>Brooklyn Nets: 0.207<br>New Jersey Devils: 0.337<br>",
          "New York Jets: 0.375<br>New York Giants: 0.813<br>New York Yankees: 0.413<br>New York Mets: 0.561<br>New York Knicks: 0.476<br>New York Rangers: 0.45<br>New York Islanders: 0.387<br>Brooklyn Nets: 0.317<br>New Jersey Devils: 0.462<br>",
          "New York Giants: 0.5<br>New York Jets: 0.5<br>New York Yankees: 0.438<br>New York Mets: 0.478<br>New York Knicks: 0.622<br>New York Rangers: 0.45<br>New York Islanders: 0.312<br>Brooklyn Nets: 0.488<br>New Jersey Devils: 0.4<br>",
          "New York Jets: 0.25<br>New York Giants: 0.375<br>New York Yankees: 0.469<br>New York Mets: 0.444<br>New York Knicks: 0.732<br>New York Rangers: 0.625<br>New York Islanders: 0.425<br>Brooklyn Nets: 0.524<br>New Jersey Devils: 0.475<br>",
          "New York Jets: 0.5<br>New York Giants: 0.688<br>New York Yankees: 0.543<br>New York Mets: 0.364<br>New York Knicks: 0.695<br>New York Islanders: 0.476<br>New York Rangers: 0.404<br>Brooklyn Nets: 0.549<br>New Jersey Devils: 0.476<br>",
          "New York Jets: 0.375<br>New York Giants: 0.563<br>New York Yankees: 0.619<br>New York Mets: 0.486<br>New York Knicks: 0.671<br>New York Rangers: 0.619<br>New York Islanders: 0.428<br>Brooklyn Nets: 0.366<br>New Jersey Devils: 0.559<br>",
          "New York Jets: 0.188<br>New York Giants: 0.313<br>New York Yankees: 0.548<br>New York Mets: 0.479<br>New York Knicks: 0.573<br>New York Rangers: 0.458<br>New York Islanders: 0.312<br>Brooklyn Nets: 0.366<br>New Jersey Devils: 0.458<br>",
          "New York Jets: 0.063<br>New York Giants: 0.375<br>New York Yankees: 0.567<br>New York Mets: 0.438<br>New York Knicks: 0.695<br>New York Rangers: 0.5<br>New York Islanders: 0.268<br>Brooklyn Nets: 0.317<br>New Jersey Devils: 0.451<br>",
          "New York Jets: 0.563<br>New York Giants: 0.656<br>New York Yankees: 0.592<br>New York Mets: 0.543<br>New York Knicks: 0.524<br>New York Rangers: 0.463<br>New York Islanders: 0.353<br>Brooklyn Nets: 0.524<br>New Jersey Devils: 0.548<br>",
          "New York Giants: 0.5<br>New York Jets: 0.75<br>New York Yankees: 0.703<br>New York Mets: 0.543<br>New York Knicks: 0.54<br>New York Islanders: 0.365<br>New York Rangers: 0.304<br>Brooklyn Nets: 0.32<br>New Jersey Devils: 0.585<br>",
          "New York Giants: 0.438<br>New York Jets: 0.5<br>New York Yankees: 0.604<br>New York Mets: 0.595<br>New York Knicks: 0.61<br>New York Rangers: 0.402<br>New York Islanders: 0.292<br>Brooklyn Nets: 0.378<br>New Jersey Devils: 0.573<br>",
          "New York Jets: 0.563<br>New York Giants: 0.75<br>New York Yankees: 0.540<br>New York Mets: 0.580<br>New York Knicks: 0.39<br>New York Knicks: 0.585<br>New York Rangers: 0.353<br>New York Islanders: 0.292<br>Brooklyn Nets: 0.317<br>New Jersey Devils: 0.548<br>",
          "New York Giants: 0.438<br>New York Jets: 0.625<br>New York Yankees: 0.593<br>New York Mets: 0.506<br>New York Knicks: 0.422<br>New York Knicks: 0.366<br>New York Rangers: 0.402<br>New York Islanders: 0.256<br>Brooklyn Nets: 0.634<br>New Jersey Devils: 0.585<br>",
          "New York Jets: 0.563<br>New York Giants: 0.625<br>New York Yankees: 0.639<br>New York Mets: 0.465<br>New York Knicks: 0.451<br>New York Islanders: 0.512<br>New York Rangers: 0.439<br>Brooklyn Nets: 0.598<br>New Jersey Devils: 0.5<br>",
          "New York Giants: 0.25<br>New York Jets: 0.375<br>New York Yankees: 0.623<br>New York Mets: 0.409<br>New York Knicks: 0.476<br>New York Islanders: 0.426<br>New York Rangers: 0.390<br>Brooklyn Nets: 0.573<br>New Jersey Devils: 0.560<br>",
          "New York Giants: 0.375<br>New York Jets: 0.625<br>New York Yankees: 0.623<br>New York Mets: 0.438<br>New York Knicks: 0.402<br>New York Islanders: 0.463<br>New York Rangers: 0.329<br>Brooklyn Nets: 0.512<br>New Jersey Devils: 0.524<br>",
          "New York Jets: 0.25<br>New York Giants: 0.688<br>New York Yankees: 0.586<br>New York Mets: 0.512<br>New York Knicks: 0.28<br>Brooklyn Nets: 0.598<br>",
          "New York Giants: 0.5<br>New York Jets: 0.625<br>New York Yankees: 0.598<br>New York Mets: 0.598<br>New York Knicks: 0.402<br>New York Rangers: 0.536<br>New York Islanders: 0.439<br>Brooklyn Nets: 0.5<br>New Jersey Devils: 0.560<br>",
          "New York Jets: 0.25<br>New York Giants: 0.625<br>New York Yankees: 0.580<br>New York Mets: 0.543<br>New York Knicks: 0.28<br>New York Rangers: 0.512<br>New York Islanders: 0.487<br>Brooklyn Nets: 0.415<br>New Jersey Devils: 0.597<br>",
          "New York Jets: 0.563<br>New York Giants: 0.75<br>New York Yankees: 0.549<br>New York Mets: 0.549<br>New York Knicks: 0.39<br>New York Rangers: 0.512<br>New York Islanders: 0.426<br>Brooklyn Nets: 0.415<br>New Jersey Devils: 0.560<br>",
          "New York Giants: 0.5<br>New York Jets: 0.563<br>New York Yankees: 0.635<br>New York Mets: 0.432<br>New York Knicks: 0.354<br>New York Rangers: 0.524<br>New York Islanders: 0.317<br>Brooklyn Nets: 0.146<br>New Jersey Devils: 0.621<br>",
          "New York Giants: 0.625<br>New York Jets: 0.688<br>New York Yankees: 0.586<br>New York Mets: 0.487<br>New York Knicks: 0.512<br>New York Rangers: 0.463<br>New York Islanders: 0.414<br>Brooklyn Nets: 0.293<br>New Jersey Devils: 0.585<br>",
          "New York Jets: 0.5<br>New York Giants: 0.563<br>New York Yankees: 0.598<br>New York Mets: 0.475<br>New York Knicks: 0.545<br>New York Rangers: 0.536<br>New York Islanders: 0.365<br>Brooklyn Nets: 0.333<br>New Jersey Devils: 0.463<br>",
          "New York Jets: 0.375<br>New York Giants: 0.563<br>New York Yankees: 0.586<br>New York Mets: 0.456<br>New York Knicks: 0.659<br>New York Rangers: 0.621<br>New York Islanders: 0.414<br>Brooklyn Nets: 0.598<br>New Jersey Devils: 0.585<br>",
          "New York Giants: 0.438<br>New York Jets: 0.5<br>New York Yankees: 0.524<br>New York Mets: 0.456<br>New York Knicks: 0.451<br>New York Rangers: 0.541<br>New York Islanders: 0.5<br>Brooklyn Nets: 0.537<br>New Jersey Devils: 0.395<br>",
          "New York Jets: 0.25<br>New York Giants: 0.375<br>New York Yankees: 0.518<br>New York Mets: 0.487<br>New York Knicks: 0.207<br>New York Rangers: 0.548<br>New York Islanders: 0.414<br>Brooklyn Nets: 0.463<br>New Jersey Devils: 0.426<br>",
          "New York Giants: 0.375<br>New York Jets: 0.625<br>New York Yankees: 0.537<br>New York Mets: 0.555<br>New York Rangers: 0.646<br>New York Islanders: 0.573<br>Brooklyn Nets: 0.256<br>New Jersey Devils: 0.390<br>",
          "New York Jets: 0.313<br>New York Giants: 0.688<br>New York Yankees: 0.518<br>New York Mets: 0.537<br>New York Rangers: 0.560<br>New York Islanders: 0.548<br>Brooklyn Nets: 0.214<br>New Jersey Devils: 0.463<br>",
          "New York Giants: 0.188<br>New York Jets: 0.313<br>New York Yankees: 0.561<br>New York Mets: 0.432<br>New York Rangers: 0.585<br>New York Islanders: 0.5<br>New Jersey Devils: 0.341<br>",
          "New York Jets: 0.25<br>New York Giants: 0.313<br>New York Yankees: 0.617<br>New York Mets: 0.475<br>New York Islanders: 0.426<br>New York Rangers: 0.414<br>New Jersey Devils: 0.536<br>",
          "New York Giants: 0.25<br>New York Jets: 0.438<br>New York Yankees: 0.635<br>New York Mets: 0.530<br>New York Islanders: 0.585<br>New York Rangers: 0.390<br>New Jersey Devils: 0.378<br>",
          "New York Jets: 0.125<br>New York Giants: 0.375<br>New York Yankees: 0.55<br>New York Mets: 0.433<br>New York Islanders: 0.514<br>New York Rangers: 0.528<br>New Jersey Devils: 0.405<br>"
         ],
         "type": "scatter",
         "x": [
          1921,
          1922,
          1923,
          1924,
          1925,
          1926,
          1927,
          1928,
          1929,
          1930,
          1931,
          1932,
          1933,
          1934,
          1935,
          1936,
          1937,
          1938,
          1939,
          1940,
          1941,
          1942,
          1943,
          1944,
          1945,
          1946,
          1947,
          1948,
          1949,
          1950,
          1951,
          1952,
          1953,
          1954,
          1955,
          1956,
          1957,
          1958,
          1959,
          1960,
          1961,
          1962,
          1963,
          1964,
          1965,
          1966,
          1967,
          1968,
          1969,
          1970,
          1971,
          1972,
          1973,
          1974,
          1975,
          1976,
          1977,
          1978,
          1979,
          1980,
          1981,
          1982,
          1983,
          1984,
          1985,
          1986,
          1987,
          1988,
          1989,
          1990,
          1991,
          1992,
          1993,
          1994,
          1995,
          1996,
          1997,
          1998,
          1999,
          2000,
          2001,
          2002,
          2003,
          2004,
          2005,
          2006,
          2007,
          2008,
          2009,
          2010,
          2011,
          2012,
          2013,
          2014,
          2015,
          2016,
          2017,
          2018,
          2019,
          2020
         ],
         "y": [
          0.5871603027175782,
          0.42694805194805197,
          0.466031673658299,
          0.5247544100893946,
          0.34904764436343383,
          0.5135046006093922,
          0.5714208188325836,
          0.4920016467192938,
          0.5790393836710549,
          0.5355454545454545,
          0.4582473913542025,
          0.42671861471861466,
          0.5944374957000345,
          0.5328676021604813,
          0.5709206035881914,
          0.4854268398268398,
          0.5319132841015194,
          0.593547274225833,
          0.6121880275288925,
          0.5894552361295394,
          0.6303709871827519,
          0.5352732740943267,
          0.478450505050505,
          0.4544233766233766,
          0.4859969241285031,
          0.4037747966319395,
          0.3583191094619666,
          0.3611910946196661,
          0.5169666048237477,
          0.5765324675324675,
          0.5927308769483474,
          0.5837583033213285,
          0.4969785597562324,
          0.5740556586270872,
          0.5061767373616113,
          0.5544248608534322,
          0.519899814471243,
          0.5693090909090909,
          0.5354831168831169,
          0.44394545454545453,
          0.5264250440917108,
          0.4890035273368607,
          0.45351054366996396,
          0.3654262198706643,
          0.3882774838330394,
          0.3547220529447765,
          0.48142651381540275,
          0.5724983316649984,
          0.5881086741276164,
          0.52490329218107,
          0.49112060778727445,
          0.5705188861317894,
          0.4032220267272027,
          0.41072351105684435,
          0.4191318342151676,
          0.40155338632657817,
          0.4187932098765432,
          0.4624880424903431,
          0.4810798611111111,
          0.42686033950617286,
          0.5103075151982579,
          0.5371736111111112,
          0.4372757201646091,
          0.473454732510288,
          0.486269193739403,
          0.5106358024691358,
          0.4263648834019204,
          0.5191611456176674,
          0.4336293740255093,
          0.472923182441701,
          0.4654480527226099,
          0.47995336076817563,
          0.5218389182833627,
          0.5209263941564826,
          0.4107716049382716,
          0.40840944829201375,
          0.5298506808524875,
          0.5125567934691693,
          0.48825810878573833,
          0.49207415356072126,
          0.4828825278530563,
          0.5326455082563248,
          0.4539381620900021,
          0.4769779517548262,
          0.4857942386831276,
          0.5290129144501322,
          0.47677975174813475,
          0.5240850480109739,
          0.45492398541269363,
          0.5172765231356018,
          0.4867697480678511,
          0.5400178995617116,
          0.482775720164609,
          0.41015741577168857,
          0.494793586269196,
          0.4804657859078591,
          0.41737948982664425,
          0.43337733901148534,
          0.4583321718931475,
          0.41891539224385405
         ]
        },
        {
         "hovertemplate": "<br><b>Year</b>: %{x}<br><b>Winning Pct.</b>: %{y:.2f}<br>%{text}<extra></extra>",
         "mode": "lines",
         "name": "Boston (0.516)",
         "text": [
          "Boston Red Sox: 0.487<br>Boston Braves: 0.516<br>",
          "Boston Red Sox: 0.396<br>Boston Braves: 0.346<br>",
          "Boston Red Sox: 0.401<br>Boston Braves: 0.350<br>",
          "Boston Red Sox: 0.435<br>Boston Braves: 0.346<br>",
          "Boston Bulldogs: 0.833<br>Boston Red Sox: 0.309<br>Boston Braves: 0.457<br>",
          "Boston Bulldogs: 0.909<br>Boston Red Sox: 0.300<br>Boston Braves: 0.434<br>",
          "Boston Bulldogs: 0.417<br>Boston Red Sox: 0.331<br>Boston Braves: 0.389<br>",
          "Boston Bulldogs: 0.2<br>Boston Red Sox: 0.372<br>Boston Braves: 0.326<br>",
          "Boston Bulldogs: 0.5<br>Boston Red Sox: 0.376<br>Boston Braves: 0.363<br>",
          "Boston Red Sox: 0.337<br>Boston Braves: 0.454<br>",
          "Boston Red Sox: 0.407<br>Boston Braves: 0.415<br>",
          "Boston Red Sox: 0.279<br>Boston Braves: 0.5<br>",
          "Boston Red Sox: 0.422<br>Boston Braves: 0.538<br>",
          "Boston Red Sox: 0.5<br>Boston Braves: 0.516<br>",
          "Boston Red Sox: 0.509<br>Boston Braves: 0.248<br>",
          "Boston Red Sox: 0.480<br>Boston Bees: 0.461<br>",
          "Boston Red Sox: 0.526<br>Boston Bees: 0.519<br>",
          "Boston Red Sox: 0.590<br>Boston Bees: 0.506<br>",
          "Boston Red Sox: 0.589<br>Boston Bees: 0.417<br>",
          "Boston Red Sox: 0.532<br>Boston Bees: 0.427<br>",
          "Boston Red Sox: 0.545<br>Boston Braves: 0.402<br>",
          "Boston Red Sox: 0.611<br>Boston Braves: 0.398<br>",
          "Boston Red Sox: 0.447<br>Boston Braves: 0.444<br>",
          "Boston Red Sox: 0.5<br>Boston Braves: 0.422<br>",
          "Boston Red Sox: 0.461<br>Boston Braves: 0.440<br>",
          "Boston Red Sox: 0.675<br>Boston Braves: 0.529<br>Boston Celtics: 0.367<br>",
          "Boston Red Sox: 0.538<br>Boston Braves: 0.558<br>Boston Celtics: 0.417<br>",
          "Boston Red Sox: 0.619<br>Boston Braves: 0.594<br>Boston Celtics: 0.417<br>",
          "Boston Red Sox: 0.623<br>Boston Braves: 0.487<br>Boston Celtics: 0.324<br>",
          "Boston Red Sox: 0.610<br>Boston Braves: 0.538<br>Boston Celtics: 0.565<br>Boston Bruins: 0.314<br>",
          "Boston Red Sox: 0.564<br>Boston Braves: 0.493<br>Boston Celtics: 0.591<br>Boston Bruins: 0.314<br>",
          "Boston Red Sox: 0.493<br>Boston Braves: 0.418<br>Boston Celtics: 0.648<br>Boston Bruins: 0.357<br>",
          "Boston Red Sox: 0.549<br>Boston Celtics: 0.583<br>Boston Bruins: 0.4<br>",
          "Boston Red Sox: 0.448<br>Boston Celtics: 0.5<br>Boston Bruins: 0.457<br>",
          "Boston Red Sox: 0.545<br>Boston Celtics: 0.542<br>Boston Bruins: 0.328<br>",
          "Boston Red Sox: 0.545<br>Boston Celtics: 0.611<br>Boston Bruins: 0.328<br>",
          "Boston Red Sox: 0.532<br>Boston Celtics: 0.681<br>Boston Bruins: 0.485<br>",
          "Boston Red Sox: 0.512<br>Boston Celtics: 0.722<br>Boston Bruins: 0.385<br>",
          "Boston Red Sox: 0.487<br>Boston Celtics: 0.787<br>Boston Bruins: 0.457<br>",
          "New England Patriots: 0.357<br>Boston Red Sox: 0.422<br>Boston Celtics: 0.722<br>Boston Bruins: 0.4<br>",
          "New England Patriots: 0.692<br>Boston Red Sox: 0.469<br>Boston Celtics: 0.75<br>Boston Bruins: 0.214<br>",
          "New England Patriots: 0.692<br>Boston Red Sox: 0.475<br>Boston Celtics: 0.725<br>Boston Bruins: 0.214<br>",
          "New England Patriots: 0.538<br>Boston Red Sox: 0.472<br>Boston Celtics: 0.738<br>Boston Bruins: 0.2<br>",
          "New England Patriots: 0.769<br>Boston Red Sox: 0.444<br>Boston Celtics: 0.775<br>Boston Bruins: 0.257<br>",
          "New England Patriots: 0.333<br>Boston Red Sox: 0.382<br>Boston Celtics: 0.675<br>Boston Bruins: 0.3<br>",
          "New England Patriots: 0.667<br>Boston Red Sox: 0.444<br>Boston Celtics: 0.741<br>Boston Bruins: 0.3<br>",
          "New England Patriots: 0.231<br>Boston Red Sox: 0.567<br>Boston Celtics: 0.659<br>Boston Bruins: 0.242<br>",
          "New England Patriots: 0.286<br>Boston Red Sox: 0.530<br>Boston Celtics: 0.585<br>Boston Bruins: 0.5<br>",
          "New England Patriots: 0.286<br>Boston Red Sox: 0.537<br>Boston Celtics: 0.415<br>Boston Bruins: 0.552<br>",
          "New England Patriots: 0.143<br>Boston Red Sox: 0.537<br>Boston Celtics: 0.537<br>Boston Bruins: 0.526<br>",
          "New England Patriots: 0.429<br>Boston Red Sox: 0.524<br>Boston Celtics: 0.683<br>Boston Bruins: 0.730<br>",
          "New England Patriots: 0.214<br>Boston Red Sox: 0.548<br>Boston Celtics: 0.829<br>Boston Bruins: 0.692<br>",
          "New England Patriots: 0.357<br>Boston Red Sox: 0.549<br>Boston Celtics: 0.683<br>Boston Bruins: 0.653<br>",
          "New England Patriots: 0.5<br>Boston Red Sox: 0.518<br>Boston Celtics: 0.732<br>Boston Bruins: 0.666<br>",
          "New England Patriots: 0.214<br>Boston Red Sox: 0.593<br>Boston Celtics: 0.659<br>Boston Bruins: 0.5<br>",
          "New England Patriots: 0.786<br>Boston Red Sox: 0.512<br>Boston Celtics: 0.537<br>Boston Bruins: 0.6<br>",
          "New England Patriots: 0.643<br>Boston Red Sox: 0.602<br>Boston Celtics: 0.39<br>Boston Bruins: 0.612<br>",
          "New England Patriots: 0.688<br>Boston Red Sox: 0.607<br>Boston Celtics: 0.354<br>Boston Bruins: 0.637<br>",
          "New England Patriots: 0.563<br>Boston Red Sox: 0.568<br>Boston Celtics: 0.744<br>Boston Bruins: 0.537<br>",
          "New England Patriots: 0.625<br>Boston Red Sox: 0.518<br>Boston Celtics: 0.756<br>Boston Bruins: 0.575<br>",
          "New England Patriots: 0.125<br>Boston Red Sox: 0.546<br>Boston Celtics: 0.768<br>Boston Bruins: 0.462<br>",
          "New England Patriots: 0.556<br>Boston Red Sox: 0.549<br>Boston Celtics: 0.683<br>Boston Bruins: 0.537<br>",
          "New England Patriots: 0.5<br>Boston Red Sox: 0.481<br>Boston Celtics: 0.756<br>Boston Bruins: 0.625<br>",
          "New England Patriots: 0.563<br>Boston Red Sox: 0.530<br>Boston Celtics: 0.768<br>Boston Bruins: 0.612<br>",
          "New England Patriots: 0.688<br>Boston Red Sox: 0.5<br>Boston Celtics: 0.817<br>Boston Bruins: 0.45<br>",
          "New England Patriots: 0.688<br>Boston Red Sox: 0.590<br>Boston Celtics: 0.72<br>Boston Bruins: 0.462<br>",
          "New England Patriots: 0.533<br>Boston Red Sox: 0.481<br>Boston Celtics: 0.695<br>Boston Bruins: 0.487<br>",
          "New England Patriots: 0.563<br>Boston Red Sox: 0.549<br>Boston Celtics: 0.512<br>Boston Bruins: 0.55<br>",
          "New England Patriots: 0.313<br>Boston Red Sox: 0.512<br>Boston Celtics: 0.634<br>Boston Bruins: 0.462<br>",
          "New England Patriots: 0.063<br>Boston Red Sox: 0.543<br>Boston Celtics: 0.683<br>Boston Bruins: 0.575<br>",
          "New England Patriots: 0.375<br>Boston Red Sox: 0.518<br>Boston Celtics: 0.622<br>Boston Bruins: 0.55<br>",
          "New England Patriots: 0.125<br>Boston Red Sox: 0.450<br>Boston Celtics: 0.585<br>Boston Bruins: 0.45<br>",
          "New England Patriots: 0.313<br>Boston Red Sox: 0.493<br>Boston Celtics: 0.39<br>Boston Bruins: 0.607<br>",
          "New England Patriots: 0.625<br>Boston Red Sox: 0.469<br>Boston Celtics: 0.427<br>Boston Bruins: 0.5<br>",
          "New England Patriots: 0.375<br>Boston Red Sox: 0.597<br>Boston Celtics: 0.402<br>Boston Bruins: 0.562<br>",
          "New England Patriots: 0.688<br>Boston Red Sox: 0.524<br>Boston Celtics: 0.183<br>Boston Bruins: 0.487<br>",
          "New England Patriots: 0.625<br>Boston Red Sox: 0.481<br>Boston Celtics: 0.439<br>Boston Bruins: 0.317<br>",
          "New England Patriots: 0.563<br>Boston Red Sox: 0.567<br>Boston Celtics: 0.38<br>Boston Bruins: 0.475<br>",
          "New England Patriots: 0.5<br>Boston Red Sox: 0.580<br>Boston Celtics: 0.427<br>Boston Bruins: 0.475<br>",
          "New England Patriots: 0.313<br>Boston Red Sox: 0.524<br>Boston Celtics: 0.439<br>Boston Bruins: 0.292<br>",
          "New England Patriots: 0.688<br>Boston Red Sox: 0.509<br>Boston Celtics: 0.598<br>Boston Bruins: 0.439<br>",
          "New England Patriots: 0.563<br>Boston Red Sox: 0.574<br>Boston Celtics: 0.537<br>Boston Bruins: 0.524<br>",
          "New England Patriots: 0.875<br>Boston Red Sox: 0.586<br>Boston Celtics: 0.439<br>Boston Bruins: 0.439<br>",
          "New England Patriots: 0.875<br>Boston Red Sox: 0.604<br>Boston Celtics: 0.549<br>Boston Bruins: 0.5<br>",
          "New England Patriots: 0.625<br>Boston Red Sox: 0.586<br>Boston Celtics: 0.402<br>",
          "New England Patriots: 0.75<br>Boston Red Sox: 0.530<br>Boston Celtics: 0.293<br>Boston Bruins: 0.353<br>",
          "New England Patriots: 1.0<br>Boston Red Sox: 0.592<br>Boston Celtics: 0.805<br>Boston Bruins: 0.426<br>",
          "New England Patriots: 0.688<br>Boston Red Sox: 0.586<br>Boston Celtics: 0.756<br>Boston Bruins: 0.5<br>",
          "New England Patriots: 0.625<br>Boston Red Sox: 0.586<br>Boston Celtics: 0.61<br>Boston Bruins: 0.646<br>",
          "New England Patriots: 0.875<br>Boston Red Sox: 0.549<br>Boston Celtics: 0.683<br>Boston Bruins: 0.475<br>",
          "New England Patriots: 0.813<br>Boston Red Sox: 0.555<br>Boston Celtics: 0.591<br>Boston Bruins: 0.560<br>",
          "New England Patriots: 0.75<br>Boston Red Sox: 0.425<br>Boston Celtics: 0.506<br>Boston Bruins: 0.597<br>",
          "New England Patriots: 0.75<br>Boston Red Sox: 0.598<br>Boston Celtics: 0.305<br>Boston Bruins: 0.583<br>",
          "New England Patriots: 0.75<br>Boston Red Sox: 0.438<br>Boston Celtics: 0.488<br>Boston Bruins: 0.658<br>",
          "New England Patriots: 0.75<br>Boston Red Sox: 0.481<br>Boston Celtics: 0.585<br>Boston Bruins: 0.5<br>",
          "New England Patriots: 0.875<br>Boston Red Sox: 0.574<br>Boston Celtics: 0.625<br>Boston Bruins: 0.512<br>",
          "New England Patriots: 0.813<br>Boston Red Sox: 0.574<br>Boston Bruins: 0.536<br>",
          "New England Patriots: 0.688<br>Boston Red Sox: 0.666<br>Boston Bruins: 0.609<br>",
          "New England Patriots: 0.75<br>Boston Red Sox: 0.518<br>Boston Bruins: 0.597<br>",
          "New England Patriots: 0.438<br>Boston Red Sox: 0.4<br>Boston Bruins: 0.628<br>"
         ],
         "type": "scatter",
         "x": [
          1921,
          1922,
          1923,
          1924,
          1925,
          1926,
          1927,
          1928,
          1929,
          1930,
          1931,
          1932,
          1933,
          1934,
          1935,
          1936,
          1937,
          1938,
          1939,
          1940,
          1941,
          1942,
          1943,
          1944,
          1945,
          1946,
          1947,
          1948,
          1949,
          1950,
          1951,
          1952,
          1953,
          1954,
          1955,
          1956,
          1957,
          1958,
          1959,
          1960,
          1961,
          1962,
          1963,
          1964,
          1965,
          1966,
          1967,
          1968,
          1969,
          1970,
          1971,
          1972,
          1973,
          1974,
          1975,
          1976,
          1977,
          1978,
          1979,
          1980,
          1981,
          1982,
          1983,
          1984,
          1985,
          1986,
          1987,
          1988,
          1989,
          1990,
          1991,
          1992,
          1993,
          1994,
          1995,
          1996,
          1997,
          1998,
          1999,
          2000,
          2001,
          2002,
          2003,
          2004,
          2005,
          2006,
          2007,
          2008,
          2009,
          2010,
          2011,
          2012,
          2013,
          2014,
          2015,
          2016,
          2017,
          2018,
          2019,
          2020
         ],
         "y": [
          0.5016764281470164,
          0.37125456243103305,
          0.3759825700615175,
          0.3907350819115525,
          0.5332422887283569,
          0.5479547070290104,
          0.37925974025974024,
          0.29978213507625273,
          0.4134199134199134,
          0.39610389610389607,
          0.4117395762132604,
          0.38961038961038963,
          0.4808899154536739,
          0.5082781456953642,
          0.3790849673202614,
          0.47077922077922074,
          0.5230263157894737,
          0.5485914871070293,
          0.5033112582781457,
          0.48004955570745045,
          0.474025974025974,
          0.5052453769559032,
          0.44590643274853803,
          0.461038961038961,
          0.45091421736158577,
          0.5239121466768526,
          0.5048008658008658,
          0.5437086935132476,
          0.4781298701298701,
          0.5071590909090908,
          0.4909318181818182,
          0.47923750106103047,
          0.5106732026143791,
          0.46839826839826837,
          0.472008658008658,
          0.49500865800865795,
          0.5663939393939393,
          0.5402337662337663,
          0.577051948051948,
          0.4752694805194805,
          0.5313553791887125,
          0.5265714285714286,
          0.48701242236024844,
          0.5613968253968253,
          0.422679012345679,
          0.5381111111111111,
          0.425189594356261,
          0.4754660493827161,
          0.4476671539961014,
          0.43583820662768036,
          0.5918651471984806,
          0.5709236972704714,
          0.5608072174738842,
          0.6042962962962963,
          0.4916875,
          0.6088364197530864,
          0.5619961180124224,
          0.571715490797546,
          0.6033124999999999,
          0.6186875000000001,
          0.4754490740740741,
          0.5814706790123457,
          0.5906203703703703,
          0.618591049382716,
          0.61375,
          0.6151405279503106,
          0.5492453703703704,
          0.5435956790123457,
          0.4804614197530864,
          0.46605246913580245,
          0.5163796296296297,
          0.4026543209876543,
          0.45099250440917105,
          0.5053913043478261,
          0.48418055555555556,
          0.47087405901836793,
          0.4656386630532972,
          0.4966277476663655,
          0.49571416741945196,
          0.3923435712134899,
          0.5585852901075594,
          0.5496160794941283,
          0.5848610358325805,
          0.6322345679012346,
          0.5378065843621399,
          0.4818806835290575,
          0.7061054652213189,
          0.6326049382716049,
          0.6169403041252635,
          0.6457481180367359,
          0.6301327913279133,
          0.5698717253839205,
          0.5592746913580247,
          0.5837020475760313,
          0.5791203703703703,
          0.6465672990063234,
          0.6412198133092443,
          0.6548075880758807,
          0.6220264980427582,
          0.4888571428571429
         ]
        },
        {
         "hovertemplate": "<br><b>Year</b>: %{x}<br><b>Winning Pct.</b>: %{y:.2f}<br>%{text}<extra></extra>",
         "mode": "lines",
         "name": "Los Angeles (0.499)",
         "text": [
          "Los Angeles Buccaneers: 0.75<br>",
          "Los Angeles Rams: 0.091<br>",
          "Los Angeles Rams: 0.364<br>",
          "Los Angeles Rams: 0.5<br>",
          "Los Angeles Rams: 0.4<br>",
          "Los Angeles Rams: 0.182<br>",
          "Los Angeles Rams: 0.455<br>",
          "Los Angeles Rams: 0.4<br>",
          "Los Angeles Rams: 0.9<br>",
          "Los Angeles Dons: 0.0<br>Los Angeles Rams: 0.6<br>",
          "Los Angeles Dons: 0.0<br>Los Angeles Rams: 0.5<br>",
          "Los Angeles Dons: 0.0<br>Los Angeles Rams: 0.545<br>Los Angeles Lakers: 0.733<br>",
          "Los Angeles Dons: 0.0<br>Los Angeles Rams: 0.8<br>Los Angeles Lakers: 0.75<br>",
          "Los Angeles Rams: 0.75<br>Los Angeles Lakers: 0.647<br>",
          "Los Angeles Rams: 0.667<br>Los Angeles Lakers: 0.606<br>",
          "Los Angeles Rams: 0.75<br>Los Angeles Lakers: 0.686<br>",
          "Los Angeles Rams: 0.727<br>Los Angeles Lakers: 0.639<br>",
          "Los Angeles Rams: 0.545<br>Los Angeles Lakers: 0.556<br>",
          "Los Angeles Rams: 0.727<br>Los Angeles Lakers: 0.458<br>",
          "Los Angeles Rams: 0.333<br>Los Angeles Lakers: 0.472<br>",
          "Los Angeles Rams: 0.5<br>Los Angeles Lakers: 0.264<br>",
          "Los Angeles Rams: 0.667<br>Los Angeles Dodgers: 0.461<br>Los Angeles Lakers: 0.458<br>",
          "Los Angeles Rams: 0.167<br>Los Angeles Dodgers: 0.564<br>Los Angeles Lakers: 0.333<br>",
          "Los Angeles Rams: 0.364<br>Los Angeles Chargers: 0.714<br>Los Angeles Dodgers: 0.532<br>Los Angeles Lakers: 0.456<br>",
          "Los Angeles Rams: 0.286<br>Los Angeles Chargers: 0.857<br>Los Angeles Angels: 0.434<br>Los Angeles Dodgers: 0.577<br>Los Angeles Lakers: 0.675<br>",
          "Los Angeles Rams: 0.077<br>Los Angeles Chargers: 0.286<br>Los Angeles Angels: 0.530<br>Los Angeles Dodgers: 0.618<br>Los Angeles Lakers: 0.663<br>",
          "Los Angeles Rams: 0.357<br>Los Angeles Chargers: 0.786<br>Los Angeles Angels: 0.434<br>Los Angeles Dodgers: 0.611<br>Los Angeles Lakers: 0.525<br>",
          "Los Angeles Rams: 0.417<br>Los Angeles Chargers: 0.615<br>Los Angeles Angels: 0.506<br>Los Angeles Dodgers: 0.493<br>Los Angeles Lakers: 0.613<br>",
          "Los Angeles Rams: 0.286<br>Los Angeles Chargers: 0.818<br>Los Angeles Dodgers: 0.598<br>Los Angeles Lakers: 0.563<br>",
          "Los Angeles Chargers: 0.538<br>Los Angeles Rams: 0.571<br>Los Angeles Dodgers: 0.586<br>Los Angeles Lakers: 0.444<br>",
          "Los Angeles Chargers: 0.615<br>Los Angeles Rams: 0.917<br>Los Angeles Dodgers: 0.450<br>Los Angeles Lakers: 0.634<br>",
          "Los Angeles Chargers: 0.643<br>Los Angeles Rams: 0.769<br>Los Angeles Dodgers: 0.469<br>Los Angeles Lakers: 0.671<br>Los Angeles Kings: 0.418<br>",
          "Los Angeles Chargers: 0.571<br>Los Angeles Rams: 0.786<br>Los Angeles Dodgers: 0.524<br>Los Angeles Lakers: 0.561<br>Los Angeles Kings: 0.315<br>",
          "Los Angeles Chargers: 0.455<br>Los Angeles Rams: 0.692<br>Los Angeles Dodgers: 0.540<br>Los Angeles Lakers: 0.585<br>Los Angeles Kings: 0.184<br>",
          "Los Angeles Chargers: 0.429<br>Los Angeles Rams: 0.615<br>Los Angeles Dodgers: 0.549<br>Los Angeles Lakers: 0.841<br>Los Angeles Kings: 0.320<br>",
          "Los Angeles Chargers: 0.321<br>Los Angeles Rams: 0.464<br>Los Angeles Dodgers: 0.548<br>Los Angeles Lakers: 0.732<br>Los Angeles Kings: 0.256<br>",
          "Los Angeles Chargers: 0.179<br>Los Angeles Rams: 0.857<br>Los Angeles Dodgers: 0.590<br>Los Angeles Lakers: 0.573<br>Los Angeles Kings: 0.397<br>",
          "Los Angeles Chargers: 0.357<br>Los Angeles Rams: 0.714<br>Los Angeles Dodgers: 0.629<br>Los Angeles Lakers: 0.366<br>Los Angeles Kings: 0.423<br>",
          "Los Angeles Chargers: 0.143<br>Los Angeles Rams: 0.857<br>Los Angeles Dodgers: 0.543<br>Los Angeles Lakers: 0.488<br>Los Angeles Kings: 0.525<br>",
          "Los Angeles Chargers: 0.429<br>Los Angeles Rams: 0.75<br>Los Angeles Dodgers: 0.567<br>Los Angeles Lakers: 0.646<br>Los Angeles Kings: 0.475<br>",
          "Los Angeles Chargers: 0.5<br>Los Angeles Rams: 0.714<br>Los Angeles Dodgers: 0.604<br>Los Angeles Lakers: 0.549<br>Los Angeles Kings: 0.425<br>",
          "Los Angeles Chargers: 0.563<br>Los Angeles Rams: 0.75<br>Los Angeles Dodgers: 0.586<br>Los Angeles Clippers: 0.524<br>Los Angeles Lakers: 0.573<br>Los Angeles Kings: 0.387<br>",
          "Los Angeles Rams: 0.563<br>Los Angeles Chargers: 0.75<br>Los Angeles Dodgers: 0.487<br>Los Angeles Clippers: 0.427<br>Los Angeles Lakers: 0.732<br>Los Angeles Kings: 0.425<br>",
          "Los Angeles Chargers: 0.688<br>Los Angeles Rams: 0.688<br>Los Angeles Dodgers: 0.564<br>Los Angeles Clippers: 0.439<br>Los Angeles Lakers: 0.659<br>Los Angeles Kings: 0.375<br>",
          "Los Angeles Rams: 0.375<br>Los Angeles Chargers: 0.625<br>Los Angeles Dodgers: 0.572<br>Los Angeles Clippers: 0.207<br>Los Angeles Lakers: 0.695<br>Los Angeles Kings: 0.537<br>",
          "Los Angeles Rams: 0.222<br>Los Angeles Chargers: 0.667<br>Los Angeles Dodgers: 0.543<br>Los Angeles Clippers: 0.305<br>Los Angeles Lakers: 0.707<br>Los Angeles Kings: 0.3<br>",
          "Los Angeles Chargers: 0.375<br>Los Angeles Rams: 0.563<br>Los Angeles Dodgers: 0.561<br>Los Angeles Clippers: 0.366<br>Los Angeles Lakers: 0.659<br>Los Angeles Kings: 0.337<br>",
          "Los Angeles Chargers: 0.438<br>Los Angeles Rams: 0.625<br>Los Angeles Dodgers: 0.487<br>Los Angeles Clippers: 0.378<br>Los Angeles Lakers: 0.756<br>Los Angeles Kings: 0.287<br>",
          "Los Angeles Chargers: 0.5<br>Los Angeles Rams: 0.688<br>Los Angeles Dodgers: 0.586<br>Los Angeles Clippers: 0.39<br>Los Angeles Lakers: 0.756<br>Los Angeles Kings: 0.425<br>",
          "Los Angeles Chargers: 0.25<br>Los Angeles Rams: 0.625<br>Los Angeles Dodgers: 0.450<br>Los Angeles Clippers: 0.146<br>Los Angeles Lakers: 0.793<br>Los Angeles Kings: 0.287<br>",
          "Los Angeles Rams: 0.4<br>Los Angeles Chargers: 0.533<br>Los Angeles Dodgers: 0.450<br>Los Angeles Clippers: 0.207<br>Los Angeles Lakers: 0.756<br>Los Angeles Kings: 0.387<br>",
          "Los Angeles Chargers: 0.375<br>Los Angeles Rams: 0.625<br>Los Angeles Dodgers: 0.583<br>Los Angeles Clippers: 0.256<br>Los Angeles Lakers: 0.695<br>Los Angeles Kings: 0.375<br>",
          "Los Angeles Chargers: 0.375<br>Los Angeles Rams: 0.688<br>Los Angeles Dodgers: 0.481<br>Los Angeles Clippers: 0.366<br>Los Angeles Lakers: 0.768<br>Los Angeles Kings: 0.525<br>",
          "Los Angeles Rams: 0.313<br>Los Angeles Chargers: 0.375<br>Los Angeles Dodgers: 0.530<br>Los Angeles Clippers: 0.378<br>Los Angeles Lakers: 0.707<br>Los Angeles Kings: 0.425<br>",
          "Los Angeles Rams: 0.188<br>Los Angeles Chargers: 0.25<br>Los Angeles Dodgers: 0.574<br>Los Angeles Clippers: 0.549<br>Los Angeles Lakers: 0.524<br>Los Angeles Kings: 0.575<br>",
          "Los Angeles Rams: 0.375<br>Los Angeles Chargers: 0.688<br>Los Angeles Dodgers: 0.388<br>Los Angeles Clippers: 0.5<br>Los Angeles Lakers: 0.476<br>Los Angeles Kings: 0.437<br>",
          "Los Angeles Rams: 0.313<br>Los Angeles Chargers: 0.5<br>Los Angeles Dodgers: 0.5<br>Los Angeles Clippers: 0.329<br>Los Angeles Lakers: 0.402<br>Los Angeles Kings: 0.464<br>",
          "Los Angeles Rams: 0.25<br>Los Angeles Chargers: 0.688<br>Los Angeles Dodgers: 0.508<br>Los Angeles Clippers: 0.207<br>Los Angeles Lakers: 0.585<br>Los Angeles Kings: 0.321<br>Mighty Ducks of Anaheim: 0.392<br>",
          "Los Angeles Rams: 0.438<br>Los Angeles Chargers: 0.563<br>Los Angeles Dodgers: 0.541<br>Los Angeles Clippers: 0.354<br>Los Angeles Lakers: 0.646<br>Los Angeles Kings: 0.333<br>Mighty Ducks of Anaheim: 0.333<br>",
          "Los Angeles Rams: 0.375<br>Los Angeles Chargers: 0.5<br>Los Angeles Dodgers: 0.555<br>Los Angeles Clippers: 0.439<br>Los Angeles Lakers: 0.683<br>Los Angeles Kings: 0.292<br>Mighty Ducks of Anaheim: 0.426<br>",
          "Los Angeles Chargers: 0.25<br>Los Angeles Rams: 0.313<br>Los Angeles Dodgers: 0.543<br>Los Angeles Clippers: 0.207<br>Los Angeles Lakers: 0.744<br>Los Angeles Kings: 0.341<br>Anaheim Angels: 0.518<br>Mighty Ducks of Anaheim: 0.439<br>",
          "Los Angeles Rams: 0.25<br>Los Angeles Chargers: 0.313<br>Los Angeles Dodgers: 0.512<br>Los Angeles Clippers: 0.18<br>Los Angeles Lakers: 0.62<br>Los Angeles Kings: 0.463<br>Anaheim Angels: 0.524<br>Mighty Ducks of Anaheim: 0.317<br>",
          "Los Angeles Chargers: 0.5<br>Los Angeles Rams: 0.813<br>Los Angeles Dodgers: 0.475<br>Los Angeles Clippers: 0.183<br>Los Angeles Lakers: 0.817<br>Los Angeles Kings: 0.390<br>Anaheim Angels: 0.432<br>Mighty Ducks of Anaheim: 0.426<br>",
          "Los Angeles Chargers: 0.063<br>Los Angeles Rams: 0.625<br>Los Angeles Dodgers: 0.530<br>Los Angeles Clippers: 0.378<br>Los Angeles Lakers: 0.683<br>Los Angeles Kings: 0.475<br>Anaheim Angels: 0.506<br>Mighty Ducks of Anaheim: 0.414<br>",
          "Los Angeles Chargers: 0.313<br>Los Angeles Rams: 0.875<br>Los Angeles Dodgers: 0.530<br>Los Angeles Clippers: 0.476<br>Los Angeles Lakers: 0.707<br>Los Angeles Kings: 0.463<br>Anaheim Angels: 0.462<br>Mighty Ducks of Anaheim: 0.304<br>",
          "Los Angeles Rams: 0.438<br>Los Angeles Chargers: 0.5<br>Los Angeles Dodgers: 0.567<br>Los Angeles Clippers: 0.329<br>Los Angeles Lakers: 0.61<br>Los Angeles Kings: 0.487<br>Anaheim Angels: 0.611<br>Mighty Ducks of Anaheim: 0.353<br>",
          "Los Angeles Chargers: 0.25<br>Los Angeles Rams: 0.75<br>Los Angeles Dodgers: 0.524<br>Los Angeles Clippers: 0.341<br>Los Angeles Lakers: 0.683<br>Los Angeles Kings: 0.402<br>Anaheim Angels: 0.475<br>Mighty Ducks of Anaheim: 0.487<br>",
          "Los Angeles Rams: 0.5<br>Los Angeles Chargers: 0.75<br>Los Angeles Dodgers: 0.574<br>Los Angeles Clippers: 0.451<br>Los Angeles Lakers: 0.415<br>Los Angeles Kings: 0.341<br>Anaheim Angels: 0.567<br>Mighty Ducks of Anaheim: 0.353<br>",
          "Los Angeles Rams: 0.375<br>Los Angeles Chargers: 0.563<br>Los Angeles Angels of Anaheim: 0.586<br>Los Angeles Dodgers: 0.438<br>Los Angeles Clippers: 0.573<br>Los Angeles Lakers: 0.549<br>",
          "Los Angeles Rams: 0.5<br>Los Angeles Chargers: 0.875<br>Los Angeles Angels of Anaheim: 0.549<br>Los Angeles Dodgers: 0.543<br>Los Angeles Clippers: 0.488<br>Los Angeles Lakers: 0.512<br>Los Angeles Kings: 0.512<br>Mighty Ducks of Anaheim: 0.524<br>",
          "Los Angeles Rams: 0.188<br>Los Angeles Chargers: 0.688<br>Los Angeles Angels of Anaheim: 0.580<br>Los Angeles Dodgers: 0.506<br>Los Angeles Clippers: 0.28<br>Los Angeles Lakers: 0.695<br>Los Angeles Kings: 0.329<br>Anaheim Ducks: 0.585<br>",
          "Los Angeles Rams: 0.125<br>Los Angeles Chargers: 0.5<br>Los Angeles Angels of Anaheim: 0.617<br>Los Angeles Dodgers: 0.518<br>Los Angeles Clippers: 0.232<br>Los Angeles Lakers: 0.793<br>Los Angeles Kings: 0.390<br>Anaheim Ducks: 0.573<br>",
          "Los Angeles Rams: 0.063<br>Los Angeles Chargers: 0.813<br>Los Angeles Angels of Anaheim: 0.598<br>Los Angeles Dodgers: 0.586<br>Los Angeles Clippers: 0.354<br>Los Angeles Lakers: 0.695<br>Los Angeles Kings: 0.414<br>Anaheim Ducks: 0.512<br>",
          "Los Angeles Rams: 0.438<br>Los Angeles Chargers: 0.563<br>Los Angeles Angels of Anaheim: 0.493<br>Los Angeles Dodgers: 0.493<br>Los Angeles Clippers: 0.39<br>Los Angeles Lakers: 0.695<br>Los Angeles Kings: 0.560<br>Anaheim Ducks: 0.475<br>",
          "Los Angeles Rams: 0.125<br>Los Angeles Chargers: 0.5<br>Los Angeles Angels of Anaheim: 0.530<br>Los Angeles Dodgers: 0.509<br>Los Angeles Clippers: 0.606<br>Los Angeles Lakers: 0.621<br>Los Angeles Kings: 0.560<br>Anaheim Ducks: 0.573<br>",
          "Los Angeles Chargers: 0.438<br>Los Angeles Rams: 0.469<br>Los Angeles Angels of Anaheim: 0.549<br>Los Angeles Dodgers: 0.530<br>Los Angeles Clippers: 0.683<br>Los Angeles Lakers: 0.549<br>Los Angeles Kings: 0.487<br>Anaheim Ducks: 0.414<br>",
          "Los Angeles Rams: 0.438<br>Los Angeles Chargers: 0.563<br>Los Angeles Angels of Anaheim: 0.481<br>Los Angeles Dodgers: 0.567<br>Los Angeles Clippers: 0.695<br>Los Angeles Lakers: 0.329<br>Los Angeles Kings: 0.562<br>Anaheim Ducks: 0.625<br>",
          "Los Angeles Rams: 0.375<br>Los Angeles Chargers: 0.563<br>Los Angeles Angels of Anaheim: 0.604<br>Los Angeles Dodgers: 0.580<br>Los Angeles Clippers: 0.683<br>Los Angeles Lakers: 0.256<br>Los Angeles Kings: 0.560<br>Anaheim Ducks: 0.658<br>",
          "Los Angeles Chargers: 0.25<br>Los Angeles Rams: 0.438<br>Los Angeles Angels of Anaheim: 0.524<br>Los Angeles Dodgers: 0.567<br>Los Angeles Clippers: 0.646<br>Los Angeles Lakers: 0.207<br>Los Angeles Kings: 0.487<br>Anaheim Ducks: 0.621<br>",
          "Los Angeles Rams: 0.25<br>Los Angeles Chargers: 0.313<br>Los Angeles Angels of Anaheim: 0.456<br>Los Angeles Dodgers: 0.561<br>Los Angeles Clippers: 0.644<br>Los Angeles Lakers: 0.333<br>Los Angeles Kings: 0.585<br>Anaheim Ducks: 0.560<br>",
          "Los Angeles Chargers: 0.563<br>Los Angeles Rams: 0.688<br>Los Angeles Angels of Anaheim: 0.493<br>Los Angeles Dodgers: 0.641<br>Los Angeles Kings: 0.475<br>Anaheim Ducks: 0.560<br>",
          "Los Angeles Chargers: 0.75<br>Los Angeles Rams: 0.813<br>Los Angeles Angels of Anaheim: 0.493<br>Los Angeles Dodgers: 0.564<br>Los Angeles Kings: 0.548<br>Anaheim Ducks: 0.536<br>",
          "Los Angeles Chargers: 0.313<br>Los Angeles Rams: 0.563<br>Los Angeles Angels of Anaheim: 0.444<br>Los Angeles Dodgers: 0.654<br>Los Angeles Kings: 0.378<br>Anaheim Ducks: 0.426<br>",
          "Los Angeles Chargers: 0.438<br>Los Angeles Rams: 0.625<br>Los Angeles Angels of Anaheim: 0.433<br>Los Angeles Dodgers: 0.716<br>Los Angeles Kings: 0.414<br>Anaheim Ducks: 0.408<br>"
         ],
         "type": "scatter",
         "x": [
          1926,
          1937,
          1938,
          1939,
          1940,
          1941,
          1942,
          1944,
          1945,
          1946,
          1947,
          1948,
          1949,
          1950,
          1951,
          1952,
          1953,
          1954,
          1955,
          1956,
          1957,
          1958,
          1959,
          1960,
          1961,
          1962,
          1963,
          1964,
          1965,
          1966,
          1967,
          1968,
          1969,
          1970,
          1971,
          1972,
          1973,
          1974,
          1975,
          1976,
          1977,
          1978,
          1979,
          1980,
          1981,
          1982,
          1983,
          1984,
          1985,
          1986,
          1987,
          1988,
          1989,
          1990,
          1991,
          1992,
          1993,
          1994,
          1995,
          1996,
          1997,
          1998,
          1999,
          2000,
          2001,
          2002,
          2003,
          2004,
          2005,
          2006,
          2007,
          2008,
          2009,
          2010,
          2011,
          2012,
          2013,
          2014,
          2015,
          2016,
          2017,
          2018,
          2019,
          2020
         ],
         "y": [
          0.75,
          0.091,
          0.364,
          0.5,
          0.4,
          0.182,
          0.455,
          0.4,
          0.9,
          0.3,
          0.25,
          0.426,
          0.5166666666666667,
          0.6985,
          0.6365000000000001,
          0.718,
          0.683,
          0.5505,
          0.5925,
          0.40249999999999997,
          0.382,
          0.5286796536796537,
          0.3547008547008547,
          0.5166168831168831,
          0.566140937323546,
          0.43500920314253644,
          0.5427787439613526,
          0.529,
          0.5664413580246913,
          0.5348549382716049,
          0.6541543209876544,
          0.5942109442776109,
          0.5516961663417803,
          0.49131663942464854,
          0.5509791073124407,
          0.46435947063689,
          0.5192996018474278,
          0.4979413105413105,
          0.511241975308642,
          0.5735802469135802,
          0.5585876543209877,
          0.5639866255144033,
          0.5641090534979424,
          0.568902862985685,
          0.5020378787878788,
          0.45736831275720163,
          0.47703806584362135,
          0.4953590534979424,
          0.5575699588477366,
          0.4253528806584362,
          0.4556862139917695,
          0.48497515527950313,
          0.533875,
          0.45481069958847736,
          0.4433456790123456,
          0.47756481481481483,
          0.41804761904761906,
          0.42186537773003935,
          0.4584761904761905,
          0.4674382500967867,
          0.41952702499247213,
          0.3975656052393857,
          0.5046850722673893,
          0.4595351174345077,
          0.5166399804275821,
          0.48718447003914483,
          0.4892804878048781,
          0.49413715748268594,
          0.5141152263374485,
          0.5630222448057813,
          0.4815067374284854,
          0.468652137910268,
          0.5046268066847335,
          0.5137799608551641,
          0.5032909136475767,
          0.5152107422463114,
          0.5327353395061728,
          0.535212172538392,
          0.467918586269196,
          0.46310749774164406,
          0.5705646391649101,
          0.6177683653444124,
          0.4632739134798755,
          0.5059560697518444
         ]
        },
        {
         "hovertemplate": "<br><b>Year</b>: %{x}<br><b>Winning Pct.</b>: %{y:.2f}<br>%{text}<extra></extra>",
         "mode": "lines",
         "name": "Atlanta (0.478)",
         "text": [
          "Atlanta Blackhawks: 0.453<br>",
          "Atlanta Blackhawks: 0.368<br>",
          "Atlanta Hawks: 0.258<br>",
          "Atlanta Hawks: 0.38<br>",
          "Atlanta Hawks: 0.292<br>",
          "Atlanta Hawks: 0.361<br>",
          "Atlanta Hawks: 0.458<br>",
          "Atlanta Hawks: 0.472<br>",
          "Atlanta Hawks: 0.569<br>",
          "Atlanta Hawks: 0.681<br>",
          "Atlanta Hawks: 0.613<br>",
          "Atlanta Hawks: 0.646<br>",
          "Atlanta Hawks: 0.363<br>",
          "Atlanta Hawks: 0.6<br>",
          "Atlanta Hawks: 0.575<br>",
          "Atlanta Hawks: 0.563<br>",
          "Atlanta Hawks: 0.45<br>",
          "Atlanta Falcons: 0.214<br>Atlanta Braves: 0.524<br>Atlanta Hawks: 0.481<br>",
          "Atlanta Falcons: 0.077<br>Atlanta Braves: 0.475<br>Atlanta Hawks: 0.683<br>",
          "Atlanta Falcons: 0.143<br>Atlanta Braves: 0.5<br>Atlanta Hawks: 0.585<br>",
          "Atlanta Falcons: 0.429<br>Atlanta Braves: 0.574<br>Atlanta Hawks: 0.585<br>",
          "Atlanta Falcons: 0.333<br>Atlanta Braves: 0.469<br>Atlanta Hawks: 0.439<br>",
          "Atlanta Falcons: 0.538<br>Atlanta Braves: 0.506<br>Atlanta Hawks: 0.439<br>",
          "Atlanta Falcons: 0.5<br>Atlanta Braves: 0.454<br>Atlanta Hawks: 0.561<br>",
          "Atlanta Falcons: 0.643<br>Atlanta Braves: 0.472<br>Atlanta Hawks: 0.427<br>Atlanta Flames: 0.320<br>",
          "Atlanta Falcons: 0.214<br>Atlanta Braves: 0.543<br>Atlanta Hawks: 0.378<br>Atlanta Flames: 0.384<br>",
          "Atlanta Falcons: 0.286<br>Atlanta Braves: 0.416<br>Atlanta Hawks: 0.354<br>Atlanta Flames: 0.425<br>",
          "Atlanta Falcons: 0.286<br>Atlanta Braves: 0.432<br>Atlanta Hawks: 0.378<br>Atlanta Flames: 0.437<br>",
          "Atlanta Falcons: 0.5<br>Atlanta Braves: 0.376<br>Atlanta Hawks: 0.5<br>Atlanta Flames: 0.425<br>",
          "Atlanta Falcons: 0.563<br>Atlanta Braves: 0.425<br>Atlanta Hawks: 0.561<br>Atlanta Flames: 0.425<br>",
          "Atlanta Falcons: 0.375<br>Atlanta Braves: 0.412<br>Atlanta Hawks: 0.61<br>Atlanta Flames: 0.512<br>",
          "Atlanta Falcons: 0.75<br>Atlanta Braves: 0.503<br>Atlanta Hawks: 0.378<br>Atlanta Flames: 0.437<br>",
          "Atlanta Falcons: 0.438<br>Atlanta Braves: 0.471<br>Atlanta Hawks: 0.512<br>",
          "Atlanta Falcons: 0.556<br>Atlanta Braves: 0.549<br>Atlanta Hawks: 0.524<br>",
          "Atlanta Falcons: 0.438<br>Atlanta Braves: 0.543<br>Atlanta Hawks: 0.488<br>",
          "Atlanta Falcons: 0.25<br>Atlanta Braves: 0.493<br>Atlanta Hawks: 0.415<br>",
          "Atlanta Falcons: 0.25<br>Atlanta Braves: 0.407<br>Atlanta Hawks: 0.61<br>",
          "Atlanta Falcons: 0.469<br>Atlanta Braves: 0.447<br>Atlanta Hawks: 0.695<br>",
          "Atlanta Falcons: 0.2<br>Atlanta Braves: 0.428<br>Atlanta Hawks: 0.61<br>",
          "Atlanta Falcons: 0.313<br>Atlanta Braves: 0.337<br>Atlanta Hawks: 0.634<br>",
          "Atlanta Falcons: 0.188<br>Atlanta Braves: 0.393<br>Atlanta Hawks: 0.5<br>",
          "Atlanta Falcons: 0.313<br>Atlanta Braves: 0.401<br>Atlanta Hawks: 0.524<br>",
          "Atlanta Falcons: 0.625<br>Atlanta Braves: 0.580<br>Atlanta Hawks: 0.463<br>",
          "Atlanta Falcons: 0.375<br>Atlanta Braves: 0.604<br>Atlanta Hawks: 0.524<br>",
          "Atlanta Falcons: 0.375<br>Atlanta Braves: 0.641<br>Atlanta Hawks: 0.695<br>",
          "Atlanta Falcons: 0.438<br>Atlanta Braves: 0.596<br>Atlanta Hawks: 0.512<br>",
          "Atlanta Falcons: 0.563<br>Atlanta Braves: 0.625<br>Atlanta Hawks: 0.561<br>",
          "Atlanta Falcons: 0.188<br>Atlanta Braves: 0.592<br>Atlanta Hawks: 0.683<br>",
          "Atlanta Falcons: 0.438<br>Atlanta Braves: 0.623<br>Atlanta Hawks: 0.61<br>",
          "Atlanta Falcons: 0.875<br>Atlanta Braves: 0.654<br>Atlanta Hawks: 0.62<br>",
          "Atlanta Falcons: 0.313<br>Atlanta Braves: 0.635<br>Atlanta Hawks: 0.341<br>",
          "Atlanta Falcons: 0.25<br>Atlanta Braves: 0.586<br>Atlanta Hawks: 0.305<br>Atlanta Thrashers: 0.170<br>",
          "Atlanta Falcons: 0.438<br>Atlanta Braves: 0.543<br>Atlanta Hawks: 0.402<br>Atlanta Thrashers: 0.280<br>",
          "Atlanta Falcons: 0.594<br>Atlanta Braves: 0.631<br>Atlanta Hawks: 0.427<br>Atlanta Thrashers: 0.231<br>",
          "Atlanta Falcons: 0.313<br>Atlanta Braves: 0.623<br>Atlanta Hawks: 0.341<br>Atlanta Thrashers: 0.378<br>",
          "Atlanta Falcons: 0.688<br>Atlanta Braves: 0.592<br>Atlanta Hawks: 0.159<br>Atlanta Thrashers: 0.402<br>",
          "Atlanta Falcons: 0.5<br>Atlanta Braves: 0.555<br>Atlanta Hawks: 0.317<br>",
          "Atlanta Falcons: 0.438<br>Atlanta Braves: 0.487<br>Atlanta Hawks: 0.366<br>Atlanta Thrashers: 0.5<br>",
          "Atlanta Falcons: 0.25<br>Atlanta Braves: 0.518<br>Atlanta Hawks: 0.451<br>Atlanta Thrashers: 0.524<br>",
          "Atlanta Falcons: 0.688<br>Atlanta Braves: 0.444<br>Atlanta Hawks: 0.573<br>Atlanta Thrashers: 0.414<br>",
          "Atlanta Falcons: 0.563<br>Atlanta Braves: 0.530<br>Atlanta Hawks: 0.646<br>Atlanta Thrashers: 0.426<br>",
          "Atlanta Falcons: 0.813<br>Atlanta Braves: 0.561<br>Atlanta Hawks: 0.537<br>Atlanta Thrashers: 0.426<br>",
          "Atlanta Falcons: 0.625<br>Atlanta Braves: 0.549<br>Atlanta Hawks: 0.606<br>Atlanta Thrashers: 0.414<br>",
          "Atlanta Falcons: 0.813<br>Atlanta Braves: 0.580<br>Atlanta Hawks: 0.537<br>",
          "Atlanta Falcons: 0.25<br>Atlanta Braves: 0.592<br>Atlanta Hawks: 0.463<br>",
          "Atlanta Falcons: 0.375<br>Atlanta Braves: 0.487<br>Atlanta Hawks: 0.732<br>",
          "Atlanta Falcons: 0.5<br>Atlanta Braves: 0.413<br>Atlanta Hawks: 0.585<br>",
          "Atlanta Falcons: 0.688<br>Atlanta Braves: 0.422<br>Atlanta Hawks: 0.575<br>",
          "Atlanta Falcons: 0.625<br>Atlanta Braves: 0.444<br>",
          "Atlanta Falcons: 0.438<br>Atlanta Braves: 0.555<br>",
          "Atlanta Falcons: 0.438<br>Atlanta Braves: 0.598<br>",
          "Atlanta Falcons: 0.25<br>Atlanta Braves: 0.583<br>"
         ],
         "type": "scatter",
         "x": [
          1949,
          1950,
          1951,
          1952,
          1953,
          1954,
          1955,
          1956,
          1957,
          1958,
          1959,
          1960,
          1961,
          1962,
          1963,
          1964,
          1965,
          1966,
          1967,
          1968,
          1969,
          1970,
          1971,
          1972,
          1973,
          1974,
          1975,
          1976,
          1977,
          1978,
          1979,
          1980,
          1981,
          1982,
          1983,
          1984,
          1985,
          1986,
          1987,
          1988,
          1989,
          1990,
          1991,
          1992,
          1993,
          1994,
          1995,
          1996,
          1997,
          1998,
          1999,
          2000,
          2001,
          2002,
          2003,
          2004,
          2005,
          2006,
          2007,
          2008,
          2009,
          2010,
          2011,
          2012,
          2013,
          2014,
          2015,
          2016,
          2017,
          2018,
          2019,
          2020
         ],
         "y": [
          0.453,
          0.368,
          0.258,
          0.38,
          0.292,
          0.361,
          0.458,
          0.472,
          0.569,
          0.681,
          0.613,
          0.646,
          0.363,
          0.6,
          0.575,
          0.563,
          0.45,
          0.40656378600823045,
          0.4117695473251029,
          0.4093333333333333,
          0.5293580246913581,
          0.41371193415637864,
          0.49439094650205767,
          0.5051818181818182,
          0.4656406274884536,
          0.3799563152896486,
          0.37028726708074533,
          0.38339969135802465,
          0.4503858024691358,
          0.4937314814814815,
          0.4775,
          0.517151397515528,
          0.4738993710691824,
          0.5431275720164609,
          0.4897366255144033,
          0.38627572016460904,
          0.4224691358024691,
          0.5370683229813664,
          0.4128571428571428,
          0.42816666666666664,
          0.3605833333333333,
          0.41274485596707816,
          0.556082304526749,
          0.5013127572016461,
          0.5706584362139918,
          0.5154970760233918,
          0.5830000000000001,
          0.4878641975308642,
          0.5571522633744855,
          0.716440329218107,
          0.42993415637860083,
          0.32803786510087324,
          0.41592442035531463,
          0.4709893292682927,
          0.4138763926528154,
          0.4605079042457091,
          0.4575185185185185,
          0.4479135802469136,
          0.4359771906052394,
          0.5300196476964769,
          0.5416733664558868,
          0.5846394158386028,
          0.5487542155977115,
          0.6434156378600823,
          0.43519753086419755,
          0.5315514403292181,
          0.4995267489711934,
          0.5617867494824016,
          0.5347222222222222,
          0.49677777777777776,
          0.5183827160493827,
          0.4166666666666667
         ]
        },
        {
         "hovertemplate": "<br><b>Year</b>: %{x}<br><b>Winning Pct.</b>: %{y:.2f}<br>%{text}<extra></extra>",
         "mode": "lines",
         "name": "Cleveland (0.503)",
         "text": [
          "Cleveland Indians: 0.610<br>",
          "Cleveland Indians: 0.506<br>",
          "Cleveland Indians: 0.75<br>Cleveland Indians: 0.535<br>",
          "Cleveland Bulldogs: 0.875<br>Cleveland Indians: 0.437<br>",
          "Cleveland Bulldogs: 0.364<br>Cleveland Indians: 0.454<br>",
          "Cleveland Indians: 0.571<br>",
          "Cleveland Bulldogs: 0.6<br>Cleveland Indians: 0.431<br>",
          "Cleveland Indians: 0.402<br>",
          "Cleveland Indians: 0.532<br>",
          "Cleveland Indians: 0.525<br>",
          "Cleveland Indians: 0.2<br>Cleveland Indians: 0.506<br>",
          "Cleveland Indians: 0.572<br>",
          "Cleveland Indians: 0.496<br>",
          "Cleveland Indians: 0.551<br>",
          "Cleveland Indians: 0.535<br>",
          "Cleveland Indians: 0.519<br>",
          "Cleveland Indians: 0.538<br>",
          "Cleveland Indians: 0.565<br>",
          "Cleveland Indians: 0.564<br>",
          "Cleveland Indians: 0.577<br>",
          "Cleveland Indians: 0.487<br>",
          "Cleveland Indians: 0.487<br>",
          "Cleveland Indians: 0.535<br>",
          "Cleveland Indians: 0.467<br>",
          "Cleveland Indians: 0.503<br>",
          "Cleveland Browns: 0.0<br>Cleveland Indians: 0.441<br>",
          "Cleveland Browns: 0.0<br>Cleveland Indians: 0.519<br>",
          "Cleveland Browns: 0.0<br>Cleveland Indians: 0.625<br>",
          "Cleveland Browns: 0.0<br>Cleveland Indians: 0.577<br>",
          "Cleveland Browns: 0.833<br>Cleveland Indians: 0.597<br>",
          "Cleveland Browns: 0.917<br>Cleveland Indians: 0.603<br>",
          "Cleveland Browns: 0.667<br>Cleveland Indians: 0.603<br>",
          "Cleveland Browns: 0.917<br>Cleveland Indians: 0.597<br>",
          "Cleveland Browns: 0.75<br>Cleveland Indians: 0.720<br>",
          "Cleveland Browns: 0.818<br>Cleveland Indians: 0.603<br>",
          "Cleveland Browns: 0.417<br>Cleveland Indians: 0.571<br>",
          "Cleveland Browns: 0.818<br>Cleveland Indians: 0.496<br>",
          "Cleveland Browns: 0.75<br>Cleveland Indians: 0.503<br>",
          "Cleveland Browns: 0.583<br>Cleveland Indians: 0.577<br>",
          "Cleveland Browns: 0.727<br>Cleveland Indians: 0.493<br>",
          "Cleveland Browns: 0.615<br>Cleveland Indians: 0.484<br>",
          "Cleveland Browns: 0.538<br>Cleveland Indians: 0.493<br>",
          "Cleveland Browns: 0.714<br>Cleveland Indians: 0.487<br>",
          "Cleveland Browns: 0.769<br>Cleveland Indians: 0.487<br>",
          "Cleveland Browns: 0.786<br>Cleveland Indians: 0.537<br>",
          "Cleveland Browns: 0.643<br>Cleveland Indians: 0.5<br>",
          "Cleveland Browns: 0.643<br>Cleveland Indians: 0.462<br>",
          "Cleveland Browns: 0.714<br>Cleveland Indians: 0.534<br>",
          "Cleveland Browns: 0.769<br>Cleveland Indians: 0.385<br>",
          "Cleveland Browns: 0.5<br>Cleveland Indians: 0.469<br>Cleveland Cavaliers: 0.183<br>",
          "Cleveland Browns: 0.643<br>Cleveland Indians: 0.370<br>Cleveland Cavaliers: 0.28<br>",
          "Cleveland Browns: 0.714<br>Cleveland Indians: 0.461<br>Cleveland Cavaliers: 0.39<br>",
          "Cleveland Browns: 0.571<br>Cleveland Indians: 0.438<br>Cleveland Cavaliers: 0.354<br>",
          "Cleveland Browns: 0.286<br>Cleveland Indians: 0.475<br>Cleveland Cavaliers: 0.488<br>",
          "Cleveland Browns: 0.214<br>Cleveland Indians: 0.496<br>Cleveland Cavaliers: 0.598<br>",
          "Cleveland Browns: 0.643<br>Cleveland Indians: 0.509<br>Cleveland Cavaliers: 0.524<br>",
          "Cleveland Browns: 0.429<br>Cleveland Indians: 0.440<br>Cleveland Cavaliers: 0.524<br>Cleveland Barons: 0.312<br>",
          "Cleveland Browns: 0.5<br>Cleveland Indians: 0.433<br>Cleveland Cavaliers: 0.366<br>Cleveland Barons: 0.275<br>",
          "Cleveland Browns: 0.563<br>Cleveland Indians: 0.503<br>Cleveland Cavaliers: 0.451<br>",
          "Cleveland Browns: 0.688<br>Cleveland Indians: 0.493<br>Cleveland Cavaliers: 0.341<br>",
          "Cleveland Browns: 0.313<br>Cleveland Indians: 0.504<br>Cleveland Cavaliers: 0.183<br>",
          "Cleveland Browns: 0.444<br>Cleveland Indians: 0.481<br>Cleveland Cavaliers: 0.28<br>",
          "Cleveland Browns: 0.563<br>Cleveland Indians: 0.432<br>Cleveland Cavaliers: 0.341<br>",
          "Cleveland Browns: 0.313<br>Cleveland Indians: 0.462<br>Cleveland Cavaliers: 0.439<br>",
          "Cleveland Browns: 0.5<br>Cleveland Indians: 0.370<br>Cleveland Cavaliers: 0.354<br>",
          "Cleveland Browns: 0.75<br>Cleveland Indians: 0.518<br>Cleveland Cavaliers: 0.378<br>",
          "Cleveland Browns: 0.667<br>Cleveland Indians: 0.376<br>Cleveland Cavaliers: 0.512<br>",
          "Cleveland Browns: 0.625<br>Cleveland Indians: 0.481<br>Cleveland Cavaliers: 0.695<br>",
          "Cleveland Browns: 0.594<br>Cleveland Indians: 0.450<br>Cleveland Cavaliers: 0.512<br>",
          "Cleveland Browns: 0.188<br>Cleveland Indians: 0.475<br>Cleveland Cavaliers: 0.402<br>",
          "Cleveland Browns: 0.375<br>Cleveland Indians: 0.351<br>Cleveland Cavaliers: 0.695<br>",
          "Cleveland Browns: 0.438<br>Cleveland Indians: 0.469<br>Cleveland Cavaliers: 0.659<br>",
          "Cleveland Browns: 0.438<br>Cleveland Indians: 0.469<br>Cleveland Cavaliers: 0.573<br>",
          "Cleveland Browns: 0.688<br>Cleveland Indians: 0.584<br>Cleveland Cavaliers: 0.524<br>",
          "Cleveland Browns: 0.313<br>Cleveland Indians: 0.694<br>Cleveland Cavaliers: 0.573<br>",
          "Cleveland Indians: 0.614<br>Cleveland Cavaliers: 0.512<br>",
          "Cleveland Indians: 0.534<br>Cleveland Cavaliers: 0.573<br>",
          "Cleveland Indians: 0.549<br>Cleveland Cavaliers: 0.44<br>",
          "Cleveland Browns: 0.125<br>Cleveland Indians: 0.598<br>Cleveland Cavaliers: 0.39<br>",
          "Cleveland Browns: 0.188<br>Cleveland Indians: 0.555<br>Cleveland Cavaliers: 0.366<br>",
          "Cleveland Browns: 0.438<br>Cleveland Indians: 0.561<br>Cleveland Cavaliers: 0.354<br>",
          "Cleveland Browns: 0.563<br>Cleveland Indians: 0.456<br>Cleveland Cavaliers: 0.207<br>",
          "Cleveland Browns: 0.313<br>Cleveland Indians: 0.419<br>Cleveland Cavaliers: 0.427<br>",
          "Cleveland Browns: 0.25<br>Cleveland Indians: 0.493<br>Cleveland Cavaliers: 0.512<br>",
          "Cleveland Browns: 0.375<br>Cleveland Indians: 0.574<br>Cleveland Cavaliers: 0.61<br>",
          "Cleveland Browns: 0.25<br>Cleveland Indians: 0.481<br>Cleveland Cavaliers: 0.61<br>",
          "Cleveland Browns: 0.625<br>Cleveland Indians: 0.592<br>Cleveland Cavaliers: 0.549<br>",
          "Cleveland Browns: 0.25<br>Cleveland Indians: 0.5<br>Cleveland Cavaliers: 0.805<br>",
          "Cleveland Browns: 0.313<br>Cleveland Indians: 0.401<br>Cleveland Cavaliers: 0.744<br>",
          "Cleveland Browns: 0.313<br>Cleveland Indians: 0.425<br>Cleveland Cavaliers: 0.232<br>",
          "Cleveland Browns: 0.25<br>Cleveland Indians: 0.493<br>Cleveland Cavaliers: 0.318<br>",
          "Cleveland Browns: 0.313<br>Cleveland Indians: 0.419<br>Cleveland Cavaliers: 0.293<br>",
          "Cleveland Browns: 0.25<br>Cleveland Indians: 0.567<br>Cleveland Cavaliers: 0.402<br>",
          "Cleveland Browns: 0.438<br>Cleveland Indians: 0.524<br>Cleveland Cavaliers: 0.646<br>",
          "Cleveland Browns: 0.188<br>Cleveland Indians: 0.503<br>Cleveland Cavaliers: 0.695<br>",
          "Cleveland Browns: 0.063<br>Cleveland Indians: 0.583<br>Cleveland Cavaliers: 0.714<br>",
          "Cleveland Browns: 0.0<br>Cleveland Indians: 0.629<br>",
          "Cleveland Browns: 0.469<br>Cleveland Indians: 0.561<br>",
          "Cleveland Browns: 0.375<br>Cleveland Indians: 0.574<br>",
          "Cleveland Browns: 0.688<br>Cleveland Indians: 0.583<br>"
         ],
         "type": "scatter",
         "x": [
          1921,
          1922,
          1923,
          1924,
          1925,
          1926,
          1927,
          1928,
          1929,
          1930,
          1931,
          1932,
          1933,
          1934,
          1935,
          1936,
          1937,
          1938,
          1939,
          1940,
          1941,
          1942,
          1943,
          1944,
          1945,
          1946,
          1947,
          1948,
          1949,
          1950,
          1951,
          1952,
          1953,
          1954,
          1955,
          1956,
          1957,
          1958,
          1959,
          1960,
          1961,
          1962,
          1963,
          1964,
          1965,
          1966,
          1967,
          1968,
          1969,
          1970,
          1971,
          1972,
          1973,
          1974,
          1975,
          1976,
          1977,
          1978,
          1979,
          1980,
          1981,
          1982,
          1983,
          1984,
          1985,
          1986,
          1987,
          1988,
          1989,
          1990,
          1991,
          1992,
          1993,
          1994,
          1995,
          1996,
          1997,
          1998,
          1999,
          2000,
          2001,
          2002,
          2003,
          2004,
          2005,
          2006,
          2007,
          2008,
          2009,
          2010,
          2011,
          2012,
          2013,
          2014,
          2015,
          2016,
          2017,
          2018,
          2019,
          2020
         ],
         "y": [
          0.6103896103896104,
          0.5064935064935064,
          0.6429738562091503,
          0.6564542483660131,
          0.40927272727272723,
          0.5714285714285714,
          0.5156862745098039,
          0.4025974025974026,
          0.5328947368421053,
          0.525974025974026,
          0.35324675324675325,
          0.5723684210526315,
          0.4966887417218543,
          0.551948051948052,
          0.5359477124183006,
          0.5194805194805194,
          0.538961038961039,
          0.5657894736842105,
          0.564935064935065,
          0.577922077922078,
          0.487012987012987,
          0.487012987012987,
          0.5359477124183006,
          0.4675324675324675,
          0.503448275862069,
          0.22077922077922077,
          0.2597402597402597,
          0.31290322580645163,
          0.288961038961039,
          0.7152012987012987,
          0.760448051948052,
          0.635448051948052,
          0.7572012987012987,
          0.7353896103896104,
          0.710948051948052,
          0.4942142857142857,
          0.6573660130718955,
          0.6266339869281046,
          0.580461038961039,
          0.6102532467532468,
          0.5497360248447205,
          0.5159135802469136,
          0.6008271604938271,
          0.6283271604938272,
          0.6615185185185186,
          0.5715,
          0.5529814814814815,
          0.6240807453416148,
          0.5770465838509317,
          0.3840452674897119,
          0.4311234567901234,
          0.5218461538461538,
          0.4544238683127572,
          0.4164362139917695,
          0.43628511530398323,
          0.558811320754717,
          0.4266234472049689,
          0.3937405660377359,
          0.5057018633540372,
          0.5075833333333334,
          0.3336181229773463,
          0.4018271604938272,
          0.44536625514403294,
          0.40498765432098766,
          0.40812345679012346,
          0.5488395061728395,
          0.5185144032921811,
          0.6004938271604938,
          0.5188724279835392,
          0.3551028806584362,
          0.47395061728395066,
          0.5220452674897119,
          0.49337860082304524,
          0.5986902654867257,
          0.5268148148148147,
          0.5634534161490683,
          0.5535807453416148,
          0.49469135802469133,
          0.37125514403292187,
          0.3698518518518519,
          0.4512427983539095,
          0.40893004115226333,
          0.38658436213991765,
          0.41860905349794236,
          0.5196913580246914,
          0.4471604938271605,
          0.5888641975308642,
          0.5183333333333334,
          0.4860781893004115,
          0.32364197530864197,
          0.3539423868312757,
          0.341917695473251,
          0.4066337448559671,
          0.5362304526748971,
          0.4620351966873706,
          0.45361697722567285,
          0.3148148148148148,
          0.5153641975308643,
          0.47453703703703703,
          0.6356666666666666
         ]
        },
        {
         "hovertemplate": "<br><b>Year</b>: %{x}<br><b>Winning Pct.</b>: %{y:.2f}<br>%{text}<extra></extra>",
         "mode": "lines",
         "name": "Philadelphia (0.473)",
         "text": [
          "Philadelphia Athletics: 0.346<br>Philadelphia Phillies: 0.331<br>",
          "Philadelphia Athletics: 0.422<br>Philadelphia Phillies: 0.372<br>",
          "Philadelphia Athletics: 0.453<br>Philadelphia Phillies: 0.324<br>",
          "Philadelphia Athletics: 0.467<br>Philadelphia Phillies: 0.364<br>",
          "Philadelphia Athletics: 0.578<br>Philadelphia Phillies: 0.444<br>",
          "Philadelphia Athletics: 0.553<br>Philadelphia Phillies: 0.384<br>",
          "Philadelphia Athletics: 0.590<br>Philadelphia Phillies: 0.331<br>",
          "Philadelphia Athletics: 0.640<br>Philadelphia Phillies: 0.282<br>",
          "Philadelphia Athletics: 0.693<br>Philadelphia Phillies: 0.464<br>",
          "Philadelphia Athletics: 0.662<br>Philadelphia Phillies: 0.337<br>",
          "Philadelphia Athletics: 0.703<br>Philadelphia Phillies: 0.428<br>",
          "Philadelphia Athletics: 0.610<br>Philadelphia Phillies: 0.506<br>",
          "Philadelphia Eagles: 0.375<br>Philadelphia Athletics: 0.523<br>Philadelphia Phillies: 0.394<br>",
          "Philadelphia Eagles: 0.364<br>Philadelphia Athletics: 0.453<br>Philadelphia Phillies: 0.375<br>",
          "Philadelphia Eagles: 0.182<br>Philadelphia Athletics: 0.389<br>Philadelphia Phillies: 0.418<br>",
          "Philadelphia Eagles: 0.083<br>Philadelphia Athletics: 0.346<br>Philadelphia Phillies: 0.350<br>",
          "Philadelphia Eagles: 0.2<br>Philadelphia Athletics: 0.357<br>Philadelphia Phillies: 0.398<br>",
          "Philadelphia Eagles: 0.455<br>Philadelphia Athletics: 0.348<br>Philadelphia Phillies: 0.3<br>",
          "Philadelphia Eagles: 0.1<br>Philadelphia Athletics: 0.361<br>Philadelphia Phillies: 0.298<br>",
          "Philadelphia Eagles: 0.091<br>Philadelphia Athletics: 0.350<br>Philadelphia Phillies: 0.326<br>",
          "Philadelphia Eagles: 0.2<br>Philadelphia Athletics: 0.415<br>Philadelphia Phillies: 0.279<br>",
          "Philadelphia Eagles: 0.182<br>Philadelphia Athletics: 0.357<br>Philadelphia Phillies: 0.278<br>",
          "Phil-Pitt Combine: 0.556<br>Philadelphia Athletics: 0.318<br>Philadelphia Blue Jays: 0.415<br>",
          "Philadelphia Eagles: 0.875<br>Philadelphia Athletics: 0.467<br>Philadelphia Blue Jays: 0.398<br>",
          "Philadelphia Eagles: 0.7<br>Philadelphia Athletics: 0.346<br>Philadelphia Phillies: 0.298<br>",
          "Philadelphia Eagles: 0.545<br>Philadelphia Athletics: 0.318<br>Philadelphia Phillies: 0.448<br>",
          "Philadelphia Eagles: 0.667<br>Philadelphia Athletics: 0.506<br>Philadelphia Phillies: 0.402<br>",
          "Philadelphia Eagles: 0.818<br>Philadelphia Athletics: 0.545<br>Philadelphia Phillies: 0.428<br>",
          "Philadelphia Eagles: 0.917<br>Philadelphia Athletics: 0.525<br>Philadelphia Phillies: 0.525<br>",
          "Philadelphia Eagles: 0.5<br>Philadelphia Athletics: 0.337<br>Philadelphia Phillies: 0.590<br>",
          "Philadelphia Eagles: 0.333<br>Philadelphia Athletics: 0.454<br>Philadelphia Phillies: 0.474<br>",
          "Philadelphia Eagles: 0.583<br>Philadelphia Athletics: 0.512<br>Philadelphia Phillies: 0.564<br>",
          "Philadelphia Eagles: 0.636<br>Philadelphia Athletics: 0.383<br>Philadelphia Phillies: 0.538<br>",
          "Philadelphia Eagles: 0.636<br>Philadelphia Athletics: 0.331<br>Philadelphia Phillies: 0.487<br>",
          "Philadelphia Eagles: 0.364<br>Philadelphia Phillies: 0.5<br>",
          "Philadelphia Eagles: 0.273<br>Philadelphia Phillies: 0.461<br>",
          "Philadelphia Eagles: 0.333<br>Philadelphia Phillies: 0.5<br>",
          "Philadelphia Eagles: 0.182<br>Philadelphia Phillies: 0.448<br>",
          "Philadelphia Eagles: 0.583<br>Philadelphia Phillies: 0.415<br>",
          "Philadelphia Eagles: 0.833<br>Philadelphia Phillies: 0.383<br>",
          "Philadelphia Eagles: 0.714<br>Philadelphia Phillies: 0.305<br>",
          "Philadelphia Eagles: 0.231<br>Philadelphia Phillies: 0.503<br>",
          "Philadelphia Eagles: 0.167<br>Philadelphia Phillies: 0.537<br>Philadelphia 76ers: 0.425<br>",
          "Philadelphia Eagles: 0.429<br>Philadelphia Phillies: 0.567<br>Philadelphia 76ers: 0.5<br>",
          "Philadelphia Eagles: 0.357<br>Philadelphia Phillies: 0.527<br>Philadelphia 76ers: 0.688<br>",
          "Philadelphia Eagles: 0.643<br>Philadelphia Phillies: 0.537<br>Philadelphia 76ers: 0.84<br>",
          "Philadelphia Eagles: 0.462<br>Philadelphia Phillies: 0.506<br>Philadelphia 76ers: 0.756<br>",
          "Philadelphia Eagles: 0.143<br>Philadelphia Phillies: 0.469<br>Philadelphia 76ers: 0.671<br>Philadelphia Flyers: 0.418<br>",
          "Philadelphia Eagles: 0.308<br>Philadelphia Phillies: 0.388<br>Philadelphia 76ers: 0.512<br>Philadelphia Flyers: 0.263<br>",
          "Philadelphia Eagles: 0.231<br>Philadelphia Phillies: 0.453<br>Philadelphia 76ers: 0.573<br>Philadelphia Flyers: 0.223<br>",
          "Philadelphia Eagles: 0.462<br>Philadelphia Phillies: 0.413<br>Philadelphia 76ers: 0.366<br>Philadelphia Flyers: 0.358<br>",
          "Philadelphia Eagles: 0.179<br>Philadelphia Phillies: 0.378<br>Philadelphia 76ers: 0.11<br>Philadelphia Flyers: 0.333<br>",
          "Philadelphia Eagles: 0.393<br>Philadelphia Phillies: 0.438<br>Philadelphia 76ers: 0.305<br>Philadelphia Flyers: 0.474<br>",
          "Philadelphia Eagles: 0.5<br>Philadelphia Phillies: 0.493<br>Philadelphia 76ers: 0.415<br>Philadelphia Flyers: 0.641<br>",
          "Philadelphia Eagles: 0.286<br>Philadelphia Phillies: 0.530<br>Philadelphia 76ers: 0.561<br>Philadelphia Flyers: 0.637<br>",
          "Philadelphia Eagles: 0.286<br>Philadelphia Phillies: 0.623<br>Philadelphia 76ers: 0.61<br>Philadelphia Flyers: 0.637<br>",
          "Philadelphia Eagles: 0.357<br>Philadelphia Phillies: 0.623<br>Philadelphia 76ers: 0.671<br>Philadelphia Flyers: 0.6<br>",
          "Philadelphia Eagles: 0.563<br>Philadelphia Phillies: 0.555<br>Philadelphia 76ers: 0.573<br>Philadelphia Flyers: 0.562<br>",
          "Philadelphia Eagles: 0.688<br>Philadelphia Phillies: 0.518<br>Philadelphia 76ers: 0.72<br>Philadelphia Flyers: 0.5<br>",
          "Philadelphia Eagles: 0.75<br>Philadelphia Phillies: 0.561<br>Philadelphia 76ers: 0.756<br>Philadelphia Flyers: 0.6<br>",
          "Philadelphia Eagles: 0.625<br>Philadelphia Phillies: 0.551<br>Philadelphia 76ers: 0.707<br>Philadelphia Flyers: 0.512<br>",
          "Philadelphia Eagles: 0.333<br>Philadelphia Phillies: 0.549<br>Philadelphia 76ers: 0.793<br>Philadelphia Flyers: 0.475<br>",
          "Philadelphia Eagles: 0.313<br>Philadelphia Phillies: 0.555<br>Philadelphia 76ers: 0.634<br>Philadelphia Flyers: 0.612<br>",
          "Philadelphia Eagles: 0.406<br>Philadelphia Phillies: 0.5<br>Philadelphia 76ers: 0.707<br>Philadelphia Flyers: 0.55<br>",
          "Philadelphia Eagles: 0.438<br>Philadelphia Phillies: 0.462<br>Philadelphia 76ers: 0.659<br>Philadelphia Flyers: 0.662<br>",
          "Philadelphia Eagles: 0.344<br>Philadelphia Phillies: 0.534<br>Philadelphia 76ers: 0.549<br>Philadelphia Flyers: 0.662<br>",
          "Philadelphia Eagles: 0.467<br>Philadelphia Phillies: 0.493<br>Philadelphia 76ers: 0.439<br>Philadelphia Flyers: 0.575<br>",
          "Philadelphia Eagles: 0.625<br>Philadelphia Phillies: 0.403<br>Philadelphia 76ers: 0.561<br>Philadelphia Flyers: 0.475<br>",
          "Philadelphia Eagles: 0.688<br>Philadelphia Phillies: 0.413<br>Philadelphia 76ers: 0.646<br>Philadelphia Flyers: 0.45<br>",
          "Philadelphia Eagles: 0.625<br>Philadelphia Phillies: 0.475<br>Philadelphia 76ers: 0.537<br>Philadelphia Flyers: 0.375<br>",
          "Philadelphia Eagles: 0.625<br>Philadelphia Phillies: 0.481<br>Philadelphia 76ers: 0.427<br>Philadelphia Flyers: 0.412<br>",
          "Philadelphia Eagles: 0.688<br>Philadelphia Phillies: 0.432<br>Philadelphia 76ers: 0.317<br>Philadelphia Flyers: 0.4<br>",
          "Philadelphia Eagles: 0.5<br>Philadelphia Phillies: 0.598<br>Philadelphia 76ers: 0.305<br>Philadelphia Flyers: 0.428<br>",
          "Philadelphia Eagles: 0.438<br>Philadelphia Phillies: 0.469<br>Philadelphia 76ers: 0.293<br>Philadelphia Flyers: 0.416<br>",
          "Philadelphia Eagles: 0.625<br>Philadelphia Phillies: 0.479<br>Philadelphia 76ers: 0.22<br>Philadelphia Flyers: 0.583<br>",
          "Philadelphia Eagles: 0.625<br>Philadelphia Phillies: 0.413<br>Philadelphia 76ers: 0.268<br>Philadelphia Flyers: 0.548<br>",
          "Philadelphia Eagles: 0.406<br>Philadelphia Phillies: 0.419<br>Philadelphia 76ers: 0.378<br>Philadelphia Flyers: 0.548<br>",
          "Philadelphia Eagles: 0.188<br>Philadelphia Phillies: 0.462<br>Philadelphia 76ers: 0.56<br>Philadelphia Flyers: 0.512<br>",
          "Philadelphia Eagles: 0.313<br>Philadelphia Phillies: 0.475<br>Philadelphia 76ers: 0.598<br>Philadelphia Flyers: 0.451<br>",
          "Philadelphia Eagles: 0.688<br>Philadelphia Phillies: 0.401<br>Philadelphia 76ers: 0.683<br>Philadelphia Flyers: 0.548<br>",
          "Philadelphia Eagles: 0.688<br>Philadelphia Phillies: 0.530<br>Philadelphia 76ers: 0.524<br>Philadelphia Flyers: 0.524<br>",
          "Philadelphia Eagles: 0.75<br>Philadelphia Phillies: 0.496<br>Philadelphia 76ers: 0.585<br>Philadelphia Flyers: 0.512<br>",
          "Philadelphia Eagles: 0.75<br>Philadelphia Phillies: 0.530<br>Philadelphia 76ers: 0.402<br>Philadelphia Flyers: 0.548<br>",
          "Philadelphia Eagles: 0.813<br>Philadelphia Phillies: 0.530<br>Philadelphia 76ers: 0.524<br>Philadelphia Flyers: 0.487<br>",
          "Philadelphia Eagles: 0.375<br>Philadelphia Phillies: 0.543<br>Philadelphia 76ers: 0.463<br>",
          "Philadelphia Eagles: 0.625<br>Philadelphia Phillies: 0.524<br>Philadelphia 76ers: 0.427<br>Philadelphia Flyers: 0.548<br>",
          "Philadelphia Eagles: 0.5<br>Philadelphia Phillies: 0.549<br>Philadelphia 76ers: 0.488<br>Philadelphia Flyers: 0.268<br>",
          "Philadelphia Eagles: 0.594<br>Philadelphia Phillies: 0.567<br>Philadelphia 76ers: 0.5<br>Philadelphia Flyers: 0.512<br>",
          "Philadelphia Eagles: 0.688<br>Philadelphia Phillies: 0.574<br>Philadelphia 76ers: 0.329<br>Philadelphia Flyers: 0.536<br>",
          "Philadelphia Eagles: 0.625<br>Philadelphia Phillies: 0.598<br>Philadelphia 76ers: 0.5<br>Philadelphia Flyers: 0.5<br>",
          "Philadelphia Eagles: 0.5<br>Philadelphia Phillies: 0.629<br>Philadelphia 76ers: 0.53<br>Philadelphia Flyers: 0.573<br>",
          "Philadelphia Eagles: 0.25<br>Philadelphia Phillies: 0.5<br>Philadelphia 76ers: 0.415<br>Philadelphia Flyers: 0.573<br>",
          "Philadelphia Eagles: 0.625<br>Philadelphia Phillies: 0.450<br>Philadelphia 76ers: 0.232<br>Philadelphia Flyers: 0.479<br>",
          "Philadelphia Eagles: 0.625<br>Philadelphia Phillies: 0.450<br>Philadelphia 76ers: 0.22<br>Philadelphia Flyers: 0.512<br>",
          "Philadelphia Eagles: 0.438<br>Philadelphia Phillies: 0.388<br>Philadelphia 76ers: 0.122<br>Philadelphia Flyers: 0.402<br>",
          "Philadelphia Eagles: 0.438<br>Philadelphia Phillies: 0.438<br>Philadelphia 76ers: 0.357<br>Philadelphia Flyers: 0.5<br>",
          "Philadelphia Eagles: 0.813<br>Philadelphia Phillies: 0.407<br>Philadelphia Flyers: 0.475<br>",
          "Philadelphia Eagles: 0.563<br>Philadelphia Phillies: 0.493<br>Philadelphia Flyers: 0.512<br>",
          "Philadelphia Eagles: 0.563<br>Philadelphia Phillies: 0.5<br>Philadelphia Flyers: 0.451<br>",
          "Philadelphia Eagles: 0.281<br>Philadelphia Phillies: 0.466<br>Philadelphia Flyers: 0.594<br>"
         ],
         "type": "scatter",
         "x": [
          1921,
          1922,
          1923,
          1924,
          1925,
          1926,
          1927,
          1928,
          1929,
          1930,
          1931,
          1932,
          1933,
          1934,
          1935,
          1936,
          1937,
          1938,
          1939,
          1940,
          1941,
          1942,
          1943,
          1944,
          1945,
          1946,
          1947,
          1948,
          1949,
          1950,
          1951,
          1952,
          1953,
          1954,
          1955,
          1956,
          1957,
          1958,
          1959,
          1960,
          1961,
          1962,
          1963,
          1964,
          1965,
          1966,
          1967,
          1968,
          1969,
          1970,
          1971,
          1972,
          1973,
          1974,
          1975,
          1976,
          1977,
          1978,
          1979,
          1980,
          1981,
          1982,
          1983,
          1984,
          1985,
          1986,
          1987,
          1988,
          1989,
          1990,
          1991,
          1992,
          1993,
          1994,
          1995,
          1996,
          1997,
          1998,
          1999,
          2000,
          2001,
          2002,
          2003,
          2004,
          2005,
          2006,
          2007,
          2008,
          2009,
          2010,
          2011,
          2012,
          2013,
          2014,
          2015,
          2016,
          2017,
          2018,
          2019,
          2020
         ],
         "y": [
          0.3387870299635005,
          0.3973134708428826,
          0.38931134654818866,
          0.41567183687696063,
          0.5116959064327485,
          0.46871964679911704,
          0.461038961038961,
          0.46170880632954936,
          0.5786928104575164,
          0.5,
          0.5662593984962406,
          0.5584415584415584,
          0.430971883350761,
          0.39772408650261,
          0.32985413285373805,
          0.26001819313584024,
          0.31876956816575047,
          0.3678947368421053,
          0.2532851167654235,
          0.25614891209008855,
          0.2982683982683983,
          0.27242951750236516,
          0.429922077922078,
          0.5804084259966613,
          0.44845598845598844,
          0.4370779220779221,
          0.5253636363636364,
          0.5973419913419913,
          0.6563160173160173,
          0.4761904761904762,
          0.4205238095238095,
          0.5536406926406926,
          0.5193593073593074,
          0.48472727272727273,
          0.432,
          0.3670194805194805,
          0.4165,
          0.315025974025974,
          0.4992922077922078,
          0.6080584415584416,
          0.5095974025974026,
          0.36705279503105587,
          0.37634567901234567,
          0.4989670781893005,
          0.5243167701863354,
          0.6733456790123457,
          0.574724279835391,
          0.4255136803470137,
          0.36801169590643273,
          0.3702750898986597,
          0.4001386514719848,
          0.25013461538461534,
          0.4026576448243115,
          0.512463200379867,
          0.5038410493827161,
          0.5392391975308641,
          0.5628641975308641,
          0.5635138888888889,
          0.6066296296296296,
          0.6669320987654321,
          0.5989754672897196,
          0.5375956790123457,
          0.5287638888888889,
          0.5407500000000001,
          0.5556157407407407,
          0.5224153726708074,
          0.49370679012345675,
          0.5161816770186336,
          0.549395061728395,
          0.5030771604938271,
          0.4864953703703704,
          0.4592746913580247,
          0.4580842151675485,
          0.4043079710144928,
          0.47687500000000005,
          0.4638401836796146,
          0.43813339355615777,
          0.43078952122854564,
          0.4593820385426076,
          0.5802537639265282,
          0.5668136103583258,
          0.5860223829722769,
          0.5579111713339355,
          0.5889172688949111,
          0.46040329218106996,
          0.5313679614573923,
          0.451418849744053,
          0.5435240891297801,
          0.5319148599819332,
          0.5559413580246914,
          0.5582000903342367,
          0.43454268292682924,
          0.446695987654321,
          0.4519531014754592,
          0.3378319783197832,
          0.4333179012345679,
          0.5653390545016561,
          0.5230074274816822,
          0.5047398373983739,
          0.44728985507246377
         ]
        },
        {
         "hovertemplate": "<br><b>Year</b>: %{x}<br><b>Winning Pct.</b>: %{y:.2f}<br>%{text}<extra></extra>",
         "mode": "lines",
         "name": "Detroit (0.486)",
         "text": [
          "Detroit Tigers: 0.464<br>",
          "Detroit Tigers: 0.512<br>",
          "Detroit Tigers: 0.538<br>",
          "Detroit Tigers: 0.558<br>",
          "Detroit Panthers: 0.778<br>Detroit Tigers: 0.525<br>",
          "Detroit Panthers: 0.444<br>Detroit Tigers: 0.512<br>",
          "Detroit Tigers: 0.535<br>",
          "Detroit Wolverines: 0.778<br>Detroit Tigers: 0.441<br>",
          "Detroit Tigers: 0.454<br>",
          "Detroit Lions: 0.444<br>Detroit Tigers: 0.487<br>",
          "Detroit Lions: 0.786<br>Detroit Tigers: 0.396<br>",
          "Detroit Lions: 0.75<br>Detroit Tigers: 0.503<br>",
          "Detroit Lions: 0.545<br>Detroit Tigers: 0.487<br>",
          "Detroit Lions: 0.769<br>Detroit Tigers: 0.655<br>",
          "Detroit Lions: 0.7<br>Detroit Tigers: 0.615<br>",
          "Detroit Lions: 0.667<br>Detroit Tigers: 0.538<br>",
          "Detroit Lions: 0.636<br>Detroit Tigers: 0.577<br>",
          "Detroit Lions: 0.636<br>Detroit Tigers: 0.545<br>",
          "Detroit Lions: 0.545<br>Detroit Tigers: 0.525<br>",
          "Detroit Lions: 0.5<br>Detroit Tigers: 0.584<br>",
          "Detroit Lions: 0.4<br>Detroit Tigers: 0.487<br>",
          "Detroit Lions: 0.0<br>Detroit Tigers: 0.474<br>",
          "Detroit Lions: 0.333<br>Detroit Tigers: 0.506<br>",
          "Detroit Lions: 0.667<br>Detroit Tigers: 0.571<br>",
          "Detroit Lions: 0.7<br>Detroit Tigers: 0.575<br>",
          "Detroit Lions: 0.091<br>Detroit Tigers: 0.597<br>",
          "Detroit Lions: 0.25<br>Detroit Tigers: 0.551<br>",
          "Detroit Lions: 0.167<br>Detroit Tigers: 0.506<br>Detroit Pistons: 0.367<br>",
          "Detroit Lions: 0.333<br>Detroit Tigers: 0.564<br>Detroit Pistons: 0.588<br>",
          "Detroit Lions: 0.5<br>Detroit Tigers: 0.616<br>Detroit Pistons: 0.471<br>Detroit Red Wings: 0.528<br>",
          "Detroit Lions: 0.636<br>Detroit Tigers: 0.474<br>Detroit Pistons: 0.439<br>Detroit Red Wings: 0.628<br>",
          "Detroit Lions: 0.75<br>Detroit Tigers: 0.324<br>Detroit Pistons: 0.522<br>Detroit Red Wings: 0.628<br>",
          "Detroit Lions: 0.833<br>Detroit Tigers: 0.389<br>Detroit Pistons: 0.556<br>Detroit Red Wings: 0.514<br>",
          "Detroit Lions: 0.818<br>Detroit Tigers: 0.441<br>Detroit Pistons: 0.597<br>Detroit Red Wings: 0.528<br>",
          "Detroit Lions: 0.25<br>Detroit Tigers: 0.512<br>Detroit Pistons: 0.514<br>Detroit Red Wings: 0.6<br>",
          "Detroit Lions: 0.75<br>Detroit Tigers: 0.532<br>Detroit Pistons: 0.472<br>Detroit Red Wings: 0.428<br>",
          "Detroit Lions: 0.667<br>Detroit Tigers: 0.506<br>Detroit Pistons: 0.458<br>Detroit Red Wings: 0.542<br>",
          "Detroit Lions: 0.364<br>Detroit Tigers: 0.5<br>Detroit Pistons: 0.389<br>Detroit Red Wings: 0.414<br>",
          "Detroit Lions: 0.273<br>Detroit Tigers: 0.493<br>Detroit Pistons: 0.4<br>Detroit Red Wings: 0.357<br>",
          "Detroit Lions: 0.583<br>Detroit Tigers: 0.461<br>Detroit Pistons: 0.43<br>Detroit Red Wings: 0.371<br>",
          "Detroit Lions: 0.615<br>Detroit Tigers: 0.623<br>Detroit Pistons: 0.463<br>Detroit Red Wings: 0.357<br>",
          "Detroit Lions: 0.786<br>Detroit Tigers: 0.527<br>Detroit Pistons: 0.425<br>Detroit Red Wings: 0.328<br>",
          "Detroit Lions: 0.385<br>Detroit Tigers: 0.487<br>Detroit Pistons: 0.288<br>Detroit Red Wings: 0.457<br>",
          "Detroit Lions: 0.583<br>Detroit Tigers: 0.524<br>Detroit Pistons: 0.388<br>Detroit Red Wings: 0.428<br>",
          "Detroit Lions: 0.462<br>Detroit Tigers: 0.549<br>Detroit Pistons: 0.275<br>Detroit Red Wings: 0.571<br>",
          "Detroit Lions: 0.308<br>Detroit Tigers: 0.543<br>Detroit Pistons: 0.37<br>Detroit Red Wings: 0.442<br>",
          "Detroit Lions: 0.417<br>Detroit Tigers: 0.561<br>Detroit Pistons: 0.488<br>Detroit Red Wings: 0.385<br>",
          "Detroit Lions: 0.333<br>Detroit Tigers: 0.635<br>Detroit Pistons: 0.39<br>Detroit Red Wings: 0.364<br>",
          "Detroit Lions: 0.692<br>Detroit Tigers: 0.555<br>Detroit Pistons: 0.378<br>Detroit Red Wings: 0.434<br>",
          "Detroit Lions: 0.714<br>Detroit Tigers: 0.487<br>Detroit Pistons: 0.549<br>Detroit Red Wings: 0.526<br>",
          "Detroit Lions: 0.538<br>Detroit Tigers: 0.561<br>Detroit Pistons: 0.317<br>Detroit Red Wings: 0.282<br>",
          "Detroit Lions: 0.607<br>Detroit Tigers: 0.551<br>Detroit Pistons: 0.488<br>Detroit Red Wings: 0.423<br>",
          "Detroit Lions: 0.464<br>Detroit Tigers: 0.524<br>Detroit Pistons: 0.634<br>Detroit Red Wings: 0.474<br>",
          "Detroit Lions: 0.5<br>Detroit Tigers: 0.444<br>Detroit Pistons: 0.488<br>Detroit Red Wings: 0.371<br>",
          "Detroit Lions: 0.5<br>Detroit Tigers: 0.358<br>Detroit Pistons: 0.439<br>Detroit Red Wings: 0.287<br>",
          "Detroit Lions: 0.429<br>Detroit Tigers: 0.459<br>Detroit Pistons: 0.537<br>Detroit Red Wings: 0.325<br>",
          "Detroit Lions: 0.429<br>Detroit Tigers: 0.456<br>Detroit Pistons: 0.463<br>Detroit Red Wings: 0.2<br>",
          "Detroit Lions: 0.438<br>Detroit Tigers: 0.530<br>Detroit Pistons: 0.366<br>Detroit Red Wings: 0.4<br>",
          "Detroit Lions: 0.125<br>Detroit Tigers: 0.527<br>Detroit Pistons: 0.195<br>Detroit Red Wings: 0.287<br>",
          "Detroit Lions: 0.563<br>Detroit Tigers: 0.518<br>Detroit Pistons: 0.256<br>Detroit Red Wings: 0.325<br>",
          "Detroit Lions: 0.5<br>Detroit Tigers: 0.550<br>Detroit Pistons: 0.476<br>Detroit Red Wings: 0.237<br>",
          "Detroit Lions: 0.444<br>Detroit Tigers: 0.512<br>Detroit Pistons: 0.451<br>Detroit Red Wings: 0.262<br>",
          "Detroit Lions: 0.563<br>Detroit Tigers: 0.567<br>Detroit Pistons: 0.598<br>Detroit Red Wings: 0.262<br>",
          "Detroit Lions: 0.281<br>Detroit Tigers: 0.641<br>Detroit Pistons: 0.561<br>Detroit Red Wings: 0.387<br>",
          "Detroit Lions: 0.438<br>Detroit Tigers: 0.521<br>Detroit Pistons: 0.561<br>Detroit Red Wings: 0.337<br>",
          "Detroit Lions: 0.313<br>Detroit Tigers: 0.537<br>Detroit Pistons: 0.634<br>Detroit Red Wings: 0.212<br>",
          "Detroit Lions: 0.267<br>Detroit Tigers: 0.604<br>Detroit Pistons: 0.659<br>Detroit Red Wings: 0.425<br>",
          "Detroit Lions: 0.25<br>Detroit Tigers: 0.543<br>Detroit Pistons: 0.768<br>Detroit Red Wings: 0.512<br>",
          "Detroit Lions: 0.438<br>Detroit Tigers: 0.364<br>Detroit Pistons: 0.72<br>Detroit Red Wings: 0.425<br>",
          "Detroit Lions: 0.375<br>Detroit Tigers: 0.487<br>Detroit Pistons: 0.61<br>Detroit Red Wings: 0.35<br>",
          "Detroit Lions: 0.75<br>Detroit Tigers: 0.518<br>Detroit Pistons: 0.585<br>Detroit Red Wings: 0.425<br>",
          "Detroit Lions: 0.313<br>Detroit Tigers: 0.462<br>Detroit Pistons: 0.488<br>Detroit Red Wings: 0.537<br>",
          "Detroit Lions: 0.625<br>Detroit Tigers: 0.524<br>Detroit Pistons: 0.244<br>Detroit Red Wings: 0.559<br>",
          "Detroit Lions: 0.563<br>Detroit Tigers: 0.460<br>Detroit Pistons: 0.341<br>Detroit Red Wings: 0.547<br>",
          "Detroit Lions: 0.625<br>Detroit Tigers: 0.416<br>Detroit Pistons: 0.561<br>Detroit Red Wings: 0.687<br>",
          "Detroit Lions: 0.313<br>Detroit Tigers: 0.327<br>Detroit Pistons: 0.659<br>Detroit Red Wings: 0.756<br>",
          "Detroit Lions: 0.563<br>Detroit Tigers: 0.487<br>Detroit Pistons: 0.451<br>Detroit Red Wings: 0.463<br>",
          "Detroit Lions: 0.313<br>Detroit Tigers: 0.401<br>Detroit Pistons: 0.58<br>Detroit Red Wings: 0.536<br>",
          "Detroit Lions: 0.5<br>Detroit Tigers: 0.428<br>Detroit Pistons: 0.512<br>Detroit Red Wings: 0.524<br>",
          "Detroit Lions: 0.563<br>Detroit Tigers: 0.487<br>Detroit Pistons: 0.39<br>Detroit Red Wings: 0.585<br>",
          "Detroit Lions: 0.125<br>Detroit Tigers: 0.407<br>Detroit Pistons: 0.61<br>Detroit Red Wings: 0.597<br>",
          "Detroit Lions: 0.188<br>Detroit Tigers: 0.341<br>Detroit Pistons: 0.61<br>Detroit Red Wings: 0.621<br>",
          "Detroit Lions: 0.313<br>Detroit Tigers: 0.265<br>Detroit Pistons: 0.659<br>Detroit Red Wings: 0.585<br>",
          "Detroit Lions: 0.375<br>Detroit Tigers: 0.444<br>Detroit Pistons: 0.659<br>Detroit Red Wings: 0.585<br>",
          "Detroit Lions: 0.313<br>Detroit Tigers: 0.438<br>Detroit Pistons: 0.78<br>",
          "Detroit Lions: 0.188<br>Detroit Tigers: 0.586<br>Detroit Pistons: 0.646<br>Detroit Red Wings: 0.707<br>",
          "Detroit Lions: 0.438<br>Detroit Tigers: 0.543<br>Detroit Pistons: 0.72<br>Detroit Red Wings: 0.609<br>",
          "Detroit Lions: 0.0<br>Detroit Tigers: 0.456<br>Detroit Pistons: 0.476<br>Detroit Red Wings: 0.658<br>",
          "Detroit Lions: 0.125<br>Detroit Tigers: 0.527<br>Detroit Pistons: 0.329<br>Detroit Red Wings: 0.621<br>",
          "Detroit Lions: 0.375<br>Detroit Tigers: 0.5<br>Detroit Pistons: 0.366<br>Detroit Red Wings: 0.536<br>",
          "Detroit Lions: 0.625<br>Detroit Tigers: 0.586<br>Detroit Pistons: 0.379<br>Detroit Red Wings: 0.573<br>",
          "Detroit Lions: 0.25<br>Detroit Tigers: 0.543<br>Detroit Pistons: 0.354<br>Detroit Red Wings: 0.585<br>",
          "Detroit Lions: 0.438<br>Detroit Tigers: 0.574<br>Detroit Pistons: 0.354<br>Detroit Red Wings: 0.5<br>",
          "Detroit Lions: 0.688<br>Detroit Tigers: 0.555<br>Detroit Pistons: 0.39<br>Detroit Red Wings: 0.475<br>",
          "Detroit Lions: 0.438<br>Detroit Tigers: 0.459<br>Detroit Pistons: 0.537<br>Detroit Red Wings: 0.524<br>",
          "Detroit Lions: 0.563<br>Detroit Tigers: 0.534<br>Detroit Pistons: 0.467<br>Detroit Red Wings: 0.5<br>",
          "Detroit Lions: 0.563<br>Detroit Tigers: 0.395<br>Detroit Red Wings: 0.402<br>",
          "Detroit Lions: 0.375<br>Detroit Tigers: 0.395<br>Detroit Red Wings: 0.365<br>",
          "Detroit Lions: 0.219<br>Detroit Tigers: 0.291<br>Detroit Red Wings: 0.390<br>",
          "Detroit Lions: 0.313<br>Detroit Tigers: 0.396<br>Detroit Red Wings: 0.239<br>"
         ],
         "type": "scatter",
         "x": [
          1921,
          1922,
          1923,
          1924,
          1925,
          1926,
          1927,
          1928,
          1929,
          1930,
          1931,
          1932,
          1933,
          1934,
          1935,
          1936,
          1937,
          1938,
          1939,
          1940,
          1941,
          1942,
          1943,
          1944,
          1945,
          1946,
          1947,
          1948,
          1949,
          1950,
          1951,
          1952,
          1953,
          1954,
          1955,
          1956,
          1957,
          1958,
          1959,
          1960,
          1961,
          1962,
          1963,
          1964,
          1965,
          1966,
          1967,
          1968,
          1969,
          1970,
          1971,
          1972,
          1973,
          1974,
          1975,
          1976,
          1977,
          1978,
          1979,
          1980,
          1981,
          1982,
          1983,
          1984,
          1985,
          1986,
          1987,
          1988,
          1989,
          1990,
          1991,
          1992,
          1993,
          1994,
          1995,
          1996,
          1997,
          1998,
          1999,
          2000,
          2001,
          2002,
          2003,
          2004,
          2005,
          2006,
          2007,
          2008,
          2009,
          2010,
          2011,
          2012,
          2013,
          2014,
          2015,
          2016,
          2017,
          2018,
          2019,
          2020
         ],
         "y": [
          0.46405228758169936,
          0.512987012987013,
          0.538961038961039,
          0.5584415584415584,
          0.651987012987013,
          0.4784935064935065,
          0.5359477124183006,
          0.6097792207792208,
          0.45454545454545453,
          0.46550649350649353,
          0.591051948051948,
          0.6266556291390728,
          0.5160064935064935,
          0.712422077922078,
          0.6579470198675497,
          0.6029805194805196,
          0.6069610389610389,
          0.5907272727272728,
          0.5354870129870131,
          0.5422077922077921,
          0.4435064935064935,
          0.237012987012987,
          0.41974675324675326,
          0.6192142857142857,
          0.6375816993464052,
          0.3442012987012987,
          0.400974025974026,
          0.34683116883116877,
          0.4953116883116883,
          0.5291136363636364,
          0.5443993506493506,
          0.5563116883116883,
          0.573224025974026,
          0.5962824675324675,
          0.46924675324675325,
          0.5457597402597403,
          0.5435876623376623,
          0.41682142857142856,
          0.3809123376623377,
          0.4613668831168831,
          0.5146499118165785,
          0.5168804347826087,
          0.40444929453262785,
          0.48106569664903,
          0.46445282186948855,
          0.41601675485008816,
          0.46311067019400354,
          0.43091683350016685,
          0.5149415204678363,
          0.5692425276153347,
          0.42469491927825265,
          0.5173397435897436,
          0.5242625830959164,
          0.45105982905982905,
          0.3962476415094339,
          0.4376568322981366,
          0.3871975308641975,
          0.433716049382716,
          0.28386257763975153,
          0.4156296296296296,
          0.4409896788990826,
          0.4174614197530864,
          0.49785030864197527,
          0.4678688271604938,
          0.4645597826086957,
          0.42413425925925924,
          0.48898456790123457,
          0.5184274691358024,
          0.4867993827160494,
          0.45566358024691356,
          0.5696296296296296,
          0.45036574074074076,
          0.48830379188712525,
          0.4781221532091097,
          0.5725416666666667,
          0.5138145137006926,
          0.4912672387834989,
          0.4577049834387233,
          0.4912404181184669,
          0.5065050436615477,
          0.4349920957542909,
          0.4403915315861233,
          0.45569948810599215,
          0.5159525745257453,
          0.5104238683127572,
          0.5319342065642878,
          0.5777414935260463,
          0.3978316772056609,
          0.4008896453688463,
          0.44439634146341467,
          0.5408976211984342,
          0.4331439325504366,
          0.4665185185185185,
          0.5272913279132792,
          0.4897543932737464,
          0.5160403726708074,
          0.4535002509284352,
          0.378638462310549,
          0.30038978942584454,
          0.3163294479520803
         ]
        },
        {
         "hovertemplate": "<br><b>Year</b>: %{x}<br><b>Winning Pct.</b>: %{y:.2f}<br>%{text}<extra></extra>",
         "mode": "lines",
         "name": "Minnesota (0.454)",
         "text": [
          "Minneapolis Red Jackets: 0.25<br>",
          "Minneapolis Red Jackets: 0.286<br>",
          "Minneapolis Red Jackets: 0.0<br>",
          "Minneapolis Red Jackets: 0.1<br>",
          "Minneapolis Red Jackets: 0.167<br>",
          "Minnesota Vikings: 0.214<br>Minnesota Twins: 0.437<br>",
          "Minnesota Vikings: 0.154<br>Minnesota Twins: 0.561<br>",
          "Minnesota Vikings: 0.385<br>Minnesota Twins: 0.565<br>",
          "Minnesota Vikings: 0.615<br>Minnesota Twins: 0.487<br>",
          "Minnesota Vikings: 0.5<br>Minnesota Twins: 0.629<br>",
          "Minnesota Vikings: 0.308<br>Minnesota Twins: 0.549<br>",
          "Minnesota Vikings: 0.273<br>Minnesota Twins: 0.561<br>",
          "Minnesota Vikings: 0.571<br>Minnesota Twins: 0.487<br>Minnesota North Stars: 0.364<br>",
          "Minnesota Vikings: 0.857<br>Minnesota Twins: 0.598<br>Minnesota North Stars: 0.236<br>",
          "Minnesota Vikings: 0.857<br>Minnesota Twins: 0.604<br>Minnesota North Stars: 0.25<br>",
          "Minnesota Vikings: 0.786<br>Minnesota Twins: 0.462<br>Minnesota North Stars: 0.358<br>",
          "Minnesota Vikings: 0.5<br>Minnesota Twins: 0.5<br>Minnesota North Stars: 0.474<br>",
          "Minnesota Vikings: 0.857<br>Minnesota Twins: 0.5<br>Minnesota North Stars: 0.474<br>",
          "Minnesota Vikings: 0.714<br>Minnesota Twins: 0.506<br>Minnesota North Stars: 0.294<br>",
          "Minnesota Vikings: 0.857<br>Minnesota Twins: 0.477<br>Minnesota North Stars: 0.287<br>",
          "Minnesota Vikings: 0.821<br>Minnesota Twins: 0.524<br>Minnesota North Stars: 0.25<br>",
          "Minnesota Vikings: 0.643<br>Minnesota Twins: 0.521<br>Minnesota North Stars: 0.287<br>",
          "Minnesota Vikings: 0.531<br>Minnesota Twins: 0.450<br>Minnesota North Stars: 0.225<br>",
          "Minnesota Vikings: 0.438<br>Minnesota Twins: 0.506<br>Minnesota North Stars: 0.35<br>",
          "Minnesota Vikings: 0.563<br>Minnesota Twins: 0.478<br>Minnesota North Stars: 0.45<br>",
          "Minnesota Vikings: 0.438<br>Minnesota Twins: 0.376<br>Minnesota North Stars: 0.437<br>",
          "Minnesota Vikings: 0.556<br>Minnesota Twins: 0.370<br>Minnesota North Stars: 0.462<br>",
          "Minnesota Vikings: 0.5<br>Minnesota Twins: 0.432<br>Minnesota North Stars: 0.5<br>",
          "Minnesota Vikings: 0.188<br>Minnesota Twins: 0.5<br>Minnesota North Stars: 0.487<br>",
          "Minnesota Vikings: 0.438<br>Minnesota Twins: 0.475<br>Minnesota North Stars: 0.312<br>",
          "Minnesota Vikings: 0.563<br>Minnesota Twins: 0.438<br>Minnesota North Stars: 0.475<br>",
          "Minnesota Vikings: 0.533<br>Minnesota Twins: 0.524<br>Minnesota North Stars: 0.375<br>",
          "Minnesota Vikings: 0.688<br>Minnesota Twins: 0.561<br>Minnesota North Stars: 0.237<br>",
          "Minnesota Vikings: 0.625<br>Minnesota Twins: 0.493<br>Minnesota Timberwolves: 0.268<br>Minnesota North Stars: 0.337<br>",
          "Minnesota Vikings: 0.375<br>Minnesota Twins: 0.456<br>Minnesota Timberwolves: 0.354<br>Minnesota North Stars: 0.45<br>",
          "Minnesota Vikings: 0.5<br>Minnesota Twins: 0.586<br>Minnesota Timberwolves: 0.183<br>Minnesota North Stars: 0.337<br>",
          "Minnesota Vikings: 0.688<br>Minnesota Twins: 0.555<br>Minnesota Timberwolves: 0.232<br>Minnesota North Stars: 0.4<br>",
          "Minnesota Vikings: 0.563<br>Minnesota Twins: 0.438<br>Minnesota Timberwolves: 0.244<br>Minnesota North Stars: 0.428<br>",
          "Minnesota Vikings: 0.625<br>Minnesota Twins: 0.469<br>Minnesota Timberwolves: 0.256<br>",
          "Minnesota Vikings: 0.5<br>Minnesota Twins: 0.388<br>Minnesota Timberwolves: 0.317<br>",
          "Minnesota Vikings: 0.563<br>Minnesota Twins: 0.481<br>Minnesota Timberwolves: 0.488<br>",
          "Minnesota Vikings: 0.563<br>Minnesota Twins: 0.419<br>Minnesota Timberwolves: 0.549<br>",
          "Minnesota Vikings: 0.938<br>Minnesota Twins: 0.432<br>Minnesota Timberwolves: 0.5<br>",
          "Minnesota Vikings: 0.625<br>Minnesota Twins: 0.393<br>Minnesota Timberwolves: 0.61<br>",
          "Minnesota Vikings: 0.688<br>Minnesota Twins: 0.425<br>Minnesota Timberwolves: 0.573<br>",
          "Minnesota Vikings: 0.313<br>Minnesota Twins: 0.524<br>Minnesota Timberwolves: 0.61<br>Minnesota Wild: 0.304<br>",
          "Minnesota Vikings: 0.375<br>Minnesota Twins: 0.583<br>Minnesota Timberwolves: 0.622<br>Minnesota Wild: 0.317<br>",
          "Minnesota Vikings: 0.563<br>Minnesota Twins: 0.555<br>Minnesota Timberwolves: 0.707<br>Minnesota Wild: 0.512<br>",
          "Minnesota Vikings: 0.5<br>Minnesota Twins: 0.567<br>Minnesota Timberwolves: 0.537<br>Minnesota Wild: 0.365<br>",
          "Minnesota Vikings: 0.563<br>Minnesota Twins: 0.512<br>Minnesota Timberwolves: 0.402<br>",
          "Minnesota Vikings: 0.375<br>Minnesota Twins: 0.592<br>Minnesota Timberwolves: 0.39<br>Minnesota Wild: 0.463<br>",
          "Minnesota Vikings: 0.5<br>Minnesota Twins: 0.487<br>Minnesota Timberwolves: 0.268<br>Minnesota Wild: 0.585<br>",
          "Minnesota Vikings: 0.625<br>Minnesota Twins: 0.539<br>Minnesota Timberwolves: 0.293<br>Minnesota Wild: 0.536<br>",
          "Minnesota Vikings: 0.75<br>Minnesota Twins: 0.533<br>Minnesota Timberwolves: 0.183<br>Minnesota Wild: 0.487<br>",
          "Minnesota Vikings: 0.375<br>Minnesota Twins: 0.580<br>Minnesota Timberwolves: 0.207<br>Minnesota Wild: 0.463<br>",
          "Minnesota Vikings: 0.188<br>Minnesota Twins: 0.388<br>Minnesota Timberwolves: 0.394<br>Minnesota Wild: 0.475<br>",
          "Minnesota Vikings: 0.625<br>Minnesota Twins: 0.407<br>Minnesota Timberwolves: 0.378<br>Minnesota Wild: 0.426<br>",
          "Minnesota Vikings: 0.344<br>Minnesota Twins: 0.407<br>Minnesota Timberwolves: 0.488<br>Minnesota Wild: 0.541<br>",
          "Minnesota Vikings: 0.438<br>Minnesota Twins: 0.432<br>Minnesota Timberwolves: 0.195<br>Minnesota Wild: 0.524<br>",
          "Minnesota Vikings: 0.688<br>Minnesota Twins: 0.512<br>Minnesota Timberwolves: 0.354<br>Minnesota Wild: 0.560<br>",
          "Minnesota Vikings: 0.5<br>Minnesota Twins: 0.364<br>Minnesota Timberwolves: 0.364<br>Minnesota Wild: 0.463<br>",
          "Minnesota Vikings: 0.813<br>Minnesota Twins: 0.524<br>Minnesota Wild: 0.597<br>",
          "Minnesota Vikings: 0.531<br>Minnesota Twins: 0.481<br>Minnesota Wild: 0.548<br>",
          "Minnesota Vikings: 0.625<br>Minnesota Twins: 0.623<br>Minnesota Wild: 0.451<br>",
          "Minnesota Vikings: 0.438<br>Minnesota Twins: 0.6<br>Minnesota Wild: 0.507<br>"
         ],
         "type": "scatter",
         "x": [
          1922,
          1923,
          1924,
          1929,
          1930,
          1961,
          1962,
          1963,
          1964,
          1965,
          1966,
          1967,
          1968,
          1969,
          1970,
          1971,
          1972,
          1973,
          1974,
          1975,
          1976,
          1977,
          1978,
          1979,
          1980,
          1981,
          1982,
          1983,
          1984,
          1985,
          1986,
          1987,
          1988,
          1989,
          1990,
          1991,
          1992,
          1993,
          1994,
          1995,
          1996,
          1997,
          1998,
          1999,
          2000,
          2001,
          2002,
          2003,
          2004,
          2005,
          2006,
          2007,
          2008,
          2009,
          2010,
          2011,
          2012,
          2013,
          2014,
          2015,
          2016,
          2017,
          2018,
          2019,
          2020
         ],
         "y": [
          0.25,
          0.286,
          0,
          0.1,
          0.167,
          0.32575,
          0.35786419753086424,
          0.4751086956521739,
          0.5513271604938271,
          0.5648148148148149,
          0.4286913580246914,
          0.41736419753086423,
          0.47450639528417304,
          0.5642025124539745,
          0.5706460905349794,
          0.5358247863247864,
          0.4914529914529915,
          0.6104529914529914,
          0.5050148781259892,
          0.5408291404612159,
          0.5318971193415637,
          0.4840797101449275,
          0.4022057613168724,
          0.43139094650205756,
          0.4970869565217391,
          0.4172155963302752,
          0.4629567901234568,
          0.4773662551440329,
          0.3918333333333333,
          0.40860288065843625,
          0.49209053497942384,
          0.47756378600823046,
          0.4957427983539095,
          0.4310817901234568,
          0.40894753086419755,
          0.40172993827160497,
          0.4688888888888889,
          0.418460758377425,
          0.45000884955752213,
          0.401962962962963,
          0.5108271604938271,
          0.5105843621399176,
          0.6233662551440329,
          0.5429166666666666,
          0.5623086419753086,
          0.4381423517012948,
          0.47448102560218147,
          0.5844376693766937,
          0.4926887232761217,
          0.4924485596707819,
          0.45525180668473353,
          0.46025504366154774,
          0.49861566661678886,
          0.48863680233428103,
          0.40641538693164714,
          0.36162466124661247,
          0.4593091689250226,
          0.4452685185185185,
          0.39737225233363443,
          0.5288303221921108,
          0.4229030412526348,
          0.6450841112114825,
          0.5204206564287865,
          0.5665587674395263,
          0.5150821256038647
         ]
        }
       ],
       "layout": {
        "legend": {
         "title": {
          "text": "City (Lifetime Winning Pct.)"
         }
        },
        "shapes": [
         {
          "line": {
           "color": "white",
           "dash": "dash",
           "width": 1
          },
          "type": "line",
          "x0": 0,
          "x1": 1,
          "xref": "x domain",
          "y0": 0.5,
          "y1": 0.5,
          "yref": "y"
         }
        ],
        "template": {
         "data": {
          "bar": [
           {
            "error_x": {
             "color": "#f2f5fa"
            },
            "error_y": {
             "color": "#f2f5fa"
            },
            "marker": {
             "line": {
              "color": "rgb(17,17,17)",
              "width": 0.5
             },
             "pattern": {
              "fillmode": "overlay",
              "size": 10,
              "solidity": 0.2
             }
            },
            "type": "bar"
           }
          ],
          "barpolar": [
           {
            "marker": {
             "line": {
              "color": "rgb(17,17,17)",
              "width": 0.5
             },
             "pattern": {
              "fillmode": "overlay",
              "size": 10,
              "solidity": 0.2
             }
            },
            "type": "barpolar"
           }
          ],
          "carpet": [
           {
            "aaxis": {
             "endlinecolor": "#A2B1C6",
             "gridcolor": "#506784",
             "linecolor": "#506784",
             "minorgridcolor": "#506784",
             "startlinecolor": "#A2B1C6"
            },
            "baxis": {
             "endlinecolor": "#A2B1C6",
             "gridcolor": "#506784",
             "linecolor": "#506784",
             "minorgridcolor": "#506784",
             "startlinecolor": "#A2B1C6"
            },
            "type": "carpet"
           }
          ],
          "choropleth": [
           {
            "colorbar": {
             "outlinewidth": 0,
             "ticks": ""
            },
            "type": "choropleth"
           }
          ],
          "contour": [
           {
            "colorbar": {
             "outlinewidth": 0,
             "ticks": ""
            },
            "colorscale": [
             [
              0,
              "#0d0887"
             ],
             [
              0.1111111111111111,
              "#46039f"
             ],
             [
              0.2222222222222222,
              "#7201a8"
             ],
             [
              0.3333333333333333,
              "#9c179e"
             ],
             [
              0.4444444444444444,
              "#bd3786"
             ],
             [
              0.5555555555555556,
              "#d8576b"
             ],
             [
              0.6666666666666666,
              "#ed7953"
             ],
             [
              0.7777777777777778,
              "#fb9f3a"
             ],
             [
              0.8888888888888888,
              "#fdca26"
             ],
             [
              1,
              "#f0f921"
             ]
            ],
            "type": "contour"
           }
          ],
          "contourcarpet": [
           {
            "colorbar": {
             "outlinewidth": 0,
             "ticks": ""
            },
            "type": "contourcarpet"
           }
          ],
          "heatmap": [
           {
            "colorbar": {
             "outlinewidth": 0,
             "ticks": ""
            },
            "colorscale": [
             [
              0,
              "#0d0887"
             ],
             [
              0.1111111111111111,
              "#46039f"
             ],
             [
              0.2222222222222222,
              "#7201a8"
             ],
             [
              0.3333333333333333,
              "#9c179e"
             ],
             [
              0.4444444444444444,
              "#bd3786"
             ],
             [
              0.5555555555555556,
              "#d8576b"
             ],
             [
              0.6666666666666666,
              "#ed7953"
             ],
             [
              0.7777777777777778,
              "#fb9f3a"
             ],
             [
              0.8888888888888888,
              "#fdca26"
             ],
             [
              1,
              "#f0f921"
             ]
            ],
            "type": "heatmap"
           }
          ],
          "heatmapgl": [
           {
            "colorbar": {
             "outlinewidth": 0,
             "ticks": ""
            },
            "colorscale": [
             [
              0,
              "#0d0887"
             ],
             [
              0.1111111111111111,
              "#46039f"
             ],
             [
              0.2222222222222222,
              "#7201a8"
             ],
             [
              0.3333333333333333,
              "#9c179e"
             ],
             [
              0.4444444444444444,
              "#bd3786"
             ],
             [
              0.5555555555555556,
              "#d8576b"
             ],
             [
              0.6666666666666666,
              "#ed7953"
             ],
             [
              0.7777777777777778,
              "#fb9f3a"
             ],
             [
              0.8888888888888888,
              "#fdca26"
             ],
             [
              1,
              "#f0f921"
             ]
            ],
            "type": "heatmapgl"
           }
          ],
          "histogram": [
           {
            "marker": {
             "pattern": {
              "fillmode": "overlay",
              "size": 10,
              "solidity": 0.2
             }
            },
            "type": "histogram"
           }
          ],
          "histogram2d": [
           {
            "colorbar": {
             "outlinewidth": 0,
             "ticks": ""
            },
            "colorscale": [
             [
              0,
              "#0d0887"
             ],
             [
              0.1111111111111111,
              "#46039f"
             ],
             [
              0.2222222222222222,
              "#7201a8"
             ],
             [
              0.3333333333333333,
              "#9c179e"
             ],
             [
              0.4444444444444444,
              "#bd3786"
             ],
             [
              0.5555555555555556,
              "#d8576b"
             ],
             [
              0.6666666666666666,
              "#ed7953"
             ],
             [
              0.7777777777777778,
              "#fb9f3a"
             ],
             [
              0.8888888888888888,
              "#fdca26"
             ],
             [
              1,
              "#f0f921"
             ]
            ],
            "type": "histogram2d"
           }
          ],
          "histogram2dcontour": [
           {
            "colorbar": {
             "outlinewidth": 0,
             "ticks": ""
            },
            "colorscale": [
             [
              0,
              "#0d0887"
             ],
             [
              0.1111111111111111,
              "#46039f"
             ],
             [
              0.2222222222222222,
              "#7201a8"
             ],
             [
              0.3333333333333333,
              "#9c179e"
             ],
             [
              0.4444444444444444,
              "#bd3786"
             ],
             [
              0.5555555555555556,
              "#d8576b"
             ],
             [
              0.6666666666666666,
              "#ed7953"
             ],
             [
              0.7777777777777778,
              "#fb9f3a"
             ],
             [
              0.8888888888888888,
              "#fdca26"
             ],
             [
              1,
              "#f0f921"
             ]
            ],
            "type": "histogram2dcontour"
           }
          ],
          "mesh3d": [
           {
            "colorbar": {
             "outlinewidth": 0,
             "ticks": ""
            },
            "type": "mesh3d"
           }
          ],
          "parcoords": [
           {
            "line": {
             "colorbar": {
              "outlinewidth": 0,
              "ticks": ""
             }
            },
            "type": "parcoords"
           }
          ],
          "pie": [
           {
            "automargin": true,
            "type": "pie"
           }
          ],
          "scatter": [
           {
            "marker": {
             "line": {
              "color": "#283442"
             }
            },
            "type": "scatter"
           }
          ],
          "scatter3d": [
           {
            "line": {
             "colorbar": {
              "outlinewidth": 0,
              "ticks": ""
             }
            },
            "marker": {
             "colorbar": {
              "outlinewidth": 0,
              "ticks": ""
             }
            },
            "type": "scatter3d"
           }
          ],
          "scattercarpet": [
           {
            "marker": {
             "colorbar": {
              "outlinewidth": 0,
              "ticks": ""
             }
            },
            "type": "scattercarpet"
           }
          ],
          "scattergeo": [
           {
            "marker": {
             "colorbar": {
              "outlinewidth": 0,
              "ticks": ""
             }
            },
            "type": "scattergeo"
           }
          ],
          "scattergl": [
           {
            "marker": {
             "line": {
              "color": "#283442"
             }
            },
            "type": "scattergl"
           }
          ],
          "scattermapbox": [
           {
            "marker": {
             "colorbar": {
              "outlinewidth": 0,
              "ticks": ""
             }
            },
            "type": "scattermapbox"
           }
          ],
          "scatterpolar": [
           {
            "marker": {
             "colorbar": {
              "outlinewidth": 0,
              "ticks": ""
             }
            },
            "type": "scatterpolar"
           }
          ],
          "scatterpolargl": [
           {
            "marker": {
             "colorbar": {
              "outlinewidth": 0,
              "ticks": ""
             }
            },
            "type": "scatterpolargl"
           }
          ],
          "scatterternary": [
           {
            "marker": {
             "colorbar": {
              "outlinewidth": 0,
              "ticks": ""
             }
            },
            "type": "scatterternary"
           }
          ],
          "surface": [
           {
            "colorbar": {
             "outlinewidth": 0,
             "ticks": ""
            },
            "colorscale": [
             [
              0,
              "#0d0887"
             ],
             [
              0.1111111111111111,
              "#46039f"
             ],
             [
              0.2222222222222222,
              "#7201a8"
             ],
             [
              0.3333333333333333,
              "#9c179e"
             ],
             [
              0.4444444444444444,
              "#bd3786"
             ],
             [
              0.5555555555555556,
              "#d8576b"
             ],
             [
              0.6666666666666666,
              "#ed7953"
             ],
             [
              0.7777777777777778,
              "#fb9f3a"
             ],
             [
              0.8888888888888888,
              "#fdca26"
             ],
             [
              1,
              "#f0f921"
             ]
            ],
            "type": "surface"
           }
          ],
          "table": [
           {
            "cells": {
             "fill": {
              "color": "#506784"
             },
             "line": {
              "color": "rgb(17,17,17)"
             }
            },
            "header": {
             "fill": {
              "color": "#2a3f5f"
             },
             "line": {
              "color": "rgb(17,17,17)"
             }
            },
            "type": "table"
           }
          ]
         },
         "layout": {
          "annotationdefaults": {
           "arrowcolor": "#f2f5fa",
           "arrowhead": 0,
           "arrowwidth": 1
          },
          "autotypenumbers": "strict",
          "coloraxis": {
           "colorbar": {
            "outlinewidth": 0,
            "ticks": ""
           }
          },
          "colorscale": {
           "diverging": [
            [
             0,
             "#8e0152"
            ],
            [
             0.1,
             "#c51b7d"
            ],
            [
             0.2,
             "#de77ae"
            ],
            [
             0.3,
             "#f1b6da"
            ],
            [
             0.4,
             "#fde0ef"
            ],
            [
             0.5,
             "#f7f7f7"
            ],
            [
             0.6,
             "#e6f5d0"
            ],
            [
             0.7,
             "#b8e186"
            ],
            [
             0.8,
             "#7fbc41"
            ],
            [
             0.9,
             "#4d9221"
            ],
            [
             1,
             "#276419"
            ]
           ],
           "sequential": [
            [
             0,
             "#0d0887"
            ],
            [
             0.1111111111111111,
             "#46039f"
            ],
            [
             0.2222222222222222,
             "#7201a8"
            ],
            [
             0.3333333333333333,
             "#9c179e"
            ],
            [
             0.4444444444444444,
             "#bd3786"
            ],
            [
             0.5555555555555556,
             "#d8576b"
            ],
            [
             0.6666666666666666,
             "#ed7953"
            ],
            [
             0.7777777777777778,
             "#fb9f3a"
            ],
            [
             0.8888888888888888,
             "#fdca26"
            ],
            [
             1,
             "#f0f921"
            ]
           ],
           "sequentialminus": [
            [
             0,
             "#0d0887"
            ],
            [
             0.1111111111111111,
             "#46039f"
            ],
            [
             0.2222222222222222,
             "#7201a8"
            ],
            [
             0.3333333333333333,
             "#9c179e"
            ],
            [
             0.4444444444444444,
             "#bd3786"
            ],
            [
             0.5555555555555556,
             "#d8576b"
            ],
            [
             0.6666666666666666,
             "#ed7953"
            ],
            [
             0.7777777777777778,
             "#fb9f3a"
            ],
            [
             0.8888888888888888,
             "#fdca26"
            ],
            [
             1,
             "#f0f921"
            ]
           ]
          },
          "colorway": [
           "#636efa",
           "#EF553B",
           "#00cc96",
           "#ab63fa",
           "#FFA15A",
           "#19d3f3",
           "#FF6692",
           "#B6E880",
           "#FF97FF",
           "#FECB52"
          ],
          "font": {
           "color": "#f2f5fa"
          },
          "geo": {
           "bgcolor": "rgb(17,17,17)",
           "lakecolor": "rgb(17,17,17)",
           "landcolor": "rgb(17,17,17)",
           "showlakes": true,
           "showland": true,
           "subunitcolor": "#506784"
          },
          "hoverlabel": {
           "align": "left"
          },
          "hovermode": "closest",
          "mapbox": {
           "style": "dark"
          },
          "paper_bgcolor": "rgb(17,17,17)",
          "plot_bgcolor": "rgb(17,17,17)",
          "polar": {
           "angularaxis": {
            "gridcolor": "#506784",
            "linecolor": "#506784",
            "ticks": ""
           },
           "bgcolor": "rgb(17,17,17)",
           "radialaxis": {
            "gridcolor": "#506784",
            "linecolor": "#506784",
            "ticks": ""
           }
          },
          "scene": {
           "xaxis": {
            "backgroundcolor": "rgb(17,17,17)",
            "gridcolor": "#506784",
            "gridwidth": 2,
            "linecolor": "#506784",
            "showbackground": true,
            "ticks": "",
            "zerolinecolor": "#C8D4E3"
           },
           "yaxis": {
            "backgroundcolor": "rgb(17,17,17)",
            "gridcolor": "#506784",
            "gridwidth": 2,
            "linecolor": "#506784",
            "showbackground": true,
            "ticks": "",
            "zerolinecolor": "#C8D4E3"
           },
           "zaxis": {
            "backgroundcolor": "rgb(17,17,17)",
            "gridcolor": "#506784",
            "gridwidth": 2,
            "linecolor": "#506784",
            "showbackground": true,
            "ticks": "",
            "zerolinecolor": "#C8D4E3"
           }
          },
          "shapedefaults": {
           "line": {
            "color": "#f2f5fa"
           }
          },
          "sliderdefaults": {
           "bgcolor": "#C8D4E3",
           "bordercolor": "rgb(17,17,17)",
           "borderwidth": 1,
           "tickwidth": 0
          },
          "ternary": {
           "aaxis": {
            "gridcolor": "#506784",
            "linecolor": "#506784",
            "ticks": ""
           },
           "baxis": {
            "gridcolor": "#506784",
            "linecolor": "#506784",
            "ticks": ""
           },
           "bgcolor": "rgb(17,17,17)",
           "caxis": {
            "gridcolor": "#506784",
            "linecolor": "#506784",
            "ticks": ""
           }
          },
          "title": {
           "x": 0.05
          },
          "updatemenudefaults": {
           "bgcolor": "#506784",
           "borderwidth": 0
          },
          "xaxis": {
           "automargin": true,
           "gridcolor": "#283442",
           "linecolor": "#506784",
           "ticks": "",
           "title": {
            "standoff": 15
           },
           "zerolinecolor": "#283442",
           "zerolinewidth": 2
          },
          "yaxis": {
           "automargin": true,
           "gridcolor": "#283442",
           "linecolor": "#506784",
           "ticks": "",
           "title": {
            "standoff": 15
           },
           "zerolinecolor": "#283442",
           "zerolinewidth": 2
          }
         }
        },
        "title": {
         "text": "Winning Percentage by City Over Time"
        },
        "xaxis": {
         "title": {
          "text": "Year"
         }
        },
        "yaxis": {
         "title": {
          "text": "Winning Percentage"
         }
        }
       }
      }
     },
     "metadata": {},
     "output_type": "display_data"
    }
   ],
   "source": [
    "def temp(df):\n",
    "    return \"\".join([row.team_name + \": \" + str(row.win_pct)[:5] + \"<br>\" for i, row in df.iterrows()])\n",
    "temp_df = df.query('year > 1920').groupby([\"year\", \"area\"]).win_pct.mean().reset_index()\n",
    "temp_df = temp_df.merge(df.groupby([\"year\", \"area\"]).apply(temp).reset_index(), on=[\"year\", \"area\"]).rename(columns={0: \"teams\"})\n",
    "cities = [\"Chicago\", \"New York\", \"Boston\", \"Los Angeles\", \"Atlanta\", \"Cleveland\", \"Philadelphia\", \"Detroit\", \"Minnesota\"]\n",
    "fig = go.Figure()\n",
    "for city in cities:\n",
    "    temp = temp_df.query(f\"area == '{city}'\")\n",
    "    win_pct = str(temp.win_pct.mean())[:5]\n",
    "    print(city, win_pct)\n",
    "    fig.add_trace(\n",
    "        go.Scatter(x=temp.year.tolist(), \n",
    "        y=temp.win_pct.tolist(),\n",
    "        text=temp.teams.tolist(),\n",
    "        mode=\"lines\",\n",
    "        hovertemplate =\n",
    "        '<br><b>Year</b>: %{x}<br>'+\n",
    "        '<b>Winning Pct.</b>: %{y:.2f}<br>'+\n",
    "        '%{text}' +\n",
    "        '<extra></extra>',\n",
    "        name=city + f\" ({win_pct})\"))\n",
    "fig.add_hline(y=.5, line_width=1, line_dash=\"dash\", line_color=\"white\")\n",
    "fig.update_layout(\n",
    "    title= \"Winning Percentage by City Over Time\",\n",
    "    xaxis_title=\"Year\",\n",
    "    yaxis_title=\"Winning Percentage\",\n",
    "    legend_title_text=\"City (Lifetime Winning Pct.)\"\n",
    ")\n",
    "fig.write_html(os.path.join(output_dir,\"city_avg.html\"))\n",
    "fig.show()\n"
   ]
  },
  {
   "attachments": {},
   "cell_type": "markdown",
   "metadata": {},
   "source": [
    "## Breakdown By Sport"
   ]
  },
  {
   "cell_type": "code",
   "execution_count": 99,
   "metadata": {},
   "outputs": [
    {
     "name": "stdout",
     "output_type": "stream",
     "text": [
      "average winning percentage for Chicago Bears 0.576\n",
      "average winning percentage for Chicago Blackhawks 0.441\n",
      "average winning percentage for Chicago Bulls 0.520\n",
      "average winning percentage for Chicago Cubs 0.507\n",
      "average winning percentage for Chicago White Sox 0.502\n"
     ]
    },
    {
     "data": {
      "application/vnd.plotly.v1+json": {
       "config": {
        "plotlyServerURL": "https://plot.ly"
       },
       "data": [
        {
         "mode": "lines",
         "name": "Chicago Bears (0.576)",
         "type": "scatter",
         "x": [
          1922,
          1923,
          1924,
          1925,
          1926,
          1927,
          1928,
          1929,
          1930,
          1931,
          1932,
          1933,
          1934,
          1935,
          1936,
          1937,
          1938,
          1939,
          1940,
          1941,
          1942,
          1943,
          1944,
          1945,
          1946,
          1947,
          1948,
          1949,
          1950,
          1951,
          1952,
          1953,
          1954,
          1955,
          1956,
          1957,
          1958,
          1959,
          1960,
          1961,
          1962,
          1963,
          1964,
          1965,
          1966,
          1967,
          1968,
          1969,
          1970,
          1971,
          1972,
          1973,
          1974,
          1975,
          1976,
          1977,
          1978,
          1979,
          1980,
          1981,
          1982,
          1983,
          1984,
          1985,
          1986,
          1987,
          1988,
          1989,
          1990,
          1991,
          1992,
          1993,
          1994,
          1995,
          1996,
          1997,
          1998,
          1999,
          2000,
          2001,
          2002,
          2003,
          2004,
          2005,
          2006,
          2007,
          2008,
          2009,
          2010,
          2011,
          2012,
          2013,
          2014,
          2015,
          2016,
          2017,
          2018,
          2019,
          2020
         ],
         "y": [
          0.75,
          0.818,
          0.857,
          0.818,
          1,
          0.778,
          0.583,
          0.4,
          0.556,
          0.667,
          0.875,
          0.833,
          1,
          0.6,
          0.75,
          0.9,
          0.545,
          0.727,
          0.727,
          0.909,
          1,
          0.889,
          0.667,
          0.3,
          0.8,
          0.667,
          0.833,
          0.75,
          0.75,
          0.583,
          0.417,
          0.273,
          0.667,
          0.667,
          0.818,
          0.417,
          0.667,
          0.667,
          0.455,
          0.571,
          0.643,
          0.917,
          0.357,
          0.643,
          0.417,
          0.538,
          0.5,
          0.071,
          0.429,
          0.429,
          0.321,
          0.214,
          0.286,
          0.286,
          0.5,
          0.643,
          0.438,
          0.625,
          0.438,
          0.375,
          0.333,
          0.5,
          0.625,
          0.938,
          0.875,
          0.733,
          0.75,
          0.375,
          0.688,
          0.688,
          0.313,
          0.438,
          0.563,
          0.563,
          0.438,
          0.25,
          0.25,
          0.375,
          0.313,
          0.813,
          0.25,
          0.438,
          0.313,
          0.688,
          0.813,
          0.438,
          0.563,
          0.438,
          0.688,
          0.5,
          0.625,
          0.5,
          0.313,
          0.375,
          0.188,
          0.313,
          0.75,
          0.5,
          0.5
         ]
        },
        {
         "mode": "lines",
         "name": "Chicago Blackhawks (0.441)",
         "type": "scatter",
         "x": [
          1950,
          1951,
          1952,
          1953,
          1954,
          1955,
          1956,
          1957,
          1958,
          1959,
          1960,
          1961,
          1962,
          1963,
          1964,
          1965,
          1966,
          1967,
          1968,
          1969,
          1970,
          1971,
          1972,
          1973,
          1974,
          1975,
          1976,
          1977,
          1978,
          1979,
          1980,
          1981,
          1982,
          1983,
          1984,
          1985,
          1986,
          1987,
          1988,
          1989,
          1990,
          1991,
          1992,
          1993,
          1994,
          1995,
          1996,
          1997,
          1998,
          1999,
          2000,
          2001,
          2002,
          2003,
          2004,
          2006,
          2007,
          2008,
          2009,
          2010,
          2011,
          2012,
          2013,
          2014,
          2015,
          2016,
          2017,
          2018,
          2019,
          2020
         ],
         "y": [
          0.3142857142857143,
          0.18571428571428572,
          0.24285714285714285,
          0.38571428571428573,
          0.17142857142857143,
          0.18571428571428572,
          0.2714285714285714,
          0.22857142857142856,
          0.34285714285714286,
          0.4,
          0.4,
          0.4142857142857143,
          0.44285714285714284,
          0.45714285714285713,
          0.5142857142857142,
          0.4857142857142857,
          0.5285714285714286,
          0.5857142857142857,
          0.43243243243243246,
          0.4473684210526316,
          0.5921052631578947,
          0.6282051282051282,
          0.5897435897435898,
          0.5384615384615384,
          0.5256410256410257,
          0.4625,
          0.4,
          0.325,
          0.4,
          0.3625,
          0.425,
          0.3875,
          0.375,
          0.5875,
          0.375,
          0.475,
          0.4875,
          0.3625,
          0.375,
          0.3375,
          0.5125,
          0.6125,
          0.45,
          0.5595238095238095,
          0.4642857142857143,
          0.5,
          0.4878048780487805,
          0.4146341463414634,
          0.36585365853658536,
          0.35365853658536583,
          0.4024390243902439,
          0.35365853658536583,
          0.5,
          0.36585365853658536,
          0.24390243902439024,
          0.3170731707317073,
          0.3780487804878049,
          0.4878048780487805,
          0.5609756097560976,
          0.6341463414634146,
          0.5365853658536586,
          0.5487804878048781,
          0.75,
          0.5609756097560976,
          0.5853658536585366,
          0.573170731707317,
          0.6097560975609756,
          0.4024390243902439,
          0.43902439024390244,
          0.45714285714285713
         ]
        },
        {
         "mode": "lines",
         "name": "Chicago Bulls (0.520)",
         "type": "scatter",
         "x": [
          1966,
          1967,
          1968,
          1969,
          1970,
          1971,
          1972,
          1973,
          1974,
          1975,
          1976,
          1977,
          1978,
          1979,
          1980,
          1981,
          1982,
          1983,
          1984,
          1985,
          1986,
          1987,
          1988,
          1989,
          1990,
          1991,
          1992,
          1993,
          1994,
          1995,
          1996,
          1997,
          1998,
          1999,
          2000,
          2001,
          2002,
          2003,
          2004,
          2005,
          2006,
          2007,
          2008,
          2009,
          2010,
          2011,
          2012,
          2013,
          2014,
          2015,
          2016
         ],
         "y": [
          0.407,
          0.354,
          0.402,
          0.476,
          0.622,
          0.695,
          0.622,
          0.659,
          0.573,
          0.293,
          0.537,
          0.488,
          0.378,
          0.366,
          0.549,
          0.415,
          0.341,
          0.329,
          0.463,
          0.366,
          0.488,
          0.61,
          0.573,
          0.671,
          0.744,
          0.817,
          0.695,
          0.671,
          0.573,
          0.878,
          0.841,
          0.756,
          0.26,
          0.207,
          0.183,
          0.256,
          0.366,
          0.28,
          0.573,
          0.5,
          0.598,
          0.402,
          0.5,
          0.5,
          0.756,
          0.758,
          0.549,
          0.585,
          0.61,
          0.512,
          0.477
         ]
        },
        {
         "mode": "lines",
         "name": "Chicago Cubs (0.507)",
         "type": "scatter",
         "x": [
          1903,
          1904,
          1905,
          1906,
          1907,
          1908,
          1909,
          1910,
          1911,
          1912,
          1913,
          1914,
          1915,
          1916,
          1917,
          1918,
          1919,
          1920,
          1921,
          1922,
          1923,
          1924,
          1925,
          1926,
          1927,
          1928,
          1929,
          1930,
          1931,
          1932,
          1933,
          1934,
          1935,
          1936,
          1937,
          1938,
          1939,
          1940,
          1941,
          1942,
          1943,
          1944,
          1945,
          1946,
          1947,
          1948,
          1949,
          1950,
          1951,
          1952,
          1953,
          1954,
          1955,
          1956,
          1957,
          1958,
          1959,
          1960,
          1961,
          1962,
          1963,
          1964,
          1965,
          1966,
          1967,
          1968,
          1969,
          1970,
          1971,
          1972,
          1973,
          1974,
          1975,
          1976,
          1977,
          1978,
          1979,
          1980,
          1981,
          1982,
          1983,
          1984,
          1985,
          1986,
          1987,
          1988,
          1989,
          1990,
          1991,
          1992,
          1993,
          1994,
          1995,
          1996,
          1997,
          1998,
          1999,
          2000,
          2001,
          2002,
          2003,
          2004,
          2005,
          2006,
          2007,
          2008,
          2009,
          2010,
          2011,
          2012,
          2013,
          2014,
          2015,
          2016,
          2017,
          2018,
          2019,
          2020
         ],
         "y": [
          0.5942028985507246,
          0.6078431372549019,
          0.6013071895424836,
          0.7631578947368421,
          0.7039473684210527,
          0.6428571428571429,
          0.6797385620915033,
          0.6753246753246753,
          0.5974025974025974,
          0.6066666666666667,
          0.5751633986928104,
          0.5064935064935064,
          0.477124183006536,
          0.43790849673202614,
          0.4805194805194805,
          0.6511627906976745,
          0.5357142857142857,
          0.487012987012987,
          0.41830065359477125,
          0.5194805194805194,
          0.538961038961039,
          0.5294117647058824,
          0.44155844155844154,
          0.5324675324675324,
          0.5555555555555556,
          0.5909090909090909,
          0.6447368421052632,
          0.5844155844155844,
          0.5454545454545454,
          0.5844155844155844,
          0.5584415584415584,
          0.5695364238410596,
          0.6493506493506493,
          0.564935064935065,
          0.6038961038961039,
          0.5855263157894737,
          0.5454545454545454,
          0.487012987012987,
          0.45454545454545453,
          0.44155844155844154,
          0.48366013071895425,
          0.487012987012987,
          0.6363636363636364,
          0.5359477124183006,
          0.44805194805194803,
          0.4155844155844156,
          0.3961038961038961,
          0.41830065359477125,
          0.4025974025974026,
          0.5,
          0.42207792207792205,
          0.4155844155844156,
          0.47058823529411764,
          0.38961038961038963,
          0.4025974025974026,
          0.4675324675324675,
          0.4805194805194805,
          0.38961038961038963,
          0.4155844155844156,
          0.36419753086419754,
          0.5061728395061729,
          0.4691358024691358,
          0.4444444444444444,
          0.36419753086419754,
          0.5403726708074534,
          0.5185185185185185,
          0.5679012345679012,
          0.5185185185185185,
          0.5123456790123457,
          0.5483870967741935,
          0.4782608695652174,
          0.4074074074074074,
          0.46296296296296297,
          0.46296296296296297,
          0.5,
          0.4876543209876543,
          0.49382716049382713,
          0.3950617283950617,
          0.36893203883495146,
          0.4506172839506173,
          0.4382716049382716,
          0.5962732919254659,
          0.4782608695652174,
          0.4375,
          0.4720496894409938,
          0.47530864197530864,
          0.5740740740740741,
          0.47530864197530864,
          0.48125,
          0.48148148148148145,
          0.5185185185185185,
          0.4336283185840708,
          0.5069444444444444,
          0.4691358024691358,
          0.41975308641975306,
          0.5521472392638037,
          0.41358024691358025,
          0.4012345679012346,
          0.5432098765432098,
          0.41358024691358025,
          0.5432098765432098,
          0.5493827160493827,
          0.4876543209876543,
          0.4074074074074074,
          0.5246913580246914,
          0.6024844720496895,
          0.515527950310559,
          0.46296296296296297,
          0.4382716049382716,
          0.3765432098765432,
          0.4074074074074074,
          0.4506172839506173,
          0.5987654320987654,
          0.639751552795031,
          0.5679012345679012,
          0.5828220858895705,
          0.5185185185185185,
          0.5666666666666667
         ]
        },
        {
         "mode": "lines",
         "name": "Chicago White Sox (0.502)",
         "type": "scatter",
         "x": [
          1901,
          1902,
          1903,
          1904,
          1905,
          1906,
          1907,
          1908,
          1909,
          1910,
          1911,
          1912,
          1913,
          1914,
          1915,
          1916,
          1917,
          1918,
          1919,
          1920,
          1921,
          1922,
          1923,
          1924,
          1925,
          1926,
          1927,
          1928,
          1929,
          1930,
          1931,
          1932,
          1933,
          1934,
          1935,
          1936,
          1937,
          1938,
          1939,
          1940,
          1941,
          1942,
          1943,
          1944,
          1945,
          1946,
          1947,
          1948,
          1949,
          1950,
          1951,
          1952,
          1953,
          1954,
          1955,
          1956,
          1957,
          1958,
          1959,
          1960,
          1961,
          1962,
          1963,
          1964,
          1965,
          1966,
          1967,
          1968,
          1969,
          1970,
          1971,
          1972,
          1973,
          1974,
          1975,
          1976,
          1977,
          1978,
          1979,
          1980,
          1981,
          1982,
          1983,
          1984,
          1985,
          1986,
          1987,
          1988,
          1989,
          1990,
          1991,
          1992,
          1993,
          1994,
          1995,
          1996,
          1997,
          1998,
          1999,
          2000,
          2001,
          2002,
          2003,
          2004,
          2005,
          2006,
          2007,
          2008,
          2009,
          2010,
          2011,
          2012,
          2013,
          2014,
          2015,
          2016,
          2017,
          2018,
          2019,
          2020
         ],
         "y": [
          0.6102941176470589,
          0.5522388059701493,
          0.43795620437956206,
          0.577922077922078,
          0.6052631578947368,
          0.6158940397350994,
          0.5761589403973509,
          0.5789473684210527,
          0.5131578947368421,
          0.4444444444444444,
          0.5099337748344371,
          0.5064935064935064,
          0.5131578947368421,
          0.45454545454545453,
          0.6038961038961039,
          0.577922077922078,
          0.6493506493506493,
          0.4596774193548387,
          0.6285714285714286,
          0.6233766233766234,
          0.4025974025974026,
          0.5,
          0.44805194805194803,
          0.43137254901960786,
          0.512987012987013,
          0.5294117647058824,
          0.45751633986928103,
          0.4675324675324675,
          0.3881578947368421,
          0.4025974025974026,
          0.3660130718954248,
          0.32450331125827814,
          0.44666666666666666,
          0.34868421052631576,
          0.4868421052631579,
          0.5364238410596026,
          0.5584415584415584,
          0.4391891891891892,
          0.551948051948052,
          0.5324675324675324,
          0.5,
          0.44594594594594594,
          0.5324675324675324,
          0.461038961038961,
          0.47651006711409394,
          0.4805194805194805,
          0.45454545454545453,
          0.3355263157894737,
          0.4090909090909091,
          0.38961038961038963,
          0.525974025974026,
          0.525974025974026,
          0.577922077922078,
          0.6103896103896104,
          0.5909090909090909,
          0.551948051948052,
          0.5844155844155844,
          0.5324675324675324,
          0.6103896103896104,
          0.564935064935065,
          0.5308641975308642,
          0.5246913580246914,
          0.5802469135802469,
          0.6049382716049383,
          0.5864197530864198,
          0.5123456790123457,
          0.5493827160493827,
          0.41358024691358025,
          0.41975308641975306,
          0.345679012345679,
          0.4876543209876543,
          0.564935064935065,
          0.47530864197530864,
          0.5,
          0.4658385093167702,
          0.39751552795031053,
          0.5555555555555556,
          0.4409937888198758,
          0.45625,
          0.4375,
          0.5094339622641509,
          0.5370370370370371,
          0.6111111111111112,
          0.4567901234567901,
          0.5246913580246914,
          0.4444444444444444,
          0.47530864197530864,
          0.4409937888198758,
          0.42857142857142855,
          0.5802469135802469,
          0.5370370370370371,
          0.5308641975308642,
          0.5802469135802469,
          0.5929203539823009,
          0.4722222222222222,
          0.5246913580246914,
          0.4968944099378882,
          0.49382716049382713,
          0.4658385093167702,
          0.5864197530864198,
          0.5123456790123457,
          0.5,
          0.5308641975308642,
          0.5123456790123457,
          0.6111111111111112,
          0.5555555555555556,
          0.4444444444444444,
          0.5460122699386503,
          0.4876543209876543,
          0.5432098765432098,
          0.4876543209876543,
          0.5246913580246914,
          0.3888888888888889,
          0.4506172839506173,
          0.4691358024691358,
          0.48148148148148145,
          0.41358024691358025,
          0.38271604938271603,
          0.4472049689440994,
          0.5833333333333334
         ]
        }
       ],
       "layout": {
        "legend": {
         "title": {
          "text": "Team (Lifetime Winning Pct.)"
         }
        },
        "shapes": [
         {
          "line": {
           "color": "white",
           "dash": "dash",
           "width": 1
          },
          "type": "line",
          "x0": 0,
          "x1": 1,
          "xref": "x domain",
          "y0": 0.5,
          "y1": 0.5,
          "yref": "y"
         }
        ],
        "template": {
         "data": {
          "bar": [
           {
            "error_x": {
             "color": "#f2f5fa"
            },
            "error_y": {
             "color": "#f2f5fa"
            },
            "marker": {
             "line": {
              "color": "rgb(17,17,17)",
              "width": 0.5
             },
             "pattern": {
              "fillmode": "overlay",
              "size": 10,
              "solidity": 0.2
             }
            },
            "type": "bar"
           }
          ],
          "barpolar": [
           {
            "marker": {
             "line": {
              "color": "rgb(17,17,17)",
              "width": 0.5
             },
             "pattern": {
              "fillmode": "overlay",
              "size": 10,
              "solidity": 0.2
             }
            },
            "type": "barpolar"
           }
          ],
          "carpet": [
           {
            "aaxis": {
             "endlinecolor": "#A2B1C6",
             "gridcolor": "#506784",
             "linecolor": "#506784",
             "minorgridcolor": "#506784",
             "startlinecolor": "#A2B1C6"
            },
            "baxis": {
             "endlinecolor": "#A2B1C6",
             "gridcolor": "#506784",
             "linecolor": "#506784",
             "minorgridcolor": "#506784",
             "startlinecolor": "#A2B1C6"
            },
            "type": "carpet"
           }
          ],
          "choropleth": [
           {
            "colorbar": {
             "outlinewidth": 0,
             "ticks": ""
            },
            "type": "choropleth"
           }
          ],
          "contour": [
           {
            "colorbar": {
             "outlinewidth": 0,
             "ticks": ""
            },
            "colorscale": [
             [
              0,
              "#0d0887"
             ],
             [
              0.1111111111111111,
              "#46039f"
             ],
             [
              0.2222222222222222,
              "#7201a8"
             ],
             [
              0.3333333333333333,
              "#9c179e"
             ],
             [
              0.4444444444444444,
              "#bd3786"
             ],
             [
              0.5555555555555556,
              "#d8576b"
             ],
             [
              0.6666666666666666,
              "#ed7953"
             ],
             [
              0.7777777777777778,
              "#fb9f3a"
             ],
             [
              0.8888888888888888,
              "#fdca26"
             ],
             [
              1,
              "#f0f921"
             ]
            ],
            "type": "contour"
           }
          ],
          "contourcarpet": [
           {
            "colorbar": {
             "outlinewidth": 0,
             "ticks": ""
            },
            "type": "contourcarpet"
           }
          ],
          "heatmap": [
           {
            "colorbar": {
             "outlinewidth": 0,
             "ticks": ""
            },
            "colorscale": [
             [
              0,
              "#0d0887"
             ],
             [
              0.1111111111111111,
              "#46039f"
             ],
             [
              0.2222222222222222,
              "#7201a8"
             ],
             [
              0.3333333333333333,
              "#9c179e"
             ],
             [
              0.4444444444444444,
              "#bd3786"
             ],
             [
              0.5555555555555556,
              "#d8576b"
             ],
             [
              0.6666666666666666,
              "#ed7953"
             ],
             [
              0.7777777777777778,
              "#fb9f3a"
             ],
             [
              0.8888888888888888,
              "#fdca26"
             ],
             [
              1,
              "#f0f921"
             ]
            ],
            "type": "heatmap"
           }
          ],
          "heatmapgl": [
           {
            "colorbar": {
             "outlinewidth": 0,
             "ticks": ""
            },
            "colorscale": [
             [
              0,
              "#0d0887"
             ],
             [
              0.1111111111111111,
              "#46039f"
             ],
             [
              0.2222222222222222,
              "#7201a8"
             ],
             [
              0.3333333333333333,
              "#9c179e"
             ],
             [
              0.4444444444444444,
              "#bd3786"
             ],
             [
              0.5555555555555556,
              "#d8576b"
             ],
             [
              0.6666666666666666,
              "#ed7953"
             ],
             [
              0.7777777777777778,
              "#fb9f3a"
             ],
             [
              0.8888888888888888,
              "#fdca26"
             ],
             [
              1,
              "#f0f921"
             ]
            ],
            "type": "heatmapgl"
           }
          ],
          "histogram": [
           {
            "marker": {
             "pattern": {
              "fillmode": "overlay",
              "size": 10,
              "solidity": 0.2
             }
            },
            "type": "histogram"
           }
          ],
          "histogram2d": [
           {
            "colorbar": {
             "outlinewidth": 0,
             "ticks": ""
            },
            "colorscale": [
             [
              0,
              "#0d0887"
             ],
             [
              0.1111111111111111,
              "#46039f"
             ],
             [
              0.2222222222222222,
              "#7201a8"
             ],
             [
              0.3333333333333333,
              "#9c179e"
             ],
             [
              0.4444444444444444,
              "#bd3786"
             ],
             [
              0.5555555555555556,
              "#d8576b"
             ],
             [
              0.6666666666666666,
              "#ed7953"
             ],
             [
              0.7777777777777778,
              "#fb9f3a"
             ],
             [
              0.8888888888888888,
              "#fdca26"
             ],
             [
              1,
              "#f0f921"
             ]
            ],
            "type": "histogram2d"
           }
          ],
          "histogram2dcontour": [
           {
            "colorbar": {
             "outlinewidth": 0,
             "ticks": ""
            },
            "colorscale": [
             [
              0,
              "#0d0887"
             ],
             [
              0.1111111111111111,
              "#46039f"
             ],
             [
              0.2222222222222222,
              "#7201a8"
             ],
             [
              0.3333333333333333,
              "#9c179e"
             ],
             [
              0.4444444444444444,
              "#bd3786"
             ],
             [
              0.5555555555555556,
              "#d8576b"
             ],
             [
              0.6666666666666666,
              "#ed7953"
             ],
             [
              0.7777777777777778,
              "#fb9f3a"
             ],
             [
              0.8888888888888888,
              "#fdca26"
             ],
             [
              1,
              "#f0f921"
             ]
            ],
            "type": "histogram2dcontour"
           }
          ],
          "mesh3d": [
           {
            "colorbar": {
             "outlinewidth": 0,
             "ticks": ""
            },
            "type": "mesh3d"
           }
          ],
          "parcoords": [
           {
            "line": {
             "colorbar": {
              "outlinewidth": 0,
              "ticks": ""
             }
            },
            "type": "parcoords"
           }
          ],
          "pie": [
           {
            "automargin": true,
            "type": "pie"
           }
          ],
          "scatter": [
           {
            "marker": {
             "line": {
              "color": "#283442"
             }
            },
            "type": "scatter"
           }
          ],
          "scatter3d": [
           {
            "line": {
             "colorbar": {
              "outlinewidth": 0,
              "ticks": ""
             }
            },
            "marker": {
             "colorbar": {
              "outlinewidth": 0,
              "ticks": ""
             }
            },
            "type": "scatter3d"
           }
          ],
          "scattercarpet": [
           {
            "marker": {
             "colorbar": {
              "outlinewidth": 0,
              "ticks": ""
             }
            },
            "type": "scattercarpet"
           }
          ],
          "scattergeo": [
           {
            "marker": {
             "colorbar": {
              "outlinewidth": 0,
              "ticks": ""
             }
            },
            "type": "scattergeo"
           }
          ],
          "scattergl": [
           {
            "marker": {
             "line": {
              "color": "#283442"
             }
            },
            "type": "scattergl"
           }
          ],
          "scattermapbox": [
           {
            "marker": {
             "colorbar": {
              "outlinewidth": 0,
              "ticks": ""
             }
            },
            "type": "scattermapbox"
           }
          ],
          "scatterpolar": [
           {
            "marker": {
             "colorbar": {
              "outlinewidth": 0,
              "ticks": ""
             }
            },
            "type": "scatterpolar"
           }
          ],
          "scatterpolargl": [
           {
            "marker": {
             "colorbar": {
              "outlinewidth": 0,
              "ticks": ""
             }
            },
            "type": "scatterpolargl"
           }
          ],
          "scatterternary": [
           {
            "marker": {
             "colorbar": {
              "outlinewidth": 0,
              "ticks": ""
             }
            },
            "type": "scatterternary"
           }
          ],
          "surface": [
           {
            "colorbar": {
             "outlinewidth": 0,
             "ticks": ""
            },
            "colorscale": [
             [
              0,
              "#0d0887"
             ],
             [
              0.1111111111111111,
              "#46039f"
             ],
             [
              0.2222222222222222,
              "#7201a8"
             ],
             [
              0.3333333333333333,
              "#9c179e"
             ],
             [
              0.4444444444444444,
              "#bd3786"
             ],
             [
              0.5555555555555556,
              "#d8576b"
             ],
             [
              0.6666666666666666,
              "#ed7953"
             ],
             [
              0.7777777777777778,
              "#fb9f3a"
             ],
             [
              0.8888888888888888,
              "#fdca26"
             ],
             [
              1,
              "#f0f921"
             ]
            ],
            "type": "surface"
           }
          ],
          "table": [
           {
            "cells": {
             "fill": {
              "color": "#506784"
             },
             "line": {
              "color": "rgb(17,17,17)"
             }
            },
            "header": {
             "fill": {
              "color": "#2a3f5f"
             },
             "line": {
              "color": "rgb(17,17,17)"
             }
            },
            "type": "table"
           }
          ]
         },
         "layout": {
          "annotationdefaults": {
           "arrowcolor": "#f2f5fa",
           "arrowhead": 0,
           "arrowwidth": 1
          },
          "autotypenumbers": "strict",
          "coloraxis": {
           "colorbar": {
            "outlinewidth": 0,
            "ticks": ""
           }
          },
          "colorscale": {
           "diverging": [
            [
             0,
             "#8e0152"
            ],
            [
             0.1,
             "#c51b7d"
            ],
            [
             0.2,
             "#de77ae"
            ],
            [
             0.3,
             "#f1b6da"
            ],
            [
             0.4,
             "#fde0ef"
            ],
            [
             0.5,
             "#f7f7f7"
            ],
            [
             0.6,
             "#e6f5d0"
            ],
            [
             0.7,
             "#b8e186"
            ],
            [
             0.8,
             "#7fbc41"
            ],
            [
             0.9,
             "#4d9221"
            ],
            [
             1,
             "#276419"
            ]
           ],
           "sequential": [
            [
             0,
             "#0d0887"
            ],
            [
             0.1111111111111111,
             "#46039f"
            ],
            [
             0.2222222222222222,
             "#7201a8"
            ],
            [
             0.3333333333333333,
             "#9c179e"
            ],
            [
             0.4444444444444444,
             "#bd3786"
            ],
            [
             0.5555555555555556,
             "#d8576b"
            ],
            [
             0.6666666666666666,
             "#ed7953"
            ],
            [
             0.7777777777777778,
             "#fb9f3a"
            ],
            [
             0.8888888888888888,
             "#fdca26"
            ],
            [
             1,
             "#f0f921"
            ]
           ],
           "sequentialminus": [
            [
             0,
             "#0d0887"
            ],
            [
             0.1111111111111111,
             "#46039f"
            ],
            [
             0.2222222222222222,
             "#7201a8"
            ],
            [
             0.3333333333333333,
             "#9c179e"
            ],
            [
             0.4444444444444444,
             "#bd3786"
            ],
            [
             0.5555555555555556,
             "#d8576b"
            ],
            [
             0.6666666666666666,
             "#ed7953"
            ],
            [
             0.7777777777777778,
             "#fb9f3a"
            ],
            [
             0.8888888888888888,
             "#fdca26"
            ],
            [
             1,
             "#f0f921"
            ]
           ]
          },
          "colorway": [
           "#636efa",
           "#EF553B",
           "#00cc96",
           "#ab63fa",
           "#FFA15A",
           "#19d3f3",
           "#FF6692",
           "#B6E880",
           "#FF97FF",
           "#FECB52"
          ],
          "font": {
           "color": "#f2f5fa"
          },
          "geo": {
           "bgcolor": "rgb(17,17,17)",
           "lakecolor": "rgb(17,17,17)",
           "landcolor": "rgb(17,17,17)",
           "showlakes": true,
           "showland": true,
           "subunitcolor": "#506784"
          },
          "hoverlabel": {
           "align": "left"
          },
          "hovermode": "closest",
          "mapbox": {
           "style": "dark"
          },
          "paper_bgcolor": "rgb(17,17,17)",
          "plot_bgcolor": "rgb(17,17,17)",
          "polar": {
           "angularaxis": {
            "gridcolor": "#506784",
            "linecolor": "#506784",
            "ticks": ""
           },
           "bgcolor": "rgb(17,17,17)",
           "radialaxis": {
            "gridcolor": "#506784",
            "linecolor": "#506784",
            "ticks": ""
           }
          },
          "scene": {
           "xaxis": {
            "backgroundcolor": "rgb(17,17,17)",
            "gridcolor": "#506784",
            "gridwidth": 2,
            "linecolor": "#506784",
            "showbackground": true,
            "ticks": "",
            "zerolinecolor": "#C8D4E3"
           },
           "yaxis": {
            "backgroundcolor": "rgb(17,17,17)",
            "gridcolor": "#506784",
            "gridwidth": 2,
            "linecolor": "#506784",
            "showbackground": true,
            "ticks": "",
            "zerolinecolor": "#C8D4E3"
           },
           "zaxis": {
            "backgroundcolor": "rgb(17,17,17)",
            "gridcolor": "#506784",
            "gridwidth": 2,
            "linecolor": "#506784",
            "showbackground": true,
            "ticks": "",
            "zerolinecolor": "#C8D4E3"
           }
          },
          "shapedefaults": {
           "line": {
            "color": "#f2f5fa"
           }
          },
          "sliderdefaults": {
           "bgcolor": "#C8D4E3",
           "bordercolor": "rgb(17,17,17)",
           "borderwidth": 1,
           "tickwidth": 0
          },
          "ternary": {
           "aaxis": {
            "gridcolor": "#506784",
            "linecolor": "#506784",
            "ticks": ""
           },
           "baxis": {
            "gridcolor": "#506784",
            "linecolor": "#506784",
            "ticks": ""
           },
           "bgcolor": "rgb(17,17,17)",
           "caxis": {
            "gridcolor": "#506784",
            "linecolor": "#506784",
            "ticks": ""
           }
          },
          "title": {
           "x": 0.05
          },
          "updatemenudefaults": {
           "bgcolor": "#506784",
           "borderwidth": 0
          },
          "xaxis": {
           "automargin": true,
           "gridcolor": "#283442",
           "linecolor": "#506784",
           "ticks": "",
           "title": {
            "standoff": 15
           },
           "zerolinecolor": "#283442",
           "zerolinewidth": 2
          },
          "yaxis": {
           "automargin": true,
           "gridcolor": "#283442",
           "linecolor": "#506784",
           "ticks": "",
           "title": {
            "standoff": 15
           },
           "zerolinecolor": "#283442",
           "zerolinewidth": 2
          }
         }
        },
        "title": {
         "text": "Winning Percentage of Chicago Teams Over Time"
        },
        "xaxis": {
         "title": {
          "text": "Year"
         }
        },
        "yaxis": {
         "title": {
          "text": "Winning Percentage"
         }
        }
       }
      }
     },
     "metadata": {},
     "output_type": "display_data"
    }
   ],
   "source": [
    "city = \"Chicago\"\n",
    "temp = df.query(f\"area == '{city}'\").groupby([\"team_name\", \"year\"]).win_pct.mean().reset_index()\n",
    "teams = ['Chicago Bears', 'Chicago Blackhawks',\n",
    "       'Chicago Bulls', 'Chicago Cubs','Chicago White Sox']\n",
    "fig = go.Figure()\n",
    "for t in teams: \n",
    "    win_pct = str(temp.query(f\"team_name == '{t}'\").win_pct.mean())[:5]\n",
    "    fig.add_trace(go.Scatter(x=temp.query(f\"team_name == '{t}'\").year.tolist(), \n",
    "    y=temp.query(f\"team_name == '{t}'\").win_pct.tolist(),\n",
    "                        mode='lines',\n",
    "                        name=t+ f\" ({win_pct})\"))\n",
    "    \n",
    "    print(\"average winning percentage for\", t, win_pct)\n",
    "\n",
    "fig.update_layout(\n",
    "    title= \"Winning Percentage of Chicago Teams Over Time\",\n",
    "    xaxis_title=\"Year\",\n",
    "    yaxis_title=\"Winning Percentage\",\n",
    "    legend_title_text=\"Team (Lifetime Winning Pct.)\"\n",
    ")\n",
    "fig.add_hline(y=.5, line_width=1, line_dash=\"dash\", line_color=\"white\")\n",
    "\n",
    "fig.write_html(os.path.join(output_dir,\"chicago_by_sport.html\"))\n",
    "fig.show()\n"
   ]
  },
  {
   "attachments": {},
   "cell_type": "markdown",
   "metadata": {},
   "source": [
    "### Exploring Cities with 3 + teams "
   ]
  },
  {
   "cell_type": "code",
   "execution_count": 101,
   "metadata": {},
   "outputs": [],
   "source": [
    "teams_per_place = df.groupby([\"year\", \"area\"]).team_name.count()\n",
    "teams_3 = teams_per_place[teams_per_place > 2].index\n",
    "def temp(df):\n",
    "    acc = \"\"\n",
    "    for i, row in df.iterrows():\n",
    "        acc += row.team_name + \": \" + str(row.win_pct)[:5] + \"<br>\"\n",
    "    return acc\n",
    "teams = df.groupby([\"year\", \"area\"]).apply(temp)"
   ]
  },
  {
   "cell_type": "code",
   "execution_count": 103,
   "metadata": {},
   "outputs": [
    {
     "data": {
      "text/html": [
       "<div>\n",
       "<style scoped>\n",
       "    .dataframe tbody tr th:only-of-type {\n",
       "        vertical-align: middle;\n",
       "    }\n",
       "\n",
       "    .dataframe tbody tr th {\n",
       "        vertical-align: top;\n",
       "    }\n",
       "\n",
       "    .dataframe thead th {\n",
       "        text-align: right;\n",
       "    }\n",
       "</style>\n",
       "<table border=\"1\" class=\"dataframe\">\n",
       "  <thead>\n",
       "    <tr style=\"text-align: right;\">\n",
       "      <th></th>\n",
       "      <th>year</th>\n",
       "      <th>area</th>\n",
       "      <th>win_pct</th>\n",
       "      <th>teams</th>\n",
       "    </tr>\n",
       "  </thead>\n",
       "  <tbody>\n",
       "    <tr>\n",
       "      <th>0</th>\n",
       "      <td>1903</td>\n",
       "      <td>New York</td>\n",
       "      <td>0.552112</td>\n",
       "      <td>Brooklyn Superbas: 0.514&lt;br&gt;New York Giants: 0...</td>\n",
       "    </tr>\n",
       "    <tr>\n",
       "      <th>1</th>\n",
       "      <td>1904</td>\n",
       "      <td>New York</td>\n",
       "      <td>0.556032</td>\n",
       "      <td>Brooklyn Superbas: 0.366&lt;br&gt;New York Giants: 0...</td>\n",
       "    </tr>\n",
       "    <tr>\n",
       "      <th>2</th>\n",
       "      <td>1905</td>\n",
       "      <td>New York</td>\n",
       "      <td>0.492858</td>\n",
       "      <td>Brooklyn Superbas: 0.315&lt;br&gt;New York Giants: 0...</td>\n",
       "    </tr>\n",
       "    <tr>\n",
       "      <th>3</th>\n",
       "      <td>1906</td>\n",
       "      <td>New York</td>\n",
       "      <td>0.553939</td>\n",
       "      <td>Brooklyn Superbas: 0.434&lt;br&gt;New York Giants: 0...</td>\n",
       "    </tr>\n",
       "    <tr>\n",
       "      <th>4</th>\n",
       "      <td>1907</td>\n",
       "      <td>New York</td>\n",
       "      <td>0.482703</td>\n",
       "      <td>Brooklyn Superbas: 0.439&lt;br&gt;New York Giants: 0...</td>\n",
       "    </tr>\n",
       "    <tr>\n",
       "      <th>...</th>\n",
       "      <td>...</td>\n",
       "      <td>...</td>\n",
       "      <td>...</td>\n",
       "      <td>...</td>\n",
       "    </tr>\n",
       "    <tr>\n",
       "      <th>1034</th>\n",
       "      <td>2020</td>\n",
       "      <td>Philadelphia</td>\n",
       "      <td>0.447290</td>\n",
       "      <td>Philadelphia Eagles: 0.281&lt;br&gt;Philadelphia Phi...</td>\n",
       "    </tr>\n",
       "    <tr>\n",
       "      <th>1035</th>\n",
       "      <td>2020</td>\n",
       "      <td>Pittsburgh</td>\n",
       "      <td>0.548792</td>\n",
       "      <td>Pittsburgh Steelers: 0.75&lt;br&gt;Pittsburgh Pirate...</td>\n",
       "    </tr>\n",
       "    <tr>\n",
       "      <th>1036</th>\n",
       "      <td>2020</td>\n",
       "      <td>San Francisco</td>\n",
       "      <td>0.468155</td>\n",
       "      <td>San Francisco 49ers: 0.375&lt;br&gt;San Francisco Gi...</td>\n",
       "    </tr>\n",
       "    <tr>\n",
       "      <th>1037</th>\n",
       "      <td>2020</td>\n",
       "      <td>Tampa Bay</td>\n",
       "      <td>0.656317</td>\n",
       "      <td>Tampa Bay Buccaneers: 0.688&lt;br&gt;Tampa Bay Rays:...</td>\n",
       "    </tr>\n",
       "    <tr>\n",
       "      <th>1038</th>\n",
       "      <td>2020</td>\n",
       "      <td>Tennessee</td>\n",
       "      <td>0.544415</td>\n",
       "      <td>Tennessee Titans: 0.438&lt;br&gt;Tennessee Titans: 0...</td>\n",
       "    </tr>\n",
       "  </tbody>\n",
       "</table>\n",
       "<p>1039 rows × 4 columns</p>\n",
       "</div>"
      ],
      "text/plain": [
       "      year           area   win_pct  \\\n",
       "0     1903       New York  0.552112   \n",
       "1     1904       New York  0.556032   \n",
       "2     1905       New York  0.492858   \n",
       "3     1906       New York  0.553939   \n",
       "4     1907       New York  0.482703   \n",
       "...    ...            ...       ...   \n",
       "1034  2020   Philadelphia  0.447290   \n",
       "1035  2020     Pittsburgh  0.548792   \n",
       "1036  2020  San Francisco  0.468155   \n",
       "1037  2020      Tampa Bay  0.656317   \n",
       "1038  2020      Tennessee  0.544415   \n",
       "\n",
       "                                                  teams  \n",
       "0     Brooklyn Superbas: 0.514<br>New York Giants: 0...  \n",
       "1     Brooklyn Superbas: 0.366<br>New York Giants: 0...  \n",
       "2     Brooklyn Superbas: 0.315<br>New York Giants: 0...  \n",
       "3     Brooklyn Superbas: 0.434<br>New York Giants: 0...  \n",
       "4     Brooklyn Superbas: 0.439<br>New York Giants: 0...  \n",
       "...                                                 ...  \n",
       "1034  Philadelphia Eagles: 0.281<br>Philadelphia Phi...  \n",
       "1035  Pittsburgh Steelers: 0.75<br>Pittsburgh Pirate...  \n",
       "1036  San Francisco 49ers: 0.375<br>San Francisco Gi...  \n",
       "1037  Tampa Bay Buccaneers: 0.688<br>Tampa Bay Rays:...  \n",
       "1038  Tennessee Titans: 0.438<br>Tennessee Titans: 0...  \n",
       "\n",
       "[1039 rows x 4 columns]"
      ]
     },
     "execution_count": 103,
     "metadata": {},
     "output_type": "execute_result"
    }
   ],
   "source": [
    "temp = df.groupby([\"year\", \"area\"]).win_pct.mean()[teams_3].reset_index()\n",
    "temp = temp.set_index([\"year\", \"area\"])\n",
    "temp['teams'] = teams\n",
    "temp = temp.reset_index()\n",
    "temp\n",
    "#temp[temp.year > 1950].sort_values(\"win_pct\").head(30)"
   ]
  },
  {
   "cell_type": "code",
   "execution_count": 104,
   "metadata": {},
   "outputs": [
    {
     "data": {
      "application/vnd.plotly.v1+json": {
       "config": {
        "plotlyServerURL": "https://plot.ly"
       },
       "data": [
        {
         "hovertemplate": "<br><b>Year</b>: %{x}<br><b>Winning Pct.</b>: %{y:.2f}<br>%{text}<extra></extra>",
         "mode": "markers",
         "text": [
          "Brooklyn Superbas: 0.514<br>New York Giants: 0.604<br>New York Highlanders: 0.537<br>",
          "Brooklyn Superbas: 0.366<br>New York Giants: 0.692<br>New York Highlanders: 0.609<br>",
          "Brooklyn Superbas: 0.315<br>New York Giants: 0.686<br>New York Highlanders: 0.476<br>",
          "Brooklyn Superbas: 0.434<br>New York Giants: 0.631<br>New York Highlanders: 0.596<br>",
          "Brooklyn Superbas: 0.439<br>New York Giants: 0.535<br>New York Highlanders: 0.472<br>",
          "Brooklyn Superbas: 0.344<br>New York Giants: 0.636<br>New York Highlanders: 0.331<br>",
          "Brooklyn Superbas: 0.359<br>New York Giants: 0.601<br>New York Highlanders: 0.490<br>",
          "Brooklyn Superbas: 0.415<br>New York Giants: 0.590<br>New York Highlanders: 0.582<br>",
          "Brooklyn Dodgers: 0.426<br>New York Giants: 0.647<br>New York Highlanders: 0.5<br>",
          "Brooklyn Dodgers: 0.379<br>New York Giants: 0.682<br>New York Highlanders: 0.328<br>",
          "Brooklyn Superbas: 0.436<br>New York Giants: 0.664<br>New York Yankees: 0.377<br>",
          "Brooklyn Robins: 0.487<br>New York Giants: 0.545<br>New York Yankees: 0.454<br>",
          "Brooklyn Robins: 0.526<br>New York Giants: 0.453<br>New York Yankees: 0.453<br>",
          "Brooklyn Robins: 0.610<br>New York Giants: 0.565<br>New York Yankees: 0.519<br>",
          "Brooklyn Robins: 0.463<br>New York Giants: 0.636<br>New York Yankees: 0.464<br>",
          "Brooklyn Robins: 0.452<br>New York Giants: 0.572<br>New York Yankees: 0.487<br>",
          "Brooklyn Robins: 0.492<br>New York Giants: 0.621<br>New York Yankees: 0.575<br>",
          "Brooklyn Robins: 0.603<br>New York Giants: 0.558<br>New York Yankees: 0.616<br>",
          "Brooklyn Robins: 0.506<br>New York Giants: 0.614<br>New York Yankees: 0.640<br>",
          "Evansville Crimson Giants: 0.0<br>Rock Island Independents: 0.667<br>Kenosha Maroons: 0.714<br>Chicago Bears: 0.75<br>Chicago White Sox: 0.5<br>Chicago Cubs: 0.519<br>",
          "Rochester Jeffersons: 0.0<br>Brooklyn Robins: 0.493<br>New York Giants: 0.603<br>New York Yankees: 0.610<br>",
          "Columbus Tigers: 0.0<br>Hammond Pros: 0.0<br>Akron Indians: 0.375<br>Oorang Indians: 0.333<br>Canton Bulldogs: 1.0<br>",
          "Rock Island Independents: 0.4<br>Kenosha Maroons: 0.5<br>Chicago Bears: 0.818<br>Chicago White Sox: 0.448<br>Chicago Cubs: 0.538<br>",
          "Rochester Jeffersons: 0.0<br>Newark Tornadoes: 0.571<br>Brooklyn Robins: 0.493<br>New York Giants: 0.620<br>New York Yankees: 0.644<br>",
          "Akron Indians: 0.143<br>Hammond Pros: 0.167<br>Oorang Indians: 0.091<br>Columbus Tigers: 0.556<br>Canton Bulldogs: 1.0<br>",
          "St. Louis All-Stars: 0.2<br>St. Louis Browns: 0.486<br>St. Louis Cardinals: 0.516<br>",
          "Kenosha Maroons: 0.0<br>Rock Island Independents: 0.714<br>Chicago Bears: 0.857<br>Chicago White Sox: 0.431<br>Chicago Cubs: 0.529<br>",
          "Rochester Jeffersons: 0.0<br>Newark Tornadoes: 0.833<br>Brooklyn Robins: 0.597<br>New York Giants: 0.607<br>New York Yankees: 0.585<br>",
          "Akron Indians: 0.25<br>Hammond Pros: 0.5<br>Columbus Tigers: 0.5<br>Frankford Yellow Jackets: 0.846<br>",
          "Boston Bulldogs: 0.833<br>Boston Red Sox: 0.309<br>Boston Braves: 0.457<br>",
          "Rock Island Independents: 0.625<br>Chicago Bears: 0.818<br>Chicago White Sox: 0.512<br>Chicago Cubs: 0.441<br>",
          "Newark Tornadoes: 0.0<br>Rochester Jeffersons: 0.0<br>New York Giants: 0.636<br>New York Giants: 0.565<br>New York Yankees: 0.448<br>Brooklyn Robins: 0.444<br>",
          "Columbus Tigers: 0.0<br>Hammond Pros: 0.25<br>Akron Indians: 0.667<br>Canton Bulldogs: 0.5<br>Frankford Yellow Jackets: 0.647<br>",
          "Boston Bulldogs: 0.909<br>Boston Red Sox: 0.300<br>Boston Braves: 0.434<br>",
          "Chicago Bears: 1.0<br>Chicago White Sox: 0.529<br>Chicago Cubs: 0.532<br>",
          "Staten Island Stapletons: 0.3<br>Newark Tornadoes: 0.6<br>New York Giants: 0.636<br>New York Giants: 0.490<br>New York Yankees: 0.590<br>Brooklyn Robins: 0.464<br>",
          "Hammond Pros: 0.0<br>Akron Indians: 0.2<br>Canton Bulldogs: 0.111<br>Columbus Tigers: 0.143<br>Frankford Yellow Jackets: 0.923<br>",
          "Boston Bulldogs: 0.417<br>Boston Red Sox: 0.331<br>Boston Braves: 0.389<br>",
          "Chicago Bears: 0.778<br>Chicago White Sox: 0.457<br>Chicago Cubs: 0.555<br>",
          "Newark Tornadoes: 0.167<br>Staten Island Stapletons: 0.636<br>New York Giants: 0.889<br>New York Giants: 0.597<br>New York Yankees: 0.714<br>Brooklyn Robins: 0.424<br>",
          "Boston Bulldogs: 0.2<br>Boston Red Sox: 0.372<br>Boston Braves: 0.326<br>",
          "Chicago Bears: 0.583<br>Chicago White Sox: 0.467<br>Chicago Cubs: 0.590<br>",
          "New York Giants: 0.364<br>New York Giants: 0.603<br>New York Yankees: 0.655<br>Staten Island Stapletons: 0.333<br>Brooklyn Robins: 0.503<br>",
          "Boston Bulldogs: 0.5<br>Boston Red Sox: 0.376<br>Boston Braves: 0.363<br>",
          "Chicago Bears: 0.4<br>Chicago White Sox: 0.388<br>Chicago Cubs: 0.644<br>",
          "Newark Tornadoes: 0.4<br>Staten Island Stapletons: 0.6<br>New York Giants: 0.889<br>New York Giants: 0.556<br>New York Yankees: 0.571<br>Brooklyn Robins: 0.457<br>",
          "Chicago Bears: 0.556<br>Chicago White Sox: 0.402<br>Chicago Cubs: 0.584<br>",
          "Newark Tornadoes: 0.091<br>Staten Island Stapletons: 0.429<br>New York Yankees: 0.714<br>New York Giants: 0.833<br>New York Giants: 0.564<br>New York Yankees: 0.558<br>Brooklyn Robins: 0.558<br>",
          "Chicago Bears: 0.667<br>Chicago White Sox: 0.366<br>Chicago Cubs: 0.545<br>",
          "New York Yankees: 0.143<br>New York Giants: 0.5<br>New York Giants: 0.572<br>New York Yankees: 0.614<br>Staten Island Stapletons: 0.4<br>Brooklyn Robins: 0.519<br>",
          "Chicago Bears: 0.875<br>Chicago White Sox: 0.324<br>Chicago Cubs: 0.584<br>",
          "Staten Island Stapletons: 0.222<br>New York Yankees: 0.25<br>New York Giants: 0.4<br>New York Giants: 0.467<br>New York Yankees: 0.694<br>Brooklyn Dodgers: 0.525<br>",
          "Chicago Bears: 0.833<br>Chicago White Sox: 0.446<br>Chicago Cubs: 0.558<br>",
          "New York Yankees: 0.556<br>New York Giants: 0.786<br>New York Giants: 0.598<br>New York Yankees: 0.606<br>Brooklyn Dodgers: 0.424<br>",
          "Philadelphia Eagles: 0.375<br>Philadelphia Athletics: 0.523<br>Philadelphia Phillies: 0.394<br>",
          "Chicago Bears: 1.0<br>Chicago White Sox: 0.348<br>Chicago Cubs: 0.569<br>",
          "New York Yankees: 0.364<br>New York Giants: 0.615<br>New York Giants: 0.607<br>New York Yankees: 0.610<br>Brooklyn Dodgers: 0.467<br>",
          "Philadelphia Eagles: 0.364<br>Philadelphia Athletics: 0.453<br>Philadelphia Phillies: 0.375<br>",
          "St. Louis Gunners: 0.333<br>St. Louis Browns: 0.440<br>St. Louis Cardinals: 0.620<br>",
          "Chicago Bears: 0.6<br>Chicago White Sox: 0.486<br>Chicago Cubs: 0.649<br>",
          "New York Yankees: 0.455<br>New York Giants: 0.75<br>New York Giants: 0.594<br>New York Yankees: 0.597<br>Brooklyn Dodgers: 0.457<br>",
          "Philadelphia Eagles: 0.182<br>Philadelphia Athletics: 0.389<br>Philadelphia Phillies: 0.418<br>",
          "Chicago Bears: 0.75<br>Chicago White Sox: 0.536<br>Chicago Cubs: 0.564<br>",
          "New York Yankees: 0.273<br>New York Giants: 0.455<br>New York Giants: 0.597<br>New York Yankees: 0.666<br>Brooklyn Dodgers: 0.435<br>",
          "Philadelphia Eagles: 0.083<br>Philadelphia Athletics: 0.346<br>Philadelphia Phillies: 0.350<br>",
          "Chicago Bears: 0.9<br>Chicago White Sox: 0.558<br>Chicago Cubs: 0.603<br>",
          "New York Yankees: 0.3<br>New York Giants: 0.667<br>New York Giants: 0.625<br>New York Yankees: 0.662<br>Brooklyn Dodgers: 0.405<br>",
          "Philadelphia Eagles: 0.2<br>Philadelphia Athletics: 0.357<br>Philadelphia Phillies: 0.398<br>",
          "Chicago Bears: 0.545<br>Chicago White Sox: 0.439<br>Chicago Cubs: 0.585<br>",
          "New York Yankees: 0.5<br>New York Giants: 0.8<br>New York Giants: 0.553<br>New York Yankees: 0.651<br>Brooklyn Dodgers: 0.463<br>",
          "Philadelphia Eagles: 0.455<br>Philadelphia Athletics: 0.348<br>Philadelphia Phillies: 0.3<br>",
          "Chicago Bears: 0.727<br>Chicago White Sox: 0.551<br>Chicago Cubs: 0.545<br>",
          "New York Yankees: 0.4<br>New York Giants: 0.9<br>New York Giants: 0.509<br>New York Yankees: 0.701<br>Brooklyn Dodgers: 0.549<br>",
          "Philadelphia Eagles: 0.1<br>Philadelphia Athletics: 0.361<br>Philadelphia Phillies: 0.298<br>",
          "Chicago Bears: 0.727<br>Chicago White Sox: 0.532<br>Chicago Cubs: 0.487<br>",
          "New York Giants: 0.6<br>New York Yankees: 0.727<br>New York Giants: 0.473<br>New York Yankees: 0.571<br>Brooklyn Dodgers: 0.575<br>",
          "Philadelphia Eagles: 0.091<br>Philadelphia Athletics: 0.350<br>Philadelphia Phillies: 0.326<br>",
          "Chicago Bears: 0.909<br>Chicago White Sox: 0.5<br>Chicago Cubs: 0.454<br>",
          "New York Yankees: 0.636<br>New York Giants: 0.727<br>New York Giants: 0.483<br>New York Yankees: 0.655<br>Brooklyn Dodgers: 0.649<br>",
          "Philadelphia Eagles: 0.2<br>Philadelphia Athletics: 0.415<br>Philadelphia Phillies: 0.279<br>",
          "Chicago Bears: 1.0<br>Chicago White Sox: 0.445<br>Chicago Cubs: 0.441<br>",
          "New York Yankees: 0.273<br>New York Giants: 0.5<br>New York Giants: 0.559<br>New York Yankees: 0.668<br>Brooklyn Dodgers: 0.675<br>",
          "Philadelphia Eagles: 0.182<br>Philadelphia Athletics: 0.357<br>Philadelphia Phillies: 0.278<br>",
          "Chicago Bears: 0.889<br>Chicago White Sox: 0.532<br>Chicago Cubs: 0.483<br>",
          "New York Yankees: 0.2<br>New York Giants: 0.667<br>New York Giants: 0.359<br>New York Yankees: 0.636<br>Brooklyn Dodgers: 0.529<br>",
          "Phil-Pitt Combine: 0.556<br>Philadelphia Athletics: 0.318<br>Philadelphia Blue Jays: 0.415<br>",
          "Chicago Bears: 0.667<br>Chicago White Sox: 0.461<br>Chicago Cubs: 0.487<br>",
          "New York Yankees: 0.0<br>New York Giants: 0.889<br>New York Giants: 0.435<br>New York Yankees: 0.538<br>Brooklyn Dodgers: 0.409<br>",
          "Philadelphia Eagles: 0.875<br>Philadelphia Athletics: 0.467<br>Philadelphia Blue Jays: 0.398<br>",
          "Chicago Bears: 0.3<br>Chicago White Sox: 0.476<br>Chicago Cubs: 0.636<br>",
          "New York Giants: 0.333<br>New York Giants: 0.513<br>New York Yankees: 0.532<br>Brooklyn Dodgers: 0.564<br>",
          "Philadelphia Eagles: 0.7<br>Philadelphia Athletics: 0.346<br>Philadelphia Phillies: 0.298<br>",
          "Boston Red Sox: 0.675<br>Boston Braves: 0.529<br>Boston Celtics: 0.367<br>",
          "Chicago Hornets: 0.0<br>Chicago Bears: 0.8<br>Chicago White Sox: 0.480<br>Chicago Cubs: 0.535<br>",
          "Brooklyn Dodgers: 0.0<br>Brooklyn Dodgers: 0.615<br>New York Yankees: 0.0<br>New York Giants: 0.7<br>New York Giants: 0.396<br>New York Yankees: 0.564<br>New York Knicks: 0.55<br>",
          "Philadelphia Eagles: 0.545<br>Philadelphia Athletics: 0.318<br>Philadelphia Phillies: 0.448<br>",
          "Boston Red Sox: 0.538<br>Boston Braves: 0.558<br>Boston Celtics: 0.417<br>",
          "Chicago Hornets: 0.0<br>Chicago Bears: 0.667<br>Chicago White Sox: 0.454<br>Chicago Cubs: 0.448<br>",
          "Brooklyn Dodgers: 0.0<br>Brooklyn Dodgers: 0.610<br>New York Yankees: 0.0<br>New York Giants: 0.2<br>New York Giants: 0.525<br>New York Yankees: 0.629<br>New York Knicks: 0.542<br>",
          "Philadelphia Eagles: 0.667<br>Philadelphia Athletics: 0.506<br>Philadelphia Phillies: 0.402<br>",
          "Boston Red Sox: 0.619<br>Boston Braves: 0.594<br>Boston Celtics: 0.417<br>",
          "Chicago Hornets: 0.0<br>Chicago Bears: 0.833<br>Chicago White Sox: 0.335<br>Chicago Cubs: 0.415<br>",
          "Detroit Lions: 0.167<br>Detroit Tigers: 0.506<br>Detroit Pistons: 0.367<br>",
          "Los Angeles Dons: 0.0<br>Los Angeles Rams: 0.545<br>Los Angeles Lakers: 0.733<br>",
          "Brooklyn Dodgers: 0.0<br>Brooklyn Dodgers: 0.545<br>New York Yankees: 0.0<br>New York Giants: 0.333<br>New York Giants: 0.506<br>New York Yankees: 0.610<br>New York Knicks: 0.533<br>",
          "Philadelphia Eagles: 0.818<br>Philadelphia Athletics: 0.545<br>Philadelphia Phillies: 0.428<br>",
          "Boston Red Sox: 0.623<br>Boston Braves: 0.487<br>Boston Celtics: 0.324<br>",
          "Chicago Hornets: 0.0<br>Chicago Bears: 0.75<br>Chicago White Sox: 0.409<br>Chicago Cubs: 0.396<br>",
          "Detroit Lions: 0.333<br>Detroit Tigers: 0.564<br>Detroit Pistons: 0.588<br>",
          "Los Angeles Dons: 0.0<br>Los Angeles Rams: 0.8<br>Los Angeles Lakers: 0.75<br>",
          "New York Yankees: 0.0<br>New York Giants: 0.5<br>New York Giants: 0.474<br>New York Yankees: 0.629<br>New York Knicks: 0.588<br>Brooklyn Dodgers: 0.629<br>Syracuse Nationals: 0.797<br>",
          "Philadelphia Eagles: 0.917<br>Philadelphia Athletics: 0.525<br>Philadelphia Phillies: 0.525<br>",
          "Boston Red Sox: 0.610<br>Boston Braves: 0.538<br>Boston Celtics: 0.565<br>Boston Bruins: 0.314<br>",
          "Chicago Bears: 0.75<br>Chicago White Sox: 0.389<br>Chicago Cubs: 0.418<br>Chicago Blackhawks: 0.314<br>",
          "Detroit Lions: 0.5<br>Detroit Tigers: 0.616<br>Detroit Pistons: 0.471<br>Detroit Red Wings: 0.528<br>",
          "New York Giants: 0.833<br>New York Giants: 0.558<br>New York Yankees: 0.636<br>New York Knicks: 0.545<br>New York Rangers: 0.4<br>Brooklyn Dodgers: 0.577<br>Syracuse Nationals: 0.485<br>",
          "Philadelphia Eagles: 0.5<br>Philadelphia Athletics: 0.337<br>Philadelphia Phillies: 0.590<br>",
          "Boston Red Sox: 0.564<br>Boston Braves: 0.493<br>Boston Celtics: 0.591<br>Boston Bruins: 0.314<br>",
          "Chicago Bears: 0.583<br>Chicago White Sox: 0.525<br>Chicago Cubs: 0.402<br>Chicago Blackhawks: 0.185<br>",
          "Detroit Lions: 0.636<br>Detroit Tigers: 0.474<br>Detroit Pistons: 0.439<br>Detroit Red Wings: 0.628<br>",
          "New York Giants: 0.818<br>New York Giants: 0.624<br>New York Yankees: 0.636<br>New York Knicks: 0.561<br>New York Rangers: 0.285<br>Brooklyn Dodgers: 0.617<br>Syracuse Nationals: 0.606<br>",
          "Philadelphia Eagles: 0.333<br>Philadelphia Athletics: 0.454<br>Philadelphia Phillies: 0.474<br>",
          "Boston Red Sox: 0.493<br>Boston Braves: 0.418<br>Boston Celtics: 0.648<br>Boston Bruins: 0.357<br>",
          "Chicago Bears: 0.417<br>Chicago White Sox: 0.525<br>Chicago Cubs: 0.5<br>Chicago Blackhawks: 0.242<br>",
          "Detroit Lions: 0.75<br>Detroit Tigers: 0.324<br>Detroit Pistons: 0.522<br>Detroit Red Wings: 0.628<br>",
          "New York Giants: 0.583<br>New York Giants: 0.597<br>New York Yankees: 0.616<br>New York Knicks: 0.671<br>New York Rangers: 0.328<br>Brooklyn Dodgers: 0.627<br>Syracuse Nationals: 0.662<br>",
          "Philadelphia Eagles: 0.583<br>Philadelphia Athletics: 0.512<br>Philadelphia Phillies: 0.564<br>",
          "Boston Red Sox: 0.549<br>Boston Celtics: 0.583<br>Boston Bruins: 0.4<br>",
          "Chicago Bears: 0.273<br>Chicago White Sox: 0.577<br>Chicago Cubs: 0.422<br>Chicago Blackhawks: 0.385<br>",
          "Detroit Lions: 0.833<br>Detroit Tigers: 0.389<br>Detroit Pistons: 0.556<br>Detroit Red Wings: 0.514<br>",
          "New York Giants: 0.25<br>New York Giants: 0.454<br>New York Yankees: 0.655<br>New York Knicks: 0.611<br>New York Rangers: 0.242<br>Brooklyn Dodgers: 0.681<br>Syracuse Nationals: 0.583<br>",
          "Philadelphia Eagles: 0.636<br>Philadelphia Athletics: 0.383<br>Philadelphia Phillies: 0.538<br>",
          "Boston Red Sox: 0.448<br>Boston Celtics: 0.5<br>Boston Bruins: 0.457<br>",
          "Chicago Bears: 0.667<br>Chicago White Sox: 0.610<br>Chicago Cubs: 0.415<br>Chicago Blackhawks: 0.171<br>",
          "Detroit Lions: 0.818<br>Detroit Tigers: 0.441<br>Detroit Pistons: 0.597<br>Detroit Red Wings: 0.528<br>",
          "New York Giants: 0.583<br>New York Giants: 0.629<br>New York Yankees: 0.668<br>New York Knicks: 0.528<br>New York Rangers: 0.414<br>Brooklyn Dodgers: 0.597<br>Syracuse Nationals: 0.597<br>",
          "Philadelphia Eagles: 0.636<br>Philadelphia Athletics: 0.331<br>Philadelphia Phillies: 0.487<br>",
          "Boston Red Sox: 0.545<br>Boston Celtics: 0.542<br>Boston Bruins: 0.328<br>",
          "Chicago Bears: 0.667<br>Chicago White Sox: 0.590<br>Chicago Cubs: 0.470<br>Chicago Blackhawks: 0.185<br>",
          "Detroit Lions: 0.25<br>Detroit Tigers: 0.512<br>Detroit Pistons: 0.514<br>Detroit Red Wings: 0.6<br>",
          "New York Giants: 0.545<br>New York Giants: 0.519<br>New York Yankees: 0.623<br>New York Knicks: 0.486<br>New York Rangers: 0.242<br>Brooklyn Dodgers: 0.640<br>Syracuse Nationals: 0.486<br>",
          "Boston Red Sox: 0.545<br>Boston Celtics: 0.611<br>Boston Bruins: 0.328<br>",
          "Chicago Bears: 0.818<br>Chicago White Sox: 0.551<br>Chicago Cubs: 0.389<br>Chicago Blackhawks: 0.271<br>",
          "Detroit Lions: 0.75<br>Detroit Tigers: 0.532<br>Detroit Pistons: 0.472<br>Detroit Red Wings: 0.428<br>",
          "New York Giants: 0.727<br>New York Giants: 0.435<br>New York Yankees: 0.629<br>New York Knicks: 0.5<br>New York Rangers: 0.457<br>Brooklyn Dodgers: 0.603<br>Syracuse Nationals: 0.528<br>",
          "Boston Red Sox: 0.532<br>Boston Celtics: 0.681<br>Boston Bruins: 0.485<br>",
          "Chicago Bears: 0.417<br>Chicago White Sox: 0.584<br>Chicago Cubs: 0.402<br>Chicago Blackhawks: 0.228<br>",
          "Detroit Lions: 0.667<br>Detroit Tigers: 0.506<br>Detroit Pistons: 0.458<br>Detroit Red Wings: 0.542<br>",
          "New York Giants: 0.583<br>New York Giants: 0.448<br>New York Yankees: 0.636<br>New York Knicks: 0.486<br>New York Rangers: 0.371<br>Brooklyn Dodgers: 0.545<br>Syracuse Nationals: 0.569<br>",
          "Boston Red Sox: 0.512<br>Boston Celtics: 0.722<br>Boston Bruins: 0.385<br>",
          "Chicago Bears: 0.667<br>Chicago White Sox: 0.532<br>Chicago Cubs: 0.467<br>Chicago Blackhawks: 0.342<br>",
          "Detroit Lions: 0.364<br>Detroit Tigers: 0.5<br>Detroit Pistons: 0.389<br>Detroit Red Wings: 0.414<br>",
          "Los Angeles Rams: 0.667<br>Los Angeles Dodgers: 0.461<br>Los Angeles Lakers: 0.458<br>",
          "New York Giants: 0.75<br>New York Yankees: 0.597<br>New York Knicks: 0.556<br>New York Rangers: 0.457<br>Syracuse Nationals: 0.486<br>",
          "Boston Red Sox: 0.487<br>Boston Celtics: 0.787<br>Boston Bruins: 0.457<br>",
          "Chicago Bears: 0.667<br>Chicago White Sox: 0.610<br>Chicago Cubs: 0.480<br>Chicago Blackhawks: 0.4<br>",
          "Detroit Lions: 0.273<br>Detroit Tigers: 0.493<br>Detroit Pistons: 0.4<br>Detroit Red Wings: 0.357<br>",
          "Los Angeles Rams: 0.167<br>Los Angeles Dodgers: 0.564<br>Los Angeles Lakers: 0.333<br>",
          "New York Giants: 0.833<br>New York Yankees: 0.512<br>New York Knicks: 0.36<br>New York Rangers: 0.371<br>Syracuse Nationals: 0.6<br>",
          "New England Patriots: 0.357<br>Boston Red Sox: 0.422<br>Boston Celtics: 0.722<br>Boston Bruins: 0.4<br>",
          "Chicago Bears: 0.455<br>Chicago White Sox: 0.564<br>Chicago Cubs: 0.389<br>Chicago Blackhawks: 0.4<br>",
          "Detroit Lions: 0.583<br>Detroit Tigers: 0.461<br>Detroit Pistons: 0.43<br>Detroit Red Wings: 0.371<br>",
          "Los Angeles Rams: 0.364<br>Los Angeles Chargers: 0.714<br>Los Angeles Dodgers: 0.532<br>Los Angeles Lakers: 0.456<br>",
          "New York Giants: 0.6<br>New York Yankees: 0.629<br>New York Knicks: 0.266<br>New York Rangers: 0.242<br>Syracuse Nationals: 0.481<br>",
          "Tennessee Titans: 0.5<br>Tennessee Titans: 0.571<br>Tennessee Titans: 0.714<br>",
          "New England Patriots: 0.692<br>Boston Red Sox: 0.469<br>Boston Celtics: 0.75<br>Boston Bruins: 0.214<br>",
          "Chicago Bears: 0.571<br>Chicago White Sox: 0.530<br>Chicago Cubs: 0.415<br>Chicago Packers: 0.225<br>Chicago Blackhawks: 0.414<br>",
          "Detroit Lions: 0.615<br>Detroit Tigers: 0.623<br>Detroit Pistons: 0.463<br>Detroit Red Wings: 0.357<br>",
          "Los Angeles Rams: 0.286<br>Los Angeles Chargers: 0.857<br>Los Angeles Angels: 0.434<br>Los Angeles Dodgers: 0.577<br>Los Angeles Lakers: 0.675<br>",
          "New York Giants: 0.769<br>New York Yankees: 0.672<br>New York Knicks: 0.363<br>New York Rangers: 0.314<br>Syracuse Nationals: 0.513<br>",
          "Tennessee Titans: 0.429<br>Tennessee Titans: 0.5<br>Tennessee Titans: 0.769<br>",
          "New England Patriots: 0.692<br>Boston Red Sox: 0.475<br>Boston Celtics: 0.725<br>Boston Bruins: 0.214<br>",
          "Chicago Bears: 0.643<br>Chicago White Sox: 0.524<br>Chicago Cubs: 0.364<br>Chicago Zephyrs: 0.313<br>Chicago Blackhawks: 0.442<br>",
          "Detroit Lions: 0.786<br>Detroit Tigers: 0.527<br>Detroit Pistons: 0.425<br>Detroit Red Wings: 0.328<br>",
          "Los Angeles Rams: 0.077<br>Los Angeles Chargers: 0.286<br>Los Angeles Angels: 0.530<br>Los Angeles Dodgers: 0.618<br>Los Angeles Lakers: 0.663<br>",
          "New York Giants: 0.857<br>New York Yankees: 0.592<br>New York Mets: 0.25<br>New York Knicks: 0.263<br>New York Rangers: 0.371<br>Syracuse Nationals: 0.6<br>",
          "Tennessee Titans: 0.357<br>Tennessee Titans: 0.786<br>Tennessee Titans: 0.786<br>",
          "New England Patriots: 0.538<br>Boston Red Sox: 0.472<br>Boston Celtics: 0.738<br>Boston Bruins: 0.2<br>",
          "Chicago Bears: 0.917<br>Chicago White Sox: 0.580<br>Chicago Cubs: 0.506<br>Chicago Blackhawks: 0.457<br>",
          "Detroit Lions: 0.385<br>Detroit Tigers: 0.487<br>Detroit Pistons: 0.288<br>Detroit Red Wings: 0.457<br>",
          "Los Angeles Rams: 0.357<br>Los Angeles Chargers: 0.786<br>Los Angeles Angels: 0.434<br>Los Angeles Dodgers: 0.611<br>Los Angeles Lakers: 0.525<br>",
          "New York Jets: 0.385<br>New York Giants: 0.786<br>New York Yankees: 0.645<br>New York Mets: 0.314<br>New York Knicks: 0.275<br>New York Rangers: 0.314<br>",
          "Philadelphia Eagles: 0.167<br>Philadelphia Phillies: 0.537<br>Philadelphia 76ers: 0.425<br>",
          "Washington Commanders: 0.214<br>Washington Senators: 0.345<br>Washington Bullets: 0.388<br>",
          "New England Patriots: 0.769<br>Boston Red Sox: 0.444<br>Boston Celtics: 0.775<br>Boston Bruins: 0.257<br>",
          "Chicago Bears: 0.357<br>Chicago White Sox: 0.604<br>Chicago Cubs: 0.469<br>Chicago Blackhawks: 0.514<br>",
          "Detroit Lions: 0.583<br>Detroit Tigers: 0.524<br>Detroit Pistons: 0.388<br>Detroit Red Wings: 0.428<br>",
          "Los Angeles Rams: 0.417<br>Los Angeles Chargers: 0.615<br>Los Angeles Angels: 0.506<br>Los Angeles Dodgers: 0.493<br>Los Angeles Lakers: 0.613<br>",
          "New York Giants: 0.167<br>New York Jets: 0.385<br>New York Yankees: 0.611<br>New York Mets: 0.327<br>New York Knicks: 0.388<br>New York Rangers: 0.314<br>",
          "Philadelphia Eagles: 0.429<br>Philadelphia Phillies: 0.567<br>Philadelphia 76ers: 0.5<br>",
          "Washington Commanders: 0.429<br>Washington Senators: 0.382<br>Washington Bullets: 0.463<br>",
          "New England Patriots: 0.333<br>Boston Red Sox: 0.382<br>Boston Celtics: 0.675<br>Boston Bruins: 0.3<br>",
          "Chicago Bears: 0.643<br>Chicago White Sox: 0.586<br>Chicago Cubs: 0.444<br>Chicago Blackhawks: 0.485<br>",
          "Detroit Lions: 0.462<br>Detroit Tigers: 0.549<br>Detroit Pistons: 0.275<br>Detroit Red Wings: 0.571<br>",
          "Los Angeles Rams: 0.286<br>Los Angeles Chargers: 0.818<br>Los Angeles Dodgers: 0.598<br>Los Angeles Lakers: 0.563<br>",
          "New York Jets: 0.385<br>New York Giants: 0.5<br>New York Yankees: 0.475<br>New York Mets: 0.308<br>New York Knicks: 0.375<br>New York Rangers: 0.285<br>",
          "Philadelphia Eagles: 0.357<br>Philadelphia Phillies: 0.527<br>Philadelphia 76ers: 0.688<br>",
          "Washington Commanders: 0.429<br>Washington Senators: 0.432<br>Washington Bullets: 0.475<br>",
          "Atlanta Falcons: 0.214<br>Atlanta Braves: 0.524<br>Atlanta Hawks: 0.481<br>",
          "New England Patriots: 0.667<br>Boston Red Sox: 0.444<br>Boston Celtics: 0.741<br>Boston Bruins: 0.3<br>",
          "Chicago Bears: 0.417<br>Chicago White Sox: 0.512<br>Chicago Cubs: 0.364<br>Chicago Bulls: 0.407<br>Chicago Blackhawks: 0.528<br>",
          "Detroit Lions: 0.308<br>Detroit Tigers: 0.543<br>Detroit Pistons: 0.37<br>Detroit Red Wings: 0.442<br>",
          "Los Angeles Chargers: 0.538<br>Los Angeles Rams: 0.571<br>Los Angeles Dodgers: 0.586<br>Los Angeles Lakers: 0.444<br>",
          "New York Giants: 0.077<br>New York Jets: 0.5<br>New York Yankees: 0.440<br>New York Mets: 0.409<br>New York Knicks: 0.444<br>New York Rangers: 0.257<br>",
          "Philadelphia Eagles: 0.643<br>Philadelphia Phillies: 0.537<br>Philadelphia 76ers: 0.84<br>",
          "Washington Commanders: 0.5<br>Washington Senators: 0.446<br>Washington Bullets: 0.247<br>",
          "Atlanta Falcons: 0.077<br>Atlanta Braves: 0.475<br>Atlanta Hawks: 0.683<br>",
          "New England Patriots: 0.231<br>Boston Red Sox: 0.567<br>Boston Celtics: 0.659<br>Boston Bruins: 0.242<br>",
          "Chicago Bears: 0.538<br>Chicago White Sox: 0.549<br>Chicago Cubs: 0.540<br>Chicago Bulls: 0.354<br>Chicago Blackhawks: 0.585<br>",
          "Detroit Lions: 0.417<br>Detroit Tigers: 0.561<br>Detroit Pistons: 0.488<br>Detroit Red Wings: 0.385<br>",
          "Los Angeles Chargers: 0.615<br>Los Angeles Rams: 0.917<br>Los Angeles Dodgers: 0.450<br>Los Angeles Lakers: 0.634<br>",
          "New York Giants: 0.5<br>New York Jets: 0.615<br>New York Yankees: 0.444<br>New York Mets: 0.376<br>New York Knicks: 0.524<br>New York Rangers: 0.428<br>",
          "Philadelphia Eagles: 0.462<br>Philadelphia Phillies: 0.506<br>Philadelphia 76ers: 0.756<br>",
          "Washington Commanders: 0.455<br>Washington Senators: 0.472<br>Washington Bullets: 0.439<br>",
          "Atlanta Falcons: 0.143<br>Atlanta Braves: 0.5<br>Atlanta Hawks: 0.585<br>",
          "New England Patriots: 0.286<br>Boston Red Sox: 0.530<br>Boston Celtics: 0.585<br>Boston Bruins: 0.5<br>",
          "Chicago Bears: 0.5<br>Chicago White Sox: 0.413<br>Chicago Cubs: 0.518<br>Chicago Bulls: 0.402<br>Chicago Blackhawks: 0.432<br>",
          "Detroit Lions: 0.333<br>Detroit Tigers: 0.635<br>Detroit Pistons: 0.39<br>Detroit Red Wings: 0.364<br>",
          "Los Angeles Chargers: 0.643<br>Los Angeles Rams: 0.769<br>Los Angeles Dodgers: 0.469<br>Los Angeles Lakers: 0.671<br>Los Angeles Kings: 0.418<br>",
          "Minnesota Vikings: 0.571<br>Minnesota Twins: 0.487<br>Minnesota North Stars: 0.364<br>",
          "New York Giants: 0.5<br>New York Jets: 0.786<br>New York Yankees: 0.512<br>New York Mets: 0.450<br>New York Knicks: 0.659<br>New York Rangers: 0.527<br>",
          "Philadelphia Eagles: 0.143<br>Philadelphia Phillies: 0.469<br>Philadelphia 76ers: 0.671<br>Philadelphia Flyers: 0.418<br>",
          "Pittsburgh Steelers: 0.154<br>Pittsburgh Pirates: 0.493<br>Pittsburgh Penguins: 0.364<br>",
          "San Francisco 49ers: 0.538<br>San Francisco Giants: 0.543<br>Oakland Athletics: 0.506<br>Oakland Seals: 0.202<br>",
          "Washington Commanders: 0.357<br>Washington Senators: 0.403<br>Washington Bullets: 0.695<br>",
          "Atlanta Falcons: 0.429<br>Atlanta Braves: 0.574<br>Atlanta Hawks: 0.585<br>",
          "New England Patriots: 0.286<br>Boston Red Sox: 0.537<br>Boston Celtics: 0.415<br>Boston Bruins: 0.552<br>",
          "Chicago Bears: 0.071<br>Chicago White Sox: 0.419<br>Chicago Cubs: 0.567<br>Chicago Bulls: 0.476<br>Chicago Blackhawks: 0.447<br>",
          "Detroit Lions: 0.692<br>Detroit Tigers: 0.555<br>Detroit Pistons: 0.378<br>Detroit Red Wings: 0.434<br>",
          "Los Angeles Chargers: 0.571<br>Los Angeles Rams: 0.786<br>Los Angeles Dodgers: 0.524<br>Los Angeles Lakers: 0.561<br>Los Angeles Kings: 0.315<br>",
          "Minnesota Vikings: 0.857<br>Minnesota Twins: 0.598<br>Minnesota North Stars: 0.236<br>",
          "New York Giants: 0.429<br>New York Jets: 0.714<br>New York Yankees: 0.496<br>New York Mets: 0.617<br>New York Knicks: 0.732<br>New York Rangers: 0.539<br>",
          "Philadelphia Eagles: 0.308<br>Philadelphia Phillies: 0.388<br>Philadelphia 76ers: 0.512<br>Philadelphia Flyers: 0.263<br>",
          "Pittsburgh Steelers: 0.071<br>Pittsburgh Pirates: 0.543<br>Pittsburgh Penguins: 0.263<br>",
          "San Francisco 49ers: 0.333<br>San Francisco Giants: 0.555<br>Oakland Athletics: 0.543<br>Oakland Seals: 0.381<br>",
          "Washington Commanders: 0.583<br>Washington Senators: 0.530<br>Washington Bullets: 0.61<br>",
          "Atlanta Falcons: 0.333<br>Atlanta Braves: 0.469<br>Atlanta Hawks: 0.439<br>",
          "New England Patriots: 0.143<br>Boston Red Sox: 0.537<br>Boston Celtics: 0.537<br>Boston Bruins: 0.526<br>",
          "Chicago Bears: 0.429<br>Chicago White Sox: 0.345<br>Chicago Cubs: 0.518<br>Chicago Bulls: 0.622<br>Chicago Blackhawks: 0.592<br>",
          "Cleveland Browns: 0.5<br>Cleveland Indians: 0.469<br>Cleveland Cavaliers: 0.183<br>",
          "Detroit Lions: 0.714<br>Detroit Tigers: 0.487<br>Detroit Pistons: 0.549<br>Detroit Red Wings: 0.526<br>",
          "Los Angeles Chargers: 0.455<br>Los Angeles Rams: 0.692<br>Los Angeles Dodgers: 0.540<br>Los Angeles Lakers: 0.585<br>Los Angeles Kings: 0.184<br>",
          "Minnesota Vikings: 0.857<br>Minnesota Twins: 0.604<br>Minnesota North Stars: 0.25<br>",
          "New York Jets: 0.286<br>New York Giants: 0.643<br>New York Yankees: 0.574<br>New York Mets: 0.512<br>New York Knicks: 0.634<br>New York Rangers: 0.5<br>",
          "Philadelphia Eagles: 0.231<br>Philadelphia Phillies: 0.453<br>Philadelphia 76ers: 0.573<br>Philadelphia Flyers: 0.223<br>",
          "Pittsburgh Steelers: 0.357<br>Pittsburgh Pirates: 0.549<br>Pittsburgh Penguins: 0.342<br>",
          "San Francisco 49ers: 0.769<br>San Francisco Giants: 0.530<br>Oakland Athletics: 0.549<br>Oakland Seals: 0.289<br>",
          "Washington Commanders: 0.429<br>Washington Senators: 0.432<br>Washington Bullets: 0.512<br>",
          "Atlanta Falcons: 0.538<br>Atlanta Braves: 0.506<br>Atlanta Hawks: 0.439<br>",
          "New England Patriots: 0.429<br>Boston Red Sox: 0.524<br>Boston Celtics: 0.683<br>Boston Bruins: 0.730<br>",
          "Buffalo Bills: 0.071<br>Buffalo Braves: 0.268<br>Buffalo Sabres: 0.307<br>",
          "Chicago Bears: 0.429<br>Chicago White Sox: 0.487<br>Chicago Cubs: 0.512<br>Chicago Bulls: 0.695<br>Chicago Blackhawks: 0.628<br>",
          "Cleveland Browns: 0.643<br>Cleveland Indians: 0.370<br>Cleveland Cavaliers: 0.28<br>",
          "Detroit Lions: 0.538<br>Detroit Tigers: 0.561<br>Detroit Pistons: 0.317<br>Detroit Red Wings: 0.282<br>",
          "Los Angeles Chargers: 0.429<br>Los Angeles Rams: 0.615<br>Los Angeles Dodgers: 0.549<br>Los Angeles Lakers: 0.841<br>Los Angeles Kings: 0.320<br>",
          "Minnesota Vikings: 0.786<br>Minnesota Twins: 0.462<br>Minnesota North Stars: 0.358<br>",
          "New York Giants: 0.286<br>New York Jets: 0.429<br>New York Yankees: 0.506<br>New York Mets: 0.512<br>New York Knicks: 0.585<br>New York Rangers: 0.628<br>",
          "Philadelphia Eagles: 0.462<br>Philadelphia Phillies: 0.413<br>Philadelphia 76ers: 0.366<br>Philadelphia Flyers: 0.358<br>",
          "Pittsburgh Steelers: 0.429<br>Pittsburgh Pirates: 0.598<br>Pittsburgh Penguins: 0.269<br>",
          "San Francisco 49ers: 0.643<br>San Francisco Giants: 0.555<br>Oakland Athletics: 0.627<br>",
          "Washington Commanders: 0.692<br>Washington Senators: 0.396<br>Washington Bullets: 0.463<br>",
          "Atlanta Falcons: 0.5<br>Atlanta Braves: 0.454<br>Atlanta Hawks: 0.561<br>",
          "New England Patriots: 0.214<br>Boston Red Sox: 0.548<br>Boston Celtics: 0.829<br>Boston Bruins: 0.692<br>",
          "Buffalo Bills: 0.321<br>Buffalo Braves: 0.256<br>Buffalo Sabres: 0.205<br>",
          "Chicago Bears: 0.321<br>Chicago White Sox: 0.564<br>Chicago Cubs: 0.548<br>Chicago Bulls: 0.622<br>Chicago Blackhawks: 0.589<br>",
          "Cleveland Browns: 0.714<br>Cleveland Indians: 0.461<br>Cleveland Cavaliers: 0.39<br>",
          "Detroit Lions: 0.607<br>Detroit Tigers: 0.551<br>Detroit Pistons: 0.488<br>Detroit Red Wings: 0.423<br>",
          "Los Angeles Chargers: 0.321<br>Los Angeles Rams: 0.464<br>Los Angeles Dodgers: 0.548<br>Los Angeles Lakers: 0.732<br>Los Angeles Kings: 0.256<br>",
          "Minnesota Vikings: 0.5<br>Minnesota Twins: 0.5<br>Minnesota North Stars: 0.474<br>",
          "New York Jets: 0.5<br>New York Giants: 0.571<br>New York Yankees: 0.509<br>New York Mets: 0.532<br>New York Knicks: 0.695<br>New York Rangers: 0.615<br>",
          "Philadelphia Eagles: 0.179<br>Philadelphia Phillies: 0.378<br>Philadelphia 76ers: 0.11<br>Philadelphia Flyers: 0.333<br>",
          "Pittsburgh Steelers: 0.786<br>Pittsburgh Pirates: 0.619<br>Pittsburgh Penguins: 0.333<br>",
          "San Francisco 49ers: 0.607<br>San Francisco Giants: 0.445<br>Oakland Athletics: 0.6<br>",
          "Atlanta Falcons: 0.643<br>Atlanta Braves: 0.472<br>Atlanta Hawks: 0.427<br>Atlanta Flames: 0.320<br>",
          "New England Patriots: 0.357<br>Boston Red Sox: 0.549<br>Boston Celtics: 0.683<br>Boston Bruins: 0.653<br>",
          "Buffalo Bills: 0.643<br>Buffalo Braves: 0.512<br>Buffalo Sabres: 0.474<br>",
          "Chicago Bears: 0.214<br>Chicago White Sox: 0.475<br>Chicago Cubs: 0.478<br>Chicago Bulls: 0.659<br>Chicago Blackhawks: 0.538<br>",
          "Cleveland Browns: 0.571<br>Cleveland Indians: 0.438<br>Cleveland Cavaliers: 0.354<br>",
          "Detroit Lions: 0.464<br>Detroit Tigers: 0.524<br>Detroit Pistons: 0.634<br>Detroit Red Wings: 0.474<br>",
          "Los Angeles Chargers: 0.179<br>Los Angeles Rams: 0.857<br>Los Angeles Dodgers: 0.590<br>Los Angeles Lakers: 0.573<br>Los Angeles Kings: 0.397<br>",
          "Minnesota Vikings: 0.857<br>Minnesota Twins: 0.5<br>Minnesota North Stars: 0.474<br>",
          "New York Giants: 0.179<br>New York Jets: 0.286<br>New York Yankees: 0.493<br>New York Mets: 0.509<br>New York Knicks: 0.598<br>New York Rangers: 0.602<br>New York Islanders: 0.153<br>",
          "Philadelphia Eagles: 0.393<br>Philadelphia Phillies: 0.438<br>Philadelphia 76ers: 0.305<br>Philadelphia Flyers: 0.474<br>",
          "Pittsburgh Steelers: 0.714<br>Pittsburgh Pirates: 0.493<br>Pittsburgh Penguins: 0.410<br>",
          "San Francisco 49ers: 0.357<br>San Francisco Giants: 0.543<br>Oakland Athletics: 0.580<br>",
          "Atlanta Falcons: 0.214<br>Atlanta Braves: 0.543<br>Atlanta Hawks: 0.378<br>Atlanta Flames: 0.384<br>",
          "New England Patriots: 0.5<br>Boston Red Sox: 0.518<br>Boston Celtics: 0.732<br>Boston Bruins: 0.666<br>",
          "Buffalo Bills: 0.643<br>Buffalo Braves: 0.598<br>Buffalo Sabres: 0.410<br>",
          "Chicago Bears: 0.286<br>Chicago White Sox: 0.5<br>Chicago Cubs: 0.407<br>Chicago Bulls: 0.573<br>Chicago Blackhawks: 0.525<br>",
          "Cleveland Browns: 0.286<br>Cleveland Indians: 0.475<br>Cleveland Cavaliers: 0.488<br>",
          "Detroit Lions: 0.5<br>Detroit Tigers: 0.444<br>Detroit Pistons: 0.488<br>Detroit Red Wings: 0.371<br>",
          "Los Angeles Chargers: 0.357<br>Los Angeles Rams: 0.714<br>Los Angeles Dodgers: 0.629<br>Los Angeles Lakers: 0.366<br>Los Angeles Kings: 0.423<br>",
          "Minnesota Vikings: 0.714<br>Minnesota Twins: 0.506<br>Minnesota North Stars: 0.294<br>",
          "New York Giants: 0.143<br>New York Jets: 0.5<br>New York Yankees: 0.549<br>New York Mets: 0.438<br>New York Knicks: 0.488<br>New York Rangers: 0.512<br>New York Islanders: 0.243<br>",
          "Philadelphia Eagles: 0.5<br>Philadelphia Phillies: 0.493<br>Philadelphia 76ers: 0.415<br>Philadelphia Flyers: 0.641<br>",
          "Pittsburgh Steelers: 0.75<br>Pittsburgh Pirates: 0.543<br>Pittsburgh Penguins: 0.358<br>",
          "San Francisco 49ers: 0.429<br>San Francisco Giants: 0.444<br>Oakland Athletics: 0.555<br>",
          "Atlanta Falcons: 0.286<br>Atlanta Braves: 0.416<br>Atlanta Hawks: 0.354<br>Atlanta Flames: 0.425<br>",
          "New England Patriots: 0.214<br>Boston Red Sox: 0.593<br>Boston Celtics: 0.659<br>Boston Bruins: 0.5<br>",
          "Buffalo Bills: 0.571<br>Buffalo Braves: 0.561<br>Buffalo Sabres: 0.612<br>",
          "Chicago Bears: 0.286<br>Chicago White Sox: 0.465<br>Chicago Cubs: 0.462<br>Chicago Bulls: 0.293<br>Chicago Blackhawks: 0.462<br>",
          "Cleveland Browns: 0.214<br>Cleveland Indians: 0.496<br>Cleveland Cavaliers: 0.598<br>",
          "Detroit Lions: 0.5<br>Detroit Tigers: 0.358<br>Detroit Pistons: 0.439<br>Detroit Red Wings: 0.287<br>",
          "Kansas City Chiefs: 0.357<br>Kansas City Royals: 0.561<br>Kansas City Scouts: 0.187<br>",
          "Los Angeles Chargers: 0.143<br>Los Angeles Rams: 0.857<br>Los Angeles Dodgers: 0.543<br>Los Angeles Lakers: 0.488<br>Los Angeles Kings: 0.525<br>",
          "Minnesota Vikings: 0.857<br>Minnesota Twins: 0.477<br>Minnesota North Stars: 0.287<br>",
          "New York Jets: 0.214<br>New York Giants: 0.357<br>New York Yankees: 0.518<br>New York Mets: 0.506<br>New York Knicks: 0.463<br>New York Rangers: 0.462<br>New York Islanders: 0.412<br>",
          "Philadelphia Eagles: 0.286<br>Philadelphia Phillies: 0.530<br>Philadelphia 76ers: 0.561<br>Philadelphia Flyers: 0.637<br>",
          "Pittsburgh Steelers: 0.857<br>Pittsburgh Pirates: 0.571<br>Pittsburgh Penguins: 0.462<br>",
          "San Francisco 49ers: 0.357<br>San Francisco Giants: 0.496<br>Oakland Athletics: 0.604<br>",
          "Washington Commanders: 0.571<br>Washington Bullets: 0.585<br>Washington Capitals: 0.1<br>",
          "Atlanta Falcons: 0.286<br>Atlanta Braves: 0.432<br>Atlanta Hawks: 0.378<br>Atlanta Flames: 0.437<br>",
          "New England Patriots: 0.786<br>Boston Red Sox: 0.512<br>Boston Celtics: 0.537<br>Boston Bruins: 0.6<br>",
          "Buffalo Bills: 0.143<br>Buffalo Braves: 0.366<br>Buffalo Sabres: 0.575<br>",
          "Chicago Bears: 0.5<br>Chicago White Sox: 0.397<br>Chicago Cubs: 0.462<br>Chicago Bulls: 0.537<br>Chicago Blackhawks: 0.4<br>",
          "Cleveland Browns: 0.643<br>Cleveland Indians: 0.509<br>Cleveland Cavaliers: 0.524<br>",
          "Detroit Lions: 0.429<br>Detroit Tigers: 0.459<br>Detroit Pistons: 0.537<br>Detroit Red Wings: 0.325<br>",
          "Kansas City Chiefs: 0.357<br>Kansas City Royals: 0.555<br>Kansas City Scouts: 0.15<br>",
          "Los Angeles Chargers: 0.429<br>Los Angeles Rams: 0.75<br>Los Angeles Dodgers: 0.567<br>Los Angeles Lakers: 0.646<br>Los Angeles Kings: 0.475<br>",
          "Minnesota Vikings: 0.821<br>Minnesota Twins: 0.524<br>Minnesota North Stars: 0.25<br>",
          "New York Giants: 0.214<br>New York Jets: 0.214<br>New York Yankees: 0.610<br>New York Mets: 0.530<br>New York Knicks: 0.488<br>New York Islanders: 0.525<br>New York Rangers: 0.362<br>Brooklyn Nets: 0.268<br>",
          "Philadelphia Eagles: 0.286<br>Philadelphia Phillies: 0.623<br>Philadelphia 76ers: 0.61<br>Philadelphia Flyers: 0.637<br>",
          "Pittsburgh Steelers: 0.714<br>Pittsburgh Pirates: 0.567<br>Pittsburgh Penguins: 0.437<br>",
          "San Francisco 49ers: 0.571<br>San Francisco Giants: 0.456<br>Oakland Athletics: 0.540<br>",
          "Washington Commanders: 0.714<br>Washington Bullets: 0.585<br>Washington Capitals: 0.137<br>",
          "Atlanta Falcons: 0.5<br>Atlanta Braves: 0.376<br>Atlanta Hawks: 0.5<br>Atlanta Flames: 0.425<br>",
          "New England Patriots: 0.643<br>Boston Red Sox: 0.602<br>Boston Celtics: 0.39<br>Boston Bruins: 0.612<br>",
          "Buffalo Bills: 0.214<br>Buffalo Braves: 0.329<br>Buffalo Sabres: 0.6<br>",
          "Chicago Bears: 0.643<br>Chicago White Sox: 0.555<br>Chicago Cubs: 0.5<br>Chicago Bulls: 0.488<br>Chicago Blackhawks: 0.325<br>",
          "Cleveland Browns: 0.429<br>Cleveland Indians: 0.440<br>Cleveland Cavaliers: 0.524<br>Cleveland Barons: 0.312<br>",
          "Denver Broncos: 0.857<br>Denver Nuggets: 0.585<br>Colorado Rockies: 0.25<br>",
          "Detroit Lions: 0.429<br>Detroit Tigers: 0.456<br>Detroit Pistons: 0.463<br>Detroit Red Wings: 0.2<br>",
          "Los Angeles Chargers: 0.5<br>Los Angeles Rams: 0.714<br>Los Angeles Dodgers: 0.604<br>Los Angeles Lakers: 0.549<br>Los Angeles Kings: 0.425<br>",
          "Minnesota Vikings: 0.643<br>Minnesota Twins: 0.521<br>Minnesota North Stars: 0.287<br>",
          "New York Jets: 0.214<br>New York Giants: 0.357<br>New York Yankees: 0.617<br>New York Mets: 0.395<br>New York Knicks: 0.524<br>New York Islanders: 0.587<br>New York Rangers: 0.362<br>Brooklyn Nets: 0.293<br>",
          "Philadelphia Eagles: 0.357<br>Philadelphia Phillies: 0.623<br>Philadelphia 76ers: 0.671<br>Philadelphia Flyers: 0.6<br>",
          "Pittsburgh Steelers: 0.643<br>Pittsburgh Pirates: 0.592<br>Pittsburgh Penguins: 0.425<br>",
          "San Francisco 49ers: 0.357<br>San Francisco Giants: 0.462<br>Oakland Athletics: 0.391<br>",
          "Seattle Seahawks: 0.357<br>Seattle Mariners: 0.395<br>Seattle Supersonics: 0.573<br>",
          "Washington Commanders: 0.643<br>Washington Bullets: 0.537<br>Washington Capitals: 0.3<br>",
          "Atlanta Falcons: 0.563<br>Atlanta Braves: 0.425<br>Atlanta Hawks: 0.561<br>Atlanta Flames: 0.425<br>",
          "New England Patriots: 0.688<br>Boston Red Sox: 0.607<br>Boston Celtics: 0.354<br>Boston Bruins: 0.637<br>",
          "Chicago Bears: 0.438<br>Chicago White Sox: 0.440<br>Chicago Cubs: 0.487<br>Chicago Bulls: 0.378<br>Chicago Blackhawks: 0.4<br>",
          "Cleveland Browns: 0.5<br>Cleveland Indians: 0.433<br>Cleveland Cavaliers: 0.366<br>Cleveland Barons: 0.275<br>",
          "Denver Broncos: 0.625<br>Denver Nuggets: 0.573<br>Colorado Rockies: 0.237<br>",
          "Detroit Lions: 0.438<br>Detroit Tigers: 0.530<br>Detroit Pistons: 0.366<br>Detroit Red Wings: 0.4<br>",
          "Los Angeles Chargers: 0.563<br>Los Angeles Rams: 0.75<br>Los Angeles Dodgers: 0.586<br>Los Angeles Clippers: 0.524<br>Los Angeles Lakers: 0.573<br>Los Angeles Kings: 0.387<br>",
          "Minnesota Vikings: 0.531<br>Minnesota Twins: 0.450<br>Minnesota North Stars: 0.225<br>",
          "New York Giants: 0.375<br>New York Jets: 0.5<br>New York Yankees: 0.613<br>New York Mets: 0.407<br>New York Knicks: 0.378<br>New York Islanders: 0.6<br>New York Rangers: 0.375<br>Brooklyn Nets: 0.451<br>",
          "Philadelphia Eagles: 0.563<br>Philadelphia Phillies: 0.555<br>Philadelphia 76ers: 0.573<br>Philadelphia Flyers: 0.562<br>",
          "Pittsburgh Steelers: 0.875<br>Pittsburgh Pirates: 0.546<br>Pittsburgh Penguins: 0.312<br>",
          "San Francisco 49ers: 0.125<br>San Francisco Giants: 0.549<br>Oakland Athletics: 0.425<br>",
          "Seattle Seahawks: 0.563<br>Seattle Mariners: 0.35<br>Seattle Supersonics: 0.634<br>",
          "Washington Commanders: 0.5<br>Washington Bullets: 0.659<br>Washington Capitals: 0.212<br>",
          "Atlanta Falcons: 0.375<br>Atlanta Braves: 0.412<br>Atlanta Hawks: 0.61<br>Atlanta Flames: 0.512<br>",
          "New England Patriots: 0.563<br>Boston Red Sox: 0.568<br>Boston Celtics: 0.744<br>Boston Bruins: 0.537<br>",
          "Chicago Bears: 0.625<br>Chicago White Sox: 0.456<br>Chicago Cubs: 0.493<br>Chicago Bulls: 0.366<br>Chicago Blackhawks: 0.362<br>",
          "Cleveland Browns: 0.563<br>Cleveland Indians: 0.503<br>Cleveland Cavaliers: 0.451<br>",
          "Denver Broncos: 0.625<br>Denver Nuggets: 0.366<br>Colorado Rockies: 0.187<br>",
          "Detroit Lions: 0.125<br>Detroit Tigers: 0.527<br>Detroit Pistons: 0.195<br>Detroit Red Wings: 0.287<br>",
          "Los Angeles Rams: 0.563<br>Los Angeles Chargers: 0.75<br>Los Angeles Dodgers: 0.487<br>Los Angeles Clippers: 0.427<br>Los Angeles Lakers: 0.732<br>Los Angeles Kings: 0.425<br>",
          "Minnesota Vikings: 0.438<br>Minnesota Twins: 0.506<br>Minnesota North Stars: 0.35<br>",
          "New York Giants: 0.375<br>New York Jets: 0.5<br>New York Yankees: 0.556<br>New York Mets: 0.388<br>New York Knicks: 0.476<br>New York Islanders: 0.637<br>New York Rangers: 0.5<br>Brooklyn Nets: 0.415<br>",
          "Philadelphia Eagles: 0.688<br>Philadelphia Phillies: 0.518<br>Philadelphia 76ers: 0.72<br>Philadelphia Flyers: 0.5<br>",
          "Pittsburgh Steelers: 0.75<br>Pittsburgh Pirates: 0.604<br>Pittsburgh Penguins: 0.45<br>",
          "San Francisco 49ers: 0.125<br>San Francisco Giants: 0.438<br>Oakland Athletics: 0.333<br>",
          "Seattle Seahawks: 0.563<br>Seattle Mariners: 0.413<br>Seattle Supersonics: 0.683<br>",
          "Washington Commanders: 0.625<br>Washington Bullets: 0.476<br>Washington Capitals: 0.3<br>",
          "Atlanta Falcons: 0.75<br>Atlanta Braves: 0.503<br>Atlanta Hawks: 0.378<br>Atlanta Flames: 0.437<br>",
          "New England Patriots: 0.625<br>Boston Red Sox: 0.518<br>Boston Celtics: 0.756<br>Boston Bruins: 0.575<br>",
          "Chicago Bears: 0.438<br>Chicago White Sox: 0.437<br>Chicago Cubs: 0.395<br>Chicago Bulls: 0.549<br>Chicago Blackhawks: 0.425<br>",
          "Cleveland Browns: 0.688<br>Cleveland Indians: 0.493<br>Cleveland Cavaliers: 0.341<br>",
          "Denver Broncos: 0.5<br>Denver Nuggets: 0.451<br>Colorado Rockies: 0.237<br>",
          "Detroit Lions: 0.563<br>Detroit Tigers: 0.518<br>Detroit Pistons: 0.256<br>Detroit Red Wings: 0.325<br>",
          "Los Angeles Chargers: 0.688<br>Los Angeles Rams: 0.688<br>Los Angeles Dodgers: 0.564<br>Los Angeles Clippers: 0.439<br>Los Angeles Lakers: 0.659<br>Los Angeles Kings: 0.375<br>",
          "Minnesota Vikings: 0.563<br>Minnesota Twins: 0.478<br>Minnesota North Stars: 0.45<br>",
          "New York Giants: 0.25<br>New York Jets: 0.25<br>New York Yankees: 0.635<br>New York Mets: 0.413<br>New York Knicks: 0.61<br>New York Islanders: 0.487<br>New York Rangers: 0.475<br>Brooklyn Nets: 0.293<br>",
          "Philadelphia Eagles: 0.75<br>Philadelphia Phillies: 0.561<br>Philadelphia 76ers: 0.756<br>Philadelphia Flyers: 0.6<br>",
          "Pittsburgh Steelers: 0.563<br>Pittsburgh Pirates: 0.512<br>Pittsburgh Penguins: 0.375<br>",
          "San Francisco 49ers: 0.375<br>San Francisco Giants: 0.465<br>Oakland Athletics: 0.512<br>",
          "Seattle Seahawks: 0.25<br>Seattle Mariners: 0.364<br>Seattle Supersonics: 0.415<br>",
          "Washington Commanders: 0.375<br>Washington Bullets: 0.476<br>Washington Capitals: 0.337<br>",
          "Atlanta Falcons: 0.438<br>Atlanta Braves: 0.471<br>Atlanta Hawks: 0.512<br>",
          "New England Patriots: 0.125<br>Boston Red Sox: 0.546<br>Boston Celtics: 0.768<br>Boston Bruins: 0.462<br>",
          "Chicago Bears: 0.375<br>Chicago White Sox: 0.509<br>Chicago Cubs: 0.368<br>Chicago Bulls: 0.415<br>Chicago Blackhawks: 0.387<br>",
          "Cleveland Browns: 0.313<br>Cleveland Indians: 0.504<br>Cleveland Cavaliers: 0.183<br>",
          "Denver Broncos: 0.625<br>Denver Nuggets: 0.561<br>Colorado Rockies: 0.275<br>",
          "Detroit Lions: 0.5<br>Detroit Tigers: 0.550<br>Detroit Pistons: 0.476<br>Detroit Red Wings: 0.237<br>",
          "Los Angeles Rams: 0.375<br>Los Angeles Chargers: 0.625<br>Los Angeles Dodgers: 0.572<br>Los Angeles Clippers: 0.207<br>Los Angeles Lakers: 0.695<br>Los Angeles Kings: 0.537<br>",
          "Minnesota Vikings: 0.438<br>Minnesota Twins: 0.376<br>Minnesota North Stars: 0.437<br>",
          "New York Giants: 0.563<br>New York Jets: 0.656<br>New York Yankees: 0.551<br>New York Mets: 0.398<br>New York Knicks: 0.402<br>New York Islanders: 0.6<br>New York Rangers: 0.375<br>Brooklyn Nets: 0.537<br>",
          "Philadelphia Eagles: 0.625<br>Philadelphia Phillies: 0.551<br>Philadelphia 76ers: 0.707<br>Philadelphia Flyers: 0.512<br>",
          "Pittsburgh Steelers: 0.5<br>Pittsburgh Pirates: 0.450<br>Pittsburgh Penguins: 0.375<br>",
          "San Francisco 49ers: 0.813<br>San Francisco Giants: 0.504<br>Oakland Athletics: 0.587<br>",
          "Seattle Seahawks: 0.375<br>Seattle Mariners: 0.403<br>Seattle Supersonics: 0.634<br>",
          "Washington Commanders: 0.5<br>Washington Bullets: 0.524<br>Washington Capitals: 0.325<br>",
          "Atlanta Falcons: 0.556<br>Atlanta Braves: 0.549<br>Atlanta Hawks: 0.524<br>",
          "New England Patriots: 0.556<br>Boston Red Sox: 0.549<br>Boston Celtics: 0.683<br>Boston Bruins: 0.537<br>",
          "Chicago Bears: 0.333<br>Chicago White Sox: 0.537<br>Chicago Cubs: 0.450<br>Chicago Bulls: 0.341<br>Chicago Blackhawks: 0.375<br>",
          "Cleveland Browns: 0.444<br>Cleveland Indians: 0.481<br>Cleveland Cavaliers: 0.28<br>",
          "Denver Broncos: 0.222<br>Denver Nuggets: 0.549<br>Colorado Rockies: 0.225<br>",
          "Detroit Lions: 0.444<br>Detroit Tigers: 0.512<br>Detroit Pistons: 0.451<br>Detroit Red Wings: 0.262<br>",
          "Los Angeles Rams: 0.222<br>Los Angeles Chargers: 0.667<br>Los Angeles Dodgers: 0.543<br>Los Angeles Clippers: 0.305<br>Los Angeles Lakers: 0.707<br>Los Angeles Kings: 0.3<br>",
          "Minnesota Vikings: 0.556<br>Minnesota Twins: 0.370<br>Minnesota North Stars: 0.462<br>",
          "New York Giants: 0.444<br>New York Jets: 0.667<br>New York Yankees: 0.487<br>New York Mets: 0.401<br>New York Knicks: 0.537<br>New York Islanders: 0.675<br>New York Rangers: 0.487<br>Brooklyn Nets: 0.598<br>",
          "Philadelphia Eagles: 0.333<br>Philadelphia Phillies: 0.549<br>Philadelphia 76ers: 0.793<br>Philadelphia Flyers: 0.475<br>",
          "Pittsburgh Steelers: 0.667<br>Pittsburgh Pirates: 0.518<br>Pittsburgh Penguins: 0.387<br>",
          "San Francisco 49ers: 0.333<br>San Francisco Giants: 0.537<br>Oakland Athletics: 0.419<br>",
          "Seattle Seahawks: 0.444<br>Seattle Mariners: 0.469<br>Seattle Supersonics: 0.585<br>",
          "Washington Commanders: 0.889<br>Washington Bullets: 0.512<br>Washington Capitals: 0.325<br>",
          "Atlanta Falcons: 0.438<br>Atlanta Braves: 0.543<br>Atlanta Hawks: 0.488<br>",
          "New England Patriots: 0.5<br>Boston Red Sox: 0.481<br>Boston Celtics: 0.756<br>Boston Bruins: 0.625<br>",
          "Chicago Bears: 0.5<br>Chicago White Sox: 0.611<br>Chicago Cubs: 0.438<br>Chicago Bulls: 0.329<br>Chicago Blackhawks: 0.587<br>",
          "Cleveland Browns: 0.563<br>Cleveland Indians: 0.432<br>Cleveland Cavaliers: 0.341<br>",
          "Detroit Lions: 0.563<br>Detroit Tigers: 0.567<br>Detroit Pistons: 0.598<br>Detroit Red Wings: 0.262<br>",
          "Los Angeles Chargers: 0.375<br>Los Angeles Rams: 0.563<br>Los Angeles Dodgers: 0.561<br>Los Angeles Clippers: 0.366<br>Los Angeles Lakers: 0.659<br>Los Angeles Kings: 0.337<br>",
          "Minnesota Vikings: 0.5<br>Minnesota Twins: 0.432<br>Minnesota North Stars: 0.5<br>",
          "New York Giants: 0.219<br>New York Jets: 0.438<br>New York Yankees: 0.561<br>New York Mets: 0.419<br>New York Knicks: 0.573<br>New York Islanders: 0.525<br>New York Rangers: 0.437<br>Brooklyn Nets: 0.549<br>New Jersey Devils: 0.212<br>",
          "Philadelphia Eagles: 0.313<br>Philadelphia Phillies: 0.555<br>Philadelphia 76ers: 0.634<br>Philadelphia Flyers: 0.612<br>",
          "Pittsburgh Steelers: 0.625<br>Pittsburgh Pirates: 0.518<br>Pittsburgh Penguins: 0.225<br>",
          "San Francisco 49ers: 0.625<br>San Francisco Giants: 0.487<br>Oakland Athletics: 0.456<br>",
          "Seattle Seahawks: 0.563<br>Seattle Mariners: 0.370<br>Seattle Supersonics: 0.512<br>",
          "Washington Commanders: 0.875<br>Washington Bullets: 0.427<br>Washington Capitals: 0.487<br>",
          "Atlanta Falcons: 0.25<br>Atlanta Braves: 0.493<br>Atlanta Hawks: 0.415<br>",
          "New England Patriots: 0.563<br>Boston Red Sox: 0.530<br>Boston Celtics: 0.768<br>Boston Bruins: 0.612<br>",
          "Chicago Bears: 0.625<br>Chicago White Sox: 0.456<br>Chicago Cubs: 0.596<br>Chicago Bulls: 0.463<br>Chicago Blackhawks: 0.375<br>",
          "Cleveland Browns: 0.313<br>Cleveland Indians: 0.462<br>Cleveland Cavaliers: 0.439<br>",
          "Detroit Lions: 0.281<br>Detroit Tigers: 0.641<br>Detroit Pistons: 0.561<br>Detroit Red Wings: 0.387<br>",
          "Los Angeles Chargers: 0.438<br>Los Angeles Rams: 0.625<br>Los Angeles Dodgers: 0.487<br>Los Angeles Clippers: 0.378<br>Los Angeles Lakers: 0.756<br>Los Angeles Kings: 0.287<br>",
          "Minnesota Vikings: 0.188<br>Minnesota Twins: 0.5<br>Minnesota North Stars: 0.487<br>",
          "New York Jets: 0.438<br>New York Giants: 0.563<br>New York Yankees: 0.537<br>New York Mets: 0.555<br>New York Knicks: 0.293<br>New York Islanders: 0.625<br>New York Rangers: 0.525<br>Brooklyn Nets: 0.512<br>New Jersey Devils: 0.212<br>",
          "Philadelphia Eagles: 0.406<br>Philadelphia Phillies: 0.5<br>Philadelphia 76ers: 0.707<br>Philadelphia Flyers: 0.55<br>",
          "Pittsburgh Steelers: 0.563<br>Pittsburgh Pirates: 0.462<br>Pittsburgh Penguins: 0.2<br>",
          "San Francisco 49ers: 0.938<br>San Francisco Giants: 0.407<br>Oakland Athletics: 0.475<br>",
          "Seattle Seahawks: 0.75<br>Seattle Mariners: 0.456<br>Seattle Supersonics: 0.378<br>",
          "Washington Commanders: 0.688<br>Washington Bullets: 0.488<br>Washington Capitals: 0.6<br>",
          "Atlanta Falcons: 0.25<br>Atlanta Braves: 0.407<br>Atlanta Hawks: 0.61<br>",
          "New England Patriots: 0.688<br>Boston Red Sox: 0.5<br>Boston Celtics: 0.817<br>Boston Bruins: 0.45<br>",
          "Chicago Bears: 0.938<br>Chicago White Sox: 0.524<br>Chicago Cubs: 0.478<br>Chicago Bulls: 0.366<br>Chicago Blackhawks: 0.475<br>",
          "Cleveland Browns: 0.5<br>Cleveland Indians: 0.370<br>Cleveland Cavaliers: 0.354<br>",
          "Detroit Lions: 0.438<br>Detroit Tigers: 0.521<br>Detroit Pistons: 0.561<br>Detroit Red Wings: 0.337<br>",
          "Los Angeles Chargers: 0.5<br>Los Angeles Rams: 0.688<br>Los Angeles Dodgers: 0.586<br>Los Angeles Clippers: 0.39<br>Los Angeles Lakers: 0.756<br>Los Angeles Kings: 0.425<br>",
          "Minnesota Vikings: 0.438<br>Minnesota Twins: 0.475<br>Minnesota North Stars: 0.312<br>",
          "New York Giants: 0.625<br>New York Jets: 0.688<br>New York Yankees: 0.602<br>New York Mets: 0.604<br>New York Knicks: 0.28<br>New York Islanders: 0.5<br>New York Rangers: 0.325<br>Brooklyn Nets: 0.476<br>New Jersey Devils: 0.275<br>",
          "Philadelphia Eagles: 0.438<br>Philadelphia Phillies: 0.462<br>Philadelphia 76ers: 0.659<br>Philadelphia Flyers: 0.662<br>",
          "Pittsburgh Steelers: 0.438<br>Pittsburgh Pirates: 0.354<br>Pittsburgh Penguins: 0.3<br>",
          "San Francisco 49ers: 0.625<br>San Francisco Giants: 0.382<br>Oakland Athletics: 0.475<br>",
          "Seattle Seahawks: 0.5<br>Seattle Mariners: 0.456<br>Seattle Supersonics: 0.378<br>",
          "Washington Commanders: 0.625<br>Washington Bullets: 0.476<br>Washington Capitals: 0.575<br>",
          "Atlanta Falcons: 0.469<br>Atlanta Braves: 0.447<br>Atlanta Hawks: 0.695<br>",
          "New England Patriots: 0.688<br>Boston Red Sox: 0.590<br>Boston Celtics: 0.72<br>Boston Bruins: 0.462<br>",
          "Chicago Bears: 0.875<br>Chicago White Sox: 0.444<br>Chicago Cubs: 0.437<br>Chicago Bulls: 0.488<br>Chicago Blackhawks: 0.487<br>",
          "Cleveland Browns: 0.75<br>Cleveland Indians: 0.518<br>Cleveland Cavaliers: 0.378<br>",
          "Detroit Lions: 0.313<br>Detroit Tigers: 0.537<br>Detroit Pistons: 0.634<br>Detroit Red Wings: 0.212<br>",
          "Los Angeles Chargers: 0.25<br>Los Angeles Rams: 0.625<br>Los Angeles Dodgers: 0.450<br>Los Angeles Clippers: 0.146<br>Los Angeles Lakers: 0.793<br>Los Angeles Kings: 0.287<br>",
          "Minnesota Vikings: 0.563<br>Minnesota Twins: 0.438<br>Minnesota North Stars: 0.475<br>",
          "New York Jets: 0.625<br>New York Giants: 0.875<br>New York Yankees: 0.555<br>New York Mets: 0.666<br>New York Knicks: 0.293<br>New York Islanders: 0.487<br>New York Rangers: 0.45<br>Brooklyn Nets: 0.293<br>New Jersey Devils: 0.35<br>",
          "Philadelphia Eagles: 0.344<br>Philadelphia Phillies: 0.534<br>Philadelphia 76ers: 0.549<br>Philadelphia Flyers: 0.662<br>",
          "Pittsburgh Steelers: 0.375<br>Pittsburgh Pirates: 0.395<br>Pittsburgh Penguins: 0.425<br>",
          "San Francisco 49ers: 0.656<br>San Francisco Giants: 0.512<br>Oakland Athletics: 0.469<br>",
          "Seattle Seahawks: 0.625<br>Seattle Mariners: 0.413<br>Seattle Supersonics: 0.476<br>",
          "Washington Commanders: 0.75<br>Washington Bullets: 0.512<br>Washington Capitals: 0.625<br>",
          "Atlanta Falcons: 0.2<br>Atlanta Braves: 0.428<br>Atlanta Hawks: 0.61<br>",
          "New England Patriots: 0.533<br>Boston Red Sox: 0.481<br>Boston Celtics: 0.695<br>Boston Bruins: 0.487<br>",
          "Chicago Bears: 0.733<br>Chicago White Sox: 0.475<br>Chicago Cubs: 0.472<br>Chicago Bulls: 0.61<br>Chicago Blackhawks: 0.362<br>",
          "Cleveland Browns: 0.667<br>Cleveland Indians: 0.376<br>Cleveland Cavaliers: 0.512<br>",
          "Detroit Lions: 0.267<br>Detroit Tigers: 0.604<br>Detroit Pistons: 0.659<br>Detroit Red Wings: 0.425<br>",
          "Los Angeles Rams: 0.4<br>Los Angeles Chargers: 0.533<br>Los Angeles Dodgers: 0.450<br>Los Angeles Clippers: 0.207<br>Los Angeles Lakers: 0.756<br>Los Angeles Kings: 0.387<br>",
          "Minnesota Vikings: 0.533<br>Minnesota Twins: 0.524<br>Minnesota North Stars: 0.375<br>",
          "New York Giants: 0.4<br>New York Jets: 0.4<br>New York Yankees: 0.549<br>New York Mets: 0.567<br>New York Knicks: 0.463<br>New York Islanders: 0.437<br>New York Rangers: 0.425<br>Brooklyn Nets: 0.232<br>New Jersey Devils: 0.362<br>",
          "Philadelphia Eagles: 0.467<br>Philadelphia Phillies: 0.493<br>Philadelphia 76ers: 0.439<br>Philadelphia Flyers: 0.575<br>",
          "Pittsburgh Steelers: 0.533<br>Pittsburgh Pirates: 0.493<br>Pittsburgh Penguins: 0.375<br>",
          "San Francisco 49ers: 0.867<br>San Francisco Giants: 0.555<br>Oakland Athletics: 0.5<br>",
          "Seattle Seahawks: 0.6<br>Seattle Mariners: 0.481<br>Seattle Supersonics: 0.537<br>",
          "Washington Commanders: 0.733<br>Washington Bullets: 0.463<br>Washington Capitals: 0.475<br>",
          "Atlanta Falcons: 0.313<br>Atlanta Braves: 0.337<br>Atlanta Hawks: 0.634<br>",
          "New England Patriots: 0.563<br>Boston Red Sox: 0.549<br>Boston Celtics: 0.512<br>Boston Bruins: 0.55<br>",
          "Chicago Bears: 0.75<br>Chicago White Sox: 0.440<br>Chicago Cubs: 0.475<br>Chicago Bulls: 0.573<br>Chicago Blackhawks: 0.375<br>",
          "Cleveland Browns: 0.625<br>Cleveland Indians: 0.481<br>Cleveland Cavaliers: 0.695<br>",
          "Detroit Lions: 0.25<br>Detroit Tigers: 0.543<br>Detroit Pistons: 0.768<br>Detroit Red Wings: 0.512<br>",
          "Los Angeles Chargers: 0.375<br>Los Angeles Rams: 0.625<br>Los Angeles Dodgers: 0.583<br>Los Angeles Clippers: 0.256<br>Los Angeles Lakers: 0.695<br>Los Angeles Kings: 0.375<br>",
          "Minnesota Vikings: 0.688<br>Minnesota Twins: 0.561<br>Minnesota North Stars: 0.237<br>",
          "New York Jets: 0.531<br>New York Giants: 0.625<br>New York Yankees: 0.527<br>New York Mets: 0.625<br>New York Knicks: 0.634<br>New York Islanders: 0.487<br>New York Rangers: 0.45<br>Brooklyn Nets: 0.317<br>New Jersey Devils: 0.475<br>",
          "Philadelphia Eagles: 0.625<br>Philadelphia Phillies: 0.403<br>Philadelphia 76ers: 0.561<br>Philadelphia Flyers: 0.475<br>",
          "Pittsburgh Steelers: 0.313<br>Pittsburgh Pirates: 0.531<br>Pittsburgh Penguins: 0.45<br>",
          "San Francisco 49ers: 0.625<br>San Francisco Giants: 0.512<br>Oakland Athletics: 0.641<br>",
          "Seattle Seahawks: 0.563<br>Seattle Mariners: 0.422<br>Seattle Supersonics: 0.573<br>",
          "Washington Commanders: 0.438<br>Washington Bullets: 0.488<br>Washington Capitals: 0.475<br>",
          "Atlanta Falcons: 0.188<br>Atlanta Braves: 0.393<br>Atlanta Hawks: 0.5<br>",
          "New England Patriots: 0.313<br>Boston Red Sox: 0.512<br>Boston Celtics: 0.634<br>Boston Bruins: 0.462<br>",
          "Chicago Bears: 0.375<br>Chicago White Sox: 0.428<br>Chicago Cubs: 0.574<br>Chicago Bulls: 0.671<br>Chicago Blackhawks: 0.337<br>",
          "Cleveland Browns: 0.594<br>Cleveland Indians: 0.450<br>Cleveland Cavaliers: 0.512<br>",
          "Detroit Lions: 0.438<br>Detroit Tigers: 0.364<br>Detroit Pistons: 0.72<br>Detroit Red Wings: 0.425<br>",
          "Los Angeles Chargers: 0.375<br>Los Angeles Rams: 0.688<br>Los Angeles Dodgers: 0.481<br>Los Angeles Clippers: 0.366<br>Los Angeles Lakers: 0.768<br>Los Angeles Kings: 0.525<br>",
          "Minnesota Vikings: 0.625<br>Minnesota Twins: 0.493<br>Minnesota Timberwolves: 0.268<br>Minnesota North Stars: 0.337<br>",
          "New York Jets: 0.25<br>New York Giants: 0.75<br>New York Yankees: 0.459<br>New York Mets: 0.537<br>New York Knicks: 0.549<br>New York Rangers: 0.462<br>New York Islanders: 0.35<br>Brooklyn Nets: 0.207<br>New Jersey Devils: 0.337<br>",
          "Philadelphia Eagles: 0.688<br>Philadelphia Phillies: 0.413<br>Philadelphia 76ers: 0.646<br>Philadelphia Flyers: 0.45<br>",
          "Pittsburgh Steelers: 0.563<br>Pittsburgh Pirates: 0.456<br>Pittsburgh Penguins: 0.5<br>",
          "San Francisco 49ers: 0.875<br>San Francisco Giants: 0.567<br>Oakland Athletics: 0.611<br>",
          "Seattle Seahawks: 0.438<br>Seattle Mariners: 0.450<br>Seattle Supersonics: 0.5<br>",
          "Washington Commanders: 0.625<br>Washington Bullets: 0.378<br>Washington Capitals: 0.512<br>",
          "Atlanta Falcons: 0.313<br>Atlanta Braves: 0.401<br>Atlanta Hawks: 0.524<br>",
          "New England Patriots: 0.063<br>Boston Red Sox: 0.543<br>Boston Celtics: 0.683<br>Boston Bruins: 0.575<br>",
          "Chicago Bears: 0.688<br>Chicago White Sox: 0.580<br>Chicago Cubs: 0.475<br>Chicago Bulls: 0.744<br>Chicago Blackhawks: 0.512<br>",
          "Cleveland Browns: 0.188<br>Cleveland Indians: 0.475<br>Cleveland Cavaliers: 0.402<br>",
          "Detroit Lions: 0.375<br>Detroit Tigers: 0.487<br>Detroit Pistons: 0.61<br>Detroit Red Wings: 0.35<br>",
          "Los Angeles Rams: 0.313<br>Los Angeles Chargers: 0.375<br>Los Angeles Dodgers: 0.530<br>Los Angeles Clippers: 0.378<br>Los Angeles Lakers: 0.707<br>Los Angeles Kings: 0.425<br>",
          "Minnesota Vikings: 0.375<br>Minnesota Twins: 0.456<br>Minnesota Timberwolves: 0.354<br>Minnesota North Stars: 0.45<br>",
          "New York Jets: 0.375<br>New York Giants: 0.813<br>New York Yankees: 0.413<br>New York Mets: 0.561<br>New York Knicks: 0.476<br>New York Rangers: 0.45<br>New York Islanders: 0.387<br>Brooklyn Nets: 0.317<br>New Jersey Devils: 0.462<br>",
          "Philadelphia Eagles: 0.625<br>Philadelphia Phillies: 0.475<br>Philadelphia 76ers: 0.537<br>Philadelphia Flyers: 0.375<br>",
          "Pittsburgh Steelers: 0.563<br>Pittsburgh Pirates: 0.586<br>Pittsburgh Penguins: 0.4<br>",
          "San Francisco 49ers: 0.875<br>San Francisco Giants: 0.524<br>Oakland Athletics: 0.635<br>",
          "Seattle Seahawks: 0.563<br>Seattle Mariners: 0.475<br>Seattle Supersonics: 0.5<br>",
          "Washington Commanders: 0.625<br>Washington Bullets: 0.366<br>Washington Capitals: 0.45<br>",
          "Atlanta Falcons: 0.625<br>Atlanta Braves: 0.580<br>Atlanta Hawks: 0.463<br>",
          "New England Patriots: 0.375<br>Boston Red Sox: 0.518<br>Boston Celtics: 0.622<br>Boston Bruins: 0.55<br>",
          "Chicago Bears: 0.688<br>Chicago White Sox: 0.537<br>Chicago Cubs: 0.481<br>Chicago Bulls: 0.817<br>Chicago Blackhawks: 0.612<br>",
          "Cleveland Browns: 0.375<br>Cleveland Indians: 0.351<br>Cleveland Cavaliers: 0.695<br>",
          "Detroit Lions: 0.75<br>Detroit Tigers: 0.518<br>Detroit Pistons: 0.585<br>Detroit Red Wings: 0.425<br>",
          "Los Angeles Rams: 0.188<br>Los Angeles Chargers: 0.25<br>Los Angeles Dodgers: 0.574<br>Los Angeles Clippers: 0.549<br>Los Angeles Lakers: 0.524<br>Los Angeles Kings: 0.575<br>",
          "Minnesota Vikings: 0.5<br>Minnesota Twins: 0.586<br>Minnesota Timberwolves: 0.183<br>Minnesota North Stars: 0.337<br>",
          "New York Giants: 0.5<br>New York Jets: 0.5<br>New York Yankees: 0.438<br>New York Mets: 0.478<br>New York Knicks: 0.622<br>New York Rangers: 0.45<br>New York Islanders: 0.312<br>Brooklyn Nets: 0.488<br>New Jersey Devils: 0.4<br>",
          "Philadelphia Eagles: 0.625<br>Philadelphia Phillies: 0.481<br>Philadelphia 76ers: 0.427<br>Philadelphia Flyers: 0.412<br>",
          "Pittsburgh Steelers: 0.438<br>Pittsburgh Pirates: 0.604<br>Pittsburgh Penguins: 0.512<br>",
          "San Francisco 49ers: 0.625<br>San Francisco Giants: 0.462<br>Oakland Athletics: 0.518<br>",
          "Seattle Seahawks: 0.438<br>Seattle Mariners: 0.512<br>Seattle Supersonics: 0.573<br>",
          "Washington Commanders: 0.875<br>Washington Bullets: 0.305<br>Washington Capitals: 0.462<br>",
          "Atlanta Falcons: 0.375<br>Atlanta Braves: 0.604<br>Atlanta Hawks: 0.524<br>",
          "New England Patriots: 0.125<br>Boston Red Sox: 0.450<br>Boston Celtics: 0.585<br>Boston Bruins: 0.45<br>",
          "Chicago Bears: 0.313<br>Chicago White Sox: 0.530<br>Chicago Cubs: 0.481<br>Chicago Bulls: 0.695<br>Chicago Blackhawks: 0.45<br>",
          "Cleveland Browns: 0.438<br>Cleveland Indians: 0.469<br>Cleveland Cavaliers: 0.659<br>",
          "Detroit Lions: 0.313<br>Detroit Tigers: 0.462<br>Detroit Pistons: 0.488<br>Detroit Red Wings: 0.537<br>",
          "Los Angeles Rams: 0.375<br>Los Angeles Chargers: 0.688<br>Los Angeles Dodgers: 0.388<br>Los Angeles Clippers: 0.5<br>Los Angeles Lakers: 0.476<br>Los Angeles Kings: 0.437<br>",
          "Minnesota Vikings: 0.688<br>Minnesota Twins: 0.555<br>Minnesota Timberwolves: 0.232<br>Minnesota North Stars: 0.4<br>",
          "New York Jets: 0.25<br>New York Giants: 0.375<br>New York Yankees: 0.469<br>New York Mets: 0.444<br>New York Knicks: 0.732<br>New York Rangers: 0.625<br>New York Islanders: 0.425<br>Brooklyn Nets: 0.524<br>New Jersey Devils: 0.475<br>",
          "Philadelphia Eagles: 0.688<br>Philadelphia Phillies: 0.432<br>Philadelphia 76ers: 0.317<br>Philadelphia Flyers: 0.4<br>",
          "Pittsburgh Steelers: 0.688<br>Pittsburgh Pirates: 0.592<br>Pittsburgh Penguins: 0.487<br>",
          "San Francisco 49ers: 0.875<br>San Francisco Giants: 0.444<br>Oakland Athletics: 0.592<br>San Jose Sharks: 0.212<br>",
          "Seattle Seahawks: 0.125<br>Seattle Mariners: 0.395<br>Seattle Supersonics: 0.671<br>",
          "Washington Commanders: 0.563<br>Washington Bullets: 0.268<br>Washington Capitals: 0.562<br>",
          "Atlanta Falcons: 0.375<br>Atlanta Braves: 0.641<br>Atlanta Hawks: 0.695<br>",
          "New England Patriots: 0.313<br>Boston Red Sox: 0.493<br>Boston Celtics: 0.39<br>Boston Bruins: 0.607<br>",
          "Chicago Bears: 0.438<br>Chicago White Sox: 0.580<br>Chicago Cubs: 0.518<br>Chicago Bulls: 0.671<br>Chicago Blackhawks: 0.559<br>",
          "Cleveland Browns: 0.438<br>Cleveland Indians: 0.469<br>Cleveland Cavaliers: 0.573<br>",
          "Denver Broncos: 0.563<br>Denver Nuggets: 0.512<br>Colorado Rockies: 0.413<br>",
          "Detroit Lions: 0.625<br>Detroit Tigers: 0.524<br>Detroit Pistons: 0.244<br>Detroit Red Wings: 0.559<br>",
          "Los Angeles Rams: 0.313<br>Los Angeles Chargers: 0.5<br>Los Angeles Dodgers: 0.5<br>Los Angeles Clippers: 0.329<br>Los Angeles Lakers: 0.402<br>Los Angeles Kings: 0.464<br>",
          "Miami Dolphins: 0.563<br>Miami Heat: 0.512<br>Florida Marlins: 0.395<br>",
          "Minnesota Vikings: 0.563<br>Minnesota Twins: 0.438<br>Minnesota Timberwolves: 0.244<br>Minnesota North Stars: 0.428<br>",
          "New York Jets: 0.5<br>New York Giants: 0.688<br>New York Yankees: 0.543<br>New York Mets: 0.364<br>New York Knicks: 0.695<br>New York Islanders: 0.476<br>New York Rangers: 0.404<br>Brooklyn Nets: 0.549<br>New Jersey Devils: 0.476<br>",
          "Philadelphia Eagles: 0.5<br>Philadelphia Phillies: 0.598<br>Philadelphia 76ers: 0.305<br>Philadelphia Flyers: 0.428<br>",
          "Pittsburgh Steelers: 0.563<br>Pittsburgh Pirates: 0.462<br>Pittsburgh Penguins: 0.666<br>",
          "San Francisco 49ers: 0.625<br>San Francisco Giants: 0.635<br>Oakland Athletics: 0.419<br>San Jose Sharks: 0.130<br>",
          "Seattle Seahawks: 0.375<br>Seattle Mariners: 0.506<br>Seattle Supersonics: 0.768<br>",
          "Washington Commanders: 0.25<br>Washington Bullets: 0.293<br>Washington Capitals: 0.511<br>",
          "Atlanta Falcons: 0.438<br>Atlanta Braves: 0.596<br>Atlanta Hawks: 0.512<br>",
          "New England Patriots: 0.625<br>Boston Red Sox: 0.469<br>Boston Celtics: 0.427<br>Boston Bruins: 0.5<br>",
          "Chicago Bears: 0.563<br>Chicago White Sox: 0.592<br>Chicago Cubs: 0.433<br>Chicago Bulls: 0.573<br>Chicago Blackhawks: 0.464<br>",
          "Cleveland Browns: 0.688<br>Cleveland Indians: 0.584<br>Cleveland Cavaliers: 0.524<br>",
          "Denver Broncos: 0.438<br>Denver Nuggets: 0.5<br>Colorado Rockies: 0.452<br>",
          "Dallas Cowboys: 0.75<br>Dallas Mavericks: 0.439<br>Dallas Stars: 0.5<br>",
          "Detroit Lions: 0.563<br>Detroit Tigers: 0.460<br>Detroit Pistons: 0.341<br>Detroit Red Wings: 0.547<br>",
          "Los Angeles Rams: 0.25<br>Los Angeles Chargers: 0.688<br>Los Angeles Dodgers: 0.508<br>Los Angeles Clippers: 0.207<br>Los Angeles Lakers: 0.585<br>Los Angeles Kings: 0.321<br>Mighty Ducks of Anaheim: 0.392<br>",
          "Miami Dolphins: 0.625<br>Miami Heat: 0.39<br>Florida Marlins: 0.443<br>Florida Panthers: 0.392<br>",
          "Minnesota Vikings: 0.625<br>Minnesota Twins: 0.469<br>Minnesota Timberwolves: 0.256<br>",
          "New York Jets: 0.375<br>New York Giants: 0.563<br>New York Yankees: 0.619<br>New York Mets: 0.486<br>New York Knicks: 0.671<br>New York Rangers: 0.619<br>New York Islanders: 0.428<br>Brooklyn Nets: 0.366<br>New Jersey Devils: 0.559<br>",
          "Philadelphia Eagles: 0.438<br>Philadelphia Phillies: 0.469<br>Philadelphia 76ers: 0.293<br>Philadelphia Flyers: 0.416<br>",
          "Pittsburgh Steelers: 0.75<br>Pittsburgh Pirates: 0.464<br>Pittsburgh Penguins: 0.523<br>",
          "San Francisco 49ers: 0.813<br>San Francisco Giants: 0.478<br>Oakland Athletics: 0.447<br>San Jose Sharks: 0.392<br>",
          "Seattle Seahawks: 0.375<br>Seattle Mariners: 0.437<br>Seattle Supersonics: 0.695<br>",
          "Washington Commanders: 0.188<br>Washington Bullets: 0.256<br>Washington Capitals: 0.464<br>",
          "Atlanta Falcons: 0.563<br>Atlanta Braves: 0.625<br>Atlanta Hawks: 0.561<br>",
          "New England Patriots: 0.375<br>Boston Red Sox: 0.597<br>Boston Celtics: 0.402<br>Boston Bruins: 0.562<br>",
          "Chicago Bears: 0.563<br>Chicago White Sox: 0.472<br>Chicago Cubs: 0.506<br>Chicago Bulls: 0.878<br>Chicago Blackhawks: 0.5<br>",
          "Cleveland Browns: 0.313<br>Cleveland Indians: 0.694<br>Cleveland Cavaliers: 0.573<br>",
          "Denver Broncos: 0.5<br>Denver Nuggets: 0.427<br>Colorado Rockies: 0.534<br>",
          "Dallas Cowboys: 0.75<br>Dallas Mavericks: 0.317<br>Dallas Stars: 0.354<br>",
          "Detroit Lions: 0.625<br>Detroit Tigers: 0.416<br>Detroit Pistons: 0.561<br>Detroit Red Wings: 0.687<br>",
          "Los Angeles Rams: 0.438<br>Los Angeles Chargers: 0.563<br>Los Angeles Dodgers: 0.541<br>Los Angeles Clippers: 0.354<br>Los Angeles Lakers: 0.646<br>Los Angeles Kings: 0.333<br>Mighty Ducks of Anaheim: 0.333<br>",
          "Miami Dolphins: 0.563<br>Miami Heat: 0.512<br>Florida Marlins: 0.468<br>Florida Panthers: 0.416<br>",
          "Minnesota Vikings: 0.5<br>Minnesota Twins: 0.388<br>Minnesota Timberwolves: 0.317<br>",
          "New York Jets: 0.188<br>New York Giants: 0.313<br>New York Yankees: 0.548<br>New York Mets: 0.479<br>New York Knicks: 0.573<br>New York Rangers: 0.458<br>New York Islanders: 0.312<br>Brooklyn Nets: 0.366<br>New Jersey Devils: 0.458<br>",
          "Philadelphia Eagles: 0.625<br>Philadelphia Phillies: 0.479<br>Philadelphia 76ers: 0.22<br>Philadelphia Flyers: 0.583<br>",
          "Pittsburgh Steelers: 0.688<br>Pittsburgh Pirates: 0.402<br>Pittsburgh Penguins: 0.604<br>",
          "San Francisco 49ers: 0.688<br>San Francisco Giants: 0.465<br>Oakland Athletics: 0.465<br>San Jose Sharks: 0.395<br>",
          "Seattle Seahawks: 0.5<br>Seattle Mariners: 0.544<br>Seattle Supersonics: 0.78<br>",
          "Toronto Blue Jays: 0.388<br>Toronto Raptors: 0.256<br>Toronto Maple Leafs: 0.437<br>",
          "Washington Commanders: 0.375<br>Washington Bullets: 0.476<br>Washington Capitals: 0.458<br>",
          "Atlanta Falcons: 0.188<br>Atlanta Braves: 0.592<br>Atlanta Hawks: 0.683<br>",
          "New England Patriots: 0.688<br>Boston Red Sox: 0.524<br>Boston Celtics: 0.183<br>Boston Bruins: 0.487<br>",
          "Chicago Bears: 0.438<br>Chicago White Sox: 0.524<br>Chicago Cubs: 0.469<br>Chicago Bulls: 0.841<br>Chicago Blackhawks: 0.487<br>",
          "Denver Broncos: 0.813<br>Denver Nuggets: 0.256<br>Colorado Rockies: 0.512<br>Colorado Avalanche: 0.573<br>",
          "Dallas Cowboys: 0.625<br>Dallas Mavericks: 0.293<br>Dallas Stars: 0.317<br>",
          "Detroit Lions: 0.313<br>Detroit Tigers: 0.327<br>Detroit Pistons: 0.659<br>Detroit Red Wings: 0.756<br>",
          "Los Angeles Rams: 0.375<br>Los Angeles Chargers: 0.5<br>Los Angeles Dodgers: 0.555<br>Los Angeles Clippers: 0.439<br>Los Angeles Lakers: 0.683<br>Los Angeles Kings: 0.292<br>Mighty Ducks of Anaheim: 0.426<br>",
          "Miami Dolphins: 0.5<br>Miami Heat: 0.744<br>Florida Marlins: 0.493<br>Florida Panthers: 0.5<br>",
          "Minnesota Vikings: 0.563<br>Minnesota Twins: 0.481<br>Minnesota Timberwolves: 0.488<br>",
          "New York Jets: 0.063<br>New York Giants: 0.375<br>New York Yankees: 0.567<br>New York Mets: 0.438<br>New York Knicks: 0.695<br>New York Rangers: 0.5<br>New York Islanders: 0.268<br>Brooklyn Nets: 0.317<br>New Jersey Devils: 0.451<br>",
          "Philadelphia Eagles: 0.625<br>Philadelphia Phillies: 0.413<br>Philadelphia 76ers: 0.268<br>Philadelphia Flyers: 0.548<br>",
          "Pittsburgh Steelers: 0.625<br>Pittsburgh Pirates: 0.450<br>Pittsburgh Penguins: 0.597<br>",
          "San Francisco 49ers: 0.75<br>San Francisco Giants: 0.419<br>Oakland Athletics: 0.481<br>San Jose Sharks: 0.243<br>",
          "Seattle Seahawks: 0.438<br>Seattle Mariners: 0.527<br>Seattle Supersonics: 0.695<br>",
          "Toronto Blue Jays: 0.456<br>Toronto Raptors: 0.366<br>Toronto Maple Leafs: 0.414<br>",
          "Washington Commanders: 0.563<br>Washington Bullets: 0.537<br>Washington Capitals: 0.475<br>",
          "Arizona Cardinals: 0.25<br>Phoenix Suns: 0.683<br>Phoenix Coyotes: 0.463<br>",
          "Atlanta Falcons: 0.438<br>Atlanta Braves: 0.623<br>Atlanta Hawks: 0.61<br>",
          "New England Patriots: 0.625<br>Boston Red Sox: 0.481<br>Boston Celtics: 0.439<br>Boston Bruins: 0.317<br>",
          "Chicago Bears: 0.25<br>Chicago White Sox: 0.496<br>Chicago Cubs: 0.419<br>Chicago Bulls: 0.756<br>Chicago Blackhawks: 0.414<br>",
          "Denver Broncos: 0.75<br>Denver Nuggets: 0.134<br>Colorado Rockies: 0.512<br>Colorado Avalanche: 0.597<br>",
          "Dallas Cowboys: 0.375<br>Dallas Mavericks: 0.244<br>Dallas Stars: 0.585<br>",
          "Detroit Lions: 0.563<br>Detroit Tigers: 0.487<br>Detroit Pistons: 0.451<br>Detroit Red Wings: 0.463<br>",
          "Los Angeles Chargers: 0.25<br>Los Angeles Rams: 0.313<br>Los Angeles Dodgers: 0.543<br>Los Angeles Clippers: 0.207<br>Los Angeles Lakers: 0.744<br>Los Angeles Kings: 0.341<br>Anaheim Angels: 0.518<br>Mighty Ducks of Anaheim: 0.439<br>",
          "Miami Dolphins: 0.563<br>Miami Heat: 0.671<br>Florida Marlins: 0.567<br>Florida Panthers: 0.426<br>",
          "Minnesota Vikings: 0.563<br>Minnesota Twins: 0.419<br>Minnesota Timberwolves: 0.549<br>",
          "New York Jets: 0.563<br>New York Giants: 0.656<br>New York Yankees: 0.592<br>New York Mets: 0.543<br>New York Knicks: 0.524<br>New York Rangers: 0.463<br>New York Islanders: 0.353<br>Brooklyn Nets: 0.524<br>New Jersey Devils: 0.548<br>",
          "Philadelphia Eagles: 0.406<br>Philadelphia Phillies: 0.419<br>Philadelphia 76ers: 0.378<br>Philadelphia Flyers: 0.548<br>",
          "Pittsburgh Steelers: 0.688<br>Pittsburgh Pirates: 0.487<br>Pittsburgh Penguins: 0.463<br>",
          "San Francisco 49ers: 0.813<br>San Francisco Giants: 0.555<br>Oakland Athletics: 0.401<br>San Jose Sharks: 0.329<br>",
          "Seattle Seahawks: 0.5<br>Seattle Mariners: 0.555<br>Seattle Supersonics: 0.744<br>",
          "Toronto Blue Jays: 0.469<br>Toronto Raptors: 0.195<br>Toronto Maple Leafs: 0.365<br>",
          "Washington Commanders: 0.531<br>Washington Wizards: 0.512<br>Washington Capitals: 0.402<br>",
          "Arizona Cardinals: 0.563<br>Arizona Diamondbacks: 0.401<br>Phoenix Suns: 0.54<br>Phoenix Coyotes: 0.426<br>",
          "Atlanta Falcons: 0.875<br>Atlanta Braves: 0.654<br>Atlanta Hawks: 0.62<br>",
          "New England Patriots: 0.563<br>Boston Red Sox: 0.567<br>Boston Celtics: 0.38<br>Boston Bruins: 0.475<br>",
          "Chicago Bears: 0.25<br>Chicago White Sox: 0.493<br>Chicago Cubs: 0.552<br>Chicago Bulls: 0.26<br>Chicago Blackhawks: 0.365<br>",
          "Denver Broncos: 0.875<br>Denver Nuggets: 0.28<br>Colorado Rockies: 0.475<br>Colorado Avalanche: 0.475<br>",
          "Dallas Cowboys: 0.625<br>Dallas Mavericks: 0.38<br>Dallas Stars: 0.597<br>",
          "Detroit Lions: 0.313<br>Detroit Tigers: 0.401<br>Detroit Pistons: 0.58<br>Detroit Red Wings: 0.536<br>",
          "Los Angeles Rams: 0.25<br>Los Angeles Chargers: 0.313<br>Los Angeles Dodgers: 0.512<br>Los Angeles Clippers: 0.18<br>Los Angeles Lakers: 0.62<br>Los Angeles Kings: 0.463<br>Anaheim Angels: 0.524<br>Mighty Ducks of Anaheim: 0.317<br>",
          "Miami Dolphins: 0.625<br>Miami Heat: 0.66<br>Florida Marlins: 0.333<br>Florida Panthers: 0.292<br>",
          "Minnesota Vikings: 0.938<br>Minnesota Twins: 0.432<br>Minnesota Timberwolves: 0.5<br>",
          "New York Giants: 0.5<br>New York Jets: 0.75<br>New York Yankees: 0.703<br>New York Mets: 0.543<br>New York Knicks: 0.54<br>New York Islanders: 0.365<br>New York Rangers: 0.304<br>Brooklyn Nets: 0.32<br>New Jersey Devils: 0.585<br>",
          "Philadelphia Eagles: 0.188<br>Philadelphia Phillies: 0.462<br>Philadelphia 76ers: 0.56<br>Philadelphia Flyers: 0.512<br>",
          "Pittsburgh Steelers: 0.438<br>Pittsburgh Pirates: 0.425<br>Pittsburgh Penguins: 0.487<br>",
          "San Francisco 49ers: 0.75<br>San Francisco Giants: 0.546<br>Oakland Athletics: 0.456<br>San Jose Sharks: 0.414<br>",
          "Seattle Seahawks: 0.5<br>Seattle Mariners: 0.472<br>Seattle Supersonics: 0.5<br>",
          "Tampa Bay Buccaneers: 0.5<br>Tampa Bay Devil Rays: 0.388<br>Tampa Bay Lightning: 0.207<br>",
          "Toronto Blue Jays: 0.543<br>Toronto Raptors: 0.46<br>Toronto Maple Leafs: 0.365<br>",
          "Washington Commanders: 0.375<br>Washington Wizards: 0.36<br>Washington Capitals: 0.487<br>",
          "Arizona Cardinals: 0.375<br>Arizona Diamondbacks: 0.617<br>Phoenix Suns: 0.646<br>Phoenix Coyotes: 0.475<br>",
          "Atlanta Falcons: 0.313<br>Atlanta Braves: 0.635<br>Atlanta Hawks: 0.341<br>",
          "New England Patriots: 0.5<br>Boston Red Sox: 0.580<br>Boston Celtics: 0.427<br>Boston Bruins: 0.475<br>",
          "Chicago Bears: 0.375<br>Chicago White Sox: 0.465<br>Chicago Cubs: 0.413<br>Chicago Bulls: 0.207<br>Chicago Blackhawks: 0.353<br>",
          "Cleveland Browns: 0.125<br>Cleveland Indians: 0.598<br>Cleveland Cavaliers: 0.39<br>",
          "Denver Broncos: 0.375<br>Denver Nuggets: 0.427<br>Colorado Rockies: 0.444<br>Colorado Avalanche: 0.536<br>",
          "Dallas Cowboys: 0.5<br>Dallas Mavericks: 0.488<br>Dallas Stars: 0.621<br>",
          "Detroit Lions: 0.5<br>Detroit Tigers: 0.428<br>Detroit Pistons: 0.512<br>Detroit Red Wings: 0.524<br>",
          "Los Angeles Chargers: 0.5<br>Los Angeles Rams: 0.813<br>Los Angeles Dodgers: 0.475<br>Los Angeles Clippers: 0.183<br>Los Angeles Lakers: 0.817<br>Los Angeles Kings: 0.390<br>Anaheim Angels: 0.432<br>Mighty Ducks of Anaheim: 0.426<br>",
          "Miami Dolphins: 0.563<br>Miami Heat: 0.634<br>Florida Marlins: 0.395<br>Florida Panthers: 0.365<br>",
          "Minnesota Vikings: 0.625<br>Minnesota Twins: 0.393<br>Minnesota Timberwolves: 0.61<br>",
          "New York Giants: 0.438<br>New York Jets: 0.5<br>New York Yankees: 0.604<br>New York Mets: 0.595<br>New York Knicks: 0.61<br>New York Rangers: 0.402<br>New York Islanders: 0.292<br>Brooklyn Nets: 0.378<br>New Jersey Devils: 0.573<br>",
          "Philadelphia Eagles: 0.313<br>Philadelphia Phillies: 0.475<br>Philadelphia 76ers: 0.598<br>Philadelphia Flyers: 0.451<br>",
          "Pittsburgh Steelers: 0.375<br>Pittsburgh Pirates: 0.484<br>Pittsburgh Penguins: 0.463<br>",
          "San Francisco 49ers: 0.25<br>San Francisco Giants: 0.530<br>Oakland Athletics: 0.537<br>San Jose Sharks: 0.378<br>",
          "Seattle Seahawks: 0.563<br>Seattle Mariners: 0.487<br>Seattle Supersonics: 0.549<br>",
          "Tampa Bay Buccaneers: 0.688<br>Tampa Bay Devil Rays: 0.425<br>Tampa Bay Lightning: 0.231<br>",
          "Toronto Blue Jays: 0.518<br>Toronto Raptors: 0.549<br>Toronto Maple Leafs: 0.548<br>",
          "Washington Commanders: 0.625<br>Washington Wizards: 0.354<br>Washington Capitals: 0.378<br>",
          "Arizona Cardinals: 0.188<br>Arizona Diamondbacks: 0.524<br>Phoenix Suns: 0.622<br>Phoenix Coyotes: 0.475<br>",
          "Atlanta Falcons: 0.25<br>Atlanta Braves: 0.586<br>Atlanta Hawks: 0.305<br>Atlanta Thrashers: 0.170<br>",
          "New England Patriots: 0.313<br>Boston Red Sox: 0.524<br>Boston Celtics: 0.439<br>Boston Bruins: 0.292<br>",
          "Chicago Bears: 0.313<br>Chicago White Sox: 0.586<br>Chicago Cubs: 0.401<br>Chicago Bulls: 0.183<br>Chicago Blackhawks: 0.402<br>",
          "Cleveland Browns: 0.188<br>Cleveland Indians: 0.555<br>Cleveland Cavaliers: 0.366<br>",
          "Denver Broncos: 0.688<br>Denver Nuggets: 0.488<br>Colorado Rockies: 0.506<br>Colorado Avalanche: 0.512<br>",
          "Dallas Cowboys: 0.313<br>Dallas Mavericks: 0.646<br>Dallas Stars: 0.524<br>",
          "Detroit Lions: 0.563<br>Detroit Tigers: 0.487<br>Detroit Pistons: 0.39<br>Detroit Red Wings: 0.585<br>",
          "Los Angeles Chargers: 0.063<br>Los Angeles Rams: 0.625<br>Los Angeles Dodgers: 0.530<br>Los Angeles Clippers: 0.378<br>Los Angeles Lakers: 0.683<br>Los Angeles Kings: 0.475<br>Anaheim Angels: 0.506<br>Mighty Ducks of Anaheim: 0.414<br>",
          "Miami Dolphins: 0.688<br>Miami Heat: 0.61<br>Florida Marlins: 0.490<br>Florida Panthers: 0.524<br>",
          "Minnesota Vikings: 0.688<br>Minnesota Twins: 0.425<br>Minnesota Timberwolves: 0.573<br>",
          "New York Jets: 0.563<br>New York Giants: 0.75<br>New York Yankees: 0.540<br>New York Mets: 0.580<br>New York Knicks: 0.39<br>New York Knicks: 0.585<br>New York Rangers: 0.353<br>New York Islanders: 0.292<br>Brooklyn Nets: 0.317<br>New Jersey Devils: 0.548<br>",
          "Philadelphia Eagles: 0.688<br>Philadelphia Phillies: 0.401<br>Philadelphia 76ers: 0.683<br>Philadelphia Flyers: 0.548<br>",
          "Pittsburgh Steelers: 0.563<br>Pittsburgh Pirates: 0.425<br>Pittsburgh Penguins: 0.451<br>",
          "San Francisco 49ers: 0.375<br>San Francisco Giants: 0.598<br>Oakland Athletics: 0.565<br>San Jose Sharks: 0.426<br>",
          "Seattle Seahawks: 0.375<br>Seattle Mariners: 0.561<br>Seattle Supersonics: 0.537<br>",
          "Tampa Bay Buccaneers: 0.625<br>Tampa Bay Devil Rays: 0.428<br>Tampa Bay Lightning: 0.231<br>",
          "Toronto Blue Jays: 0.512<br>Toronto Raptors: 0.573<br>Toronto Maple Leafs: 0.548<br>",
          "Washington Commanders: 0.5<br>Washington Wizards: 0.232<br>Washington Capitals: 0.536<br>",
          "Arizona Cardinals: 0.438<br>Arizona Diamondbacks: 0.567<br>Phoenix Suns: 0.439<br>Phoenix Coyotes: 0.426<br>",
          "Atlanta Falcons: 0.438<br>Atlanta Braves: 0.543<br>Atlanta Hawks: 0.402<br>Atlanta Thrashers: 0.280<br>",
          "New England Patriots: 0.688<br>Boston Red Sox: 0.509<br>Boston Celtics: 0.598<br>Boston Bruins: 0.439<br>",
          "Chicago Bears: 0.813<br>Chicago White Sox: 0.512<br>Chicago Cubs: 0.543<br>Chicago Bulls: 0.256<br>Chicago Blackhawks: 0.353<br>",
          "Cleveland Browns: 0.438<br>Cleveland Indians: 0.561<br>Cleveland Cavaliers: 0.354<br>",
          "Denver Broncos: 0.5<br>Denver Nuggets: 0.329<br>Colorado Rockies: 0.450<br>Colorado Avalanche: 0.634<br>",
          "Dallas Cowboys: 0.313<br>Dallas Mavericks: 0.695<br>Dallas Stars: 0.585<br>",
          "Detroit Lions: 0.125<br>Detroit Tigers: 0.407<br>Detroit Pistons: 0.61<br>Detroit Red Wings: 0.597<br>",
          "Los Angeles Chargers: 0.313<br>Los Angeles Rams: 0.875<br>Los Angeles Dodgers: 0.530<br>Los Angeles Clippers: 0.476<br>Los Angeles Lakers: 0.707<br>Los Angeles Kings: 0.463<br>Anaheim Angels: 0.462<br>Mighty Ducks of Anaheim: 0.304<br>",
          "Miami Dolphins: 0.688<br>Miami Heat: 0.439<br>Florida Marlins: 0.469<br>Florida Panthers: 0.268<br>",
          "Minnesota Vikings: 0.313<br>Minnesota Twins: 0.524<br>Minnesota Timberwolves: 0.61<br>Minnesota Wild: 0.304<br>",
          "New York Giants: 0.438<br>New York Jets: 0.625<br>New York Yankees: 0.593<br>New York Mets: 0.506<br>New York Knicks: 0.422<br>New York Knicks: 0.366<br>New York Rangers: 0.402<br>New York Islanders: 0.256<br>Brooklyn Nets: 0.634<br>New Jersey Devils: 0.585<br>",
          "Philadelphia Eagles: 0.688<br>Philadelphia Phillies: 0.530<br>Philadelphia 76ers: 0.524<br>Philadelphia Flyers: 0.524<br>",
          "Pittsburgh Steelers: 0.813<br>Pittsburgh Pirates: 0.382<br>Pittsburgh Penguins: 0.512<br>",
          "San Francisco 49ers: 0.75<br>San Francisco Giants: 0.555<br>Oakland Athletics: 0.629<br>San Jose Sharks: 0.487<br>",
          "Seattle Seahawks: 0.563<br>Seattle Mariners: 0.716<br>Seattle Supersonics: 0.549<br>",
          "Tampa Bay Buccaneers: 0.563<br>Tampa Bay Devil Rays: 0.382<br>Tampa Bay Lightning: 0.292<br>",
          "Toronto Blue Jays: 0.493<br>Toronto Raptors: 0.512<br>Toronto Maple Leafs: 0.451<br>",
          "Washington Commanders: 0.5<br>Washington Wizards: 0.451<br>Washington Capitals: 0.5<br>",
          "Arizona Cardinals: 0.313<br>Arizona Diamondbacks: 0.604<br>Phoenix Suns: 0.537<br>Phoenix Coyotes: 0.487<br>",
          "Atlanta Falcons: 0.594<br>Atlanta Braves: 0.631<br>Atlanta Hawks: 0.427<br>Atlanta Thrashers: 0.231<br>",
          "New England Patriots: 0.563<br>Boston Red Sox: 0.574<br>Boston Celtics: 0.537<br>Boston Bruins: 0.524<br>",
          "Chicago Bears: 0.25<br>Chicago White Sox: 0.5<br>Chicago Cubs: 0.413<br>Chicago Bulls: 0.366<br>Chicago Blackhawks: 0.5<br>",
          "Cleveland Browns: 0.563<br>Cleveland Indians: 0.456<br>Cleveland Cavaliers: 0.207<br>",
          "Denver Broncos: 0.563<br>Denver Nuggets: 0.207<br>Colorado Rockies: 0.450<br>Colorado Avalanche: 0.548<br>",
          "Dallas Cowboys: 0.313<br>Dallas Mavericks: 0.732<br>Dallas Stars: 0.439<br>",
          "Detroit Lions: 0.188<br>Detroit Tigers: 0.341<br>Detroit Pistons: 0.61<br>Detroit Red Wings: 0.621<br>",
          "Houston Texans: 0.25<br>Houston Astros: 0.518<br>Houston Rockets: 0.524<br>",
          "Los Angeles Rams: 0.438<br>Los Angeles Chargers: 0.5<br>Los Angeles Dodgers: 0.567<br>Los Angeles Clippers: 0.329<br>Los Angeles Lakers: 0.61<br>Los Angeles Kings: 0.487<br>Anaheim Angels: 0.611<br>Mighty Ducks of Anaheim: 0.353<br>",
          "Miami Dolphins: 0.563<br>Miami Heat: 0.305<br>Florida Marlins: 0.487<br>Florida Panthers: 0.268<br>",
          "Minnesota Vikings: 0.375<br>Minnesota Twins: 0.583<br>Minnesota Timberwolves: 0.622<br>Minnesota Wild: 0.317<br>",
          "New York Jets: 0.563<br>New York Giants: 0.625<br>New York Yankees: 0.639<br>New York Mets: 0.465<br>New York Knicks: 0.451<br>New York Islanders: 0.512<br>New York Rangers: 0.439<br>Brooklyn Nets: 0.598<br>New Jersey Devils: 0.5<br>",
          "Philadelphia Eagles: 0.75<br>Philadelphia Phillies: 0.496<br>Philadelphia 76ers: 0.585<br>Philadelphia Flyers: 0.512<br>",
          "Pittsburgh Steelers: 0.656<br>Pittsburgh Pirates: 0.447<br>Pittsburgh Penguins: 0.341<br>",
          "San Francisco 49ers: 0.625<br>San Francisco Giants: 0.590<br>Oakland Athletics: 0.635<br>San Jose Sharks: 0.536<br>",
          "Seattle Seahawks: 0.438<br>Seattle Mariners: 0.574<br>Seattle Supersonics: 0.488<br>",
          "Tampa Bay Buccaneers: 0.75<br>Tampa Bay Devil Rays: 0.341<br>Tampa Bay Lightning: 0.329<br>",
          "Toronto Blue Jays: 0.481<br>Toronto Raptors: 0.293<br>Toronto Maple Leafs: 0.524<br>",
          "Washington Commanders: 0.438<br>Washington Wizards: 0.451<br>Washington Capitals: 0.439<br>",
          "Arizona Cardinals: 0.25<br>Arizona Diamondbacks: 0.518<br>Phoenix Suns: 0.354<br>Phoenix Coyotes: 0.378<br>",
          "Atlanta Falcons: 0.313<br>Atlanta Braves: 0.623<br>Atlanta Hawks: 0.341<br>Atlanta Thrashers: 0.378<br>",
          "New England Patriots: 0.875<br>Boston Red Sox: 0.586<br>Boston Celtics: 0.439<br>Boston Bruins: 0.439<br>",
          "Chicago Bears: 0.438<br>Chicago White Sox: 0.530<br>Chicago Cubs: 0.543<br>Chicago Bulls: 0.28<br>Chicago Blackhawks: 0.365<br>",
          "Cleveland Browns: 0.313<br>Cleveland Indians: 0.419<br>Cleveland Cavaliers: 0.427<br>",
          "Denver Broncos: 0.625<br>Denver Nuggets: 0.524<br>Colorado Rockies: 0.456<br>Colorado Avalanche: 0.512<br>",
          "Dallas Cowboys: 0.625<br>Dallas Mavericks: 0.634<br>Dallas Stars: 0.560<br>",
          "Detroit Lions: 0.313<br>Detroit Tigers: 0.265<br>Detroit Pistons: 0.659<br>Detroit Red Wings: 0.585<br>",
          "Houston Texans: 0.313<br>Houston Astros: 0.537<br>Houston Rockets: 0.549<br>",
          "Los Angeles Chargers: 0.25<br>Los Angeles Rams: 0.75<br>Los Angeles Dodgers: 0.524<br>Los Angeles Clippers: 0.341<br>Los Angeles Lakers: 0.683<br>Los Angeles Kings: 0.402<br>Anaheim Angels: 0.475<br>Mighty Ducks of Anaheim: 0.487<br>",
          "Miami Dolphins: 0.625<br>Miami Heat: 0.512<br>Florida Marlins: 0.561<br>Florida Panthers: 0.292<br>",
          "Minnesota Vikings: 0.563<br>Minnesota Twins: 0.555<br>Minnesota Timberwolves: 0.707<br>Minnesota Wild: 0.512<br>",
          "New York Giants: 0.25<br>New York Jets: 0.375<br>New York Yankees: 0.623<br>New York Mets: 0.409<br>New York Knicks: 0.476<br>New York Islanders: 0.426<br>New York Rangers: 0.390<br>Brooklyn Nets: 0.573<br>New Jersey Devils: 0.560<br>",
          "Philadelphia Eagles: 0.75<br>Philadelphia Phillies: 0.530<br>Philadelphia 76ers: 0.402<br>Philadelphia Flyers: 0.548<br>",
          "Pittsburgh Steelers: 0.375<br>Pittsburgh Pirates: 0.462<br>Pittsburgh Penguins: 0.329<br>",
          "San Francisco 49ers: 0.438<br>San Francisco Giants: 0.621<br>Oakland Athletics: 0.592<br>San Jose Sharks: 0.341<br>",
          "Seattle Seahawks: 0.625<br>Seattle Mariners: 0.574<br>Seattle Supersonics: 0.451<br>",
          "Tampa Bay Buccaneers: 0.438<br>Tampa Bay Devil Rays: 0.388<br>Tampa Bay Lightning: 0.439<br>",
          "Toronto Blue Jays: 0.530<br>Toronto Raptors: 0.402<br>Toronto Maple Leafs: 0.536<br>",
          "Washington Commanders: 0.313<br>Washington Wizards: 0.305<br>Washington Capitals: 0.475<br>",
          "Arizona Cardinals: 0.375<br>Arizona Diamondbacks: 0.314<br>Phoenix Suns: 0.756<br>Phoenix Coyotes: 0.268<br>",
          "Atlanta Falcons: 0.688<br>Atlanta Braves: 0.592<br>Atlanta Hawks: 0.159<br>Atlanta Thrashers: 0.402<br>",
          "New England Patriots: 0.875<br>Boston Red Sox: 0.604<br>Boston Celtics: 0.549<br>Boston Bruins: 0.5<br>",
          "Chicago Bears: 0.313<br>Chicago White Sox: 0.512<br>Chicago Cubs: 0.549<br>Chicago Bulls: 0.573<br>Chicago Blackhawks: 0.243<br>",
          "Cleveland Browns: 0.25<br>Cleveland Indians: 0.493<br>Cleveland Cavaliers: 0.512<br>",
          "Denver Broncos: 0.625<br>Denver Nuggets: 0.598<br>Colorado Rockies: 0.419<br>Colorado Avalanche: 0.487<br>",
          "Dallas Cowboys: 0.375<br>Dallas Mavericks: 0.707<br>Dallas Stars: 0.5<br>",
          "Detroit Lions: 0.375<br>Detroit Tigers: 0.444<br>Detroit Pistons: 0.659<br>Detroit Red Wings: 0.585<br>",
          "Houston Texans: 0.438<br>Houston Astros: 0.567<br>Houston Rockets: 0.622<br>",
          "Los Angeles Rams: 0.5<br>Los Angeles Chargers: 0.75<br>Los Angeles Dodgers: 0.574<br>Los Angeles Clippers: 0.451<br>Los Angeles Lakers: 0.415<br>Los Angeles Kings: 0.341<br>Anaheim Angels: 0.567<br>Mighty Ducks of Anaheim: 0.353<br>",
          "Miami Dolphins: 0.25<br>Miami Heat: 0.72<br>Florida Marlins: 0.512<br>Florida Panthers: 0.341<br>",
          "Minnesota Vikings: 0.5<br>Minnesota Twins: 0.567<br>Minnesota Timberwolves: 0.537<br>Minnesota Wild: 0.365<br>",
          "New York Giants: 0.375<br>New York Jets: 0.625<br>New York Yankees: 0.623<br>New York Mets: 0.438<br>New York Knicks: 0.402<br>New York Islanders: 0.463<br>New York Rangers: 0.329<br>Brooklyn Nets: 0.512<br>New Jersey Devils: 0.524<br>",
          "Philadelphia Eagles: 0.813<br>Philadelphia Phillies: 0.530<br>Philadelphia 76ers: 0.524<br>Philadelphia Flyers: 0.487<br>",
          "Pittsburgh Steelers: 0.938<br>Pittsburgh Pirates: 0.447<br>Pittsburgh Penguins: 0.280<br>",
          "San Francisco 49ers: 0.125<br>San Francisco Giants: 0.561<br>Oakland Athletics: 0.561<br>San Jose Sharks: 0.524<br>",
          "Seattle Seahawks: 0.563<br>Seattle Mariners: 0.388<br>Seattle Supersonics: 0.634<br>",
          "Tampa Bay Buccaneers: 0.313<br>Tampa Bay Devil Rays: 0.434<br>Tampa Bay Lightning: 0.560<br>",
          "Toronto Blue Jays: 0.416<br>Toronto Raptors: 0.402<br>Toronto Maple Leafs: 0.548<br>",
          "Washington Commanders: 0.375<br>Washington Wizards: 0.549<br>Washington Capitals: 0.280<br>",
          "Arizona Cardinals: 0.313<br>Arizona Diamondbacks: 0.475<br>Phoenix Suns: 0.659<br>",
          "Atlanta Falcons: 0.5<br>Atlanta Braves: 0.555<br>Atlanta Hawks: 0.317<br>",
          "New England Patriots: 0.625<br>Boston Red Sox: 0.586<br>Boston Celtics: 0.402<br>",
          "Chicago Bears: 0.688<br>Chicago White Sox: 0.611<br>Chicago Cubs: 0.487<br>Chicago Bulls: 0.5<br>",
          "Cleveland Browns: 0.375<br>Cleveland Indians: 0.574<br>Cleveland Cavaliers: 0.61<br>",
          "Denver Broncos: 0.813<br>Denver Nuggets: 0.537<br>Colorado Rockies: 0.413<br>",
          "Detroit Lions: 0.313<br>Detroit Tigers: 0.438<br>Detroit Pistons: 0.78<br>",
          "Houston Texans: 0.125<br>Houston Astros: 0.549<br>Houston Rockets: 0.415<br>",
          "Los Angeles Rams: 0.375<br>Los Angeles Chargers: 0.563<br>Los Angeles Angels of Anaheim: 0.586<br>Los Angeles Dodgers: 0.438<br>Los Angeles Clippers: 0.573<br>Los Angeles Lakers: 0.549<br>",
          "Miami Dolphins: 0.563<br>Miami Heat: 0.634<br>Florida Marlins: 0.512<br>",
          "Minnesota Vikings: 0.563<br>Minnesota Twins: 0.512<br>Minnesota Timberwolves: 0.402<br>",
          "New York Jets: 0.25<br>New York Giants: 0.688<br>New York Yankees: 0.586<br>New York Mets: 0.512<br>New York Knicks: 0.28<br>Brooklyn Nets: 0.598<br>",
          "Philadelphia Eagles: 0.375<br>Philadelphia Phillies: 0.543<br>Philadelphia 76ers: 0.463<br>",
          "San Francisco 49ers: 0.25<br>San Francisco Giants: 0.462<br>Oakland Athletics: 0.543<br>",
          "Seattle Seahawks: 0.813<br>Seattle Mariners: 0.425<br>Seattle Supersonics: 0.427<br>",
          "Washington Commanders: 0.625<br>Washington Nationals: 0.5<br>Washington Wizards: 0.512<br>",
          "Arizona Cardinals: 0.313<br>Arizona Diamondbacks: 0.469<br>Phoenix Suns: 0.744<br>Phoenix Coyotes: 0.463<br>",
          "Atlanta Falcons: 0.438<br>Atlanta Braves: 0.487<br>Atlanta Hawks: 0.366<br>Atlanta Thrashers: 0.5<br>",
          "New England Patriots: 0.75<br>Boston Red Sox: 0.530<br>Boston Celtics: 0.293<br>Boston Bruins: 0.353<br>",
          "Chicago Bears: 0.813<br>Chicago White Sox: 0.555<br>Chicago Cubs: 0.407<br>Chicago Bulls: 0.598<br>Chicago Blackhawks: 0.317<br>",
          "Cleveland Browns: 0.25<br>Cleveland Indians: 0.481<br>Cleveland Cavaliers: 0.61<br>",
          "Denver Broncos: 0.563<br>Denver Nuggets: 0.549<br>Colorado Rockies: 0.469<br>Colorado Avalanche: 0.524<br>",
          "Dallas Cowboys: 0.563<br>Dallas Mavericks: 0.817<br>Dallas Stars: 0.646<br>",
          "Detroit Lions: 0.188<br>Detroit Tigers: 0.586<br>Detroit Pistons: 0.646<br>Detroit Red Wings: 0.707<br>",
          "Houston Texans: 0.375<br>Houston Astros: 0.506<br>Houston Rockets: 0.634<br>",
          "Los Angeles Rams: 0.5<br>Los Angeles Chargers: 0.875<br>Los Angeles Angels of Anaheim: 0.549<br>Los Angeles Dodgers: 0.543<br>Los Angeles Clippers: 0.488<br>Los Angeles Lakers: 0.512<br>Los Angeles Kings: 0.512<br>Mighty Ducks of Anaheim: 0.524<br>",
          "Miami Dolphins: 0.375<br>Miami Heat: 0.537<br>Florida Marlins: 0.481<br>Florida Panthers: 0.451<br>",
          "Minnesota Vikings: 0.375<br>Minnesota Twins: 0.592<br>Minnesota Timberwolves: 0.39<br>Minnesota Wild: 0.463<br>",
          "New York Giants: 0.5<br>New York Jets: 0.625<br>New York Yankees: 0.598<br>New York Mets: 0.598<br>New York Knicks: 0.402<br>New York Rangers: 0.536<br>New York Islanders: 0.439<br>Brooklyn Nets: 0.5<br>New Jersey Devils: 0.560<br>",
          "Philadelphia Eagles: 0.625<br>Philadelphia Phillies: 0.524<br>Philadelphia 76ers: 0.427<br>Philadelphia Flyers: 0.548<br>",
          "Pittsburgh Steelers: 0.5<br>Pittsburgh Pirates: 0.413<br>Pittsburgh Penguins: 0.268<br>",
          "San Francisco 49ers: 0.438<br>San Francisco Giants: 0.472<br>Oakland Athletics: 0.574<br>San Jose Sharks: 0.536<br>",
          "Seattle Seahawks: 0.563<br>Seattle Mariners: 0.481<br>Seattle Supersonics: 0.378<br>",
          "Tampa Bay Buccaneers: 0.25<br>Tampa Bay Devil Rays: 0.376<br>Tampa Bay Lightning: 0.524<br>",
          "Toronto Blue Jays: 0.537<br>Toronto Raptors: 0.573<br>Toronto Maple Leafs: 0.5<br>",
          "Washington Commanders: 0.313<br>Washington Nationals: 0.438<br>Washington Wizards: 0.5<br>Washington Capitals: 0.353<br>",
          "Arizona Cardinals: 0.5<br>Arizona Diamondbacks: 0.555<br>Phoenix Suns: 0.671<br>Phoenix Coyotes: 0.378<br>",
          "Atlanta Falcons: 0.25<br>Atlanta Braves: 0.518<br>Atlanta Hawks: 0.451<br>Atlanta Thrashers: 0.524<br>",
          "New England Patriots: 1.0<br>Boston Red Sox: 0.592<br>Boston Celtics: 0.805<br>Boston Bruins: 0.426<br>",
          "Chicago Bears: 0.438<br>Chicago White Sox: 0.444<br>Chicago Cubs: 0.524<br>Chicago Bulls: 0.402<br>Chicago Blackhawks: 0.378<br>",
          "Cleveland Browns: 0.625<br>Cleveland Indians: 0.592<br>Cleveland Cavaliers: 0.549<br>",
          "Denver Broncos: 0.438<br>Denver Nuggets: 0.61<br>Colorado Rockies: 0.552<br>Colorado Avalanche: 0.536<br>",
          "Dallas Cowboys: 0.813<br>Dallas Mavericks: 0.622<br>Dallas Stars: 0.609<br>",
          "Detroit Lions: 0.438<br>Detroit Tigers: 0.543<br>Detroit Pistons: 0.72<br>Detroit Red Wings: 0.609<br>",
          "Houston Texans: 0.5<br>Houston Astros: 0.450<br>Houston Rockets: 0.671<br>",
          "Los Angeles Rams: 0.188<br>Los Angeles Chargers: 0.688<br>Los Angeles Angels of Anaheim: 0.580<br>Los Angeles Dodgers: 0.506<br>Los Angeles Clippers: 0.28<br>Los Angeles Lakers: 0.695<br>Los Angeles Kings: 0.329<br>Anaheim Ducks: 0.585<br>",
          "Miami Dolphins: 0.063<br>Miami Heat: 0.183<br>Florida Marlins: 0.438<br>Florida Panthers: 0.426<br>",
          "Minnesota Vikings: 0.5<br>Minnesota Twins: 0.487<br>Minnesota Timberwolves: 0.268<br>Minnesota Wild: 0.585<br>",
          "New York Jets: 0.25<br>New York Giants: 0.625<br>New York Yankees: 0.580<br>New York Mets: 0.543<br>New York Knicks: 0.28<br>New York Rangers: 0.512<br>New York Islanders: 0.487<br>Brooklyn Nets: 0.415<br>New Jersey Devils: 0.597<br>",
          "Philadelphia Eagles: 0.5<br>Philadelphia Phillies: 0.549<br>Philadelphia 76ers: 0.488<br>Philadelphia Flyers: 0.268<br>",
          "Pittsburgh Steelers: 0.625<br>Pittsburgh Pirates: 0.419<br>Pittsburgh Penguins: 0.573<br>",
          "San Francisco 49ers: 0.313<br>San Francisco Giants: 0.438<br>Oakland Athletics: 0.469<br>San Jose Sharks: 0.621<br>",
          "Seattle Seahawks: 0.625<br>Seattle Mariners: 0.543<br>Seattle Supersonics: 0.244<br>",
          "Tampa Bay Buccaneers: 0.563<br>Tampa Bay Devil Rays: 0.407<br>Tampa Bay Lightning: 0.536<br>",
          "Toronto Blue Jays: 0.512<br>Toronto Raptors: 0.5<br>Toronto Maple Leafs: 0.487<br>",
          "Washington Commanders: 0.563<br>Washington Nationals: 0.450<br>Washington Wizards: 0.524<br>Washington Capitals: 0.341<br>",
          "Arizona Cardinals: 0.563<br>Arizona Diamondbacks: 0.506<br>Phoenix Suns: 0.561<br>Phoenix Coyotes: 0.463<br>",
          "Atlanta Falcons: 0.688<br>Atlanta Braves: 0.444<br>Atlanta Hawks: 0.573<br>Atlanta Thrashers: 0.414<br>",
          "New England Patriots: 0.688<br>Boston Red Sox: 0.586<br>Boston Celtics: 0.756<br>Boston Bruins: 0.5<br>",
          "Chicago Bears: 0.563<br>Chicago White Sox: 0.546<br>Chicago Cubs: 0.602<br>Chicago Bulls: 0.5<br>Chicago Blackhawks: 0.487<br>",
          "Cleveland Browns: 0.25<br>Cleveland Indians: 0.5<br>Cleveland Cavaliers: 0.805<br>",
          "Denver Broncos: 0.5<br>Denver Nuggets: 0.659<br>Colorado Rockies: 0.456<br>Colorado Avalanche: 0.536<br>",
          "Dallas Cowboys: 0.563<br>Dallas Mavericks: 0.61<br>Dallas Stars: 0.548<br>",
          "Detroit Lions: 0.0<br>Detroit Tigers: 0.456<br>Detroit Pistons: 0.476<br>Detroit Red Wings: 0.658<br>",
          "Houston Texans: 0.5<br>Houston Astros: 0.534<br>Houston Rockets: 0.646<br>",
          "Los Angeles Rams: 0.125<br>Los Angeles Chargers: 0.5<br>Los Angeles Angels of Anaheim: 0.617<br>Los Angeles Dodgers: 0.518<br>Los Angeles Clippers: 0.232<br>Los Angeles Lakers: 0.793<br>Los Angeles Kings: 0.390<br>Anaheim Ducks: 0.573<br>",
          "Miami Dolphins: 0.688<br>Miami Heat: 0.524<br>Florida Marlins: 0.521<br>Florida Panthers: 0.463<br>",
          "Minnesota Vikings: 0.625<br>Minnesota Twins: 0.539<br>Minnesota Timberwolves: 0.293<br>Minnesota Wild: 0.536<br>",
          "New York Jets: 0.563<br>New York Giants: 0.75<br>New York Yankees: 0.549<br>New York Mets: 0.549<br>New York Knicks: 0.39<br>New York Rangers: 0.512<br>New York Islanders: 0.426<br>Brooklyn Nets: 0.415<br>New Jersey Devils: 0.560<br>",
          "Philadelphia Eagles: 0.594<br>Philadelphia Phillies: 0.567<br>Philadelphia 76ers: 0.5<br>Philadelphia Flyers: 0.512<br>",
          "Pittsburgh Steelers: 0.75<br>Pittsburgh Pirates: 0.413<br>Pittsburgh Penguins: 0.573<br>",
          "San Francisco 49ers: 0.438<br>San Francisco Giants: 0.444<br>Oakland Athletics: 0.465<br>San Jose Sharks: 0.597<br>",
          "Tampa Bay Buccaneers: 0.563<br>Tampa Bay Rays: 0.598<br>Tampa Bay Lightning: 0.378<br>",
          "Toronto Blue Jays: 0.530<br>Toronto Raptors: 0.402<br>Toronto Maple Leafs: 0.439<br>",
          "Washington Commanders: 0.5<br>Washington Nationals: 0.366<br>Washington Wizards: 0.232<br>Washington Capitals: 0.524<br>",
          "Arizona Cardinals: 0.625<br>Arizona Diamondbacks: 0.432<br>Phoenix Suns: 0.659<br>Phoenix Coyotes: 0.439<br>",
          "Atlanta Falcons: 0.563<br>Atlanta Braves: 0.530<br>Atlanta Hawks: 0.646<br>Atlanta Thrashers: 0.426<br>",
          "New England Patriots: 0.625<br>Boston Red Sox: 0.586<br>Boston Celtics: 0.61<br>Boston Bruins: 0.646<br>",
          "Chicago Bears: 0.438<br>Chicago White Sox: 0.487<br>Chicago Cubs: 0.515<br>Chicago Bulls: 0.5<br>Chicago Blackhawks: 0.560<br>",
          "Cleveland Browns: 0.313<br>Cleveland Indians: 0.401<br>Cleveland Cavaliers: 0.744<br>",
          "Denver Broncos: 0.5<br>Denver Nuggets: 0.646<br>Colorado Rockies: 0.567<br>Colorado Avalanche: 0.390<br>",
          "Dallas Cowboys: 0.688<br>Dallas Mavericks: 0.671<br>Dallas Stars: 0.439<br>",
          "Detroit Lions: 0.125<br>Detroit Tigers: 0.527<br>Detroit Pistons: 0.329<br>Detroit Red Wings: 0.621<br>",
          "Houston Texans: 0.563<br>Houston Astros: 0.456<br>Houston Rockets: 0.512<br>",
          "Los Angeles Rams: 0.063<br>Los Angeles Chargers: 0.813<br>Los Angeles Angels of Anaheim: 0.598<br>Los Angeles Dodgers: 0.586<br>Los Angeles Clippers: 0.354<br>Los Angeles Lakers: 0.695<br>Los Angeles Kings: 0.414<br>Anaheim Ducks: 0.512<br>",
          "Miami Dolphins: 0.438<br>Miami Heat: 0.573<br>Florida Marlins: 0.537<br>Florida Panthers: 0.5<br>",
          "Minnesota Vikings: 0.75<br>Minnesota Twins: 0.533<br>Minnesota Timberwolves: 0.183<br>Minnesota Wild: 0.487<br>",
          "New York Giants: 0.5<br>New York Jets: 0.563<br>New York Yankees: 0.635<br>New York Mets: 0.432<br>New York Knicks: 0.354<br>New York Rangers: 0.524<br>New York Islanders: 0.317<br>Brooklyn Nets: 0.146<br>New Jersey Devils: 0.621<br>",
          "Philadelphia Eagles: 0.688<br>Philadelphia Phillies: 0.574<br>Philadelphia 76ers: 0.329<br>Philadelphia Flyers: 0.536<br>",
          "Pittsburgh Steelers: 0.563<br>Pittsburgh Pirates: 0.385<br>Pittsburgh Penguins: 0.548<br>",
          "San Francisco 49ers: 0.5<br>San Francisco Giants: 0.543<br>Oakland Athletics: 0.462<br>San Jose Sharks: 0.646<br>",
          "Tampa Bay Buccaneers: 0.188<br>Tampa Bay Rays: 0.518<br>Tampa Bay Lightning: 0.292<br>",
          "Toronto Blue Jays: 0.462<br>Toronto Raptors: 0.488<br>Toronto Maple Leafs: 0.414<br>",
          "Washington Commanders: 0.25<br>Washington Nationals: 0.364<br>Washington Wizards: 0.317<br>Washington Capitals: 0.609<br>",
          "Arizona Cardinals: 0.313<br>Arizona Diamondbacks: 0.401<br>Phoenix Suns: 0.488<br>Phoenix Coyotes: 0.609<br>",
          "Atlanta Falcons: 0.813<br>Atlanta Braves: 0.561<br>Atlanta Hawks: 0.537<br>Atlanta Thrashers: 0.426<br>",
          "New England Patriots: 0.875<br>Boston Red Sox: 0.549<br>Boston Celtics: 0.683<br>Boston Bruins: 0.475<br>",
          "Chicago Bears: 0.688<br>Chicago White Sox: 0.543<br>Chicago Cubs: 0.462<br>Chicago Bulls: 0.756<br>Chicago Blackhawks: 0.634<br>",
          "Cleveland Browns: 0.313<br>Cleveland Indians: 0.425<br>Cleveland Cavaliers: 0.232<br>",
          "Denver Broncos: 0.25<br>Denver Nuggets: 0.61<br>Colorado Rockies: 0.512<br>Colorado Avalanche: 0.524<br>",
          "Dallas Cowboys: 0.375<br>Dallas Mavericks: 0.695<br>Dallas Stars: 0.451<br>",
          "Detroit Lions: 0.375<br>Detroit Tigers: 0.5<br>Detroit Pistons: 0.366<br>Detroit Red Wings: 0.536<br>",
          "Houston Texans: 0.375<br>Houston Astros: 0.469<br>Houston Rockets: 0.524<br>",
          "Los Angeles Rams: 0.438<br>Los Angeles Chargers: 0.563<br>Los Angeles Angels of Anaheim: 0.493<br>Los Angeles Dodgers: 0.493<br>Los Angeles Clippers: 0.39<br>Los Angeles Lakers: 0.695<br>Los Angeles Kings: 0.560<br>Anaheim Ducks: 0.475<br>",
          "Miami Dolphins: 0.438<br>Miami Heat: 0.707<br>Florida Marlins: 0.493<br>Florida Panthers: 0.390<br>",
          "Minnesota Vikings: 0.375<br>Minnesota Twins: 0.580<br>Minnesota Timberwolves: 0.207<br>Minnesota Wild: 0.463<br>",
          "New York Giants: 0.625<br>New York Jets: 0.688<br>New York Yankees: 0.586<br>New York Mets: 0.487<br>New York Knicks: 0.512<br>New York Rangers: 0.463<br>New York Islanders: 0.414<br>Brooklyn Nets: 0.293<br>New Jersey Devils: 0.585<br>",
          "Philadelphia Eagles: 0.625<br>Philadelphia Phillies: 0.598<br>Philadelphia 76ers: 0.5<br>Philadelphia Flyers: 0.5<br>",
          "Pittsburgh Steelers: 0.75<br>Pittsburgh Pirates: 0.351<br>Pittsburgh Penguins: 0.573<br>",
          "San Francisco 49ers: 0.375<br>San Francisco Giants: 0.567<br>Oakland Athletics: 0.5<br>San Jose Sharks: 0.621<br>",
          "Tampa Bay Buccaneers: 0.625<br>Tampa Bay Rays: 0.592<br>Tampa Bay Lightning: 0.414<br>",
          "Toronto Blue Jays: 0.524<br>Toronto Raptors: 0.268<br>Toronto Maple Leafs: 0.365<br>",
          "Washington Commanders: 0.375<br>Washington Nationals: 0.425<br>Washington Wizards: 0.28<br>Washington Capitals: 0.658<br>",
          "Arizona Cardinals: 0.5<br>Arizona Diamondbacks: 0.580<br>Phoenix Suns: 0.5<br>Phoenix Coyotes: 0.524<br>",
          "Atlanta Falcons: 0.625<br>Atlanta Braves: 0.549<br>Atlanta Hawks: 0.606<br>Atlanta Thrashers: 0.414<br>",
          "New England Patriots: 0.813<br>Boston Red Sox: 0.555<br>Boston Celtics: 0.591<br>Boston Bruins: 0.560<br>",
          "Chicago Bears: 0.5<br>Chicago White Sox: 0.487<br>Chicago Cubs: 0.438<br>Chicago Bulls: 0.758<br>Chicago Blackhawks: 0.536<br>",
          "Cleveland Browns: 0.25<br>Cleveland Indians: 0.493<br>Cleveland Cavaliers: 0.318<br>",
          "Denver Broncos: 0.5<br>Denver Nuggets: 0.576<br>Colorado Rockies: 0.450<br>Colorado Avalanche: 0.365<br>",
          "Dallas Cowboys: 0.5<br>Dallas Mavericks: 0.545<br>Dallas Stars: 0.512<br>",
          "Detroit Lions: 0.625<br>Detroit Tigers: 0.586<br>Detroit Pistons: 0.379<br>Detroit Red Wings: 0.573<br>",
          "Houston Texans: 0.625<br>Houston Astros: 0.345<br>Houston Rockets: 0.515<br>",
          "Los Angeles Rams: 0.125<br>Los Angeles Chargers: 0.5<br>Los Angeles Angels of Anaheim: 0.530<br>Los Angeles Dodgers: 0.509<br>Los Angeles Clippers: 0.606<br>Los Angeles Lakers: 0.621<br>Los Angeles Kings: 0.560<br>Anaheim Ducks: 0.573<br>",
          "Miami Dolphins: 0.375<br>Miami Heat: 0.697<br>Florida Marlins: 0.444<br>Florida Panthers: 0.365<br>",
          "Minnesota Vikings: 0.188<br>Minnesota Twins: 0.388<br>Minnesota Timberwolves: 0.394<br>Minnesota Wild: 0.475<br>",
          "New York Jets: 0.5<br>New York Giants: 0.563<br>New York Yankees: 0.598<br>New York Mets: 0.475<br>New York Knicks: 0.545<br>New York Rangers: 0.536<br>New York Islanders: 0.365<br>Brooklyn Nets: 0.333<br>New Jersey Devils: 0.463<br>",
          "Philadelphia Eagles: 0.5<br>Philadelphia Phillies: 0.629<br>Philadelphia 76ers: 0.53<br>Philadelphia Flyers: 0.573<br>",
          "Pittsburgh Steelers: 0.75<br>Pittsburgh Pirates: 0.444<br>Pittsburgh Penguins: 0.597<br>",
          "San Francisco 49ers: 0.813<br>San Francisco Giants: 0.530<br>Oakland Athletics: 0.456<br>San Jose Sharks: 0.585<br>",
          "Tampa Bay Buccaneers: 0.25<br>Tampa Bay Rays: 0.561<br>Tampa Bay Lightning: 0.560<br>",
          "Toronto Blue Jays: 0.5<br>Toronto Raptors: 0.348<br>Toronto Maple Leafs: 0.451<br>",
          "Washington Commanders: 0.313<br>Washington Nationals: 0.496<br>Washington Wizards: 0.303<br>Washington Capitals: 0.585<br>",
          "Arizona Cardinals: 0.313<br>Arizona Diamondbacks: 0.5<br>Phoenix Suns: 0.305<br>Phoenix Coyotes: 0.512<br>",
          "Atlanta Falcons: 0.813<br>Atlanta Braves: 0.580<br>Atlanta Hawks: 0.537<br>",
          "New England Patriots: 0.75<br>Boston Red Sox: 0.425<br>Boston Celtics: 0.506<br>Boston Bruins: 0.597<br>",
          "Chicago Bears: 0.625<br>Chicago White Sox: 0.524<br>Chicago Cubs: 0.376<br>Chicago Bulls: 0.549<br>Chicago Blackhawks: 0.548<br>",
          "Cleveland Browns: 0.313<br>Cleveland Indians: 0.419<br>Cleveland Cavaliers: 0.293<br>",
          "Denver Broncos: 0.813<br>Denver Nuggets: 0.695<br>Colorado Rockies: 0.395<br>Colorado Avalanche: 0.5<br>",
          "Dallas Cowboys: 0.5<br>Dallas Mavericks: 0.5<br>Dallas Stars: 0.512<br>",
          "Detroit Lions: 0.25<br>Detroit Tigers: 0.543<br>Detroit Pistons: 0.354<br>Detroit Red Wings: 0.585<br>",
          "Houston Texans: 0.75<br>Houston Astros: 0.339<br>Houston Rockets: 0.549<br>",
          "Los Angeles Chargers: 0.438<br>Los Angeles Rams: 0.469<br>Los Angeles Angels of Anaheim: 0.549<br>Los Angeles Dodgers: 0.530<br>Los Angeles Clippers: 0.683<br>Los Angeles Lakers: 0.549<br>Los Angeles Kings: 0.487<br>Anaheim Ducks: 0.414<br>",
          "Miami Dolphins: 0.438<br>Miami Marlins: 0.425<br>Miami Heat: 0.805<br>Florida Panthers: 0.463<br>",
          "Minnesota Vikings: 0.625<br>Minnesota Twins: 0.407<br>Minnesota Timberwolves: 0.378<br>Minnesota Wild: 0.426<br>",
          "New York Jets: 0.375<br>New York Giants: 0.563<br>New York Yankees: 0.586<br>New York Mets: 0.456<br>New York Knicks: 0.659<br>New York Rangers: 0.621<br>New York Islanders: 0.414<br>Brooklyn Nets: 0.598<br>New Jersey Devils: 0.585<br>",
          "Philadelphia Eagles: 0.25<br>Philadelphia Phillies: 0.5<br>Philadelphia 76ers: 0.415<br>Philadelphia Flyers: 0.573<br>",
          "Pittsburgh Steelers: 0.5<br>Pittsburgh Pirates: 0.487<br>Pittsburgh Penguins: 0.621<br>",
          "San Francisco 49ers: 0.719<br>San Francisco Giants: 0.580<br>Oakland Athletics: 0.580<br>San Jose Sharks: 0.524<br>",
          "Tampa Bay Buccaneers: 0.438<br>Tampa Bay Rays: 0.555<br>Tampa Bay Lightning: 0.463<br>",
          "Toronto Blue Jays: 0.450<br>Toronto Raptors: 0.415<br>Toronto Maple Leafs: 0.426<br>",
          "Washington Commanders: 0.625<br>Washington Nationals: 0.604<br>Washington Wizards: 0.354<br>Washington Capitals: 0.512<br>",
          "Arizona Cardinals: 0.625<br>Arizona Diamondbacks: 0.5<br>Phoenix Suns: 0.585<br>Phoenix Coyotes: 0.437<br>",
          "Atlanta Falcons: 0.25<br>Atlanta Braves: 0.592<br>Atlanta Hawks: 0.463<br>",
          "New England Patriots: 0.75<br>Boston Red Sox: 0.598<br>Boston Celtics: 0.305<br>Boston Bruins: 0.583<br>",
          "Chicago Bears: 0.5<br>Chicago White Sox: 0.388<br>Chicago Cubs: 0.407<br>Chicago Bulls: 0.585<br>Chicago Blackhawks: 0.75<br>",
          "Cleveland Browns: 0.25<br>Cleveland Indians: 0.567<br>Cleveland Cavaliers: 0.402<br>",
          "Denver Broncos: 0.813<br>Denver Nuggets: 0.439<br>Colorado Rockies: 0.456<br>Colorado Avalanche: 0.333<br>",
          "Dallas Cowboys: 0.5<br>Dallas Mavericks: 0.598<br>Dallas Stars: 0.458<br>",
          "Detroit Lions: 0.438<br>Detroit Tigers: 0.574<br>Detroit Pistons: 0.354<br>Detroit Red Wings: 0.5<br>",
          "Houston Texans: 0.125<br>Houston Astros: 0.314<br>Houston Rockets: 0.659<br>",
          "Los Angeles Rams: 0.438<br>Los Angeles Chargers: 0.563<br>Los Angeles Angels of Anaheim: 0.481<br>Los Angeles Dodgers: 0.567<br>Los Angeles Clippers: 0.695<br>Los Angeles Lakers: 0.329<br>Los Angeles Kings: 0.562<br>Anaheim Ducks: 0.625<br>",
          "Miami Dolphins: 0.5<br>Miami Marlins: 0.382<br>Miami Heat: 0.659<br>Florida Panthers: 0.312<br>",
          "Minnesota Vikings: 0.344<br>Minnesota Twins: 0.407<br>Minnesota Timberwolves: 0.488<br>Minnesota Wild: 0.541<br>",
          "New York Giants: 0.438<br>New York Jets: 0.5<br>New York Yankees: 0.524<br>New York Mets: 0.456<br>New York Knicks: 0.451<br>New York Rangers: 0.541<br>New York Islanders: 0.5<br>Brooklyn Nets: 0.537<br>New Jersey Devils: 0.395<br>",
          "Philadelphia Eagles: 0.625<br>Philadelphia Phillies: 0.450<br>Philadelphia 76ers: 0.232<br>Philadelphia Flyers: 0.479<br>",
          "Pittsburgh Steelers: 0.5<br>Pittsburgh Pirates: 0.580<br>Pittsburgh Penguins: 0.75<br>",
          "San Francisco 49ers: 0.75<br>San Francisco Giants: 0.469<br>Oakland Athletics: 0.592<br>San Jose Sharks: 0.520<br>",
          "Tampa Bay Buccaneers: 0.25<br>Tampa Bay Rays: 0.564<br>Tampa Bay Lightning: 0.375<br>",
          "Toronto Blue Jays: 0.456<br>Toronto Raptors: 0.585<br>Toronto Maple Leafs: 0.541<br>",
          "Washington Commanders: 0.188<br>Washington Nationals: 0.530<br>Washington Wizards: 0.537<br>Washington Capitals: 0.562<br>",
          "Arizona Cardinals: 0.688<br>Arizona Diamondbacks: 0.395<br>Phoenix Suns: 0.476<br>Phoenix Coyotes: 0.451<br>",
          "Atlanta Falcons: 0.375<br>Atlanta Braves: 0.487<br>Atlanta Hawks: 0.732<br>",
          "New England Patriots: 0.75<br>Boston Red Sox: 0.438<br>Boston Celtics: 0.488<br>Boston Bruins: 0.658<br>",
          "Chicago Bears: 0.313<br>Chicago White Sox: 0.450<br>Chicago Cubs: 0.450<br>Chicago Bulls: 0.61<br>Chicago Blackhawks: 0.560<br>",
          "Cleveland Browns: 0.438<br>Cleveland Indians: 0.524<br>Cleveland Cavaliers: 0.646<br>",
          "Denver Broncos: 0.75<br>Denver Nuggets: 0.366<br>Colorado Rockies: 0.407<br>Colorado Avalanche: 0.634<br>",
          "Dallas Cowboys: 0.75<br>Dallas Mavericks: 0.61<br>Dallas Stars: 0.487<br>",
          "Detroit Lions: 0.688<br>Detroit Tigers: 0.555<br>Detroit Pistons: 0.39<br>Detroit Red Wings: 0.475<br>",
          "Houston Texans: 0.563<br>Houston Astros: 0.432<br>Houston Rockets: 0.683<br>",
          "Los Angeles Rams: 0.375<br>Los Angeles Chargers: 0.563<br>Los Angeles Angels of Anaheim: 0.604<br>Los Angeles Dodgers: 0.580<br>Los Angeles Clippers: 0.683<br>Los Angeles Lakers: 0.256<br>Los Angeles Kings: 0.560<br>Anaheim Ducks: 0.658<br>",
          "Miami Dolphins: 0.5<br>Miami Marlins: 0.475<br>Miami Heat: 0.451<br>Florida Panthers: 0.353<br>",
          "Minnesota Vikings: 0.438<br>Minnesota Twins: 0.432<br>Minnesota Timberwolves: 0.195<br>Minnesota Wild: 0.524<br>",
          "New York Jets: 0.25<br>New York Giants: 0.375<br>New York Yankees: 0.518<br>New York Mets: 0.487<br>New York Knicks: 0.207<br>New York Rangers: 0.548<br>New York Islanders: 0.414<br>Brooklyn Nets: 0.463<br>New Jersey Devils: 0.426<br>",
          "Philadelphia Eagles: 0.625<br>Philadelphia Phillies: 0.450<br>Philadelphia 76ers: 0.22<br>Philadelphia Flyers: 0.512<br>",
          "Pittsburgh Steelers: 0.688<br>Pittsburgh Pirates: 0.543<br>Pittsburgh Penguins: 0.621<br>",
          "San Francisco 49ers: 0.5<br>San Francisco Giants: 0.543<br>Oakland Athletics: 0.543<br>San Jose Sharks: 0.621<br>",
          "Tampa Bay Buccaneers: 0.125<br>Tampa Bay Rays: 0.475<br>Tampa Bay Lightning: 0.560<br>",
          "Toronto Blue Jays: 0.512<br>Toronto Raptors: 0.598<br>Toronto Maple Leafs: 0.463<br>",
          "Washington Commanders: 0.25<br>Washington Nationals: 0.592<br>Washington Wizards: 0.561<br>Washington Capitals: 0.463<br>",
          "Arizona Cardinals: 0.813<br>Arizona Diamondbacks: 0.487<br>Arizona Coyotes: 0.292<br>Phoenix Suns: 0.28<br>",
          "Atlanta Falcons: 0.5<br>Atlanta Braves: 0.413<br>Atlanta Hawks: 0.585<br>",
          "New England Patriots: 0.75<br>Boston Red Sox: 0.481<br>Boston Celtics: 0.585<br>Boston Bruins: 0.5<br>",
          "Chicago Bears: 0.375<br>Chicago White Sox: 0.469<br>Chicago Cubs: 0.598<br>Chicago Bulls: 0.512<br>Chicago Blackhawks: 0.585<br>",
          "Cleveland Browns: 0.188<br>Cleveland Indians: 0.503<br>Cleveland Cavaliers: 0.695<br>",
          "Denver Broncos: 0.75<br>Denver Nuggets: 0.402<br>Colorado Rockies: 0.419<br>Colorado Avalanche: 0.475<br>",
          "Dallas Cowboys: 0.25<br>Dallas Mavericks: 0.512<br>Dallas Stars: 0.5<br>",
          "Detroit Lions: 0.438<br>Detroit Tigers: 0.459<br>Detroit Pistons: 0.537<br>Detroit Red Wings: 0.524<br>",
          "Houston Texans: 0.563<br>Houston Astros: 0.530<br>Houston Rockets: 0.5<br>",
          "Los Angeles Chargers: 0.25<br>Los Angeles Rams: 0.438<br>Los Angeles Angels of Anaheim: 0.524<br>Los Angeles Dodgers: 0.567<br>Los Angeles Clippers: 0.646<br>Los Angeles Lakers: 0.207<br>Los Angeles Kings: 0.487<br>Anaheim Ducks: 0.621<br>",
          "Miami Dolphins: 0.375<br>Miami Marlins: 0.438<br>Miami Heat: 0.585<br>Florida Panthers: 0.463<br>",
          "Minnesota Vikings: 0.688<br>Minnesota Twins: 0.512<br>Minnesota Timberwolves: 0.354<br>Minnesota Wild: 0.560<br>",
          "New York Giants: 0.375<br>New York Jets: 0.625<br>New York Yankees: 0.537<br>New York Mets: 0.555<br>New York Rangers: 0.646<br>New York Islanders: 0.573<br>Brooklyn Nets: 0.256<br>New Jersey Devils: 0.390<br>",
          "Philadelphia Eagles: 0.438<br>Philadelphia Phillies: 0.388<br>Philadelphia 76ers: 0.122<br>Philadelphia Flyers: 0.402<br>",
          "Pittsburgh Steelers: 0.625<br>Pittsburgh Pirates: 0.604<br>Pittsburgh Penguins: 0.524<br>",
          "San Francisco 49ers: 0.313<br>San Francisco Giants: 0.518<br>Oakland Athletics: 0.419<br>San Jose Sharks: 0.487<br>",
          "Tampa Bay Buccaneers: 0.375<br>Tampa Bay Rays: 0.493<br>Tampa Bay Lightning: 0.609<br>",
          "Toronto Blue Jays: 0.574<br>Toronto Raptors: 0.683<br>Toronto Maple Leafs: 0.365<br>",
          "Washington Commanders: 0.563<br>Washington Nationals: 0.512<br>Washington Wizards: 0.5<br>Washington Capitals: 0.548<br>",
          "Arizona Cardinals: 0.469<br>Arizona Diamondbacks: 0.425<br>Arizona Coyotes: 0.426<br>Phoenix Suns: 0.341<br>",
          "Atlanta Falcons: 0.688<br>Atlanta Braves: 0.422<br>Atlanta Hawks: 0.575<br>",
          "New England Patriots: 0.875<br>Boston Red Sox: 0.574<br>Boston Celtics: 0.625<br>Boston Bruins: 0.512<br>",
          "Chicago Bears: 0.188<br>Chicago White Sox: 0.481<br>Chicago Cubs: 0.639<br>Chicago Bulls: 0.477<br>Chicago Blackhawks: 0.573<br>",
          "Cleveland Browns: 0.063<br>Cleveland Indians: 0.583<br>Cleveland Cavaliers: 0.714<br>",
          "Denver Broncos: 0.563<br>Denver Nuggets: 0.419<br>Colorado Rockies: 0.462<br>Colorado Avalanche: 0.475<br>",
          "Dallas Cowboys: 0.813<br>Dallas Mavericks: 0.341<br>Dallas Stars: 0.609<br>",
          "Detroit Lions: 0.563<br>Detroit Tigers: 0.534<br>Detroit Pistons: 0.467<br>Detroit Red Wings: 0.5<br>",
          "Houston Texans: 0.563<br>Houston Astros: 0.518<br>Houston Rockets: 0.723<br>",
          "Los Angeles Rams: 0.25<br>Los Angeles Chargers: 0.313<br>Los Angeles Angels of Anaheim: 0.456<br>Los Angeles Dodgers: 0.561<br>Los Angeles Clippers: 0.644<br>Los Angeles Lakers: 0.333<br>Los Angeles Kings: 0.585<br>Anaheim Ducks: 0.560<br>",
          "Miami Dolphins: 0.625<br>Miami Marlins: 0.490<br>Miami Heat: 0.318<br>Florida Panthers: 0.573<br>",
          "Minnesota Vikings: 0.5<br>Minnesota Twins: 0.364<br>Minnesota Timberwolves: 0.364<br>Minnesota Wild: 0.463<br>",
          "New York Jets: 0.313<br>New York Giants: 0.688<br>New York Yankees: 0.518<br>New York Mets: 0.537<br>New York Rangers: 0.560<br>New York Islanders: 0.548<br>Brooklyn Nets: 0.214<br>New Jersey Devils: 0.463<br>",
          "Philadelphia Eagles: 0.438<br>Philadelphia Phillies: 0.438<br>Philadelphia 76ers: 0.357<br>Philadelphia Flyers: 0.5<br>",
          "Pittsburgh Steelers: 0.688<br>Pittsburgh Pirates: 0.484<br>Pittsburgh Penguins: 0.585<br>",
          "San Francisco 49ers: 0.125<br>San Francisco Giants: 0.537<br>Oakland Athletics: 0.425<br>San Jose Sharks: 0.560<br>",
          "Tampa Bay Buccaneers: 0.563<br>Tampa Bay Rays: 0.419<br>Tampa Bay Lightning: 0.560<br>",
          "Toronto Blue Jays: 0.549<br>Toronto Raptors: 0.636<br>Toronto Maple Leafs: 0.353<br>",
          "Washington Commanders: 0.531<br>Washington Nationals: 0.586<br>Washington Wizards: 0.535<br>Washington Capitals: 0.682<br>",
          "Arizona Cardinals: 0.5<br>Arizona Diamondbacks: 0.574<br>Arizona Coyotes: 0.365<br>",
          "New England Patriots: 0.813<br>Boston Red Sox: 0.574<br>Boston Bruins: 0.536<br>",
          "Chicago Bears: 0.313<br>Chicago White Sox: 0.413<br>Chicago Cubs: 0.567<br>Chicago Blackhawks: 0.609<br>",
          "Denver Broncos: 0.313<br>Colorado Rockies: 0.537<br>Colorado Avalanche: 0.268<br>",
          "Detroit Lions: 0.563<br>Detroit Tigers: 0.395<br>Detroit Red Wings: 0.402<br>",
          "Los Angeles Chargers: 0.563<br>Los Angeles Rams: 0.688<br>Los Angeles Angels of Anaheim: 0.493<br>Los Angeles Dodgers: 0.641<br>Los Angeles Kings: 0.475<br>Anaheim Ducks: 0.560<br>",
          "Miami Dolphins: 0.375<br>Miami Marlins: 0.475<br>Florida Panthers: 0.426<br>",
          "Minnesota Vikings: 0.813<br>Minnesota Twins: 0.524<br>Minnesota Wild: 0.597<br>",
          "New York Giants: 0.188<br>New York Jets: 0.313<br>New York Yankees: 0.561<br>New York Mets: 0.432<br>New York Rangers: 0.585<br>New York Islanders: 0.5<br>New Jersey Devils: 0.341<br>",
          "Philadelphia Eagles: 0.813<br>Philadelphia Phillies: 0.407<br>Philadelphia Flyers: 0.475<br>",
          "Pittsburgh Steelers: 0.813<br>Pittsburgh Pirates: 0.462<br>Pittsburgh Penguins: 0.609<br>",
          "San Francisco 49ers: 0.375<br>San Francisco Giants: 0.395<br>Oakland Athletics: 0.462<br>San Jose Sharks: 0.560<br>",
          "Tampa Bay Buccaneers: 0.313<br>Tampa Bay Rays: 0.493<br>Tampa Bay Lightning: 0.512<br>",
          "Washington Commanders: 0.438<br>Washington Nationals: 0.598<br>Washington Capitals: 0.670<br>",
          "Arizona Cardinals: 0.188<br>Arizona Diamondbacks: 0.506<br>Arizona Coyotes: 0.353<br>",
          "New England Patriots: 0.688<br>Boston Red Sox: 0.666<br>Boston Bruins: 0.609<br>",
          "Chicago Bears: 0.75<br>Chicago White Sox: 0.382<br>Chicago Cubs: 0.582<br>Chicago Blackhawks: 0.402<br>",
          "Denver Broncos: 0.375<br>Colorado Rockies: 0.558<br>Colorado Avalanche: 0.524<br>",
          "Detroit Lions: 0.375<br>Detroit Tigers: 0.395<br>Detroit Red Wings: 0.365<br>",
          "Los Angeles Chargers: 0.75<br>Los Angeles Rams: 0.813<br>Los Angeles Angels of Anaheim: 0.493<br>Los Angeles Dodgers: 0.564<br>Los Angeles Kings: 0.548<br>Anaheim Ducks: 0.536<br>",
          "Miami Dolphins: 0.438<br>Miami Marlins: 0.391<br>Florida Panthers: 0.536<br>",
          "Minnesota Vikings: 0.531<br>Minnesota Twins: 0.481<br>Minnesota Wild: 0.548<br>",
          "New York Jets: 0.25<br>New York Giants: 0.313<br>New York Yankees: 0.617<br>New York Mets: 0.475<br>New York Islanders: 0.426<br>New York Rangers: 0.414<br>New Jersey Devils: 0.536<br>",
          "Philadelphia Eagles: 0.563<br>Philadelphia Phillies: 0.493<br>Philadelphia Flyers: 0.512<br>",
          "Pittsburgh Steelers: 0.594<br>Pittsburgh Pirates: 0.509<br>Pittsburgh Penguins: 0.573<br>",
          "San Francisco 49ers: 0.25<br>San Francisco Giants: 0.450<br>Oakland Athletics: 0.598<br>San Jose Sharks: 0.548<br>",
          "Tampa Bay Buccaneers: 0.313<br>Tampa Bay Rays: 0.555<br>Tampa Bay Lightning: 0.658<br>",
          "Washington Commanders: 0.438<br>Washington Nationals: 0.506<br>Washington Capitals: 0.597<br>",
          "Arizona Cardinals: 0.344<br>Arizona Diamondbacks: 0.524<br>Arizona Coyotes: 0.475<br>",
          "New England Patriots: 0.75<br>Boston Red Sox: 0.518<br>Boston Bruins: 0.597<br>",
          "Chicago Bears: 0.5<br>Chicago White Sox: 0.447<br>Chicago Cubs: 0.518<br>Chicago Blackhawks: 0.439<br>",
          "Denver Broncos: 0.438<br>Colorado Rockies: 0.438<br>Colorado Avalanche: 0.463<br>",
          "Detroit Lions: 0.219<br>Detroit Tigers: 0.291<br>Detroit Red Wings: 0.390<br>",
          "Los Angeles Chargers: 0.313<br>Los Angeles Rams: 0.563<br>Los Angeles Angels of Anaheim: 0.444<br>Los Angeles Dodgers: 0.654<br>Los Angeles Kings: 0.378<br>Anaheim Ducks: 0.426<br>",
          "Miami Dolphins: 0.313<br>Miami Marlins: 0.351<br>Florida Panthers: 0.439<br>",
          "Minnesota Vikings: 0.625<br>Minnesota Twins: 0.623<br>Minnesota Wild: 0.451<br>",
          "New York Giants: 0.25<br>New York Jets: 0.438<br>New York Yankees: 0.635<br>New York Mets: 0.530<br>New York Islanders: 0.585<br>New York Rangers: 0.390<br>New Jersey Devils: 0.378<br>",
          "Philadelphia Eagles: 0.563<br>Philadelphia Phillies: 0.5<br>Philadelphia Flyers: 0.451<br>",
          "Pittsburgh Steelers: 0.5<br>Pittsburgh Pirates: 0.425<br>Pittsburgh Penguins: 0.536<br>",
          "San Francisco 49ers: 0.813<br>San Francisco Giants: 0.475<br>Oakland Athletics: 0.598<br>San Jose Sharks: 0.560<br>",
          "Tampa Bay Buccaneers: 0.438<br>Tampa Bay Rays: 0.592<br>Tampa Bay Lightning: 0.756<br>",
          "Washington Commanders: 0.188<br>Washington Nationals: 0.574<br>Washington Capitals: 0.585<br>",
          "Arizona Cardinals: 0.5<br>Arizona Diamondbacks: 0.416<br>Arizona Coyotes: 0.471<br>",
          "New England Patriots: 0.438<br>Boston Red Sox: 0.4<br>Boston Bruins: 0.628<br>",
          "Chicago Bears: 0.5<br>Chicago White Sox: 0.583<br>Chicago Cubs: 0.566<br>Chicago Blackhawks: 0.457<br>",
          "Denver Broncos: 0.313<br>Colorado Rockies: 0.433<br>Colorado Avalanche: 0.6<br>",
          "Detroit Lions: 0.313<br>Detroit Tigers: 0.396<br>Detroit Red Wings: 0.239<br>",
          "Los Angeles Chargers: 0.438<br>Los Angeles Rams: 0.625<br>Los Angeles Angels of Anaheim: 0.433<br>Los Angeles Dodgers: 0.716<br>Los Angeles Kings: 0.414<br>Anaheim Ducks: 0.408<br>",
          "Miami Dolphins: 0.625<br>Miami Marlins: 0.516<br>Florida Panthers: 0.507<br>",
          "Minnesota Vikings: 0.438<br>Minnesota Twins: 0.6<br>Minnesota Wild: 0.507<br>",
          "New York Jets: 0.125<br>New York Giants: 0.375<br>New York Yankees: 0.55<br>New York Mets: 0.433<br>New York Islanders: 0.514<br>New York Rangers: 0.528<br>New Jersey Devils: 0.405<br>",
          "Philadelphia Eagles: 0.281<br>Philadelphia Phillies: 0.466<br>Philadelphia Flyers: 0.594<br>",
          "Pittsburgh Steelers: 0.75<br>Pittsburgh Pirates: 0.316<br>Pittsburgh Penguins: 0.579<br>",
          "San Francisco 49ers: 0.375<br>San Francisco Giants: 0.483<br>Oakland Athletics: 0.6<br>San Jose Sharks: 0.414<br>",
          "Tampa Bay Buccaneers: 0.688<br>Tampa Bay Rays: 0.666<br>Tampa Bay Lightning: 0.614<br>",
          "Tennessee Titans: 0.438<br>Tennessee Titans: 0.688<br>Nashville Predators: 0.507<br>"
         ],
         "type": "scatter",
         "x": [
          1903,
          1904,
          1905,
          1906,
          1907,
          1908,
          1909,
          1910,
          1911,
          1912,
          1913,
          1914,
          1915,
          1916,
          1917,
          1918,
          1919,
          1920,
          1921,
          1922,
          1922,
          1922,
          1923,
          1923,
          1923,
          1923,
          1924,
          1924,
          1924,
          1925,
          1925,
          1925,
          1925,
          1926,
          1926,
          1926,
          1926,
          1927,
          1927,
          1927,
          1928,
          1928,
          1928,
          1929,
          1929,
          1929,
          1930,
          1930,
          1931,
          1931,
          1932,
          1932,
          1933,
          1933,
          1933,
          1934,
          1934,
          1934,
          1934,
          1935,
          1935,
          1935,
          1936,
          1936,
          1936,
          1937,
          1937,
          1937,
          1938,
          1938,
          1938,
          1939,
          1939,
          1939,
          1940,
          1940,
          1940,
          1941,
          1941,
          1941,
          1942,
          1942,
          1942,
          1943,
          1943,
          1943,
          1944,
          1944,
          1944,
          1945,
          1945,
          1945,
          1946,
          1946,
          1946,
          1946,
          1947,
          1947,
          1947,
          1947,
          1948,
          1948,
          1948,
          1948,
          1948,
          1948,
          1949,
          1949,
          1949,
          1949,
          1949,
          1949,
          1950,
          1950,
          1950,
          1950,
          1950,
          1951,
          1951,
          1951,
          1951,
          1951,
          1952,
          1952,
          1952,
          1952,
          1952,
          1953,
          1953,
          1953,
          1953,
          1953,
          1954,
          1954,
          1954,
          1954,
          1954,
          1955,
          1955,
          1955,
          1955,
          1956,
          1956,
          1956,
          1956,
          1957,
          1957,
          1957,
          1957,
          1958,
          1958,
          1958,
          1958,
          1958,
          1959,
          1959,
          1959,
          1959,
          1959,
          1960,
          1960,
          1960,
          1960,
          1960,
          1960,
          1961,
          1961,
          1961,
          1961,
          1961,
          1961,
          1962,
          1962,
          1962,
          1962,
          1962,
          1962,
          1963,
          1963,
          1963,
          1963,
          1963,
          1963,
          1963,
          1964,
          1964,
          1964,
          1964,
          1964,
          1964,
          1964,
          1965,
          1965,
          1965,
          1965,
          1965,
          1965,
          1965,
          1966,
          1966,
          1966,
          1966,
          1966,
          1966,
          1966,
          1966,
          1967,
          1967,
          1967,
          1967,
          1967,
          1967,
          1967,
          1967,
          1968,
          1968,
          1968,
          1968,
          1968,
          1968,
          1968,
          1968,
          1968,
          1968,
          1968,
          1969,
          1969,
          1969,
          1969,
          1969,
          1969,
          1969,
          1969,
          1969,
          1969,
          1969,
          1970,
          1970,
          1970,
          1970,
          1970,
          1970,
          1970,
          1970,
          1970,
          1970,
          1970,
          1970,
          1971,
          1971,
          1971,
          1971,
          1971,
          1971,
          1971,
          1971,
          1971,
          1971,
          1971,
          1971,
          1971,
          1972,
          1972,
          1972,
          1972,
          1972,
          1972,
          1972,
          1972,
          1972,
          1972,
          1972,
          1972,
          1973,
          1973,
          1973,
          1973,
          1973,
          1973,
          1973,
          1973,
          1973,
          1973,
          1973,
          1973,
          1974,
          1974,
          1974,
          1974,
          1974,
          1974,
          1974,
          1974,
          1974,
          1974,
          1974,
          1974,
          1975,
          1975,
          1975,
          1975,
          1975,
          1975,
          1975,
          1975,
          1975,
          1975,
          1975,
          1975,
          1975,
          1975,
          1976,
          1976,
          1976,
          1976,
          1976,
          1976,
          1976,
          1976,
          1976,
          1976,
          1976,
          1976,
          1976,
          1976,
          1977,
          1977,
          1977,
          1977,
          1977,
          1977,
          1977,
          1977,
          1977,
          1977,
          1977,
          1977,
          1977,
          1977,
          1977,
          1978,
          1978,
          1978,
          1978,
          1978,
          1978,
          1978,
          1978,
          1978,
          1978,
          1978,
          1978,
          1978,
          1978,
          1979,
          1979,
          1979,
          1979,
          1979,
          1979,
          1979,
          1979,
          1979,
          1979,
          1979,
          1979,
          1979,
          1979,
          1980,
          1980,
          1980,
          1980,
          1980,
          1980,
          1980,
          1980,
          1980,
          1980,
          1980,
          1980,
          1980,
          1980,
          1981,
          1981,
          1981,
          1981,
          1981,
          1981,
          1981,
          1981,
          1981,
          1981,
          1981,
          1981,
          1981,
          1981,
          1982,
          1982,
          1982,
          1982,
          1982,
          1982,
          1982,
          1982,
          1982,
          1982,
          1982,
          1982,
          1982,
          1982,
          1983,
          1983,
          1983,
          1983,
          1983,
          1983,
          1983,
          1983,
          1983,
          1983,
          1983,
          1983,
          1983,
          1984,
          1984,
          1984,
          1984,
          1984,
          1984,
          1984,
          1984,
          1984,
          1984,
          1984,
          1984,
          1984,
          1985,
          1985,
          1985,
          1985,
          1985,
          1985,
          1985,
          1985,
          1985,
          1985,
          1985,
          1985,
          1985,
          1986,
          1986,
          1986,
          1986,
          1986,
          1986,
          1986,
          1986,
          1986,
          1986,
          1986,
          1986,
          1986,
          1987,
          1987,
          1987,
          1987,
          1987,
          1987,
          1987,
          1987,
          1987,
          1987,
          1987,
          1987,
          1987,
          1988,
          1988,
          1988,
          1988,
          1988,
          1988,
          1988,
          1988,
          1988,
          1988,
          1988,
          1988,
          1988,
          1989,
          1989,
          1989,
          1989,
          1989,
          1989,
          1989,
          1989,
          1989,
          1989,
          1989,
          1989,
          1989,
          1990,
          1990,
          1990,
          1990,
          1990,
          1990,
          1990,
          1990,
          1990,
          1990,
          1990,
          1990,
          1990,
          1991,
          1991,
          1991,
          1991,
          1991,
          1991,
          1991,
          1991,
          1991,
          1991,
          1991,
          1991,
          1991,
          1992,
          1992,
          1992,
          1992,
          1992,
          1992,
          1992,
          1992,
          1992,
          1992,
          1992,
          1992,
          1992,
          1993,
          1993,
          1993,
          1993,
          1993,
          1993,
          1993,
          1993,
          1993,
          1993,
          1993,
          1993,
          1993,
          1993,
          1993,
          1994,
          1994,
          1994,
          1994,
          1994,
          1994,
          1994,
          1994,
          1994,
          1994,
          1994,
          1994,
          1994,
          1994,
          1994,
          1994,
          1995,
          1995,
          1995,
          1995,
          1995,
          1995,
          1995,
          1995,
          1995,
          1995,
          1995,
          1995,
          1995,
          1995,
          1995,
          1995,
          1995,
          1996,
          1996,
          1996,
          1996,
          1996,
          1996,
          1996,
          1996,
          1996,
          1996,
          1996,
          1996,
          1996,
          1996,
          1996,
          1996,
          1997,
          1997,
          1997,
          1997,
          1997,
          1997,
          1997,
          1997,
          1997,
          1997,
          1997,
          1997,
          1997,
          1997,
          1997,
          1997,
          1997,
          1998,
          1998,
          1998,
          1998,
          1998,
          1998,
          1998,
          1998,
          1998,
          1998,
          1998,
          1998,
          1998,
          1998,
          1998,
          1998,
          1998,
          1998,
          1999,
          1999,
          1999,
          1999,
          1999,
          1999,
          1999,
          1999,
          1999,
          1999,
          1999,
          1999,
          1999,
          1999,
          1999,
          1999,
          1999,
          1999,
          1999,
          2000,
          2000,
          2000,
          2000,
          2000,
          2000,
          2000,
          2000,
          2000,
          2000,
          2000,
          2000,
          2000,
          2000,
          2000,
          2000,
          2000,
          2000,
          2000,
          2001,
          2001,
          2001,
          2001,
          2001,
          2001,
          2001,
          2001,
          2001,
          2001,
          2001,
          2001,
          2001,
          2001,
          2001,
          2001,
          2001,
          2001,
          2001,
          2002,
          2002,
          2002,
          2002,
          2002,
          2002,
          2002,
          2002,
          2002,
          2002,
          2002,
          2002,
          2002,
          2002,
          2002,
          2002,
          2002,
          2002,
          2002,
          2002,
          2003,
          2003,
          2003,
          2003,
          2003,
          2003,
          2003,
          2003,
          2003,
          2003,
          2003,
          2003,
          2003,
          2003,
          2003,
          2003,
          2003,
          2003,
          2003,
          2003,
          2004,
          2004,
          2004,
          2004,
          2004,
          2004,
          2004,
          2004,
          2004,
          2004,
          2004,
          2004,
          2004,
          2004,
          2004,
          2004,
          2004,
          2004,
          2004,
          2004,
          2005,
          2005,
          2005,
          2005,
          2005,
          2005,
          2005,
          2005,
          2005,
          2005,
          2005,
          2005,
          2005,
          2005,
          2005,
          2005,
          2006,
          2006,
          2006,
          2006,
          2006,
          2006,
          2006,
          2006,
          2006,
          2006,
          2006,
          2006,
          2006,
          2006,
          2006,
          2006,
          2006,
          2006,
          2006,
          2006,
          2007,
          2007,
          2007,
          2007,
          2007,
          2007,
          2007,
          2007,
          2007,
          2007,
          2007,
          2007,
          2007,
          2007,
          2007,
          2007,
          2007,
          2007,
          2007,
          2007,
          2008,
          2008,
          2008,
          2008,
          2008,
          2008,
          2008,
          2008,
          2008,
          2008,
          2008,
          2008,
          2008,
          2008,
          2008,
          2008,
          2008,
          2008,
          2008,
          2009,
          2009,
          2009,
          2009,
          2009,
          2009,
          2009,
          2009,
          2009,
          2009,
          2009,
          2009,
          2009,
          2009,
          2009,
          2009,
          2009,
          2009,
          2009,
          2010,
          2010,
          2010,
          2010,
          2010,
          2010,
          2010,
          2010,
          2010,
          2010,
          2010,
          2010,
          2010,
          2010,
          2010,
          2010,
          2010,
          2010,
          2010,
          2011,
          2011,
          2011,
          2011,
          2011,
          2011,
          2011,
          2011,
          2011,
          2011,
          2011,
          2011,
          2011,
          2011,
          2011,
          2011,
          2011,
          2011,
          2011,
          2012,
          2012,
          2012,
          2012,
          2012,
          2012,
          2012,
          2012,
          2012,
          2012,
          2012,
          2012,
          2012,
          2012,
          2012,
          2012,
          2012,
          2012,
          2012,
          2013,
          2013,
          2013,
          2013,
          2013,
          2013,
          2013,
          2013,
          2013,
          2013,
          2013,
          2013,
          2013,
          2013,
          2013,
          2013,
          2013,
          2013,
          2013,
          2014,
          2014,
          2014,
          2014,
          2014,
          2014,
          2014,
          2014,
          2014,
          2014,
          2014,
          2014,
          2014,
          2014,
          2014,
          2014,
          2014,
          2014,
          2014,
          2015,
          2015,
          2015,
          2015,
          2015,
          2015,
          2015,
          2015,
          2015,
          2015,
          2015,
          2015,
          2015,
          2015,
          2015,
          2015,
          2015,
          2015,
          2015,
          2016,
          2016,
          2016,
          2016,
          2016,
          2016,
          2016,
          2016,
          2016,
          2016,
          2016,
          2016,
          2016,
          2016,
          2016,
          2016,
          2016,
          2016,
          2016,
          2017,
          2017,
          2017,
          2017,
          2017,
          2017,
          2017,
          2017,
          2017,
          2017,
          2017,
          2017,
          2017,
          2017,
          2018,
          2018,
          2018,
          2018,
          2018,
          2018,
          2018,
          2018,
          2018,
          2018,
          2018,
          2018,
          2018,
          2018,
          2019,
          2019,
          2019,
          2019,
          2019,
          2019,
          2019,
          2019,
          2019,
          2019,
          2019,
          2019,
          2019,
          2019,
          2020,
          2020,
          2020,
          2020,
          2020,
          2020,
          2020,
          2020,
          2020,
          2020,
          2020,
          2020,
          2020,
          2020
         ],
         "y": [
          0.552111953983784,
          0.5560316841968576,
          0.49285801686740865,
          0.5539386545834786,
          0.48270329152682095,
          0.4372294372294372,
          0.4836168462970177,
          0.5297583211490496,
          0.5245751633986928,
          0.46338384701310914,
          0.49273291288579685,
          0.49567099567099565,
          0.4780701754385965,
          0.5652198678514467,
          0.5213306942952444,
          0.5042554918636744,
          0.563275094210346,
          0.5930735930735931,
          0.5871603027175782,
          0.5250800865800865,
          0.42694805194805197,
          0.3416,
          0.5410025974025974,
          0.466031673658299,
          0.3914,
          0.4010606581814013,
          0.5063568627450981,
          0.5247544100893946,
          0.524,
          0.5332422887283569,
          0.5993863636363637,
          0.34904764436343383,
          0.4128,
          0.5479547070290104,
          0.687293099057805,
          0.5135046006093922,
          0.2754,
          0.37925974025974024,
          0.5970239651416122,
          0.5714208188325836,
          0.29978213507625273,
          0.5471471861471862,
          0.4920016467192938,
          0.4134199134199134,
          0.4776315789473684,
          0.5790393836710549,
          0.5143376623376623,
          0.5355454545454545,
          0.5261558724499901,
          0.4582473913542025,
          0.5946396318912875,
          0.42671861471861466,
          0.6127027417027416,
          0.5944374957000345,
          0.430971883350761,
          0.6394068781224584,
          0.5328676021604813,
          0.39772408650261,
          0.46490150212131637,
          0.5787309182046024,
          0.5709206035881914,
          0.32985413285373805,
          0.6171196353315559,
          0.4854268398268398,
          0.26001819313584024,
          0.6874458874458874,
          0.5319132841015194,
          0.31876956816575047,
          0.5232385016595543,
          0.593547274225833,
          0.3678947368421053,
          0.6081341991341991,
          0.6121880275288925,
          0.2532851167654235,
          0.5821601731601732,
          0.5894552361295394,
          0.25614891209008855,
          0.6211818181818182,
          0.6303709871827519,
          0.2982683982683983,
          0.6291681291681291,
          0.5352732740943267,
          0.27242951750236516,
          0.6350425543954955,
          0.478450505050505,
          0.429922077922078,
          0.5383506493506494,
          0.4544233766233766,
          0.5804084259966613,
          0.47095790115924346,
          0.4859969241285031,
          0.44845598845598844,
          0.5239121466768526,
          0.4541167982344453,
          0.4037747966319395,
          0.4370779220779221,
          0.5048008658008658,
          0.39239935064935066,
          0.3583191094619666,
          0.5253636363636364,
          0.5437086935132476,
          0.39602768284347234,
          0.34683116883116877,
          0.426,
          0.3611910946196661,
          0.5973419913419913,
          0.4781298701298701,
          0.3887987012987013,
          0.4953116883116883,
          0.5166666666666667,
          0.5169666048237477,
          0.6563160173160173,
          0.5071590909090908,
          0.4680491893727188,
          0.5291136363636364,
          0.5765324675324675,
          0.4761904761904762,
          0.4909318181818182,
          0.42432142857142857,
          0.5443993506493506,
          0.5927308769483474,
          0.4205238095238095,
          0.47923750106103047,
          0.4214577922077922,
          0.5563116883116883,
          0.5837583033213285,
          0.5536406926406926,
          0.5106732026143791,
          0.41467857142857145,
          0.573224025974026,
          0.4969785597562324,
          0.5193593073593074,
          0.46839826839826837,
          0.4661006493506494,
          0.5962824675324675,
          0.5740556586270872,
          0.48472727272727273,
          0.472008658008658,
          0.4785529029793736,
          0.46924675324675325,
          0.5061767373616113,
          0.49500865800865795,
          0.5077467532467532,
          0.5457597402597403,
          0.5544248608534322,
          0.5663939393939393,
          0.4081461038961039,
          0.5435876623376623,
          0.519899814471243,
          0.5402337662337663,
          0.5024642857142857,
          0.41682142857142856,
          0.5286796536796537,
          0.5693090909090909,
          0.577051948051948,
          0.5394772727272727,
          0.3809123376623377,
          0.3547008547008547,
          0.5354831168831169,
          0.4752694805194805,
          0.45238636363636364,
          0.4613668831168831,
          0.5166168831168831,
          0.44394545454545453,
          0.595,
          0.5313553791887125,
          0.4313468654801988,
          0.5146499118165785,
          0.566140937323546,
          0.5264250440917108,
          0.566,
          0.5265714285714286,
          0.45754920634920637,
          0.5168804347826087,
          0.43500920314253644,
          0.4890035273368607,
          0.643,
          0.48701242236024844,
          0.6151406525573192,
          0.40444929453262785,
          0.5427787439613526,
          0.45351054366996396,
          0.37634567901234567,
          0.3158930041152263,
          0.5613968253968253,
          0.4863399470899471,
          0.48106569664903,
          0.529,
          0.3654262198706643,
          0.4989670781893005,
          0.4249053497942387,
          0.422679012345679,
          0.5398946208112875,
          0.46445282186948855,
          0.5664413580246913,
          0.3882774838330394,
          0.5243167701863354,
          0.44536625514403294,
          0.40656378600823045,
          0.5381111111111111,
          0.44582292768959436,
          0.41601675485008816,
          0.5348549382716049,
          0.3547220529447765,
          0.6733456790123457,
          0.39784696016771487,
          0.4117695473251029,
          0.425189594356261,
          0.5134939345142244,
          0.46311067019400354,
          0.6541543209876544,
          0.48142651381540275,
          0.574724279835391,
          0.4553498964803313,
          0.4093333333333333,
          0.4754660493827161,
          0.4533062395729062,
          0.43091683350016685,
          0.5942109442776109,
          0.47450639528417304,
          0.5724983316649984,
          0.4255136803470137,
          0.3375640084528973,
          0.44752135468802134,
          0.4852422360248447,
          0.5293580246913581,
          0.4476671539961014,
          0.39640454840805717,
          0.5149415204678363,
          0.5516961663417803,
          0.5642025124539745,
          0.5881086741276164,
          0.36801169590643273,
          0.2924559237600173,
          0.4533360948667966,
          0.5746213991769548,
          0.41371193415637864,
          0.43583820662768036,
          0.5014605588044184,
          0.3840452674897119,
          0.5692425276153347,
          0.49131663942464854,
          0.5706460905349794,
          0.52490329218107,
          0.3702750898986597,
          0.4161626597357591,
          0.5346801494476934,
          0.45769958847736625,
          0.49439094650205767,
          0.5918651471984806,
          0.21556410256410255,
          0.5504410256410257,
          0.4311234567901234,
          0.42469491927825265,
          0.5509791073124407,
          0.5358247863247864,
          0.49112060778727445,
          0.4001386514719848,
          0.4323320671098449,
          0.6086282493673798,
          0.5170754716981132,
          0.5051818181818182,
          0.5709236972704714,
          0.2607094017094017,
          0.5292131502905696,
          0.5218461538461538,
          0.5173397435897436,
          0.46435947063689,
          0.4914529914529915,
          0.5705188861317894,
          0.25013461538461534,
          0.579562724014337,
          0.5507204301075269,
          0.4656406274884536,
          0.5608072174738842,
          0.5431196581196581,
          0.4730062100004129,
          0.4544238683127572,
          0.5242625830959164,
          0.5192996018474278,
          0.6104529914529914,
          0.4032220267272027,
          0.4026576448243115,
          0.5393611902500791,
          0.4934855967078189,
          0.3799563152896486,
          0.6042962962962963,
          0.5504188034188034,
          0.4584096866096866,
          0.4164362139917695,
          0.45105982905982905,
          0.4979413105413105,
          0.5050148781259892,
          0.41072351105684435,
          0.512463200379867,
          0.5507280785058563,
          0.47633333333333333,
          0.37028726708074533,
          0.4916875,
          0.5815,
          0.39406029445594665,
          0.43628511530398323,
          0.3962476415094339,
          0.3687427983539095,
          0.511241975308642,
          0.5408291404612159,
          0.4191318342151676,
          0.5038410493827161,
          0.6303095238095238,
          0.4862775605142755,
          0.4186666666666667,
          0.38339969135802465,
          0.6088364197530864,
          0.36133333333333334,
          0.4594956981826547,
          0.558811320754717,
          0.4376568322981366,
          0.35418518518518516,
          0.5735802469135802,
          0.5318971193415637,
          0.40155338632657817,
          0.5392391975308641,
          0.573133744855967,
          0.5227209314214145,
          0.4788333333333333,
          0.4503858024691358,
          0.5619961180124224,
          0.38099999999999995,
          0.5023111111111112,
          0.4266234472049689,
          0.564,
          0.3871975308641975,
          0.5585876543209877,
          0.4840797101449275,
          0.4187932098765432,
          0.5628641975308641,
          0.5535308641975308,
          0.4037557702630166,
          0.44168724279835386,
          0.49333333333333335,
          0.4937314814814815,
          0.571715490797546,
          0.4289296219615061,
          0.3937405660377359,
          0.4785,
          0.433716049382716,
          0.5639866255144033,
          0.4022057613168724,
          0.4624880424903431,
          0.5635138888888889,
          0.5780279503105591,
          0.36676954732510286,
          0.5156666666666666,
          0.45716666666666667,
          0.4775,
          0.6033124999999999,
          0.46071543209876537,
          0.5057018633540372,
          0.39283333333333337,
          0.28386257763975153,
          0.5641090534979424,
          0.43139094650205756,
          0.4810798611111111,
          0.6066296296296296,
          0.6016460905349794,
          0.29886831275720166,
          0.5531934156378601,
          0.467,
          0.517151397515528,
          0.6186875000000001,
          0.44891234567901234,
          0.5075833333333334,
          0.3961666666666666,
          0.4156296296296296,
          0.568902862985685,
          0.4970869565217391,
          0.42686033950617286,
          0.6669320987654321,
          0.4834485596707819,
          0.45106139610970536,
          0.34306584362139914,
          0.3961666666666666,
          0.4738993710691824,
          0.4754490740740741,
          0.4111732002198205,
          0.3336181229773463,
          0.48700000000000004,
          0.4409896788990826,
          0.5020378787878788,
          0.4172155963302752,
          0.5103075151982579,
          0.5989754672897196,
          0.44199346405228757,
          0.6348868226024189,
          0.47088990825688076,
          0.44966666666666666,
          0.5431275720164609,
          0.5814706790123457,
          0.40733086419753084,
          0.4018271604938272,
          0.332,
          0.4174614197530864,
          0.45736831275720163,
          0.4629567901234568,
          0.5371736111111112,
          0.5375956790123457,
          0.5243395061728395,
          0.42993004115226335,
          0.49937860082304525,
          0.5753333333333334,
          0.4897366255144033,
          0.5906203703703703,
          0.4931765432098766,
          0.44536625514403294,
          0.49785030864197527,
          0.47703806584362135,
          0.4773662551440329,
          0.4372757201646091,
          0.5287638888888889,
          0.4561728395061728,
          0.5231481481481481,
          0.4817901234567901,
          0.5964999999999999,
          0.38627572016460904,
          0.618591049382716,
          0.5032126830764512,
          0.40498765432098766,
          0.4678688271604938,
          0.4953590534979424,
          0.3918333333333333,
          0.473454732510288,
          0.5407500000000001,
          0.4086543209876543,
          0.6069053497942386,
          0.5282633744855967,
          0.592,
          0.4224691358024691,
          0.61375,
          0.5563904455179818,
          0.40812345679012346,
          0.4645597826086957,
          0.5575699588477366,
          0.40860288065843625,
          0.486269193739403,
          0.5556157407407407,
          0.3640124223602485,
          0.49434156378600824,
          0.44493004115226337,
          0.5586666666666666,
          0.5370683229813664,
          0.6151405279503106,
          0.5464888888888889,
          0.5488395061728395,
          0.42413425925925924,
          0.4253528806584362,
          0.49209053497942384,
          0.5106358024691358,
          0.5224153726708074,
          0.3983539094650206,
          0.5458271604938272,
          0.5048600823045267,
          0.629,
          0.4128571428571428,
          0.5492453703703704,
          0.5305716662832605,
          0.5185144032921811,
          0.48898456790123457,
          0.4556862139917695,
          0.47756378600823046,
          0.4263648834019204,
          0.49370679012345675,
          0.467275720164609,
          0.6408518518518519,
          0.5394938271604938,
          0.557,
          0.42816666666666664,
          0.5435956790123457,
          0.5228604861590369,
          0.6004938271604938,
          0.5184274691358024,
          0.48497515527950313,
          0.4957427983539095,
          0.5191611456176674,
          0.5161816770186336,
          0.4314166666666666,
          0.5931069958847737,
          0.5194534161490684,
          0.467,
          0.3605833333333333,
          0.4804614197530864,
          0.4772291005291005,
          0.5188724279835392,
          0.4867993827160494,
          0.533875,
          0.4310817901234568,
          0.4336293740255093,
          0.549395061728395,
          0.5065967078189301,
          0.6846707818930041,
          0.46287242798353906,
          0.5051666666666667,
          0.41274485596707816,
          0.46605246913580245,
          0.600011111111111,
          0.3551028806584362,
          0.45566358024691356,
          0.45481069958847736,
          0.40894753086419755,
          0.472923182441701,
          0.5030771604938271,
          0.5164732510288066,
          0.6784979423868313,
          0.5127695473251029,
          0.48033333333333333,
          0.556082304526749,
          0.5163796296296297,
          0.6271574074074074,
          0.47395061728395066,
          0.5696296296296296,
          0.4433456790123456,
          0.40172993827160497,
          0.4654480527226099,
          0.4864953703703704,
          0.5184794238683127,
          0.5354938271604938,
          0.5077818930041152,
          0.5475,
          0.5013127572016461,
          0.4026543209876543,
          0.4940691358024691,
          0.5220452674897119,
          0.45036574074074076,
          0.47756481481481483,
          0.4688888888888889,
          0.47995336076817563,
          0.4592746913580247,
          0.5893641975308642,
          0.5311342592592593,
          0.39702057613168723,
          0.46449999999999997,
          0.5706584362139918,
          0.45099250440917105,
          0.5534578483245151,
          0.49337860082304524,
          0.49619341563786007,
          0.48830379188712525,
          0.41804761904761906,
          0.4900205761316872,
          0.418460758377425,
          0.5218389182833627,
          0.4580842151675485,
          0.5642098765432099,
          0.45287698412698413,
          0.549724279835391,
          0.3516349206349206,
          0.5154970760233918,
          0.5053913043478261,
          0.5253668773704172,
          0.5986902654867257,
          0.46366381766381765,
          0.5630000000000001,
          0.4781221532091097,
          0.42186537773003935,
          0.462833850931677,
          0.45000884955752213,
          0.5209263941564826,
          0.4043079710144928,
          0.5795739348370927,
          0.5328716083687479,
          0.5025,
          0.3027619047619048,
          0.5830000000000001,
          0.48418055555555556,
          0.5840333333333334,
          0.5268148148148147,
          0.4872407407407407,
          0.4737222222222222,
          0.5725416666666667,
          0.4584761904761905,
          0.4900495337995338,
          0.401962962962963,
          0.4107716049382716,
          0.47687500000000005,
          0.5649814814814814,
          0.5035972222222223,
          0.6082758620689656,
          0.3607962962962963,
          0.4364444444444444,
          0.4878641975308642,
          0.47087405901836793,
          0.5521264077085215,
          0.5386291026799157,
          0.4116910569105691,
          0.5138145137006926,
          0.4674382500967867,
          0.5594567901234568,
          0.5108271604938271,
          0.40840944829201375,
          0.4638401836796146,
          0.5577260865201245,
          0.4737842517314062,
          0.5536501035196687,
          0.4124747565994178,
          0.5252032520325204,
          0.46547154471544716,
          0.5571522633744855,
          0.4656386630532972,
          0.4674563285398209,
          0.49847666365552545,
          0.40145528455284546,
          0.4912672387834989,
          0.41952702499247213,
          0.557182625715146,
          0.5105843621399176,
          0.5298506808524875,
          0.43813339355615777,
          0.5463563183779986,
          0.5247646040349292,
          0.5998518518518519,
          0.3433298203352404,
          0.4818130081300813,
          0.48276595904847935,
          0.716440329218107,
          0.4966277476663655,
          0.38436561165884325,
          0.5264795995182174,
          0.5341869918699187,
          0.4577049834387233,
          0.3975656052393857,
          0.47775406504065043,
          0.6233662551440329,
          0.5125567934691693,
          0.43078952122854564,
          0.4505769346582355,
          0.5418591349342259,
          0.4906832298136646,
          0.36540198735320684,
          0.4563545116932651,
          0.4076016260162601,
          0.5284734266787112,
          0.42993415637860083,
          0.49571416741945196,
          0.3630154585631432,
          0.37125514403292187,
          0.44575745257452576,
          0.536650406504065,
          0.4912404181184669,
          0.5046850722673893,
          0.48947884673291175,
          0.5429166666666666,
          0.48825810878573833,
          0.4593820385426076,
          0.4409622279452608,
          0.4239875037639266,
          0.5332181069958848,
          0.4485444143330322,
          0.5387663354411322,
          0.45234959349593495,
          0.45257527853056306,
          0.32803786510087324,
          0.3923435712134899,
          0.37721866907557966,
          0.3698518518518519,
          0.5485919903643481,
          0.4944634146341464,
          0.5065050436615477,
          0.4595351174345077,
          0.578268368429026,
          0.5623086419753086,
          0.49207415356072126,
          0.5802537639265282,
          0.4800484793736826,
          0.49145302292394905,
          0.49124279835390955,
          0.4284262485481998,
          0.544708722272408,
          0.4228617886178862,
          0.46793262571514604,
          0.41592442035531463,
          0.5585852901075594,
          0.4956428184281843,
          0.4512427983539095,
          0.478440906353508,
          0.5311219512195121,
          0.4349920957542909,
          0.5166399804275821,
          0.46610712134899124,
          0.4381423517012948,
          0.4828825278530563,
          0.5668136103583258,
          0.5693037237779784,
          0.6057475158084914,
          0.6093497942386831,
          0.4127996587373281,
          0.4856822242296497,
          0.4836666666666667,
          0.4856857874134297,
          0.4709893292682927,
          0.5496160794941283,
          0.4059160493827161,
          0.40893004115226333,
          0.4423494429388738,
          0.49467479674796744,
          0.4403915315861233,
          0.43083950617283956,
          0.48718447003914483,
          0.4059867509786209,
          0.47448102560218147,
          0.5326455082563248,
          0.5860223829722769,
          0.4815561278594152,
          0.5968624866976758,
          0.5000246913580247,
          0.4736277331717416,
          0.4329572417946402,
          0.44267479674796745,
          0.37514182475158087,
          0.4138763926528154,
          0.5848610358325805,
          0.4315855465221318,
          0.38658436213991765,
          0.5294963113520024,
          0.6066585365853658,
          0.45569948810599215,
          0.4663456790123457,
          0.4892804878048781,
          0.4978528304727492,
          0.5844376693766937,
          0.4539381620900021,
          0.5579111713339355,
          0.38907708521529666,
          0.49829350491227475,
          0.5500246913580247,
          0.4219710930442638,
          0.48981652112817425,
          0.3645365853658536,
          0.42852687443541104,
          0.4605079042457091,
          0.6322345679012346,
          0.4383261668172237,
          0.41860905349794236,
          0.5326394911171334,
          0.5273333333333333,
          0.5159525745257453,
          0.542633744855967,
          0.49413715748268594,
          0.45595227341162303,
          0.4926887232761217,
          0.4769779517548262,
          0.5889172688949111,
          0.5552309246073827,
          0.443211758506474,
          0.5286296296296297,
          0.4362527394839166,
          0.4556431853759532,
          0.40149593495934965,
          0.48243621399176956,
          0.4575185185185185,
          0.5378065843621399,
          0.5716913580246914,
          0.5196913580246914,
          0.5878600823045267,
          0.5104238683127572,
          0.3631275720164609,
          0.5141152263374485,
          0.5697818930041153,
          0.4924485596707819,
          0.4857942386831276,
          0.46040329218106996,
          0.41872427983539096,
          0.5553086419753086,
          0.5456666666666666,
          0.4973876091538693,
          0.4479135802469136,
          0.4818806835290575,
          0.538207226738934,
          0.4471604938271605,
          0.5263815115928937,
          0.6754471544715447,
          0.5319342065642878,
          0.5050576131687242,
          0.5630222448057813,
          0.46117524841915086,
          0.45525180668473353,
          0.5290129144501322,
          0.5313679614573923,
          0.39395764328013655,
          0.5051772823421816,
          0.47416049382716047,
          0.38364448459299405,
          0.536679012345679,
          0.40123253538090936,
          0.5261510840108401,
          0.4359771906052394,
          0.7061054652213189,
          0.43743691659138817,
          0.5888641975308642,
          0.5341831512793656,
          0.6815853658536586,
          0.5777414935260463,
          0.5405390946502058,
          0.4815067374284854,
          0.27777521830773866,
          0.46025504366154774,
          0.47677975174813475,
          0.451418849744053,
          0.53930793937569,
          0.4605896567299006,
          0.47073662551440326,
          0.5023309244203553,
          0.5000501856870421,
          0.4697701746461909,
          0.5233968684131286,
          0.5300196476964769,
          0.6326049382716049,
          0.539860324007424,
          0.5183333333333334,
          0.5380938723276122,
          0.5739268292682927,
          0.3978316772056609,
          0.5600538302277432,
          0.468652137910268,
          0.549288441145281,
          0.49861566661678886,
          0.5240850480109739,
          0.5435240891297801,
          0.5789169928736324,
          0.48646098234274265,
          0.5132714041955234,
          0.4572961959249222,
          0.40571246780790793,
          0.5387807889190003,
          0.5416733664558868,
          0.6169403041252635,
          0.5004315762108622,
          0.4860781893004115,
          0.5260362842517314,
          0.5993414634146341,
          0.4008896453688463,
          0.5105967078189301,
          0.5046268066847335,
          0.5120092592592592,
          0.48863680233428103,
          0.45492398541269363,
          0.5319148599819332,
          0.4989578851689138,
          0.5381285757302017,
          0.3330671484492622,
          0.4551990364348088,
          0.3852384071062933,
          0.45299766636555255,
          0.5846394158386028,
          0.6457481180367359,
          0.6168638361939175,
          0.32364197530864197,
          0.47418398072869616,
          0.5070731707317073,
          0.44439634146341467,
          0.4560452674897119,
          0.5137799608551641,
          0.5072677657332129,
          0.40641538693164714,
          0.5172765231356018,
          0.5559413580246914,
          0.5583408611863896,
          0.5162131135200241,
          0.5440755796446853,
          0.38618167218709226,
          0.4348656278229449,
          0.5261592893706715,
          0.5487542155977115,
          0.6301327913279133,
          0.544102258355917,
          0.3539423868312757,
          0.47311773562180065,
          0.5190650406504065,
          0.5408976211984342,
          0.49522633744855965,
          0.5032909136475767,
          0.47057452574525743,
          0.36162466124661247,
          0.4867697480678511,
          0.5582000903342367,
          0.5973351400180668,
          0.5965050436615478,
          0.457568001605942,
          0.4330731707317073,
          0.4245650658991062,
          0.40754878048780485,
          0.6434156378600823,
          0.5698717253839205,
          0.5248030111412225,
          0.341917695473251,
          0.6007654320987654,
          0.5040650406504065,
          0.4331439325504366,
          0.5461687242798354,
          0.5152107422463114,
          0.5330851400180668,
          0.4593091689250226,
          0.5400178995617116,
          0.43454268292682924,
          0.5365351801666165,
          0.6009710177657333,
          0.4856567299006323,
          0.4308155174144334,
          0.5240333483890395,
          0.536875,
          0.43519753086419755,
          0.5592746913580247,
          0.5262592592592592,
          0.4066337448559671,
          0.5105308641975308,
          0.5187777777777778,
          0.4665185185185185,
          0.36627160493827166,
          0.5327353395061728,
          0.463554012345679,
          0.4452685185185185,
          0.482775720164609,
          0.446695987654321,
          0.6100823045267489,
          0.5831404320987654,
          0.39647239263803674,
          0.5278189300411523,
          0.45459104938271605,
          0.5025703101475459,
          0.5315514403292181,
          0.5837020475760313,
          0.47704203553146646,
          0.5362304526748971,
          0.5393884372177056,
          0.6159349593495934,
          0.5272913279132792,
          0.5593662551440329,
          0.535212172538392,
          0.44499179464016864,
          0.39737225233363443,
          0.41015741577168857,
          0.4519531014754592,
          0.6177203653518016,
          0.5520927431496537,
          0.3870947505771354,
          0.5245867710528958,
          0.46675180668473354,
          0.46833431195423064,
          0.4995267489711934,
          0.5791203703703703,
          0.5080534176452876,
          0.4620351966873706,
          0.5118407106293286,
          0.4206666666666667,
          0.4897543932737464,
          0.5312880658436213,
          0.467918586269196,
          0.46542155977115324,
          0.5288303221921108,
          0.494793586269196,
          0.3378319783197832,
          0.5847761718357924,
          0.434769120746763,
          0.4928610860182676,
          0.5409759108702198,
          0.5310315417043059,
          0.41568879855465224,
          0.5617867494824016,
          0.6465672990063234,
          0.4718807531967659,
          0.45361697722567285,
          0.480143179765131,
          0.5879186991869919,
          0.5160403726708074,
          0.6015061728395061,
          0.46310749774164406,
          0.5017134903802454,
          0.4229030412526348,
          0.4804657859078591,
          0.4333179012345679,
          0.5859459677826592,
          0.41223464317976516,
          0.5145762320586168,
          0.5130137508782495,
          0.5838366455886781,
          0.4799759108702198,
          0.6412198133092443,
          0.47605939476061426,
          0.37277657332128883,
          0.4535002509284352,
          0.5705646391649101,
          0.4257126367559972,
          0.6450841112114825,
          0.41737948982664425,
          0.5653390545016561,
          0.6285730201746461,
          0.4485000752785306,
          0.43967409414834885,
          0.5691657131386129,
          0.34927712536384625,
          0.6548075880758807,
          0.5294942899156326,
          0.485890817497132,
          0.378638462310549,
          0.6177683653444124,
          0.4552965712265819,
          0.5204206564287865,
          0.43337733901148534,
          0.5230074274816822,
          0.5588291672978841,
          0.4620408009635652,
          0.5090307136404698,
          0.5139112717053096,
          0.4481003713740841,
          0.6220264980427582,
          0.4761869694266301,
          0.44656207969487105,
          0.30038978942584454,
          0.4632739134798755,
          0.3679587473652514,
          0.5665587674395263,
          0.4583321718931475,
          0.5047398373983739,
          0.4875037639265282,
          0.6120124209575429,
          0.595563384522734,
          0.44914664257753684,
          0.46269841269841266,
          0.4888571428571429,
          0.5267857142857143,
          0.4487777777777778,
          0.3163294479520803,
          0.5059560697518444,
          0.5496376811594202,
          0.5150821256038647,
          0.41891539224385405,
          0.44728985507246377,
          0.548792270531401,
          0.4681547619047619,
          0.6563174603174603,
          0.544415458937198
         ]
        }
       ],
       "layout": {
        "shapes": [
         {
          "line": {
           "color": "white",
           "dash": "dash",
           "width": 0.5
          },
          "type": "line",
          "x0": 0,
          "x1": 1,
          "xref": "x domain",
          "y0": 0.5,
          "y1": 0.5,
          "yref": "y"
         }
        ],
        "template": {
         "data": {
          "bar": [
           {
            "error_x": {
             "color": "#f2f5fa"
            },
            "error_y": {
             "color": "#f2f5fa"
            },
            "marker": {
             "line": {
              "color": "rgb(17,17,17)",
              "width": 0.5
             },
             "pattern": {
              "fillmode": "overlay",
              "size": 10,
              "solidity": 0.2
             }
            },
            "type": "bar"
           }
          ],
          "barpolar": [
           {
            "marker": {
             "line": {
              "color": "rgb(17,17,17)",
              "width": 0.5
             },
             "pattern": {
              "fillmode": "overlay",
              "size": 10,
              "solidity": 0.2
             }
            },
            "type": "barpolar"
           }
          ],
          "carpet": [
           {
            "aaxis": {
             "endlinecolor": "#A2B1C6",
             "gridcolor": "#506784",
             "linecolor": "#506784",
             "minorgridcolor": "#506784",
             "startlinecolor": "#A2B1C6"
            },
            "baxis": {
             "endlinecolor": "#A2B1C6",
             "gridcolor": "#506784",
             "linecolor": "#506784",
             "minorgridcolor": "#506784",
             "startlinecolor": "#A2B1C6"
            },
            "type": "carpet"
           }
          ],
          "choropleth": [
           {
            "colorbar": {
             "outlinewidth": 0,
             "ticks": ""
            },
            "type": "choropleth"
           }
          ],
          "contour": [
           {
            "colorbar": {
             "outlinewidth": 0,
             "ticks": ""
            },
            "colorscale": [
             [
              0,
              "#0d0887"
             ],
             [
              0.1111111111111111,
              "#46039f"
             ],
             [
              0.2222222222222222,
              "#7201a8"
             ],
             [
              0.3333333333333333,
              "#9c179e"
             ],
             [
              0.4444444444444444,
              "#bd3786"
             ],
             [
              0.5555555555555556,
              "#d8576b"
             ],
             [
              0.6666666666666666,
              "#ed7953"
             ],
             [
              0.7777777777777778,
              "#fb9f3a"
             ],
             [
              0.8888888888888888,
              "#fdca26"
             ],
             [
              1,
              "#f0f921"
             ]
            ],
            "type": "contour"
           }
          ],
          "contourcarpet": [
           {
            "colorbar": {
             "outlinewidth": 0,
             "ticks": ""
            },
            "type": "contourcarpet"
           }
          ],
          "heatmap": [
           {
            "colorbar": {
             "outlinewidth": 0,
             "ticks": ""
            },
            "colorscale": [
             [
              0,
              "#0d0887"
             ],
             [
              0.1111111111111111,
              "#46039f"
             ],
             [
              0.2222222222222222,
              "#7201a8"
             ],
             [
              0.3333333333333333,
              "#9c179e"
             ],
             [
              0.4444444444444444,
              "#bd3786"
             ],
             [
              0.5555555555555556,
              "#d8576b"
             ],
             [
              0.6666666666666666,
              "#ed7953"
             ],
             [
              0.7777777777777778,
              "#fb9f3a"
             ],
             [
              0.8888888888888888,
              "#fdca26"
             ],
             [
              1,
              "#f0f921"
             ]
            ],
            "type": "heatmap"
           }
          ],
          "heatmapgl": [
           {
            "colorbar": {
             "outlinewidth": 0,
             "ticks": ""
            },
            "colorscale": [
             [
              0,
              "#0d0887"
             ],
             [
              0.1111111111111111,
              "#46039f"
             ],
             [
              0.2222222222222222,
              "#7201a8"
             ],
             [
              0.3333333333333333,
              "#9c179e"
             ],
             [
              0.4444444444444444,
              "#bd3786"
             ],
             [
              0.5555555555555556,
              "#d8576b"
             ],
             [
              0.6666666666666666,
              "#ed7953"
             ],
             [
              0.7777777777777778,
              "#fb9f3a"
             ],
             [
              0.8888888888888888,
              "#fdca26"
             ],
             [
              1,
              "#f0f921"
             ]
            ],
            "type": "heatmapgl"
           }
          ],
          "histogram": [
           {
            "marker": {
             "pattern": {
              "fillmode": "overlay",
              "size": 10,
              "solidity": 0.2
             }
            },
            "type": "histogram"
           }
          ],
          "histogram2d": [
           {
            "colorbar": {
             "outlinewidth": 0,
             "ticks": ""
            },
            "colorscale": [
             [
              0,
              "#0d0887"
             ],
             [
              0.1111111111111111,
              "#46039f"
             ],
             [
              0.2222222222222222,
              "#7201a8"
             ],
             [
              0.3333333333333333,
              "#9c179e"
             ],
             [
              0.4444444444444444,
              "#bd3786"
             ],
             [
              0.5555555555555556,
              "#d8576b"
             ],
             [
              0.6666666666666666,
              "#ed7953"
             ],
             [
              0.7777777777777778,
              "#fb9f3a"
             ],
             [
              0.8888888888888888,
              "#fdca26"
             ],
             [
              1,
              "#f0f921"
             ]
            ],
            "type": "histogram2d"
           }
          ],
          "histogram2dcontour": [
           {
            "colorbar": {
             "outlinewidth": 0,
             "ticks": ""
            },
            "colorscale": [
             [
              0,
              "#0d0887"
             ],
             [
              0.1111111111111111,
              "#46039f"
             ],
             [
              0.2222222222222222,
              "#7201a8"
             ],
             [
              0.3333333333333333,
              "#9c179e"
             ],
             [
              0.4444444444444444,
              "#bd3786"
             ],
             [
              0.5555555555555556,
              "#d8576b"
             ],
             [
              0.6666666666666666,
              "#ed7953"
             ],
             [
              0.7777777777777778,
              "#fb9f3a"
             ],
             [
              0.8888888888888888,
              "#fdca26"
             ],
             [
              1,
              "#f0f921"
             ]
            ],
            "type": "histogram2dcontour"
           }
          ],
          "mesh3d": [
           {
            "colorbar": {
             "outlinewidth": 0,
             "ticks": ""
            },
            "type": "mesh3d"
           }
          ],
          "parcoords": [
           {
            "line": {
             "colorbar": {
              "outlinewidth": 0,
              "ticks": ""
             }
            },
            "type": "parcoords"
           }
          ],
          "pie": [
           {
            "automargin": true,
            "type": "pie"
           }
          ],
          "scatter": [
           {
            "marker": {
             "line": {
              "color": "#283442"
             }
            },
            "type": "scatter"
           }
          ],
          "scatter3d": [
           {
            "line": {
             "colorbar": {
              "outlinewidth": 0,
              "ticks": ""
             }
            },
            "marker": {
             "colorbar": {
              "outlinewidth": 0,
              "ticks": ""
             }
            },
            "type": "scatter3d"
           }
          ],
          "scattercarpet": [
           {
            "marker": {
             "colorbar": {
              "outlinewidth": 0,
              "ticks": ""
             }
            },
            "type": "scattercarpet"
           }
          ],
          "scattergeo": [
           {
            "marker": {
             "colorbar": {
              "outlinewidth": 0,
              "ticks": ""
             }
            },
            "type": "scattergeo"
           }
          ],
          "scattergl": [
           {
            "marker": {
             "line": {
              "color": "#283442"
             }
            },
            "type": "scattergl"
           }
          ],
          "scattermapbox": [
           {
            "marker": {
             "colorbar": {
              "outlinewidth": 0,
              "ticks": ""
             }
            },
            "type": "scattermapbox"
           }
          ],
          "scatterpolar": [
           {
            "marker": {
             "colorbar": {
              "outlinewidth": 0,
              "ticks": ""
             }
            },
            "type": "scatterpolar"
           }
          ],
          "scatterpolargl": [
           {
            "marker": {
             "colorbar": {
              "outlinewidth": 0,
              "ticks": ""
             }
            },
            "type": "scatterpolargl"
           }
          ],
          "scatterternary": [
           {
            "marker": {
             "colorbar": {
              "outlinewidth": 0,
              "ticks": ""
             }
            },
            "type": "scatterternary"
           }
          ],
          "surface": [
           {
            "colorbar": {
             "outlinewidth": 0,
             "ticks": ""
            },
            "colorscale": [
             [
              0,
              "#0d0887"
             ],
             [
              0.1111111111111111,
              "#46039f"
             ],
             [
              0.2222222222222222,
              "#7201a8"
             ],
             [
              0.3333333333333333,
              "#9c179e"
             ],
             [
              0.4444444444444444,
              "#bd3786"
             ],
             [
              0.5555555555555556,
              "#d8576b"
             ],
             [
              0.6666666666666666,
              "#ed7953"
             ],
             [
              0.7777777777777778,
              "#fb9f3a"
             ],
             [
              0.8888888888888888,
              "#fdca26"
             ],
             [
              1,
              "#f0f921"
             ]
            ],
            "type": "surface"
           }
          ],
          "table": [
           {
            "cells": {
             "fill": {
              "color": "#506784"
             },
             "line": {
              "color": "rgb(17,17,17)"
             }
            },
            "header": {
             "fill": {
              "color": "#2a3f5f"
             },
             "line": {
              "color": "rgb(17,17,17)"
             }
            },
            "type": "table"
           }
          ]
         },
         "layout": {
          "annotationdefaults": {
           "arrowcolor": "#f2f5fa",
           "arrowhead": 0,
           "arrowwidth": 1
          },
          "autotypenumbers": "strict",
          "coloraxis": {
           "colorbar": {
            "outlinewidth": 0,
            "ticks": ""
           }
          },
          "colorscale": {
           "diverging": [
            [
             0,
             "#8e0152"
            ],
            [
             0.1,
             "#c51b7d"
            ],
            [
             0.2,
             "#de77ae"
            ],
            [
             0.3,
             "#f1b6da"
            ],
            [
             0.4,
             "#fde0ef"
            ],
            [
             0.5,
             "#f7f7f7"
            ],
            [
             0.6,
             "#e6f5d0"
            ],
            [
             0.7,
             "#b8e186"
            ],
            [
             0.8,
             "#7fbc41"
            ],
            [
             0.9,
             "#4d9221"
            ],
            [
             1,
             "#276419"
            ]
           ],
           "sequential": [
            [
             0,
             "#0d0887"
            ],
            [
             0.1111111111111111,
             "#46039f"
            ],
            [
             0.2222222222222222,
             "#7201a8"
            ],
            [
             0.3333333333333333,
             "#9c179e"
            ],
            [
             0.4444444444444444,
             "#bd3786"
            ],
            [
             0.5555555555555556,
             "#d8576b"
            ],
            [
             0.6666666666666666,
             "#ed7953"
            ],
            [
             0.7777777777777778,
             "#fb9f3a"
            ],
            [
             0.8888888888888888,
             "#fdca26"
            ],
            [
             1,
             "#f0f921"
            ]
           ],
           "sequentialminus": [
            [
             0,
             "#0d0887"
            ],
            [
             0.1111111111111111,
             "#46039f"
            ],
            [
             0.2222222222222222,
             "#7201a8"
            ],
            [
             0.3333333333333333,
             "#9c179e"
            ],
            [
             0.4444444444444444,
             "#bd3786"
            ],
            [
             0.5555555555555556,
             "#d8576b"
            ],
            [
             0.6666666666666666,
             "#ed7953"
            ],
            [
             0.7777777777777778,
             "#fb9f3a"
            ],
            [
             0.8888888888888888,
             "#fdca26"
            ],
            [
             1,
             "#f0f921"
            ]
           ]
          },
          "colorway": [
           "#636efa",
           "#EF553B",
           "#00cc96",
           "#ab63fa",
           "#FFA15A",
           "#19d3f3",
           "#FF6692",
           "#B6E880",
           "#FF97FF",
           "#FECB52"
          ],
          "font": {
           "color": "#f2f5fa"
          },
          "geo": {
           "bgcolor": "rgb(17,17,17)",
           "lakecolor": "rgb(17,17,17)",
           "landcolor": "rgb(17,17,17)",
           "showlakes": true,
           "showland": true,
           "subunitcolor": "#506784"
          },
          "hoverlabel": {
           "align": "left"
          },
          "hovermode": "closest",
          "mapbox": {
           "style": "dark"
          },
          "paper_bgcolor": "rgb(17,17,17)",
          "plot_bgcolor": "rgb(17,17,17)",
          "polar": {
           "angularaxis": {
            "gridcolor": "#506784",
            "linecolor": "#506784",
            "ticks": ""
           },
           "bgcolor": "rgb(17,17,17)",
           "radialaxis": {
            "gridcolor": "#506784",
            "linecolor": "#506784",
            "ticks": ""
           }
          },
          "scene": {
           "xaxis": {
            "backgroundcolor": "rgb(17,17,17)",
            "gridcolor": "#506784",
            "gridwidth": 2,
            "linecolor": "#506784",
            "showbackground": true,
            "ticks": "",
            "zerolinecolor": "#C8D4E3"
           },
           "yaxis": {
            "backgroundcolor": "rgb(17,17,17)",
            "gridcolor": "#506784",
            "gridwidth": 2,
            "linecolor": "#506784",
            "showbackground": true,
            "ticks": "",
            "zerolinecolor": "#C8D4E3"
           },
           "zaxis": {
            "backgroundcolor": "rgb(17,17,17)",
            "gridcolor": "#506784",
            "gridwidth": 2,
            "linecolor": "#506784",
            "showbackground": true,
            "ticks": "",
            "zerolinecolor": "#C8D4E3"
           }
          },
          "shapedefaults": {
           "line": {
            "color": "#f2f5fa"
           }
          },
          "sliderdefaults": {
           "bgcolor": "#C8D4E3",
           "bordercolor": "rgb(17,17,17)",
           "borderwidth": 1,
           "tickwidth": 0
          },
          "ternary": {
           "aaxis": {
            "gridcolor": "#506784",
            "linecolor": "#506784",
            "ticks": ""
           },
           "baxis": {
            "gridcolor": "#506784",
            "linecolor": "#506784",
            "ticks": ""
           },
           "bgcolor": "rgb(17,17,17)",
           "caxis": {
            "gridcolor": "#506784",
            "linecolor": "#506784",
            "ticks": ""
           }
          },
          "title": {
           "x": 0.05
          },
          "updatemenudefaults": {
           "bgcolor": "#506784",
           "borderwidth": 0
          },
          "xaxis": {
           "automargin": true,
           "gridcolor": "#283442",
           "linecolor": "#506784",
           "ticks": "",
           "title": {
            "standoff": 15
           },
           "zerolinecolor": "#283442",
           "zerolinewidth": 2
          },
          "yaxis": {
           "automargin": true,
           "gridcolor": "#283442",
           "linecolor": "#506784",
           "ticks": "",
           "title": {
            "standoff": 15
           },
           "zerolinecolor": "#283442",
           "zerolinewidth": 2
          }
         }
        },
        "title": {
         "text": "Average Winning Percentage for Sports Locales Over Time"
        },
        "xaxis": {
         "title": {
          "text": "Year"
         }
        },
        "yaxis": {
         "title": {
          "text": "Winning Percentage"
         }
        }
       }
      }
     },
     "metadata": {},
     "output_type": "display_data"
    }
   ],
   "source": [
    "blah = temp[temp.year>1950]\n",
    "fig = go.Figure(go.Scatter(\n",
    "    x = temp.year.tolist(),\n",
    "    y = temp.win_pct.tolist(),\n",
    "    text = temp.teams.tolist(),\n",
    "    mode=\"markers\",\n",
    "    hovertemplate =\n",
    "    '<br><b>Year</b>: %{x}<br>'+\n",
    "    '<b>Winning Pct.</b>: %{y:.2f}<br>'+\n",
    "    '%{text}' +\n",
    "    '<extra></extra>')\n",
    "    )\n",
    "fig.update_layout(\n",
    "    title=\"Average Winning Percentage for Sports Locales Over Time\",\n",
    "    xaxis_title=\"Year\",\n",
    "    yaxis_title=\"Winning Percentage\"\n",
    ")\n",
    "fig.add_hline(y=.5, line_width=.5, line_dash=\"dash\", line_color=\"white\")\n",
    "fig.write_html(os.path.join(output_dir,\"season_scatter.html\"))\n",
    "fig.show()"
   ]
  },
  {
   "attachments": {},
   "cell_type": "markdown",
   "metadata": {},
   "source": [
    "Almost every season is in the .4-.6 range. The truly exceptional (and unexceptional)"
   ]
  },
  {
   "attachments": {},
   "cell_type": "markdown",
   "metadata": {},
   "source": [
    "## Best and Worst Seasons"
   ]
  },
  {
   "cell_type": "code",
   "execution_count": 60,
   "metadata": {},
   "outputs": [
    {
     "name": "stdout",
     "output_type": "stream",
     "text": [
      "|   year | place        |   win_pct | teams                                                                                                      |\n",
      "|-------:|:-------------|----------:|:-----------------------------------------------------------------------------------------------------------|\n",
      "|   1927 | New York     |  0.733563 | New York Giants: 0.889<br>New York Giants: 0.597<br>New York Yankees: 0.714<br>                            |\n",
      "|   1998 | Atlanta      |  0.71644  | Atlanta Falcons: 0.875<br>Atlanta Braves: 0.654<br>Atlanta Hawks: 0.62<br>                                 |\n",
      "|   1972 | Boston       |  0.689898 | Boston Red Sox: 0.548<br>Boston Celtics: 0.829<br>Boston Bruins: 0.692<br>                                 |\n",
      "|   1937 | Chicago      |  0.687446 | Chicago Bears: 0.9<br>Chicago White Sox: 0.558<br>Chicago Cubs: 0.603<br>                                  |\n",
      "|   1926 | Chicago      |  0.687293 | Chicago Bears: 1.0<br>Chicago White Sox: 0.529<br>Chicago Cubs: 0.532<br>                                  |\n",
      "|   2007 | Dallas       |  0.681585 | Dallas Cowboys: 0.813<br>Dallas Mavericks: 0.622<br>Dallas Stars: 0.609<br>                                |\n",
      "|   2006 | Dallas       |  0.675447 | Dallas Cowboys: 0.563<br>Dallas Mavericks: 0.817<br>Dallas Stars: 0.646<br>                                |\n",
      "|   1966 | Philadelphia |  0.673346 | Philadelphia Eagles: 0.643<br>Philadelphia Phillies: 0.537<br>Philadelphia 76ers: 0.84<br>                 |\n",
      "|   1929 | New York     |  0.67224  | New York Giants: 0.889<br>New York Giants: 0.556<br>New York Yankees: 0.571<br>                            |\n",
      "|   1930 | New York     |  0.667594 | New York Yankees: 0.714<br>New York Giants: 0.833<br>New York Giants: 0.564<br>New York Yankees: 0.558<br> |\n"
     ]
    }
   ],
   "source": [
    "print(temp.sort_values('win_pct', ascending=False).head(10).to_markdown(index=False))"
   ]
  },
  {
   "cell_type": "code",
   "execution_count": 58,
   "metadata": {},
   "outputs": [
    {
     "name": "stdout",
     "output_type": "stream",
     "text": [
      "|   year | place        |   win_pct | teams                                                                                                                    |\n",
      "|-------:|:-------------|----------:|:-------------------------------------------------------------------------------------------------------------------------|\n",
      "|   1971 | Buffalo      |  0.215564 | Buffalo Bills: 0.071<br>Buffalo Braves: 0.268<br>Buffalo Sabres: 0.307<br>                                               |\n",
      "|   1972 | Philadelphia |  0.250135 | Philadelphia Eagles: 0.179<br>Philadelphia Phillies: 0.378<br>Philadelphia 76ers: 0.11<br>Philadelphia Flyers: 0.333<br> |\n",
      "|   1939 | Philadelphia |  0.253285 | Philadelphia Eagles: 0.1<br>Philadelphia Athletics: 0.361<br>Philadelphia Phillies: 0.298<br>                            |\n",
      "|   1940 | Philadelphia |  0.256149 | Philadelphia Eagles: 0.091<br>Philadelphia Athletics: 0.350<br>Philadelphia Phillies: 0.326<br>                          |\n",
      "|   1936 | Philadelphia |  0.260018 | Philadelphia Eagles: 0.083<br>Philadelphia Athletics: 0.346<br>Philadelphia Phillies: 0.350<br>                          |\n",
      "|   1972 | Buffalo      |  0.260709 | Buffalo Bills: 0.321<br>Buffalo Braves: 0.256<br>Buffalo Sabres: 0.205<br>                                               |\n",
      "|   1942 | Philadelphia |  0.27243  | Philadelphia Eagles: 0.182<br>Philadelphia Athletics: 0.357<br>Philadelphia Phillies: 0.278<br>                          |\n",
      "|   1979 | Detroit      |  0.283863 | Detroit Lions: 0.125<br>Detroit Tigers: 0.527<br>Detroit Pistons: 0.195<br>Detroit Red Wings: 0.287<br>                  |\n",
      "|   1969 | Pittsburgh   |  0.292456 | Pittsburgh Steelers: 0.071<br>Pittsburgh Pirates: 0.543<br>Pittsburgh Penguins: 0.263<br>                                |\n",
      "|   1941 | Philadelphia |  0.298268 | Philadelphia Eagles: 0.2<br>Philadelphia Athletics: 0.415<br>Philadelphia Phillies: 0.279<br>                            |\n"
     ]
    }
   ],
   "source": [
    "print(temp.sort_values('win_pct').head(10).to_markdown(index=False))"
   ]
  },
  {
   "attachments": {},
   "cell_type": "markdown",
   "metadata": {},
   "source": [
    "## All Places by Historical Win Percentage"
   ]
  },
  {
   "cell_type": "code",
   "execution_count": 128,
   "metadata": {},
   "outputs": [
    {
     "data": {
      "application/vnd.plotly.v1+json": {
       "config": {
        "plotlyServerURL": "https://plot.ly"
       },
       "data": [
        {
         "customdata": [
          "Green Bay Packers: 0.574<br>",
          "Las Vegas Raiders: 0.530<br>Vegas Golden Knights: 0.565<br>",
          "Boston Americans: 0.520<br>Boston Beaneaters: 0.546<br>Boston Bees: 0.466<br>Boston Braves: 0.449<br>Boston Bruins: 0.482<br>Boston Bulldogs: 0.571<br>Boston Celtics: 0.585<br>Boston Doves: 0.360<br>Boston Red Caps: 0.579<br>Boston Red Sox: 0.517<br>Boston Rustlers: 0.291<br>New England Patriots: 0.558<br>Worcester Ruby Legs: 0.362<br>",
          "Indianapolis Blues: 0.4<br>Indianapolis Colts: 0.531<br>Indianapolis Hoosiers: 0.368<br>",
          "Dallas Cowboys: 0.569<br>Dallas Mavericks: 0.504<br>Dallas Stars: 0.513<br>Dallas Texans: 0.244<br>",
          "Montreal Canadiens: 0.522<br>Montreal Expos: 0.485<br>",
          "Chicago Bears: 0.576<br>Chicago Blackhawks: 0.441<br>Chicago Bulls: 0.520<br>Chicago Colts: 0.515<br>Chicago Cubs: 0.507<br>Chicago Hornets: 0.0<br>Chicago Orphans: 0.483<br>Chicago Packers: 0.225<br>Chicago White Sox: 0.502<br>Chicago White Stockings: 0.625<br>Chicago Zephyrs: 0.313<br>Evansville Crimson Giants: 0.0<br>Kenosha Maroons: 0.404<br>Rock Island Independents: 0.601<br>",
          "Baltimore Colts: 0.020<br>Baltimore Orioles: 0.512<br>Baltimore Ravens: 0.563<br>",
          "Oakland Athletics: 0.521<br>Oakland Seals: 0.291<br>San Francisco 49ers: 0.501<br>San Francisco Giants: 0.514<br>San Jose Sharks: 0.472<br>",
          "Florida Marlins: 0.476<br>Florida Panthers: 0.413<br>Miami Dolphins: 0.555<br>Miami Heat: 0.516<br>Miami Marlins: 0.438<br>",
          "Anaheim Angels: 0.512<br>Anaheim Ducks: 0.538<br>Los Angeles Angels: 0.476<br>Los Angeles Angels of Anaheim: 0.527<br>Los Angeles Buccaneers: 0.75<br>Los Angeles Chargers: 0.501<br>Los Angeles Clippers: 0.399<br>Los Angeles Dodgers: 0.543<br>Los Angeles Dons: 0.0<br>Los Angeles Kings: 0.420<br>Los Angeles Lakers: 0.598<br>Los Angeles Rams: 0.508<br>Mighty Ducks of Anaheim: 0.397<br>",
          "Houston Astros: 0.501<br>Houston Colt .45's: 0.404<br>Houston Rockets: 0.521<br>Houston Texans: 0.444<br>",
          "Seattle Mariners: 0.469<br>Seattle Pilots: 0.395<br>Seattle Seahawks: 0.505<br>Seattle Supersonics: 0.523<br>",
          "Card-Pitt Combine: 0.0<br>Pittsburg Alleghenys: 0.391<br>Pittsburgh Penguins: 0.455<br>Pittsburgh Pirates: 0.506<br>Pittsburgh Steelers: 0.521<br>",
          "Milwaukee Badgers: 0.343<br>Milwaukee Braves: 0.563<br>Milwaukee Brewers: 0.480<br>Milwaukee Bucks: 0.509<br>Milwaukee Grays: 0.25<br>Racine Tornadoes: 0.467<br>",
          "Cleveland Barons: 0.293<br>Cleveland Blues: 0.443<br>Cleveland Bronchos: 0.507<br>Cleveland Browns: 0.477<br>Cleveland Bulldogs: 0.613<br>Cleveland Cavaliers: 0.468<br>Cleveland Indians: 0.513<br>Cleveland Naps: 0.515<br>Cleveland Spiders: 0.495<br>",
          "Brooklyn Bridegrooms: 0.485<br>Brooklyn Dodgers: 0.491<br>Brooklyn Grooms: 0.529<br>Brooklyn Nets: 0.414<br>Brooklyn Robins: 0.505<br>Brooklyn Superbas: 0.464<br>New Jersey Devils: 0.466<br>New York Giants: 0.544<br>New York Gothams: 0.516<br>New York Highlanders: 0.492<br>New York Islanders: 0.443<br>New York Jets: 0.444<br>New York Knicks: 0.494<br>New York Mets: 0.479<br>New York Mutuals: 0.375<br>New York Rangers: 0.443<br>New York Yankees: 0.535<br>Newark Tornadoes: 0.380<br>Rochester Jeffersons: 0.0<br>Staten Island Stapletons: 0.417<br>Syracuse Nationals: 0.570<br>Syracuse Stars: 0.314<br>",
          "Texas Rangers: 0.489<br>",
          "Colorado Avalanche: 0.501<br>Colorado Rockies: 0.428<br>Denver Broncos: 0.520<br>Denver Nuggets: 0.480<br>",
          "Kansas City Athletics: 0.403<br>Kansas City Chiefs: 0.534<br>Kansas City Cowboys: 0.345<br>Kansas City Royals: 0.479<br>Kansas City Scouts: 0.168<br>",
          "Detroit Lions: 0.463<br>Detroit Panthers: 0.611<br>Detroit Pistons: 0.486<br>Detroit Red Wings: 0.461<br>Detroit Tigers: 0.503<br>Detroit Wolverines: 0.519<br>",
          "Phil-Pitt Combine: 0.556<br>Philadelphia 76ers: 0.499<br>Philadelphia Athletics: 0.473<br>Philadelphia Blue Jays: 0.407<br>Philadelphia Eagles: 0.478<br>Philadelphia Flyers: 0.499<br>Philadelphia Phillies: 0.472<br>Philadelphia Quakers: 0.470<br>",
          "St. Louis All-Stars: 0.2<br>St. Louis Blues: 0.463<br>St. Louis Brown Stockings: 0.584<br>St. Louis Browns: 0.421<br>St. Louis Cardinals: 0.520<br>St. Louis Gunners: 0.333<br>St. Louis Maroons: 0.342<br>St. Louis Perfectos: 0.556<br>",
          "Cincinnati Bengals: 0.449<br>Cincinnati Redlegs: 0.508<br>Cincinnati Reds: 0.496<br>Cincinnati RedsReds: 0.166<br>",
          "Atlanta Blackhawks: 0.410<br>Atlanta Braves: 0.516<br>Atlanta Falcons: 0.436<br>Atlanta Flames: 0.420<br>Atlanta Hawks: 0.502<br>Atlanta Thrashers: 0.379<br>",
          "Washington Bullets: 0.479<br>Washington Capitals: 0.465<br>Washington Commanders: 0.504<br>Washington Nationals: 0.464<br>Washington Senators: 0.448<br>Washington Wizards: 0.418<br>",
          "Minneapolis Red Jackets: 0.160<br>Minnesota North Stars: 0.367<br>Minnesota Timberwolves: 0.391<br>Minnesota Twins: 0.497<br>Minnesota Vikings: 0.545<br>Minnesota Wild: 0.480<br>",
          "Carolina Hurricanes: 0.450<br>Carolina Panthers: 0.482<br>",
          "San Diego Padres: 0.462<br>",
          "Arizona Cardinals: 0.421<br>Arizona Coyotes: 0.397<br>Arizona Diamondbacks: 0.491<br>Phoenix Coyotes: 0.451<br>Phoenix Suns: 0.541<br>",
          "Nashville Predators: 0.487<br>Tennessee Titans: 0.452<br>",
          "New Orleans Pelicans: 0.429<br>New Orleans Saints: 0.461<br>",
          "Toronto Blue Jays: 0.493<br>Toronto Maple Leafs: 0.431<br>Toronto Raptors: 0.446<br>",
          "Buffalo Bills: 0.433<br>Buffalo Bisons: 0.487<br>Buffalo Braves: 0.394<br>Buffalo Sabres: 0.459<br>",
          "Tampa Bay Buccaneers: 0.393<br>Tampa Bay Devil Rays: 0.398<br>Tampa Bay Lightning: 0.442<br>Tampa Bay Rays: 0.545<br>",
          "Vancouver Canucks: 0.417<br>",
          "Akron Indians: 0.327<br>Canton Bulldogs: 0.652<br>Columbus Blue Jackets: 0.438<br>Columbus Tigers: 0.239<br>Frankford Yellow Jackets: 0.604<br>Hammond Pros: 0.183<br>Oorang Indians: 0.212<br>Troy Trojans: 0.408<br>"
         ],
         "hovertemplate": "<br><b>Area</b>: %{x}<br><b>Winning Pct.</b>: %{y:.2f}<br>%{customdata}<extra></extra>",
         "text": [
          "0.574",
          "0.532",
          "0.523",
          "0.522",
          "0.518",
          "0.509",
          "0.509",
          "0.506",
          "0.503",
          "0.502",
          "0.500",
          "0.498",
          "0.498",
          "0.498",
          "0.492",
          "0.492",
          "0.490",
          "0.489",
          "0.487",
          "0.487",
          "0.482",
          "0.481",
          "0.480",
          "0.480",
          "0.476",
          "0.471",
          "0.469",
          "0.467",
          "0.462",
          "0.462",
          "0.459",
          "0.459",
          "0.454",
          "0.443",
          "0.428",
          "0.417",
          "0.414"
         ],
         "type": "bar",
         "x": [
          "Green Bay",
          "Las Vegas",
          "Boston",
          "Indianapolis",
          "Dallas",
          "Montreal",
          "Chicago",
          "Baltimore",
          "San Francisco",
          "Miami",
          "Los Angeles",
          "Houston",
          "Seattle",
          "Pittsburgh",
          "Milwaukee",
          "Cleveland",
          "New York",
          "Texas",
          "Colorado",
          "Kansas City",
          "Detroit",
          "Philadelphia",
          "St. Louis",
          "Cincinnati",
          "Atlanta",
          "Washington",
          "Minnesota",
          "Carolina",
          "San Diego",
          "Arizona",
          "Tennessee",
          "New Orleans",
          "Toronto",
          "Buffalo",
          "Tampa Bay",
          "Vancouver",
          "Ohio"
         ],
         "y": [
          0.5746767676767677,
          0.5323849568447269,
          0.5230034213058132,
          0.5225044398817201,
          0.518411517925248,
          0.509884385144408,
          0.5091401603426792,
          0.506293369570059,
          0.5033742277692156,
          0.5022778432458518,
          0.5005910169798758,
          0.4988702053444167,
          0.49848334851416054,
          0.4982728932273022,
          0.49292142307314823,
          0.49253105314667117,
          0.49062251081745656,
          0.4896075842121414,
          0.4878593774685781,
          0.4878205202060303,
          0.48297530527093196,
          0.4810891501543874,
          0.48096168627618546,
          0.48036220647343525,
          0.47691924496250165,
          0.4711905201101265,
          0.46985757757194024,
          0.46760159114458794,
          0.4626414130912892,
          0.46212356410799904,
          0.4596992125008655,
          0.45905172413793105,
          0.45415165131897617,
          0.4436084583265515,
          0.428674132792889,
          0.4179798983091774,
          0.4149686308891422
         ]
        }
       ],
       "layout": {
        "template": {
         "data": {
          "bar": [
           {
            "error_x": {
             "color": "#f2f5fa"
            },
            "error_y": {
             "color": "#f2f5fa"
            },
            "marker": {
             "line": {
              "color": "rgb(17,17,17)",
              "width": 0.5
             },
             "pattern": {
              "fillmode": "overlay",
              "size": 10,
              "solidity": 0.2
             }
            },
            "type": "bar"
           }
          ],
          "barpolar": [
           {
            "marker": {
             "line": {
              "color": "rgb(17,17,17)",
              "width": 0.5
             },
             "pattern": {
              "fillmode": "overlay",
              "size": 10,
              "solidity": 0.2
             }
            },
            "type": "barpolar"
           }
          ],
          "carpet": [
           {
            "aaxis": {
             "endlinecolor": "#A2B1C6",
             "gridcolor": "#506784",
             "linecolor": "#506784",
             "minorgridcolor": "#506784",
             "startlinecolor": "#A2B1C6"
            },
            "baxis": {
             "endlinecolor": "#A2B1C6",
             "gridcolor": "#506784",
             "linecolor": "#506784",
             "minorgridcolor": "#506784",
             "startlinecolor": "#A2B1C6"
            },
            "type": "carpet"
           }
          ],
          "choropleth": [
           {
            "colorbar": {
             "outlinewidth": 0,
             "ticks": ""
            },
            "type": "choropleth"
           }
          ],
          "contour": [
           {
            "colorbar": {
             "outlinewidth": 0,
             "ticks": ""
            },
            "colorscale": [
             [
              0,
              "#0d0887"
             ],
             [
              0.1111111111111111,
              "#46039f"
             ],
             [
              0.2222222222222222,
              "#7201a8"
             ],
             [
              0.3333333333333333,
              "#9c179e"
             ],
             [
              0.4444444444444444,
              "#bd3786"
             ],
             [
              0.5555555555555556,
              "#d8576b"
             ],
             [
              0.6666666666666666,
              "#ed7953"
             ],
             [
              0.7777777777777778,
              "#fb9f3a"
             ],
             [
              0.8888888888888888,
              "#fdca26"
             ],
             [
              1,
              "#f0f921"
             ]
            ],
            "type": "contour"
           }
          ],
          "contourcarpet": [
           {
            "colorbar": {
             "outlinewidth": 0,
             "ticks": ""
            },
            "type": "contourcarpet"
           }
          ],
          "heatmap": [
           {
            "colorbar": {
             "outlinewidth": 0,
             "ticks": ""
            },
            "colorscale": [
             [
              0,
              "#0d0887"
             ],
             [
              0.1111111111111111,
              "#46039f"
             ],
             [
              0.2222222222222222,
              "#7201a8"
             ],
             [
              0.3333333333333333,
              "#9c179e"
             ],
             [
              0.4444444444444444,
              "#bd3786"
             ],
             [
              0.5555555555555556,
              "#d8576b"
             ],
             [
              0.6666666666666666,
              "#ed7953"
             ],
             [
              0.7777777777777778,
              "#fb9f3a"
             ],
             [
              0.8888888888888888,
              "#fdca26"
             ],
             [
              1,
              "#f0f921"
             ]
            ],
            "type": "heatmap"
           }
          ],
          "heatmapgl": [
           {
            "colorbar": {
             "outlinewidth": 0,
             "ticks": ""
            },
            "colorscale": [
             [
              0,
              "#0d0887"
             ],
             [
              0.1111111111111111,
              "#46039f"
             ],
             [
              0.2222222222222222,
              "#7201a8"
             ],
             [
              0.3333333333333333,
              "#9c179e"
             ],
             [
              0.4444444444444444,
              "#bd3786"
             ],
             [
              0.5555555555555556,
              "#d8576b"
             ],
             [
              0.6666666666666666,
              "#ed7953"
             ],
             [
              0.7777777777777778,
              "#fb9f3a"
             ],
             [
              0.8888888888888888,
              "#fdca26"
             ],
             [
              1,
              "#f0f921"
             ]
            ],
            "type": "heatmapgl"
           }
          ],
          "histogram": [
           {
            "marker": {
             "pattern": {
              "fillmode": "overlay",
              "size": 10,
              "solidity": 0.2
             }
            },
            "type": "histogram"
           }
          ],
          "histogram2d": [
           {
            "colorbar": {
             "outlinewidth": 0,
             "ticks": ""
            },
            "colorscale": [
             [
              0,
              "#0d0887"
             ],
             [
              0.1111111111111111,
              "#46039f"
             ],
             [
              0.2222222222222222,
              "#7201a8"
             ],
             [
              0.3333333333333333,
              "#9c179e"
             ],
             [
              0.4444444444444444,
              "#bd3786"
             ],
             [
              0.5555555555555556,
              "#d8576b"
             ],
             [
              0.6666666666666666,
              "#ed7953"
             ],
             [
              0.7777777777777778,
              "#fb9f3a"
             ],
             [
              0.8888888888888888,
              "#fdca26"
             ],
             [
              1,
              "#f0f921"
             ]
            ],
            "type": "histogram2d"
           }
          ],
          "histogram2dcontour": [
           {
            "colorbar": {
             "outlinewidth": 0,
             "ticks": ""
            },
            "colorscale": [
             [
              0,
              "#0d0887"
             ],
             [
              0.1111111111111111,
              "#46039f"
             ],
             [
              0.2222222222222222,
              "#7201a8"
             ],
             [
              0.3333333333333333,
              "#9c179e"
             ],
             [
              0.4444444444444444,
              "#bd3786"
             ],
             [
              0.5555555555555556,
              "#d8576b"
             ],
             [
              0.6666666666666666,
              "#ed7953"
             ],
             [
              0.7777777777777778,
              "#fb9f3a"
             ],
             [
              0.8888888888888888,
              "#fdca26"
             ],
             [
              1,
              "#f0f921"
             ]
            ],
            "type": "histogram2dcontour"
           }
          ],
          "mesh3d": [
           {
            "colorbar": {
             "outlinewidth": 0,
             "ticks": ""
            },
            "type": "mesh3d"
           }
          ],
          "parcoords": [
           {
            "line": {
             "colorbar": {
              "outlinewidth": 0,
              "ticks": ""
             }
            },
            "type": "parcoords"
           }
          ],
          "pie": [
           {
            "automargin": true,
            "type": "pie"
           }
          ],
          "scatter": [
           {
            "marker": {
             "line": {
              "color": "#283442"
             }
            },
            "type": "scatter"
           }
          ],
          "scatter3d": [
           {
            "line": {
             "colorbar": {
              "outlinewidth": 0,
              "ticks": ""
             }
            },
            "marker": {
             "colorbar": {
              "outlinewidth": 0,
              "ticks": ""
             }
            },
            "type": "scatter3d"
           }
          ],
          "scattercarpet": [
           {
            "marker": {
             "colorbar": {
              "outlinewidth": 0,
              "ticks": ""
             }
            },
            "type": "scattercarpet"
           }
          ],
          "scattergeo": [
           {
            "marker": {
             "colorbar": {
              "outlinewidth": 0,
              "ticks": ""
             }
            },
            "type": "scattergeo"
           }
          ],
          "scattergl": [
           {
            "marker": {
             "line": {
              "color": "#283442"
             }
            },
            "type": "scattergl"
           }
          ],
          "scattermapbox": [
           {
            "marker": {
             "colorbar": {
              "outlinewidth": 0,
              "ticks": ""
             }
            },
            "type": "scattermapbox"
           }
          ],
          "scatterpolar": [
           {
            "marker": {
             "colorbar": {
              "outlinewidth": 0,
              "ticks": ""
             }
            },
            "type": "scatterpolar"
           }
          ],
          "scatterpolargl": [
           {
            "marker": {
             "colorbar": {
              "outlinewidth": 0,
              "ticks": ""
             }
            },
            "type": "scatterpolargl"
           }
          ],
          "scatterternary": [
           {
            "marker": {
             "colorbar": {
              "outlinewidth": 0,
              "ticks": ""
             }
            },
            "type": "scatterternary"
           }
          ],
          "surface": [
           {
            "colorbar": {
             "outlinewidth": 0,
             "ticks": ""
            },
            "colorscale": [
             [
              0,
              "#0d0887"
             ],
             [
              0.1111111111111111,
              "#46039f"
             ],
             [
              0.2222222222222222,
              "#7201a8"
             ],
             [
              0.3333333333333333,
              "#9c179e"
             ],
             [
              0.4444444444444444,
              "#bd3786"
             ],
             [
              0.5555555555555556,
              "#d8576b"
             ],
             [
              0.6666666666666666,
              "#ed7953"
             ],
             [
              0.7777777777777778,
              "#fb9f3a"
             ],
             [
              0.8888888888888888,
              "#fdca26"
             ],
             [
              1,
              "#f0f921"
             ]
            ],
            "type": "surface"
           }
          ],
          "table": [
           {
            "cells": {
             "fill": {
              "color": "#506784"
             },
             "line": {
              "color": "rgb(17,17,17)"
             }
            },
            "header": {
             "fill": {
              "color": "#2a3f5f"
             },
             "line": {
              "color": "rgb(17,17,17)"
             }
            },
            "type": "table"
           }
          ]
         },
         "layout": {
          "annotationdefaults": {
           "arrowcolor": "#f2f5fa",
           "arrowhead": 0,
           "arrowwidth": 1
          },
          "autotypenumbers": "strict",
          "coloraxis": {
           "colorbar": {
            "outlinewidth": 0,
            "ticks": ""
           }
          },
          "colorscale": {
           "diverging": [
            [
             0,
             "#8e0152"
            ],
            [
             0.1,
             "#c51b7d"
            ],
            [
             0.2,
             "#de77ae"
            ],
            [
             0.3,
             "#f1b6da"
            ],
            [
             0.4,
             "#fde0ef"
            ],
            [
             0.5,
             "#f7f7f7"
            ],
            [
             0.6,
             "#e6f5d0"
            ],
            [
             0.7,
             "#b8e186"
            ],
            [
             0.8,
             "#7fbc41"
            ],
            [
             0.9,
             "#4d9221"
            ],
            [
             1,
             "#276419"
            ]
           ],
           "sequential": [
            [
             0,
             "#0d0887"
            ],
            [
             0.1111111111111111,
             "#46039f"
            ],
            [
             0.2222222222222222,
             "#7201a8"
            ],
            [
             0.3333333333333333,
             "#9c179e"
            ],
            [
             0.4444444444444444,
             "#bd3786"
            ],
            [
             0.5555555555555556,
             "#d8576b"
            ],
            [
             0.6666666666666666,
             "#ed7953"
            ],
            [
             0.7777777777777778,
             "#fb9f3a"
            ],
            [
             0.8888888888888888,
             "#fdca26"
            ],
            [
             1,
             "#f0f921"
            ]
           ],
           "sequentialminus": [
            [
             0,
             "#0d0887"
            ],
            [
             0.1111111111111111,
             "#46039f"
            ],
            [
             0.2222222222222222,
             "#7201a8"
            ],
            [
             0.3333333333333333,
             "#9c179e"
            ],
            [
             0.4444444444444444,
             "#bd3786"
            ],
            [
             0.5555555555555556,
             "#d8576b"
            ],
            [
             0.6666666666666666,
             "#ed7953"
            ],
            [
             0.7777777777777778,
             "#fb9f3a"
            ],
            [
             0.8888888888888888,
             "#fdca26"
            ],
            [
             1,
             "#f0f921"
            ]
           ]
          },
          "colorway": [
           "#636efa",
           "#EF553B",
           "#00cc96",
           "#ab63fa",
           "#FFA15A",
           "#19d3f3",
           "#FF6692",
           "#B6E880",
           "#FF97FF",
           "#FECB52"
          ],
          "font": {
           "color": "#f2f5fa"
          },
          "geo": {
           "bgcolor": "rgb(17,17,17)",
           "lakecolor": "rgb(17,17,17)",
           "landcolor": "rgb(17,17,17)",
           "showlakes": true,
           "showland": true,
           "subunitcolor": "#506784"
          },
          "hoverlabel": {
           "align": "left"
          },
          "hovermode": "closest",
          "mapbox": {
           "style": "dark"
          },
          "paper_bgcolor": "rgb(17,17,17)",
          "plot_bgcolor": "rgb(17,17,17)",
          "polar": {
           "angularaxis": {
            "gridcolor": "#506784",
            "linecolor": "#506784",
            "ticks": ""
           },
           "bgcolor": "rgb(17,17,17)",
           "radialaxis": {
            "gridcolor": "#506784",
            "linecolor": "#506784",
            "ticks": ""
           }
          },
          "scene": {
           "xaxis": {
            "backgroundcolor": "rgb(17,17,17)",
            "gridcolor": "#506784",
            "gridwidth": 2,
            "linecolor": "#506784",
            "showbackground": true,
            "ticks": "",
            "zerolinecolor": "#C8D4E3"
           },
           "yaxis": {
            "backgroundcolor": "rgb(17,17,17)",
            "gridcolor": "#506784",
            "gridwidth": 2,
            "linecolor": "#506784",
            "showbackground": true,
            "ticks": "",
            "zerolinecolor": "#C8D4E3"
           },
           "zaxis": {
            "backgroundcolor": "rgb(17,17,17)",
            "gridcolor": "#506784",
            "gridwidth": 2,
            "linecolor": "#506784",
            "showbackground": true,
            "ticks": "",
            "zerolinecolor": "#C8D4E3"
           }
          },
          "shapedefaults": {
           "line": {
            "color": "#f2f5fa"
           }
          },
          "sliderdefaults": {
           "bgcolor": "#C8D4E3",
           "bordercolor": "rgb(17,17,17)",
           "borderwidth": 1,
           "tickwidth": 0
          },
          "ternary": {
           "aaxis": {
            "gridcolor": "#506784",
            "linecolor": "#506784",
            "ticks": ""
           },
           "baxis": {
            "gridcolor": "#506784",
            "linecolor": "#506784",
            "ticks": ""
           },
           "bgcolor": "rgb(17,17,17)",
           "caxis": {
            "gridcolor": "#506784",
            "linecolor": "#506784",
            "ticks": ""
           }
          },
          "title": {
           "x": 0.05
          },
          "updatemenudefaults": {
           "bgcolor": "#506784",
           "borderwidth": 0
          },
          "xaxis": {
           "automargin": true,
           "gridcolor": "#283442",
           "linecolor": "#506784",
           "ticks": "",
           "title": {
            "standoff": 15
           },
           "zerolinecolor": "#283442",
           "zerolinewidth": 2
          },
          "yaxis": {
           "automargin": true,
           "gridcolor": "#283442",
           "linecolor": "#506784",
           "ticks": "",
           "title": {
            "standoff": 15
           },
           "zerolinecolor": "#283442",
           "zerolinewidth": 2
          }
         }
        },
        "title": {
         "text": "Lifetime Winning Percentage By City"
        },
        "yaxis": {
         "title": {
          "text": "Winning Percentage"
         }
        }
       }
      }
     },
     "metadata": {},
     "output_type": "display_data"
    }
   ],
   "source": [
    "fig = go.Figure()\n",
    "\n",
    "SEASONS_THRESH = 40\n",
    "places_to_include = df.groupby('area').sport.count().reset_index()\n",
    "places_to_include = set(places_to_include[places_to_include.sport > SEASONS_THRESH].area)\n",
    "\n",
    "temp_df = df.groupby([\"area\"]).win_pct.mean().reset_index()\n",
    "temp_df = temp_df[temp_df.area.isin(places_to_include)].sort_values(\"win_pct\", ascending=False)\n",
    "\n",
    "def temp(df):\n",
    "    acc = \"\"\n",
    "    for i, row in df.iterrows():\n",
    "        acc += row.team_name + \": \" + str(row.win_pct)[:5] + \"<br>\"\n",
    "    return acc\n",
    "\n",
    "average_performances = df.groupby([\"area\", \"team_name\"]).win_pct.mean().reset_index().groupby(\"area\").apply(temp).reset_index()\n",
    "\n",
    "temp_df = temp_df.merge(average_performances, on=\"area\")\n",
    "customdata = temp_df[0].tolist()\n",
    "fig = go.Figure()\n",
    "\n",
    "\n",
    "\n",
    "fig.add_trace(go.Bar(\n",
    "    x=temp_df.area.tolist(),\n",
    "    y=temp_df.win_pct.tolist(),\n",
    "    text=[str(x)[:5] for x in temp_df.win_pct.tolist()]))\n",
    "hovertemplate = ('<br><b>Area</b>: %{x}<br>'+\n",
    "    '<b>Winning Pct.</b>: %{y:.2f}<br>'+\n",
    "    '%{customdata}' +\n",
    "    '<extra></extra>')\n",
    "\n",
    "\n",
    "fig.update_traces(customdata=customdata, hovertemplate=hovertemplate)\n",
    "fig.update_layout(\n",
    "    title=\"Lifetime Winning Percentage By City\",\n",
    "    yaxis_title=\"Winning Percentage\",\n",
    ")\n",
    "fig.write_html(os.path.join(output_dir,\"alltime_bar.html\"))\n",
    "fig.show()"
   ]
  },
  {
   "cell_type": "markdown",
   "metadata": {},
   "source": []
  },
  {
   "attachments": {},
   "cell_type": "markdown",
   "metadata": {},
   "source": [
    "### Largest Improvements and Declines"
   ]
  },
  {
   "cell_type": "code",
   "execution_count": null,
   "metadata": {},
   "outputs": [],
   "source": []
  },
  {
   "attachments": {},
   "cell_type": "markdown",
   "metadata": {},
   "source": [
    "# Winning PCT"
   ]
  },
  {
   "cell_type": "code",
   "execution_count": 8,
   "metadata": {},
   "outputs": [
    {
     "name": "stdout",
     "output_type": "stream",
     "text": [
      "Mean win pct is 0.4883278372078791\n",
      "Std dev is 0.15160039855772944\n"
     ]
    }
   ],
   "source": [
    "fig = px.histogram(df, x=\"win_pct\", nbins=30)\n",
    "fig.update_layout(\n",
    "    title=\"Histogram of Winning Percentages\",\n",
    "    xaxis_title=\"Winning Percentage\",\n",
    "    yaxis_title=\"# Seasons\",\n",
    ")\n",
    "fig.write_image(os.path.join(output_dir,\"hist.jpeg\"))\n",
    "print(f\"Mean win pct is {df.win_pct.mean()}\")\n",
    "print(f\"Std dev is {df.win_pct.std()}\")"
   ]
  }
 ],
 "metadata": {
  "kernelspec": {
   "display_name": "Python 3",
   "language": "python",
   "name": "python3"
  },
  "language_info": {
   "codemirror_mode": {
    "name": "ipython",
    "version": 3
   },
   "file_extension": ".py",
   "mimetype": "text/x-python",
   "name": "python",
   "nbconvert_exporter": "python",
   "pygments_lexer": "ipython3",
   "version": "3.11.0"
  },
  "orig_nbformat": 4,
  "vscode": {
   "interpreter": {
    "hash": "aee8b7b246df8f9039afb4144a1f6fd8d2ca17a180786b69acc140d282b71a49"
   }
  }
 },
 "nbformat": 4,
 "nbformat_minor": 2
}
